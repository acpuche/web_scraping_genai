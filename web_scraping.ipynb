{
  "cells": [
    {
      "cell_type": "markdown",
      "metadata": {
        "id": "view-in-github",
        "colab_type": "text"
      },
      "source": [
        "<a href=\"https://colab.research.google.com/github/acpuche/web_scraping_genai/blob/parsing/web_scraping.ipynb\" target=\"_parent\"><img src=\"https://colab.research.google.com/assets/colab-badge.svg\" alt=\"Open In Colab\"/></a>"
      ]
    },
    {
      "cell_type": "markdown",
      "id": "1bebf6d5",
      "metadata": {
        "id": "1bebf6d5"
      },
      "source": [
        "# setup"
      ]
    },
    {
      "cell_type": "code",
      "source": [
        "#Requirements\n",
        "#!pip install asyncio==3.4.3\n",
        "#!pip install Crawl4AI==0.6.3\n",
        "#!pip install Unidecode==1.4.0\n",
        "\n",
        "#!pip install fastmcp==2.9.0\n",
        "\n",
        "# run playwright install\n",
        "\n",
        "!pip install -r /content/requirements.txt -q"
      ],
      "metadata": {
        "id": "2qlyBhHu0phW",
        "colab": {
          "base_uri": "https://localhost:8080/"
        },
        "outputId": "3f08b8ef-ef3b-484f-fb83-c0ff79560ec2",
        "collapsed": true
      },
      "id": "2qlyBhHu0phW",
      "execution_count": 6,
      "outputs": [
        {
          "output_type": "stream",
          "name": "stdout",
          "text": [
            "\u001b[?25l   \u001b[90m━━━━━━━━━━━━━━━━━━━━━━━━━━━━━━━━━━━━━━━━\u001b[0m \u001b[32m0.0/101.8 kB\u001b[0m \u001b[31m?\u001b[0m eta \u001b[36m-:--:--\u001b[0m\r\u001b[2K   \u001b[90m━━━━━━━━━━━━━━━━━━━━━━━━━━━━━━━━━━━━━━━━\u001b[0m \u001b[32m101.8/101.8 kB\u001b[0m \u001b[31m3.7 MB/s\u001b[0m eta \u001b[36m0:00:00\u001b[0m\n",
            "\u001b[2K   \u001b[90m━━━━━━━━━━━━━━━━━━━━━━━━━━━━━━━━━━━━━━━━\u001b[0m \u001b[32m292.8/292.8 kB\u001b[0m \u001b[31m12.1 MB/s\u001b[0m eta \u001b[36m0:00:00\u001b[0m\n",
            "\u001b[2K   \u001b[90m━━━━━━━━━━━━━━━━━━━━━━━━━━━━━━━━━━━━━━━━\u001b[0m \u001b[32m235.8/235.8 kB\u001b[0m \u001b[31m15.4 MB/s\u001b[0m eta \u001b[36m0:00:00\u001b[0m\n",
            "\u001b[2K   \u001b[90m━━━━━━━━━━━━━━━━━━━━━━━━━━━━━━━━━━━━━━━━\u001b[0m \u001b[32m2.9/2.9 MB\u001b[0m \u001b[31m51.4 MB/s\u001b[0m eta \u001b[36m0:00:00\u001b[0m\n",
            "\u001b[2K   \u001b[90m━━━━━━━━━━━━━━━━━━━━━━━━━━━━━━━━━━━━━━━━\u001b[0m \u001b[32m161.7/161.7 kB\u001b[0m \u001b[31m13.3 MB/s\u001b[0m eta \u001b[36m0:00:00\u001b[0m\n",
            "\u001b[2K   \u001b[90m━━━━━━━━━━━━━━━━━━━━━━━━━━━━━━━━━━━━━━━━\u001b[0m \u001b[32m8.5/8.5 MB\u001b[0m \u001b[31m91.9 MB/s\u001b[0m eta \u001b[36m0:00:00\u001b[0m\n",
            "\u001b[2K   \u001b[90m━━━━━━━━━━━━━━━━━━━━━━━━━━━━━━━━━━━━━━━━\u001b[0m \u001b[32m4.5/4.5 MB\u001b[0m \u001b[31m81.1 MB/s\u001b[0m eta \u001b[36m0:00:00\u001b[0m\n",
            "\u001b[2K   \u001b[90m━━━━━━━━━━━━━━━━━━━━━━━━━━━━━━━━━━━━━━━━\u001b[0m \u001b[32m45.8/45.8 MB\u001b[0m \u001b[31m17.7 MB/s\u001b[0m eta \u001b[36m0:00:00\u001b[0m\n",
            "\u001b[2K   \u001b[90m━━━━━━━━━━━━━━━━━━━━━━━━━━━━━━━━━━━━━━━━\u001b[0m \u001b[32m278.0/278.0 kB\u001b[0m \u001b[31m19.0 MB/s\u001b[0m eta \u001b[36m0:00:00\u001b[0m\n",
            "\u001b[2K   \u001b[90m━━━━━━━━━━━━━━━━━━━━━━━━━━━━━━━━━━━━━━━━\u001b[0m \u001b[32m56.8/56.8 kB\u001b[0m \u001b[31m3.5 MB/s\u001b[0m eta \u001b[36m0:00:00\u001b[0m\n",
            "\u001b[2K   \u001b[90m━━━━━━━━━━━━━━━━━━━━━━━━━━━━━━━━━━━━━━━━\u001b[0m \u001b[32m93.0/93.0 kB\u001b[0m \u001b[31m6.8 MB/s\u001b[0m eta \u001b[36m0:00:00\u001b[0m\n",
            "\u001b[?25h\u001b[31mERROR: pip's dependency resolver does not currently take into account all the packages that are installed. This behaviour is the source of the following dependency conflicts.\n",
            "pydrive2 1.21.3 requires pyOpenSSL<=24.2.1,>=19.1.0, but you have pyopenssl 25.1.0 which is incompatible.\u001b[0m\u001b[31m\n",
            "\u001b[0m"
          ]
        }
      ]
    },
    {
      "cell_type": "code",
      "source": [
        "!playwright install"
      ],
      "metadata": {
        "colab": {
          "base_uri": "https://localhost:8080/"
        },
        "collapsed": true,
        "id": "qW8kmNa2KRWg",
        "outputId": "18b05b72-115f-4928-e15e-342edb1253a7"
      },
      "id": "qW8kmNa2KRWg",
      "execution_count": 10,
      "outputs": [
        {
          "output_type": "stream",
          "name": "stdout",
          "text": [
            "Downloading Chromium 138.0.7204.23 (playwright build v1179)\u001b[2m from https://cdn.playwright.dev/dbazure/download/playwright/builds/chromium/1179/chromium-linux.zip\u001b[22m\n",
            "\u001b[1G171.6 MiB [] 0% 11.4s\u001b[0K\u001b[1G171.6 MiB [] 0% 50.1s\u001b[0K\u001b[1G171.6 MiB [] 0% 25.5s\u001b[0K\u001b[1G171.6 MiB [] 0% 16.1s\u001b[0K\u001b[1G171.6 MiB [] 0% 9.1s\u001b[0K\u001b[1G171.6 MiB [] 1% 5.9s\u001b[0K\u001b[1G171.6 MiB [] 1% 5.3s\u001b[0K\u001b[1G171.6 MiB [] 2% 4.3s\u001b[0K\u001b[1G171.6 MiB [] 3% 3.7s\u001b[0K\u001b[1G171.6 MiB [] 4% 3.2s\u001b[0K\u001b[1G171.6 MiB [] 5% 3.0s\u001b[0K\u001b[1G171.6 MiB [] 5% 3.2s\u001b[0K\u001b[1G171.6 MiB [] 6% 3.1s\u001b[0K\u001b[1G171.6 MiB [] 6% 3.2s\u001b[0K\u001b[1G171.6 MiB [] 6% 3.3s\u001b[0K\u001b[1G171.6 MiB [] 7% 3.2s\u001b[0K\u001b[1G171.6 MiB [] 8% 3.3s\u001b[0K\u001b[1G171.6 MiB [] 8% 3.2s\u001b[0K\u001b[1G171.6 MiB [] 9% 3.2s\u001b[0K\u001b[1G171.6 MiB [] 9% 3.3s\u001b[0K\u001b[1G171.6 MiB [] 10% 3.2s\u001b[0K\u001b[1G171.6 MiB [] 10% 3.1s\u001b[0K\u001b[1G171.6 MiB [] 11% 3.2s\u001b[0K\u001b[1G171.6 MiB [] 11% 3.1s\u001b[0K\u001b[1G171.6 MiB [] 12% 3.1s\u001b[0K\u001b[1G171.6 MiB [] 13% 3.0s\u001b[0K\u001b[1G171.6 MiB [] 14% 3.0s\u001b[0K\u001b[1G171.6 MiB [] 14% 2.9s\u001b[0K\u001b[1G171.6 MiB [] 15% 2.8s\u001b[0K\u001b[1G171.6 MiB [] 16% 2.8s\u001b[0K\u001b[1G171.6 MiB [] 17% 2.7s\u001b[0K\u001b[1G171.6 MiB [] 18% 2.6s\u001b[0K\u001b[1G171.6 MiB [] 19% 2.6s\u001b[0K\u001b[1G171.6 MiB [] 19% 2.5s\u001b[0K\u001b[1G171.6 MiB [] 19% 2.6s\u001b[0K\u001b[1G171.6 MiB [] 20% 2.5s\u001b[0K\u001b[1G171.6 MiB [] 21% 2.5s\u001b[0K\u001b[1G171.6 MiB [] 22% 2.4s\u001b[0K\u001b[1G171.6 MiB [] 22% 2.5s\u001b[0K\u001b[1G171.6 MiB [] 22% 2.6s\u001b[0K\u001b[1G171.6 MiB [] 23% 2.4s\u001b[0K\u001b[1G171.6 MiB [] 24% 2.4s\u001b[0K\u001b[1G171.6 MiB [] 25% 2.3s\u001b[0K\u001b[1G171.6 MiB [] 26% 2.3s\u001b[0K\u001b[1G171.6 MiB [] 27% 2.2s\u001b[0K\u001b[1G171.6 MiB [] 28% 2.2s\u001b[0K\u001b[1G171.6 MiB [] 29% 2.1s\u001b[0K\u001b[1G171.6 MiB [] 30% 2.0s\u001b[0K\u001b[1G171.6 MiB [] 31% 2.0s\u001b[0K\u001b[1G171.6 MiB [] 32% 1.9s\u001b[0K\u001b[1G171.6 MiB [] 34% 1.8s\u001b[0K\u001b[1G171.6 MiB [] 35% 1.8s\u001b[0K\u001b[1G171.6 MiB [] 36% 1.7s\u001b[0K\u001b[1G171.6 MiB [] 37% 1.7s\u001b[0K\u001b[1G171.6 MiB [] 38% 1.6s\u001b[0K\u001b[1G171.6 MiB [] 40% 1.6s\u001b[0K\u001b[1G171.6 MiB [] 41% 1.5s\u001b[0K\u001b[1G171.6 MiB [] 42% 1.5s\u001b[0K\u001b[1G171.6 MiB [] 42% 1.4s\u001b[0K\u001b[1G171.6 MiB [] 44% 1.4s\u001b[0K\u001b[1G171.6 MiB [] 45% 1.4s\u001b[0K\u001b[1G171.6 MiB [] 46% 1.3s\u001b[0K\u001b[1G171.6 MiB [] 47% 1.3s\u001b[0K\u001b[1G171.6 MiB [] 48% 1.2s\u001b[0K\u001b[1G171.6 MiB [] 49% 1.2s\u001b[0K\u001b[1G171.6 MiB [] 50% 1.2s\u001b[0K\u001b[1G171.6 MiB [] 52% 1.1s\u001b[0K\u001b[1G171.6 MiB [] 53% 1.1s\u001b[0K\u001b[1G171.6 MiB [] 54% 1.1s\u001b[0K\u001b[1G171.6 MiB [] 55% 1.0s\u001b[0K\u001b[1G171.6 MiB [] 56% 1.0s\u001b[0K\u001b[1G171.6 MiB [] 57% 1.0s\u001b[0K\u001b[1G171.6 MiB [] 58% 1.0s\u001b[0K\u001b[1G171.6 MiB [] 59% 0.9s\u001b[0K\u001b[1G171.6 MiB [] 60% 0.9s\u001b[0K\u001b[1G171.6 MiB [] 61% 0.9s\u001b[0K\u001b[1G171.6 MiB [] 62% 0.9s\u001b[0K\u001b[1G171.6 MiB [] 62% 0.8s\u001b[0K\u001b[1G171.6 MiB [] 63% 0.8s\u001b[0K\u001b[1G171.6 MiB [] 64% 0.8s\u001b[0K\u001b[1G171.6 MiB [] 65% 0.8s\u001b[0K\u001b[1G171.6 MiB [] 66% 0.8s\u001b[0K\u001b[1G171.6 MiB [] 67% 0.8s\u001b[0K\u001b[1G171.6 MiB [] 67% 0.7s\u001b[0K\u001b[1G171.6 MiB [] 68% 0.7s\u001b[0K\u001b[1G171.6 MiB [] 69% 0.7s\u001b[0K\u001b[1G171.6 MiB [] 70% 0.7s\u001b[0K\u001b[1G171.6 MiB [] 71% 0.7s\u001b[0K\u001b[1G171.6 MiB [] 72% 0.6s\u001b[0K\u001b[1G171.6 MiB [] 73% 0.6s\u001b[0K\u001b[1G171.6 MiB [] 74% 0.6s\u001b[0K\u001b[1G171.6 MiB [] 75% 0.6s\u001b[0K\u001b[1G171.6 MiB [] 76% 0.5s\u001b[0K\u001b[1G171.6 MiB [] 77% 0.5s\u001b[0K\u001b[1G171.6 MiB [] 78% 0.5s\u001b[0K\u001b[1G171.6 MiB [] 79% 0.5s\u001b[0K\u001b[1G171.6 MiB [] 80% 0.5s\u001b[0K\u001b[1G171.6 MiB [] 81% 0.4s\u001b[0K\u001b[1G171.6 MiB [] 82% 0.4s\u001b[0K\u001b[1G171.6 MiB [] 83% 0.4s\u001b[0K\u001b[1G171.6 MiB [] 84% 0.4s\u001b[0K\u001b[1G171.6 MiB [] 84% 0.3s\u001b[0K\u001b[1G171.6 MiB [] 85% 0.3s\u001b[0K\u001b[1G171.6 MiB [] 86% 0.3s\u001b[0K\u001b[1G171.6 MiB [] 87% 0.3s\u001b[0K\u001b[1G171.6 MiB [] 88% 0.3s\u001b[0K\u001b[1G171.6 MiB [] 89% 0.2s\u001b[0K\u001b[1G171.6 MiB [] 90% 0.2s\u001b[0K\u001b[1G171.6 MiB [] 91% 0.2s\u001b[0K\u001b[1G171.6 MiB [] 92% 0.2s\u001b[0K\u001b[1G171.6 MiB [] 93% 0.1s\u001b[0K\u001b[1G171.6 MiB [] 95% 0.1s\u001b[0K\u001b[1G171.6 MiB [] 96% 0.1s\u001b[0K\u001b[1G171.6 MiB [] 97% 0.1s\u001b[0K\u001b[1G171.6 MiB [] 97% 0.0s\u001b[0K\u001b[1G171.6 MiB [] 98% 0.0s\u001b[0K\u001b[1G171.6 MiB [] 99% 0.0s\u001b[0K\u001b[1G171.6 MiB [] 100% 0.0s\u001b[0K\n",
            "Chromium 138.0.7204.23 (playwright build v1179) downloaded to /root/.cache/ms-playwright/chromium-1179\n",
            "Downloading Chromium Headless Shell 138.0.7204.23 (playwright build v1179)\u001b[2m from https://cdn.playwright.dev/dbazure/download/playwright/builds/chromium/1179/chromium-headless-shell-linux.zip\u001b[22m\n",
            "\u001b[1G104.5 MiB [] 0% 0.0s\u001b[0K\u001b[1G104.5 MiB [] 0% 28.9s\u001b[0K\u001b[1G104.5 MiB [] 0% 21.7s\u001b[0K\u001b[1G104.5 MiB [] 0% 12.1s\u001b[0K\u001b[1G104.5 MiB [] 0% 18.2s\u001b[0K\u001b[1G104.5 MiB [] 0% 20.8s\u001b[0K\u001b[1G104.5 MiB [] 0% 24.5s\u001b[0K\u001b[1G104.5 MiB [] 0% 26.9s\u001b[0K\u001b[1G104.5 MiB [] 0% 30.1s\u001b[0K\u001b[1G104.5 MiB [] 0% 32.6s\u001b[0K\u001b[1G104.5 MiB [] 0% 34.3s\u001b[0K\u001b[1G104.5 MiB [] 0% 36.0s\u001b[0K\u001b[1G104.5 MiB [] 1% 37.6s\u001b[0K\u001b[1G104.5 MiB [] 1% 38.4s\u001b[0K\u001b[1G104.5 MiB [] 1% 39.5s\u001b[0K\u001b[1G104.5 MiB [] 1% 40.8s\u001b[0K\u001b[1G104.5 MiB [] 1% 41.9s\u001b[0K\u001b[1G104.5 MiB [] 1% 42.5s\u001b[0K\u001b[1G104.5 MiB [] 1% 43.2s\u001b[0K\u001b[1G104.5 MiB [] 1% 44.0s\u001b[0K\u001b[1G104.5 MiB [] 1% 44.3s\u001b[0K\u001b[1G104.5 MiB [] 1% 44.7s\u001b[0K\u001b[1G104.5 MiB [] 1% 45.5s\u001b[0K\u001b[1G104.5 MiB [] 1% 45.9s\u001b[0K\u001b[1G104.5 MiB [] 1% 46.1s\u001b[0K\u001b[1G104.5 MiB [] 1% 46.7s\u001b[0K\u001b[1G104.5 MiB [] 1% 47.1s\u001b[0K\u001b[1G104.5 MiB [] 2% 47.3s\u001b[0K\u001b[1G104.5 MiB [] 2% 47.5s\u001b[0K\u001b[1G104.5 MiB [] 2% 48.0s\u001b[0K\u001b[1G104.5 MiB [] 2% 48.2s\u001b[0K\u001b[1G104.5 MiB [] 2% 48.4s\u001b[0K\u001b[1G104.5 MiB [] 2% 48.6s\u001b[0K\u001b[1G104.5 MiB [] 2% 48.9s\u001b[0K\u001b[1G104.5 MiB [] 2% 49.0s\u001b[0K\u001b[1G104.5 MiB [] 2% 49.1s\u001b[0K\u001b[1G104.5 MiB [] 2% 49.5s\u001b[0K\u001b[1G104.5 MiB [] 2% 49.6s\u001b[0K\u001b[1G104.5 MiB [] 2% 49.8s\u001b[0K\u001b[1G104.5 MiB [] 2% 49.9s\u001b[0K\u001b[1G104.5 MiB [] 2% 50.2s\u001b[0K\u001b[1G104.5 MiB [] 3% 50.1s\u001b[0K\u001b[1G104.5 MiB [] 3% 50.2s\u001b[0K\u001b[1G104.5 MiB [] 3% 50.4s\u001b[0K\u001b[1G104.5 MiB [] 3% 50.6s\u001b[0K\u001b[1G104.5 MiB [] 3% 50.7s\u001b[0K\u001b[1G104.5 MiB [] 3% 50.8s\u001b[0K\u001b[1G104.5 MiB [] 5% 34.7s\u001b[0K\u001b[1G104.5 MiB [] 5% 33.8s\u001b[0K\u001b[1G104.5 MiB [] 5% 33.4s\u001b[0K\u001b[1G104.5 MiB [] 5% 33.0s\u001b[0K\u001b[1G104.5 MiB [] 5% 32.6s\u001b[0K\u001b[1G104.5 MiB [] 5% 31.9s\u001b[0K\u001b[1G104.5 MiB [] 6% 31.2s\u001b[0K\u001b[1G104.5 MiB [] 6% 30.3s\u001b[0K\u001b[1G104.5 MiB [] 6% 29.2s\u001b[0K\u001b[1G104.5 MiB [] 6% 28.0s\u001b[0K\u001b[1G104.5 MiB [] 7% 26.8s\u001b[0K\u001b[1G104.5 MiB [] 7% 25.3s\u001b[0K\u001b[1G104.5 MiB [] 8% 23.8s\u001b[0K\u001b[1G104.5 MiB [] 8% 22.3s\u001b[0K\u001b[1G104.5 MiB [] 10% 19.2s\u001b[0K\u001b[1G104.5 MiB [] 11% 17.3s\u001b[0K\u001b[1G104.5 MiB [] 12% 16.1s\u001b[0K\u001b[1G104.5 MiB [] 12% 15.0s\u001b[0K\u001b[1G104.5 MiB [] 13% 14.0s\u001b[0K\u001b[1G104.5 MiB [] 14% 13.2s\u001b[0K\u001b[1G104.5 MiB [] 15% 12.2s\u001b[0K\u001b[1G104.5 MiB [] 17% 10.7s\u001b[0K\u001b[1G104.5 MiB [] 18% 10.5s\u001b[0K\u001b[1G104.5 MiB [] 19% 9.4s\u001b[0K\u001b[1G104.5 MiB [] 21% 8.6s\u001b[0K\u001b[1G104.5 MiB [] 23% 7.8s\u001b[0K\u001b[1G104.5 MiB [] 24% 7.2s\u001b[0K\u001b[1G104.5 MiB [] 25% 6.8s\u001b[0K\u001b[1G104.5 MiB [] 28% 6.1s\u001b[0K\u001b[1G104.5 MiB [] 30% 5.6s\u001b[0K\u001b[1G104.5 MiB [] 31% 5.2s\u001b[0K\u001b[1G104.5 MiB [] 33% 4.8s\u001b[0K\u001b[1G104.5 MiB [] 35% 4.5s\u001b[0K\u001b[1G104.5 MiB [] 35% 4.4s\u001b[0K\u001b[1G104.5 MiB [] 38% 4.0s\u001b[0K\u001b[1G104.5 MiB [] 40% 3.6s\u001b[0K\u001b[1G104.5 MiB [] 42% 3.4s\u001b[0K\u001b[1G104.5 MiB [] 45% 3.1s\u001b[0K\u001b[1G104.5 MiB [] 47% 2.8s\u001b[0K\u001b[1G104.5 MiB [] 50% 2.6s\u001b[0K\u001b[1G104.5 MiB [] 52% 2.4s\u001b[0K\u001b[1G104.5 MiB [] 53% 2.3s\u001b[0K\u001b[1G104.5 MiB [] 55% 2.1s\u001b[0K\u001b[1G104.5 MiB [] 57% 1.9s\u001b[0K\u001b[1G104.5 MiB [] 59% 1.8s\u001b[0K\u001b[1G104.5 MiB [] 61% 1.6s\u001b[0K\u001b[1G104.5 MiB [] 63% 1.6s\u001b[0K\u001b[1G104.5 MiB [] 65% 1.4s\u001b[0K\u001b[1G104.5 MiB [] 68% 1.2s\u001b[0K\u001b[1G104.5 MiB [] 70% 1.1s\u001b[0K\u001b[1G104.5 MiB [] 73% 1.0s\u001b[0K\u001b[1G104.5 MiB [] 76% 0.9s\u001b[0K\u001b[1G104.5 MiB [] 78% 0.8s\u001b[0K\u001b[1G104.5 MiB [] 80% 0.7s\u001b[0K\u001b[1G104.5 MiB [] 83% 0.6s\u001b[0K\u001b[1G104.5 MiB [] 86% 0.5s\u001b[0K\u001b[1G104.5 MiB [] 88% 0.4s\u001b[0K\u001b[1G104.5 MiB [] 91% 0.3s\u001b[0K\u001b[1G104.5 MiB [] 92% 0.2s\u001b[0K\u001b[1G104.5 MiB [] 94% 0.2s\u001b[0K\u001b[1G104.5 MiB [] 96% 0.1s\u001b[0K\u001b[1G104.5 MiB [] 99% 0.0s\u001b[0K\u001b[1G104.5 MiB [] 100% 0.0s\u001b[0K\n",
            "Chromium Headless Shell 138.0.7204.23 (playwright build v1179) downloaded to /root/.cache/ms-playwright/chromium_headless_shell-1179\n",
            "Downloading Firefox 139.0 (playwright build v1488)\u001b[2m from https://cdn.playwright.dev/dbazure/download/playwright/builds/firefox/1488/firefox-ubuntu-22.04.zip\u001b[22m\n",
            "\u001b[1G92.3 MiB [] 0% 0.0s\u001b[0K\u001b[1G92.3 MiB [] 0% 21.4s\u001b[0K\u001b[1G92.3 MiB [] 0% 19.3s\u001b[0K\u001b[1G92.3 MiB [] 0% 7.0s\u001b[0K\u001b[1G92.3 MiB [] 1% 4.5s\u001b[0K\u001b[1G92.3 MiB [] 2% 3.4s\u001b[0K\u001b[1G92.3 MiB [] 3% 2.8s\u001b[0K\u001b[1G92.3 MiB [] 4% 2.6s\u001b[0K\u001b[1G92.3 MiB [] 5% 2.7s\u001b[0K\u001b[1G92.3 MiB [] 6% 2.4s\u001b[0K\u001b[1G92.3 MiB [] 7% 2.2s\u001b[0K\u001b[1G92.3 MiB [] 8% 2.1s\u001b[0K\u001b[1G92.3 MiB [] 9% 2.0s\u001b[0K\u001b[1G92.3 MiB [] 10% 2.1s\u001b[0K\u001b[1G92.3 MiB [] 10% 2.2s\u001b[0K\u001b[1G92.3 MiB [] 11% 2.1s\u001b[0K\u001b[1G92.3 MiB [] 12% 2.2s\u001b[0K\u001b[1G92.3 MiB [] 13% 2.0s\u001b[0K\u001b[1G92.3 MiB [] 14% 2.0s\u001b[0K\u001b[1G92.3 MiB [] 15% 2.0s\u001b[0K\u001b[1G92.3 MiB [] 16% 1.9s\u001b[0K\u001b[1G92.3 MiB [] 17% 1.8s\u001b[0K\u001b[1G92.3 MiB [] 18% 1.8s\u001b[0K\u001b[1G92.3 MiB [] 19% 1.7s\u001b[0K\u001b[1G92.3 MiB [] 20% 1.8s\u001b[0K\u001b[1G92.3 MiB [] 21% 1.7s\u001b[0K\u001b[1G92.3 MiB [] 23% 1.6s\u001b[0K\u001b[1G92.3 MiB [] 24% 1.5s\u001b[0K\u001b[1G92.3 MiB [] 26% 1.5s\u001b[0K\u001b[1G92.3 MiB [] 27% 1.4s\u001b[0K\u001b[1G92.3 MiB [] 28% 1.4s\u001b[0K\u001b[1G92.3 MiB [] 30% 1.3s\u001b[0K\u001b[1G92.3 MiB [] 32% 1.2s\u001b[0K\u001b[1G92.3 MiB [] 33% 1.2s\u001b[0K\u001b[1G92.3 MiB [] 34% 1.2s\u001b[0K\u001b[1G92.3 MiB [] 36% 1.1s\u001b[0K\u001b[1G92.3 MiB [] 37% 1.1s\u001b[0K\u001b[1G92.3 MiB [] 39% 1.0s\u001b[0K\u001b[1G92.3 MiB [] 40% 1.0s\u001b[0K\u001b[1G92.3 MiB [] 40% 1.1s\u001b[0K\u001b[1G92.3 MiB [] 41% 1.0s\u001b[0K\u001b[1G92.3 MiB [] 43% 1.0s\u001b[0K\u001b[1G92.3 MiB [] 45% 0.9s\u001b[0K\u001b[1G92.3 MiB [] 47% 0.9s\u001b[0K\u001b[1G92.3 MiB [] 48% 0.9s\u001b[0K\u001b[1G92.3 MiB [] 50% 0.8s\u001b[0K\u001b[1G92.3 MiB [] 51% 0.8s\u001b[0K\u001b[1G92.3 MiB [] 52% 0.8s\u001b[0K\u001b[1G92.3 MiB [] 54% 0.7s\u001b[0K\u001b[1G92.3 MiB [] 55% 0.7s\u001b[0K\u001b[1G92.3 MiB [] 56% 0.7s\u001b[0K\u001b[1G92.3 MiB [] 57% 0.7s\u001b[0K\u001b[1G92.3 MiB [] 58% 0.7s\u001b[0K\u001b[1G92.3 MiB [] 59% 0.7s\u001b[0K\u001b[1G92.3 MiB [] 60% 0.7s\u001b[0K\u001b[1G92.3 MiB [] 62% 0.6s\u001b[0K\u001b[1G92.3 MiB [] 63% 0.6s\u001b[0K\u001b[1G92.3 MiB [] 64% 0.6s\u001b[0K\u001b[1G92.3 MiB [] 65% 0.6s\u001b[0K\u001b[1G92.3 MiB [] 67% 0.5s\u001b[0K\u001b[1G92.3 MiB [] 69% 0.5s\u001b[0K\u001b[1G92.3 MiB [] 71% 0.5s\u001b[0K\u001b[1G92.3 MiB [] 72% 0.4s\u001b[0K\u001b[1G92.3 MiB [] 74% 0.4s\u001b[0K\u001b[1G92.3 MiB [] 75% 0.4s\u001b[0K\u001b[1G92.3 MiB [] 77% 0.3s\u001b[0K\u001b[1G92.3 MiB [] 79% 0.3s\u001b[0K\u001b[1G92.3 MiB [] 80% 0.3s\u001b[0K\u001b[1G92.3 MiB [] 82% 0.3s\u001b[0K\u001b[1G92.3 MiB [] 84% 0.2s\u001b[0K\u001b[1G92.3 MiB [] 85% 0.2s\u001b[0K\u001b[1G92.3 MiB [] 87% 0.2s\u001b[0K\u001b[1G92.3 MiB [] 89% 0.1s\u001b[0K\u001b[1G92.3 MiB [] 91% 0.1s\u001b[0K\u001b[1G92.3 MiB [] 93% 0.1s\u001b[0K\u001b[1G92.3 MiB [] 95% 0.1s\u001b[0K\u001b[1G92.3 MiB [] 97% 0.0s\u001b[0K\u001b[1G92.3 MiB [] 98% 0.0s\u001b[0K\u001b[1G92.3 MiB [] 99% 0.0s\u001b[0K\u001b[1G92.3 MiB [] 100% 0.0s\u001b[0K\n",
            "Firefox 139.0 (playwright build v1488) downloaded to /root/.cache/ms-playwright/firefox-1488\n",
            "Downloading Webkit 18.5 (playwright build v2182)\u001b[2m from https://cdn.playwright.dev/dbazure/download/playwright/builds/webkit/2182/webkit-ubuntu-22.04.zip\u001b[22m\n",
            "\u001b[1G93.7 MiB [] 0% 0.0s\u001b[0K\u001b[1G93.7 MiB [] 0% 27.3s\u001b[0K\u001b[1G93.7 MiB [] 0% 21.9s\u001b[0K\u001b[1G93.7 MiB [] 0% 8.5s\u001b[0K\u001b[1G93.7 MiB [] 1% 4.9s\u001b[0K\u001b[1G93.7 MiB [] 2% 3.5s\u001b[0K\u001b[1G93.7 MiB [] 3% 2.7s\u001b[0K\u001b[1G93.7 MiB [] 4% 2.3s\u001b[0K\u001b[1G93.7 MiB [] 6% 2.0s\u001b[0K\u001b[1G93.7 MiB [] 7% 1.7s\u001b[0K\u001b[1G93.7 MiB [] 9% 1.7s\u001b[0K\u001b[1G93.7 MiB [] 10% 1.8s\u001b[0K\u001b[1G93.7 MiB [] 11% 1.9s\u001b[0K\u001b[1G93.7 MiB [] 12% 1.8s\u001b[0K\u001b[1G93.7 MiB [] 13% 1.7s\u001b[0K\u001b[1G93.7 MiB [] 14% 1.7s\u001b[0K\u001b[1G93.7 MiB [] 16% 1.6s\u001b[0K\u001b[1G93.7 MiB [] 17% 1.6s\u001b[0K\u001b[1G93.7 MiB [] 18% 1.6s\u001b[0K\u001b[1G93.7 MiB [] 19% 1.5s\u001b[0K\u001b[1G93.7 MiB [] 20% 1.5s\u001b[0K\u001b[1G93.7 MiB [] 21% 1.5s\u001b[0K\u001b[1G93.7 MiB [] 21% 1.6s\u001b[0K\u001b[1G93.7 MiB [] 22% 1.6s\u001b[0K\u001b[1G93.7 MiB [] 23% 1.5s\u001b[0K\u001b[1G93.7 MiB [] 24% 1.5s\u001b[0K\u001b[1G93.7 MiB [] 26% 1.4s\u001b[0K\u001b[1G93.7 MiB [] 27% 1.4s\u001b[0K\u001b[1G93.7 MiB [] 28% 1.4s\u001b[0K\u001b[1G93.7 MiB [] 29% 1.3s\u001b[0K\u001b[1G93.7 MiB [] 30% 1.3s\u001b[0K\u001b[1G93.7 MiB [] 32% 1.2s\u001b[0K\u001b[1G93.7 MiB [] 33% 1.2s\u001b[0K\u001b[1G93.7 MiB [] 34% 1.2s\u001b[0K\u001b[1G93.7 MiB [] 35% 1.1s\u001b[0K\u001b[1G93.7 MiB [] 36% 1.1s\u001b[0K\u001b[1G93.7 MiB [] 37% 1.1s\u001b[0K\u001b[1G93.7 MiB [] 38% 1.1s\u001b[0K\u001b[1G93.7 MiB [] 40% 1.0s\u001b[0K\u001b[1G93.7 MiB [] 40% 1.1s\u001b[0K\u001b[1G93.7 MiB [] 41% 1.1s\u001b[0K\u001b[1G93.7 MiB [] 42% 1.1s\u001b[0K\u001b[1G93.7 MiB [] 42% 1.0s\u001b[0K\u001b[1G93.7 MiB [] 43% 1.0s\u001b[0K\u001b[1G93.7 MiB [] 45% 1.0s\u001b[0K\u001b[1G93.7 MiB [] 46% 0.9s\u001b[0K\u001b[1G93.7 MiB [] 48% 0.9s\u001b[0K\u001b[1G93.7 MiB [] 50% 0.9s\u001b[0K\u001b[1G93.7 MiB [] 51% 0.8s\u001b[0K\u001b[1G93.7 MiB [] 53% 0.8s\u001b[0K\u001b[1G93.7 MiB [] 54% 0.7s\u001b[0K\u001b[1G93.7 MiB [] 56% 0.7s\u001b[0K\u001b[1G93.7 MiB [] 58% 0.7s\u001b[0K\u001b[1G93.7 MiB [] 60% 0.6s\u001b[0K\u001b[1G93.7 MiB [] 62% 0.6s\u001b[0K\u001b[1G93.7 MiB [] 65% 0.5s\u001b[0K\u001b[1G93.7 MiB [] 67% 0.5s\u001b[0K\u001b[1G93.7 MiB [] 69% 0.5s\u001b[0K\u001b[1G93.7 MiB [] 72% 0.4s\u001b[0K\u001b[1G93.7 MiB [] 74% 0.4s\u001b[0K\u001b[1G93.7 MiB [] 76% 0.3s\u001b[0K\u001b[1G93.7 MiB [] 79% 0.3s\u001b[0K\u001b[1G93.7 MiB [] 81% 0.3s\u001b[0K\u001b[1G93.7 MiB [] 81% 0.2s\u001b[0K\u001b[1G93.7 MiB [] 83% 0.2s\u001b[0K\u001b[1G93.7 MiB [] 85% 0.2s\u001b[0K\u001b[1G93.7 MiB [] 87% 0.2s\u001b[0K\u001b[1G93.7 MiB [] 89% 0.1s\u001b[0K\u001b[1G93.7 MiB [] 91% 0.1s\u001b[0K\u001b[1G93.7 MiB [] 94% 0.1s\u001b[0K\u001b[1G93.7 MiB [] 96% 0.0s\u001b[0K\u001b[1G93.7 MiB [] 98% 0.0s\u001b[0K\u001b[1G93.7 MiB [] 100% 0.0s\u001b[0K\n",
            "Webkit 18.5 (playwright build v2182) downloaded to /root/.cache/ms-playwright/webkit-2182\n",
            "Downloading FFMPEG playwright build v1011\u001b[2m from https://cdn.playwright.dev/dbazure/download/playwright/builds/ffmpeg/1011/ffmpeg-linux.zip\u001b[22m\n",
            "\u001b[1G2.3 MiB [] 0% 0.0s\u001b[0K\u001b[1G2.3 MiB [] 2% 0.7s\u001b[0K\u001b[1G2.3 MiB [] 6% 0.6s\u001b[0K\u001b[1G2.3 MiB [] 19% 0.2s\u001b[0K\u001b[1G2.3 MiB [] 43% 0.1s\u001b[0K\u001b[1G2.3 MiB [] 86% 0.0s\u001b[0K\u001b[1G2.3 MiB [] 100% 0.0s\u001b[0K\n",
            "FFMPEG playwright build v1011 downloaded to /root/.cache/ms-playwright/ffmpeg-1011\n",
            "Playwright Host validation warning: \n",
            "╔══════════════════════════════════════════════════════╗\n",
            "║ Host system is missing dependencies to run browsers. ║\n",
            "║ Missing libraries:                                   ║\n",
            "║     libwoff2dec.so.1.0.2                             ║\n",
            "║     libgstgl-1.0.so.0                                ║\n",
            "║     libgstcodecparsers-1.0.so.0                      ║\n",
            "║     libavif.so.13                                    ║\n",
            "║     libharfbuzz-icu.so.0                             ║\n",
            "║     libenchant-2.so.2                                ║\n",
            "║     libsecret-1.so.0                                 ║\n",
            "║     libhyphen.so.0                                   ║\n",
            "║     libmanette-0.2.so.0                              ║\n",
            "╚══════════════════════════════════════════════════════╝\n",
            "    at validateDependenciesLinux (/usr/local/lib/python3.11/dist-packages/playwright/driver/package/lib/server/registry/dependencies.js:269:9)\n",
            "\u001b[90m    at process.processTicksAndRejections (node:internal/process/task_queues:105:5)\u001b[39m\n",
            "    at async Registry._validateHostRequirements (/usr/local/lib/python3.11/dist-packages/playwright/driver/package/lib/server/registry/index.js:927:14)\n",
            "    at async Registry._validateHostRequirementsForExecutableIfNeeded (/usr/local/lib/python3.11/dist-packages/playwright/driver/package/lib/server/registry/index.js:1049:7)\n",
            "    at async Registry.validateHostRequirementsForExecutablesIfNeeded (/usr/local/lib/python3.11/dist-packages/playwright/driver/package/lib/server/registry/index.js:1038:7)\n",
            "    at async t.<anonymous> (/usr/local/lib/python3.11/dist-packages/playwright/driver/package/lib/cli/program.js:217:7)\n"
          ]
        }
      ]
    },
    {
      "cell_type": "markdown",
      "source": [
        "## Paso 1\n",
        "Muestreo de urls internas de un sitio de e-commerce, como salida se genera un json con el nombre del comercio y la hora de generación.\n",
        "\n",
        "La busqueda está limitada por el parámetro maxlen=50 para reducir costos al momento de usar los modelos de lenguaje.\n",
        "\n",
        "\n"
      ],
      "metadata": {
        "id": "bduVY1rGm0KJ"
      },
      "id": "bduVY1rGm0KJ"
    },
    {
      "cell_type": "code",
      "source": [
        "\"https://www.amazon.com/\"\n",
        "\"https://www.mercadolibre.com.co/\"\n",
        "\"https://www.shein.com.co/\"\n",
        "\"https://www.farmatodo.com.co/\""
      ],
      "metadata": {
        "id": "70vOQBSUmEVS"
      },
      "id": "70vOQBSUmEVS",
      "execution_count": null,
      "outputs": []
    },
    {
      "cell_type": "code",
      "source": [
        "e_commerce_url=\"https://www.amazon.com/\""
      ],
      "metadata": {
        "id": "i5DlO6HC16eQ"
      },
      "id": "i5DlO6HC16eQ",
      "execution_count": 8,
      "outputs": []
    },
    {
      "cell_type": "code",
      "source": [
        "import json\n",
        "import asyncio\n",
        "import datetime\n",
        "from unidecode import unidecode\n",
        "from collections import deque\n",
        "from typing import Dict, List, Set\n",
        "from crawl4ai.models import CrawlResult\n",
        "from crawl4ai import AsyncWebCrawler\n",
        "from urllib.parse import urljoin, urlparse, urlunparse\n",
        "\n",
        "class SimpleWebsiteScraper:\n",
        "    def __init__(self, crawler: AsyncWebCrawler):\n",
        "        self.crawler = crawler\n",
        "        self.base_url = None\n",
        "\n",
        "    def is_valid_internal_link(self, link: str) -> bool:\n",
        "        if not link or link.startswith('#'):\n",
        "            return False\n",
        "\n",
        "        parsed_base = urlparse(self.base_url)\n",
        "        parsed_link = urlparse(link)\n",
        "\n",
        "        return (parsed_base.netloc == parsed_link.netloc and\n",
        "                parsed_link.path not in ['', '/'] and\n",
        "                parsed_link.path.startswith(parsed_base.path))\n",
        "\n",
        "    def normalize_url(self, url: str) -> str:\n",
        "        parsed = urlparse(url)\n",
        "        # Remove any fragments\n",
        "        parsed = parsed._replace(fragment='')\n",
        "        # Ensure the path doesn't end with a slash unless it's the root\n",
        "        if parsed.path.endswith('/') and len(parsed.path) > 1:\n",
        "            parsed = parsed._replace(path=parsed.path.rstrip('/'))\n",
        "        return urlunparse(parsed)\n",
        "\n",
        "    def join_url(self, base: str, url: str) -> str:\n",
        "        joined = urljoin(base, url)\n",
        "        parsed_base = urlparse(self.base_url)\n",
        "        parsed_joined = urlparse(joined)\n",
        "\n",
        "        # Ensure the joined URL starts with the base path\n",
        "        if not parsed_joined.path.startswith(parsed_base.path):\n",
        "            # If it doesn't, prepend the base path\n",
        "            new_path = parsed_base.path.rstrip('/') + '/' + parsed_joined.path.lstrip('/')\n",
        "            parsed_joined = parsed_joined._replace(path=new_path)\n",
        "\n",
        "        return urlunparse(parsed_joined)\n",
        "\n",
        "    async def scrape(self, start_url: str, max_depth: int) -> Dict[str, CrawlResult]:\n",
        "        self.base_url = self.normalize_url(start_url)\n",
        "        results: Dict[str, CrawlResult] = {}\n",
        "        queue: deque = deque([(self.base_url, 0)],maxlen=50)\n",
        "        visited: Set[str] = set()\n",
        "\n",
        "        while queue:\n",
        "\n",
        "          current_url, current_depth = queue.popleft()\n",
        "          result = await self.crawler.arun(current_url)\n",
        "\n",
        "          if current_url in visited or current_depth > max_depth:\n",
        "            continue\n",
        "\n",
        "          visited.add(current_url)\n",
        "          result = await self.crawler.arun(current_url)\n",
        "\n",
        "          internal_links_test = result.links.get('internal', [])\n",
        "          for link_test in internal_links_test:\n",
        "            link_test['text']=unidecode(link_test['text'])\n",
        "\n",
        "          if result.success:\n",
        "            results[current_url] = result\n",
        "\n",
        "            if current_depth < max_depth:\n",
        "              internal_links = result.links.get('internal', [])\n",
        "              for link in internal_links:\n",
        "                full_url = self.join_url(current_url, link['href'])\n",
        "                normalized_url = self.normalize_url(full_url)\n",
        "                if self.is_valid_internal_link(normalized_url) and normalized_url not in visited:\n",
        "                  queue.append((normalized_url, current_depth + 1))\n",
        "\n",
        "        return results\n",
        "\n",
        "async def main(start_url: str, depth: int):\n",
        "    all_results=[]\n",
        "\n",
        "    async with AsyncWebCrawler() as crawler:\n",
        "        scraper = SimpleWebsiteScraper(crawler)\n",
        "        results = await scraper.scrape(start_url, depth)\n",
        "\n",
        "    # Get the current date and time\n",
        "    now = datetime.datetime.now()\n",
        "\n",
        "    # Format the date and time as a string (e.g., \"2025-06-23_14-30-00\")\n",
        "    formatted_datetime = now.strftime(\"%Y-%m-%d_%H-%M-%S\")\n",
        "\n",
        "    # Para varias páginas, hay inconveniente con el append del json y posterior uso.\n",
        "    print(f\"Crawled {len(results)} pages:\")\n",
        "    for url, result in results.items():\n",
        "        print(f\"- {url}: {len(result.links.get('internal', []))} internal links, {len(result.links.get('external', []))} external links\")\n",
        "        print(f\"Session: {result.session_id}\", )\n",
        "\n",
        "        \"\"\"\n",
        "        with open(f\"{start_url.split('.')[1]}_{formatted_datetime}.json\", \"w\") as f:\n",
        "          all_results.append(result.links)\n",
        "          json.dump(all_results, f, indent=4)\n",
        "        \"\"\"\n",
        "    json_name = f\"{start_url.split('.')[1]}_{formatted_datetime}.json\"\n",
        "\n",
        "    with open(json_name, \"w\") as f:\n",
        "      json.dump(result.links, f, indent=4)\n",
        "\n",
        "    return results, json_name\n",
        "\n",
        "if __name__ == \"__main__\":\n",
        "    start_url = e_commerce_url\n",
        "    depth = 1\n",
        "    results, json_name=await(main(start_url, depth))"
      ],
      "metadata": {
        "colab": {
          "base_uri": "https://localhost:8080/",
          "height": 750
        },
        "id": "z1l5TRWuziaS",
        "outputId": "51f27b03-6df8-486f-8072-f50c0d7434da",
        "collapsed": true
      },
      "id": "z1l5TRWuziaS",
      "execution_count": 11,
      "outputs": [
        {
          "output_type": "display_data",
          "data": {
            "text/plain": [
              "\u001b[1;36m[\u001b[0m\u001b[36mINIT\u001b[0m\u001b[1;36m]\u001b[0m\u001b[36m...\u001b[0m\u001b[36m. → Crawl4AI \u001b[0m\u001b[1;36m0.6\u001b[0m\u001b[36m.\u001b[0m\u001b[1;36m3\u001b[0m\u001b[36m \u001b[0m\n"
            ],
            "text/html": [
              "<pre style=\"white-space:pre;overflow-x:auto;line-height:normal;font-family:Menlo,'DejaVu Sans Mono',consolas,'Courier New',monospace\"><span style=\"color: #008080; text-decoration-color: #008080; font-weight: bold\">[</span><span style=\"color: #008080; text-decoration-color: #008080\">INIT</span><span style=\"color: #008080; text-decoration-color: #008080; font-weight: bold\">]</span><span style=\"color: #008080; text-decoration-color: #008080\">.... → Crawl4AI </span><span style=\"color: #008080; text-decoration-color: #008080; font-weight: bold\">0.6</span><span style=\"color: #008080; text-decoration-color: #008080\">.</span><span style=\"color: #008080; text-decoration-color: #008080; font-weight: bold\">3</span><span style=\"color: #008080; text-decoration-color: #008080\"> </span>\n",
              "</pre>\n"
            ]
          },
          "metadata": {}
        },
        {
          "output_type": "display_data",
          "data": {
            "text/plain": [
              "\u001b[1;32m[\u001b[0m\u001b[32mFETCH\u001b[0m\u001b[1;32m]\u001b[0m\u001b[32m...\u001b[0m\u001b[32m ↓ \u001b[0m\u001b[4;32mhttps://www.amazon.com/\u001b[0m\u001b[32m                                                                              |\u001b[0m\n",
              "\u001b[32m✓\u001b[0m\u001b[32m | ⏱: \u001b[0m\u001b[1;32m1.\u001b[0m\u001b[32m55s \u001b[0m\n"
            ],
            "text/html": [
              "<pre style=\"white-space:pre;overflow-x:auto;line-height:normal;font-family:Menlo,'DejaVu Sans Mono',consolas,'Courier New',monospace\"><span style=\"color: #008000; text-decoration-color: #008000; font-weight: bold\">[</span><span style=\"color: #008000; text-decoration-color: #008000\">FETCH</span><span style=\"color: #008000; text-decoration-color: #008000; font-weight: bold\">]</span><span style=\"color: #008000; text-decoration-color: #008000\">... ↓ </span><span style=\"color: #008000; text-decoration-color: #008000; text-decoration: underline\">https://www.amazon.com/</span><span style=\"color: #008000; text-decoration-color: #008000\">                                                                              |</span>\n",
              "<span style=\"color: #008000; text-decoration-color: #008000\">✓ | ⏱: </span><span style=\"color: #008000; text-decoration-color: #008000; font-weight: bold\">1.</span><span style=\"color: #008000; text-decoration-color: #008000\">55s </span>\n",
              "</pre>\n"
            ]
          },
          "metadata": {}
        },
        {
          "output_type": "display_data",
          "data": {
            "text/plain": [
              "\u001b[1;32m[\u001b[0m\u001b[32mSCRAPE\u001b[0m\u001b[1;32m]\u001b[0m\u001b[32m.. ◆ \u001b[0m\u001b[4;32mhttps://www.amazon.com/\u001b[0m\u001b[32m                                                                              |\u001b[0m\n",
              "\u001b[32m✓\u001b[0m\u001b[32m | ⏱: \u001b[0m\u001b[1;32m0.\u001b[0m\u001b[32m04s \u001b[0m\n"
            ],
            "text/html": [
              "<pre style=\"white-space:pre;overflow-x:auto;line-height:normal;font-family:Menlo,'DejaVu Sans Mono',consolas,'Courier New',monospace\"><span style=\"color: #008000; text-decoration-color: #008000; font-weight: bold\">[</span><span style=\"color: #008000; text-decoration-color: #008000\">SCRAPE</span><span style=\"color: #008000; text-decoration-color: #008000; font-weight: bold\">]</span><span style=\"color: #008000; text-decoration-color: #008000\">.. ◆ </span><span style=\"color: #008000; text-decoration-color: #008000; text-decoration: underline\">https://www.amazon.com/</span><span style=\"color: #008000; text-decoration-color: #008000\">                                                                              |</span>\n",
              "<span style=\"color: #008000; text-decoration-color: #008000\">✓ | ⏱: </span><span style=\"color: #008000; text-decoration-color: #008000; font-weight: bold\">0.</span><span style=\"color: #008000; text-decoration-color: #008000\">04s </span>\n",
              "</pre>\n"
            ]
          },
          "metadata": {}
        },
        {
          "output_type": "display_data",
          "data": {
            "text/plain": [
              "\u001b[1;32m[\u001b[0m\u001b[32mCOMPLETE\u001b[0m\u001b[1;32m]\u001b[0m\u001b[32m ● \u001b[0m\u001b[4;32mhttps://www.amazon.com/\u001b[0m\u001b[32m                                                                              |\u001b[0m\n",
              "\u001b[32m✓\u001b[0m\u001b[32m | ⏱: \u001b[0m\u001b[1;32m1.\u001b[0m\u001b[32m62s \u001b[0m\n"
            ],
            "text/html": [
              "<pre style=\"white-space:pre;overflow-x:auto;line-height:normal;font-family:Menlo,'DejaVu Sans Mono',consolas,'Courier New',monospace\"><span style=\"color: #008000; text-decoration-color: #008000; font-weight: bold\">[</span><span style=\"color: #008000; text-decoration-color: #008000\">COMPLETE</span><span style=\"color: #008000; text-decoration-color: #008000; font-weight: bold\">]</span><span style=\"color: #008000; text-decoration-color: #008000\"> ● </span><span style=\"color: #008000; text-decoration-color: #008000; text-decoration: underline\">https://www.amazon.com/</span><span style=\"color: #008000; text-decoration-color: #008000\">                                                                              |</span>\n",
              "<span style=\"color: #008000; text-decoration-color: #008000\">✓ | ⏱: </span><span style=\"color: #008000; text-decoration-color: #008000; font-weight: bold\">1.</span><span style=\"color: #008000; text-decoration-color: #008000\">62s </span>\n",
              "</pre>\n"
            ]
          },
          "metadata": {}
        },
        {
          "output_type": "display_data",
          "data": {
            "text/plain": [
              "\u001b[1;32m[\u001b[0m\u001b[32mFETCH\u001b[0m\u001b[1;32m]\u001b[0m\u001b[32m...\u001b[0m\u001b[32m ↓ \u001b[0m\u001b[4;32mhttps://www.amazon.com/\u001b[0m\u001b[32m                                                                              |\u001b[0m\n",
              "\u001b[32m✓\u001b[0m\u001b[32m | ⏱: \u001b[0m\u001b[1;32m0.\u001b[0m\u001b[32m95s \u001b[0m\n"
            ],
            "text/html": [
              "<pre style=\"white-space:pre;overflow-x:auto;line-height:normal;font-family:Menlo,'DejaVu Sans Mono',consolas,'Courier New',monospace\"><span style=\"color: #008000; text-decoration-color: #008000; font-weight: bold\">[</span><span style=\"color: #008000; text-decoration-color: #008000\">FETCH</span><span style=\"color: #008000; text-decoration-color: #008000; font-weight: bold\">]</span><span style=\"color: #008000; text-decoration-color: #008000\">... ↓ </span><span style=\"color: #008000; text-decoration-color: #008000; text-decoration: underline\">https://www.amazon.com/</span><span style=\"color: #008000; text-decoration-color: #008000\">                                                                              |</span>\n",
              "<span style=\"color: #008000; text-decoration-color: #008000\">✓ | ⏱: </span><span style=\"color: #008000; text-decoration-color: #008000; font-weight: bold\">0.</span><span style=\"color: #008000; text-decoration-color: #008000\">95s </span>\n",
              "</pre>\n"
            ]
          },
          "metadata": {}
        },
        {
          "output_type": "display_data",
          "data": {
            "text/plain": [
              "\u001b[1;32m[\u001b[0m\u001b[32mSCRAPE\u001b[0m\u001b[1;32m]\u001b[0m\u001b[32m.. ◆ \u001b[0m\u001b[4;32mhttps://www.amazon.com/\u001b[0m\u001b[32m                                                                              |\u001b[0m\n",
              "\u001b[32m✓\u001b[0m\u001b[32m | ⏱: \u001b[0m\u001b[1;32m0.\u001b[0m\u001b[32m04s \u001b[0m\n"
            ],
            "text/html": [
              "<pre style=\"white-space:pre;overflow-x:auto;line-height:normal;font-family:Menlo,'DejaVu Sans Mono',consolas,'Courier New',monospace\"><span style=\"color: #008000; text-decoration-color: #008000; font-weight: bold\">[</span><span style=\"color: #008000; text-decoration-color: #008000\">SCRAPE</span><span style=\"color: #008000; text-decoration-color: #008000; font-weight: bold\">]</span><span style=\"color: #008000; text-decoration-color: #008000\">.. ◆ </span><span style=\"color: #008000; text-decoration-color: #008000; text-decoration: underline\">https://www.amazon.com/</span><span style=\"color: #008000; text-decoration-color: #008000\">                                                                              |</span>\n",
              "<span style=\"color: #008000; text-decoration-color: #008000\">✓ | ⏱: </span><span style=\"color: #008000; text-decoration-color: #008000; font-weight: bold\">0.</span><span style=\"color: #008000; text-decoration-color: #008000\">04s </span>\n",
              "</pre>\n"
            ]
          },
          "metadata": {}
        },
        {
          "output_type": "display_data",
          "data": {
            "text/plain": [
              "\u001b[1;32m[\u001b[0m\u001b[32mCOMPLETE\u001b[0m\u001b[1;32m]\u001b[0m\u001b[32m ● \u001b[0m\u001b[4;32mhttps://www.amazon.com/\u001b[0m\u001b[32m                                                                              |\u001b[0m\n",
              "\u001b[32m✓\u001b[0m\u001b[32m | ⏱: \u001b[0m\u001b[1;32m1.\u001b[0m\u001b[32m00s \u001b[0m\n"
            ],
            "text/html": [
              "<pre style=\"white-space:pre;overflow-x:auto;line-height:normal;font-family:Menlo,'DejaVu Sans Mono',consolas,'Courier New',monospace\"><span style=\"color: #008000; text-decoration-color: #008000; font-weight: bold\">[</span><span style=\"color: #008000; text-decoration-color: #008000\">COMPLETE</span><span style=\"color: #008000; text-decoration-color: #008000; font-weight: bold\">]</span><span style=\"color: #008000; text-decoration-color: #008000\"> ● </span><span style=\"color: #008000; text-decoration-color: #008000; text-decoration: underline\">https://www.amazon.com/</span><span style=\"color: #008000; text-decoration-color: #008000\">                                                                              |</span>\n",
              "<span style=\"color: #008000; text-decoration-color: #008000\">✓ | ⏱: </span><span style=\"color: #008000; text-decoration-color: #008000; font-weight: bold\">1.</span><span style=\"color: #008000; text-decoration-color: #008000\">00s </span>\n",
              "</pre>\n"
            ]
          },
          "metadata": {}
        },
        {
          "output_type": "display_data",
          "data": {
            "text/plain": [
              "\u001b[1;32m[\u001b[0m\u001b[32mFETCH\u001b[0m\u001b[1;32m]\u001b[0m\u001b[32m...\u001b[0m\u001b[32m ↓ \u001b[0m\u001b[4;32mhttps://www.amazon.com/gp/help/customer/display.html/\u001b[0m\u001b[4;32mref\u001b[0m\u001b[4;32m=\u001b[0m\u001b[4;32mfooter_cou\u001b[0m\u001b[4;32m?\u001b[0m\u001b[4;32mie\u001b[0m\u001b[4;32m=\u001b[0m\u001b[4;32mUTF8\u001b[0m\u001b[4;32m&\u001b[0m\u001b[4;32mnodeId\u001b[0m\u001b[4;32m=\u001b[0m\u001b[4;32m508088\u001b[0m\u001b[32m            |\u001b[0m\n",
              "\u001b[32m✓\u001b[0m\u001b[32m | ⏱: \u001b[0m\u001b[1;32m0.\u001b[0m\u001b[32m92s \u001b[0m\n"
            ],
            "text/html": [
              "<pre style=\"white-space:pre;overflow-x:auto;line-height:normal;font-family:Menlo,'DejaVu Sans Mono',consolas,'Courier New',monospace\"><span style=\"color: #008000; text-decoration-color: #008000; font-weight: bold\">[</span><span style=\"color: #008000; text-decoration-color: #008000\">FETCH</span><span style=\"color: #008000; text-decoration-color: #008000; font-weight: bold\">]</span><span style=\"color: #008000; text-decoration-color: #008000\">... ↓ </span><span style=\"color: #008000; text-decoration-color: #008000; text-decoration: underline\">https://www.amazon.com/gp/help/customer/display.html/ref=footer_cou?ie=UTF8&amp;nodeId=508088</span><span style=\"color: #008000; text-decoration-color: #008000\">            |</span>\n",
              "<span style=\"color: #008000; text-decoration-color: #008000\">✓ | ⏱: </span><span style=\"color: #008000; text-decoration-color: #008000; font-weight: bold\">0.</span><span style=\"color: #008000; text-decoration-color: #008000\">92s </span>\n",
              "</pre>\n"
            ]
          },
          "metadata": {}
        },
        {
          "output_type": "display_data",
          "data": {
            "text/plain": [
              "\u001b[1;32m[\u001b[0m\u001b[32mSCRAPE\u001b[0m\u001b[1;32m]\u001b[0m\u001b[32m.. ◆ \u001b[0m\u001b[4;32mhttps://www.amazon.com/gp/help/customer/display.html/\u001b[0m\u001b[4;32mref\u001b[0m\u001b[4;32m=\u001b[0m\u001b[4;32mfooter_cou\u001b[0m\u001b[4;32m?\u001b[0m\u001b[4;32mie\u001b[0m\u001b[4;32m=\u001b[0m\u001b[4;32mUTF8\u001b[0m\u001b[4;32m&\u001b[0m\u001b[4;32mnodeId\u001b[0m\u001b[4;32m=\u001b[0m\u001b[4;32m508088\u001b[0m\u001b[32m            |\u001b[0m\n",
              "\u001b[32m✓\u001b[0m\u001b[32m | ⏱: \u001b[0m\u001b[1;33m0.\u001b[0m\u001b[33m02\u001b[0m\u001b[32ms \u001b[0m\n"
            ],
            "text/html": [
              "<pre style=\"white-space:pre;overflow-x:auto;line-height:normal;font-family:Menlo,'DejaVu Sans Mono',consolas,'Courier New',monospace\"><span style=\"color: #008000; text-decoration-color: #008000; font-weight: bold\">[</span><span style=\"color: #008000; text-decoration-color: #008000\">SCRAPE</span><span style=\"color: #008000; text-decoration-color: #008000; font-weight: bold\">]</span><span style=\"color: #008000; text-decoration-color: #008000\">.. ◆ </span><span style=\"color: #008000; text-decoration-color: #008000; text-decoration: underline\">https://www.amazon.com/gp/help/customer/display.html/ref=footer_cou?ie=UTF8&amp;nodeId=508088</span><span style=\"color: #008000; text-decoration-color: #008000\">            |</span>\n",
              "<span style=\"color: #008000; text-decoration-color: #008000\">✓ | ⏱: </span><span style=\"color: #808000; text-decoration-color: #808000; font-weight: bold\">0.</span><span style=\"color: #808000; text-decoration-color: #808000\">02</span><span style=\"color: #008000; text-decoration-color: #008000\">s </span>\n",
              "</pre>\n"
            ]
          },
          "metadata": {}
        },
        {
          "output_type": "display_data",
          "data": {
            "text/plain": [
              "\u001b[1;32m[\u001b[0m\u001b[32mCOMPLETE\u001b[0m\u001b[1;32m]\u001b[0m\u001b[32m ● \u001b[0m\u001b[4;32mhttps://www.amazon.com/gp/help/customer/display.html/\u001b[0m\u001b[4;32mref\u001b[0m\u001b[4;32m=\u001b[0m\u001b[4;32mfooter_cou\u001b[0m\u001b[4;32m?\u001b[0m\u001b[4;32mie\u001b[0m\u001b[4;32m=\u001b[0m\u001b[4;32mUTF8\u001b[0m\u001b[4;32m&\u001b[0m\u001b[4;32mnodeId\u001b[0m\u001b[4;32m=\u001b[0m\u001b[4;32m508088\u001b[0m\u001b[32m            |\u001b[0m\n",
              "\u001b[32m✓\u001b[0m\u001b[32m | ⏱: \u001b[0m\u001b[1;32m0.\u001b[0m\u001b[32m96s \u001b[0m\n"
            ],
            "text/html": [
              "<pre style=\"white-space:pre;overflow-x:auto;line-height:normal;font-family:Menlo,'DejaVu Sans Mono',consolas,'Courier New',monospace\"><span style=\"color: #008000; text-decoration-color: #008000; font-weight: bold\">[</span><span style=\"color: #008000; text-decoration-color: #008000\">COMPLETE</span><span style=\"color: #008000; text-decoration-color: #008000; font-weight: bold\">]</span><span style=\"color: #008000; text-decoration-color: #008000\"> ● </span><span style=\"color: #008000; text-decoration-color: #008000; text-decoration: underline\">https://www.amazon.com/gp/help/customer/display.html/ref=footer_cou?ie=UTF8&amp;nodeId=508088</span><span style=\"color: #008000; text-decoration-color: #008000\">            |</span>\n",
              "<span style=\"color: #008000; text-decoration-color: #008000\">✓ | ⏱: </span><span style=\"color: #008000; text-decoration-color: #008000; font-weight: bold\">0.</span><span style=\"color: #008000; text-decoration-color: #008000\">96s </span>\n",
              "</pre>\n"
            ]
          },
          "metadata": {}
        },
        {
          "output_type": "display_data",
          "data": {
            "text/plain": [
              "\u001b[1;32m[\u001b[0m\u001b[32mFETCH\u001b[0m\u001b[1;32m]\u001b[0m\u001b[32m...\u001b[0m\u001b[32m ↓ \u001b[0m\u001b[4;32mhttps://www.amazon.com/gp/help/customer/display.html/\u001b[0m\u001b[4;32mref\u001b[0m\u001b[4;32m=\u001b[0m\u001b[4;32mfooter_cou\u001b[0m\u001b[4;32m?\u001b[0m\u001b[4;32mie\u001b[0m\u001b[4;32m=\u001b[0m\u001b[4;32mUTF8\u001b[0m\u001b[4;32m&\u001b[0m\u001b[4;32mnodeId\u001b[0m\u001b[4;32m=\u001b[0m\u001b[4;32m508088\u001b[0m\u001b[32m            |\u001b[0m\n",
              "\u001b[32m✓\u001b[0m\u001b[32m | ⏱: \u001b[0m\u001b[1;32m4.\u001b[0m\u001b[32m07s \u001b[0m\n"
            ],
            "text/html": [
              "<pre style=\"white-space:pre;overflow-x:auto;line-height:normal;font-family:Menlo,'DejaVu Sans Mono',consolas,'Courier New',monospace\"><span style=\"color: #008000; text-decoration-color: #008000; font-weight: bold\">[</span><span style=\"color: #008000; text-decoration-color: #008000\">FETCH</span><span style=\"color: #008000; text-decoration-color: #008000; font-weight: bold\">]</span><span style=\"color: #008000; text-decoration-color: #008000\">... ↓ </span><span style=\"color: #008000; text-decoration-color: #008000; text-decoration: underline\">https://www.amazon.com/gp/help/customer/display.html/ref=footer_cou?ie=UTF8&amp;nodeId=508088</span><span style=\"color: #008000; text-decoration-color: #008000\">            |</span>\n",
              "<span style=\"color: #008000; text-decoration-color: #008000\">✓ | ⏱: </span><span style=\"color: #008000; text-decoration-color: #008000; font-weight: bold\">4.</span><span style=\"color: #008000; text-decoration-color: #008000\">07s </span>\n",
              "</pre>\n"
            ]
          },
          "metadata": {}
        },
        {
          "output_type": "display_data",
          "data": {
            "text/plain": [
              "\u001b[1;32m[\u001b[0m\u001b[32mSCRAPE\u001b[0m\u001b[1;32m]\u001b[0m\u001b[32m.. ◆ \u001b[0m\u001b[4;32mhttps://www.amazon.com/gp/help/customer/display.html/\u001b[0m\u001b[4;32mref\u001b[0m\u001b[4;32m=\u001b[0m\u001b[4;32mfooter_cou\u001b[0m\u001b[4;32m?\u001b[0m\u001b[4;32mie\u001b[0m\u001b[4;32m=\u001b[0m\u001b[4;32mUTF8\u001b[0m\u001b[4;32m&\u001b[0m\u001b[4;32mnodeId\u001b[0m\u001b[4;32m=\u001b[0m\u001b[4;32m508088\u001b[0m\u001b[32m            |\u001b[0m\n",
              "\u001b[32m✓\u001b[0m\u001b[32m | ⏱: \u001b[0m\u001b[1;32m0.\u001b[0m\u001b[32m41s \u001b[0m\n"
            ],
            "text/html": [
              "<pre style=\"white-space:pre;overflow-x:auto;line-height:normal;font-family:Menlo,'DejaVu Sans Mono',consolas,'Courier New',monospace\"><span style=\"color: #008000; text-decoration-color: #008000; font-weight: bold\">[</span><span style=\"color: #008000; text-decoration-color: #008000\">SCRAPE</span><span style=\"color: #008000; text-decoration-color: #008000; font-weight: bold\">]</span><span style=\"color: #008000; text-decoration-color: #008000\">.. ◆ </span><span style=\"color: #008000; text-decoration-color: #008000; text-decoration: underline\">https://www.amazon.com/gp/help/customer/display.html/ref=footer_cou?ie=UTF8&amp;nodeId=508088</span><span style=\"color: #008000; text-decoration-color: #008000\">            |</span>\n",
              "<span style=\"color: #008000; text-decoration-color: #008000\">✓ | ⏱: </span><span style=\"color: #008000; text-decoration-color: #008000; font-weight: bold\">0.</span><span style=\"color: #008000; text-decoration-color: #008000\">41s </span>\n",
              "</pre>\n"
            ]
          },
          "metadata": {}
        },
        {
          "output_type": "display_data",
          "data": {
            "text/plain": [
              "\u001b[1;32m[\u001b[0m\u001b[32mCOMPLETE\u001b[0m\u001b[1;32m]\u001b[0m\u001b[32m ● \u001b[0m\u001b[4;32mhttps://www.amazon.com/gp/help/customer/display.html/\u001b[0m\u001b[4;32mref\u001b[0m\u001b[4;32m=\u001b[0m\u001b[4;32mfooter_cou\u001b[0m\u001b[4;32m?\u001b[0m\u001b[4;32mie\u001b[0m\u001b[4;32m=\u001b[0m\u001b[4;32mUTF8\u001b[0m\u001b[4;32m&\u001b[0m\u001b[4;32mnodeId\u001b[0m\u001b[4;32m=\u001b[0m\u001b[4;32m508088\u001b[0m\u001b[32m            |\u001b[0m\n",
              "\u001b[32m✓\u001b[0m\u001b[32m | ⏱: \u001b[0m\u001b[1;32m4.\u001b[0m\u001b[32m50s \u001b[0m\n"
            ],
            "text/html": [
              "<pre style=\"white-space:pre;overflow-x:auto;line-height:normal;font-family:Menlo,'DejaVu Sans Mono',consolas,'Courier New',monospace\"><span style=\"color: #008000; text-decoration-color: #008000; font-weight: bold\">[</span><span style=\"color: #008000; text-decoration-color: #008000\">COMPLETE</span><span style=\"color: #008000; text-decoration-color: #008000; font-weight: bold\">]</span><span style=\"color: #008000; text-decoration-color: #008000\"> ● </span><span style=\"color: #008000; text-decoration-color: #008000; text-decoration: underline\">https://www.amazon.com/gp/help/customer/display.html/ref=footer_cou?ie=UTF8&amp;nodeId=508088</span><span style=\"color: #008000; text-decoration-color: #008000\">            |</span>\n",
              "<span style=\"color: #008000; text-decoration-color: #008000\">✓ | ⏱: </span><span style=\"color: #008000; text-decoration-color: #008000; font-weight: bold\">4.</span><span style=\"color: #008000; text-decoration-color: #008000\">50s </span>\n",
              "</pre>\n"
            ]
          },
          "metadata": {}
        },
        {
          "output_type": "display_data",
          "data": {
            "text/plain": [
              "\u001b[1;32m[\u001b[0m\u001b[32mFETCH\u001b[0m\u001b[1;32m]\u001b[0m\u001b[32m...\u001b[0m\u001b[32m ↓ \u001b[0m\u001b[4;32mhttps://www.amazon.com/gp/help/customer/display.html/\u001b[0m\u001b[4;32mref\u001b[0m\u001b[4;32m=\u001b[0m\u001b[4;32mfooter_privacy\u001b[0m\u001b[4;32m?\u001b[0m\u001b[4;32mie\u001b[0m\u001b[4;32m=\u001b[0m\u001b[4;32mUTF8\u001b[0m\u001b[4;32m&\u001b[0m\u001b[4;32mnodeId\u001b[0m\u001b[4;32m=\u001b[0m\u001b[4;32m468496\u001b[0m\u001b[32m        |\u001b[0m\n",
              "\u001b[32m✓\u001b[0m\u001b[32m | ⏱: \u001b[0m\u001b[1;32m2.\u001b[0m\u001b[32m27s \u001b[0m\n"
            ],
            "text/html": [
              "<pre style=\"white-space:pre;overflow-x:auto;line-height:normal;font-family:Menlo,'DejaVu Sans Mono',consolas,'Courier New',monospace\"><span style=\"color: #008000; text-decoration-color: #008000; font-weight: bold\">[</span><span style=\"color: #008000; text-decoration-color: #008000\">FETCH</span><span style=\"color: #008000; text-decoration-color: #008000; font-weight: bold\">]</span><span style=\"color: #008000; text-decoration-color: #008000\">... ↓ </span><span style=\"color: #008000; text-decoration-color: #008000; text-decoration: underline\">https://www.amazon.com/gp/help/customer/display.html/ref=footer_privacy?ie=UTF8&amp;nodeId=468496</span><span style=\"color: #008000; text-decoration-color: #008000\">        |</span>\n",
              "<span style=\"color: #008000; text-decoration-color: #008000\">✓ | ⏱: </span><span style=\"color: #008000; text-decoration-color: #008000; font-weight: bold\">2.</span><span style=\"color: #008000; text-decoration-color: #008000\">27s </span>\n",
              "</pre>\n"
            ]
          },
          "metadata": {}
        },
        {
          "output_type": "display_data",
          "data": {
            "text/plain": [
              "\u001b[1;32m[\u001b[0m\u001b[32mSCRAPE\u001b[0m\u001b[1;32m]\u001b[0m\u001b[32m.. ◆ \u001b[0m\u001b[4;32mhttps://www.amazon.com/gp/help/customer/display.html/\u001b[0m\u001b[4;32mref\u001b[0m\u001b[4;32m=\u001b[0m\u001b[4;32mfooter_privacy\u001b[0m\u001b[4;32m?\u001b[0m\u001b[4;32mie\u001b[0m\u001b[4;32m=\u001b[0m\u001b[4;32mUTF8\u001b[0m\u001b[4;32m&\u001b[0m\u001b[4;32mnodeId\u001b[0m\u001b[4;32m=\u001b[0m\u001b[4;32m468496\u001b[0m\u001b[32m        |\u001b[0m\n",
              "\u001b[32m✓\u001b[0m\u001b[32m | ⏱: \u001b[0m\u001b[1;32m0.\u001b[0m\u001b[32m35s \u001b[0m\n"
            ],
            "text/html": [
              "<pre style=\"white-space:pre;overflow-x:auto;line-height:normal;font-family:Menlo,'DejaVu Sans Mono',consolas,'Courier New',monospace\"><span style=\"color: #008000; text-decoration-color: #008000; font-weight: bold\">[</span><span style=\"color: #008000; text-decoration-color: #008000\">SCRAPE</span><span style=\"color: #008000; text-decoration-color: #008000; font-weight: bold\">]</span><span style=\"color: #008000; text-decoration-color: #008000\">.. ◆ </span><span style=\"color: #008000; text-decoration-color: #008000; text-decoration: underline\">https://www.amazon.com/gp/help/customer/display.html/ref=footer_privacy?ie=UTF8&amp;nodeId=468496</span><span style=\"color: #008000; text-decoration-color: #008000\">        |</span>\n",
              "<span style=\"color: #008000; text-decoration-color: #008000\">✓ | ⏱: </span><span style=\"color: #008000; text-decoration-color: #008000; font-weight: bold\">0.</span><span style=\"color: #008000; text-decoration-color: #008000\">35s </span>\n",
              "</pre>\n"
            ]
          },
          "metadata": {}
        },
        {
          "output_type": "display_data",
          "data": {
            "text/plain": [
              "\u001b[1;32m[\u001b[0m\u001b[32mCOMPLETE\u001b[0m\u001b[1;32m]\u001b[0m\u001b[32m ● \u001b[0m\u001b[4;32mhttps://www.amazon.com/gp/help/customer/display.html/\u001b[0m\u001b[4;32mref\u001b[0m\u001b[4;32m=\u001b[0m\u001b[4;32mfooter_privacy\u001b[0m\u001b[4;32m?\u001b[0m\u001b[4;32mie\u001b[0m\u001b[4;32m=\u001b[0m\u001b[4;32mUTF8\u001b[0m\u001b[4;32m&\u001b[0m\u001b[4;32mnodeId\u001b[0m\u001b[4;32m=\u001b[0m\u001b[4;32m468496\u001b[0m\u001b[32m        |\u001b[0m\n",
              "\u001b[32m✓\u001b[0m\u001b[32m | ⏱: \u001b[0m\u001b[1;32m2.\u001b[0m\u001b[32m63s \u001b[0m\n"
            ],
            "text/html": [
              "<pre style=\"white-space:pre;overflow-x:auto;line-height:normal;font-family:Menlo,'DejaVu Sans Mono',consolas,'Courier New',monospace\"><span style=\"color: #008000; text-decoration-color: #008000; font-weight: bold\">[</span><span style=\"color: #008000; text-decoration-color: #008000\">COMPLETE</span><span style=\"color: #008000; text-decoration-color: #008000; font-weight: bold\">]</span><span style=\"color: #008000; text-decoration-color: #008000\"> ● </span><span style=\"color: #008000; text-decoration-color: #008000; text-decoration: underline\">https://www.amazon.com/gp/help/customer/display.html/ref=footer_privacy?ie=UTF8&amp;nodeId=468496</span><span style=\"color: #008000; text-decoration-color: #008000\">        |</span>\n",
              "<span style=\"color: #008000; text-decoration-color: #008000\">✓ | ⏱: </span><span style=\"color: #008000; text-decoration-color: #008000; font-weight: bold\">2.</span><span style=\"color: #008000; text-decoration-color: #008000\">63s </span>\n",
              "</pre>\n"
            ]
          },
          "metadata": {}
        },
        {
          "output_type": "display_data",
          "data": {
            "text/plain": [
              "\u001b[1;32m[\u001b[0m\u001b[32mFETCH\u001b[0m\u001b[1;32m]\u001b[0m\u001b[32m...\u001b[0m\u001b[32m ↓ \u001b[0m\u001b[4;32mhttps://www.amazon.com/gp/help/customer/display.html/\u001b[0m\u001b[4;32mref\u001b[0m\u001b[4;32m=\u001b[0m\u001b[4;32mfooter_privacy\u001b[0m\u001b[4;32m?\u001b[0m\u001b[4;32mie\u001b[0m\u001b[4;32m=\u001b[0m\u001b[4;32mUTF8\u001b[0m\u001b[4;32m&\u001b[0m\u001b[4;32mnodeId\u001b[0m\u001b[4;32m=\u001b[0m\u001b[4;32m468496\u001b[0m\u001b[32m        |\u001b[0m\n",
              "\u001b[32m✓\u001b[0m\u001b[32m | ⏱: \u001b[0m\u001b[1;32m1.\u001b[0m\u001b[32m48s \u001b[0m\n"
            ],
            "text/html": [
              "<pre style=\"white-space:pre;overflow-x:auto;line-height:normal;font-family:Menlo,'DejaVu Sans Mono',consolas,'Courier New',monospace\"><span style=\"color: #008000; text-decoration-color: #008000; font-weight: bold\">[</span><span style=\"color: #008000; text-decoration-color: #008000\">FETCH</span><span style=\"color: #008000; text-decoration-color: #008000; font-weight: bold\">]</span><span style=\"color: #008000; text-decoration-color: #008000\">... ↓ </span><span style=\"color: #008000; text-decoration-color: #008000; text-decoration: underline\">https://www.amazon.com/gp/help/customer/display.html/ref=footer_privacy?ie=UTF8&amp;nodeId=468496</span><span style=\"color: #008000; text-decoration-color: #008000\">        |</span>\n",
              "<span style=\"color: #008000; text-decoration-color: #008000\">✓ | ⏱: </span><span style=\"color: #008000; text-decoration-color: #008000; font-weight: bold\">1.</span><span style=\"color: #008000; text-decoration-color: #008000\">48s </span>\n",
              "</pre>\n"
            ]
          },
          "metadata": {}
        },
        {
          "output_type": "display_data",
          "data": {
            "text/plain": [
              "\u001b[1;32m[\u001b[0m\u001b[32mSCRAPE\u001b[0m\u001b[1;32m]\u001b[0m\u001b[32m.. ◆ \u001b[0m\u001b[4;32mhttps://www.amazon.com/gp/help/customer/display.html/\u001b[0m\u001b[4;32mref\u001b[0m\u001b[4;32m=\u001b[0m\u001b[4;32mfooter_privacy\u001b[0m\u001b[4;32m?\u001b[0m\u001b[4;32mie\u001b[0m\u001b[4;32m=\u001b[0m\u001b[4;32mUTF8\u001b[0m\u001b[4;32m&\u001b[0m\u001b[4;32mnodeId\u001b[0m\u001b[4;32m=\u001b[0m\u001b[4;32m468496\u001b[0m\u001b[32m        |\u001b[0m\n",
              "\u001b[32m✓\u001b[0m\u001b[32m | ⏱: \u001b[0m\u001b[1;32m0.\u001b[0m\u001b[32m28s \u001b[0m\n"
            ],
            "text/html": [
              "<pre style=\"white-space:pre;overflow-x:auto;line-height:normal;font-family:Menlo,'DejaVu Sans Mono',consolas,'Courier New',monospace\"><span style=\"color: #008000; text-decoration-color: #008000; font-weight: bold\">[</span><span style=\"color: #008000; text-decoration-color: #008000\">SCRAPE</span><span style=\"color: #008000; text-decoration-color: #008000; font-weight: bold\">]</span><span style=\"color: #008000; text-decoration-color: #008000\">.. ◆ </span><span style=\"color: #008000; text-decoration-color: #008000; text-decoration: underline\">https://www.amazon.com/gp/help/customer/display.html/ref=footer_privacy?ie=UTF8&amp;nodeId=468496</span><span style=\"color: #008000; text-decoration-color: #008000\">        |</span>\n",
              "<span style=\"color: #008000; text-decoration-color: #008000\">✓ | ⏱: </span><span style=\"color: #008000; text-decoration-color: #008000; font-weight: bold\">0.</span><span style=\"color: #008000; text-decoration-color: #008000\">28s </span>\n",
              "</pre>\n"
            ]
          },
          "metadata": {}
        },
        {
          "output_type": "display_data",
          "data": {
            "text/plain": [
              "\u001b[1;32m[\u001b[0m\u001b[32mCOMPLETE\u001b[0m\u001b[1;32m]\u001b[0m\u001b[32m ● \u001b[0m\u001b[4;32mhttps://www.amazon.com/gp/help/customer/display.html/\u001b[0m\u001b[4;32mref\u001b[0m\u001b[4;32m=\u001b[0m\u001b[4;32mfooter_privacy\u001b[0m\u001b[4;32m?\u001b[0m\u001b[4;32mie\u001b[0m\u001b[4;32m=\u001b[0m\u001b[4;32mUTF8\u001b[0m\u001b[4;32m&\u001b[0m\u001b[4;32mnodeId\u001b[0m\u001b[4;32m=\u001b[0m\u001b[4;32m468496\u001b[0m\u001b[32m        |\u001b[0m\n",
              "\u001b[32m✓\u001b[0m\u001b[32m | ⏱: \u001b[0m\u001b[1;32m1.\u001b[0m\u001b[32m77s \u001b[0m\n"
            ],
            "text/html": [
              "<pre style=\"white-space:pre;overflow-x:auto;line-height:normal;font-family:Menlo,'DejaVu Sans Mono',consolas,'Courier New',monospace\"><span style=\"color: #008000; text-decoration-color: #008000; font-weight: bold\">[</span><span style=\"color: #008000; text-decoration-color: #008000\">COMPLETE</span><span style=\"color: #008000; text-decoration-color: #008000; font-weight: bold\">]</span><span style=\"color: #008000; text-decoration-color: #008000\"> ● </span><span style=\"color: #008000; text-decoration-color: #008000; text-decoration: underline\">https://www.amazon.com/gp/help/customer/display.html/ref=footer_privacy?ie=UTF8&amp;nodeId=468496</span><span style=\"color: #008000; text-decoration-color: #008000\">        |</span>\n",
              "<span style=\"color: #008000; text-decoration-color: #008000\">✓ | ⏱: </span><span style=\"color: #008000; text-decoration-color: #008000; font-weight: bold\">1.</span><span style=\"color: #008000; text-decoration-color: #008000\">77s </span>\n",
              "</pre>\n"
            ]
          },
          "metadata": {}
        },
        {
          "output_type": "stream",
          "name": "stdout",
          "text": [
            "Crawled 3 pages:\n",
            "- https://www.amazon.com/: 2 internal links, 0 external links\n",
            "Session: None\n",
            "- https://www.amazon.com/gp/help/customer/display.html/ref=footer_cou?ie=UTF8&nodeId=508088: 142 internal links, 22 external links\n",
            "Session: None\n",
            "- https://www.amazon.com/gp/help/customer/display.html/ref=footer_privacy?ie=UTF8&nodeId=468496: 184 internal links, 22 external links\n",
            "Session: None\n"
          ]
        }
      ]
    },
    {
      "cell_type": "markdown",
      "source": [
        "## Paso 2\n",
        "#### Uso de LLM para filtrado de contenido, se parte de una lista de urls del sitio de e-commerce para filtrar el contenido de interés: productos."
      ],
      "metadata": {
        "id": "70MMxCnCOaAA"
      },
      "id": "70MMxCnCOaAA"
    },
    {
      "cell_type": "code",
      "source": [
        "!pip install -q -U google-genai"
      ],
      "metadata": {
        "colab": {
          "base_uri": "https://localhost:8080/"
        },
        "id": "dG5MkcbJOIid",
        "outputId": "83c08525-3b93-4a02-8387-658795403f87"
      },
      "id": "dG5MkcbJOIid",
      "execution_count": 12,
      "outputs": [
        {
          "output_type": "stream",
          "name": "stdout",
          "text": [
            "\u001b[?25l   \u001b[90m━━━━━━━━━━━━━━━━━━━━━━━━━━━━━━━━━━━━━━━━\u001b[0m \u001b[32m0.0/223.8 kB\u001b[0m \u001b[31m?\u001b[0m eta \u001b[36m-:--:--\u001b[0m\r\u001b[2K   \u001b[91m━━━━━━━━━━━━━━━━━━━━━━━━━━━━━━━━━━━━━━\u001b[0m\u001b[90m╺\u001b[0m\u001b[90m━\u001b[0m \u001b[32m215.0/223.8 kB\u001b[0m \u001b[31m11.7 MB/s\u001b[0m eta \u001b[36m0:00:01\u001b[0m\r\u001b[2K   \u001b[90m━━━━━━━━━━━━━━━━━━━━━━━━━━━━━━━━━━━━━━━━\u001b[0m \u001b[32m223.8/223.8 kB\u001b[0m \u001b[31m5.8 MB/s\u001b[0m eta \u001b[36m0:00:00\u001b[0m\n",
            "\u001b[?25h"
          ]
        }
      ]
    },
    {
      "cell_type": "markdown",
      "source": [
        "#### Costo por millón de tokens de entrada y salida para el modelo Gemini 2.0 flash"
      ],
      "metadata": {
        "id": "8kBqdxyd1lhq"
      },
      "id": "8kBqdxyd1lhq"
    },
    {
      "cell_type": "code",
      "source": [
        "gemini_2_0_flash_input_cost = 0.10\n",
        "gemini_2_0_flash_output_cost = 0.40"
      ],
      "metadata": {
        "id": "IOhQvpU41j3L"
      },
      "id": "IOhQvpU41j3L",
      "execution_count": 47,
      "outputs": []
    },
    {
      "cell_type": "markdown",
      "source": [
        "#Utils"
      ],
      "metadata": {
        "id": "sibqKBJc4dBl"
      },
      "id": "sibqKBJc4dBl"
    },
    {
      "cell_type": "markdown",
      "source": [
        "#### Parseo de la respuesta del modelo para exporotar en formato json\n"
      ],
      "metadata": {
        "id": "ieC5560grAt0"
      },
      "id": "ieC5560grAt0"
    },
    {
      "cell_type": "code",
      "source": [
        "def parse_to_dictionary(text_to_parse):\n",
        "  \"\"\"\n",
        "  método que parsea un string a un diccionario cono diferentes estrategias\n",
        "  \"\"\"\n",
        "  parsing_strategies = [\n",
        "      lambda x: eval(x), # Generic eval for python dictionaries\n",
        "      lambda x: json.loads(re.sub(r'\\\\n', '\\n', re.sub(r'\\\\\"', '\"', re.sub(r'\\\\\\\\', '\\\\',re.search(r'```json\\\\n(.*?)```', s, re.DOTALL).group(1))))),\n",
        "      lambda x: json.loads(json.loads(x.strip('\"')).replace(\"```json\\\\n\", \"\").replace(\"\\\\n```\", \"\")),\n",
        "      lambda x: json.loads(x.replace(\"\\n\", \"\").strip(\".\\n\")), # Clean and parse JSON directly\n",
        "      lambda x: json.loads(re.search(r'```json\\n(.*?)\\n```', x, re.DOTALL).group(1)),\n",
        "      lambda x: eval(re.search(r\"```json\\n(.*?)\\n```\", x, re.DOTALL).group(1)),\n",
        "      lambda x: json.loads(re.search(r\"\\{.*\\}\", x, re.DOTALL.group(0))), # Extract shortest JSON-like object with eval\n",
        "      lambda x: eval(re.search(r\"\\{.*\\}\", x, re.DOTALL).group(0)), #Extract JSON-like content usinng eval.\n",
        "      lambda x: json.loads(re.search(r\"```json\\s*(\\{.*?\\})\\s*```\", x, re.DOTALL).group(1)), # Parse JSON in a ```json``` block\n",
        "  ]\n",
        "\n",
        "  for strategy in parsing_strategies:\n",
        "    try:\n",
        "      return strategy(text_to_parse)\n",
        "    except Exception:\n",
        "            continue\n",
        "\n",
        "\"\"\"\n",
        "if isinstance(parsed_json, str): # si ninguna de las estrategias de parseo funciona\n",
        "  text = re.sub(r\"```json\", \"\", parsed_json)\n",
        "  # Elimina todas las secuencias de \\n\n",
        "  text = re.sub(r\"\\\\n\", \"\", text)\n",
        "  # Elimina todas las secuencias de \\n\n",
        "  list_from_text = re.sub(r\"\\n\", \"\", text)\n",
        "  # (Opcional) elimina múltiples espacios si los hay\n",
        "  list_from_text = [re.sub(r\"\\s{2,}\", \" \", text)]\n",
        "\"\"\"\n"
      ],
      "metadata": {
        "id": "V5eyH-nrfQyg",
        "colab": {
          "base_uri": "https://localhost:8080/",
          "height": 88
        },
        "outputId": "5983bf76-c8ef-4cda-8728-a603b07b04a8"
      },
      "id": "V5eyH-nrfQyg",
      "execution_count": 27,
      "outputs": [
        {
          "output_type": "execute_result",
          "data": {
            "text/plain": [
              "'\\nif isinstance(parsed_json, str): # si ninguna de las estrategias de parseo funciona\\n  text = re.sub(r\"```json\", \"\", parsed_json)\\n  # Elimina todas las secuencias de \\n\\n  text = re.sub(r\"\\\\n\", \"\", text)\\n  # Elimina todas las secuencias de \\n\\n  list_from_text = re.sub(r\"\\n\", \"\", text)\\n  # (Opcional) elimina múltiples espacios si los hay\\n  list_from_text = [re.sub(r\"\\\\s{2,}\", \" \", text)]\\n'"
            ],
            "application/vnd.google.colaboratory.intrinsic+json": {
              "type": "string"
            }
          },
          "metadata": {},
          "execution_count": 27
        }
      ]
    },
    {
      "cell_type": "markdown",
      "source": [
        "Cáulculo del costo por petición a la API"
      ],
      "metadata": {
        "id": "a3kFur4_1Cml"
      },
      "id": "a3kFur4_1Cml"
    },
    {
      "cell_type": "code",
      "source": [
        "def computing_cost(response, input_cost, output_cost):\n",
        "  \"\"\"\n",
        "  Input and output cost per million tokens\n",
        "  \"\"\"\n",
        "  num_input_tokens = response.usage_metadata.prompt_token_count\n",
        "  num_output_tokens = response.usage_metadata.candidates_token_count\n",
        "  total_cost_per_call=((num_input_tokens)/1000000)*input_cost+((num_output_tokens)/1000000)*output_cost\n",
        "  print(f'El costo total de la petición fue de: {round(total_cost_per_call,4)} usd \\nTokens de entrada:{num_input_tokens}\\nTokens de salida:{num_output_tokens}')"
      ],
      "metadata": {
        "id": "s3eTG8NXtWuN"
      },
      "id": "s3eTG8NXtWuN",
      "execution_count": 51,
      "outputs": []
    },
    {
      "cell_type": "markdown",
      "source": [
        "#### Diseño y ejecución del modelo de lenguaje para filtrado de contenido textual, conservando la estructura inicial de la información."
      ],
      "metadata": {
        "id": "94YqCRA9rGfi"
      },
      "id": "94YqCRA9rGfi"
    },
    {
      "cell_type": "code",
      "source": [
        "import json\n",
        "from google import genai\n",
        "from google.genai import types\n",
        "from google.colab import userdata\n",
        "\n",
        "input_file = json_name # Del paso 1\n",
        "\n",
        "with open(input_file) as json_file:\n",
        "  json_contents = json_file.read()\n",
        "\n",
        "client = genai.Client(api_key=userdata.get(\"GOOGLE_API_KEY_1\"))\n",
        "\n",
        "model_id = \"gemini-2.0-flash\"\n",
        "\n",
        "system_prompt = \"\"\"\n",
        "Eres un desarrollador experimentado que recibe un archivo JSON con información de un e-commerce con los siguientes atributos:\n",
        "href, text, title y base_domain. Solo debes tomar la información contenida en \"internal\".\n",
        "\n",
        "Tu tarea es generar un JSON limpio removiendo los bloques de información que no hagan referencia a productos.\n",
        "Remueve los signos de puntuación por la letra sin tilde.\n",
        "\n",
        "Incluye contenido relacionado con productos, usualmente se encuentran por categorías. Por ejemplo:\n",
        "- Salud\n",
        "- Belleza\n",
        "- Vehículos\n",
        "- Alimentos\n",
        "- Moda\n",
        "\n",
        "Excluye contenido que tenga información relacionada con:\n",
        "- Políticas\n",
        "- Terminos y condiciones\n",
        "- Redes sociales\n",
        "\n",
        "\"\"\"\n",
        "prompt = f\"\"\"\n",
        "Ten en cuenta que no puedes agregar otras secciones diferentes a las mencionadas en la salida.\n",
        "\n",
        "Entrada:\n",
        "\"texto: {json_contents}\"\n",
        "\n",
        "la salida debe ser un JSON que mantenga la estructura del archivo de entrada.\n",
        "No debes agregar información adicional.\n",
        "\n",
        "Salida:\n",
        "\"href\": \"url\",\n",
        "\"text\": \"url description\",\n",
        "\"title\": \"\",\n",
        "\"base_domain\": \"site domain\"\n",
        "\"\"\"\n",
        "\n",
        "response = client.models.generate_content(\n",
        "    model=model_id,\n",
        "    contents=prompt,\n",
        "    config=types.GenerateContentConfig(\n",
        "        system_instruction=system_prompt,\n",
        "        temperature=0\n",
        "    )\n",
        ")\n",
        "\n",
        "computing_cost(response,gemini_2_0_flash_input_cost,gemini_2_0_flash_output_cost)"
      ],
      "metadata": {
        "id": "TVcgob_MOhjO",
        "collapsed": true
      },
      "id": "TVcgob_MOhjO",
      "execution_count": 14,
      "outputs": []
    },
    {
      "cell_type": "markdown",
      "source": [
        "Manipulación de la respuesta"
      ],
      "metadata": {
        "id": "uSQvTusPheea"
      },
      "id": "uSQvTusPheea"
    },
    {
      "cell_type": "code",
      "source": [
        "print(response.text)\n",
        "\n",
        "parsed_response = parse_to_dictionary(response.text)\n",
        "\n",
        "filtered_json_name = f\"{input_file.split('.')[0]}_cleaned.json\"\n",
        "\n",
        "with open(filtered_json_name, \"w\") as f:\n",
        "  json.dump(parsed_response, f, indent=4, ensure_ascii=False)\n",
        "  print(f\"{filtered_json_name} ha sido guardado\")\n",
        "\n",
        "#print(f\"Se ha filtrado el contenido con éxito. El número de sitios posibles a scrapear de {input_file.split('.')[0]} :{len(parsed_response['internal'])}\")"
      ],
      "metadata": {
        "colab": {
          "base_uri": "https://localhost:8080/"
        },
        "id": "lWqrirxRhWwL",
        "outputId": "67469f7e-efa9-46f5-94b3-78e8b18967d7"
      },
      "id": "lWqrirxRhWwL",
      "execution_count": 28,
      "outputs": [
        {
          "output_type": "stream",
          "name": "stdout",
          "text": [
            "```json\n",
            "{\n",
            "  \"internal\": [\n",
            "    {\n",
            "      \"href\": \"https://www.amazon.com/haul/store?ref_=nav_cs_hul_disb\",\n",
            "      \"text\": \"Amazon Haul\",\n",
            "      \"title\": \"\",\n",
            "      \"base_domain\": \"amazon.com\"\n",
            "    },\n",
            "    {\n",
            "      \"href\": \"https://health.amazon.com/prime?ref_=nav_cs_all_health_ingress_onem_h\",\n",
            "      \"text\": \"Medical Care\",\n",
            "      \"title\": \"\",\n",
            "      \"base_domain\": \"amazon.com\"\n",
            "    },\n",
            "    {\n",
            "      \"href\": \"https://www.amazon.com/luxurystores/saks?ref_=nav_cs_saks_disc\",\n",
            "      \"text\": \"Saks\",\n",
            "      \"title\": \"\",\n",
            "      \"base_domain\": \"amazon.com\"\n",
            "    },\n",
            "    {\n",
            "      \"href\": \"https://www.amazon.com/gp/bestsellers/?ref_=nav_cs_bestsellers\",\n",
            "      \"text\": \"Best Sellers\",\n",
            "      \"title\": \"\",\n",
            "      \"base_domain\": \"amazon.com\"\n",
            "    },\n",
            "    {\n",
            "      \"href\": \"https://www.amazon.com/Amazon_Basics?channel=discovbar&field-lbr_brands_browse-bin=AmazonBasics&ref_=nav_cs_amazonbasics\",\n",
            "      \"text\": \"Amazon Basics\",\n",
            "      \"title\": \"\",\n",
            "      \"base_domain\": \"amazon.com\"\n",
            "    },\n",
            "    {\n",
            "      \"href\": \"https://www.amazon.com/gp/new-releases/?ref_=nav_cs_newreleases\",\n",
            "      \"text\": \"New Releases\",\n",
            "      \"title\": \"\",\n",
            "      \"base_domain\": \"amazon.com\"\n",
            "    },\n",
            "    {\n",
            "      \"href\": \"https://www.amazon.com/gp/browse.html?node=16115931011&ref_=nav_cs_registry\",\n",
            "      \"text\": \"Registry\",\n",
            "      \"title\": \"\",\n",
            "      \"base_domain\": \"amazon.com\"\n",
            "    },\n",
            "    {\n",
            "      \"href\": \"https://www.amazon.com/fmc/learn-more?ref_=nav_cs_groceries\",\n",
            "      \"text\": \"Groceries\",\n",
            "      \"title\": \"\",\n",
            "      \"base_domain\": \"amazon.com\"\n",
            "    },\n",
            "    {\n",
            "      \"href\": \"https://www.amazon.com/gift-cards/b/?ie=UTF8&node=2238192011&ref_=nav_cs_gc\",\n",
            "      \"text\": \"Gift Cards\",\n",
            "      \"title\": \"\",\n",
            "      \"base_domain\": \"amazon.com\"\n",
            "    },\n",
            "    {\n",
            "      \"href\": \"https://www.amazon.com/Smart-Home/b/?ie=UTF8&node=6563140011&ref_=nav_cs_smart_home\",\n",
            "      \"text\": \"Smart Home\",\n",
            "      \"title\": \"\",\n",
            "      \"base_domain\": \"amazon.com\"\n",
            "    },\n",
            "    {\n",
            "      \"href\": \"https://www.amazon.com/deals?ref_=nav_cs_gb\",\n",
            "      \"text\": \"Today's Deals\",\n",
            "      \"title\": \"\",\n",
            "      \"base_domain\": \"amazon.com\"\n",
            "    },\n",
            "    {\n",
            "      \"href\": \"https://www.amazon.com/prime?ref_=nav_cs_primelink_nonmember\",\n",
            "      \"text\": \"Prime\",\n",
            "      \"title\": \"\",\n",
            "      \"base_domain\": \"amazon.com\"\n",
            "    },\n",
            "    {\n",
            "      \"href\": \"https://www.amazon.com/music/player?ref_=nav_cs_music\",\n",
            "      \"text\": \"Music\",\n",
            "      \"title\": \"\",\n",
            "      \"base_domain\": \"amazon.com\"\n",
            "    },\n",
            "    {\n",
            "      \"href\": \"https://www.amazon.com/books-used-books-textbooks/b/?ie=UTF8&node=283155&ref_=nav_cs_books\",\n",
            "      \"text\": \"Books\",\n",
            "      \"title\": \"\",\n",
            "      \"base_domain\": \"amazon.com\"\n",
            "    },\n",
            "    {\n",
            "      \"href\": \"https://pharmacy.amazon.com/?nodl=0&ref_=nav_cs_pharmacy\",\n",
            "      \"text\": \"Pharmacy\",\n",
            "      \"title\": \"\",\n",
            "      \"base_domain\": \"amazon.com\"\n",
            "    },\n",
            "    {\n",
            "      \"href\": \"https://www.amazon.com/luxurystores?ref_=nav_cs_luxury\",\n",
            "      \"text\": \"Luxury Stores\",\n",
            "      \"title\": \"\",\n",
            "      \"base_domain\": \"amazon.com\"\n",
            "    },\n",
            "    {\n",
            "      \"href\": \"https://www.amazon.com/home-garden-kitchen-furniture-bedding/b/?ie=UTF8&node=1055398&ref_=nav_cs_home\",\n",
            "      \"text\": \"Amazon Home\",\n",
            "      \"title\": \"\",\n",
            "      \"base_domain\": \"amazon.com\"\n",
            "    },\n",
            "    {\n",
            "      \"href\": \"https://www.amazon.com/amazon-fashion/b/?ie=UTF8&node=7141123011&ref_=nav_cs_fashion\",\n",
            "      \"text\": \"Fashion\",\n",
            "      \"title\": \"\",\n",
            "      \"base_domain\": \"amazon.com\"\n",
            "    },\n",
            "    {\n",
            "      \"href\": \"https://www.amazon.com/finds?ref_=nav_cs_foundit\",\n",
            "      \"text\": \"Shop By Interest\",\n",
            "      \"title\": \"\",\n",
            "      \"base_domain\": \"amazon.com\"\n",
            "    },\n",
            "    {\n",
            "      \"href\": \"https://www.amazon.com/toys/b/?ie=UTF8&node=165793011&ref_=nav_cs_toys\",\n",
            "      \"text\": \"Toys & Games\",\n",
            "      \"title\": \"\",\n",
            "      \"base_domain\": \"amazon.com\"\n",
            "    },\n",
            "    {\n",
            "      \"href\": \"https://www.amazon.com/Beauty-Makeup-Skin-Hair-Products/b/?ie=UTF8&node=3760911&ref_=nav_cs_beauty\",\n",
            "      \"text\": \"Beauty & Personal Care\",\n",
            "      \"title\": \"\",\n",
            "      \"base_domain\": \"amazon.com\"\n",
            "    },\n",
            "    {\n",
            "      \"href\": \"https://www.amazon.com/automotive-auto-truck-replacements-parts/b/?ie=UTF8&node=15684181&ref_=nav_cs_automotive\",\n",
            "      \"text\": \"Automotive\",\n",
            "      \"title\": \"\",\n",
            "      \"base_domain\": \"amazon.com\"\n",
            "    },\n",
            "    {\n",
            "      \"href\": \"https://www.amazon.com/Tools-and-Home-Improvement/b/?ie=UTF8&node=228013&ref_=nav_cs_hi\",\n",
            "      \"text\": \"Home Improvement\",\n",
            "      \"title\": \"\",\n",
            "      \"base_domain\": \"amazon.com\"\n",
            "    },\n",
            "    {\n",
            "      \"href\": \"https://www.amazon.com/computer-pc-hardware-accessories-add-ons/b/?ie=UTF8&node=541966&ref_=nav_cs_pc\",\n",
            "      \"text\": \"Computers\",\n",
            "      \"title\": \"\",\n",
            "      \"base_domain\": \"amazon.com\"\n",
            "    },\n",
            "    {\n",
            "      \"href\": \"https://www.amazon.com/sports-outdoors/b/?ie=UTF8&node=3375251&ref_=nav_cs_sports\",\n",
            "      \"text\": \"Sports & Outdoors\",\n",
            "      \"title\": \"\",\n",
            "      \"base_domain\": \"amazon.com\"\n",
            "    },\n",
            "    {\n",
            "      \"href\": \"https://www.amazon.com/gcx/Gifts-for-Everyone/gfhz/?ref_=nav_cs_giftfinder\",\n",
            "      \"text\": \"Gift Shop\",\n",
            "      \"title\": \"\",\n",
            "      \"base_domain\": \"amazon.com\"\n",
            "    },\n",
            "    {\n",
            "      \"href\": \"https://www.amazon.com/b/?node=2102313011&ref_=footer_devices\",\n",
            "      \"text\": \"Amazon Devices\",\n",
            "      \"title\": \"\",\n",
            "      \"base_domain\": \"amazon.com\"\n",
            "    },\n",
            "    {\n",
            "      \"href\": \"https://www.amazon.com/iss/credit/rewardscardmember?plattr=CBFOOT&ref_=footer_cbcc\",\n",
            "      \"text\": \"Amazon Visa\",\n",
            "      \"title\": \"\",\n",
            "      \"base_domain\": \"amazon.com\"\n",
            "    },\n",
            "    {\n",
            "      \"href\": \"https://www.amazon.com/credit/storecard/member?plattr=PLCCFOOT&ref_=footer_plcc\",\n",
            "      \"text\": \"Amazon Store Card\",\n",
            "      \"title\": \"\",\n",
            "      \"base_domain\": \"amazon.com\"\n",
            "    },\n",
            "    {\n",
            "      \"href\": \"https://www.amazon.com/dp/product/B084KP3NG6?plattr=SCFOOT&ref_=footer_ACB\",\n",
            "      \"text\": \"Amazon Secured Card\",\n",
            "      \"title\": \"\",\n",
            "      \"base_domain\": \"amazon.com\"\n",
            "    },\n",
            "    {\n",
            "      \"href\": \"https://www.amazon.com/dp/B07984JN3L?plattr=ACOMFO&ie=UTF-8\",\n",
            "      \"text\": \"Amazon Business Card\",\n",
            "      \"title\": \"\",\n",
            "      \"base_domain\": \"amazon.com\"\n",
            "    },\n",
            "    {\n",
            "      \"href\": \"https://www.amazon.com/hp/shopwithpoints/servicing\",\n",
            "      \"text\": \"Shop with Points\",\n",
            "      \"title\": \"\",\n",
            "      \"base_domain\": \"amazon.com\"\n",
            "    },\n",
            "    {\n",
            "      \"href\": \"https://www.amazon.com/gp/browse.html?node=3561432011&ref_=footer_ccmp\",\n",
            "      \"text\": \"Credit Card Marketplace\",\n",
            "      \"title\": \"\",\n",
            "      \"base_domain\": \"amazon.com\"\n",
            "    },\n",
            "    {\n",
            "      \"href\": \"https://www.amazon.com/gp/browse.html?node=10232440011&ref_=footer_reload_us\",\n",
            "      \"text\": \"Reload Your Balance\",\n",
            "      \"title\": \"\",\n",
            "      \"base_domain\": \"amazon.com\"\n",
            "    },\n",
            "    {\n",
            "      \"href\": \"https://www.amazon.com/b/?node=2238192011&ref=shop_footer_payments_gc_desktop\",\n",
            "      \"text\": \"Gift Cards\",\n",
            "      \"title\": \"\",\n",
            "      \"base_domain\": \"amazon.com\"\n",
            "    },\n",
            "    {\n",
            "      \"href\": \"https://www.amazon.com/gp/browse.html?node=388305011&ref_=footer_tfx\",\n",
            "      \"text\": \"Amazon Currency Converter\",\n",
            "      \"title\": \"\",\n",
            "      \"base_domain\": \"amazon.com\"\n",
            "    },\n",
            "    {\n",
            "      \"href\": \"https://www.amazon.com/gp/prime?ref_=footer_prime\",\n",
            "      \"text\": \"Amazon Prime\",\n",
            "      \"title\": \"\",\n",
            "      \"base_domain\": \"amazon.com\"\n",
            "    },\n",
            "    {\n",
            "      \"href\": \"https://www.amazon.com/hz/mycd/myx?ref_=footer_myk\",\n",
            "      \"text\": \"Manage Your Content and Devices\",\n",
            "      \"title\": \"\",\n",
            "      \"base_domain\": \"amazon.com\"\n",
            "    },\n",
            "    {\n",
            "      \"href\": \"https://www.amazon.com/product-safety-alerts?ref_=footer_bsx_ypsa\",\n",
            "      \"text\": \"Recalls and Product Safety Alerts\",\n",
            "      \"title\": \"\",\n",
            "      \"base_domain\": \"amazon.com\"\n",
            "    },\n",
            "    {\n",
            "      \"href\": \"https://www.amazon.com/registries?ref_=nav_footer_registry_giftlist_desktop\",\n",
            "      \"text\": \"Registry & Gift List\",\n",
            "      \"title\": \"\",\n",
            "      \"base_domain\": \"amazon.com\"\n",
            "    },\n",
            "    {\n",
            "      \"href\": \"https://www.amazon.com/alm/storefront?almBrandId=QW1hem9uIEZyZXNo&ref_=footer_aff_fresh\",\n",
            "      \"text\": \"Amazon FreshGroceries & MoreRight To Your Door\",\n",
            "      \"title\": \"\",\n",
            "      \"base_domain\": \"amazon.com\"\n",
            "    },\n",
            "    {\n",
            "      \"href\": \"https://www.amazon.com/gp/browse.html?node=230659011&ref_=footer_amazonglobal\",\n",
            "      \"text\": \"AmazonGlobalShip OrdersInternationally\",\n",
            "      \"title\": \"\",\n",
            "      \"base_domain\": \"amazon.com\"\n",
            "    },\n",
            "    {\n",
            "      \"href\": \"https://www.amazon.com/services?ref_=footer_services\",\n",
            "      \"text\": \"Home ServicesExperienced ProsHappiness Guarantee\",\n",
            "      \"title\": \"\",\n",
            "      \"base_domain\": \"amazon.com\"\n",
            "    },\n",
            "    {\n",
            "      \"href\": \"https://www.amazon.com/gp/browse.html?node=13234696011&ref_=_gno_p_foot\",\n",
            "      \"text\": \"Amazon PhotosUnlimited Photo StorageFree With Prime\",\n",
            "      \"title\": \"\",\n",
            "      \"base_domain\": \"amazon.com\"\n",
            "    },\n",
            "    {\n",
            "      \"href\": \"https://www.amazon.com/gp/browse.html?node=10158976011&ref_=footer_wrhsdls\",\n",
            "      \"text\": \"Amazon ResaleGreat Deals onQuality Used Products\",\n",
            "      \"title\": \"\",\n",
            "      \"base_domain\": \"amazon.com\"\n",
            "    },\n",
            "    {\n",
            "      \"href\": \"https://www.amazon.com/gp/browse.html?node=14498690011&ref_=amzn_nav_ftr_swa\",\n",
            "      \"text\": \"Amazon Subscription BoxesTop subscription boxes - right to your door\",\n",
            "      \"title\": \"\",\n",
            "      \"base_domain\": \"amazon.com\"\n",
            "    },\n",
            "    {\n",
            "      \"href\": \"https://www.amazon.com/gp/browse.html?node=12653393011&ref_=footer_usrenew\",\n",
            "      \"text\": \"Amazon RenewedLike-new productsyou can trust\",\n",
            "      \"title\": \"\",\n",
            "      \"base_domain\": \"amazon.com\"\n",
            "    }\n",
            "  ]\n",
            "}\n",
            "```\n",
            "amazon_2025-06-30_15-39-51_cleaned.json ha sido guardado\n"
          ]
        }
      ]
    },
    {
      "cell_type": "markdown",
      "source": [
        "## Paso 3\n",
        "Se toman las urls de producto identificadas en el paso anterior y extraen markdowns con la información de interés.\n",
        "\n",
        "Se guardan cada uno de los archivos y también se apilan en la lista *raw_output*"
      ],
      "metadata": {
        "id": "9DpH9Hyr4QBl"
      },
      "id": "9DpH9Hyr4QBl"
    },
    {
      "cell_type": "markdown",
      "source": [],
      "metadata": {
        "id": "N1nzTWVU6o5o"
      },
      "id": "N1nzTWVU6o5o"
    },
    {
      "cell_type": "code",
      "source": [
        "import re\n",
        "import datetime\n",
        "import asyncio\n",
        "from crawl4ai import AsyncWebCrawler\n",
        "\n",
        "input_file = filtered_json_name # del paso 2\n",
        "\n",
        "with open(input_file) as json_file:\n",
        "  json_contents = json_file.read()\n",
        "\n",
        "parsed_json = parse_to_dictionary(json_contents)\n",
        "\n",
        "async def main(url):\n",
        "    # Create an instance of AsyncWebCrawler\n",
        "    async with AsyncWebCrawler() as crawler:\n",
        "        # Run the crawler on a URL\n",
        "        result = await crawler.arun(url)\n",
        "\n",
        "        # Get the current date and time\n",
        "        now = datetime.datetime.now()\n",
        "\n",
        "        # Format the date and time as a string (e.g., \"2025-06-23_14-30-00\")\n",
        "        formatted_datetime = now.strftime(\"%Y-%m-%d_%H-%M-%S\")\n",
        "\n",
        "        # Save the markdown to a file\n",
        "        if result.success:\n",
        "            with open(url.split('.')[1] + '_' + formatted_datetime + '.md', \"w\", encoding=\"utf-8\") as f:\n",
        "                f.write(result.markdown.raw_markdown)\n",
        "            print(f\"Markdown saved to {url.split('.')[1]}_{formatted_datetime}\")\n",
        "        else:\n",
        "            print(f\"Failed to crawl: {result.error_message}\")\n",
        "    return result\n",
        "\n",
        "# Run the async main function\n",
        "raw_output = []\n",
        "\n",
        "for item in range(len(parsed_json['internal'])):\n",
        "  output = await(main(url=parsed_json['internal'][item-1]['href'])) #crawl4ai.models.CrawlResultContainer\n",
        "  raw_output.append(output)"
      ],
      "metadata": {
        "colab": {
          "base_uri": "https://localhost:8080/",
          "height": 1000
        },
        "id": "rjD6McnTBH_W",
        "outputId": "90f5d714-1310-49eb-82fe-de0eb97b8a53"
      },
      "id": "rjD6McnTBH_W",
      "execution_count": 29,
      "outputs": [
        {
          "output_type": "display_data",
          "data": {
            "text/plain": [
              "\u001b[1;36m[\u001b[0m\u001b[36mINIT\u001b[0m\u001b[1;36m]\u001b[0m\u001b[36m...\u001b[0m\u001b[36m. → Crawl4AI \u001b[0m\u001b[1;36m0.6\u001b[0m\u001b[36m.\u001b[0m\u001b[1;36m3\u001b[0m\u001b[36m \u001b[0m\n"
            ],
            "text/html": [
              "<pre style=\"white-space:pre;overflow-x:auto;line-height:normal;font-family:Menlo,'DejaVu Sans Mono',consolas,'Courier New',monospace\"><span style=\"color: #008080; text-decoration-color: #008080; font-weight: bold\">[</span><span style=\"color: #008080; text-decoration-color: #008080\">INIT</span><span style=\"color: #008080; text-decoration-color: #008080; font-weight: bold\">]</span><span style=\"color: #008080; text-decoration-color: #008080\">.... → Crawl4AI </span><span style=\"color: #008080; text-decoration-color: #008080; font-weight: bold\">0.6</span><span style=\"color: #008080; text-decoration-color: #008080\">.</span><span style=\"color: #008080; text-decoration-color: #008080; font-weight: bold\">3</span><span style=\"color: #008080; text-decoration-color: #008080\"> </span>\n",
              "</pre>\n"
            ]
          },
          "metadata": {}
        },
        {
          "output_type": "display_data",
          "data": {
            "text/plain": [
              "\u001b[1;32m[\u001b[0m\u001b[32mFETCH\u001b[0m\u001b[1;32m]\u001b[0m\u001b[32m...\u001b[0m\u001b[32m ↓ \u001b[0m\u001b[4;32mhttps://www.amazon.com/gp/browse.html?\u001b[0m\u001b[4;32mnode\u001b[0m\u001b[4;32m=\u001b[0m\u001b[4;32m12653393011\u001b[0m\u001b[4;32m&\u001b[0m\u001b[4;32mref_\u001b[0m\u001b[4;32m=\u001b[0m\u001b[4;32mfooter_usrenew\u001b[0m\u001b[32m                           |\u001b[0m\n",
              "\u001b[32m✓\u001b[0m\u001b[32m | ⏱: \u001b[0m\u001b[1;32m7.\u001b[0m\u001b[32m12s \u001b[0m\n"
            ],
            "text/html": [
              "<pre style=\"white-space:pre;overflow-x:auto;line-height:normal;font-family:Menlo,'DejaVu Sans Mono',consolas,'Courier New',monospace\"><span style=\"color: #008000; text-decoration-color: #008000; font-weight: bold\">[</span><span style=\"color: #008000; text-decoration-color: #008000\">FETCH</span><span style=\"color: #008000; text-decoration-color: #008000; font-weight: bold\">]</span><span style=\"color: #008000; text-decoration-color: #008000\">... ↓ </span><span style=\"color: #008000; text-decoration-color: #008000; text-decoration: underline\">https://www.amazon.com/gp/browse.html?node=12653393011&amp;ref_=footer_usrenew</span><span style=\"color: #008000; text-decoration-color: #008000\">                           |</span>\n",
              "<span style=\"color: #008000; text-decoration-color: #008000\">✓ | ⏱: </span><span style=\"color: #008000; text-decoration-color: #008000; font-weight: bold\">7.</span><span style=\"color: #008000; text-decoration-color: #008000\">12s </span>\n",
              "</pre>\n"
            ]
          },
          "metadata": {}
        },
        {
          "output_type": "display_data",
          "data": {
            "text/plain": [
              "\u001b[1;32m[\u001b[0m\u001b[32mSCRAPE\u001b[0m\u001b[1;32m]\u001b[0m\u001b[32m.. ◆ \u001b[0m\u001b[4;32mhttps://www.amazon.com/gp/browse.html?\u001b[0m\u001b[4;32mnode\u001b[0m\u001b[4;32m=\u001b[0m\u001b[4;32m12653393011\u001b[0m\u001b[4;32m&\u001b[0m\u001b[4;32mref_\u001b[0m\u001b[4;32m=\u001b[0m\u001b[4;32mfooter_usrenew\u001b[0m\u001b[32m                           |\u001b[0m\n",
              "\u001b[32m✓\u001b[0m\u001b[32m | ⏱: \u001b[0m\u001b[1;32m1.\u001b[0m\u001b[32m42s \u001b[0m\n"
            ],
            "text/html": [
              "<pre style=\"white-space:pre;overflow-x:auto;line-height:normal;font-family:Menlo,'DejaVu Sans Mono',consolas,'Courier New',monospace\"><span style=\"color: #008000; text-decoration-color: #008000; font-weight: bold\">[</span><span style=\"color: #008000; text-decoration-color: #008000\">SCRAPE</span><span style=\"color: #008000; text-decoration-color: #008000; font-weight: bold\">]</span><span style=\"color: #008000; text-decoration-color: #008000\">.. ◆ </span><span style=\"color: #008000; text-decoration-color: #008000; text-decoration: underline\">https://www.amazon.com/gp/browse.html?node=12653393011&amp;ref_=footer_usrenew</span><span style=\"color: #008000; text-decoration-color: #008000\">                           |</span>\n",
              "<span style=\"color: #008000; text-decoration-color: #008000\">✓ | ⏱: </span><span style=\"color: #008000; text-decoration-color: #008000; font-weight: bold\">1.</span><span style=\"color: #008000; text-decoration-color: #008000\">42s </span>\n",
              "</pre>\n"
            ]
          },
          "metadata": {}
        },
        {
          "output_type": "display_data",
          "data": {
            "text/plain": [
              "\u001b[1;32m[\u001b[0m\u001b[32mCOMPLETE\u001b[0m\u001b[1;32m]\u001b[0m\u001b[32m ● \u001b[0m\u001b[4;32mhttps://www.amazon.com/gp/browse.html?\u001b[0m\u001b[4;32mnode\u001b[0m\u001b[4;32m=\u001b[0m\u001b[4;32m12653393011\u001b[0m\u001b[4;32m&\u001b[0m\u001b[4;32mref_\u001b[0m\u001b[4;32m=\u001b[0m\u001b[4;32mfooter_usrenew\u001b[0m\u001b[32m                           |\u001b[0m\n",
              "\u001b[32m✓\u001b[0m\u001b[32m | ⏱: \u001b[0m\u001b[1;32m8.\u001b[0m\u001b[32m56s \u001b[0m\n"
            ],
            "text/html": [
              "<pre style=\"white-space:pre;overflow-x:auto;line-height:normal;font-family:Menlo,'DejaVu Sans Mono',consolas,'Courier New',monospace\"><span style=\"color: #008000; text-decoration-color: #008000; font-weight: bold\">[</span><span style=\"color: #008000; text-decoration-color: #008000\">COMPLETE</span><span style=\"color: #008000; text-decoration-color: #008000; font-weight: bold\">]</span><span style=\"color: #008000; text-decoration-color: #008000\"> ● </span><span style=\"color: #008000; text-decoration-color: #008000; text-decoration: underline\">https://www.amazon.com/gp/browse.html?node=12653393011&amp;ref_=footer_usrenew</span><span style=\"color: #008000; text-decoration-color: #008000\">                           |</span>\n",
              "<span style=\"color: #008000; text-decoration-color: #008000\">✓ | ⏱: </span><span style=\"color: #008000; text-decoration-color: #008000; font-weight: bold\">8.</span><span style=\"color: #008000; text-decoration-color: #008000\">56s </span>\n",
              "</pre>\n"
            ]
          },
          "metadata": {}
        },
        {
          "output_type": "stream",
          "name": "stdout",
          "text": [
            "Markdown saved to amazon_2025-06-30_16-16-26\n"
          ]
        },
        {
          "output_type": "display_data",
          "data": {
            "text/plain": [
              "\u001b[1;36m[\u001b[0m\u001b[36mINIT\u001b[0m\u001b[1;36m]\u001b[0m\u001b[36m...\u001b[0m\u001b[36m. → Crawl4AI \u001b[0m\u001b[1;36m0.6\u001b[0m\u001b[36m.\u001b[0m\u001b[1;36m3\u001b[0m\u001b[36m \u001b[0m\n"
            ],
            "text/html": [
              "<pre style=\"white-space:pre;overflow-x:auto;line-height:normal;font-family:Menlo,'DejaVu Sans Mono',consolas,'Courier New',monospace\"><span style=\"color: #008080; text-decoration-color: #008080; font-weight: bold\">[</span><span style=\"color: #008080; text-decoration-color: #008080\">INIT</span><span style=\"color: #008080; text-decoration-color: #008080; font-weight: bold\">]</span><span style=\"color: #008080; text-decoration-color: #008080\">.... → Crawl4AI </span><span style=\"color: #008080; text-decoration-color: #008080; font-weight: bold\">0.6</span><span style=\"color: #008080; text-decoration-color: #008080\">.</span><span style=\"color: #008080; text-decoration-color: #008080; font-weight: bold\">3</span><span style=\"color: #008080; text-decoration-color: #008080\"> </span>\n",
              "</pre>\n"
            ]
          },
          "metadata": {}
        },
        {
          "output_type": "display_data",
          "data": {
            "text/plain": [
              "\u001b[1;32m[\u001b[0m\u001b[32mFETCH\u001b[0m\u001b[1;32m]\u001b[0m\u001b[32m...\u001b[0m\u001b[32m ↓ \u001b[0m\u001b[4;32mhttps://www.amazon.com/haul/store?\u001b[0m\u001b[4;32mref_\u001b[0m\u001b[4;32m=\u001b[0m\u001b[4;32mnav_cs_hul_disb\u001b[0m\u001b[32m                                               |\u001b[0m\n",
              "\u001b[32m✓\u001b[0m\u001b[32m | ⏱: \u001b[0m\u001b[1;32m4.\u001b[0m\u001b[32m80s \u001b[0m\n"
            ],
            "text/html": [
              "<pre style=\"white-space:pre;overflow-x:auto;line-height:normal;font-family:Menlo,'DejaVu Sans Mono',consolas,'Courier New',monospace\"><span style=\"color: #008000; text-decoration-color: #008000; font-weight: bold\">[</span><span style=\"color: #008000; text-decoration-color: #008000\">FETCH</span><span style=\"color: #008000; text-decoration-color: #008000; font-weight: bold\">]</span><span style=\"color: #008000; text-decoration-color: #008000\">... ↓ </span><span style=\"color: #008000; text-decoration-color: #008000; text-decoration: underline\">https://www.amazon.com/haul/store?ref_=nav_cs_hul_disb</span><span style=\"color: #008000; text-decoration-color: #008000\">                                               |</span>\n",
              "<span style=\"color: #008000; text-decoration-color: #008000\">✓ | ⏱: </span><span style=\"color: #008000; text-decoration-color: #008000; font-weight: bold\">4.</span><span style=\"color: #008000; text-decoration-color: #008000\">80s </span>\n",
              "</pre>\n"
            ]
          },
          "metadata": {}
        },
        {
          "output_type": "display_data",
          "data": {
            "text/plain": [
              "\u001b[1;32m[\u001b[0m\u001b[32mSCRAPE\u001b[0m\u001b[1;32m]\u001b[0m\u001b[32m.. ◆ \u001b[0m\u001b[4;32mhttps://www.amazon.com/haul/store?\u001b[0m\u001b[4;32mref_\u001b[0m\u001b[4;32m=\u001b[0m\u001b[4;32mnav_cs_hul_disb\u001b[0m\u001b[32m                                               |\u001b[0m\n",
              "\u001b[32m✓\u001b[0m\u001b[32m | ⏱: \u001b[0m\u001b[1;32m0.\u001b[0m\u001b[32m30s \u001b[0m\n"
            ],
            "text/html": [
              "<pre style=\"white-space:pre;overflow-x:auto;line-height:normal;font-family:Menlo,'DejaVu Sans Mono',consolas,'Courier New',monospace\"><span style=\"color: #008000; text-decoration-color: #008000; font-weight: bold\">[</span><span style=\"color: #008000; text-decoration-color: #008000\">SCRAPE</span><span style=\"color: #008000; text-decoration-color: #008000; font-weight: bold\">]</span><span style=\"color: #008000; text-decoration-color: #008000\">.. ◆ </span><span style=\"color: #008000; text-decoration-color: #008000; text-decoration: underline\">https://www.amazon.com/haul/store?ref_=nav_cs_hul_disb</span><span style=\"color: #008000; text-decoration-color: #008000\">                                               |</span>\n",
              "<span style=\"color: #008000; text-decoration-color: #008000\">✓ | ⏱: </span><span style=\"color: #008000; text-decoration-color: #008000; font-weight: bold\">0.</span><span style=\"color: #008000; text-decoration-color: #008000\">30s </span>\n",
              "</pre>\n"
            ]
          },
          "metadata": {}
        },
        {
          "output_type": "display_data",
          "data": {
            "text/plain": [
              "\u001b[1;32m[\u001b[0m\u001b[32mCOMPLETE\u001b[0m\u001b[1;32m]\u001b[0m\u001b[32m ● \u001b[0m\u001b[4;32mhttps://www.amazon.com/haul/store?\u001b[0m\u001b[4;32mref_\u001b[0m\u001b[4;32m=\u001b[0m\u001b[4;32mnav_cs_hul_disb\u001b[0m\u001b[32m                                               |\u001b[0m\n",
              "\u001b[32m✓\u001b[0m\u001b[32m | ⏱: \u001b[0m\u001b[1;32m5.\u001b[0m\u001b[32m11s \u001b[0m\n"
            ],
            "text/html": [
              "<pre style=\"white-space:pre;overflow-x:auto;line-height:normal;font-family:Menlo,'DejaVu Sans Mono',consolas,'Courier New',monospace\"><span style=\"color: #008000; text-decoration-color: #008000; font-weight: bold\">[</span><span style=\"color: #008000; text-decoration-color: #008000\">COMPLETE</span><span style=\"color: #008000; text-decoration-color: #008000; font-weight: bold\">]</span><span style=\"color: #008000; text-decoration-color: #008000\"> ● </span><span style=\"color: #008000; text-decoration-color: #008000; text-decoration: underline\">https://www.amazon.com/haul/store?ref_=nav_cs_hul_disb</span><span style=\"color: #008000; text-decoration-color: #008000\">                                               |</span>\n",
              "<span style=\"color: #008000; text-decoration-color: #008000\">✓ | ⏱: </span><span style=\"color: #008000; text-decoration-color: #008000; font-weight: bold\">5.</span><span style=\"color: #008000; text-decoration-color: #008000\">11s </span>\n",
              "</pre>\n"
            ]
          },
          "metadata": {}
        },
        {
          "output_type": "stream",
          "name": "stdout",
          "text": [
            "Markdown saved to amazon_2025-06-30_16-16-33\n"
          ]
        },
        {
          "output_type": "display_data",
          "data": {
            "text/plain": [
              "\u001b[1;36m[\u001b[0m\u001b[36mINIT\u001b[0m\u001b[1;36m]\u001b[0m\u001b[36m...\u001b[0m\u001b[36m. → Crawl4AI \u001b[0m\u001b[1;36m0.6\u001b[0m\u001b[36m.\u001b[0m\u001b[1;36m3\u001b[0m\u001b[36m \u001b[0m\n"
            ],
            "text/html": [
              "<pre style=\"white-space:pre;overflow-x:auto;line-height:normal;font-family:Menlo,'DejaVu Sans Mono',consolas,'Courier New',monospace\"><span style=\"color: #008080; text-decoration-color: #008080; font-weight: bold\">[</span><span style=\"color: #008080; text-decoration-color: #008080\">INIT</span><span style=\"color: #008080; text-decoration-color: #008080; font-weight: bold\">]</span><span style=\"color: #008080; text-decoration-color: #008080\">.... → Crawl4AI </span><span style=\"color: #008080; text-decoration-color: #008080; font-weight: bold\">0.6</span><span style=\"color: #008080; text-decoration-color: #008080\">.</span><span style=\"color: #008080; text-decoration-color: #008080; font-weight: bold\">3</span><span style=\"color: #008080; text-decoration-color: #008080\"> </span>\n",
              "</pre>\n"
            ]
          },
          "metadata": {}
        },
        {
          "output_type": "display_data",
          "data": {
            "text/plain": [
              "\u001b[1;32m[\u001b[0m\u001b[32mFETCH\u001b[0m\u001b[1;32m]\u001b[0m\u001b[32m...\u001b[0m\u001b[32m ↓ \u001b[0m\u001b[4;32mhttps://health.amazon.com/prime?\u001b[0m\u001b[4;32mref_\u001b[0m\u001b[4;32m=\u001b[0m\u001b[4;32mnav_cs_all_health_ingress_onem_h\u001b[0m\u001b[32m                                |\u001b[0m\n",
              "\u001b[32m✓\u001b[0m\u001b[32m | ⏱: \u001b[0m\u001b[1;32m7.\u001b[0m\u001b[32m77s \u001b[0m\n"
            ],
            "text/html": [
              "<pre style=\"white-space:pre;overflow-x:auto;line-height:normal;font-family:Menlo,'DejaVu Sans Mono',consolas,'Courier New',monospace\"><span style=\"color: #008000; text-decoration-color: #008000; font-weight: bold\">[</span><span style=\"color: #008000; text-decoration-color: #008000\">FETCH</span><span style=\"color: #008000; text-decoration-color: #008000; font-weight: bold\">]</span><span style=\"color: #008000; text-decoration-color: #008000\">... ↓ </span><span style=\"color: #008000; text-decoration-color: #008000; text-decoration: underline\">https://health.amazon.com/prime?ref_=nav_cs_all_health_ingress_onem_h</span><span style=\"color: #008000; text-decoration-color: #008000\">                                |</span>\n",
              "<span style=\"color: #008000; text-decoration-color: #008000\">✓ | ⏱: </span><span style=\"color: #008000; text-decoration-color: #008000; font-weight: bold\">7.</span><span style=\"color: #008000; text-decoration-color: #008000\">77s </span>\n",
              "</pre>\n"
            ]
          },
          "metadata": {}
        },
        {
          "output_type": "display_data",
          "data": {
            "text/plain": [
              "\u001b[1;32m[\u001b[0m\u001b[32mSCRAPE\u001b[0m\u001b[1;32m]\u001b[0m\u001b[32m.. ◆ \u001b[0m\u001b[4;32mhttps://health.amazon.com/prime?\u001b[0m\u001b[4;32mref_\u001b[0m\u001b[4;32m=\u001b[0m\u001b[4;32mnav_cs_all_health_ingress_onem_h\u001b[0m\u001b[32m                                |\u001b[0m\n",
              "\u001b[32m✓\u001b[0m\u001b[32m | ⏱: \u001b[0m\u001b[1;32m1.\u001b[0m\u001b[32m01s \u001b[0m\n"
            ],
            "text/html": [
              "<pre style=\"white-space:pre;overflow-x:auto;line-height:normal;font-family:Menlo,'DejaVu Sans Mono',consolas,'Courier New',monospace\"><span style=\"color: #008000; text-decoration-color: #008000; font-weight: bold\">[</span><span style=\"color: #008000; text-decoration-color: #008000\">SCRAPE</span><span style=\"color: #008000; text-decoration-color: #008000; font-weight: bold\">]</span><span style=\"color: #008000; text-decoration-color: #008000\">.. ◆ </span><span style=\"color: #008000; text-decoration-color: #008000; text-decoration: underline\">https://health.amazon.com/prime?ref_=nav_cs_all_health_ingress_onem_h</span><span style=\"color: #008000; text-decoration-color: #008000\">                                |</span>\n",
              "<span style=\"color: #008000; text-decoration-color: #008000\">✓ | ⏱: </span><span style=\"color: #008000; text-decoration-color: #008000; font-weight: bold\">1.</span><span style=\"color: #008000; text-decoration-color: #008000\">01s </span>\n",
              "</pre>\n"
            ]
          },
          "metadata": {}
        },
        {
          "output_type": "display_data",
          "data": {
            "text/plain": [
              "\u001b[1;32m[\u001b[0m\u001b[32mCOMPLETE\u001b[0m\u001b[1;32m]\u001b[0m\u001b[32m ● \u001b[0m\u001b[4;32mhttps://health.amazon.com/prime?\u001b[0m\u001b[4;32mref_\u001b[0m\u001b[4;32m=\u001b[0m\u001b[4;32mnav_cs_all_health_ingress_onem_h\u001b[0m\u001b[32m                                |\u001b[0m\n",
              "\u001b[32m✓\u001b[0m\u001b[32m | ⏱: \u001b[0m\u001b[1;32m8.\u001b[0m\u001b[32m79s \u001b[0m\n"
            ],
            "text/html": [
              "<pre style=\"white-space:pre;overflow-x:auto;line-height:normal;font-family:Menlo,'DejaVu Sans Mono',consolas,'Courier New',monospace\"><span style=\"color: #008000; text-decoration-color: #008000; font-weight: bold\">[</span><span style=\"color: #008000; text-decoration-color: #008000\">COMPLETE</span><span style=\"color: #008000; text-decoration-color: #008000; font-weight: bold\">]</span><span style=\"color: #008000; text-decoration-color: #008000\"> ● </span><span style=\"color: #008000; text-decoration-color: #008000; text-decoration: underline\">https://health.amazon.com/prime?ref_=nav_cs_all_health_ingress_onem_h</span><span style=\"color: #008000; text-decoration-color: #008000\">                                |</span>\n",
              "<span style=\"color: #008000; text-decoration-color: #008000\">✓ | ⏱: </span><span style=\"color: #008000; text-decoration-color: #008000; font-weight: bold\">8.</span><span style=\"color: #008000; text-decoration-color: #008000\">79s </span>\n",
              "</pre>\n"
            ]
          },
          "metadata": {}
        },
        {
          "output_type": "stream",
          "name": "stdout",
          "text": [
            "Markdown saved to amazon_2025-06-30_16-16-42\n"
          ]
        },
        {
          "output_type": "display_data",
          "data": {
            "text/plain": [
              "\u001b[1;36m[\u001b[0m\u001b[36mINIT\u001b[0m\u001b[1;36m]\u001b[0m\u001b[36m...\u001b[0m\u001b[36m. → Crawl4AI \u001b[0m\u001b[1;36m0.6\u001b[0m\u001b[36m.\u001b[0m\u001b[1;36m3\u001b[0m\u001b[36m \u001b[0m\n"
            ],
            "text/html": [
              "<pre style=\"white-space:pre;overflow-x:auto;line-height:normal;font-family:Menlo,'DejaVu Sans Mono',consolas,'Courier New',monospace\"><span style=\"color: #008080; text-decoration-color: #008080; font-weight: bold\">[</span><span style=\"color: #008080; text-decoration-color: #008080\">INIT</span><span style=\"color: #008080; text-decoration-color: #008080; font-weight: bold\">]</span><span style=\"color: #008080; text-decoration-color: #008080\">.... → Crawl4AI </span><span style=\"color: #008080; text-decoration-color: #008080; font-weight: bold\">0.6</span><span style=\"color: #008080; text-decoration-color: #008080\">.</span><span style=\"color: #008080; text-decoration-color: #008080; font-weight: bold\">3</span><span style=\"color: #008080; text-decoration-color: #008080\"> </span>\n",
              "</pre>\n"
            ]
          },
          "metadata": {}
        },
        {
          "output_type": "display_data",
          "data": {
            "text/plain": [
              "\u001b[1;32m[\u001b[0m\u001b[32mFETCH\u001b[0m\u001b[1;32m]\u001b[0m\u001b[32m...\u001b[0m\u001b[32m ↓ \u001b[0m\u001b[4;32mhttps://www.amazon.com/luxurystores/saks?\u001b[0m\u001b[4;32mref_\u001b[0m\u001b[4;32m=\u001b[0m\u001b[4;32mnav_cs_saks_disc\u001b[0m\u001b[32m                                       |\u001b[0m\n",
              "\u001b[32m✓\u001b[0m\u001b[32m | ⏱: \u001b[0m\u001b[1;32m4.\u001b[0m\u001b[32m75s \u001b[0m\n"
            ],
            "text/html": [
              "<pre style=\"white-space:pre;overflow-x:auto;line-height:normal;font-family:Menlo,'DejaVu Sans Mono',consolas,'Courier New',monospace\"><span style=\"color: #008000; text-decoration-color: #008000; font-weight: bold\">[</span><span style=\"color: #008000; text-decoration-color: #008000\">FETCH</span><span style=\"color: #008000; text-decoration-color: #008000; font-weight: bold\">]</span><span style=\"color: #008000; text-decoration-color: #008000\">... ↓ </span><span style=\"color: #008000; text-decoration-color: #008000; text-decoration: underline\">https://www.amazon.com/luxurystores/saks?ref_=nav_cs_saks_disc</span><span style=\"color: #008000; text-decoration-color: #008000\">                                       |</span>\n",
              "<span style=\"color: #008000; text-decoration-color: #008000\">✓ | ⏱: </span><span style=\"color: #008000; text-decoration-color: #008000; font-weight: bold\">4.</span><span style=\"color: #008000; text-decoration-color: #008000\">75s </span>\n",
              "</pre>\n"
            ]
          },
          "metadata": {}
        },
        {
          "output_type": "display_data",
          "data": {
            "text/plain": [
              "\u001b[1;32m[\u001b[0m\u001b[32mSCRAPE\u001b[0m\u001b[1;32m]\u001b[0m\u001b[32m.. ◆ \u001b[0m\u001b[4;32mhttps://www.amazon.com/luxurystores/saks?\u001b[0m\u001b[4;32mref_\u001b[0m\u001b[4;32m=\u001b[0m\u001b[4;32mnav_cs_saks_disc\u001b[0m\u001b[32m                                       |\u001b[0m\n",
              "\u001b[32m✓\u001b[0m\u001b[32m | ⏱: \u001b[0m\u001b[1;33m0.\u001b[0m\u001b[33m24\u001b[0m\u001b[32ms \u001b[0m\n"
            ],
            "text/html": [
              "<pre style=\"white-space:pre;overflow-x:auto;line-height:normal;font-family:Menlo,'DejaVu Sans Mono',consolas,'Courier New',monospace\"><span style=\"color: #008000; text-decoration-color: #008000; font-weight: bold\">[</span><span style=\"color: #008000; text-decoration-color: #008000\">SCRAPE</span><span style=\"color: #008000; text-decoration-color: #008000; font-weight: bold\">]</span><span style=\"color: #008000; text-decoration-color: #008000\">.. ◆ </span><span style=\"color: #008000; text-decoration-color: #008000; text-decoration: underline\">https://www.amazon.com/luxurystores/saks?ref_=nav_cs_saks_disc</span><span style=\"color: #008000; text-decoration-color: #008000\">                                       |</span>\n",
              "<span style=\"color: #008000; text-decoration-color: #008000\">✓ | ⏱: </span><span style=\"color: #808000; text-decoration-color: #808000; font-weight: bold\">0.</span><span style=\"color: #808000; text-decoration-color: #808000\">24</span><span style=\"color: #008000; text-decoration-color: #008000\">s </span>\n",
              "</pre>\n"
            ]
          },
          "metadata": {}
        },
        {
          "output_type": "display_data",
          "data": {
            "text/plain": [
              "\u001b[1;32m[\u001b[0m\u001b[32mCOMPLETE\u001b[0m\u001b[1;32m]\u001b[0m\u001b[32m ● \u001b[0m\u001b[4;32mhttps://www.amazon.com/luxurystores/saks?\u001b[0m\u001b[4;32mref_\u001b[0m\u001b[4;32m=\u001b[0m\u001b[4;32mnav_cs_saks_disc\u001b[0m\u001b[32m                                       |\u001b[0m\n",
              "\u001b[32m✓\u001b[0m\u001b[32m | ⏱: \u001b[0m\u001b[1;32m5.\u001b[0m\u001b[32m00s \u001b[0m\n"
            ],
            "text/html": [
              "<pre style=\"white-space:pre;overflow-x:auto;line-height:normal;font-family:Menlo,'DejaVu Sans Mono',consolas,'Courier New',monospace\"><span style=\"color: #008000; text-decoration-color: #008000; font-weight: bold\">[</span><span style=\"color: #008000; text-decoration-color: #008000\">COMPLETE</span><span style=\"color: #008000; text-decoration-color: #008000; font-weight: bold\">]</span><span style=\"color: #008000; text-decoration-color: #008000\"> ● </span><span style=\"color: #008000; text-decoration-color: #008000; text-decoration: underline\">https://www.amazon.com/luxurystores/saks?ref_=nav_cs_saks_disc</span><span style=\"color: #008000; text-decoration-color: #008000\">                                       |</span>\n",
              "<span style=\"color: #008000; text-decoration-color: #008000\">✓ | ⏱: </span><span style=\"color: #008000; text-decoration-color: #008000; font-weight: bold\">5.</span><span style=\"color: #008000; text-decoration-color: #008000\">00s </span>\n",
              "</pre>\n"
            ]
          },
          "metadata": {}
        },
        {
          "output_type": "stream",
          "name": "stdout",
          "text": [
            "Markdown saved to amazon_2025-06-30_16-16-51\n"
          ]
        },
        {
          "output_type": "display_data",
          "data": {
            "text/plain": [
              "\u001b[1;36m[\u001b[0m\u001b[36mINIT\u001b[0m\u001b[1;36m]\u001b[0m\u001b[36m...\u001b[0m\u001b[36m. → Crawl4AI \u001b[0m\u001b[1;36m0.6\u001b[0m\u001b[36m.\u001b[0m\u001b[1;36m3\u001b[0m\u001b[36m \u001b[0m\n"
            ],
            "text/html": [
              "<pre style=\"white-space:pre;overflow-x:auto;line-height:normal;font-family:Menlo,'DejaVu Sans Mono',consolas,'Courier New',monospace\"><span style=\"color: #008080; text-decoration-color: #008080; font-weight: bold\">[</span><span style=\"color: #008080; text-decoration-color: #008080\">INIT</span><span style=\"color: #008080; text-decoration-color: #008080; font-weight: bold\">]</span><span style=\"color: #008080; text-decoration-color: #008080\">.... → Crawl4AI </span><span style=\"color: #008080; text-decoration-color: #008080; font-weight: bold\">0.6</span><span style=\"color: #008080; text-decoration-color: #008080\">.</span><span style=\"color: #008080; text-decoration-color: #008080; font-weight: bold\">3</span><span style=\"color: #008080; text-decoration-color: #008080\"> </span>\n",
              "</pre>\n"
            ]
          },
          "metadata": {}
        },
        {
          "output_type": "display_data",
          "data": {
            "text/plain": [
              "\u001b[1;32m[\u001b[0m\u001b[32mFETCH\u001b[0m\u001b[1;32m]\u001b[0m\u001b[32m...\u001b[0m\u001b[32m ↓ \u001b[0m\u001b[4;32mhttps://www.amazon.com/gp/bestsellers/?\u001b[0m\u001b[4;32mref_\u001b[0m\u001b[4;32m=\u001b[0m\u001b[4;32mnav_cs_bestsellers\u001b[0m\u001b[32m                                       |\u001b[0m\n",
              "\u001b[32m✓\u001b[0m\u001b[32m | ⏱: \u001b[0m\u001b[1;32m0.\u001b[0m\u001b[32m85s \u001b[0m\n"
            ],
            "text/html": [
              "<pre style=\"white-space:pre;overflow-x:auto;line-height:normal;font-family:Menlo,'DejaVu Sans Mono',consolas,'Courier New',monospace\"><span style=\"color: #008000; text-decoration-color: #008000; font-weight: bold\">[</span><span style=\"color: #008000; text-decoration-color: #008000\">FETCH</span><span style=\"color: #008000; text-decoration-color: #008000; font-weight: bold\">]</span><span style=\"color: #008000; text-decoration-color: #008000\">... ↓ </span><span style=\"color: #008000; text-decoration-color: #008000; text-decoration: underline\">https://www.amazon.com/gp/bestsellers/?ref_=nav_cs_bestsellers</span><span style=\"color: #008000; text-decoration-color: #008000\">                                       |</span>\n",
              "<span style=\"color: #008000; text-decoration-color: #008000\">✓ | ⏱: </span><span style=\"color: #008000; text-decoration-color: #008000; font-weight: bold\">0.</span><span style=\"color: #008000; text-decoration-color: #008000\">85s </span>\n",
              "</pre>\n"
            ]
          },
          "metadata": {}
        },
        {
          "output_type": "display_data",
          "data": {
            "text/plain": [
              "\u001b[1;32m[\u001b[0m\u001b[32mSCRAPE\u001b[0m\u001b[1;32m]\u001b[0m\u001b[32m.. ◆ \u001b[0m\u001b[4;32mhttps://www.amazon.com/gp/bestsellers/?\u001b[0m\u001b[4;32mref_\u001b[0m\u001b[4;32m=\u001b[0m\u001b[4;32mnav_cs_bestsellers\u001b[0m\u001b[32m                                       |\u001b[0m\n",
              "\u001b[32m✓\u001b[0m\u001b[32m | ⏱: \u001b[0m\u001b[1;32m0.\u001b[0m\u001b[32m00s \u001b[0m\n"
            ],
            "text/html": [
              "<pre style=\"white-space:pre;overflow-x:auto;line-height:normal;font-family:Menlo,'DejaVu Sans Mono',consolas,'Courier New',monospace\"><span style=\"color: #008000; text-decoration-color: #008000; font-weight: bold\">[</span><span style=\"color: #008000; text-decoration-color: #008000\">SCRAPE</span><span style=\"color: #008000; text-decoration-color: #008000; font-weight: bold\">]</span><span style=\"color: #008000; text-decoration-color: #008000\">.. ◆ </span><span style=\"color: #008000; text-decoration-color: #008000; text-decoration: underline\">https://www.amazon.com/gp/bestsellers/?ref_=nav_cs_bestsellers</span><span style=\"color: #008000; text-decoration-color: #008000\">                                       |</span>\n",
              "<span style=\"color: #008000; text-decoration-color: #008000\">✓ | ⏱: </span><span style=\"color: #008000; text-decoration-color: #008000; font-weight: bold\">0.</span><span style=\"color: #008000; text-decoration-color: #008000\">00s </span>\n",
              "</pre>\n"
            ]
          },
          "metadata": {}
        },
        {
          "output_type": "display_data",
          "data": {
            "text/plain": [
              "\u001b[1;32m[\u001b[0m\u001b[32mCOMPLETE\u001b[0m\u001b[1;32m]\u001b[0m\u001b[32m ● \u001b[0m\u001b[4;32mhttps://www.amazon.com/gp/bestsellers/?\u001b[0m\u001b[4;32mref_\u001b[0m\u001b[4;32m=\u001b[0m\u001b[4;32mnav_cs_bestsellers\u001b[0m\u001b[32m                                       |\u001b[0m\n",
              "\u001b[32m✓\u001b[0m\u001b[32m | ⏱: \u001b[0m\u001b[1;32m0.\u001b[0m\u001b[32m86s \u001b[0m\n"
            ],
            "text/html": [
              "<pre style=\"white-space:pre;overflow-x:auto;line-height:normal;font-family:Menlo,'DejaVu Sans Mono',consolas,'Courier New',monospace\"><span style=\"color: #008000; text-decoration-color: #008000; font-weight: bold\">[</span><span style=\"color: #008000; text-decoration-color: #008000\">COMPLETE</span><span style=\"color: #008000; text-decoration-color: #008000; font-weight: bold\">]</span><span style=\"color: #008000; text-decoration-color: #008000\"> ● </span><span style=\"color: #008000; text-decoration-color: #008000; text-decoration: underline\">https://www.amazon.com/gp/bestsellers/?ref_=nav_cs_bestsellers</span><span style=\"color: #008000; text-decoration-color: #008000\">                                       |</span>\n",
              "<span style=\"color: #008000; text-decoration-color: #008000\">✓ | ⏱: </span><span style=\"color: #008000; text-decoration-color: #008000; font-weight: bold\">0.</span><span style=\"color: #008000; text-decoration-color: #008000\">86s </span>\n",
              "</pre>\n"
            ]
          },
          "metadata": {}
        },
        {
          "output_type": "stream",
          "name": "stdout",
          "text": [
            "Markdown saved to amazon_2025-06-30_16-16-53\n"
          ]
        },
        {
          "output_type": "display_data",
          "data": {
            "text/plain": [
              "\u001b[1;36m[\u001b[0m\u001b[36mINIT\u001b[0m\u001b[1;36m]\u001b[0m\u001b[36m...\u001b[0m\u001b[36m. → Crawl4AI \u001b[0m\u001b[1;36m0.6\u001b[0m\u001b[36m.\u001b[0m\u001b[1;36m3\u001b[0m\u001b[36m \u001b[0m\n"
            ],
            "text/html": [
              "<pre style=\"white-space:pre;overflow-x:auto;line-height:normal;font-family:Menlo,'DejaVu Sans Mono',consolas,'Courier New',monospace\"><span style=\"color: #008080; text-decoration-color: #008080; font-weight: bold\">[</span><span style=\"color: #008080; text-decoration-color: #008080\">INIT</span><span style=\"color: #008080; text-decoration-color: #008080; font-weight: bold\">]</span><span style=\"color: #008080; text-decoration-color: #008080\">.... → Crawl4AI </span><span style=\"color: #008080; text-decoration-color: #008080; font-weight: bold\">0.6</span><span style=\"color: #008080; text-decoration-color: #008080\">.</span><span style=\"color: #008080; text-decoration-color: #008080; font-weight: bold\">3</span><span style=\"color: #008080; text-decoration-color: #008080\"> </span>\n",
              "</pre>\n"
            ]
          },
          "metadata": {}
        },
        {
          "output_type": "display_data",
          "data": {
            "text/plain": [
              "\u001b[1;32m[\u001b[0m\u001b[32mFETCH\u001b[0m\u001b[1;32m]\u001b[0m\u001b[32m...\u001b[0m\u001b[32m ↓ \u001b[0m\u001b[4;32mhttps://www.amazon.com/Amazon_Basics?\u001b[0m\u001b[4;32mchannel\u001b[0m\u001b[4;32m=\u001b[0m\u001b[4;32mdis\u001b[0m\u001b[4;32m...browse-\u001b[0m\u001b[4;32mbin\u001b[0m\u001b[4;32m=\u001b[0m\u001b[4;32mAmazonBasics\u001b[0m\u001b[4;32m&\u001b[0m\u001b[4;32mref_\u001b[0m\u001b[4;32m=\u001b[0m\u001b[4;32mnav_cs_amazonbasics\u001b[0m\u001b[32m  |\u001b[0m\n",
              "\u001b[32m✓\u001b[0m\u001b[32m | ⏱: \u001b[0m\u001b[1;32m3.\u001b[0m\u001b[32m14s \u001b[0m\n"
            ],
            "text/html": [
              "<pre style=\"white-space:pre;overflow-x:auto;line-height:normal;font-family:Menlo,'DejaVu Sans Mono',consolas,'Courier New',monospace\"><span style=\"color: #008000; text-decoration-color: #008000; font-weight: bold\">[</span><span style=\"color: #008000; text-decoration-color: #008000\">FETCH</span><span style=\"color: #008000; text-decoration-color: #008000; font-weight: bold\">]</span><span style=\"color: #008000; text-decoration-color: #008000\">... ↓ </span><span style=\"color: #008000; text-decoration-color: #008000; text-decoration: underline\">https://www.amazon.com/Amazon_Basics?channel=dis...browse-bin=AmazonBasics&amp;ref_=nav_cs_amazonbasics</span><span style=\"color: #008000; text-decoration-color: #008000\">  |</span>\n",
              "<span style=\"color: #008000; text-decoration-color: #008000\">✓ | ⏱: </span><span style=\"color: #008000; text-decoration-color: #008000; font-weight: bold\">3.</span><span style=\"color: #008000; text-decoration-color: #008000\">14s </span>\n",
              "</pre>\n"
            ]
          },
          "metadata": {}
        },
        {
          "output_type": "display_data",
          "data": {
            "text/plain": [
              "\u001b[1;32m[\u001b[0m\u001b[32mSCRAPE\u001b[0m\u001b[1;32m]\u001b[0m\u001b[32m.. ◆ \u001b[0m\u001b[4;32mhttps://www.amazon.com/Amazon_Basics?\u001b[0m\u001b[4;32mchannel\u001b[0m\u001b[4;32m=\u001b[0m\u001b[4;32mdis\u001b[0m\u001b[4;32m...browse-\u001b[0m\u001b[4;32mbin\u001b[0m\u001b[4;32m=\u001b[0m\u001b[4;32mAmazonBasics\u001b[0m\u001b[4;32m&\u001b[0m\u001b[4;32mref_\u001b[0m\u001b[4;32m=\u001b[0m\u001b[4;32mnav_cs_amazonbasics\u001b[0m\u001b[32m  |\u001b[0m\n",
              "\u001b[32m✓\u001b[0m\u001b[32m | ⏱: \u001b[0m\u001b[1;32m0.\u001b[0m\u001b[32m41s \u001b[0m\n"
            ],
            "text/html": [
              "<pre style=\"white-space:pre;overflow-x:auto;line-height:normal;font-family:Menlo,'DejaVu Sans Mono',consolas,'Courier New',monospace\"><span style=\"color: #008000; text-decoration-color: #008000; font-weight: bold\">[</span><span style=\"color: #008000; text-decoration-color: #008000\">SCRAPE</span><span style=\"color: #008000; text-decoration-color: #008000; font-weight: bold\">]</span><span style=\"color: #008000; text-decoration-color: #008000\">.. ◆ </span><span style=\"color: #008000; text-decoration-color: #008000; text-decoration: underline\">https://www.amazon.com/Amazon_Basics?channel=dis...browse-bin=AmazonBasics&amp;ref_=nav_cs_amazonbasics</span><span style=\"color: #008000; text-decoration-color: #008000\">  |</span>\n",
              "<span style=\"color: #008000; text-decoration-color: #008000\">✓ | ⏱: </span><span style=\"color: #008000; text-decoration-color: #008000; font-weight: bold\">0.</span><span style=\"color: #008000; text-decoration-color: #008000\">41s </span>\n",
              "</pre>\n"
            ]
          },
          "metadata": {}
        },
        {
          "output_type": "display_data",
          "data": {
            "text/plain": [
              "\u001b[1;32m[\u001b[0m\u001b[32mCOMPLETE\u001b[0m\u001b[1;32m]\u001b[0m\u001b[32m ● \u001b[0m\u001b[4;32mhttps://www.amazon.com/Amazon_Basics?\u001b[0m\u001b[4;32mchannel\u001b[0m\u001b[4;32m=\u001b[0m\u001b[4;32mdis\u001b[0m\u001b[4;32m...browse-\u001b[0m\u001b[4;32mbin\u001b[0m\u001b[4;32m=\u001b[0m\u001b[4;32mAmazonBasics\u001b[0m\u001b[4;32m&\u001b[0m\u001b[4;32mref_\u001b[0m\u001b[4;32m=\u001b[0m\u001b[4;32mnav_cs_amazonbasics\u001b[0m\u001b[32m  |\u001b[0m\n",
              "\u001b[32m✓\u001b[0m\u001b[32m | ⏱: \u001b[0m\u001b[1;32m3.\u001b[0m\u001b[32m57s \u001b[0m\n"
            ],
            "text/html": [
              "<pre style=\"white-space:pre;overflow-x:auto;line-height:normal;font-family:Menlo,'DejaVu Sans Mono',consolas,'Courier New',monospace\"><span style=\"color: #008000; text-decoration-color: #008000; font-weight: bold\">[</span><span style=\"color: #008000; text-decoration-color: #008000\">COMPLETE</span><span style=\"color: #008000; text-decoration-color: #008000; font-weight: bold\">]</span><span style=\"color: #008000; text-decoration-color: #008000\"> ● </span><span style=\"color: #008000; text-decoration-color: #008000; text-decoration: underline\">https://www.amazon.com/Amazon_Basics?channel=dis...browse-bin=AmazonBasics&amp;ref_=nav_cs_amazonbasics</span><span style=\"color: #008000; text-decoration-color: #008000\">  |</span>\n",
              "<span style=\"color: #008000; text-decoration-color: #008000\">✓ | ⏱: </span><span style=\"color: #008000; text-decoration-color: #008000; font-weight: bold\">3.</span><span style=\"color: #008000; text-decoration-color: #008000\">57s </span>\n",
              "</pre>\n"
            ]
          },
          "metadata": {}
        },
        {
          "output_type": "stream",
          "name": "stdout",
          "text": [
            "Markdown saved to amazon_2025-06-30_16-16-57\n"
          ]
        },
        {
          "output_type": "display_data",
          "data": {
            "text/plain": [
              "\u001b[1;36m[\u001b[0m\u001b[36mINIT\u001b[0m\u001b[1;36m]\u001b[0m\u001b[36m...\u001b[0m\u001b[36m. → Crawl4AI \u001b[0m\u001b[1;36m0.6\u001b[0m\u001b[36m.\u001b[0m\u001b[1;36m3\u001b[0m\u001b[36m \u001b[0m\n"
            ],
            "text/html": [
              "<pre style=\"white-space:pre;overflow-x:auto;line-height:normal;font-family:Menlo,'DejaVu Sans Mono',consolas,'Courier New',monospace\"><span style=\"color: #008080; text-decoration-color: #008080; font-weight: bold\">[</span><span style=\"color: #008080; text-decoration-color: #008080\">INIT</span><span style=\"color: #008080; text-decoration-color: #008080; font-weight: bold\">]</span><span style=\"color: #008080; text-decoration-color: #008080\">.... → Crawl4AI </span><span style=\"color: #008080; text-decoration-color: #008080; font-weight: bold\">0.6</span><span style=\"color: #008080; text-decoration-color: #008080\">.</span><span style=\"color: #008080; text-decoration-color: #008080; font-weight: bold\">3</span><span style=\"color: #008080; text-decoration-color: #008080\"> </span>\n",
              "</pre>\n"
            ]
          },
          "metadata": {}
        },
        {
          "output_type": "display_data",
          "data": {
            "text/plain": [
              "\u001b[1;32m[\u001b[0m\u001b[32mFETCH\u001b[0m\u001b[1;32m]\u001b[0m\u001b[32m...\u001b[0m\u001b[32m ↓ \u001b[0m\u001b[4;32mhttps://www.amazon.com/gp/new-releases/?\u001b[0m\u001b[4;32mref_\u001b[0m\u001b[4;32m=\u001b[0m\u001b[4;32mnav_cs_newreleases\u001b[0m\u001b[32m                                      |\u001b[0m\n",
              "\u001b[32m✓\u001b[0m\u001b[32m | ⏱: \u001b[0m\u001b[1;32m0.\u001b[0m\u001b[32m74s \u001b[0m\n"
            ],
            "text/html": [
              "<pre style=\"white-space:pre;overflow-x:auto;line-height:normal;font-family:Menlo,'DejaVu Sans Mono',consolas,'Courier New',monospace\"><span style=\"color: #008000; text-decoration-color: #008000; font-weight: bold\">[</span><span style=\"color: #008000; text-decoration-color: #008000\">FETCH</span><span style=\"color: #008000; text-decoration-color: #008000; font-weight: bold\">]</span><span style=\"color: #008000; text-decoration-color: #008000\">... ↓ </span><span style=\"color: #008000; text-decoration-color: #008000; text-decoration: underline\">https://www.amazon.com/gp/new-releases/?ref_=nav_cs_newreleases</span><span style=\"color: #008000; text-decoration-color: #008000\">                                      |</span>\n",
              "<span style=\"color: #008000; text-decoration-color: #008000\">✓ | ⏱: </span><span style=\"color: #008000; text-decoration-color: #008000; font-weight: bold\">0.</span><span style=\"color: #008000; text-decoration-color: #008000\">74s </span>\n",
              "</pre>\n"
            ]
          },
          "metadata": {}
        },
        {
          "output_type": "display_data",
          "data": {
            "text/plain": [
              "\u001b[1;32m[\u001b[0m\u001b[32mSCRAPE\u001b[0m\u001b[1;32m]\u001b[0m\u001b[32m.. ◆ \u001b[0m\u001b[4;32mhttps://www.amazon.com/gp/new-releases/?\u001b[0m\u001b[4;32mref_\u001b[0m\u001b[4;32m=\u001b[0m\u001b[4;32mnav_cs_newreleases\u001b[0m\u001b[32m                                      |\u001b[0m\n",
              "\u001b[32m✓\u001b[0m\u001b[32m | ⏱: \u001b[0m\u001b[1;32m0.\u001b[0m\u001b[32m00s \u001b[0m\n"
            ],
            "text/html": [
              "<pre style=\"white-space:pre;overflow-x:auto;line-height:normal;font-family:Menlo,'DejaVu Sans Mono',consolas,'Courier New',monospace\"><span style=\"color: #008000; text-decoration-color: #008000; font-weight: bold\">[</span><span style=\"color: #008000; text-decoration-color: #008000\">SCRAPE</span><span style=\"color: #008000; text-decoration-color: #008000; font-weight: bold\">]</span><span style=\"color: #008000; text-decoration-color: #008000\">.. ◆ </span><span style=\"color: #008000; text-decoration-color: #008000; text-decoration: underline\">https://www.amazon.com/gp/new-releases/?ref_=nav_cs_newreleases</span><span style=\"color: #008000; text-decoration-color: #008000\">                                      |</span>\n",
              "<span style=\"color: #008000; text-decoration-color: #008000\">✓ | ⏱: </span><span style=\"color: #008000; text-decoration-color: #008000; font-weight: bold\">0.</span><span style=\"color: #008000; text-decoration-color: #008000\">00s </span>\n",
              "</pre>\n"
            ]
          },
          "metadata": {}
        },
        {
          "output_type": "display_data",
          "data": {
            "text/plain": [
              "\u001b[1;32m[\u001b[0m\u001b[32mCOMPLETE\u001b[0m\u001b[1;32m]\u001b[0m\u001b[32m ● \u001b[0m\u001b[4;32mhttps://www.amazon.com/gp/new-releases/?\u001b[0m\u001b[4;32mref_\u001b[0m\u001b[4;32m=\u001b[0m\u001b[4;32mnav_cs_newreleases\u001b[0m\u001b[32m                                      |\u001b[0m\n",
              "\u001b[32m✓\u001b[0m\u001b[32m | ⏱: \u001b[0m\u001b[1;32m0.\u001b[0m\u001b[32m75s \u001b[0m\n"
            ],
            "text/html": [
              "<pre style=\"white-space:pre;overflow-x:auto;line-height:normal;font-family:Menlo,'DejaVu Sans Mono',consolas,'Courier New',monospace\"><span style=\"color: #008000; text-decoration-color: #008000; font-weight: bold\">[</span><span style=\"color: #008000; text-decoration-color: #008000\">COMPLETE</span><span style=\"color: #008000; text-decoration-color: #008000; font-weight: bold\">]</span><span style=\"color: #008000; text-decoration-color: #008000\"> ● </span><span style=\"color: #008000; text-decoration-color: #008000; text-decoration: underline\">https://www.amazon.com/gp/new-releases/?ref_=nav_cs_newreleases</span><span style=\"color: #008000; text-decoration-color: #008000\">                                      |</span>\n",
              "<span style=\"color: #008000; text-decoration-color: #008000\">✓ | ⏱: </span><span style=\"color: #008000; text-decoration-color: #008000; font-weight: bold\">0.</span><span style=\"color: #008000; text-decoration-color: #008000\">75s </span>\n",
              "</pre>\n"
            ]
          },
          "metadata": {}
        },
        {
          "output_type": "stream",
          "name": "stdout",
          "text": [
            "Markdown saved to amazon_2025-06-30_16-16-59\n"
          ]
        },
        {
          "output_type": "display_data",
          "data": {
            "text/plain": [
              "\u001b[1;36m[\u001b[0m\u001b[36mINIT\u001b[0m\u001b[1;36m]\u001b[0m\u001b[36m...\u001b[0m\u001b[36m. → Crawl4AI \u001b[0m\u001b[1;36m0.6\u001b[0m\u001b[36m.\u001b[0m\u001b[1;36m3\u001b[0m\u001b[36m \u001b[0m\n"
            ],
            "text/html": [
              "<pre style=\"white-space:pre;overflow-x:auto;line-height:normal;font-family:Menlo,'DejaVu Sans Mono',consolas,'Courier New',monospace\"><span style=\"color: #008080; text-decoration-color: #008080; font-weight: bold\">[</span><span style=\"color: #008080; text-decoration-color: #008080\">INIT</span><span style=\"color: #008080; text-decoration-color: #008080; font-weight: bold\">]</span><span style=\"color: #008080; text-decoration-color: #008080\">.... → Crawl4AI </span><span style=\"color: #008080; text-decoration-color: #008080; font-weight: bold\">0.6</span><span style=\"color: #008080; text-decoration-color: #008080\">.</span><span style=\"color: #008080; text-decoration-color: #008080; font-weight: bold\">3</span><span style=\"color: #008080; text-decoration-color: #008080\"> </span>\n",
              "</pre>\n"
            ]
          },
          "metadata": {}
        },
        {
          "output_type": "display_data",
          "data": {
            "text/plain": [
              "\u001b[1;32m[\u001b[0m\u001b[32mFETCH\u001b[0m\u001b[1;32m]\u001b[0m\u001b[32m...\u001b[0m\u001b[32m ↓ \u001b[0m\u001b[4;32mhttps://www.amazon.com/gp/browse.html?\u001b[0m\u001b[4;32mnode\u001b[0m\u001b[4;32m=\u001b[0m\u001b[4;32m16115931011\u001b[0m\u001b[4;32m&\u001b[0m\u001b[4;32mref_\u001b[0m\u001b[4;32m=\u001b[0m\u001b[4;32mnav_cs_registry\u001b[0m\u001b[32m                          |\u001b[0m\n",
              "\u001b[32m✓\u001b[0m\u001b[32m | ⏱: \u001b[0m\u001b[1;32m3.\u001b[0m\u001b[32m69s \u001b[0m\n"
            ],
            "text/html": [
              "<pre style=\"white-space:pre;overflow-x:auto;line-height:normal;font-family:Menlo,'DejaVu Sans Mono',consolas,'Courier New',monospace\"><span style=\"color: #008000; text-decoration-color: #008000; font-weight: bold\">[</span><span style=\"color: #008000; text-decoration-color: #008000\">FETCH</span><span style=\"color: #008000; text-decoration-color: #008000; font-weight: bold\">]</span><span style=\"color: #008000; text-decoration-color: #008000\">... ↓ </span><span style=\"color: #008000; text-decoration-color: #008000; text-decoration: underline\">https://www.amazon.com/gp/browse.html?node=16115931011&amp;ref_=nav_cs_registry</span><span style=\"color: #008000; text-decoration-color: #008000\">                          |</span>\n",
              "<span style=\"color: #008000; text-decoration-color: #008000\">✓ | ⏱: </span><span style=\"color: #008000; text-decoration-color: #008000; font-weight: bold\">3.</span><span style=\"color: #008000; text-decoration-color: #008000\">69s </span>\n",
              "</pre>\n"
            ]
          },
          "metadata": {}
        },
        {
          "output_type": "display_data",
          "data": {
            "text/plain": [
              "\u001b[1;32m[\u001b[0m\u001b[32mSCRAPE\u001b[0m\u001b[1;32m]\u001b[0m\u001b[32m.. ◆ \u001b[0m\u001b[4;32mhttps://www.amazon.com/gp/browse.html?\u001b[0m\u001b[4;32mnode\u001b[0m\u001b[4;32m=\u001b[0m\u001b[4;32m16115931011\u001b[0m\u001b[4;32m&\u001b[0m\u001b[4;32mref_\u001b[0m\u001b[4;32m=\u001b[0m\u001b[4;32mnav_cs_registry\u001b[0m\u001b[32m                          |\u001b[0m\n",
              "\u001b[32m✓\u001b[0m\u001b[32m | ⏱: \u001b[0m\u001b[1;32m0.\u001b[0m\u001b[32m37s \u001b[0m\n"
            ],
            "text/html": [
              "<pre style=\"white-space:pre;overflow-x:auto;line-height:normal;font-family:Menlo,'DejaVu Sans Mono',consolas,'Courier New',monospace\"><span style=\"color: #008000; text-decoration-color: #008000; font-weight: bold\">[</span><span style=\"color: #008000; text-decoration-color: #008000\">SCRAPE</span><span style=\"color: #008000; text-decoration-color: #008000; font-weight: bold\">]</span><span style=\"color: #008000; text-decoration-color: #008000\">.. ◆ </span><span style=\"color: #008000; text-decoration-color: #008000; text-decoration: underline\">https://www.amazon.com/gp/browse.html?node=16115931011&amp;ref_=nav_cs_registry</span><span style=\"color: #008000; text-decoration-color: #008000\">                          |</span>\n",
              "<span style=\"color: #008000; text-decoration-color: #008000\">✓ | ⏱: </span><span style=\"color: #008000; text-decoration-color: #008000; font-weight: bold\">0.</span><span style=\"color: #008000; text-decoration-color: #008000\">37s </span>\n",
              "</pre>\n"
            ]
          },
          "metadata": {}
        },
        {
          "output_type": "display_data",
          "data": {
            "text/plain": [
              "\u001b[1;32m[\u001b[0m\u001b[32mCOMPLETE\u001b[0m\u001b[1;32m]\u001b[0m\u001b[32m ● \u001b[0m\u001b[4;32mhttps://www.amazon.com/gp/browse.html?\u001b[0m\u001b[4;32mnode\u001b[0m\u001b[4;32m=\u001b[0m\u001b[4;32m16115931011\u001b[0m\u001b[4;32m&\u001b[0m\u001b[4;32mref_\u001b[0m\u001b[4;32m=\u001b[0m\u001b[4;32mnav_cs_registry\u001b[0m\u001b[32m                          |\u001b[0m\n",
              "\u001b[32m✓\u001b[0m\u001b[32m | ⏱: \u001b[0m\u001b[1;32m4.\u001b[0m\u001b[32m07s \u001b[0m\n"
            ],
            "text/html": [
              "<pre style=\"white-space:pre;overflow-x:auto;line-height:normal;font-family:Menlo,'DejaVu Sans Mono',consolas,'Courier New',monospace\"><span style=\"color: #008000; text-decoration-color: #008000; font-weight: bold\">[</span><span style=\"color: #008000; text-decoration-color: #008000\">COMPLETE</span><span style=\"color: #008000; text-decoration-color: #008000; font-weight: bold\">]</span><span style=\"color: #008000; text-decoration-color: #008000\"> ● </span><span style=\"color: #008000; text-decoration-color: #008000; text-decoration: underline\">https://www.amazon.com/gp/browse.html?node=16115931011&amp;ref_=nav_cs_registry</span><span style=\"color: #008000; text-decoration-color: #008000\">                          |</span>\n",
              "<span style=\"color: #008000; text-decoration-color: #008000\">✓ | ⏱: </span><span style=\"color: #008000; text-decoration-color: #008000; font-weight: bold\">4.</span><span style=\"color: #008000; text-decoration-color: #008000\">07s </span>\n",
              "</pre>\n"
            ]
          },
          "metadata": {}
        },
        {
          "output_type": "stream",
          "name": "stdout",
          "text": [
            "Markdown saved to amazon_2025-06-30_16-17-04\n"
          ]
        },
        {
          "output_type": "display_data",
          "data": {
            "text/plain": [
              "\u001b[1;36m[\u001b[0m\u001b[36mINIT\u001b[0m\u001b[1;36m]\u001b[0m\u001b[36m...\u001b[0m\u001b[36m. → Crawl4AI \u001b[0m\u001b[1;36m0.6\u001b[0m\u001b[36m.\u001b[0m\u001b[1;36m3\u001b[0m\u001b[36m \u001b[0m\n"
            ],
            "text/html": [
              "<pre style=\"white-space:pre;overflow-x:auto;line-height:normal;font-family:Menlo,'DejaVu Sans Mono',consolas,'Courier New',monospace\"><span style=\"color: #008080; text-decoration-color: #008080; font-weight: bold\">[</span><span style=\"color: #008080; text-decoration-color: #008080\">INIT</span><span style=\"color: #008080; text-decoration-color: #008080; font-weight: bold\">]</span><span style=\"color: #008080; text-decoration-color: #008080\">.... → Crawl4AI </span><span style=\"color: #008080; text-decoration-color: #008080; font-weight: bold\">0.6</span><span style=\"color: #008080; text-decoration-color: #008080\">.</span><span style=\"color: #008080; text-decoration-color: #008080; font-weight: bold\">3</span><span style=\"color: #008080; text-decoration-color: #008080\"> </span>\n",
              "</pre>\n"
            ]
          },
          "metadata": {}
        },
        {
          "output_type": "display_data",
          "data": {
            "text/plain": [
              "\u001b[1;32m[\u001b[0m\u001b[32mFETCH\u001b[0m\u001b[1;32m]\u001b[0m\u001b[32m...\u001b[0m\u001b[32m ↓ \u001b[0m\u001b[4;32mhttps://www.amazon.com/fmc/learn-more?\u001b[0m\u001b[4;32mref_\u001b[0m\u001b[4;32m=\u001b[0m\u001b[4;32mnav_cs_groceries\u001b[0m\u001b[32m                                          |\u001b[0m\n",
              "\u001b[32m✓\u001b[0m\u001b[32m | ⏱: \u001b[0m\u001b[1;32m2.\u001b[0m\u001b[32m11s \u001b[0m\n"
            ],
            "text/html": [
              "<pre style=\"white-space:pre;overflow-x:auto;line-height:normal;font-family:Menlo,'DejaVu Sans Mono',consolas,'Courier New',monospace\"><span style=\"color: #008000; text-decoration-color: #008000; font-weight: bold\">[</span><span style=\"color: #008000; text-decoration-color: #008000\">FETCH</span><span style=\"color: #008000; text-decoration-color: #008000; font-weight: bold\">]</span><span style=\"color: #008000; text-decoration-color: #008000\">... ↓ </span><span style=\"color: #008000; text-decoration-color: #008000; text-decoration: underline\">https://www.amazon.com/fmc/learn-more?ref_=nav_cs_groceries</span><span style=\"color: #008000; text-decoration-color: #008000\">                                          |</span>\n",
              "<span style=\"color: #008000; text-decoration-color: #008000\">✓ | ⏱: </span><span style=\"color: #008000; text-decoration-color: #008000; font-weight: bold\">2.</span><span style=\"color: #008000; text-decoration-color: #008000\">11s </span>\n",
              "</pre>\n"
            ]
          },
          "metadata": {}
        },
        {
          "output_type": "display_data",
          "data": {
            "text/plain": [
              "\u001b[1;32m[\u001b[0m\u001b[32mSCRAPE\u001b[0m\u001b[1;32m]\u001b[0m\u001b[32m.. ◆ \u001b[0m\u001b[4;32mhttps://www.amazon.com/fmc/learn-more?\u001b[0m\u001b[4;32mref_\u001b[0m\u001b[4;32m=\u001b[0m\u001b[4;32mnav_cs_groceries\u001b[0m\u001b[32m                                          |\u001b[0m\n",
              "\u001b[32m✓\u001b[0m\u001b[32m | ⏱: \u001b[0m\u001b[1;32m0.\u001b[0m\u001b[32m27s \u001b[0m\n"
            ],
            "text/html": [
              "<pre style=\"white-space:pre;overflow-x:auto;line-height:normal;font-family:Menlo,'DejaVu Sans Mono',consolas,'Courier New',monospace\"><span style=\"color: #008000; text-decoration-color: #008000; font-weight: bold\">[</span><span style=\"color: #008000; text-decoration-color: #008000\">SCRAPE</span><span style=\"color: #008000; text-decoration-color: #008000; font-weight: bold\">]</span><span style=\"color: #008000; text-decoration-color: #008000\">.. ◆ </span><span style=\"color: #008000; text-decoration-color: #008000; text-decoration: underline\">https://www.amazon.com/fmc/learn-more?ref_=nav_cs_groceries</span><span style=\"color: #008000; text-decoration-color: #008000\">                                          |</span>\n",
              "<span style=\"color: #008000; text-decoration-color: #008000\">✓ | ⏱: </span><span style=\"color: #008000; text-decoration-color: #008000; font-weight: bold\">0.</span><span style=\"color: #008000; text-decoration-color: #008000\">27s </span>\n",
              "</pre>\n"
            ]
          },
          "metadata": {}
        },
        {
          "output_type": "display_data",
          "data": {
            "text/plain": [
              "\u001b[1;32m[\u001b[0m\u001b[32mCOMPLETE\u001b[0m\u001b[1;32m]\u001b[0m\u001b[32m ● \u001b[0m\u001b[4;32mhttps://www.amazon.com/fmc/learn-more?\u001b[0m\u001b[4;32mref_\u001b[0m\u001b[4;32m=\u001b[0m\u001b[4;32mnav_cs_groceries\u001b[0m\u001b[32m                                          |\u001b[0m\n",
              "\u001b[32m✓\u001b[0m\u001b[32m | ⏱: \u001b[0m\u001b[1;32m2.\u001b[0m\u001b[32m39s \u001b[0m\n"
            ],
            "text/html": [
              "<pre style=\"white-space:pre;overflow-x:auto;line-height:normal;font-family:Menlo,'DejaVu Sans Mono',consolas,'Courier New',monospace\"><span style=\"color: #008000; text-decoration-color: #008000; font-weight: bold\">[</span><span style=\"color: #008000; text-decoration-color: #008000\">COMPLETE</span><span style=\"color: #008000; text-decoration-color: #008000; font-weight: bold\">]</span><span style=\"color: #008000; text-decoration-color: #008000\"> ● </span><span style=\"color: #008000; text-decoration-color: #008000; text-decoration: underline\">https://www.amazon.com/fmc/learn-more?ref_=nav_cs_groceries</span><span style=\"color: #008000; text-decoration-color: #008000\">                                          |</span>\n",
              "<span style=\"color: #008000; text-decoration-color: #008000\">✓ | ⏱: </span><span style=\"color: #008000; text-decoration-color: #008000; font-weight: bold\">2.</span><span style=\"color: #008000; text-decoration-color: #008000\">39s </span>\n",
              "</pre>\n"
            ]
          },
          "metadata": {}
        },
        {
          "output_type": "stream",
          "name": "stdout",
          "text": [
            "Markdown saved to amazon_2025-06-30_16-17-08\n"
          ]
        },
        {
          "output_type": "display_data",
          "data": {
            "text/plain": [
              "\u001b[1;36m[\u001b[0m\u001b[36mINIT\u001b[0m\u001b[1;36m]\u001b[0m\u001b[36m...\u001b[0m\u001b[36m. → Crawl4AI \u001b[0m\u001b[1;36m0.6\u001b[0m\u001b[36m.\u001b[0m\u001b[1;36m3\u001b[0m\u001b[36m \u001b[0m\n"
            ],
            "text/html": [
              "<pre style=\"white-space:pre;overflow-x:auto;line-height:normal;font-family:Menlo,'DejaVu Sans Mono',consolas,'Courier New',monospace\"><span style=\"color: #008080; text-decoration-color: #008080; font-weight: bold\">[</span><span style=\"color: #008080; text-decoration-color: #008080\">INIT</span><span style=\"color: #008080; text-decoration-color: #008080; font-weight: bold\">]</span><span style=\"color: #008080; text-decoration-color: #008080\">.... → Crawl4AI </span><span style=\"color: #008080; text-decoration-color: #008080; font-weight: bold\">0.6</span><span style=\"color: #008080; text-decoration-color: #008080\">.</span><span style=\"color: #008080; text-decoration-color: #008080; font-weight: bold\">3</span><span style=\"color: #008080; text-decoration-color: #008080\"> </span>\n",
              "</pre>\n"
            ]
          },
          "metadata": {}
        },
        {
          "output_type": "display_data",
          "data": {
            "text/plain": [
              "\u001b[1;32m[\u001b[0m\u001b[32mFETCH\u001b[0m\u001b[1;32m]\u001b[0m\u001b[32m...\u001b[0m\u001b[32m ↓ \u001b[0m\u001b[4;32mhttps://www.amazon.com/gift-cards/b/?\u001b[0m\u001b[4;32mie\u001b[0m\u001b[4;32m=\u001b[0m\u001b[4;32mUTF8\u001b[0m\u001b[4;32m&\u001b[0m\u001b[4;32mnode\u001b[0m\u001b[4;32m=\u001b[0m\u001b[4;32m2238192011\u001b[0m\u001b[4;32m&\u001b[0m\u001b[4;32mref_\u001b[0m\u001b[4;32m=\u001b[0m\u001b[4;32mnav_cs_gc\u001b[0m\u001b[32m                          |\u001b[0m\n",
              "\u001b[32m✓\u001b[0m\u001b[32m | ⏱: \u001b[0m\u001b[1;32m2.\u001b[0m\u001b[32m22s \u001b[0m\n"
            ],
            "text/html": [
              "<pre style=\"white-space:pre;overflow-x:auto;line-height:normal;font-family:Menlo,'DejaVu Sans Mono',consolas,'Courier New',monospace\"><span style=\"color: #008000; text-decoration-color: #008000; font-weight: bold\">[</span><span style=\"color: #008000; text-decoration-color: #008000\">FETCH</span><span style=\"color: #008000; text-decoration-color: #008000; font-weight: bold\">]</span><span style=\"color: #008000; text-decoration-color: #008000\">... ↓ </span><span style=\"color: #008000; text-decoration-color: #008000; text-decoration: underline\">https://www.amazon.com/gift-cards/b/?ie=UTF8&amp;node=2238192011&amp;ref_=nav_cs_gc</span><span style=\"color: #008000; text-decoration-color: #008000\">                          |</span>\n",
              "<span style=\"color: #008000; text-decoration-color: #008000\">✓ | ⏱: </span><span style=\"color: #008000; text-decoration-color: #008000; font-weight: bold\">2.</span><span style=\"color: #008000; text-decoration-color: #008000\">22s </span>\n",
              "</pre>\n"
            ]
          },
          "metadata": {}
        },
        {
          "output_type": "display_data",
          "data": {
            "text/plain": [
              "\u001b[1;32m[\u001b[0m\u001b[32mSCRAPE\u001b[0m\u001b[1;32m]\u001b[0m\u001b[32m.. ◆ \u001b[0m\u001b[4;32mhttps://www.amazon.com/gift-cards/b/?\u001b[0m\u001b[4;32mie\u001b[0m\u001b[4;32m=\u001b[0m\u001b[4;32mUTF8\u001b[0m\u001b[4;32m&\u001b[0m\u001b[4;32mnode\u001b[0m\u001b[4;32m=\u001b[0m\u001b[4;32m2238192011\u001b[0m\u001b[4;32m&\u001b[0m\u001b[4;32mref_\u001b[0m\u001b[4;32m=\u001b[0m\u001b[4;32mnav_cs_gc\u001b[0m\u001b[32m                          |\u001b[0m\n",
              "\u001b[32m✓\u001b[0m\u001b[32m | ⏱: \u001b[0m\u001b[1;32m0.\u001b[0m\u001b[32m58s \u001b[0m\n"
            ],
            "text/html": [
              "<pre style=\"white-space:pre;overflow-x:auto;line-height:normal;font-family:Menlo,'DejaVu Sans Mono',consolas,'Courier New',monospace\"><span style=\"color: #008000; text-decoration-color: #008000; font-weight: bold\">[</span><span style=\"color: #008000; text-decoration-color: #008000\">SCRAPE</span><span style=\"color: #008000; text-decoration-color: #008000; font-weight: bold\">]</span><span style=\"color: #008000; text-decoration-color: #008000\">.. ◆ </span><span style=\"color: #008000; text-decoration-color: #008000; text-decoration: underline\">https://www.amazon.com/gift-cards/b/?ie=UTF8&amp;node=2238192011&amp;ref_=nav_cs_gc</span><span style=\"color: #008000; text-decoration-color: #008000\">                          |</span>\n",
              "<span style=\"color: #008000; text-decoration-color: #008000\">✓ | ⏱: </span><span style=\"color: #008000; text-decoration-color: #008000; font-weight: bold\">0.</span><span style=\"color: #008000; text-decoration-color: #008000\">58s </span>\n",
              "</pre>\n"
            ]
          },
          "metadata": {}
        },
        {
          "output_type": "display_data",
          "data": {
            "text/plain": [
              "\u001b[1;32m[\u001b[0m\u001b[32mCOMPLETE\u001b[0m\u001b[1;32m]\u001b[0m\u001b[32m ● \u001b[0m\u001b[4;32mhttps://www.amazon.com/gift-cards/b/?\u001b[0m\u001b[4;32mie\u001b[0m\u001b[4;32m=\u001b[0m\u001b[4;32mUTF8\u001b[0m\u001b[4;32m&\u001b[0m\u001b[4;32mnode\u001b[0m\u001b[4;32m=\u001b[0m\u001b[4;32m2238192011\u001b[0m\u001b[4;32m&\u001b[0m\u001b[4;32mref_\u001b[0m\u001b[4;32m=\u001b[0m\u001b[4;32mnav_cs_gc\u001b[0m\u001b[32m                          |\u001b[0m\n",
              "\u001b[32m✓\u001b[0m\u001b[32m | ⏱: \u001b[0m\u001b[1;32m2.\u001b[0m\u001b[32m82s \u001b[0m\n"
            ],
            "text/html": [
              "<pre style=\"white-space:pre;overflow-x:auto;line-height:normal;font-family:Menlo,'DejaVu Sans Mono',consolas,'Courier New',monospace\"><span style=\"color: #008000; text-decoration-color: #008000; font-weight: bold\">[</span><span style=\"color: #008000; text-decoration-color: #008000\">COMPLETE</span><span style=\"color: #008000; text-decoration-color: #008000; font-weight: bold\">]</span><span style=\"color: #008000; text-decoration-color: #008000\"> ● </span><span style=\"color: #008000; text-decoration-color: #008000; text-decoration: underline\">https://www.amazon.com/gift-cards/b/?ie=UTF8&amp;node=2238192011&amp;ref_=nav_cs_gc</span><span style=\"color: #008000; text-decoration-color: #008000\">                          |</span>\n",
              "<span style=\"color: #008000; text-decoration-color: #008000\">✓ | ⏱: </span><span style=\"color: #008000; text-decoration-color: #008000; font-weight: bold\">2.</span><span style=\"color: #008000; text-decoration-color: #008000\">82s </span>\n",
              "</pre>\n"
            ]
          },
          "metadata": {}
        },
        {
          "output_type": "stream",
          "name": "stdout",
          "text": [
            "Markdown saved to amazon_2025-06-30_16-17-12\n"
          ]
        },
        {
          "output_type": "display_data",
          "data": {
            "text/plain": [
              "\u001b[1;36m[\u001b[0m\u001b[36mINIT\u001b[0m\u001b[1;36m]\u001b[0m\u001b[36m...\u001b[0m\u001b[36m. → Crawl4AI \u001b[0m\u001b[1;36m0.6\u001b[0m\u001b[36m.\u001b[0m\u001b[1;36m3\u001b[0m\u001b[36m \u001b[0m\n"
            ],
            "text/html": [
              "<pre style=\"white-space:pre;overflow-x:auto;line-height:normal;font-family:Menlo,'DejaVu Sans Mono',consolas,'Courier New',monospace\"><span style=\"color: #008080; text-decoration-color: #008080; font-weight: bold\">[</span><span style=\"color: #008080; text-decoration-color: #008080\">INIT</span><span style=\"color: #008080; text-decoration-color: #008080; font-weight: bold\">]</span><span style=\"color: #008080; text-decoration-color: #008080\">.... → Crawl4AI </span><span style=\"color: #008080; text-decoration-color: #008080; font-weight: bold\">0.6</span><span style=\"color: #008080; text-decoration-color: #008080\">.</span><span style=\"color: #008080; text-decoration-color: #008080; font-weight: bold\">3</span><span style=\"color: #008080; text-decoration-color: #008080\"> </span>\n",
              "</pre>\n"
            ]
          },
          "metadata": {}
        },
        {
          "output_type": "display_data",
          "data": {
            "text/plain": [
              "\u001b[1;32m[\u001b[0m\u001b[32mFETCH\u001b[0m\u001b[1;32m]\u001b[0m\u001b[32m...\u001b[0m\u001b[32m ↓ \u001b[0m\u001b[4;32mhttps://www.amazon.com/Smart-Home/b/?\u001b[0m\u001b[4;32mie\u001b[0m\u001b[4;32m=\u001b[0m\u001b[4;32mUTF8\u001b[0m\u001b[4;32m&\u001b[0m\u001b[4;32mnode\u001b[0m\u001b[4;32m=\u001b[0m\u001b[4;32m6563140011\u001b[0m\u001b[4;32m&\u001b[0m\u001b[4;32mref_\u001b[0m\u001b[4;32m=\u001b[0m\u001b[4;32mnav_cs_smart_home\u001b[0m\u001b[32m                  |\u001b[0m\n",
              "\u001b[32m✓\u001b[0m\u001b[32m | ⏱: \u001b[0m\u001b[1;32m2.\u001b[0m\u001b[32m49s \u001b[0m\n"
            ],
            "text/html": [
              "<pre style=\"white-space:pre;overflow-x:auto;line-height:normal;font-family:Menlo,'DejaVu Sans Mono',consolas,'Courier New',monospace\"><span style=\"color: #008000; text-decoration-color: #008000; font-weight: bold\">[</span><span style=\"color: #008000; text-decoration-color: #008000\">FETCH</span><span style=\"color: #008000; text-decoration-color: #008000; font-weight: bold\">]</span><span style=\"color: #008000; text-decoration-color: #008000\">... ↓ </span><span style=\"color: #008000; text-decoration-color: #008000; text-decoration: underline\">https://www.amazon.com/Smart-Home/b/?ie=UTF8&amp;node=6563140011&amp;ref_=nav_cs_smart_home</span><span style=\"color: #008000; text-decoration-color: #008000\">                  |</span>\n",
              "<span style=\"color: #008000; text-decoration-color: #008000\">✓ | ⏱: </span><span style=\"color: #008000; text-decoration-color: #008000; font-weight: bold\">2.</span><span style=\"color: #008000; text-decoration-color: #008000\">49s </span>\n",
              "</pre>\n"
            ]
          },
          "metadata": {}
        },
        {
          "output_type": "display_data",
          "data": {
            "text/plain": [
              "\u001b[1;32m[\u001b[0m\u001b[32mSCRAPE\u001b[0m\u001b[1;32m]\u001b[0m\u001b[32m.. ◆ \u001b[0m\u001b[4;32mhttps://www.amazon.com/Smart-Home/b/?\u001b[0m\u001b[4;32mie\u001b[0m\u001b[4;32m=\u001b[0m\u001b[4;32mUTF8\u001b[0m\u001b[4;32m&\u001b[0m\u001b[4;32mnode\u001b[0m\u001b[4;32m=\u001b[0m\u001b[4;32m6563140011\u001b[0m\u001b[4;32m&\u001b[0m\u001b[4;32mref_\u001b[0m\u001b[4;32m=\u001b[0m\u001b[4;32mnav_cs_smart_home\u001b[0m\u001b[32m                  |\u001b[0m\n",
              "\u001b[32m✓\u001b[0m\u001b[32m | ⏱: \u001b[0m\u001b[1;32m0.\u001b[0m\u001b[32m69s \u001b[0m\n"
            ],
            "text/html": [
              "<pre style=\"white-space:pre;overflow-x:auto;line-height:normal;font-family:Menlo,'DejaVu Sans Mono',consolas,'Courier New',monospace\"><span style=\"color: #008000; text-decoration-color: #008000; font-weight: bold\">[</span><span style=\"color: #008000; text-decoration-color: #008000\">SCRAPE</span><span style=\"color: #008000; text-decoration-color: #008000; font-weight: bold\">]</span><span style=\"color: #008000; text-decoration-color: #008000\">.. ◆ </span><span style=\"color: #008000; text-decoration-color: #008000; text-decoration: underline\">https://www.amazon.com/Smart-Home/b/?ie=UTF8&amp;node=6563140011&amp;ref_=nav_cs_smart_home</span><span style=\"color: #008000; text-decoration-color: #008000\">                  |</span>\n",
              "<span style=\"color: #008000; text-decoration-color: #008000\">✓ | ⏱: </span><span style=\"color: #008000; text-decoration-color: #008000; font-weight: bold\">0.</span><span style=\"color: #008000; text-decoration-color: #008000\">69s </span>\n",
              "</pre>\n"
            ]
          },
          "metadata": {}
        },
        {
          "output_type": "display_data",
          "data": {
            "text/plain": [
              "\u001b[1;32m[\u001b[0m\u001b[32mCOMPLETE\u001b[0m\u001b[1;32m]\u001b[0m\u001b[32m ● \u001b[0m\u001b[4;32mhttps://www.amazon.com/Smart-Home/b/?\u001b[0m\u001b[4;32mie\u001b[0m\u001b[4;32m=\u001b[0m\u001b[4;32mUTF8\u001b[0m\u001b[4;32m&\u001b[0m\u001b[4;32mnode\u001b[0m\u001b[4;32m=\u001b[0m\u001b[4;32m6563140011\u001b[0m\u001b[4;32m&\u001b[0m\u001b[4;32mref_\u001b[0m\u001b[4;32m=\u001b[0m\u001b[4;32mnav_cs_smart_home\u001b[0m\u001b[32m                  |\u001b[0m\n",
              "\u001b[32m✓\u001b[0m\u001b[32m | ⏱: \u001b[0m\u001b[1;32m3.\u001b[0m\u001b[32m20s \u001b[0m\n"
            ],
            "text/html": [
              "<pre style=\"white-space:pre;overflow-x:auto;line-height:normal;font-family:Menlo,'DejaVu Sans Mono',consolas,'Courier New',monospace\"><span style=\"color: #008000; text-decoration-color: #008000; font-weight: bold\">[</span><span style=\"color: #008000; text-decoration-color: #008000\">COMPLETE</span><span style=\"color: #008000; text-decoration-color: #008000; font-weight: bold\">]</span><span style=\"color: #008000; text-decoration-color: #008000\"> ● </span><span style=\"color: #008000; text-decoration-color: #008000; text-decoration: underline\">https://www.amazon.com/Smart-Home/b/?ie=UTF8&amp;node=6563140011&amp;ref_=nav_cs_smart_home</span><span style=\"color: #008000; text-decoration-color: #008000\">                  |</span>\n",
              "<span style=\"color: #008000; text-decoration-color: #008000\">✓ | ⏱: </span><span style=\"color: #008000; text-decoration-color: #008000; font-weight: bold\">3.</span><span style=\"color: #008000; text-decoration-color: #008000\">20s </span>\n",
              "</pre>\n"
            ]
          },
          "metadata": {}
        },
        {
          "output_type": "stream",
          "name": "stdout",
          "text": [
            "Markdown saved to amazon_2025-06-30_16-17-16\n"
          ]
        },
        {
          "output_type": "display_data",
          "data": {
            "text/plain": [
              "\u001b[1;36m[\u001b[0m\u001b[36mINIT\u001b[0m\u001b[1;36m]\u001b[0m\u001b[36m...\u001b[0m\u001b[36m. → Crawl4AI \u001b[0m\u001b[1;36m0.6\u001b[0m\u001b[36m.\u001b[0m\u001b[1;36m3\u001b[0m\u001b[36m \u001b[0m\n"
            ],
            "text/html": [
              "<pre style=\"white-space:pre;overflow-x:auto;line-height:normal;font-family:Menlo,'DejaVu Sans Mono',consolas,'Courier New',monospace\"><span style=\"color: #008080; text-decoration-color: #008080; font-weight: bold\">[</span><span style=\"color: #008080; text-decoration-color: #008080\">INIT</span><span style=\"color: #008080; text-decoration-color: #008080; font-weight: bold\">]</span><span style=\"color: #008080; text-decoration-color: #008080\">.... → Crawl4AI </span><span style=\"color: #008080; text-decoration-color: #008080; font-weight: bold\">0.6</span><span style=\"color: #008080; text-decoration-color: #008080\">.</span><span style=\"color: #008080; text-decoration-color: #008080; font-weight: bold\">3</span><span style=\"color: #008080; text-decoration-color: #008080\"> </span>\n",
              "</pre>\n"
            ]
          },
          "metadata": {}
        },
        {
          "output_type": "display_data",
          "data": {
            "text/plain": [
              "\u001b[1;32m[\u001b[0m\u001b[32mFETCH\u001b[0m\u001b[1;32m]\u001b[0m\u001b[32m...\u001b[0m\u001b[32m ↓ \u001b[0m\u001b[4;32mhttps://www.amazon.com/deals?\u001b[0m\u001b[4;32mref_\u001b[0m\u001b[4;32m=\u001b[0m\u001b[4;32mnav_cs_gb\u001b[0m\u001b[32m                                                          |\u001b[0m\n",
              "\u001b[32m✓\u001b[0m\u001b[32m | ⏱: \u001b[0m\u001b[1;32m5.\u001b[0m\u001b[32m49s \u001b[0m\n"
            ],
            "text/html": [
              "<pre style=\"white-space:pre;overflow-x:auto;line-height:normal;font-family:Menlo,'DejaVu Sans Mono',consolas,'Courier New',monospace\"><span style=\"color: #008000; text-decoration-color: #008000; font-weight: bold\">[</span><span style=\"color: #008000; text-decoration-color: #008000\">FETCH</span><span style=\"color: #008000; text-decoration-color: #008000; font-weight: bold\">]</span><span style=\"color: #008000; text-decoration-color: #008000\">... ↓ </span><span style=\"color: #008000; text-decoration-color: #008000; text-decoration: underline\">https://www.amazon.com/deals?ref_=nav_cs_gb</span><span style=\"color: #008000; text-decoration-color: #008000\">                                                          |</span>\n",
              "<span style=\"color: #008000; text-decoration-color: #008000\">✓ | ⏱: </span><span style=\"color: #008000; text-decoration-color: #008000; font-weight: bold\">5.</span><span style=\"color: #008000; text-decoration-color: #008000\">49s </span>\n",
              "</pre>\n"
            ]
          },
          "metadata": {}
        },
        {
          "output_type": "display_data",
          "data": {
            "text/plain": [
              "\u001b[1;32m[\u001b[0m\u001b[32mSCRAPE\u001b[0m\u001b[1;32m]\u001b[0m\u001b[32m.. ◆ \u001b[0m\u001b[4;32mhttps://www.amazon.com/deals?\u001b[0m\u001b[4;32mref_\u001b[0m\u001b[4;32m=\u001b[0m\u001b[4;32mnav_cs_gb\u001b[0m\u001b[32m                                                          |\u001b[0m\n",
              "\u001b[32m✓\u001b[0m\u001b[32m | ⏱: \u001b[0m\u001b[1;32m0.\u001b[0m\u001b[32m59s \u001b[0m\n"
            ],
            "text/html": [
              "<pre style=\"white-space:pre;overflow-x:auto;line-height:normal;font-family:Menlo,'DejaVu Sans Mono',consolas,'Courier New',monospace\"><span style=\"color: #008000; text-decoration-color: #008000; font-weight: bold\">[</span><span style=\"color: #008000; text-decoration-color: #008000\">SCRAPE</span><span style=\"color: #008000; text-decoration-color: #008000; font-weight: bold\">]</span><span style=\"color: #008000; text-decoration-color: #008000\">.. ◆ </span><span style=\"color: #008000; text-decoration-color: #008000; text-decoration: underline\">https://www.amazon.com/deals?ref_=nav_cs_gb</span><span style=\"color: #008000; text-decoration-color: #008000\">                                                          |</span>\n",
              "<span style=\"color: #008000; text-decoration-color: #008000\">✓ | ⏱: </span><span style=\"color: #008000; text-decoration-color: #008000; font-weight: bold\">0.</span><span style=\"color: #008000; text-decoration-color: #008000\">59s </span>\n",
              "</pre>\n"
            ]
          },
          "metadata": {}
        },
        {
          "output_type": "display_data",
          "data": {
            "text/plain": [
              "\u001b[1;32m[\u001b[0m\u001b[32mCOMPLETE\u001b[0m\u001b[1;32m]\u001b[0m\u001b[32m ● \u001b[0m\u001b[4;32mhttps://www.amazon.com/deals?\u001b[0m\u001b[4;32mref_\u001b[0m\u001b[4;32m=\u001b[0m\u001b[4;32mnav_cs_gb\u001b[0m\u001b[32m                                                          |\u001b[0m\n",
              "\u001b[32m✓\u001b[0m\u001b[32m | ⏱: \u001b[0m\u001b[1;32m6.\u001b[0m\u001b[32m11s \u001b[0m\n"
            ],
            "text/html": [
              "<pre style=\"white-space:pre;overflow-x:auto;line-height:normal;font-family:Menlo,'DejaVu Sans Mono',consolas,'Courier New',monospace\"><span style=\"color: #008000; text-decoration-color: #008000; font-weight: bold\">[</span><span style=\"color: #008000; text-decoration-color: #008000\">COMPLETE</span><span style=\"color: #008000; text-decoration-color: #008000; font-weight: bold\">]</span><span style=\"color: #008000; text-decoration-color: #008000\"> ● </span><span style=\"color: #008000; text-decoration-color: #008000; text-decoration: underline\">https://www.amazon.com/deals?ref_=nav_cs_gb</span><span style=\"color: #008000; text-decoration-color: #008000\">                                                          |</span>\n",
              "<span style=\"color: #008000; text-decoration-color: #008000\">✓ | ⏱: </span><span style=\"color: #008000; text-decoration-color: #008000; font-weight: bold\">6.</span><span style=\"color: #008000; text-decoration-color: #008000\">11s </span>\n",
              "</pre>\n"
            ]
          },
          "metadata": {}
        },
        {
          "output_type": "stream",
          "name": "stdout",
          "text": [
            "Markdown saved to amazon_2025-06-30_16-17-23\n"
          ]
        },
        {
          "output_type": "display_data",
          "data": {
            "text/plain": [
              "\u001b[1;36m[\u001b[0m\u001b[36mINIT\u001b[0m\u001b[1;36m]\u001b[0m\u001b[36m...\u001b[0m\u001b[36m. → Crawl4AI \u001b[0m\u001b[1;36m0.6\u001b[0m\u001b[36m.\u001b[0m\u001b[1;36m3\u001b[0m\u001b[36m \u001b[0m\n"
            ],
            "text/html": [
              "<pre style=\"white-space:pre;overflow-x:auto;line-height:normal;font-family:Menlo,'DejaVu Sans Mono',consolas,'Courier New',monospace\"><span style=\"color: #008080; text-decoration-color: #008080; font-weight: bold\">[</span><span style=\"color: #008080; text-decoration-color: #008080\">INIT</span><span style=\"color: #008080; text-decoration-color: #008080; font-weight: bold\">]</span><span style=\"color: #008080; text-decoration-color: #008080\">.... → Crawl4AI </span><span style=\"color: #008080; text-decoration-color: #008080; font-weight: bold\">0.6</span><span style=\"color: #008080; text-decoration-color: #008080\">.</span><span style=\"color: #008080; text-decoration-color: #008080; font-weight: bold\">3</span><span style=\"color: #008080; text-decoration-color: #008080\"> </span>\n",
              "</pre>\n"
            ]
          },
          "metadata": {}
        },
        {
          "output_type": "display_data",
          "data": {
            "text/plain": [
              "\u001b[1;32m[\u001b[0m\u001b[32mFETCH\u001b[0m\u001b[1;32m]\u001b[0m\u001b[32m...\u001b[0m\u001b[32m ↓ \u001b[0m\u001b[4;32mhttps://www.amazon.com/prime?\u001b[0m\u001b[4;32mref_\u001b[0m\u001b[4;32m=\u001b[0m\u001b[4;32mnav_cs_primelink_nonmember\u001b[0m\u001b[32m                                         |\u001b[0m\n",
              "\u001b[32m✓\u001b[0m\u001b[32m | ⏱: \u001b[0m\u001b[1;32m2.\u001b[0m\u001b[32m24s \u001b[0m\n"
            ],
            "text/html": [
              "<pre style=\"white-space:pre;overflow-x:auto;line-height:normal;font-family:Menlo,'DejaVu Sans Mono',consolas,'Courier New',monospace\"><span style=\"color: #008000; text-decoration-color: #008000; font-weight: bold\">[</span><span style=\"color: #008000; text-decoration-color: #008000\">FETCH</span><span style=\"color: #008000; text-decoration-color: #008000; font-weight: bold\">]</span><span style=\"color: #008000; text-decoration-color: #008000\">... ↓ </span><span style=\"color: #008000; text-decoration-color: #008000; text-decoration: underline\">https://www.amazon.com/prime?ref_=nav_cs_primelink_nonmember</span><span style=\"color: #008000; text-decoration-color: #008000\">                                         |</span>\n",
              "<span style=\"color: #008000; text-decoration-color: #008000\">✓ | ⏱: </span><span style=\"color: #008000; text-decoration-color: #008000; font-weight: bold\">2.</span><span style=\"color: #008000; text-decoration-color: #008000\">24s </span>\n",
              "</pre>\n"
            ]
          },
          "metadata": {}
        },
        {
          "output_type": "display_data",
          "data": {
            "text/plain": [
              "\u001b[1;32m[\u001b[0m\u001b[32mSCRAPE\u001b[0m\u001b[1;32m]\u001b[0m\u001b[32m.. ◆ \u001b[0m\u001b[4;32mhttps://www.amazon.com/prime?\u001b[0m\u001b[4;32mref_\u001b[0m\u001b[4;32m=\u001b[0m\u001b[4;32mnav_cs_primelink_nonmember\u001b[0m\u001b[32m                                         |\u001b[0m\n",
              "\u001b[32m✓\u001b[0m\u001b[32m | ⏱: \u001b[0m\u001b[1;32m0.\u001b[0m\u001b[32m24s \u001b[0m\n"
            ],
            "text/html": [
              "<pre style=\"white-space:pre;overflow-x:auto;line-height:normal;font-family:Menlo,'DejaVu Sans Mono',consolas,'Courier New',monospace\"><span style=\"color: #008000; text-decoration-color: #008000; font-weight: bold\">[</span><span style=\"color: #008000; text-decoration-color: #008000\">SCRAPE</span><span style=\"color: #008000; text-decoration-color: #008000; font-weight: bold\">]</span><span style=\"color: #008000; text-decoration-color: #008000\">.. ◆ </span><span style=\"color: #008000; text-decoration-color: #008000; text-decoration: underline\">https://www.amazon.com/prime?ref_=nav_cs_primelink_nonmember</span><span style=\"color: #008000; text-decoration-color: #008000\">                                         |</span>\n",
              "<span style=\"color: #008000; text-decoration-color: #008000\">✓ | ⏱: </span><span style=\"color: #008000; text-decoration-color: #008000; font-weight: bold\">0.</span><span style=\"color: #008000; text-decoration-color: #008000\">24s </span>\n",
              "</pre>\n"
            ]
          },
          "metadata": {}
        },
        {
          "output_type": "display_data",
          "data": {
            "text/plain": [
              "\u001b[1;32m[\u001b[0m\u001b[32mCOMPLETE\u001b[0m\u001b[1;32m]\u001b[0m\u001b[32m ● \u001b[0m\u001b[4;32mhttps://www.amazon.com/prime?\u001b[0m\u001b[4;32mref_\u001b[0m\u001b[4;32m=\u001b[0m\u001b[4;32mnav_cs_primelink_nonmember\u001b[0m\u001b[32m                                         |\u001b[0m\n",
              "\u001b[32m✓\u001b[0m\u001b[32m | ⏱: \u001b[0m\u001b[1;32m2.\u001b[0m\u001b[32m48s \u001b[0m\n"
            ],
            "text/html": [
              "<pre style=\"white-space:pre;overflow-x:auto;line-height:normal;font-family:Menlo,'DejaVu Sans Mono',consolas,'Courier New',monospace\"><span style=\"color: #008000; text-decoration-color: #008000; font-weight: bold\">[</span><span style=\"color: #008000; text-decoration-color: #008000\">COMPLETE</span><span style=\"color: #008000; text-decoration-color: #008000; font-weight: bold\">]</span><span style=\"color: #008000; text-decoration-color: #008000\"> ● </span><span style=\"color: #008000; text-decoration-color: #008000; text-decoration: underline\">https://www.amazon.com/prime?ref_=nav_cs_primelink_nonmember</span><span style=\"color: #008000; text-decoration-color: #008000\">                                         |</span>\n",
              "<span style=\"color: #008000; text-decoration-color: #008000\">✓ | ⏱: </span><span style=\"color: #008000; text-decoration-color: #008000; font-weight: bold\">2.</span><span style=\"color: #008000; text-decoration-color: #008000\">48s </span>\n",
              "</pre>\n"
            ]
          },
          "metadata": {}
        },
        {
          "output_type": "stream",
          "name": "stdout",
          "text": [
            "Markdown saved to amazon_2025-06-30_16-17-27\n"
          ]
        },
        {
          "output_type": "display_data",
          "data": {
            "text/plain": [
              "\u001b[1;36m[\u001b[0m\u001b[36mINIT\u001b[0m\u001b[1;36m]\u001b[0m\u001b[36m...\u001b[0m\u001b[36m. → Crawl4AI \u001b[0m\u001b[1;36m0.6\u001b[0m\u001b[36m.\u001b[0m\u001b[1;36m3\u001b[0m\u001b[36m \u001b[0m\n"
            ],
            "text/html": [
              "<pre style=\"white-space:pre;overflow-x:auto;line-height:normal;font-family:Menlo,'DejaVu Sans Mono',consolas,'Courier New',monospace\"><span style=\"color: #008080; text-decoration-color: #008080; font-weight: bold\">[</span><span style=\"color: #008080; text-decoration-color: #008080\">INIT</span><span style=\"color: #008080; text-decoration-color: #008080; font-weight: bold\">]</span><span style=\"color: #008080; text-decoration-color: #008080\">.... → Crawl4AI </span><span style=\"color: #008080; text-decoration-color: #008080; font-weight: bold\">0.6</span><span style=\"color: #008080; text-decoration-color: #008080\">.</span><span style=\"color: #008080; text-decoration-color: #008080; font-weight: bold\">3</span><span style=\"color: #008080; text-decoration-color: #008080\"> </span>\n",
              "</pre>\n"
            ]
          },
          "metadata": {}
        },
        {
          "output_type": "display_data",
          "data": {
            "text/plain": [
              "\u001b[1;32m[\u001b[0m\u001b[32mFETCH\u001b[0m\u001b[1;32m]\u001b[0m\u001b[32m...\u001b[0m\u001b[32m ↓ \u001b[0m\u001b[4;32mhttps://www.amazon.com/music/player?\u001b[0m\u001b[4;32mref_\u001b[0m\u001b[4;32m=\u001b[0m\u001b[4;32mnav_cs_music\u001b[0m\u001b[32m                                                |\u001b[0m\n",
              "\u001b[32m✓\u001b[0m\u001b[32m | ⏱: \u001b[0m\u001b[1;32m3.\u001b[0m\u001b[32m07s \u001b[0m\n"
            ],
            "text/html": [
              "<pre style=\"white-space:pre;overflow-x:auto;line-height:normal;font-family:Menlo,'DejaVu Sans Mono',consolas,'Courier New',monospace\"><span style=\"color: #008000; text-decoration-color: #008000; font-weight: bold\">[</span><span style=\"color: #008000; text-decoration-color: #008000\">FETCH</span><span style=\"color: #008000; text-decoration-color: #008000; font-weight: bold\">]</span><span style=\"color: #008000; text-decoration-color: #008000\">... ↓ </span><span style=\"color: #008000; text-decoration-color: #008000; text-decoration: underline\">https://www.amazon.com/music/player?ref_=nav_cs_music</span><span style=\"color: #008000; text-decoration-color: #008000\">                                                |</span>\n",
              "<span style=\"color: #008000; text-decoration-color: #008000\">✓ | ⏱: </span><span style=\"color: #008000; text-decoration-color: #008000; font-weight: bold\">3.</span><span style=\"color: #008000; text-decoration-color: #008000\">07s </span>\n",
              "</pre>\n"
            ]
          },
          "metadata": {}
        },
        {
          "output_type": "display_data",
          "data": {
            "text/plain": [
              "\u001b[1;32m[\u001b[0m\u001b[32mSCRAPE\u001b[0m\u001b[1;32m]\u001b[0m\u001b[32m.. ◆ \u001b[0m\u001b[4;32mhttps://www.amazon.com/music/player?\u001b[0m\u001b[4;32mref_\u001b[0m\u001b[4;32m=\u001b[0m\u001b[4;32mnav_cs_music\u001b[0m\u001b[32m                                                |\u001b[0m\n",
              "\u001b[32m✓\u001b[0m\u001b[32m | ⏱: \u001b[0m\u001b[1;32m0.\u001b[0m\u001b[32m16s \u001b[0m\n"
            ],
            "text/html": [
              "<pre style=\"white-space:pre;overflow-x:auto;line-height:normal;font-family:Menlo,'DejaVu Sans Mono',consolas,'Courier New',monospace\"><span style=\"color: #008000; text-decoration-color: #008000; font-weight: bold\">[</span><span style=\"color: #008000; text-decoration-color: #008000\">SCRAPE</span><span style=\"color: #008000; text-decoration-color: #008000; font-weight: bold\">]</span><span style=\"color: #008000; text-decoration-color: #008000\">.. ◆ </span><span style=\"color: #008000; text-decoration-color: #008000; text-decoration: underline\">https://www.amazon.com/music/player?ref_=nav_cs_music</span><span style=\"color: #008000; text-decoration-color: #008000\">                                                |</span>\n",
              "<span style=\"color: #008000; text-decoration-color: #008000\">✓ | ⏱: </span><span style=\"color: #008000; text-decoration-color: #008000; font-weight: bold\">0.</span><span style=\"color: #008000; text-decoration-color: #008000\">16s </span>\n",
              "</pre>\n"
            ]
          },
          "metadata": {}
        },
        {
          "output_type": "display_data",
          "data": {
            "text/plain": [
              "\u001b[1;32m[\u001b[0m\u001b[32mCOMPLETE\u001b[0m\u001b[1;32m]\u001b[0m\u001b[32m ● \u001b[0m\u001b[4;32mhttps://www.amazon.com/music/player?\u001b[0m\u001b[4;32mref_\u001b[0m\u001b[4;32m=\u001b[0m\u001b[4;32mnav_cs_music\u001b[0m\u001b[32m                                                |\u001b[0m\n",
              "\u001b[32m✓\u001b[0m\u001b[32m | ⏱: \u001b[0m\u001b[1;32m3.\u001b[0m\u001b[32m25s \u001b[0m\n"
            ],
            "text/html": [
              "<pre style=\"white-space:pre;overflow-x:auto;line-height:normal;font-family:Menlo,'DejaVu Sans Mono',consolas,'Courier New',monospace\"><span style=\"color: #008000; text-decoration-color: #008000; font-weight: bold\">[</span><span style=\"color: #008000; text-decoration-color: #008000\">COMPLETE</span><span style=\"color: #008000; text-decoration-color: #008000; font-weight: bold\">]</span><span style=\"color: #008000; text-decoration-color: #008000\"> ● </span><span style=\"color: #008000; text-decoration-color: #008000; text-decoration: underline\">https://www.amazon.com/music/player?ref_=nav_cs_music</span><span style=\"color: #008000; text-decoration-color: #008000\">                                                |</span>\n",
              "<span style=\"color: #008000; text-decoration-color: #008000\">✓ | ⏱: </span><span style=\"color: #008000; text-decoration-color: #008000; font-weight: bold\">3.</span><span style=\"color: #008000; text-decoration-color: #008000\">25s </span>\n",
              "</pre>\n"
            ]
          },
          "metadata": {}
        },
        {
          "output_type": "stream",
          "name": "stdout",
          "text": [
            "Markdown saved to amazon_2025-06-30_16-17-31\n"
          ]
        },
        {
          "output_type": "display_data",
          "data": {
            "text/plain": [
              "\u001b[1;36m[\u001b[0m\u001b[36mINIT\u001b[0m\u001b[1;36m]\u001b[0m\u001b[36m...\u001b[0m\u001b[36m. → Crawl4AI \u001b[0m\u001b[1;36m0.6\u001b[0m\u001b[36m.\u001b[0m\u001b[1;36m3\u001b[0m\u001b[36m \u001b[0m\n"
            ],
            "text/html": [
              "<pre style=\"white-space:pre;overflow-x:auto;line-height:normal;font-family:Menlo,'DejaVu Sans Mono',consolas,'Courier New',monospace\"><span style=\"color: #008080; text-decoration-color: #008080; font-weight: bold\">[</span><span style=\"color: #008080; text-decoration-color: #008080\">INIT</span><span style=\"color: #008080; text-decoration-color: #008080; font-weight: bold\">]</span><span style=\"color: #008080; text-decoration-color: #008080\">.... → Crawl4AI </span><span style=\"color: #008080; text-decoration-color: #008080; font-weight: bold\">0.6</span><span style=\"color: #008080; text-decoration-color: #008080\">.</span><span style=\"color: #008080; text-decoration-color: #008080; font-weight: bold\">3</span><span style=\"color: #008080; text-decoration-color: #008080\"> </span>\n",
              "</pre>\n"
            ]
          },
          "metadata": {}
        },
        {
          "output_type": "display_data",
          "data": {
            "text/plain": [
              "\u001b[1;32m[\u001b[0m\u001b[32mFETCH\u001b[0m\u001b[1;32m]\u001b[0m\u001b[32m...\u001b[0m\u001b[32m ↓ \u001b[0m\u001b[4;32mhttps://www.amazon.com/books-used-books-textbooks/b/?\u001b[0m\u001b[4;32mie\u001b[0m\u001b[4;32m=\u001b[0m\u001b[4;32mUTF8\u001b[0m\u001b[4;32m&\u001b[0m\u001b[4;32mnode\u001b[0m\u001b[4;32m=\u001b[0m\u001b[4;32m283155\u001b[0m\u001b[4;32m&\u001b[0m\u001b[4;32mref_\u001b[0m\u001b[4;32m=\u001b[0m\u001b[4;32mnav_cs_books\u001b[0m\u001b[32m           |\u001b[0m\n",
              "\u001b[32m✓\u001b[0m\u001b[32m | ⏱: \u001b[0m\u001b[1;32m7.\u001b[0m\u001b[32m59s \u001b[0m\n"
            ],
            "text/html": [
              "<pre style=\"white-space:pre;overflow-x:auto;line-height:normal;font-family:Menlo,'DejaVu Sans Mono',consolas,'Courier New',monospace\"><span style=\"color: #008000; text-decoration-color: #008000; font-weight: bold\">[</span><span style=\"color: #008000; text-decoration-color: #008000\">FETCH</span><span style=\"color: #008000; text-decoration-color: #008000; font-weight: bold\">]</span><span style=\"color: #008000; text-decoration-color: #008000\">... ↓ </span><span style=\"color: #008000; text-decoration-color: #008000; text-decoration: underline\">https://www.amazon.com/books-used-books-textbooks/b/?ie=UTF8&amp;node=283155&amp;ref_=nav_cs_books</span><span style=\"color: #008000; text-decoration-color: #008000\">           |</span>\n",
              "<span style=\"color: #008000; text-decoration-color: #008000\">✓ | ⏱: </span><span style=\"color: #008000; text-decoration-color: #008000; font-weight: bold\">7.</span><span style=\"color: #008000; text-decoration-color: #008000\">59s </span>\n",
              "</pre>\n"
            ]
          },
          "metadata": {}
        },
        {
          "output_type": "display_data",
          "data": {
            "text/plain": [
              "\u001b[1;32m[\u001b[0m\u001b[32mSCRAPE\u001b[0m\u001b[1;32m]\u001b[0m\u001b[32m.. ◆ \u001b[0m\u001b[4;32mhttps://www.amazon.com/books-used-books-textbooks/b/?\u001b[0m\u001b[4;32mie\u001b[0m\u001b[4;32m=\u001b[0m\u001b[4;32mUTF8\u001b[0m\u001b[4;32m&\u001b[0m\u001b[4;32mnode\u001b[0m\u001b[4;32m=\u001b[0m\u001b[4;32m283155\u001b[0m\u001b[4;32m&\u001b[0m\u001b[4;32mref_\u001b[0m\u001b[4;32m=\u001b[0m\u001b[4;32mnav_cs_books\u001b[0m\u001b[32m           |\u001b[0m\n",
              "\u001b[32m✓\u001b[0m\u001b[32m | ⏱: \u001b[0m\u001b[1;32m0.\u001b[0m\u001b[32m57s \u001b[0m\n"
            ],
            "text/html": [
              "<pre style=\"white-space:pre;overflow-x:auto;line-height:normal;font-family:Menlo,'DejaVu Sans Mono',consolas,'Courier New',monospace\"><span style=\"color: #008000; text-decoration-color: #008000; font-weight: bold\">[</span><span style=\"color: #008000; text-decoration-color: #008000\">SCRAPE</span><span style=\"color: #008000; text-decoration-color: #008000; font-weight: bold\">]</span><span style=\"color: #008000; text-decoration-color: #008000\">.. ◆ </span><span style=\"color: #008000; text-decoration-color: #008000; text-decoration: underline\">https://www.amazon.com/books-used-books-textbooks/b/?ie=UTF8&amp;node=283155&amp;ref_=nav_cs_books</span><span style=\"color: #008000; text-decoration-color: #008000\">           |</span>\n",
              "<span style=\"color: #008000; text-decoration-color: #008000\">✓ | ⏱: </span><span style=\"color: #008000; text-decoration-color: #008000; font-weight: bold\">0.</span><span style=\"color: #008000; text-decoration-color: #008000\">57s </span>\n",
              "</pre>\n"
            ]
          },
          "metadata": {}
        },
        {
          "output_type": "display_data",
          "data": {
            "text/plain": [
              "\u001b[1;32m[\u001b[0m\u001b[32mCOMPLETE\u001b[0m\u001b[1;32m]\u001b[0m\u001b[32m ● \u001b[0m\u001b[4;32mhttps://www.amazon.com/books-used-books-textbooks/b/?\u001b[0m\u001b[4;32mie\u001b[0m\u001b[4;32m=\u001b[0m\u001b[4;32mUTF8\u001b[0m\u001b[4;32m&\u001b[0m\u001b[4;32mnode\u001b[0m\u001b[4;32m=\u001b[0m\u001b[4;32m283155\u001b[0m\u001b[4;32m&\u001b[0m\u001b[4;32mref_\u001b[0m\u001b[4;32m=\u001b[0m\u001b[4;32mnav_cs_books\u001b[0m\u001b[32m           |\u001b[0m\n",
              "\u001b[32m✓\u001b[0m\u001b[32m | ⏱: \u001b[0m\u001b[1;32m8.\u001b[0m\u001b[32m19s \u001b[0m\n"
            ],
            "text/html": [
              "<pre style=\"white-space:pre;overflow-x:auto;line-height:normal;font-family:Menlo,'DejaVu Sans Mono',consolas,'Courier New',monospace\"><span style=\"color: #008000; text-decoration-color: #008000; font-weight: bold\">[</span><span style=\"color: #008000; text-decoration-color: #008000\">COMPLETE</span><span style=\"color: #008000; text-decoration-color: #008000; font-weight: bold\">]</span><span style=\"color: #008000; text-decoration-color: #008000\"> ● </span><span style=\"color: #008000; text-decoration-color: #008000; text-decoration: underline\">https://www.amazon.com/books-used-books-textbooks/b/?ie=UTF8&amp;node=283155&amp;ref_=nav_cs_books</span><span style=\"color: #008000; text-decoration-color: #008000\">           |</span>\n",
              "<span style=\"color: #008000; text-decoration-color: #008000\">✓ | ⏱: </span><span style=\"color: #008000; text-decoration-color: #008000; font-weight: bold\">8.</span><span style=\"color: #008000; text-decoration-color: #008000\">19s </span>\n",
              "</pre>\n"
            ]
          },
          "metadata": {}
        },
        {
          "output_type": "stream",
          "name": "stdout",
          "text": [
            "Markdown saved to amazon_2025-06-30_16-17-40\n"
          ]
        },
        {
          "output_type": "display_data",
          "data": {
            "text/plain": [
              "\u001b[1;36m[\u001b[0m\u001b[36mINIT\u001b[0m\u001b[1;36m]\u001b[0m\u001b[36m...\u001b[0m\u001b[36m. → Crawl4AI \u001b[0m\u001b[1;36m0.6\u001b[0m\u001b[36m.\u001b[0m\u001b[1;36m3\u001b[0m\u001b[36m \u001b[0m\n"
            ],
            "text/html": [
              "<pre style=\"white-space:pre;overflow-x:auto;line-height:normal;font-family:Menlo,'DejaVu Sans Mono',consolas,'Courier New',monospace\"><span style=\"color: #008080; text-decoration-color: #008080; font-weight: bold\">[</span><span style=\"color: #008080; text-decoration-color: #008080\">INIT</span><span style=\"color: #008080; text-decoration-color: #008080; font-weight: bold\">]</span><span style=\"color: #008080; text-decoration-color: #008080\">.... → Crawl4AI </span><span style=\"color: #008080; text-decoration-color: #008080; font-weight: bold\">0.6</span><span style=\"color: #008080; text-decoration-color: #008080\">.</span><span style=\"color: #008080; text-decoration-color: #008080; font-weight: bold\">3</span><span style=\"color: #008080; text-decoration-color: #008080\"> </span>\n",
              "</pre>\n"
            ]
          },
          "metadata": {}
        },
        {
          "output_type": "display_data",
          "data": {
            "text/plain": [
              "\u001b[1;32m[\u001b[0m\u001b[32mFETCH\u001b[0m\u001b[1;32m]\u001b[0m\u001b[32m...\u001b[0m\u001b[32m ↓ \u001b[0m\u001b[4;32mhttps://pharmacy.amazon.com/?\u001b[0m\u001b[4;32mnodl\u001b[0m\u001b[4;32m=\u001b[0m\u001b[4;32m0\u001b[0m\u001b[4;32m&\u001b[0m\u001b[4;32mref_\u001b[0m\u001b[4;32m=\u001b[0m\u001b[4;32mnav_cs_pharmacy\u001b[0m\u001b[32m                                             |\u001b[0m\n",
              "\u001b[32m✓\u001b[0m\u001b[32m | ⏱: \u001b[0m\u001b[1;32m3.\u001b[0m\u001b[32m03s \u001b[0m\n"
            ],
            "text/html": [
              "<pre style=\"white-space:pre;overflow-x:auto;line-height:normal;font-family:Menlo,'DejaVu Sans Mono',consolas,'Courier New',monospace\"><span style=\"color: #008000; text-decoration-color: #008000; font-weight: bold\">[</span><span style=\"color: #008000; text-decoration-color: #008000\">FETCH</span><span style=\"color: #008000; text-decoration-color: #008000; font-weight: bold\">]</span><span style=\"color: #008000; text-decoration-color: #008000\">... ↓ </span><span style=\"color: #008000; text-decoration-color: #008000; text-decoration: underline\">https://pharmacy.amazon.com/?nodl=0&amp;ref_=nav_cs_pharmacy</span><span style=\"color: #008000; text-decoration-color: #008000\">                                             |</span>\n",
              "<span style=\"color: #008000; text-decoration-color: #008000\">✓ | ⏱: </span><span style=\"color: #008000; text-decoration-color: #008000; font-weight: bold\">3.</span><span style=\"color: #008000; text-decoration-color: #008000\">03s </span>\n",
              "</pre>\n"
            ]
          },
          "metadata": {}
        },
        {
          "output_type": "display_data",
          "data": {
            "text/plain": [
              "\u001b[1;32m[\u001b[0m\u001b[32mSCRAPE\u001b[0m\u001b[1;32m]\u001b[0m\u001b[32m.. ◆ \u001b[0m\u001b[4;32mhttps://pharmacy.amazon.com/?\u001b[0m\u001b[4;32mnodl\u001b[0m\u001b[4;32m=\u001b[0m\u001b[4;32m0\u001b[0m\u001b[4;32m&\u001b[0m\u001b[4;32mref_\u001b[0m\u001b[4;32m=\u001b[0m\u001b[4;32mnav_cs_pharmacy\u001b[0m\u001b[32m                                             |\u001b[0m\n",
              "\u001b[32m✓\u001b[0m\u001b[32m | ⏱: \u001b[0m\u001b[1;32m0.\u001b[0m\u001b[32m16s \u001b[0m\n"
            ],
            "text/html": [
              "<pre style=\"white-space:pre;overflow-x:auto;line-height:normal;font-family:Menlo,'DejaVu Sans Mono',consolas,'Courier New',monospace\"><span style=\"color: #008000; text-decoration-color: #008000; font-weight: bold\">[</span><span style=\"color: #008000; text-decoration-color: #008000\">SCRAPE</span><span style=\"color: #008000; text-decoration-color: #008000; font-weight: bold\">]</span><span style=\"color: #008000; text-decoration-color: #008000\">.. ◆ </span><span style=\"color: #008000; text-decoration-color: #008000; text-decoration: underline\">https://pharmacy.amazon.com/?nodl=0&amp;ref_=nav_cs_pharmacy</span><span style=\"color: #008000; text-decoration-color: #008000\">                                             |</span>\n",
              "<span style=\"color: #008000; text-decoration-color: #008000\">✓ | ⏱: </span><span style=\"color: #008000; text-decoration-color: #008000; font-weight: bold\">0.</span><span style=\"color: #008000; text-decoration-color: #008000\">16s </span>\n",
              "</pre>\n"
            ]
          },
          "metadata": {}
        },
        {
          "output_type": "display_data",
          "data": {
            "text/plain": [
              "\u001b[1;32m[\u001b[0m\u001b[32mCOMPLETE\u001b[0m\u001b[1;32m]\u001b[0m\u001b[32m ● \u001b[0m\u001b[4;32mhttps://pharmacy.amazon.com/?\u001b[0m\u001b[4;32mnodl\u001b[0m\u001b[4;32m=\u001b[0m\u001b[4;32m0\u001b[0m\u001b[4;32m&\u001b[0m\u001b[4;32mref_\u001b[0m\u001b[4;32m=\u001b[0m\u001b[4;32mnav_cs_pharmacy\u001b[0m\u001b[32m                                             |\u001b[0m\n",
              "\u001b[32m✓\u001b[0m\u001b[32m | ⏱: \u001b[0m\u001b[1;32m3.\u001b[0m\u001b[32m20s \u001b[0m\n"
            ],
            "text/html": [
              "<pre style=\"white-space:pre;overflow-x:auto;line-height:normal;font-family:Menlo,'DejaVu Sans Mono',consolas,'Courier New',monospace\"><span style=\"color: #008000; text-decoration-color: #008000; font-weight: bold\">[</span><span style=\"color: #008000; text-decoration-color: #008000\">COMPLETE</span><span style=\"color: #008000; text-decoration-color: #008000; font-weight: bold\">]</span><span style=\"color: #008000; text-decoration-color: #008000\"> ● </span><span style=\"color: #008000; text-decoration-color: #008000; text-decoration: underline\">https://pharmacy.amazon.com/?nodl=0&amp;ref_=nav_cs_pharmacy</span><span style=\"color: #008000; text-decoration-color: #008000\">                                             |</span>\n",
              "<span style=\"color: #008000; text-decoration-color: #008000\">✓ | ⏱: </span><span style=\"color: #008000; text-decoration-color: #008000; font-weight: bold\">3.</span><span style=\"color: #008000; text-decoration-color: #008000\">20s </span>\n",
              "</pre>\n"
            ]
          },
          "metadata": {}
        },
        {
          "output_type": "stream",
          "name": "stdout",
          "text": [
            "Markdown saved to amazon_2025-06-30_16-17-45\n"
          ]
        },
        {
          "output_type": "display_data",
          "data": {
            "text/plain": [
              "\u001b[1;36m[\u001b[0m\u001b[36mINIT\u001b[0m\u001b[1;36m]\u001b[0m\u001b[36m...\u001b[0m\u001b[36m. → Crawl4AI \u001b[0m\u001b[1;36m0.6\u001b[0m\u001b[36m.\u001b[0m\u001b[1;36m3\u001b[0m\u001b[36m \u001b[0m\n"
            ],
            "text/html": [
              "<pre style=\"white-space:pre;overflow-x:auto;line-height:normal;font-family:Menlo,'DejaVu Sans Mono',consolas,'Courier New',monospace\"><span style=\"color: #008080; text-decoration-color: #008080; font-weight: bold\">[</span><span style=\"color: #008080; text-decoration-color: #008080\">INIT</span><span style=\"color: #008080; text-decoration-color: #008080; font-weight: bold\">]</span><span style=\"color: #008080; text-decoration-color: #008080\">.... → Crawl4AI </span><span style=\"color: #008080; text-decoration-color: #008080; font-weight: bold\">0.6</span><span style=\"color: #008080; text-decoration-color: #008080\">.</span><span style=\"color: #008080; text-decoration-color: #008080; font-weight: bold\">3</span><span style=\"color: #008080; text-decoration-color: #008080\"> </span>\n",
              "</pre>\n"
            ]
          },
          "metadata": {}
        },
        {
          "output_type": "display_data",
          "data": {
            "text/plain": [
              "\u001b[1;32m[\u001b[0m\u001b[32mFETCH\u001b[0m\u001b[1;32m]\u001b[0m\u001b[32m...\u001b[0m\u001b[32m ↓ \u001b[0m\u001b[4;32mhttps://www.amazon.com/luxurystores?\u001b[0m\u001b[4;32mref_\u001b[0m\u001b[4;32m=\u001b[0m\u001b[4;32mnav_cs_luxury\u001b[0m\u001b[32m                                               |\u001b[0m\n",
              "\u001b[32m✓\u001b[0m\u001b[32m | ⏱: \u001b[0m\u001b[1;32m4.\u001b[0m\u001b[32m03s \u001b[0m\n"
            ],
            "text/html": [
              "<pre style=\"white-space:pre;overflow-x:auto;line-height:normal;font-family:Menlo,'DejaVu Sans Mono',consolas,'Courier New',monospace\"><span style=\"color: #008000; text-decoration-color: #008000; font-weight: bold\">[</span><span style=\"color: #008000; text-decoration-color: #008000\">FETCH</span><span style=\"color: #008000; text-decoration-color: #008000; font-weight: bold\">]</span><span style=\"color: #008000; text-decoration-color: #008000\">... ↓ </span><span style=\"color: #008000; text-decoration-color: #008000; text-decoration: underline\">https://www.amazon.com/luxurystores?ref_=nav_cs_luxury</span><span style=\"color: #008000; text-decoration-color: #008000\">                                               |</span>\n",
              "<span style=\"color: #008000; text-decoration-color: #008000\">✓ | ⏱: </span><span style=\"color: #008000; text-decoration-color: #008000; font-weight: bold\">4.</span><span style=\"color: #008000; text-decoration-color: #008000\">03s </span>\n",
              "</pre>\n"
            ]
          },
          "metadata": {}
        },
        {
          "output_type": "display_data",
          "data": {
            "text/plain": [
              "\u001b[1;32m[\u001b[0m\u001b[32mSCRAPE\u001b[0m\u001b[1;32m]\u001b[0m\u001b[32m.. ◆ \u001b[0m\u001b[4;32mhttps://www.amazon.com/luxurystores?\u001b[0m\u001b[4;32mref_\u001b[0m\u001b[4;32m=\u001b[0m\u001b[4;32mnav_cs_luxury\u001b[0m\u001b[32m                                               |\u001b[0m\n",
              "\u001b[32m✓\u001b[0m\u001b[32m | ⏱: \u001b[0m\u001b[1;32m0.\u001b[0m\u001b[32m36s \u001b[0m\n"
            ],
            "text/html": [
              "<pre style=\"white-space:pre;overflow-x:auto;line-height:normal;font-family:Menlo,'DejaVu Sans Mono',consolas,'Courier New',monospace\"><span style=\"color: #008000; text-decoration-color: #008000; font-weight: bold\">[</span><span style=\"color: #008000; text-decoration-color: #008000\">SCRAPE</span><span style=\"color: #008000; text-decoration-color: #008000; font-weight: bold\">]</span><span style=\"color: #008000; text-decoration-color: #008000\">.. ◆ </span><span style=\"color: #008000; text-decoration-color: #008000; text-decoration: underline\">https://www.amazon.com/luxurystores?ref_=nav_cs_luxury</span><span style=\"color: #008000; text-decoration-color: #008000\">                                               |</span>\n",
              "<span style=\"color: #008000; text-decoration-color: #008000\">✓ | ⏱: </span><span style=\"color: #008000; text-decoration-color: #008000; font-weight: bold\">0.</span><span style=\"color: #008000; text-decoration-color: #008000\">36s </span>\n",
              "</pre>\n"
            ]
          },
          "metadata": {}
        },
        {
          "output_type": "display_data",
          "data": {
            "text/plain": [
              "\u001b[1;32m[\u001b[0m\u001b[32mCOMPLETE\u001b[0m\u001b[1;32m]\u001b[0m\u001b[32m ● \u001b[0m\u001b[4;32mhttps://www.amazon.com/luxurystores?\u001b[0m\u001b[4;32mref_\u001b[0m\u001b[4;32m=\u001b[0m\u001b[4;32mnav_cs_luxury\u001b[0m\u001b[32m                                               |\u001b[0m\n",
              "\u001b[32m✓\u001b[0m\u001b[32m | ⏱: \u001b[0m\u001b[1;32m4.\u001b[0m\u001b[32m41s \u001b[0m\n"
            ],
            "text/html": [
              "<pre style=\"white-space:pre;overflow-x:auto;line-height:normal;font-family:Menlo,'DejaVu Sans Mono',consolas,'Courier New',monospace\"><span style=\"color: #008000; text-decoration-color: #008000; font-weight: bold\">[</span><span style=\"color: #008000; text-decoration-color: #008000\">COMPLETE</span><span style=\"color: #008000; text-decoration-color: #008000; font-weight: bold\">]</span><span style=\"color: #008000; text-decoration-color: #008000\"> ● </span><span style=\"color: #008000; text-decoration-color: #008000; text-decoration: underline\">https://www.amazon.com/luxurystores?ref_=nav_cs_luxury</span><span style=\"color: #008000; text-decoration-color: #008000\">                                               |</span>\n",
              "<span style=\"color: #008000; text-decoration-color: #008000\">✓ | ⏱: </span><span style=\"color: #008000; text-decoration-color: #008000; font-weight: bold\">4.</span><span style=\"color: #008000; text-decoration-color: #008000\">41s </span>\n",
              "</pre>\n"
            ]
          },
          "metadata": {}
        },
        {
          "output_type": "stream",
          "name": "stdout",
          "text": [
            "Markdown saved to amazon_2025-06-30_16-17-50\n"
          ]
        },
        {
          "output_type": "display_data",
          "data": {
            "text/plain": [
              "\u001b[1;36m[\u001b[0m\u001b[36mINIT\u001b[0m\u001b[1;36m]\u001b[0m\u001b[36m...\u001b[0m\u001b[36m. → Crawl4AI \u001b[0m\u001b[1;36m0.6\u001b[0m\u001b[36m.\u001b[0m\u001b[1;36m3\u001b[0m\u001b[36m \u001b[0m\n"
            ],
            "text/html": [
              "<pre style=\"white-space:pre;overflow-x:auto;line-height:normal;font-family:Menlo,'DejaVu Sans Mono',consolas,'Courier New',monospace\"><span style=\"color: #008080; text-decoration-color: #008080; font-weight: bold\">[</span><span style=\"color: #008080; text-decoration-color: #008080\">INIT</span><span style=\"color: #008080; text-decoration-color: #008080; font-weight: bold\">]</span><span style=\"color: #008080; text-decoration-color: #008080\">.... → Crawl4AI </span><span style=\"color: #008080; text-decoration-color: #008080; font-weight: bold\">0.6</span><span style=\"color: #008080; text-decoration-color: #008080\">.</span><span style=\"color: #008080; text-decoration-color: #008080; font-weight: bold\">3</span><span style=\"color: #008080; text-decoration-color: #008080\"> </span>\n",
              "</pre>\n"
            ]
          },
          "metadata": {}
        },
        {
          "output_type": "display_data",
          "data": {
            "text/plain": [
              "\u001b[1;32m[\u001b[0m\u001b[32mFETCH\u001b[0m\u001b[1;32m]\u001b[0m\u001b[32m...\u001b[0m\u001b[32m ↓ \u001b[0m\u001b[4;32mhttps://www.amazon.com/home-garden-kitchen-furni...bedding/b/?\u001b[0m\u001b[4;32mie\u001b[0m\u001b[4;32m=\u001b[0m\u001b[4;32mUTF8\u001b[0m\u001b[4;32m&\u001b[0m\u001b[4;32mnode\u001b[0m\u001b[4;32m=\u001b[0m\u001b[4;32m1055398\u001b[0m\u001b[4;32m&\u001b[0m\u001b[4;32mref_\u001b[0m\u001b[4;32m=\u001b[0m\u001b[4;32mnav_cs_home\u001b[0m\u001b[32m  |\u001b[0m\n",
              "\u001b[32m✓\u001b[0m\u001b[32m | ⏱: \u001b[0m\u001b[1;32m4.\u001b[0m\u001b[32m21s \u001b[0m\n"
            ],
            "text/html": [
              "<pre style=\"white-space:pre;overflow-x:auto;line-height:normal;font-family:Menlo,'DejaVu Sans Mono',consolas,'Courier New',monospace\"><span style=\"color: #008000; text-decoration-color: #008000; font-weight: bold\">[</span><span style=\"color: #008000; text-decoration-color: #008000\">FETCH</span><span style=\"color: #008000; text-decoration-color: #008000; font-weight: bold\">]</span><span style=\"color: #008000; text-decoration-color: #008000\">... ↓ </span><span style=\"color: #008000; text-decoration-color: #008000; text-decoration: underline\">https://www.amazon.com/home-garden-kitchen-furni...bedding/b/?ie=UTF8&amp;node=1055398&amp;ref_=nav_cs_home</span><span style=\"color: #008000; text-decoration-color: #008000\">  |</span>\n",
              "<span style=\"color: #008000; text-decoration-color: #008000\">✓ | ⏱: </span><span style=\"color: #008000; text-decoration-color: #008000; font-weight: bold\">4.</span><span style=\"color: #008000; text-decoration-color: #008000\">21s </span>\n",
              "</pre>\n"
            ]
          },
          "metadata": {}
        },
        {
          "output_type": "display_data",
          "data": {
            "text/plain": [
              "\u001b[1;32m[\u001b[0m\u001b[32mSCRAPE\u001b[0m\u001b[1;32m]\u001b[0m\u001b[32m.. ◆ \u001b[0m\u001b[4;32mhttps://www.amazon.com/home-garden-kitchen-furni...bedding/b/?\u001b[0m\u001b[4;32mie\u001b[0m\u001b[4;32m=\u001b[0m\u001b[4;32mUTF8\u001b[0m\u001b[4;32m&\u001b[0m\u001b[4;32mnode\u001b[0m\u001b[4;32m=\u001b[0m\u001b[4;32m1055398\u001b[0m\u001b[4;32m&\u001b[0m\u001b[4;32mref_\u001b[0m\u001b[4;32m=\u001b[0m\u001b[4;32mnav_cs_home\u001b[0m\u001b[32m  |\u001b[0m\n",
              "\u001b[32m✓\u001b[0m\u001b[32m | ⏱: \u001b[0m\u001b[1;33m1.\u001b[0m\u001b[33m62\u001b[0m\u001b[32ms \u001b[0m\n"
            ],
            "text/html": [
              "<pre style=\"white-space:pre;overflow-x:auto;line-height:normal;font-family:Menlo,'DejaVu Sans Mono',consolas,'Courier New',monospace\"><span style=\"color: #008000; text-decoration-color: #008000; font-weight: bold\">[</span><span style=\"color: #008000; text-decoration-color: #008000\">SCRAPE</span><span style=\"color: #008000; text-decoration-color: #008000; font-weight: bold\">]</span><span style=\"color: #008000; text-decoration-color: #008000\">.. ◆ </span><span style=\"color: #008000; text-decoration-color: #008000; text-decoration: underline\">https://www.amazon.com/home-garden-kitchen-furni...bedding/b/?ie=UTF8&amp;node=1055398&amp;ref_=nav_cs_home</span><span style=\"color: #008000; text-decoration-color: #008000\">  |</span>\n",
              "<span style=\"color: #008000; text-decoration-color: #008000\">✓ | ⏱: </span><span style=\"color: #808000; text-decoration-color: #808000; font-weight: bold\">1.</span><span style=\"color: #808000; text-decoration-color: #808000\">62</span><span style=\"color: #008000; text-decoration-color: #008000\">s </span>\n",
              "</pre>\n"
            ]
          },
          "metadata": {}
        },
        {
          "output_type": "display_data",
          "data": {
            "text/plain": [
              "\u001b[1;32m[\u001b[0m\u001b[32mCOMPLETE\u001b[0m\u001b[1;32m]\u001b[0m\u001b[32m ● \u001b[0m\u001b[4;32mhttps://www.amazon.com/home-garden-kitchen-furni...bedding/b/?\u001b[0m\u001b[4;32mie\u001b[0m\u001b[4;32m=\u001b[0m\u001b[4;32mUTF8\u001b[0m\u001b[4;32m&\u001b[0m\u001b[4;32mnode\u001b[0m\u001b[4;32m=\u001b[0m\u001b[4;32m1055398\u001b[0m\u001b[4;32m&\u001b[0m\u001b[4;32mref_\u001b[0m\u001b[4;32m=\u001b[0m\u001b[4;32mnav_cs_home\u001b[0m\u001b[32m  |\u001b[0m\n",
              "\u001b[32m✓\u001b[0m\u001b[32m | ⏱: \u001b[0m\u001b[1;32m5.\u001b[0m\u001b[32m85s \u001b[0m\n"
            ],
            "text/html": [
              "<pre style=\"white-space:pre;overflow-x:auto;line-height:normal;font-family:Menlo,'DejaVu Sans Mono',consolas,'Courier New',monospace\"><span style=\"color: #008000; text-decoration-color: #008000; font-weight: bold\">[</span><span style=\"color: #008000; text-decoration-color: #008000\">COMPLETE</span><span style=\"color: #008000; text-decoration-color: #008000; font-weight: bold\">]</span><span style=\"color: #008000; text-decoration-color: #008000\"> ● </span><span style=\"color: #008000; text-decoration-color: #008000; text-decoration: underline\">https://www.amazon.com/home-garden-kitchen-furni...bedding/b/?ie=UTF8&amp;node=1055398&amp;ref_=nav_cs_home</span><span style=\"color: #008000; text-decoration-color: #008000\">  |</span>\n",
              "<span style=\"color: #008000; text-decoration-color: #008000\">✓ | ⏱: </span><span style=\"color: #008000; text-decoration-color: #008000; font-weight: bold\">5.</span><span style=\"color: #008000; text-decoration-color: #008000\">85s </span>\n",
              "</pre>\n"
            ]
          },
          "metadata": {}
        },
        {
          "output_type": "stream",
          "name": "stdout",
          "text": [
            "Markdown saved to amazon_2025-06-30_16-17-58\n"
          ]
        },
        {
          "output_type": "display_data",
          "data": {
            "text/plain": [
              "\u001b[1;36m[\u001b[0m\u001b[36mINIT\u001b[0m\u001b[1;36m]\u001b[0m\u001b[36m...\u001b[0m\u001b[36m. → Crawl4AI \u001b[0m\u001b[1;36m0.6\u001b[0m\u001b[36m.\u001b[0m\u001b[1;36m3\u001b[0m\u001b[36m \u001b[0m\n"
            ],
            "text/html": [
              "<pre style=\"white-space:pre;overflow-x:auto;line-height:normal;font-family:Menlo,'DejaVu Sans Mono',consolas,'Courier New',monospace\"><span style=\"color: #008080; text-decoration-color: #008080; font-weight: bold\">[</span><span style=\"color: #008080; text-decoration-color: #008080\">INIT</span><span style=\"color: #008080; text-decoration-color: #008080; font-weight: bold\">]</span><span style=\"color: #008080; text-decoration-color: #008080\">.... → Crawl4AI </span><span style=\"color: #008080; text-decoration-color: #008080; font-weight: bold\">0.6</span><span style=\"color: #008080; text-decoration-color: #008080\">.</span><span style=\"color: #008080; text-decoration-color: #008080; font-weight: bold\">3</span><span style=\"color: #008080; text-decoration-color: #008080\"> </span>\n",
              "</pre>\n"
            ]
          },
          "metadata": {}
        },
        {
          "output_type": "display_data",
          "data": {
            "text/plain": [
              "\u001b[1;32m[\u001b[0m\u001b[32mFETCH\u001b[0m\u001b[1;32m]\u001b[0m\u001b[32m...\u001b[0m\u001b[32m ↓ \u001b[0m\u001b[4;32mhttps://www.amazon.com/amazon-fashion/b/?\u001b[0m\u001b[4;32mie\u001b[0m\u001b[4;32m=\u001b[0m\u001b[4;32mUTF8\u001b[0m\u001b[4;32m&\u001b[0m\u001b[4;32mnode\u001b[0m\u001b[4;32m=\u001b[0m\u001b[4;32m7141123011\u001b[0m\u001b[4;32m&\u001b[0m\u001b[4;32mref_\u001b[0m\u001b[4;32m=\u001b[0m\u001b[4;32mnav_cs_fashion\u001b[0m\u001b[32m                 |\u001b[0m\n",
              "\u001b[32m✓\u001b[0m\u001b[32m | ⏱: \u001b[0m\u001b[1;32m6.\u001b[0m\u001b[32m87s \u001b[0m\n"
            ],
            "text/html": [
              "<pre style=\"white-space:pre;overflow-x:auto;line-height:normal;font-family:Menlo,'DejaVu Sans Mono',consolas,'Courier New',monospace\"><span style=\"color: #008000; text-decoration-color: #008000; font-weight: bold\">[</span><span style=\"color: #008000; text-decoration-color: #008000\">FETCH</span><span style=\"color: #008000; text-decoration-color: #008000; font-weight: bold\">]</span><span style=\"color: #008000; text-decoration-color: #008000\">... ↓ </span><span style=\"color: #008000; text-decoration-color: #008000; text-decoration: underline\">https://www.amazon.com/amazon-fashion/b/?ie=UTF8&amp;node=7141123011&amp;ref_=nav_cs_fashion</span><span style=\"color: #008000; text-decoration-color: #008000\">                 |</span>\n",
              "<span style=\"color: #008000; text-decoration-color: #008000\">✓ | ⏱: </span><span style=\"color: #008000; text-decoration-color: #008000; font-weight: bold\">6.</span><span style=\"color: #008000; text-decoration-color: #008000\">87s </span>\n",
              "</pre>\n"
            ]
          },
          "metadata": {}
        },
        {
          "output_type": "display_data",
          "data": {
            "text/plain": [
              "\u001b[1;32m[\u001b[0m\u001b[32mSCRAPE\u001b[0m\u001b[1;32m]\u001b[0m\u001b[32m.. ◆ \u001b[0m\u001b[4;32mhttps://www.amazon.com/amazon-fashion/b/?\u001b[0m\u001b[4;32mie\u001b[0m\u001b[4;32m=\u001b[0m\u001b[4;32mUTF8\u001b[0m\u001b[4;32m&\u001b[0m\u001b[4;32mnode\u001b[0m\u001b[4;32m=\u001b[0m\u001b[4;32m7141123011\u001b[0m\u001b[4;32m&\u001b[0m\u001b[4;32mref_\u001b[0m\u001b[4;32m=\u001b[0m\u001b[4;32mnav_cs_fashion\u001b[0m\u001b[32m                 |\u001b[0m\n",
              "\u001b[32m✓\u001b[0m\u001b[32m | ⏱: \u001b[0m\u001b[1;32m1.\u001b[0m\u001b[32m12s \u001b[0m\n"
            ],
            "text/html": [
              "<pre style=\"white-space:pre;overflow-x:auto;line-height:normal;font-family:Menlo,'DejaVu Sans Mono',consolas,'Courier New',monospace\"><span style=\"color: #008000; text-decoration-color: #008000; font-weight: bold\">[</span><span style=\"color: #008000; text-decoration-color: #008000\">SCRAPE</span><span style=\"color: #008000; text-decoration-color: #008000; font-weight: bold\">]</span><span style=\"color: #008000; text-decoration-color: #008000\">.. ◆ </span><span style=\"color: #008000; text-decoration-color: #008000; text-decoration: underline\">https://www.amazon.com/amazon-fashion/b/?ie=UTF8&amp;node=7141123011&amp;ref_=nav_cs_fashion</span><span style=\"color: #008000; text-decoration-color: #008000\">                 |</span>\n",
              "<span style=\"color: #008000; text-decoration-color: #008000\">✓ | ⏱: </span><span style=\"color: #008000; text-decoration-color: #008000; font-weight: bold\">1.</span><span style=\"color: #008000; text-decoration-color: #008000\">12s </span>\n",
              "</pre>\n"
            ]
          },
          "metadata": {}
        },
        {
          "output_type": "display_data",
          "data": {
            "text/plain": [
              "\u001b[1;32m[\u001b[0m\u001b[32mCOMPLETE\u001b[0m\u001b[1;32m]\u001b[0m\u001b[32m ● \u001b[0m\u001b[4;32mhttps://www.amazon.com/amazon-fashion/b/?\u001b[0m\u001b[4;32mie\u001b[0m\u001b[4;32m=\u001b[0m\u001b[4;32mUTF8\u001b[0m\u001b[4;32m&\u001b[0m\u001b[4;32mnode\u001b[0m\u001b[4;32m=\u001b[0m\u001b[4;32m7141123011\u001b[0m\u001b[4;32m&\u001b[0m\u001b[4;32mref_\u001b[0m\u001b[4;32m=\u001b[0m\u001b[4;32mnav_cs_fashion\u001b[0m\u001b[32m                 |\u001b[0m\n",
              "\u001b[32m✓\u001b[0m\u001b[32m | ⏱: \u001b[0m\u001b[1;32m8.\u001b[0m\u001b[32m01s \u001b[0m\n"
            ],
            "text/html": [
              "<pre style=\"white-space:pre;overflow-x:auto;line-height:normal;font-family:Menlo,'DejaVu Sans Mono',consolas,'Courier New',monospace\"><span style=\"color: #008000; text-decoration-color: #008000; font-weight: bold\">[</span><span style=\"color: #008000; text-decoration-color: #008000\">COMPLETE</span><span style=\"color: #008000; text-decoration-color: #008000; font-weight: bold\">]</span><span style=\"color: #008000; text-decoration-color: #008000\"> ● </span><span style=\"color: #008000; text-decoration-color: #008000; text-decoration: underline\">https://www.amazon.com/amazon-fashion/b/?ie=UTF8&amp;node=7141123011&amp;ref_=nav_cs_fashion</span><span style=\"color: #008000; text-decoration-color: #008000\">                 |</span>\n",
              "<span style=\"color: #008000; text-decoration-color: #008000\">✓ | ⏱: </span><span style=\"color: #008000; text-decoration-color: #008000; font-weight: bold\">8.</span><span style=\"color: #008000; text-decoration-color: #008000\">01s </span>\n",
              "</pre>\n"
            ]
          },
          "metadata": {}
        },
        {
          "output_type": "stream",
          "name": "stdout",
          "text": [
            "Markdown saved to amazon_2025-06-30_16-18-07\n"
          ]
        },
        {
          "output_type": "display_data",
          "data": {
            "text/plain": [
              "\u001b[1;36m[\u001b[0m\u001b[36mINIT\u001b[0m\u001b[1;36m]\u001b[0m\u001b[36m...\u001b[0m\u001b[36m. → Crawl4AI \u001b[0m\u001b[1;36m0.6\u001b[0m\u001b[36m.\u001b[0m\u001b[1;36m3\u001b[0m\u001b[36m \u001b[0m\n"
            ],
            "text/html": [
              "<pre style=\"white-space:pre;overflow-x:auto;line-height:normal;font-family:Menlo,'DejaVu Sans Mono',consolas,'Courier New',monospace\"><span style=\"color: #008080; text-decoration-color: #008080; font-weight: bold\">[</span><span style=\"color: #008080; text-decoration-color: #008080\">INIT</span><span style=\"color: #008080; text-decoration-color: #008080; font-weight: bold\">]</span><span style=\"color: #008080; text-decoration-color: #008080\">.... → Crawl4AI </span><span style=\"color: #008080; text-decoration-color: #008080; font-weight: bold\">0.6</span><span style=\"color: #008080; text-decoration-color: #008080\">.</span><span style=\"color: #008080; text-decoration-color: #008080; font-weight: bold\">3</span><span style=\"color: #008080; text-decoration-color: #008080\"> </span>\n",
              "</pre>\n"
            ]
          },
          "metadata": {}
        },
        {
          "output_type": "display_data",
          "data": {
            "text/plain": [
              "\u001b[1;32m[\u001b[0m\u001b[32mFETCH\u001b[0m\u001b[1;32m]\u001b[0m\u001b[32m...\u001b[0m\u001b[32m ↓ \u001b[0m\u001b[4;32mhttps://www.amazon.com/finds?\u001b[0m\u001b[4;32mref_\u001b[0m\u001b[4;32m=\u001b[0m\u001b[4;32mnav_cs_foundit\u001b[0m\u001b[32m                                                     |\u001b[0m\n",
              "\u001b[32m✓\u001b[0m\u001b[32m | ⏱: \u001b[0m\u001b[1;32m3.\u001b[0m\u001b[32m63s \u001b[0m\n"
            ],
            "text/html": [
              "<pre style=\"white-space:pre;overflow-x:auto;line-height:normal;font-family:Menlo,'DejaVu Sans Mono',consolas,'Courier New',monospace\"><span style=\"color: #008000; text-decoration-color: #008000; font-weight: bold\">[</span><span style=\"color: #008000; text-decoration-color: #008000\">FETCH</span><span style=\"color: #008000; text-decoration-color: #008000; font-weight: bold\">]</span><span style=\"color: #008000; text-decoration-color: #008000\">... ↓ </span><span style=\"color: #008000; text-decoration-color: #008000; text-decoration: underline\">https://www.amazon.com/finds?ref_=nav_cs_foundit</span><span style=\"color: #008000; text-decoration-color: #008000\">                                                     |</span>\n",
              "<span style=\"color: #008000; text-decoration-color: #008000\">✓ | ⏱: </span><span style=\"color: #008000; text-decoration-color: #008000; font-weight: bold\">3.</span><span style=\"color: #008000; text-decoration-color: #008000\">63s </span>\n",
              "</pre>\n"
            ]
          },
          "metadata": {}
        },
        {
          "output_type": "display_data",
          "data": {
            "text/plain": [
              "\u001b[1;32m[\u001b[0m\u001b[32mSCRAPE\u001b[0m\u001b[1;32m]\u001b[0m\u001b[32m.. ◆ \u001b[0m\u001b[4;32mhttps://www.amazon.com/finds?\u001b[0m\u001b[4;32mref_\u001b[0m\u001b[4;32m=\u001b[0m\u001b[4;32mnav_cs_foundit\u001b[0m\u001b[32m                                                     |\u001b[0m\n",
              "\u001b[32m✓\u001b[0m\u001b[32m | ⏱: \u001b[0m\u001b[1;32m0.\u001b[0m\u001b[32m38s \u001b[0m\n"
            ],
            "text/html": [
              "<pre style=\"white-space:pre;overflow-x:auto;line-height:normal;font-family:Menlo,'DejaVu Sans Mono',consolas,'Courier New',monospace\"><span style=\"color: #008000; text-decoration-color: #008000; font-weight: bold\">[</span><span style=\"color: #008000; text-decoration-color: #008000\">SCRAPE</span><span style=\"color: #008000; text-decoration-color: #008000; font-weight: bold\">]</span><span style=\"color: #008000; text-decoration-color: #008000\">.. ◆ </span><span style=\"color: #008000; text-decoration-color: #008000; text-decoration: underline\">https://www.amazon.com/finds?ref_=nav_cs_foundit</span><span style=\"color: #008000; text-decoration-color: #008000\">                                                     |</span>\n",
              "<span style=\"color: #008000; text-decoration-color: #008000\">✓ | ⏱: </span><span style=\"color: #008000; text-decoration-color: #008000; font-weight: bold\">0.</span><span style=\"color: #008000; text-decoration-color: #008000\">38s </span>\n",
              "</pre>\n"
            ]
          },
          "metadata": {}
        },
        {
          "output_type": "display_data",
          "data": {
            "text/plain": [
              "\u001b[1;32m[\u001b[0m\u001b[32mCOMPLETE\u001b[0m\u001b[1;32m]\u001b[0m\u001b[32m ● \u001b[0m\u001b[4;32mhttps://www.amazon.com/finds?\u001b[0m\u001b[4;32mref_\u001b[0m\u001b[4;32m=\u001b[0m\u001b[4;32mnav_cs_foundit\u001b[0m\u001b[32m                                                     |\u001b[0m\n",
              "\u001b[32m✓\u001b[0m\u001b[32m | ⏱: \u001b[0m\u001b[1;32m4.\u001b[0m\u001b[32m03s \u001b[0m\n"
            ],
            "text/html": [
              "<pre style=\"white-space:pre;overflow-x:auto;line-height:normal;font-family:Menlo,'DejaVu Sans Mono',consolas,'Courier New',monospace\"><span style=\"color: #008000; text-decoration-color: #008000; font-weight: bold\">[</span><span style=\"color: #008000; text-decoration-color: #008000\">COMPLETE</span><span style=\"color: #008000; text-decoration-color: #008000; font-weight: bold\">]</span><span style=\"color: #008000; text-decoration-color: #008000\"> ● </span><span style=\"color: #008000; text-decoration-color: #008000; text-decoration: underline\">https://www.amazon.com/finds?ref_=nav_cs_foundit</span><span style=\"color: #008000; text-decoration-color: #008000\">                                                     |</span>\n",
              "<span style=\"color: #008000; text-decoration-color: #008000\">✓ | ⏱: </span><span style=\"color: #008000; text-decoration-color: #008000; font-weight: bold\">4.</span><span style=\"color: #008000; text-decoration-color: #008000\">03s </span>\n",
              "</pre>\n"
            ]
          },
          "metadata": {}
        },
        {
          "output_type": "stream",
          "name": "stdout",
          "text": [
            "Markdown saved to amazon_2025-06-30_16-18-13\n"
          ]
        },
        {
          "output_type": "display_data",
          "data": {
            "text/plain": [
              "\u001b[1;36m[\u001b[0m\u001b[36mINIT\u001b[0m\u001b[1;36m]\u001b[0m\u001b[36m...\u001b[0m\u001b[36m. → Crawl4AI \u001b[0m\u001b[1;36m0.6\u001b[0m\u001b[36m.\u001b[0m\u001b[1;36m3\u001b[0m\u001b[36m \u001b[0m\n"
            ],
            "text/html": [
              "<pre style=\"white-space:pre;overflow-x:auto;line-height:normal;font-family:Menlo,'DejaVu Sans Mono',consolas,'Courier New',monospace\"><span style=\"color: #008080; text-decoration-color: #008080; font-weight: bold\">[</span><span style=\"color: #008080; text-decoration-color: #008080\">INIT</span><span style=\"color: #008080; text-decoration-color: #008080; font-weight: bold\">]</span><span style=\"color: #008080; text-decoration-color: #008080\">.... → Crawl4AI </span><span style=\"color: #008080; text-decoration-color: #008080; font-weight: bold\">0.6</span><span style=\"color: #008080; text-decoration-color: #008080\">.</span><span style=\"color: #008080; text-decoration-color: #008080; font-weight: bold\">3</span><span style=\"color: #008080; text-decoration-color: #008080\"> </span>\n",
              "</pre>\n"
            ]
          },
          "metadata": {}
        },
        {
          "output_type": "display_data",
          "data": {
            "text/plain": [
              "\u001b[1;32m[\u001b[0m\u001b[32mFETCH\u001b[0m\u001b[1;32m]\u001b[0m\u001b[32m...\u001b[0m\u001b[32m ↓ \u001b[0m\u001b[4;32mhttps://www.amazon.com/toys/b/?\u001b[0m\u001b[4;32mie\u001b[0m\u001b[4;32m=\u001b[0m\u001b[4;32mUTF8\u001b[0m\u001b[4;32m&\u001b[0m\u001b[4;32mnode\u001b[0m\u001b[4;32m=\u001b[0m\u001b[4;32m165793011\u001b[0m\u001b[4;32m&\u001b[0m\u001b[4;32mref_\u001b[0m\u001b[4;32m=\u001b[0m\u001b[4;32mnav_cs_toys\u001b[0m\u001b[32m                               |\u001b[0m\n",
              "\u001b[32m✓\u001b[0m\u001b[32m | ⏱: \u001b[0m\u001b[1;32m5.\u001b[0m\u001b[32m38s \u001b[0m\n"
            ],
            "text/html": [
              "<pre style=\"white-space:pre;overflow-x:auto;line-height:normal;font-family:Menlo,'DejaVu Sans Mono',consolas,'Courier New',monospace\"><span style=\"color: #008000; text-decoration-color: #008000; font-weight: bold\">[</span><span style=\"color: #008000; text-decoration-color: #008000\">FETCH</span><span style=\"color: #008000; text-decoration-color: #008000; font-weight: bold\">]</span><span style=\"color: #008000; text-decoration-color: #008000\">... ↓ </span><span style=\"color: #008000; text-decoration-color: #008000; text-decoration: underline\">https://www.amazon.com/toys/b/?ie=UTF8&amp;node=165793011&amp;ref_=nav_cs_toys</span><span style=\"color: #008000; text-decoration-color: #008000\">                               |</span>\n",
              "<span style=\"color: #008000; text-decoration-color: #008000\">✓ | ⏱: </span><span style=\"color: #008000; text-decoration-color: #008000; font-weight: bold\">5.</span><span style=\"color: #008000; text-decoration-color: #008000\">38s </span>\n",
              "</pre>\n"
            ]
          },
          "metadata": {}
        },
        {
          "output_type": "display_data",
          "data": {
            "text/plain": [
              "\u001b[1;32m[\u001b[0m\u001b[32mSCRAPE\u001b[0m\u001b[1;32m]\u001b[0m\u001b[32m.. ◆ \u001b[0m\u001b[4;32mhttps://www.amazon.com/toys/b/?\u001b[0m\u001b[4;32mie\u001b[0m\u001b[4;32m=\u001b[0m\u001b[4;32mUTF8\u001b[0m\u001b[4;32m&\u001b[0m\u001b[4;32mnode\u001b[0m\u001b[4;32m=\u001b[0m\u001b[4;32m165793011\u001b[0m\u001b[4;32m&\u001b[0m\u001b[4;32mref_\u001b[0m\u001b[4;32m=\u001b[0m\u001b[4;32mnav_cs_toys\u001b[0m\u001b[32m                               |\u001b[0m\n",
              "\u001b[32m✓\u001b[0m\u001b[32m | ⏱: \u001b[0m\u001b[1;32m0.\u001b[0m\u001b[32m48s \u001b[0m\n"
            ],
            "text/html": [
              "<pre style=\"white-space:pre;overflow-x:auto;line-height:normal;font-family:Menlo,'DejaVu Sans Mono',consolas,'Courier New',monospace\"><span style=\"color: #008000; text-decoration-color: #008000; font-weight: bold\">[</span><span style=\"color: #008000; text-decoration-color: #008000\">SCRAPE</span><span style=\"color: #008000; text-decoration-color: #008000; font-weight: bold\">]</span><span style=\"color: #008000; text-decoration-color: #008000\">.. ◆ </span><span style=\"color: #008000; text-decoration-color: #008000; text-decoration: underline\">https://www.amazon.com/toys/b/?ie=UTF8&amp;node=165793011&amp;ref_=nav_cs_toys</span><span style=\"color: #008000; text-decoration-color: #008000\">                               |</span>\n",
              "<span style=\"color: #008000; text-decoration-color: #008000\">✓ | ⏱: </span><span style=\"color: #008000; text-decoration-color: #008000; font-weight: bold\">0.</span><span style=\"color: #008000; text-decoration-color: #008000\">48s </span>\n",
              "</pre>\n"
            ]
          },
          "metadata": {}
        },
        {
          "output_type": "display_data",
          "data": {
            "text/plain": [
              "\u001b[1;32m[\u001b[0m\u001b[32mCOMPLETE\u001b[0m\u001b[1;32m]\u001b[0m\u001b[32m ● \u001b[0m\u001b[4;32mhttps://www.amazon.com/toys/b/?\u001b[0m\u001b[4;32mie\u001b[0m\u001b[4;32m=\u001b[0m\u001b[4;32mUTF8\u001b[0m\u001b[4;32m&\u001b[0m\u001b[4;32mnode\u001b[0m\u001b[4;32m=\u001b[0m\u001b[4;32m165793011\u001b[0m\u001b[4;32m&\u001b[0m\u001b[4;32mref_\u001b[0m\u001b[4;32m=\u001b[0m\u001b[4;32mnav_cs_toys\u001b[0m\u001b[32m                               |\u001b[0m\n",
              "\u001b[32m✓\u001b[0m\u001b[32m | ⏱: \u001b[0m\u001b[1;32m5.\u001b[0m\u001b[32m87s \u001b[0m\n"
            ],
            "text/html": [
              "<pre style=\"white-space:pre;overflow-x:auto;line-height:normal;font-family:Menlo,'DejaVu Sans Mono',consolas,'Courier New',monospace\"><span style=\"color: #008000; text-decoration-color: #008000; font-weight: bold\">[</span><span style=\"color: #008000; text-decoration-color: #008000\">COMPLETE</span><span style=\"color: #008000; text-decoration-color: #008000; font-weight: bold\">]</span><span style=\"color: #008000; text-decoration-color: #008000\"> ● </span><span style=\"color: #008000; text-decoration-color: #008000; text-decoration: underline\">https://www.amazon.com/toys/b/?ie=UTF8&amp;node=165793011&amp;ref_=nav_cs_toys</span><span style=\"color: #008000; text-decoration-color: #008000\">                               |</span>\n",
              "<span style=\"color: #008000; text-decoration-color: #008000\">✓ | ⏱: </span><span style=\"color: #008000; text-decoration-color: #008000; font-weight: bold\">5.</span><span style=\"color: #008000; text-decoration-color: #008000\">87s </span>\n",
              "</pre>\n"
            ]
          },
          "metadata": {}
        },
        {
          "output_type": "stream",
          "name": "stdout",
          "text": [
            "Markdown saved to amazon_2025-06-30_16-18-20\n"
          ]
        },
        {
          "output_type": "display_data",
          "data": {
            "text/plain": [
              "\u001b[1;36m[\u001b[0m\u001b[36mINIT\u001b[0m\u001b[1;36m]\u001b[0m\u001b[36m...\u001b[0m\u001b[36m. → Crawl4AI \u001b[0m\u001b[1;36m0.6\u001b[0m\u001b[36m.\u001b[0m\u001b[1;36m3\u001b[0m\u001b[36m \u001b[0m\n"
            ],
            "text/html": [
              "<pre style=\"white-space:pre;overflow-x:auto;line-height:normal;font-family:Menlo,'DejaVu Sans Mono',consolas,'Courier New',monospace\"><span style=\"color: #008080; text-decoration-color: #008080; font-weight: bold\">[</span><span style=\"color: #008080; text-decoration-color: #008080\">INIT</span><span style=\"color: #008080; text-decoration-color: #008080; font-weight: bold\">]</span><span style=\"color: #008080; text-decoration-color: #008080\">.... → Crawl4AI </span><span style=\"color: #008080; text-decoration-color: #008080; font-weight: bold\">0.6</span><span style=\"color: #008080; text-decoration-color: #008080\">.</span><span style=\"color: #008080; text-decoration-color: #008080; font-weight: bold\">3</span><span style=\"color: #008080; text-decoration-color: #008080\"> </span>\n",
              "</pre>\n"
            ]
          },
          "metadata": {}
        },
        {
          "output_type": "display_data",
          "data": {
            "text/plain": [
              "\u001b[1;32m[\u001b[0m\u001b[32mFETCH\u001b[0m\u001b[1;32m]\u001b[0m\u001b[32m...\u001b[0m\u001b[32m ↓ \u001b[0m\u001b[4;32mhttps://www.amazon.com/Beauty-Makeup-Skin-Hair-Products/b/?\u001b[0m\u001b[4;32mie\u001b[0m\u001b[4;32m=\u001b[0m\u001b[4;32mUTF8\u001b[0m\u001b[4;32m&\u001b[0m\u001b[4;32mnode\u001b[0m\u001b[4;32m=\u001b[0m\u001b[4;32m3760911\u001b[0m\u001b[4;32m&\u001b[0m\u001b[4;32mref_\u001b[0m\u001b[4;32m=\u001b[0m\u001b[4;32mnav_cs_beauty\u001b[0m\u001b[32m   |\u001b[0m\n",
              "\u001b[32m✓\u001b[0m\u001b[32m | ⏱: \u001b[0m\u001b[1;32m6.\u001b[0m\u001b[32m95s \u001b[0m\n"
            ],
            "text/html": [
              "<pre style=\"white-space:pre;overflow-x:auto;line-height:normal;font-family:Menlo,'DejaVu Sans Mono',consolas,'Courier New',monospace\"><span style=\"color: #008000; text-decoration-color: #008000; font-weight: bold\">[</span><span style=\"color: #008000; text-decoration-color: #008000\">FETCH</span><span style=\"color: #008000; text-decoration-color: #008000; font-weight: bold\">]</span><span style=\"color: #008000; text-decoration-color: #008000\">... ↓ </span><span style=\"color: #008000; text-decoration-color: #008000; text-decoration: underline\">https://www.amazon.com/Beauty-Makeup-Skin-Hair-Products/b/?ie=UTF8&amp;node=3760911&amp;ref_=nav_cs_beauty</span><span style=\"color: #008000; text-decoration-color: #008000\">   |</span>\n",
              "<span style=\"color: #008000; text-decoration-color: #008000\">✓ | ⏱: </span><span style=\"color: #008000; text-decoration-color: #008000; font-weight: bold\">6.</span><span style=\"color: #008000; text-decoration-color: #008000\">95s </span>\n",
              "</pre>\n"
            ]
          },
          "metadata": {}
        },
        {
          "output_type": "display_data",
          "data": {
            "text/plain": [
              "\u001b[1;32m[\u001b[0m\u001b[32mSCRAPE\u001b[0m\u001b[1;32m]\u001b[0m\u001b[32m.. ◆ \u001b[0m\u001b[4;32mhttps://www.amazon.com/Beauty-Makeup-Skin-Hair-Products/b/?\u001b[0m\u001b[4;32mie\u001b[0m\u001b[4;32m=\u001b[0m\u001b[4;32mUTF8\u001b[0m\u001b[4;32m&\u001b[0m\u001b[4;32mnode\u001b[0m\u001b[4;32m=\u001b[0m\u001b[4;32m3760911\u001b[0m\u001b[4;32m&\u001b[0m\u001b[4;32mref_\u001b[0m\u001b[4;32m=\u001b[0m\u001b[4;32mnav_cs_beauty\u001b[0m\u001b[32m   |\u001b[0m\n",
              "\u001b[32m✓\u001b[0m\u001b[32m | ⏱: \u001b[0m\u001b[1;32m2.\u001b[0m\u001b[32m12s \u001b[0m\n"
            ],
            "text/html": [
              "<pre style=\"white-space:pre;overflow-x:auto;line-height:normal;font-family:Menlo,'DejaVu Sans Mono',consolas,'Courier New',monospace\"><span style=\"color: #008000; text-decoration-color: #008000; font-weight: bold\">[</span><span style=\"color: #008000; text-decoration-color: #008000\">SCRAPE</span><span style=\"color: #008000; text-decoration-color: #008000; font-weight: bold\">]</span><span style=\"color: #008000; text-decoration-color: #008000\">.. ◆ </span><span style=\"color: #008000; text-decoration-color: #008000; text-decoration: underline\">https://www.amazon.com/Beauty-Makeup-Skin-Hair-Products/b/?ie=UTF8&amp;node=3760911&amp;ref_=nav_cs_beauty</span><span style=\"color: #008000; text-decoration-color: #008000\">   |</span>\n",
              "<span style=\"color: #008000; text-decoration-color: #008000\">✓ | ⏱: </span><span style=\"color: #008000; text-decoration-color: #008000; font-weight: bold\">2.</span><span style=\"color: #008000; text-decoration-color: #008000\">12s </span>\n",
              "</pre>\n"
            ]
          },
          "metadata": {}
        },
        {
          "output_type": "display_data",
          "data": {
            "text/plain": [
              "\u001b[1;32m[\u001b[0m\u001b[32mCOMPLETE\u001b[0m\u001b[1;32m]\u001b[0m\u001b[32m ● \u001b[0m\u001b[4;32mhttps://www.amazon.com/Beauty-Makeup-Skin-Hair-Products/b/?\u001b[0m\u001b[4;32mie\u001b[0m\u001b[4;32m=\u001b[0m\u001b[4;32mUTF8\u001b[0m\u001b[4;32m&\u001b[0m\u001b[4;32mnode\u001b[0m\u001b[4;32m=\u001b[0m\u001b[4;32m3760911\u001b[0m\u001b[4;32m&\u001b[0m\u001b[4;32mref_\u001b[0m\u001b[4;32m=\u001b[0m\u001b[4;32mnav_cs_beauty\u001b[0m\u001b[32m   |\u001b[0m\n",
              "\u001b[32m✓\u001b[0m\u001b[32m | ⏱: \u001b[0m\u001b[1;32m9.\u001b[0m\u001b[32m08s \u001b[0m\n"
            ],
            "text/html": [
              "<pre style=\"white-space:pre;overflow-x:auto;line-height:normal;font-family:Menlo,'DejaVu Sans Mono',consolas,'Courier New',monospace\"><span style=\"color: #008000; text-decoration-color: #008000; font-weight: bold\">[</span><span style=\"color: #008000; text-decoration-color: #008000\">COMPLETE</span><span style=\"color: #008000; text-decoration-color: #008000; font-weight: bold\">]</span><span style=\"color: #008000; text-decoration-color: #008000\"> ● </span><span style=\"color: #008000; text-decoration-color: #008000; text-decoration: underline\">https://www.amazon.com/Beauty-Makeup-Skin-Hair-Products/b/?ie=UTF8&amp;node=3760911&amp;ref_=nav_cs_beauty</span><span style=\"color: #008000; text-decoration-color: #008000\">   |</span>\n",
              "<span style=\"color: #008000; text-decoration-color: #008000\">✓ | ⏱: </span><span style=\"color: #008000; text-decoration-color: #008000; font-weight: bold\">9.</span><span style=\"color: #008000; text-decoration-color: #008000\">08s </span>\n",
              "</pre>\n"
            ]
          },
          "metadata": {}
        },
        {
          "output_type": "stream",
          "name": "stdout",
          "text": [
            "Markdown saved to amazon_2025-06-30_16-18-30\n"
          ]
        },
        {
          "output_type": "display_data",
          "data": {
            "text/plain": [
              "\u001b[1;36m[\u001b[0m\u001b[36mINIT\u001b[0m\u001b[1;36m]\u001b[0m\u001b[36m...\u001b[0m\u001b[36m. → Crawl4AI \u001b[0m\u001b[1;36m0.6\u001b[0m\u001b[36m.\u001b[0m\u001b[1;36m3\u001b[0m\u001b[36m \u001b[0m\n"
            ],
            "text/html": [
              "<pre style=\"white-space:pre;overflow-x:auto;line-height:normal;font-family:Menlo,'DejaVu Sans Mono',consolas,'Courier New',monospace\"><span style=\"color: #008080; text-decoration-color: #008080; font-weight: bold\">[</span><span style=\"color: #008080; text-decoration-color: #008080\">INIT</span><span style=\"color: #008080; text-decoration-color: #008080; font-weight: bold\">]</span><span style=\"color: #008080; text-decoration-color: #008080\">.... → Crawl4AI </span><span style=\"color: #008080; text-decoration-color: #008080; font-weight: bold\">0.6</span><span style=\"color: #008080; text-decoration-color: #008080\">.</span><span style=\"color: #008080; text-decoration-color: #008080; font-weight: bold\">3</span><span style=\"color: #008080; text-decoration-color: #008080\"> </span>\n",
              "</pre>\n"
            ]
          },
          "metadata": {}
        },
        {
          "output_type": "display_data",
          "data": {
            "text/plain": [
              "\u001b[1;32m[\u001b[0m\u001b[32mFETCH\u001b[0m\u001b[1;32m]\u001b[0m\u001b[32m...\u001b[0m\u001b[32m ↓ \u001b[0m\u001b[4;32mhttps://www.amazon.com/automotive-auto-truck-rep.../b/?\u001b[0m\u001b[4;32mie\u001b[0m\u001b[4;32m=\u001b[0m\u001b[4;32mUTF8\u001b[0m\u001b[4;32m&\u001b[0m\u001b[4;32mnode\u001b[0m\u001b[4;32m=\u001b[0m\u001b[4;32m15684181\u001b[0m\u001b[4;32m&\u001b[0m\u001b[4;32mref_\u001b[0m\u001b[4;32m=\u001b[0m\u001b[4;32mnav_cs_automotive\u001b[0m\u001b[32m  |\u001b[0m\n",
              "\u001b[32m✓\u001b[0m\u001b[32m | ⏱: \u001b[0m\u001b[1;32m5.\u001b[0m\u001b[32m95s \u001b[0m\n"
            ],
            "text/html": [
              "<pre style=\"white-space:pre;overflow-x:auto;line-height:normal;font-family:Menlo,'DejaVu Sans Mono',consolas,'Courier New',monospace\"><span style=\"color: #008000; text-decoration-color: #008000; font-weight: bold\">[</span><span style=\"color: #008000; text-decoration-color: #008000\">FETCH</span><span style=\"color: #008000; text-decoration-color: #008000; font-weight: bold\">]</span><span style=\"color: #008000; text-decoration-color: #008000\">... ↓ </span><span style=\"color: #008000; text-decoration-color: #008000; text-decoration: underline\">https://www.amazon.com/automotive-auto-truck-rep.../b/?ie=UTF8&amp;node=15684181&amp;ref_=nav_cs_automotive</span><span style=\"color: #008000; text-decoration-color: #008000\">  |</span>\n",
              "<span style=\"color: #008000; text-decoration-color: #008000\">✓ | ⏱: </span><span style=\"color: #008000; text-decoration-color: #008000; font-weight: bold\">5.</span><span style=\"color: #008000; text-decoration-color: #008000\">95s </span>\n",
              "</pre>\n"
            ]
          },
          "metadata": {}
        },
        {
          "output_type": "display_data",
          "data": {
            "text/plain": [
              "\u001b[1;32m[\u001b[0m\u001b[32mSCRAPE\u001b[0m\u001b[1;32m]\u001b[0m\u001b[32m.. ◆ \u001b[0m\u001b[4;32mhttps://www.amazon.com/automotive-auto-truck-rep.../b/?\u001b[0m\u001b[4;32mie\u001b[0m\u001b[4;32m=\u001b[0m\u001b[4;32mUTF8\u001b[0m\u001b[4;32m&\u001b[0m\u001b[4;32mnode\u001b[0m\u001b[4;32m=\u001b[0m\u001b[4;32m15684181\u001b[0m\u001b[4;32m&\u001b[0m\u001b[4;32mref_\u001b[0m\u001b[4;32m=\u001b[0m\u001b[4;32mnav_cs_automotive\u001b[0m\u001b[32m  |\u001b[0m\n",
              "\u001b[32m✓\u001b[0m\u001b[32m | ⏱: \u001b[0m\u001b[1;32m0.\u001b[0m\u001b[32m73s \u001b[0m\n"
            ],
            "text/html": [
              "<pre style=\"white-space:pre;overflow-x:auto;line-height:normal;font-family:Menlo,'DejaVu Sans Mono',consolas,'Courier New',monospace\"><span style=\"color: #008000; text-decoration-color: #008000; font-weight: bold\">[</span><span style=\"color: #008000; text-decoration-color: #008000\">SCRAPE</span><span style=\"color: #008000; text-decoration-color: #008000; font-weight: bold\">]</span><span style=\"color: #008000; text-decoration-color: #008000\">.. ◆ </span><span style=\"color: #008000; text-decoration-color: #008000; text-decoration: underline\">https://www.amazon.com/automotive-auto-truck-rep.../b/?ie=UTF8&amp;node=15684181&amp;ref_=nav_cs_automotive</span><span style=\"color: #008000; text-decoration-color: #008000\">  |</span>\n",
              "<span style=\"color: #008000; text-decoration-color: #008000\">✓ | ⏱: </span><span style=\"color: #008000; text-decoration-color: #008000; font-weight: bold\">0.</span><span style=\"color: #008000; text-decoration-color: #008000\">73s </span>\n",
              "</pre>\n"
            ]
          },
          "metadata": {}
        },
        {
          "output_type": "display_data",
          "data": {
            "text/plain": [
              "\u001b[1;32m[\u001b[0m\u001b[32mCOMPLETE\u001b[0m\u001b[1;32m]\u001b[0m\u001b[32m ● \u001b[0m\u001b[4;32mhttps://www.amazon.com/automotive-auto-truck-rep.../b/?\u001b[0m\u001b[4;32mie\u001b[0m\u001b[4;32m=\u001b[0m\u001b[4;32mUTF8\u001b[0m\u001b[4;32m&\u001b[0m\u001b[4;32mnode\u001b[0m\u001b[4;32m=\u001b[0m\u001b[4;32m15684181\u001b[0m\u001b[4;32m&\u001b[0m\u001b[4;32mref_\u001b[0m\u001b[4;32m=\u001b[0m\u001b[4;32mnav_cs_automotive\u001b[0m\u001b[32m  |\u001b[0m\n",
              "\u001b[32m✓\u001b[0m\u001b[32m | ⏱: \u001b[0m\u001b[1;32m6.\u001b[0m\u001b[32m70s \u001b[0m\n"
            ],
            "text/html": [
              "<pre style=\"white-space:pre;overflow-x:auto;line-height:normal;font-family:Menlo,'DejaVu Sans Mono',consolas,'Courier New',monospace\"><span style=\"color: #008000; text-decoration-color: #008000; font-weight: bold\">[</span><span style=\"color: #008000; text-decoration-color: #008000\">COMPLETE</span><span style=\"color: #008000; text-decoration-color: #008000; font-weight: bold\">]</span><span style=\"color: #008000; text-decoration-color: #008000\"> ● </span><span style=\"color: #008000; text-decoration-color: #008000; text-decoration: underline\">https://www.amazon.com/automotive-auto-truck-rep.../b/?ie=UTF8&amp;node=15684181&amp;ref_=nav_cs_automotive</span><span style=\"color: #008000; text-decoration-color: #008000\">  |</span>\n",
              "<span style=\"color: #008000; text-decoration-color: #008000\">✓ | ⏱: </span><span style=\"color: #008000; text-decoration-color: #008000; font-weight: bold\">6.</span><span style=\"color: #008000; text-decoration-color: #008000\">70s </span>\n",
              "</pre>\n"
            ]
          },
          "metadata": {}
        },
        {
          "output_type": "stream",
          "name": "stdout",
          "text": [
            "Markdown saved to amazon_2025-06-30_16-18-38\n"
          ]
        },
        {
          "output_type": "display_data",
          "data": {
            "text/plain": [
              "\u001b[1;36m[\u001b[0m\u001b[36mINIT\u001b[0m\u001b[1;36m]\u001b[0m\u001b[36m...\u001b[0m\u001b[36m. → Crawl4AI \u001b[0m\u001b[1;36m0.6\u001b[0m\u001b[36m.\u001b[0m\u001b[1;36m3\u001b[0m\u001b[36m \u001b[0m\n"
            ],
            "text/html": [
              "<pre style=\"white-space:pre;overflow-x:auto;line-height:normal;font-family:Menlo,'DejaVu Sans Mono',consolas,'Courier New',monospace\"><span style=\"color: #008080; text-decoration-color: #008080; font-weight: bold\">[</span><span style=\"color: #008080; text-decoration-color: #008080\">INIT</span><span style=\"color: #008080; text-decoration-color: #008080; font-weight: bold\">]</span><span style=\"color: #008080; text-decoration-color: #008080\">.... → Crawl4AI </span><span style=\"color: #008080; text-decoration-color: #008080; font-weight: bold\">0.6</span><span style=\"color: #008080; text-decoration-color: #008080\">.</span><span style=\"color: #008080; text-decoration-color: #008080; font-weight: bold\">3</span><span style=\"color: #008080; text-decoration-color: #008080\"> </span>\n",
              "</pre>\n"
            ]
          },
          "metadata": {}
        },
        {
          "output_type": "display_data",
          "data": {
            "text/plain": [
              "\u001b[1;32m[\u001b[0m\u001b[32mFETCH\u001b[0m\u001b[1;32m]\u001b[0m\u001b[32m...\u001b[0m\u001b[32m ↓ \u001b[0m\u001b[4;32mhttps://www.amazon.com/Tools-and-Home-Improvement/b/?\u001b[0m\u001b[4;32mie\u001b[0m\u001b[4;32m=\u001b[0m\u001b[4;32mUTF8\u001b[0m\u001b[4;32m&\u001b[0m\u001b[4;32mnode\u001b[0m\u001b[4;32m=\u001b[0m\u001b[4;32m228013\u001b[0m\u001b[4;32m&\u001b[0m\u001b[4;32mref_\u001b[0m\u001b[4;32m=\u001b[0m\u001b[4;32mnav_cs_hi\u001b[0m\u001b[32m              |\u001b[0m\n",
              "\u001b[32m✓\u001b[0m\u001b[32m | ⏱: \u001b[0m\u001b[1;32m3.\u001b[0m\u001b[32m53s \u001b[0m\n"
            ],
            "text/html": [
              "<pre style=\"white-space:pre;overflow-x:auto;line-height:normal;font-family:Menlo,'DejaVu Sans Mono',consolas,'Courier New',monospace\"><span style=\"color: #008000; text-decoration-color: #008000; font-weight: bold\">[</span><span style=\"color: #008000; text-decoration-color: #008000\">FETCH</span><span style=\"color: #008000; text-decoration-color: #008000; font-weight: bold\">]</span><span style=\"color: #008000; text-decoration-color: #008000\">... ↓ </span><span style=\"color: #008000; text-decoration-color: #008000; text-decoration: underline\">https://www.amazon.com/Tools-and-Home-Improvement/b/?ie=UTF8&amp;node=228013&amp;ref_=nav_cs_hi</span><span style=\"color: #008000; text-decoration-color: #008000\">              |</span>\n",
              "<span style=\"color: #008000; text-decoration-color: #008000\">✓ | ⏱: </span><span style=\"color: #008000; text-decoration-color: #008000; font-weight: bold\">3.</span><span style=\"color: #008000; text-decoration-color: #008000\">53s </span>\n",
              "</pre>\n"
            ]
          },
          "metadata": {}
        },
        {
          "output_type": "display_data",
          "data": {
            "text/plain": [
              "\u001b[1;32m[\u001b[0m\u001b[32mSCRAPE\u001b[0m\u001b[1;32m]\u001b[0m\u001b[32m.. ◆ \u001b[0m\u001b[4;32mhttps://www.amazon.com/Tools-and-Home-Improvement/b/?\u001b[0m\u001b[4;32mie\u001b[0m\u001b[4;32m=\u001b[0m\u001b[4;32mUTF8\u001b[0m\u001b[4;32m&\u001b[0m\u001b[4;32mnode\u001b[0m\u001b[4;32m=\u001b[0m\u001b[4;32m228013\u001b[0m\u001b[4;32m&\u001b[0m\u001b[4;32mref_\u001b[0m\u001b[4;32m=\u001b[0m\u001b[4;32mnav_cs_hi\u001b[0m\u001b[32m              |\u001b[0m\n",
              "\u001b[32m✓\u001b[0m\u001b[32m | ⏱: \u001b[0m\u001b[1;32m0.\u001b[0m\u001b[32m55s \u001b[0m\n"
            ],
            "text/html": [
              "<pre style=\"white-space:pre;overflow-x:auto;line-height:normal;font-family:Menlo,'DejaVu Sans Mono',consolas,'Courier New',monospace\"><span style=\"color: #008000; text-decoration-color: #008000; font-weight: bold\">[</span><span style=\"color: #008000; text-decoration-color: #008000\">SCRAPE</span><span style=\"color: #008000; text-decoration-color: #008000; font-weight: bold\">]</span><span style=\"color: #008000; text-decoration-color: #008000\">.. ◆ </span><span style=\"color: #008000; text-decoration-color: #008000; text-decoration: underline\">https://www.amazon.com/Tools-and-Home-Improvement/b/?ie=UTF8&amp;node=228013&amp;ref_=nav_cs_hi</span><span style=\"color: #008000; text-decoration-color: #008000\">              |</span>\n",
              "<span style=\"color: #008000; text-decoration-color: #008000\">✓ | ⏱: </span><span style=\"color: #008000; text-decoration-color: #008000; font-weight: bold\">0.</span><span style=\"color: #008000; text-decoration-color: #008000\">55s </span>\n",
              "</pre>\n"
            ]
          },
          "metadata": {}
        },
        {
          "output_type": "display_data",
          "data": {
            "text/plain": [
              "\u001b[1;32m[\u001b[0m\u001b[32mCOMPLETE\u001b[0m\u001b[1;32m]\u001b[0m\u001b[32m ● \u001b[0m\u001b[4;32mhttps://www.amazon.com/Tools-and-Home-Improvement/b/?\u001b[0m\u001b[4;32mie\u001b[0m\u001b[4;32m=\u001b[0m\u001b[4;32mUTF8\u001b[0m\u001b[4;32m&\u001b[0m\u001b[4;32mnode\u001b[0m\u001b[4;32m=\u001b[0m\u001b[4;32m228013\u001b[0m\u001b[4;32m&\u001b[0m\u001b[4;32mref_\u001b[0m\u001b[4;32m=\u001b[0m\u001b[4;32mnav_cs_hi\u001b[0m\u001b[32m              |\u001b[0m\n",
              "\u001b[32m✓\u001b[0m\u001b[32m | ⏱: \u001b[0m\u001b[1;32m4.\u001b[0m\u001b[32m09s \u001b[0m\n"
            ],
            "text/html": [
              "<pre style=\"white-space:pre;overflow-x:auto;line-height:normal;font-family:Menlo,'DejaVu Sans Mono',consolas,'Courier New',monospace\"><span style=\"color: #008000; text-decoration-color: #008000; font-weight: bold\">[</span><span style=\"color: #008000; text-decoration-color: #008000\">COMPLETE</span><span style=\"color: #008000; text-decoration-color: #008000; font-weight: bold\">]</span><span style=\"color: #008000; text-decoration-color: #008000\"> ● </span><span style=\"color: #008000; text-decoration-color: #008000; text-decoration: underline\">https://www.amazon.com/Tools-and-Home-Improvement/b/?ie=UTF8&amp;node=228013&amp;ref_=nav_cs_hi</span><span style=\"color: #008000; text-decoration-color: #008000\">              |</span>\n",
              "<span style=\"color: #008000; text-decoration-color: #008000\">✓ | ⏱: </span><span style=\"color: #008000; text-decoration-color: #008000; font-weight: bold\">4.</span><span style=\"color: #008000; text-decoration-color: #008000\">09s </span>\n",
              "</pre>\n"
            ]
          },
          "metadata": {}
        },
        {
          "output_type": "stream",
          "name": "stdout",
          "text": [
            "Markdown saved to amazon_2025-06-30_16-18-44\n"
          ]
        },
        {
          "output_type": "display_data",
          "data": {
            "text/plain": [
              "\u001b[1;36m[\u001b[0m\u001b[36mINIT\u001b[0m\u001b[1;36m]\u001b[0m\u001b[36m...\u001b[0m\u001b[36m. → Crawl4AI \u001b[0m\u001b[1;36m0.6\u001b[0m\u001b[36m.\u001b[0m\u001b[1;36m3\u001b[0m\u001b[36m \u001b[0m\n"
            ],
            "text/html": [
              "<pre style=\"white-space:pre;overflow-x:auto;line-height:normal;font-family:Menlo,'DejaVu Sans Mono',consolas,'Courier New',monospace\"><span style=\"color: #008080; text-decoration-color: #008080; font-weight: bold\">[</span><span style=\"color: #008080; text-decoration-color: #008080\">INIT</span><span style=\"color: #008080; text-decoration-color: #008080; font-weight: bold\">]</span><span style=\"color: #008080; text-decoration-color: #008080\">.... → Crawl4AI </span><span style=\"color: #008080; text-decoration-color: #008080; font-weight: bold\">0.6</span><span style=\"color: #008080; text-decoration-color: #008080\">.</span><span style=\"color: #008080; text-decoration-color: #008080; font-weight: bold\">3</span><span style=\"color: #008080; text-decoration-color: #008080\"> </span>\n",
              "</pre>\n"
            ]
          },
          "metadata": {}
        },
        {
          "output_type": "display_data",
          "data": {
            "text/plain": [
              "\u001b[1;32m[\u001b[0m\u001b[32mFETCH\u001b[0m\u001b[1;32m]\u001b[0m\u001b[32m...\u001b[0m\u001b[32m ↓ \u001b[0m\u001b[4;32mhttps://www.amazon.com/computer-pc-hardware-acce...es-add-ons/b/?\u001b[0m\u001b[4;32mie\u001b[0m\u001b[4;32m=\u001b[0m\u001b[4;32mUTF8\u001b[0m\u001b[4;32m&\u001b[0m\u001b[4;32mnode\u001b[0m\u001b[4;32m=\u001b[0m\u001b[4;32m541966\u001b[0m\u001b[4;32m&\u001b[0m\u001b[4;32mref_\u001b[0m\u001b[4;32m=\u001b[0m\u001b[4;32mnav_cs_pc\u001b[0m\u001b[32m  |\u001b[0m\n",
              "\u001b[32m✓\u001b[0m\u001b[32m | ⏱: \u001b[0m\u001b[1;32m7.\u001b[0m\u001b[32m97s \u001b[0m\n"
            ],
            "text/html": [
              "<pre style=\"white-space:pre;overflow-x:auto;line-height:normal;font-family:Menlo,'DejaVu Sans Mono',consolas,'Courier New',monospace\"><span style=\"color: #008000; text-decoration-color: #008000; font-weight: bold\">[</span><span style=\"color: #008000; text-decoration-color: #008000\">FETCH</span><span style=\"color: #008000; text-decoration-color: #008000; font-weight: bold\">]</span><span style=\"color: #008000; text-decoration-color: #008000\">... ↓ </span><span style=\"color: #008000; text-decoration-color: #008000; text-decoration: underline\">https://www.amazon.com/computer-pc-hardware-acce...es-add-ons/b/?ie=UTF8&amp;node=541966&amp;ref_=nav_cs_pc</span><span style=\"color: #008000; text-decoration-color: #008000\">  |</span>\n",
              "<span style=\"color: #008000; text-decoration-color: #008000\">✓ | ⏱: </span><span style=\"color: #008000; text-decoration-color: #008000; font-weight: bold\">7.</span><span style=\"color: #008000; text-decoration-color: #008000\">97s </span>\n",
              "</pre>\n"
            ]
          },
          "metadata": {}
        },
        {
          "output_type": "display_data",
          "data": {
            "text/plain": [
              "\u001b[1;32m[\u001b[0m\u001b[32mSCRAPE\u001b[0m\u001b[1;32m]\u001b[0m\u001b[32m.. ◆ \u001b[0m\u001b[4;32mhttps://www.amazon.com/computer-pc-hardware-acce...es-add-ons/b/?\u001b[0m\u001b[4;32mie\u001b[0m\u001b[4;32m=\u001b[0m\u001b[4;32mUTF8\u001b[0m\u001b[4;32m&\u001b[0m\u001b[4;32mnode\u001b[0m\u001b[4;32m=\u001b[0m\u001b[4;32m541966\u001b[0m\u001b[4;32m&\u001b[0m\u001b[4;32mref_\u001b[0m\u001b[4;32m=\u001b[0m\u001b[4;32mnav_cs_pc\u001b[0m\u001b[32m  |\u001b[0m\n",
              "\u001b[32m✓\u001b[0m\u001b[32m | ⏱: \u001b[0m\u001b[1;32m1.\u001b[0m\u001b[32m80s \u001b[0m\n"
            ],
            "text/html": [
              "<pre style=\"white-space:pre;overflow-x:auto;line-height:normal;font-family:Menlo,'DejaVu Sans Mono',consolas,'Courier New',monospace\"><span style=\"color: #008000; text-decoration-color: #008000; font-weight: bold\">[</span><span style=\"color: #008000; text-decoration-color: #008000\">SCRAPE</span><span style=\"color: #008000; text-decoration-color: #008000; font-weight: bold\">]</span><span style=\"color: #008000; text-decoration-color: #008000\">.. ◆ </span><span style=\"color: #008000; text-decoration-color: #008000; text-decoration: underline\">https://www.amazon.com/computer-pc-hardware-acce...es-add-ons/b/?ie=UTF8&amp;node=541966&amp;ref_=nav_cs_pc</span><span style=\"color: #008000; text-decoration-color: #008000\">  |</span>\n",
              "<span style=\"color: #008000; text-decoration-color: #008000\">✓ | ⏱: </span><span style=\"color: #008000; text-decoration-color: #008000; font-weight: bold\">1.</span><span style=\"color: #008000; text-decoration-color: #008000\">80s </span>\n",
              "</pre>\n"
            ]
          },
          "metadata": {}
        },
        {
          "output_type": "display_data",
          "data": {
            "text/plain": [
              "\u001b[1;32m[\u001b[0m\u001b[32mCOMPLETE\u001b[0m\u001b[1;32m]\u001b[0m\u001b[32m ● \u001b[0m\u001b[4;32mhttps://www.amazon.com/computer-pc-hardware-acce...es-add-ons/b/?\u001b[0m\u001b[4;32mie\u001b[0m\u001b[4;32m=\u001b[0m\u001b[4;32mUTF8\u001b[0m\u001b[4;32m&\u001b[0m\u001b[4;32mnode\u001b[0m\u001b[4;32m=\u001b[0m\u001b[4;32m541966\u001b[0m\u001b[4;32m&\u001b[0m\u001b[4;32mref_\u001b[0m\u001b[4;32m=\u001b[0m\u001b[4;32mnav_cs_pc\u001b[0m\u001b[32m  |\u001b[0m\n",
              "\u001b[32m✓\u001b[0m\u001b[32m | ⏱: \u001b[0m\u001b[1;32m9.\u001b[0m\u001b[32m80s \u001b[0m\n"
            ],
            "text/html": [
              "<pre style=\"white-space:pre;overflow-x:auto;line-height:normal;font-family:Menlo,'DejaVu Sans Mono',consolas,'Courier New',monospace\"><span style=\"color: #008000; text-decoration-color: #008000; font-weight: bold\">[</span><span style=\"color: #008000; text-decoration-color: #008000\">COMPLETE</span><span style=\"color: #008000; text-decoration-color: #008000; font-weight: bold\">]</span><span style=\"color: #008000; text-decoration-color: #008000\"> ● </span><span style=\"color: #008000; text-decoration-color: #008000; text-decoration: underline\">https://www.amazon.com/computer-pc-hardware-acce...es-add-ons/b/?ie=UTF8&amp;node=541966&amp;ref_=nav_cs_pc</span><span style=\"color: #008000; text-decoration-color: #008000\">  |</span>\n",
              "<span style=\"color: #008000; text-decoration-color: #008000\">✓ | ⏱: </span><span style=\"color: #008000; text-decoration-color: #008000; font-weight: bold\">9.</span><span style=\"color: #008000; text-decoration-color: #008000\">80s </span>\n",
              "</pre>\n"
            ]
          },
          "metadata": {}
        },
        {
          "output_type": "stream",
          "name": "stdout",
          "text": [
            "Markdown saved to amazon_2025-06-30_16-18-54\n"
          ]
        },
        {
          "output_type": "display_data",
          "data": {
            "text/plain": [
              "\u001b[1;36m[\u001b[0m\u001b[36mINIT\u001b[0m\u001b[1;36m]\u001b[0m\u001b[36m...\u001b[0m\u001b[36m. → Crawl4AI \u001b[0m\u001b[1;36m0.6\u001b[0m\u001b[36m.\u001b[0m\u001b[1;36m3\u001b[0m\u001b[36m \u001b[0m\n"
            ],
            "text/html": [
              "<pre style=\"white-space:pre;overflow-x:auto;line-height:normal;font-family:Menlo,'DejaVu Sans Mono',consolas,'Courier New',monospace\"><span style=\"color: #008080; text-decoration-color: #008080; font-weight: bold\">[</span><span style=\"color: #008080; text-decoration-color: #008080\">INIT</span><span style=\"color: #008080; text-decoration-color: #008080; font-weight: bold\">]</span><span style=\"color: #008080; text-decoration-color: #008080\">.... → Crawl4AI </span><span style=\"color: #008080; text-decoration-color: #008080; font-weight: bold\">0.6</span><span style=\"color: #008080; text-decoration-color: #008080\">.</span><span style=\"color: #008080; text-decoration-color: #008080; font-weight: bold\">3</span><span style=\"color: #008080; text-decoration-color: #008080\"> </span>\n",
              "</pre>\n"
            ]
          },
          "metadata": {}
        },
        {
          "output_type": "display_data",
          "data": {
            "text/plain": [
              "\u001b[1;32m[\u001b[0m\u001b[32mFETCH\u001b[0m\u001b[1;32m]\u001b[0m\u001b[32m...\u001b[0m\u001b[32m ↓ \u001b[0m\u001b[4;32mhttps://www.amazon.com/sports-outdoors/b/?\u001b[0m\u001b[4;32mie\u001b[0m\u001b[4;32m=\u001b[0m\u001b[4;32mUTF8\u001b[0m\u001b[4;32m&\u001b[0m\u001b[4;32mnode\u001b[0m\u001b[4;32m=\u001b[0m\u001b[4;32m3375251\u001b[0m\u001b[4;32m&\u001b[0m\u001b[4;32mref_\u001b[0m\u001b[4;32m=\u001b[0m\u001b[4;32mnav_cs_sports\u001b[0m\u001b[32m                    |\u001b[0m\n",
              "\u001b[32m✓\u001b[0m\u001b[32m | ⏱: \u001b[0m\u001b[1;32m3.\u001b[0m\u001b[32m50s \u001b[0m\n"
            ],
            "text/html": [
              "<pre style=\"white-space:pre;overflow-x:auto;line-height:normal;font-family:Menlo,'DejaVu Sans Mono',consolas,'Courier New',monospace\"><span style=\"color: #008000; text-decoration-color: #008000; font-weight: bold\">[</span><span style=\"color: #008000; text-decoration-color: #008000\">FETCH</span><span style=\"color: #008000; text-decoration-color: #008000; font-weight: bold\">]</span><span style=\"color: #008000; text-decoration-color: #008000\">... ↓ </span><span style=\"color: #008000; text-decoration-color: #008000; text-decoration: underline\">https://www.amazon.com/sports-outdoors/b/?ie=UTF8&amp;node=3375251&amp;ref_=nav_cs_sports</span><span style=\"color: #008000; text-decoration-color: #008000\">                    |</span>\n",
              "<span style=\"color: #008000; text-decoration-color: #008000\">✓ | ⏱: </span><span style=\"color: #008000; text-decoration-color: #008000; font-weight: bold\">3.</span><span style=\"color: #008000; text-decoration-color: #008000\">50s </span>\n",
              "</pre>\n"
            ]
          },
          "metadata": {}
        },
        {
          "output_type": "display_data",
          "data": {
            "text/plain": [
              "\u001b[1;32m[\u001b[0m\u001b[32mSCRAPE\u001b[0m\u001b[1;32m]\u001b[0m\u001b[32m.. ◆ \u001b[0m\u001b[4;32mhttps://www.amazon.com/sports-outdoors/b/?\u001b[0m\u001b[4;32mie\u001b[0m\u001b[4;32m=\u001b[0m\u001b[4;32mUTF8\u001b[0m\u001b[4;32m&\u001b[0m\u001b[4;32mnode\u001b[0m\u001b[4;32m=\u001b[0m\u001b[4;32m3375251\u001b[0m\u001b[4;32m&\u001b[0m\u001b[4;32mref_\u001b[0m\u001b[4;32m=\u001b[0m\u001b[4;32mnav_cs_sports\u001b[0m\u001b[32m                    |\u001b[0m\n",
              "\u001b[32m✓\u001b[0m\u001b[32m | ⏱: \u001b[0m\u001b[1;33m0.\u001b[0m\u001b[33m86\u001b[0m\u001b[32ms \u001b[0m\n"
            ],
            "text/html": [
              "<pre style=\"white-space:pre;overflow-x:auto;line-height:normal;font-family:Menlo,'DejaVu Sans Mono',consolas,'Courier New',monospace\"><span style=\"color: #008000; text-decoration-color: #008000; font-weight: bold\">[</span><span style=\"color: #008000; text-decoration-color: #008000\">SCRAPE</span><span style=\"color: #008000; text-decoration-color: #008000; font-weight: bold\">]</span><span style=\"color: #008000; text-decoration-color: #008000\">.. ◆ </span><span style=\"color: #008000; text-decoration-color: #008000; text-decoration: underline\">https://www.amazon.com/sports-outdoors/b/?ie=UTF8&amp;node=3375251&amp;ref_=nav_cs_sports</span><span style=\"color: #008000; text-decoration-color: #008000\">                    |</span>\n",
              "<span style=\"color: #008000; text-decoration-color: #008000\">✓ | ⏱: </span><span style=\"color: #808000; text-decoration-color: #808000; font-weight: bold\">0.</span><span style=\"color: #808000; text-decoration-color: #808000\">86</span><span style=\"color: #008000; text-decoration-color: #008000\">s </span>\n",
              "</pre>\n"
            ]
          },
          "metadata": {}
        },
        {
          "output_type": "display_data",
          "data": {
            "text/plain": [
              "\u001b[1;32m[\u001b[0m\u001b[32mCOMPLETE\u001b[0m\u001b[1;32m]\u001b[0m\u001b[32m ● \u001b[0m\u001b[4;32mhttps://www.amazon.com/sports-outdoors/b/?\u001b[0m\u001b[4;32mie\u001b[0m\u001b[4;32m=\u001b[0m\u001b[4;32mUTF8\u001b[0m\u001b[4;32m&\u001b[0m\u001b[4;32mnode\u001b[0m\u001b[4;32m=\u001b[0m\u001b[4;32m3375251\u001b[0m\u001b[4;32m&\u001b[0m\u001b[4;32mref_\u001b[0m\u001b[4;32m=\u001b[0m\u001b[4;32mnav_cs_sports\u001b[0m\u001b[32m                    |\u001b[0m\n",
              "\u001b[32m✓\u001b[0m\u001b[32m | ⏱: \u001b[0m\u001b[1;32m4.\u001b[0m\u001b[32m38s \u001b[0m\n"
            ],
            "text/html": [
              "<pre style=\"white-space:pre;overflow-x:auto;line-height:normal;font-family:Menlo,'DejaVu Sans Mono',consolas,'Courier New',monospace\"><span style=\"color: #008000; text-decoration-color: #008000; font-weight: bold\">[</span><span style=\"color: #008000; text-decoration-color: #008000\">COMPLETE</span><span style=\"color: #008000; text-decoration-color: #008000; font-weight: bold\">]</span><span style=\"color: #008000; text-decoration-color: #008000\"> ● </span><span style=\"color: #008000; text-decoration-color: #008000; text-decoration: underline\">https://www.amazon.com/sports-outdoors/b/?ie=UTF8&amp;node=3375251&amp;ref_=nav_cs_sports</span><span style=\"color: #008000; text-decoration-color: #008000\">                    |</span>\n",
              "<span style=\"color: #008000; text-decoration-color: #008000\">✓ | ⏱: </span><span style=\"color: #008000; text-decoration-color: #008000; font-weight: bold\">4.</span><span style=\"color: #008000; text-decoration-color: #008000\">38s </span>\n",
              "</pre>\n"
            ]
          },
          "metadata": {}
        },
        {
          "output_type": "stream",
          "name": "stdout",
          "text": [
            "Markdown saved to amazon_2025-06-30_16-19-00\n"
          ]
        },
        {
          "output_type": "display_data",
          "data": {
            "text/plain": [
              "\u001b[1;36m[\u001b[0m\u001b[36mINIT\u001b[0m\u001b[1;36m]\u001b[0m\u001b[36m...\u001b[0m\u001b[36m. → Crawl4AI \u001b[0m\u001b[1;36m0.6\u001b[0m\u001b[36m.\u001b[0m\u001b[1;36m3\u001b[0m\u001b[36m \u001b[0m\n"
            ],
            "text/html": [
              "<pre style=\"white-space:pre;overflow-x:auto;line-height:normal;font-family:Menlo,'DejaVu Sans Mono',consolas,'Courier New',monospace\"><span style=\"color: #008080; text-decoration-color: #008080; font-weight: bold\">[</span><span style=\"color: #008080; text-decoration-color: #008080\">INIT</span><span style=\"color: #008080; text-decoration-color: #008080; font-weight: bold\">]</span><span style=\"color: #008080; text-decoration-color: #008080\">.... → Crawl4AI </span><span style=\"color: #008080; text-decoration-color: #008080; font-weight: bold\">0.6</span><span style=\"color: #008080; text-decoration-color: #008080\">.</span><span style=\"color: #008080; text-decoration-color: #008080; font-weight: bold\">3</span><span style=\"color: #008080; text-decoration-color: #008080\"> </span>\n",
              "</pre>\n"
            ]
          },
          "metadata": {}
        },
        {
          "output_type": "display_data",
          "data": {
            "text/plain": [
              "\u001b[1;32m[\u001b[0m\u001b[32mFETCH\u001b[0m\u001b[1;32m]\u001b[0m\u001b[32m...\u001b[0m\u001b[32m ↓ \u001b[0m\u001b[4;32mhttps://www.amazon.com/gcx/Gifts-for-Everyone/gfhz/?\u001b[0m\u001b[4;32mref_\u001b[0m\u001b[4;32m=\u001b[0m\u001b[4;32mnav_cs_giftfinder\u001b[0m\u001b[32m                           |\u001b[0m\n",
              "\u001b[32m✓\u001b[0m\u001b[32m | ⏱: \u001b[0m\u001b[1;32m4.\u001b[0m\u001b[32m07s \u001b[0m\n"
            ],
            "text/html": [
              "<pre style=\"white-space:pre;overflow-x:auto;line-height:normal;font-family:Menlo,'DejaVu Sans Mono',consolas,'Courier New',monospace\"><span style=\"color: #008000; text-decoration-color: #008000; font-weight: bold\">[</span><span style=\"color: #008000; text-decoration-color: #008000\">FETCH</span><span style=\"color: #008000; text-decoration-color: #008000; font-weight: bold\">]</span><span style=\"color: #008000; text-decoration-color: #008000\">... ↓ </span><span style=\"color: #008000; text-decoration-color: #008000; text-decoration: underline\">https://www.amazon.com/gcx/Gifts-for-Everyone/gfhz/?ref_=nav_cs_giftfinder</span><span style=\"color: #008000; text-decoration-color: #008000\">                           |</span>\n",
              "<span style=\"color: #008000; text-decoration-color: #008000\">✓ | ⏱: </span><span style=\"color: #008000; text-decoration-color: #008000; font-weight: bold\">4.</span><span style=\"color: #008000; text-decoration-color: #008000\">07s </span>\n",
              "</pre>\n"
            ]
          },
          "metadata": {}
        },
        {
          "output_type": "display_data",
          "data": {
            "text/plain": [
              "\u001b[1;32m[\u001b[0m\u001b[32mSCRAPE\u001b[0m\u001b[1;32m]\u001b[0m\u001b[32m.. ◆ \u001b[0m\u001b[4;32mhttps://www.amazon.com/gcx/Gifts-for-Everyone/gfhz/?\u001b[0m\u001b[4;32mref_\u001b[0m\u001b[4;32m=\u001b[0m\u001b[4;32mnav_cs_giftfinder\u001b[0m\u001b[32m                           |\u001b[0m\n",
              "\u001b[32m✓\u001b[0m\u001b[32m | ⏱: \u001b[0m\u001b[1;32m0.\u001b[0m\u001b[32m56s \u001b[0m\n"
            ],
            "text/html": [
              "<pre style=\"white-space:pre;overflow-x:auto;line-height:normal;font-family:Menlo,'DejaVu Sans Mono',consolas,'Courier New',monospace\"><span style=\"color: #008000; text-decoration-color: #008000; font-weight: bold\">[</span><span style=\"color: #008000; text-decoration-color: #008000\">SCRAPE</span><span style=\"color: #008000; text-decoration-color: #008000; font-weight: bold\">]</span><span style=\"color: #008000; text-decoration-color: #008000\">.. ◆ </span><span style=\"color: #008000; text-decoration-color: #008000; text-decoration: underline\">https://www.amazon.com/gcx/Gifts-for-Everyone/gfhz/?ref_=nav_cs_giftfinder</span><span style=\"color: #008000; text-decoration-color: #008000\">                           |</span>\n",
              "<span style=\"color: #008000; text-decoration-color: #008000\">✓ | ⏱: </span><span style=\"color: #008000; text-decoration-color: #008000; font-weight: bold\">0.</span><span style=\"color: #008000; text-decoration-color: #008000\">56s </span>\n",
              "</pre>\n"
            ]
          },
          "metadata": {}
        },
        {
          "output_type": "display_data",
          "data": {
            "text/plain": [
              "\u001b[1;32m[\u001b[0m\u001b[32mCOMPLETE\u001b[0m\u001b[1;32m]\u001b[0m\u001b[32m ● \u001b[0m\u001b[4;32mhttps://www.amazon.com/gcx/Gifts-for-Everyone/gfhz/?\u001b[0m\u001b[4;32mref_\u001b[0m\u001b[4;32m=\u001b[0m\u001b[4;32mnav_cs_giftfinder\u001b[0m\u001b[32m                           |\u001b[0m\n",
              "\u001b[32m✓\u001b[0m\u001b[32m | ⏱: \u001b[0m\u001b[1;32m4.\u001b[0m\u001b[32m66s \u001b[0m\n"
            ],
            "text/html": [
              "<pre style=\"white-space:pre;overflow-x:auto;line-height:normal;font-family:Menlo,'DejaVu Sans Mono',consolas,'Courier New',monospace\"><span style=\"color: #008000; text-decoration-color: #008000; font-weight: bold\">[</span><span style=\"color: #008000; text-decoration-color: #008000\">COMPLETE</span><span style=\"color: #008000; text-decoration-color: #008000; font-weight: bold\">]</span><span style=\"color: #008000; text-decoration-color: #008000\"> ● </span><span style=\"color: #008000; text-decoration-color: #008000; text-decoration: underline\">https://www.amazon.com/gcx/Gifts-for-Everyone/gfhz/?ref_=nav_cs_giftfinder</span><span style=\"color: #008000; text-decoration-color: #008000\">                           |</span>\n",
              "<span style=\"color: #008000; text-decoration-color: #008000\">✓ | ⏱: </span><span style=\"color: #008000; text-decoration-color: #008000; font-weight: bold\">4.</span><span style=\"color: #008000; text-decoration-color: #008000\">66s </span>\n",
              "</pre>\n"
            ]
          },
          "metadata": {}
        },
        {
          "output_type": "stream",
          "name": "stdout",
          "text": [
            "Markdown saved to amazon_2025-06-30_16-19-06\n"
          ]
        },
        {
          "output_type": "display_data",
          "data": {
            "text/plain": [
              "\u001b[1;36m[\u001b[0m\u001b[36mINIT\u001b[0m\u001b[1;36m]\u001b[0m\u001b[36m...\u001b[0m\u001b[36m. → Crawl4AI \u001b[0m\u001b[1;36m0.6\u001b[0m\u001b[36m.\u001b[0m\u001b[1;36m3\u001b[0m\u001b[36m \u001b[0m\n"
            ],
            "text/html": [
              "<pre style=\"white-space:pre;overflow-x:auto;line-height:normal;font-family:Menlo,'DejaVu Sans Mono',consolas,'Courier New',monospace\"><span style=\"color: #008080; text-decoration-color: #008080; font-weight: bold\">[</span><span style=\"color: #008080; text-decoration-color: #008080\">INIT</span><span style=\"color: #008080; text-decoration-color: #008080; font-weight: bold\">]</span><span style=\"color: #008080; text-decoration-color: #008080\">.... → Crawl4AI </span><span style=\"color: #008080; text-decoration-color: #008080; font-weight: bold\">0.6</span><span style=\"color: #008080; text-decoration-color: #008080\">.</span><span style=\"color: #008080; text-decoration-color: #008080; font-weight: bold\">3</span><span style=\"color: #008080; text-decoration-color: #008080\"> </span>\n",
              "</pre>\n"
            ]
          },
          "metadata": {}
        },
        {
          "output_type": "display_data",
          "data": {
            "text/plain": [
              "\u001b[1;32m[\u001b[0m\u001b[32mFETCH\u001b[0m\u001b[1;32m]\u001b[0m\u001b[32m...\u001b[0m\u001b[32m ↓ \u001b[0m\u001b[4;32mhttps://www.amazon.com/b/?\u001b[0m\u001b[4;32mnode\u001b[0m\u001b[4;32m=\u001b[0m\u001b[4;32m2102313011\u001b[0m\u001b[4;32m&\u001b[0m\u001b[4;32mref_\u001b[0m\u001b[4;32m=\u001b[0m\u001b[4;32mfooter_devices\u001b[0m\u001b[32m                                        |\u001b[0m\n",
              "\u001b[32m✓\u001b[0m\u001b[32m | ⏱: \u001b[0m\u001b[1;32m5.\u001b[0m\u001b[32m07s \u001b[0m\n"
            ],
            "text/html": [
              "<pre style=\"white-space:pre;overflow-x:auto;line-height:normal;font-family:Menlo,'DejaVu Sans Mono',consolas,'Courier New',monospace\"><span style=\"color: #008000; text-decoration-color: #008000; font-weight: bold\">[</span><span style=\"color: #008000; text-decoration-color: #008000\">FETCH</span><span style=\"color: #008000; text-decoration-color: #008000; font-weight: bold\">]</span><span style=\"color: #008000; text-decoration-color: #008000\">... ↓ </span><span style=\"color: #008000; text-decoration-color: #008000; text-decoration: underline\">https://www.amazon.com/b/?node=2102313011&amp;ref_=footer_devices</span><span style=\"color: #008000; text-decoration-color: #008000\">                                        |</span>\n",
              "<span style=\"color: #008000; text-decoration-color: #008000\">✓ | ⏱: </span><span style=\"color: #008000; text-decoration-color: #008000; font-weight: bold\">5.</span><span style=\"color: #008000; text-decoration-color: #008000\">07s </span>\n",
              "</pre>\n"
            ]
          },
          "metadata": {}
        },
        {
          "output_type": "display_data",
          "data": {
            "text/plain": [
              "\u001b[1;32m[\u001b[0m\u001b[32mSCRAPE\u001b[0m\u001b[1;32m]\u001b[0m\u001b[32m.. ◆ \u001b[0m\u001b[4;32mhttps://www.amazon.com/b/?\u001b[0m\u001b[4;32mnode\u001b[0m\u001b[4;32m=\u001b[0m\u001b[4;32m2102313011\u001b[0m\u001b[4;32m&\u001b[0m\u001b[4;32mref_\u001b[0m\u001b[4;32m=\u001b[0m\u001b[4;32mfooter_devices\u001b[0m\u001b[32m                                        |\u001b[0m\n",
              "\u001b[32m✓\u001b[0m\u001b[32m | ⏱: \u001b[0m\u001b[1;32m0.\u001b[0m\u001b[32m93s \u001b[0m\n"
            ],
            "text/html": [
              "<pre style=\"white-space:pre;overflow-x:auto;line-height:normal;font-family:Menlo,'DejaVu Sans Mono',consolas,'Courier New',monospace\"><span style=\"color: #008000; text-decoration-color: #008000; font-weight: bold\">[</span><span style=\"color: #008000; text-decoration-color: #008000\">SCRAPE</span><span style=\"color: #008000; text-decoration-color: #008000; font-weight: bold\">]</span><span style=\"color: #008000; text-decoration-color: #008000\">.. ◆ </span><span style=\"color: #008000; text-decoration-color: #008000; text-decoration: underline\">https://www.amazon.com/b/?node=2102313011&amp;ref_=footer_devices</span><span style=\"color: #008000; text-decoration-color: #008000\">                                        |</span>\n",
              "<span style=\"color: #008000; text-decoration-color: #008000\">✓ | ⏱: </span><span style=\"color: #008000; text-decoration-color: #008000; font-weight: bold\">0.</span><span style=\"color: #008000; text-decoration-color: #008000\">93s </span>\n",
              "</pre>\n"
            ]
          },
          "metadata": {}
        },
        {
          "output_type": "display_data",
          "data": {
            "text/plain": [
              "\u001b[1;32m[\u001b[0m\u001b[32mCOMPLETE\u001b[0m\u001b[1;32m]\u001b[0m\u001b[32m ● \u001b[0m\u001b[4;32mhttps://www.amazon.com/b/?\u001b[0m\u001b[4;32mnode\u001b[0m\u001b[4;32m=\u001b[0m\u001b[4;32m2102313011\u001b[0m\u001b[4;32m&\u001b[0m\u001b[4;32mref_\u001b[0m\u001b[4;32m=\u001b[0m\u001b[4;32mfooter_devices\u001b[0m\u001b[32m                                        |\u001b[0m\n",
              "\u001b[32m✓\u001b[0m\u001b[32m | ⏱: \u001b[0m\u001b[1;32m6.\u001b[0m\u001b[32m02s \u001b[0m\n"
            ],
            "text/html": [
              "<pre style=\"white-space:pre;overflow-x:auto;line-height:normal;font-family:Menlo,'DejaVu Sans Mono',consolas,'Courier New',monospace\"><span style=\"color: #008000; text-decoration-color: #008000; font-weight: bold\">[</span><span style=\"color: #008000; text-decoration-color: #008000\">COMPLETE</span><span style=\"color: #008000; text-decoration-color: #008000; font-weight: bold\">]</span><span style=\"color: #008000; text-decoration-color: #008000\"> ● </span><span style=\"color: #008000; text-decoration-color: #008000; text-decoration: underline\">https://www.amazon.com/b/?node=2102313011&amp;ref_=footer_devices</span><span style=\"color: #008000; text-decoration-color: #008000\">                                        |</span>\n",
              "<span style=\"color: #008000; text-decoration-color: #008000\">✓ | ⏱: </span><span style=\"color: #008000; text-decoration-color: #008000; font-weight: bold\">6.</span><span style=\"color: #008000; text-decoration-color: #008000\">02s </span>\n",
              "</pre>\n"
            ]
          },
          "metadata": {}
        },
        {
          "output_type": "stream",
          "name": "stdout",
          "text": [
            "Markdown saved to amazon_2025-06-30_16-19-14\n"
          ]
        },
        {
          "output_type": "display_data",
          "data": {
            "text/plain": [
              "\u001b[1;36m[\u001b[0m\u001b[36mINIT\u001b[0m\u001b[1;36m]\u001b[0m\u001b[36m...\u001b[0m\u001b[36m. → Crawl4AI \u001b[0m\u001b[1;36m0.6\u001b[0m\u001b[36m.\u001b[0m\u001b[1;36m3\u001b[0m\u001b[36m \u001b[0m\n"
            ],
            "text/html": [
              "<pre style=\"white-space:pre;overflow-x:auto;line-height:normal;font-family:Menlo,'DejaVu Sans Mono',consolas,'Courier New',monospace\"><span style=\"color: #008080; text-decoration-color: #008080; font-weight: bold\">[</span><span style=\"color: #008080; text-decoration-color: #008080\">INIT</span><span style=\"color: #008080; text-decoration-color: #008080; font-weight: bold\">]</span><span style=\"color: #008080; text-decoration-color: #008080\">.... → Crawl4AI </span><span style=\"color: #008080; text-decoration-color: #008080; font-weight: bold\">0.6</span><span style=\"color: #008080; text-decoration-color: #008080\">.</span><span style=\"color: #008080; text-decoration-color: #008080; font-weight: bold\">3</span><span style=\"color: #008080; text-decoration-color: #008080\"> </span>\n",
              "</pre>\n"
            ]
          },
          "metadata": {}
        },
        {
          "output_type": "display_data",
          "data": {
            "text/plain": [
              "\u001b[1;32m[\u001b[0m\u001b[32mFETCH\u001b[0m\u001b[1;32m]\u001b[0m\u001b[32m...\u001b[0m\u001b[32m ↓ \u001b[0m\u001b[4;32mhttps://www.amazon.com/iss/credit/rewardscardmember?\u001b[0m\u001b[4;32mplattr\u001b[0m\u001b[4;32m=\u001b[0m\u001b[4;32mCBFOOT\u001b[0m\u001b[4;32m&\u001b[0m\u001b[4;32mref_\u001b[0m\u001b[4;32m=\u001b[0m\u001b[4;32mfooter_cbcc\u001b[0m\u001b[32m                   |\u001b[0m\n",
              "\u001b[32m✓\u001b[0m\u001b[32m | ⏱: \u001b[0m\u001b[1;32m1.\u001b[0m\u001b[32m83s \u001b[0m\n"
            ],
            "text/html": [
              "<pre style=\"white-space:pre;overflow-x:auto;line-height:normal;font-family:Menlo,'DejaVu Sans Mono',consolas,'Courier New',monospace\"><span style=\"color: #008000; text-decoration-color: #008000; font-weight: bold\">[</span><span style=\"color: #008000; text-decoration-color: #008000\">FETCH</span><span style=\"color: #008000; text-decoration-color: #008000; font-weight: bold\">]</span><span style=\"color: #008000; text-decoration-color: #008000\">... ↓ </span><span style=\"color: #008000; text-decoration-color: #008000; text-decoration: underline\">https://www.amazon.com/iss/credit/rewardscardmember?plattr=CBFOOT&amp;ref_=footer_cbcc</span><span style=\"color: #008000; text-decoration-color: #008000\">                   |</span>\n",
              "<span style=\"color: #008000; text-decoration-color: #008000\">✓ | ⏱: </span><span style=\"color: #008000; text-decoration-color: #008000; font-weight: bold\">1.</span><span style=\"color: #008000; text-decoration-color: #008000\">83s </span>\n",
              "</pre>\n"
            ]
          },
          "metadata": {}
        },
        {
          "output_type": "display_data",
          "data": {
            "text/plain": [
              "\u001b[1;32m[\u001b[0m\u001b[32mSCRAPE\u001b[0m\u001b[1;32m]\u001b[0m\u001b[32m.. ◆ \u001b[0m\u001b[4;32mhttps://www.amazon.com/iss/credit/rewardscardmember?\u001b[0m\u001b[4;32mplattr\u001b[0m\u001b[4;32m=\u001b[0m\u001b[4;32mCBFOOT\u001b[0m\u001b[4;32m&\u001b[0m\u001b[4;32mref_\u001b[0m\u001b[4;32m=\u001b[0m\u001b[4;32mfooter_cbcc\u001b[0m\u001b[32m                   |\u001b[0m\n",
              "\u001b[32m✓\u001b[0m\u001b[32m | ⏱: \u001b[0m\u001b[1;32m0.\u001b[0m\u001b[32m05s \u001b[0m\n"
            ],
            "text/html": [
              "<pre style=\"white-space:pre;overflow-x:auto;line-height:normal;font-family:Menlo,'DejaVu Sans Mono',consolas,'Courier New',monospace\"><span style=\"color: #008000; text-decoration-color: #008000; font-weight: bold\">[</span><span style=\"color: #008000; text-decoration-color: #008000\">SCRAPE</span><span style=\"color: #008000; text-decoration-color: #008000; font-weight: bold\">]</span><span style=\"color: #008000; text-decoration-color: #008000\">.. ◆ </span><span style=\"color: #008000; text-decoration-color: #008000; text-decoration: underline\">https://www.amazon.com/iss/credit/rewardscardmember?plattr=CBFOOT&amp;ref_=footer_cbcc</span><span style=\"color: #008000; text-decoration-color: #008000\">                   |</span>\n",
              "<span style=\"color: #008000; text-decoration-color: #008000\">✓ | ⏱: </span><span style=\"color: #008000; text-decoration-color: #008000; font-weight: bold\">0.</span><span style=\"color: #008000; text-decoration-color: #008000\">05s </span>\n",
              "</pre>\n"
            ]
          },
          "metadata": {}
        },
        {
          "output_type": "display_data",
          "data": {
            "text/plain": [
              "\u001b[1;32m[\u001b[0m\u001b[32mCOMPLETE\u001b[0m\u001b[1;32m]\u001b[0m\u001b[32m ● \u001b[0m\u001b[4;32mhttps://www.amazon.com/iss/credit/rewardscardmember?\u001b[0m\u001b[4;32mplattr\u001b[0m\u001b[4;32m=\u001b[0m\u001b[4;32mCBFOOT\u001b[0m\u001b[4;32m&\u001b[0m\u001b[4;32mref_\u001b[0m\u001b[4;32m=\u001b[0m\u001b[4;32mfooter_cbcc\u001b[0m\u001b[32m                   |\u001b[0m\n",
              "\u001b[32m✓\u001b[0m\u001b[32m | ⏱: \u001b[0m\u001b[1;32m1.\u001b[0m\u001b[32m88s \u001b[0m\n"
            ],
            "text/html": [
              "<pre style=\"white-space:pre;overflow-x:auto;line-height:normal;font-family:Menlo,'DejaVu Sans Mono',consolas,'Courier New',monospace\"><span style=\"color: #008000; text-decoration-color: #008000; font-weight: bold\">[</span><span style=\"color: #008000; text-decoration-color: #008000\">COMPLETE</span><span style=\"color: #008000; text-decoration-color: #008000; font-weight: bold\">]</span><span style=\"color: #008000; text-decoration-color: #008000\"> ● </span><span style=\"color: #008000; text-decoration-color: #008000; text-decoration: underline\">https://www.amazon.com/iss/credit/rewardscardmember?plattr=CBFOOT&amp;ref_=footer_cbcc</span><span style=\"color: #008000; text-decoration-color: #008000\">                   |</span>\n",
              "<span style=\"color: #008000; text-decoration-color: #008000\">✓ | ⏱: </span><span style=\"color: #008000; text-decoration-color: #008000; font-weight: bold\">1.</span><span style=\"color: #008000; text-decoration-color: #008000\">88s </span>\n",
              "</pre>\n"
            ]
          },
          "metadata": {}
        },
        {
          "output_type": "stream",
          "name": "stdout",
          "text": [
            "Markdown saved to amazon_2025-06-30_16-19-17\n"
          ]
        },
        {
          "output_type": "display_data",
          "data": {
            "text/plain": [
              "\u001b[1;36m[\u001b[0m\u001b[36mINIT\u001b[0m\u001b[1;36m]\u001b[0m\u001b[36m...\u001b[0m\u001b[36m. → Crawl4AI \u001b[0m\u001b[1;36m0.6\u001b[0m\u001b[36m.\u001b[0m\u001b[1;36m3\u001b[0m\u001b[36m \u001b[0m\n"
            ],
            "text/html": [
              "<pre style=\"white-space:pre;overflow-x:auto;line-height:normal;font-family:Menlo,'DejaVu Sans Mono',consolas,'Courier New',monospace\"><span style=\"color: #008080; text-decoration-color: #008080; font-weight: bold\">[</span><span style=\"color: #008080; text-decoration-color: #008080\">INIT</span><span style=\"color: #008080; text-decoration-color: #008080; font-weight: bold\">]</span><span style=\"color: #008080; text-decoration-color: #008080\">.... → Crawl4AI </span><span style=\"color: #008080; text-decoration-color: #008080; font-weight: bold\">0.6</span><span style=\"color: #008080; text-decoration-color: #008080\">.</span><span style=\"color: #008080; text-decoration-color: #008080; font-weight: bold\">3</span><span style=\"color: #008080; text-decoration-color: #008080\"> </span>\n",
              "</pre>\n"
            ]
          },
          "metadata": {}
        },
        {
          "output_type": "display_data",
          "data": {
            "text/plain": [
              "\u001b[1;32m[\u001b[0m\u001b[32mFETCH\u001b[0m\u001b[1;32m]\u001b[0m\u001b[32m...\u001b[0m\u001b[32m ↓ \u001b[0m\u001b[4;32mhttps://www.amazon.com/credit/storecard/member?\u001b[0m\u001b[4;32mplattr\u001b[0m\u001b[4;32m=\u001b[0m\u001b[4;32mPLCCFOOT\u001b[0m\u001b[4;32m&\u001b[0m\u001b[4;32mref_\u001b[0m\u001b[4;32m=\u001b[0m\u001b[4;32mfooter_plcc\u001b[0m\u001b[32m                      |\u001b[0m\n",
              "\u001b[32m✓\u001b[0m\u001b[32m | ⏱: \u001b[0m\u001b[1;32m1.\u001b[0m\u001b[32m73s \u001b[0m\n"
            ],
            "text/html": [
              "<pre style=\"white-space:pre;overflow-x:auto;line-height:normal;font-family:Menlo,'DejaVu Sans Mono',consolas,'Courier New',monospace\"><span style=\"color: #008000; text-decoration-color: #008000; font-weight: bold\">[</span><span style=\"color: #008000; text-decoration-color: #008000\">FETCH</span><span style=\"color: #008000; text-decoration-color: #008000; font-weight: bold\">]</span><span style=\"color: #008000; text-decoration-color: #008000\">... ↓ </span><span style=\"color: #008000; text-decoration-color: #008000; text-decoration: underline\">https://www.amazon.com/credit/storecard/member?plattr=PLCCFOOT&amp;ref_=footer_plcc</span><span style=\"color: #008000; text-decoration-color: #008000\">                      |</span>\n",
              "<span style=\"color: #008000; text-decoration-color: #008000\">✓ | ⏱: </span><span style=\"color: #008000; text-decoration-color: #008000; font-weight: bold\">1.</span><span style=\"color: #008000; text-decoration-color: #008000\">73s </span>\n",
              "</pre>\n"
            ]
          },
          "metadata": {}
        },
        {
          "output_type": "display_data",
          "data": {
            "text/plain": [
              "\u001b[1;32m[\u001b[0m\u001b[32mSCRAPE\u001b[0m\u001b[1;32m]\u001b[0m\u001b[32m.. ◆ \u001b[0m\u001b[4;32mhttps://www.amazon.com/credit/storecard/member?\u001b[0m\u001b[4;32mplattr\u001b[0m\u001b[4;32m=\u001b[0m\u001b[4;32mPLCCFOOT\u001b[0m\u001b[4;32m&\u001b[0m\u001b[4;32mref_\u001b[0m\u001b[4;32m=\u001b[0m\u001b[4;32mfooter_plcc\u001b[0m\u001b[32m                      |\u001b[0m\n",
              "\u001b[32m✓\u001b[0m\u001b[32m | ⏱: \u001b[0m\u001b[1;33m0.\u001b[0m\u001b[33m05\u001b[0m\u001b[32ms \u001b[0m\n"
            ],
            "text/html": [
              "<pre style=\"white-space:pre;overflow-x:auto;line-height:normal;font-family:Menlo,'DejaVu Sans Mono',consolas,'Courier New',monospace\"><span style=\"color: #008000; text-decoration-color: #008000; font-weight: bold\">[</span><span style=\"color: #008000; text-decoration-color: #008000\">SCRAPE</span><span style=\"color: #008000; text-decoration-color: #008000; font-weight: bold\">]</span><span style=\"color: #008000; text-decoration-color: #008000\">.. ◆ </span><span style=\"color: #008000; text-decoration-color: #008000; text-decoration: underline\">https://www.amazon.com/credit/storecard/member?plattr=PLCCFOOT&amp;ref_=footer_plcc</span><span style=\"color: #008000; text-decoration-color: #008000\">                      |</span>\n",
              "<span style=\"color: #008000; text-decoration-color: #008000\">✓ | ⏱: </span><span style=\"color: #808000; text-decoration-color: #808000; font-weight: bold\">0.</span><span style=\"color: #808000; text-decoration-color: #808000\">05</span><span style=\"color: #008000; text-decoration-color: #008000\">s </span>\n",
              "</pre>\n"
            ]
          },
          "metadata": {}
        },
        {
          "output_type": "display_data",
          "data": {
            "text/plain": [
              "\u001b[1;32m[\u001b[0m\u001b[32mCOMPLETE\u001b[0m\u001b[1;32m]\u001b[0m\u001b[32m ● \u001b[0m\u001b[4;32mhttps://www.amazon.com/credit/storecard/member?\u001b[0m\u001b[4;32mplattr\u001b[0m\u001b[4;32m=\u001b[0m\u001b[4;32mPLCCFOOT\u001b[0m\u001b[4;32m&\u001b[0m\u001b[4;32mref_\u001b[0m\u001b[4;32m=\u001b[0m\u001b[4;32mfooter_plcc\u001b[0m\u001b[32m                      |\u001b[0m\n",
              "\u001b[32m✓\u001b[0m\u001b[32m | ⏱: \u001b[0m\u001b[1;32m1.\u001b[0m\u001b[32m79s \u001b[0m\n"
            ],
            "text/html": [
              "<pre style=\"white-space:pre;overflow-x:auto;line-height:normal;font-family:Menlo,'DejaVu Sans Mono',consolas,'Courier New',monospace\"><span style=\"color: #008000; text-decoration-color: #008000; font-weight: bold\">[</span><span style=\"color: #008000; text-decoration-color: #008000\">COMPLETE</span><span style=\"color: #008000; text-decoration-color: #008000; font-weight: bold\">]</span><span style=\"color: #008000; text-decoration-color: #008000\"> ● </span><span style=\"color: #008000; text-decoration-color: #008000; text-decoration: underline\">https://www.amazon.com/credit/storecard/member?plattr=PLCCFOOT&amp;ref_=footer_plcc</span><span style=\"color: #008000; text-decoration-color: #008000\">                      |</span>\n",
              "<span style=\"color: #008000; text-decoration-color: #008000\">✓ | ⏱: </span><span style=\"color: #008000; text-decoration-color: #008000; font-weight: bold\">1.</span><span style=\"color: #008000; text-decoration-color: #008000\">79s </span>\n",
              "</pre>\n"
            ]
          },
          "metadata": {}
        },
        {
          "output_type": "stream",
          "name": "stdout",
          "text": [
            "Markdown saved to amazon_2025-06-30_16-19-20\n"
          ]
        },
        {
          "output_type": "display_data",
          "data": {
            "text/plain": [
              "\u001b[1;36m[\u001b[0m\u001b[36mINIT\u001b[0m\u001b[1;36m]\u001b[0m\u001b[36m...\u001b[0m\u001b[36m. → Crawl4AI \u001b[0m\u001b[1;36m0.6\u001b[0m\u001b[36m.\u001b[0m\u001b[1;36m3\u001b[0m\u001b[36m \u001b[0m\n"
            ],
            "text/html": [
              "<pre style=\"white-space:pre;overflow-x:auto;line-height:normal;font-family:Menlo,'DejaVu Sans Mono',consolas,'Courier New',monospace\"><span style=\"color: #008080; text-decoration-color: #008080; font-weight: bold\">[</span><span style=\"color: #008080; text-decoration-color: #008080\">INIT</span><span style=\"color: #008080; text-decoration-color: #008080; font-weight: bold\">]</span><span style=\"color: #008080; text-decoration-color: #008080\">.... → Crawl4AI </span><span style=\"color: #008080; text-decoration-color: #008080; font-weight: bold\">0.6</span><span style=\"color: #008080; text-decoration-color: #008080\">.</span><span style=\"color: #008080; text-decoration-color: #008080; font-weight: bold\">3</span><span style=\"color: #008080; text-decoration-color: #008080\"> </span>\n",
              "</pre>\n"
            ]
          },
          "metadata": {}
        },
        {
          "output_type": "display_data",
          "data": {
            "text/plain": [
              "\u001b[1;32m[\u001b[0m\u001b[32mFETCH\u001b[0m\u001b[1;32m]\u001b[0m\u001b[32m...\u001b[0m\u001b[32m ↓ \u001b[0m\u001b[4;32mhttps://www.amazon.com/dp/product/B084KP3NG6?\u001b[0m\u001b[4;32mplattr\u001b[0m\u001b[4;32m=\u001b[0m\u001b[4;32mSCFOOT\u001b[0m\u001b[4;32m&\u001b[0m\u001b[4;32mref_\u001b[0m\u001b[4;32m=\u001b[0m\u001b[4;32mfooter_ACB\u001b[0m\u001b[32m                           |\u001b[0m\n",
              "\u001b[32m✓\u001b[0m\u001b[32m | ⏱: \u001b[0m\u001b[1;32m2.\u001b[0m\u001b[32m63s \u001b[0m\n"
            ],
            "text/html": [
              "<pre style=\"white-space:pre;overflow-x:auto;line-height:normal;font-family:Menlo,'DejaVu Sans Mono',consolas,'Courier New',monospace\"><span style=\"color: #008000; text-decoration-color: #008000; font-weight: bold\">[</span><span style=\"color: #008000; text-decoration-color: #008000\">FETCH</span><span style=\"color: #008000; text-decoration-color: #008000; font-weight: bold\">]</span><span style=\"color: #008000; text-decoration-color: #008000\">... ↓ </span><span style=\"color: #008000; text-decoration-color: #008000; text-decoration: underline\">https://www.amazon.com/dp/product/B084KP3NG6?plattr=SCFOOT&amp;ref_=footer_ACB</span><span style=\"color: #008000; text-decoration-color: #008000\">                           |</span>\n",
              "<span style=\"color: #008000; text-decoration-color: #008000\">✓ | ⏱: </span><span style=\"color: #008000; text-decoration-color: #008000; font-weight: bold\">2.</span><span style=\"color: #008000; text-decoration-color: #008000\">63s </span>\n",
              "</pre>\n"
            ]
          },
          "metadata": {}
        },
        {
          "output_type": "display_data",
          "data": {
            "text/plain": [
              "\u001b[1;32m[\u001b[0m\u001b[32mSCRAPE\u001b[0m\u001b[1;32m]\u001b[0m\u001b[32m.. ◆ \u001b[0m\u001b[4;32mhttps://www.amazon.com/dp/product/B084KP3NG6?\u001b[0m\u001b[4;32mplattr\u001b[0m\u001b[4;32m=\u001b[0m\u001b[4;32mSCFOOT\u001b[0m\u001b[4;32m&\u001b[0m\u001b[4;32mref_\u001b[0m\u001b[4;32m=\u001b[0m\u001b[4;32mfooter_ACB\u001b[0m\u001b[32m                           |\u001b[0m\n",
              "\u001b[32m✓\u001b[0m\u001b[32m | ⏱: \u001b[0m\u001b[1;32m0.\u001b[0m\u001b[32m39s \u001b[0m\n"
            ],
            "text/html": [
              "<pre style=\"white-space:pre;overflow-x:auto;line-height:normal;font-family:Menlo,'DejaVu Sans Mono',consolas,'Courier New',monospace\"><span style=\"color: #008000; text-decoration-color: #008000; font-weight: bold\">[</span><span style=\"color: #008000; text-decoration-color: #008000\">SCRAPE</span><span style=\"color: #008000; text-decoration-color: #008000; font-weight: bold\">]</span><span style=\"color: #008000; text-decoration-color: #008000\">.. ◆ </span><span style=\"color: #008000; text-decoration-color: #008000; text-decoration: underline\">https://www.amazon.com/dp/product/B084KP3NG6?plattr=SCFOOT&amp;ref_=footer_ACB</span><span style=\"color: #008000; text-decoration-color: #008000\">                           |</span>\n",
              "<span style=\"color: #008000; text-decoration-color: #008000\">✓ | ⏱: </span><span style=\"color: #008000; text-decoration-color: #008000; font-weight: bold\">0.</span><span style=\"color: #008000; text-decoration-color: #008000\">39s </span>\n",
              "</pre>\n"
            ]
          },
          "metadata": {}
        },
        {
          "output_type": "display_data",
          "data": {
            "text/plain": [
              "\u001b[1;32m[\u001b[0m\u001b[32mCOMPLETE\u001b[0m\u001b[1;32m]\u001b[0m\u001b[32m ● \u001b[0m\u001b[4;32mhttps://www.amazon.com/dp/product/B084KP3NG6?\u001b[0m\u001b[4;32mplattr\u001b[0m\u001b[4;32m=\u001b[0m\u001b[4;32mSCFOOT\u001b[0m\u001b[4;32m&\u001b[0m\u001b[4;32mref_\u001b[0m\u001b[4;32m=\u001b[0m\u001b[4;32mfooter_ACB\u001b[0m\u001b[32m                           |\u001b[0m\n",
              "\u001b[32m✓\u001b[0m\u001b[32m | ⏱: \u001b[0m\u001b[1;32m3.\u001b[0m\u001b[32m03s \u001b[0m\n"
            ],
            "text/html": [
              "<pre style=\"white-space:pre;overflow-x:auto;line-height:normal;font-family:Menlo,'DejaVu Sans Mono',consolas,'Courier New',monospace\"><span style=\"color: #008000; text-decoration-color: #008000; font-weight: bold\">[</span><span style=\"color: #008000; text-decoration-color: #008000\">COMPLETE</span><span style=\"color: #008000; text-decoration-color: #008000; font-weight: bold\">]</span><span style=\"color: #008000; text-decoration-color: #008000\"> ● </span><span style=\"color: #008000; text-decoration-color: #008000; text-decoration: underline\">https://www.amazon.com/dp/product/B084KP3NG6?plattr=SCFOOT&amp;ref_=footer_ACB</span><span style=\"color: #008000; text-decoration-color: #008000\">                           |</span>\n",
              "<span style=\"color: #008000; text-decoration-color: #008000\">✓ | ⏱: </span><span style=\"color: #008000; text-decoration-color: #008000; font-weight: bold\">3.</span><span style=\"color: #008000; text-decoration-color: #008000\">03s </span>\n",
              "</pre>\n"
            ]
          },
          "metadata": {}
        },
        {
          "output_type": "stream",
          "name": "stdout",
          "text": [
            "Markdown saved to amazon_2025-06-30_16-19-24\n"
          ]
        },
        {
          "output_type": "display_data",
          "data": {
            "text/plain": [
              "\u001b[1;36m[\u001b[0m\u001b[36mINIT\u001b[0m\u001b[1;36m]\u001b[0m\u001b[36m...\u001b[0m\u001b[36m. → Crawl4AI \u001b[0m\u001b[1;36m0.6\u001b[0m\u001b[36m.\u001b[0m\u001b[1;36m3\u001b[0m\u001b[36m \u001b[0m\n"
            ],
            "text/html": [
              "<pre style=\"white-space:pre;overflow-x:auto;line-height:normal;font-family:Menlo,'DejaVu Sans Mono',consolas,'Courier New',monospace\"><span style=\"color: #008080; text-decoration-color: #008080; font-weight: bold\">[</span><span style=\"color: #008080; text-decoration-color: #008080\">INIT</span><span style=\"color: #008080; text-decoration-color: #008080; font-weight: bold\">]</span><span style=\"color: #008080; text-decoration-color: #008080\">.... → Crawl4AI </span><span style=\"color: #008080; text-decoration-color: #008080; font-weight: bold\">0.6</span><span style=\"color: #008080; text-decoration-color: #008080\">.</span><span style=\"color: #008080; text-decoration-color: #008080; font-weight: bold\">3</span><span style=\"color: #008080; text-decoration-color: #008080\"> </span>\n",
              "</pre>\n"
            ]
          },
          "metadata": {}
        },
        {
          "output_type": "display_data",
          "data": {
            "text/plain": [
              "\u001b[1;32m[\u001b[0m\u001b[32mFETCH\u001b[0m\u001b[1;32m]\u001b[0m\u001b[32m...\u001b[0m\u001b[32m ↓ \u001b[0m\u001b[4;32mhttps://www.amazon.com/dp/B07984JN3L?\u001b[0m\u001b[4;32mplattr\u001b[0m\u001b[4;32m=\u001b[0m\u001b[4;32mACOMFO\u001b[0m\u001b[4;32m&\u001b[0m\u001b[4;32mie\u001b[0m\u001b[4;32m=\u001b[0m\u001b[4;32mUTF\u001b[0m\u001b[4;32m-8\u001b[0m\u001b[32m                                          |\u001b[0m\n",
              "\u001b[32m✓\u001b[0m\u001b[32m | ⏱: \u001b[0m\u001b[1;32m4.\u001b[0m\u001b[32m16s \u001b[0m\n"
            ],
            "text/html": [
              "<pre style=\"white-space:pre;overflow-x:auto;line-height:normal;font-family:Menlo,'DejaVu Sans Mono',consolas,'Courier New',monospace\"><span style=\"color: #008000; text-decoration-color: #008000; font-weight: bold\">[</span><span style=\"color: #008000; text-decoration-color: #008000\">FETCH</span><span style=\"color: #008000; text-decoration-color: #008000; font-weight: bold\">]</span><span style=\"color: #008000; text-decoration-color: #008000\">... ↓ </span><span style=\"color: #008000; text-decoration-color: #008000; text-decoration: underline\">https://www.amazon.com/dp/B07984JN3L?plattr=ACOMFO&amp;ie=UTF-8</span><span style=\"color: #008000; text-decoration-color: #008000\">                                          |</span>\n",
              "<span style=\"color: #008000; text-decoration-color: #008000\">✓ | ⏱: </span><span style=\"color: #008000; text-decoration-color: #008000; font-weight: bold\">4.</span><span style=\"color: #008000; text-decoration-color: #008000\">16s </span>\n",
              "</pre>\n"
            ]
          },
          "metadata": {}
        },
        {
          "output_type": "display_data",
          "data": {
            "text/plain": [
              "\u001b[1;32m[\u001b[0m\u001b[32mSCRAPE\u001b[0m\u001b[1;32m]\u001b[0m\u001b[32m.. ◆ \u001b[0m\u001b[4;32mhttps://www.amazon.com/dp/B07984JN3L?\u001b[0m\u001b[4;32mplattr\u001b[0m\u001b[4;32m=\u001b[0m\u001b[4;32mACOMFO\u001b[0m\u001b[4;32m&\u001b[0m\u001b[4;32mie\u001b[0m\u001b[4;32m=\u001b[0m\u001b[4;32mUTF\u001b[0m\u001b[4;32m-8\u001b[0m\u001b[32m                                          |\u001b[0m\n",
              "\u001b[32m✓\u001b[0m\u001b[32m | ⏱: \u001b[0m\u001b[1;32m0.\u001b[0m\u001b[32m73s \u001b[0m\n"
            ],
            "text/html": [
              "<pre style=\"white-space:pre;overflow-x:auto;line-height:normal;font-family:Menlo,'DejaVu Sans Mono',consolas,'Courier New',monospace\"><span style=\"color: #008000; text-decoration-color: #008000; font-weight: bold\">[</span><span style=\"color: #008000; text-decoration-color: #008000\">SCRAPE</span><span style=\"color: #008000; text-decoration-color: #008000; font-weight: bold\">]</span><span style=\"color: #008000; text-decoration-color: #008000\">.. ◆ </span><span style=\"color: #008000; text-decoration-color: #008000; text-decoration: underline\">https://www.amazon.com/dp/B07984JN3L?plattr=ACOMFO&amp;ie=UTF-8</span><span style=\"color: #008000; text-decoration-color: #008000\">                                          |</span>\n",
              "<span style=\"color: #008000; text-decoration-color: #008000\">✓ | ⏱: </span><span style=\"color: #008000; text-decoration-color: #008000; font-weight: bold\">0.</span><span style=\"color: #008000; text-decoration-color: #008000\">73s </span>\n",
              "</pre>\n"
            ]
          },
          "metadata": {}
        },
        {
          "output_type": "display_data",
          "data": {
            "text/plain": [
              "\u001b[1;32m[\u001b[0m\u001b[32mCOMPLETE\u001b[0m\u001b[1;32m]\u001b[0m\u001b[32m ● \u001b[0m\u001b[4;32mhttps://www.amazon.com/dp/B07984JN3L?\u001b[0m\u001b[4;32mplattr\u001b[0m\u001b[4;32m=\u001b[0m\u001b[4;32mACOMFO\u001b[0m\u001b[4;32m&\u001b[0m\u001b[4;32mie\u001b[0m\u001b[4;32m=\u001b[0m\u001b[4;32mUTF\u001b[0m\u001b[4;32m-8\u001b[0m\u001b[32m                                          |\u001b[0m\n",
              "\u001b[32m✓\u001b[0m\u001b[32m | ⏱: \u001b[0m\u001b[1;32m4.\u001b[0m\u001b[32m91s \u001b[0m\n"
            ],
            "text/html": [
              "<pre style=\"white-space:pre;overflow-x:auto;line-height:normal;font-family:Menlo,'DejaVu Sans Mono',consolas,'Courier New',monospace\"><span style=\"color: #008000; text-decoration-color: #008000; font-weight: bold\">[</span><span style=\"color: #008000; text-decoration-color: #008000\">COMPLETE</span><span style=\"color: #008000; text-decoration-color: #008000; font-weight: bold\">]</span><span style=\"color: #008000; text-decoration-color: #008000\"> ● </span><span style=\"color: #008000; text-decoration-color: #008000; text-decoration: underline\">https://www.amazon.com/dp/B07984JN3L?plattr=ACOMFO&amp;ie=UTF-8</span><span style=\"color: #008000; text-decoration-color: #008000\">                                          |</span>\n",
              "<span style=\"color: #008000; text-decoration-color: #008000\">✓ | ⏱: </span><span style=\"color: #008000; text-decoration-color: #008000; font-weight: bold\">4.</span><span style=\"color: #008000; text-decoration-color: #008000\">91s </span>\n",
              "</pre>\n"
            ]
          },
          "metadata": {}
        },
        {
          "output_type": "stream",
          "name": "stdout",
          "text": [
            "Markdown saved to amazon_2025-06-30_16-19-30\n"
          ]
        },
        {
          "output_type": "display_data",
          "data": {
            "text/plain": [
              "\u001b[1;36m[\u001b[0m\u001b[36mINIT\u001b[0m\u001b[1;36m]\u001b[0m\u001b[36m...\u001b[0m\u001b[36m. → Crawl4AI \u001b[0m\u001b[1;36m0.6\u001b[0m\u001b[36m.\u001b[0m\u001b[1;36m3\u001b[0m\u001b[36m \u001b[0m\n"
            ],
            "text/html": [
              "<pre style=\"white-space:pre;overflow-x:auto;line-height:normal;font-family:Menlo,'DejaVu Sans Mono',consolas,'Courier New',monospace\"><span style=\"color: #008080; text-decoration-color: #008080; font-weight: bold\">[</span><span style=\"color: #008080; text-decoration-color: #008080\">INIT</span><span style=\"color: #008080; text-decoration-color: #008080; font-weight: bold\">]</span><span style=\"color: #008080; text-decoration-color: #008080\">.... → Crawl4AI </span><span style=\"color: #008080; text-decoration-color: #008080; font-weight: bold\">0.6</span><span style=\"color: #008080; text-decoration-color: #008080\">.</span><span style=\"color: #008080; text-decoration-color: #008080; font-weight: bold\">3</span><span style=\"color: #008080; text-decoration-color: #008080\"> </span>\n",
              "</pre>\n"
            ]
          },
          "metadata": {}
        },
        {
          "output_type": "display_data",
          "data": {
            "text/plain": [
              "\u001b[1;32m[\u001b[0m\u001b[32mFETCH\u001b[0m\u001b[1;32m]\u001b[0m\u001b[32m...\u001b[0m\u001b[32m ↓ \u001b[0m\u001b[4;32mhttps://www.amazon.com/hp/shopwithpoints/servicing\u001b[0m\u001b[32m                                                   |\u001b[0m\n",
              "\u001b[32m✓\u001b[0m\u001b[32m | ⏱: \u001b[0m\u001b[1;32m1.\u001b[0m\u001b[32m85s \u001b[0m\n"
            ],
            "text/html": [
              "<pre style=\"white-space:pre;overflow-x:auto;line-height:normal;font-family:Menlo,'DejaVu Sans Mono',consolas,'Courier New',monospace\"><span style=\"color: #008000; text-decoration-color: #008000; font-weight: bold\">[</span><span style=\"color: #008000; text-decoration-color: #008000\">FETCH</span><span style=\"color: #008000; text-decoration-color: #008000; font-weight: bold\">]</span><span style=\"color: #008000; text-decoration-color: #008000\">... ↓ </span><span style=\"color: #008000; text-decoration-color: #008000; text-decoration: underline\">https://www.amazon.com/hp/shopwithpoints/servicing</span><span style=\"color: #008000; text-decoration-color: #008000\">                                                   |</span>\n",
              "<span style=\"color: #008000; text-decoration-color: #008000\">✓ | ⏱: </span><span style=\"color: #008000; text-decoration-color: #008000; font-weight: bold\">1.</span><span style=\"color: #008000; text-decoration-color: #008000\">85s </span>\n",
              "</pre>\n"
            ]
          },
          "metadata": {}
        },
        {
          "output_type": "display_data",
          "data": {
            "text/plain": [
              "\u001b[1;32m[\u001b[0m\u001b[32mSCRAPE\u001b[0m\u001b[1;32m]\u001b[0m\u001b[32m.. ◆ \u001b[0m\u001b[4;32mhttps://www.amazon.com/hp/shopwithpoints/servicing\u001b[0m\u001b[32m                                                   |\u001b[0m\n",
              "\u001b[32m✓\u001b[0m\u001b[32m | ⏱: \u001b[0m\u001b[1;32m0.\u001b[0m\u001b[32m27s \u001b[0m\n"
            ],
            "text/html": [
              "<pre style=\"white-space:pre;overflow-x:auto;line-height:normal;font-family:Menlo,'DejaVu Sans Mono',consolas,'Courier New',monospace\"><span style=\"color: #008000; text-decoration-color: #008000; font-weight: bold\">[</span><span style=\"color: #008000; text-decoration-color: #008000\">SCRAPE</span><span style=\"color: #008000; text-decoration-color: #008000; font-weight: bold\">]</span><span style=\"color: #008000; text-decoration-color: #008000\">.. ◆ </span><span style=\"color: #008000; text-decoration-color: #008000; text-decoration: underline\">https://www.amazon.com/hp/shopwithpoints/servicing</span><span style=\"color: #008000; text-decoration-color: #008000\">                                                   |</span>\n",
              "<span style=\"color: #008000; text-decoration-color: #008000\">✓ | ⏱: </span><span style=\"color: #008000; text-decoration-color: #008000; font-weight: bold\">0.</span><span style=\"color: #008000; text-decoration-color: #008000\">27s </span>\n",
              "</pre>\n"
            ]
          },
          "metadata": {}
        },
        {
          "output_type": "display_data",
          "data": {
            "text/plain": [
              "\u001b[1;32m[\u001b[0m\u001b[32mCOMPLETE\u001b[0m\u001b[1;32m]\u001b[0m\u001b[32m ● \u001b[0m\u001b[4;32mhttps://www.amazon.com/hp/shopwithpoints/servicing\u001b[0m\u001b[32m                                                   |\u001b[0m\n",
              "\u001b[32m✓\u001b[0m\u001b[32m | ⏱: \u001b[0m\u001b[1;32m2.\u001b[0m\u001b[32m12s \u001b[0m\n"
            ],
            "text/html": [
              "<pre style=\"white-space:pre;overflow-x:auto;line-height:normal;font-family:Menlo,'DejaVu Sans Mono',consolas,'Courier New',monospace\"><span style=\"color: #008000; text-decoration-color: #008000; font-weight: bold\">[</span><span style=\"color: #008000; text-decoration-color: #008000\">COMPLETE</span><span style=\"color: #008000; text-decoration-color: #008000; font-weight: bold\">]</span><span style=\"color: #008000; text-decoration-color: #008000\"> ● </span><span style=\"color: #008000; text-decoration-color: #008000; text-decoration: underline\">https://www.amazon.com/hp/shopwithpoints/servicing</span><span style=\"color: #008000; text-decoration-color: #008000\">                                                   |</span>\n",
              "<span style=\"color: #008000; text-decoration-color: #008000\">✓ | ⏱: </span><span style=\"color: #008000; text-decoration-color: #008000; font-weight: bold\">2.</span><span style=\"color: #008000; text-decoration-color: #008000\">12s </span>\n",
              "</pre>\n"
            ]
          },
          "metadata": {}
        },
        {
          "output_type": "stream",
          "name": "stdout",
          "text": [
            "Markdown saved to amazon_2025-06-30_16-19-33\n"
          ]
        },
        {
          "output_type": "display_data",
          "data": {
            "text/plain": [
              "\u001b[1;36m[\u001b[0m\u001b[36mINIT\u001b[0m\u001b[1;36m]\u001b[0m\u001b[36m...\u001b[0m\u001b[36m. → Crawl4AI \u001b[0m\u001b[1;36m0.6\u001b[0m\u001b[36m.\u001b[0m\u001b[1;36m3\u001b[0m\u001b[36m \u001b[0m\n"
            ],
            "text/html": [
              "<pre style=\"white-space:pre;overflow-x:auto;line-height:normal;font-family:Menlo,'DejaVu Sans Mono',consolas,'Courier New',monospace\"><span style=\"color: #008080; text-decoration-color: #008080; font-weight: bold\">[</span><span style=\"color: #008080; text-decoration-color: #008080\">INIT</span><span style=\"color: #008080; text-decoration-color: #008080; font-weight: bold\">]</span><span style=\"color: #008080; text-decoration-color: #008080\">.... → Crawl4AI </span><span style=\"color: #008080; text-decoration-color: #008080; font-weight: bold\">0.6</span><span style=\"color: #008080; text-decoration-color: #008080\">.</span><span style=\"color: #008080; text-decoration-color: #008080; font-weight: bold\">3</span><span style=\"color: #008080; text-decoration-color: #008080\"> </span>\n",
              "</pre>\n"
            ]
          },
          "metadata": {}
        },
        {
          "output_type": "display_data",
          "data": {
            "text/plain": [
              "\u001b[1;32m[\u001b[0m\u001b[32mFETCH\u001b[0m\u001b[1;32m]\u001b[0m\u001b[32m...\u001b[0m\u001b[32m ↓ \u001b[0m\u001b[4;32mhttps://www.amazon.com/gp/browse.html?\u001b[0m\u001b[4;32mnode\u001b[0m\u001b[4;32m=\u001b[0m\u001b[4;32m3561432011\u001b[0m\u001b[4;32m&\u001b[0m\u001b[4;32mref_\u001b[0m\u001b[4;32m=\u001b[0m\u001b[4;32mfooter_ccmp\u001b[0m\u001b[32m                               |\u001b[0m\n",
              "\u001b[32m✓\u001b[0m\u001b[32m | ⏱: \u001b[0m\u001b[1;32m2.\u001b[0m\u001b[32m08s \u001b[0m\n"
            ],
            "text/html": [
              "<pre style=\"white-space:pre;overflow-x:auto;line-height:normal;font-family:Menlo,'DejaVu Sans Mono',consolas,'Courier New',monospace\"><span style=\"color: #008000; text-decoration-color: #008000; font-weight: bold\">[</span><span style=\"color: #008000; text-decoration-color: #008000\">FETCH</span><span style=\"color: #008000; text-decoration-color: #008000; font-weight: bold\">]</span><span style=\"color: #008000; text-decoration-color: #008000\">... ↓ </span><span style=\"color: #008000; text-decoration-color: #008000; text-decoration: underline\">https://www.amazon.com/gp/browse.html?node=3561432011&amp;ref_=footer_ccmp</span><span style=\"color: #008000; text-decoration-color: #008000\">                               |</span>\n",
              "<span style=\"color: #008000; text-decoration-color: #008000\">✓ | ⏱: </span><span style=\"color: #008000; text-decoration-color: #008000; font-weight: bold\">2.</span><span style=\"color: #008000; text-decoration-color: #008000\">08s </span>\n",
              "</pre>\n"
            ]
          },
          "metadata": {}
        },
        {
          "output_type": "display_data",
          "data": {
            "text/plain": [
              "\u001b[1;32m[\u001b[0m\u001b[32mSCRAPE\u001b[0m\u001b[1;32m]\u001b[0m\u001b[32m.. ◆ \u001b[0m\u001b[4;32mhttps://www.amazon.com/gp/browse.html?\u001b[0m\u001b[4;32mnode\u001b[0m\u001b[4;32m=\u001b[0m\u001b[4;32m3561432011\u001b[0m\u001b[4;32m&\u001b[0m\u001b[4;32mref_\u001b[0m\u001b[4;32m=\u001b[0m\u001b[4;32mfooter_ccmp\u001b[0m\u001b[32m                               |\u001b[0m\n",
              "\u001b[32m✓\u001b[0m\u001b[32m | ⏱: \u001b[0m\u001b[1;32m0.\u001b[0m\u001b[32m24s \u001b[0m\n"
            ],
            "text/html": [
              "<pre style=\"white-space:pre;overflow-x:auto;line-height:normal;font-family:Menlo,'DejaVu Sans Mono',consolas,'Courier New',monospace\"><span style=\"color: #008000; text-decoration-color: #008000; font-weight: bold\">[</span><span style=\"color: #008000; text-decoration-color: #008000\">SCRAPE</span><span style=\"color: #008000; text-decoration-color: #008000; font-weight: bold\">]</span><span style=\"color: #008000; text-decoration-color: #008000\">.. ◆ </span><span style=\"color: #008000; text-decoration-color: #008000; text-decoration: underline\">https://www.amazon.com/gp/browse.html?node=3561432011&amp;ref_=footer_ccmp</span><span style=\"color: #008000; text-decoration-color: #008000\">                               |</span>\n",
              "<span style=\"color: #008000; text-decoration-color: #008000\">✓ | ⏱: </span><span style=\"color: #008000; text-decoration-color: #008000; font-weight: bold\">0.</span><span style=\"color: #008000; text-decoration-color: #008000\">24s </span>\n",
              "</pre>\n"
            ]
          },
          "metadata": {}
        },
        {
          "output_type": "display_data",
          "data": {
            "text/plain": [
              "\u001b[1;32m[\u001b[0m\u001b[32mCOMPLETE\u001b[0m\u001b[1;32m]\u001b[0m\u001b[32m ● \u001b[0m\u001b[4;32mhttps://www.amazon.com/gp/browse.html?\u001b[0m\u001b[4;32mnode\u001b[0m\u001b[4;32m=\u001b[0m\u001b[4;32m3561432011\u001b[0m\u001b[4;32m&\u001b[0m\u001b[4;32mref_\u001b[0m\u001b[4;32m=\u001b[0m\u001b[4;32mfooter_ccmp\u001b[0m\u001b[32m                               |\u001b[0m\n",
              "\u001b[32m✓\u001b[0m\u001b[32m | ⏱: \u001b[0m\u001b[1;32m2.\u001b[0m\u001b[32m34s \u001b[0m\n"
            ],
            "text/html": [
              "<pre style=\"white-space:pre;overflow-x:auto;line-height:normal;font-family:Menlo,'DejaVu Sans Mono',consolas,'Courier New',monospace\"><span style=\"color: #008000; text-decoration-color: #008000; font-weight: bold\">[</span><span style=\"color: #008000; text-decoration-color: #008000\">COMPLETE</span><span style=\"color: #008000; text-decoration-color: #008000; font-weight: bold\">]</span><span style=\"color: #008000; text-decoration-color: #008000\"> ● </span><span style=\"color: #008000; text-decoration-color: #008000; text-decoration: underline\">https://www.amazon.com/gp/browse.html?node=3561432011&amp;ref_=footer_ccmp</span><span style=\"color: #008000; text-decoration-color: #008000\">                               |</span>\n",
              "<span style=\"color: #008000; text-decoration-color: #008000\">✓ | ⏱: </span><span style=\"color: #008000; text-decoration-color: #008000; font-weight: bold\">2.</span><span style=\"color: #008000; text-decoration-color: #008000\">34s </span>\n",
              "</pre>\n"
            ]
          },
          "metadata": {}
        },
        {
          "output_type": "stream",
          "name": "stdout",
          "text": [
            "Markdown saved to amazon_2025-06-30_16-19-37\n"
          ]
        },
        {
          "output_type": "display_data",
          "data": {
            "text/plain": [
              "\u001b[1;36m[\u001b[0m\u001b[36mINIT\u001b[0m\u001b[1;36m]\u001b[0m\u001b[36m...\u001b[0m\u001b[36m. → Crawl4AI \u001b[0m\u001b[1;36m0.6\u001b[0m\u001b[36m.\u001b[0m\u001b[1;36m3\u001b[0m\u001b[36m \u001b[0m\n"
            ],
            "text/html": [
              "<pre style=\"white-space:pre;overflow-x:auto;line-height:normal;font-family:Menlo,'DejaVu Sans Mono',consolas,'Courier New',monospace\"><span style=\"color: #008080; text-decoration-color: #008080; font-weight: bold\">[</span><span style=\"color: #008080; text-decoration-color: #008080\">INIT</span><span style=\"color: #008080; text-decoration-color: #008080; font-weight: bold\">]</span><span style=\"color: #008080; text-decoration-color: #008080\">.... → Crawl4AI </span><span style=\"color: #008080; text-decoration-color: #008080; font-weight: bold\">0.6</span><span style=\"color: #008080; text-decoration-color: #008080\">.</span><span style=\"color: #008080; text-decoration-color: #008080; font-weight: bold\">3</span><span style=\"color: #008080; text-decoration-color: #008080\"> </span>\n",
              "</pre>\n"
            ]
          },
          "metadata": {}
        },
        {
          "output_type": "display_data",
          "data": {
            "text/plain": [
              "\u001b[1;32m[\u001b[0m\u001b[32mFETCH\u001b[0m\u001b[1;32m]\u001b[0m\u001b[32m...\u001b[0m\u001b[32m ↓ \u001b[0m\u001b[4;32mhttps://www.amazon.com/gp/browse.html?\u001b[0m\u001b[4;32mnode\u001b[0m\u001b[4;32m=\u001b[0m\u001b[4;32m10232440011\u001b[0m\u001b[4;32m&\u001b[0m\u001b[4;32mref_\u001b[0m\u001b[4;32m=\u001b[0m\u001b[4;32mfooter_reload_us\u001b[0m\u001b[32m                         |\u001b[0m\n",
              "\u001b[32m✓\u001b[0m\u001b[32m | ⏱: \u001b[0m\u001b[1;32m6.\u001b[0m\u001b[32m84s \u001b[0m\n"
            ],
            "text/html": [
              "<pre style=\"white-space:pre;overflow-x:auto;line-height:normal;font-family:Menlo,'DejaVu Sans Mono',consolas,'Courier New',monospace\"><span style=\"color: #008000; text-decoration-color: #008000; font-weight: bold\">[</span><span style=\"color: #008000; text-decoration-color: #008000\">FETCH</span><span style=\"color: #008000; text-decoration-color: #008000; font-weight: bold\">]</span><span style=\"color: #008000; text-decoration-color: #008000\">... ↓ </span><span style=\"color: #008000; text-decoration-color: #008000; text-decoration: underline\">https://www.amazon.com/gp/browse.html?node=10232440011&amp;ref_=footer_reload_us</span><span style=\"color: #008000; text-decoration-color: #008000\">                         |</span>\n",
              "<span style=\"color: #008000; text-decoration-color: #008000\">✓ | ⏱: </span><span style=\"color: #008000; text-decoration-color: #008000; font-weight: bold\">6.</span><span style=\"color: #008000; text-decoration-color: #008000\">84s </span>\n",
              "</pre>\n"
            ]
          },
          "metadata": {}
        },
        {
          "output_type": "display_data",
          "data": {
            "text/plain": [
              "\u001b[1;32m[\u001b[0m\u001b[32mSCRAPE\u001b[0m\u001b[1;32m]\u001b[0m\u001b[32m.. ◆ \u001b[0m\u001b[4;32mhttps://www.amazon.com/gp/browse.html?\u001b[0m\u001b[4;32mnode\u001b[0m\u001b[4;32m=\u001b[0m\u001b[4;32m10232440011\u001b[0m\u001b[4;32m&\u001b[0m\u001b[4;32mref_\u001b[0m\u001b[4;32m=\u001b[0m\u001b[4;32mfooter_reload_us\u001b[0m\u001b[32m                         |\u001b[0m\n",
              "\u001b[32m✓\u001b[0m\u001b[32m | ⏱: \u001b[0m\u001b[1;32m1.\u001b[0m\u001b[32m42s \u001b[0m\n"
            ],
            "text/html": [
              "<pre style=\"white-space:pre;overflow-x:auto;line-height:normal;font-family:Menlo,'DejaVu Sans Mono',consolas,'Courier New',monospace\"><span style=\"color: #008000; text-decoration-color: #008000; font-weight: bold\">[</span><span style=\"color: #008000; text-decoration-color: #008000\">SCRAPE</span><span style=\"color: #008000; text-decoration-color: #008000; font-weight: bold\">]</span><span style=\"color: #008000; text-decoration-color: #008000\">.. ◆ </span><span style=\"color: #008000; text-decoration-color: #008000; text-decoration: underline\">https://www.amazon.com/gp/browse.html?node=10232440011&amp;ref_=footer_reload_us</span><span style=\"color: #008000; text-decoration-color: #008000\">                         |</span>\n",
              "<span style=\"color: #008000; text-decoration-color: #008000\">✓ | ⏱: </span><span style=\"color: #008000; text-decoration-color: #008000; font-weight: bold\">1.</span><span style=\"color: #008000; text-decoration-color: #008000\">42s </span>\n",
              "</pre>\n"
            ]
          },
          "metadata": {}
        },
        {
          "output_type": "display_data",
          "data": {
            "text/plain": [
              "\u001b[1;32m[\u001b[0m\u001b[32mCOMPLETE\u001b[0m\u001b[1;32m]\u001b[0m\u001b[32m ● \u001b[0m\u001b[4;32mhttps://www.amazon.com/gp/browse.html?\u001b[0m\u001b[4;32mnode\u001b[0m\u001b[4;32m=\u001b[0m\u001b[4;32m10232440011\u001b[0m\u001b[4;32m&\u001b[0m\u001b[4;32mref_\u001b[0m\u001b[4;32m=\u001b[0m\u001b[4;32mfooter_reload_us\u001b[0m\u001b[32m                         |\u001b[0m\n",
              "\u001b[32m✓\u001b[0m\u001b[32m | ⏱: \u001b[0m\u001b[1;32m8.\u001b[0m\u001b[32m30s \u001b[0m\n"
            ],
            "text/html": [
              "<pre style=\"white-space:pre;overflow-x:auto;line-height:normal;font-family:Menlo,'DejaVu Sans Mono',consolas,'Courier New',monospace\"><span style=\"color: #008000; text-decoration-color: #008000; font-weight: bold\">[</span><span style=\"color: #008000; text-decoration-color: #008000\">COMPLETE</span><span style=\"color: #008000; text-decoration-color: #008000; font-weight: bold\">]</span><span style=\"color: #008000; text-decoration-color: #008000\"> ● </span><span style=\"color: #008000; text-decoration-color: #008000; text-decoration: underline\">https://www.amazon.com/gp/browse.html?node=10232440011&amp;ref_=footer_reload_us</span><span style=\"color: #008000; text-decoration-color: #008000\">                         |</span>\n",
              "<span style=\"color: #008000; text-decoration-color: #008000\">✓ | ⏱: </span><span style=\"color: #008000; text-decoration-color: #008000; font-weight: bold\">8.</span><span style=\"color: #008000; text-decoration-color: #008000\">30s </span>\n",
              "</pre>\n"
            ]
          },
          "metadata": {}
        },
        {
          "output_type": "stream",
          "name": "stdout",
          "text": [
            "Markdown saved to amazon_2025-06-30_16-19-46\n"
          ]
        },
        {
          "output_type": "display_data",
          "data": {
            "text/plain": [
              "\u001b[1;36m[\u001b[0m\u001b[36mINIT\u001b[0m\u001b[1;36m]\u001b[0m\u001b[36m...\u001b[0m\u001b[36m. → Crawl4AI \u001b[0m\u001b[1;36m0.6\u001b[0m\u001b[36m.\u001b[0m\u001b[1;36m3\u001b[0m\u001b[36m \u001b[0m\n"
            ],
            "text/html": [
              "<pre style=\"white-space:pre;overflow-x:auto;line-height:normal;font-family:Menlo,'DejaVu Sans Mono',consolas,'Courier New',monospace\"><span style=\"color: #008080; text-decoration-color: #008080; font-weight: bold\">[</span><span style=\"color: #008080; text-decoration-color: #008080\">INIT</span><span style=\"color: #008080; text-decoration-color: #008080; font-weight: bold\">]</span><span style=\"color: #008080; text-decoration-color: #008080\">.... → Crawl4AI </span><span style=\"color: #008080; text-decoration-color: #008080; font-weight: bold\">0.6</span><span style=\"color: #008080; text-decoration-color: #008080\">.</span><span style=\"color: #008080; text-decoration-color: #008080; font-weight: bold\">3</span><span style=\"color: #008080; text-decoration-color: #008080\"> </span>\n",
              "</pre>\n"
            ]
          },
          "metadata": {}
        },
        {
          "output_type": "display_data",
          "data": {
            "text/plain": [
              "\u001b[1;32m[\u001b[0m\u001b[32mFETCH\u001b[0m\u001b[1;32m]\u001b[0m\u001b[32m...\u001b[0m\u001b[32m ↓ \u001b[0m\u001b[4;32mhttps://www.amazon.com/b/?\u001b[0m\u001b[4;32mnode\u001b[0m\u001b[4;32m=\u001b[0m\u001b[4;32m2238192011\u001b[0m\u001b[4;32m&\u001b[0m\u001b[4;32mref\u001b[0m\u001b[4;32m=\u001b[0m\u001b[4;32mshop_footer_payments_gc_desktop\u001b[0m\u001b[32m                        |\u001b[0m\n",
              "\u001b[32m✓\u001b[0m\u001b[32m | ⏱: \u001b[0m\u001b[1;32m4.\u001b[0m\u001b[32m41s \u001b[0m\n"
            ],
            "text/html": [
              "<pre style=\"white-space:pre;overflow-x:auto;line-height:normal;font-family:Menlo,'DejaVu Sans Mono',consolas,'Courier New',monospace\"><span style=\"color: #008000; text-decoration-color: #008000; font-weight: bold\">[</span><span style=\"color: #008000; text-decoration-color: #008000\">FETCH</span><span style=\"color: #008000; text-decoration-color: #008000; font-weight: bold\">]</span><span style=\"color: #008000; text-decoration-color: #008000\">... ↓ </span><span style=\"color: #008000; text-decoration-color: #008000; text-decoration: underline\">https://www.amazon.com/b/?node=2238192011&amp;ref=shop_footer_payments_gc_desktop</span><span style=\"color: #008000; text-decoration-color: #008000\">                        |</span>\n",
              "<span style=\"color: #008000; text-decoration-color: #008000\">✓ | ⏱: </span><span style=\"color: #008000; text-decoration-color: #008000; font-weight: bold\">4.</span><span style=\"color: #008000; text-decoration-color: #008000\">41s </span>\n",
              "</pre>\n"
            ]
          },
          "metadata": {}
        },
        {
          "output_type": "display_data",
          "data": {
            "text/plain": [
              "\u001b[1;32m[\u001b[0m\u001b[32mSCRAPE\u001b[0m\u001b[1;32m]\u001b[0m\u001b[32m.. ◆ \u001b[0m\u001b[4;32mhttps://www.amazon.com/b/?\u001b[0m\u001b[4;32mnode\u001b[0m\u001b[4;32m=\u001b[0m\u001b[4;32m2238192011\u001b[0m\u001b[4;32m&\u001b[0m\u001b[4;32mref\u001b[0m\u001b[4;32m=\u001b[0m\u001b[4;32mshop_footer_payments_gc_desktop\u001b[0m\u001b[32m                        |\u001b[0m\n",
              "\u001b[32m✓\u001b[0m\u001b[32m | ⏱: \u001b[0m\u001b[1;32m0.\u001b[0m\u001b[32m53s \u001b[0m\n"
            ],
            "text/html": [
              "<pre style=\"white-space:pre;overflow-x:auto;line-height:normal;font-family:Menlo,'DejaVu Sans Mono',consolas,'Courier New',monospace\"><span style=\"color: #008000; text-decoration-color: #008000; font-weight: bold\">[</span><span style=\"color: #008000; text-decoration-color: #008000\">SCRAPE</span><span style=\"color: #008000; text-decoration-color: #008000; font-weight: bold\">]</span><span style=\"color: #008000; text-decoration-color: #008000\">.. ◆ </span><span style=\"color: #008000; text-decoration-color: #008000; text-decoration: underline\">https://www.amazon.com/b/?node=2238192011&amp;ref=shop_footer_payments_gc_desktop</span><span style=\"color: #008000; text-decoration-color: #008000\">                        |</span>\n",
              "<span style=\"color: #008000; text-decoration-color: #008000\">✓ | ⏱: </span><span style=\"color: #008000; text-decoration-color: #008000; font-weight: bold\">0.</span><span style=\"color: #008000; text-decoration-color: #008000\">53s </span>\n",
              "</pre>\n"
            ]
          },
          "metadata": {}
        },
        {
          "output_type": "display_data",
          "data": {
            "text/plain": [
              "\u001b[1;32m[\u001b[0m\u001b[32mCOMPLETE\u001b[0m\u001b[1;32m]\u001b[0m\u001b[32m ● \u001b[0m\u001b[4;32mhttps://www.amazon.com/b/?\u001b[0m\u001b[4;32mnode\u001b[0m\u001b[4;32m=\u001b[0m\u001b[4;32m2238192011\u001b[0m\u001b[4;32m&\u001b[0m\u001b[4;32mref\u001b[0m\u001b[4;32m=\u001b[0m\u001b[4;32mshop_footer_payments_gc_desktop\u001b[0m\u001b[32m                        |\u001b[0m\n",
              "\u001b[32m✓\u001b[0m\u001b[32m | ⏱: \u001b[0m\u001b[1;32m4.\u001b[0m\u001b[32m95s \u001b[0m\n"
            ],
            "text/html": [
              "<pre style=\"white-space:pre;overflow-x:auto;line-height:normal;font-family:Menlo,'DejaVu Sans Mono',consolas,'Courier New',monospace\"><span style=\"color: #008000; text-decoration-color: #008000; font-weight: bold\">[</span><span style=\"color: #008000; text-decoration-color: #008000\">COMPLETE</span><span style=\"color: #008000; text-decoration-color: #008000; font-weight: bold\">]</span><span style=\"color: #008000; text-decoration-color: #008000\"> ● </span><span style=\"color: #008000; text-decoration-color: #008000; text-decoration: underline\">https://www.amazon.com/b/?node=2238192011&amp;ref=shop_footer_payments_gc_desktop</span><span style=\"color: #008000; text-decoration-color: #008000\">                        |</span>\n",
              "<span style=\"color: #008000; text-decoration-color: #008000\">✓ | ⏱: </span><span style=\"color: #008000; text-decoration-color: #008000; font-weight: bold\">4.</span><span style=\"color: #008000; text-decoration-color: #008000\">95s </span>\n",
              "</pre>\n"
            ]
          },
          "metadata": {}
        },
        {
          "output_type": "stream",
          "name": "stdout",
          "text": [
            "Markdown saved to amazon_2025-06-30_16-19-53\n"
          ]
        },
        {
          "output_type": "display_data",
          "data": {
            "text/plain": [
              "\u001b[1;36m[\u001b[0m\u001b[36mINIT\u001b[0m\u001b[1;36m]\u001b[0m\u001b[36m...\u001b[0m\u001b[36m. → Crawl4AI \u001b[0m\u001b[1;36m0.6\u001b[0m\u001b[36m.\u001b[0m\u001b[1;36m3\u001b[0m\u001b[36m \u001b[0m\n"
            ],
            "text/html": [
              "<pre style=\"white-space:pre;overflow-x:auto;line-height:normal;font-family:Menlo,'DejaVu Sans Mono',consolas,'Courier New',monospace\"><span style=\"color: #008080; text-decoration-color: #008080; font-weight: bold\">[</span><span style=\"color: #008080; text-decoration-color: #008080\">INIT</span><span style=\"color: #008080; text-decoration-color: #008080; font-weight: bold\">]</span><span style=\"color: #008080; text-decoration-color: #008080\">.... → Crawl4AI </span><span style=\"color: #008080; text-decoration-color: #008080; font-weight: bold\">0.6</span><span style=\"color: #008080; text-decoration-color: #008080\">.</span><span style=\"color: #008080; text-decoration-color: #008080; font-weight: bold\">3</span><span style=\"color: #008080; text-decoration-color: #008080\"> </span>\n",
              "</pre>\n"
            ]
          },
          "metadata": {}
        },
        {
          "output_type": "display_data",
          "data": {
            "text/plain": [
              "\u001b[1;32m[\u001b[0m\u001b[32mFETCH\u001b[0m\u001b[1;32m]\u001b[0m\u001b[32m...\u001b[0m\u001b[32m ↓ \u001b[0m\u001b[4;32mhttps://www.amazon.com/gp/browse.html?\u001b[0m\u001b[4;32mnode\u001b[0m\u001b[4;32m=\u001b[0m\u001b[4;32m388305011\u001b[0m\u001b[4;32m&\u001b[0m\u001b[4;32mref_\u001b[0m\u001b[4;32m=\u001b[0m\u001b[4;32mfooter_tfx\u001b[0m\u001b[32m                                 |\u001b[0m\n",
              "\u001b[32m✓\u001b[0m\u001b[32m | ⏱: \u001b[0m\u001b[1;32m2.\u001b[0m\u001b[32m01s \u001b[0m\n"
            ],
            "text/html": [
              "<pre style=\"white-space:pre;overflow-x:auto;line-height:normal;font-family:Menlo,'DejaVu Sans Mono',consolas,'Courier New',monospace\"><span style=\"color: #008000; text-decoration-color: #008000; font-weight: bold\">[</span><span style=\"color: #008000; text-decoration-color: #008000\">FETCH</span><span style=\"color: #008000; text-decoration-color: #008000; font-weight: bold\">]</span><span style=\"color: #008000; text-decoration-color: #008000\">... ↓ </span><span style=\"color: #008000; text-decoration-color: #008000; text-decoration: underline\">https://www.amazon.com/gp/browse.html?node=388305011&amp;ref_=footer_tfx</span><span style=\"color: #008000; text-decoration-color: #008000\">                                 |</span>\n",
              "<span style=\"color: #008000; text-decoration-color: #008000\">✓ | ⏱: </span><span style=\"color: #008000; text-decoration-color: #008000; font-weight: bold\">2.</span><span style=\"color: #008000; text-decoration-color: #008000\">01s </span>\n",
              "</pre>\n"
            ]
          },
          "metadata": {}
        },
        {
          "output_type": "display_data",
          "data": {
            "text/plain": [
              "\u001b[1;32m[\u001b[0m\u001b[32mSCRAPE\u001b[0m\u001b[1;32m]\u001b[0m\u001b[32m.. ◆ \u001b[0m\u001b[4;32mhttps://www.amazon.com/gp/browse.html?\u001b[0m\u001b[4;32mnode\u001b[0m\u001b[4;32m=\u001b[0m\u001b[4;32m388305011\u001b[0m\u001b[4;32m&\u001b[0m\u001b[4;32mref_\u001b[0m\u001b[4;32m=\u001b[0m\u001b[4;32mfooter_tfx\u001b[0m\u001b[32m                                 |\u001b[0m\n",
              "\u001b[32m✓\u001b[0m\u001b[32m | ⏱: \u001b[0m\u001b[1;32m0.\u001b[0m\u001b[32m24s \u001b[0m\n"
            ],
            "text/html": [
              "<pre style=\"white-space:pre;overflow-x:auto;line-height:normal;font-family:Menlo,'DejaVu Sans Mono',consolas,'Courier New',monospace\"><span style=\"color: #008000; text-decoration-color: #008000; font-weight: bold\">[</span><span style=\"color: #008000; text-decoration-color: #008000\">SCRAPE</span><span style=\"color: #008000; text-decoration-color: #008000; font-weight: bold\">]</span><span style=\"color: #008000; text-decoration-color: #008000\">.. ◆ </span><span style=\"color: #008000; text-decoration-color: #008000; text-decoration: underline\">https://www.amazon.com/gp/browse.html?node=388305011&amp;ref_=footer_tfx</span><span style=\"color: #008000; text-decoration-color: #008000\">                                 |</span>\n",
              "<span style=\"color: #008000; text-decoration-color: #008000\">✓ | ⏱: </span><span style=\"color: #008000; text-decoration-color: #008000; font-weight: bold\">0.</span><span style=\"color: #008000; text-decoration-color: #008000\">24s </span>\n",
              "</pre>\n"
            ]
          },
          "metadata": {}
        },
        {
          "output_type": "display_data",
          "data": {
            "text/plain": [
              "\u001b[1;32m[\u001b[0m\u001b[32mCOMPLETE\u001b[0m\u001b[1;32m]\u001b[0m\u001b[32m ● \u001b[0m\u001b[4;32mhttps://www.amazon.com/gp/browse.html?\u001b[0m\u001b[4;32mnode\u001b[0m\u001b[4;32m=\u001b[0m\u001b[4;32m388305011\u001b[0m\u001b[4;32m&\u001b[0m\u001b[4;32mref_\u001b[0m\u001b[4;32m=\u001b[0m\u001b[4;32mfooter_tfx\u001b[0m\u001b[32m                                 |\u001b[0m\n",
              "\u001b[32m✓\u001b[0m\u001b[32m | ⏱: \u001b[0m\u001b[1;32m2.\u001b[0m\u001b[32m26s \u001b[0m\n"
            ],
            "text/html": [
              "<pre style=\"white-space:pre;overflow-x:auto;line-height:normal;font-family:Menlo,'DejaVu Sans Mono',consolas,'Courier New',monospace\"><span style=\"color: #008000; text-decoration-color: #008000; font-weight: bold\">[</span><span style=\"color: #008000; text-decoration-color: #008000\">COMPLETE</span><span style=\"color: #008000; text-decoration-color: #008000; font-weight: bold\">]</span><span style=\"color: #008000; text-decoration-color: #008000\"> ● </span><span style=\"color: #008000; text-decoration-color: #008000; text-decoration: underline\">https://www.amazon.com/gp/browse.html?node=388305011&amp;ref_=footer_tfx</span><span style=\"color: #008000; text-decoration-color: #008000\">                                 |</span>\n",
              "<span style=\"color: #008000; text-decoration-color: #008000\">✓ | ⏱: </span><span style=\"color: #008000; text-decoration-color: #008000; font-weight: bold\">2.</span><span style=\"color: #008000; text-decoration-color: #008000\">26s </span>\n",
              "</pre>\n"
            ]
          },
          "metadata": {}
        },
        {
          "output_type": "stream",
          "name": "stdout",
          "text": [
            "Markdown saved to amazon_2025-06-30_16-19-56\n"
          ]
        },
        {
          "output_type": "display_data",
          "data": {
            "text/plain": [
              "\u001b[1;36m[\u001b[0m\u001b[36mINIT\u001b[0m\u001b[1;36m]\u001b[0m\u001b[36m...\u001b[0m\u001b[36m. → Crawl4AI \u001b[0m\u001b[1;36m0.6\u001b[0m\u001b[36m.\u001b[0m\u001b[1;36m3\u001b[0m\u001b[36m \u001b[0m\n"
            ],
            "text/html": [
              "<pre style=\"white-space:pre;overflow-x:auto;line-height:normal;font-family:Menlo,'DejaVu Sans Mono',consolas,'Courier New',monospace\"><span style=\"color: #008080; text-decoration-color: #008080; font-weight: bold\">[</span><span style=\"color: #008080; text-decoration-color: #008080\">INIT</span><span style=\"color: #008080; text-decoration-color: #008080; font-weight: bold\">]</span><span style=\"color: #008080; text-decoration-color: #008080\">.... → Crawl4AI </span><span style=\"color: #008080; text-decoration-color: #008080; font-weight: bold\">0.6</span><span style=\"color: #008080; text-decoration-color: #008080\">.</span><span style=\"color: #008080; text-decoration-color: #008080; font-weight: bold\">3</span><span style=\"color: #008080; text-decoration-color: #008080\"> </span>\n",
              "</pre>\n"
            ]
          },
          "metadata": {}
        },
        {
          "output_type": "display_data",
          "data": {
            "text/plain": [
              "\u001b[1;32m[\u001b[0m\u001b[32mFETCH\u001b[0m\u001b[1;32m]\u001b[0m\u001b[32m...\u001b[0m\u001b[32m ↓ \u001b[0m\u001b[4;32mhttps://www.amazon.com/gp/prime?\u001b[0m\u001b[4;32mref_\u001b[0m\u001b[4;32m=\u001b[0m\u001b[4;32mfooter_prime\u001b[0m\u001b[32m                                                    |\u001b[0m\n",
              "\u001b[32m✓\u001b[0m\u001b[32m | ⏱: \u001b[0m\u001b[1;32m2.\u001b[0m\u001b[32m24s \u001b[0m\n"
            ],
            "text/html": [
              "<pre style=\"white-space:pre;overflow-x:auto;line-height:normal;font-family:Menlo,'DejaVu Sans Mono',consolas,'Courier New',monospace\"><span style=\"color: #008000; text-decoration-color: #008000; font-weight: bold\">[</span><span style=\"color: #008000; text-decoration-color: #008000\">FETCH</span><span style=\"color: #008000; text-decoration-color: #008000; font-weight: bold\">]</span><span style=\"color: #008000; text-decoration-color: #008000\">... ↓ </span><span style=\"color: #008000; text-decoration-color: #008000; text-decoration: underline\">https://www.amazon.com/gp/prime?ref_=footer_prime</span><span style=\"color: #008000; text-decoration-color: #008000\">                                                    |</span>\n",
              "<span style=\"color: #008000; text-decoration-color: #008000\">✓ | ⏱: </span><span style=\"color: #008000; text-decoration-color: #008000; font-weight: bold\">2.</span><span style=\"color: #008000; text-decoration-color: #008000\">24s </span>\n",
              "</pre>\n"
            ]
          },
          "metadata": {}
        },
        {
          "output_type": "display_data",
          "data": {
            "text/plain": [
              "\u001b[1;32m[\u001b[0m\u001b[32mSCRAPE\u001b[0m\u001b[1;32m]\u001b[0m\u001b[32m.. ◆ \u001b[0m\u001b[4;32mhttps://www.amazon.com/gp/prime?\u001b[0m\u001b[4;32mref_\u001b[0m\u001b[4;32m=\u001b[0m\u001b[4;32mfooter_prime\u001b[0m\u001b[32m                                                    |\u001b[0m\n",
              "\u001b[32m✓\u001b[0m\u001b[32m | ⏱: \u001b[0m\u001b[1;32m0.\u001b[0m\u001b[32m21s \u001b[0m\n"
            ],
            "text/html": [
              "<pre style=\"white-space:pre;overflow-x:auto;line-height:normal;font-family:Menlo,'DejaVu Sans Mono',consolas,'Courier New',monospace\"><span style=\"color: #008000; text-decoration-color: #008000; font-weight: bold\">[</span><span style=\"color: #008000; text-decoration-color: #008000\">SCRAPE</span><span style=\"color: #008000; text-decoration-color: #008000; font-weight: bold\">]</span><span style=\"color: #008000; text-decoration-color: #008000\">.. ◆ </span><span style=\"color: #008000; text-decoration-color: #008000; text-decoration: underline\">https://www.amazon.com/gp/prime?ref_=footer_prime</span><span style=\"color: #008000; text-decoration-color: #008000\">                                                    |</span>\n",
              "<span style=\"color: #008000; text-decoration-color: #008000\">✓ | ⏱: </span><span style=\"color: #008000; text-decoration-color: #008000; font-weight: bold\">0.</span><span style=\"color: #008000; text-decoration-color: #008000\">21s </span>\n",
              "</pre>\n"
            ]
          },
          "metadata": {}
        },
        {
          "output_type": "display_data",
          "data": {
            "text/plain": [
              "\u001b[1;32m[\u001b[0m\u001b[32mCOMPLETE\u001b[0m\u001b[1;32m]\u001b[0m\u001b[32m ● \u001b[0m\u001b[4;32mhttps://www.amazon.com/gp/prime?\u001b[0m\u001b[4;32mref_\u001b[0m\u001b[4;32m=\u001b[0m\u001b[4;32mfooter_prime\u001b[0m\u001b[32m                                                    |\u001b[0m\n",
              "\u001b[32m✓\u001b[0m\u001b[32m | ⏱: \u001b[0m\u001b[1;32m2.\u001b[0m\u001b[32m46s \u001b[0m\n"
            ],
            "text/html": [
              "<pre style=\"white-space:pre;overflow-x:auto;line-height:normal;font-family:Menlo,'DejaVu Sans Mono',consolas,'Courier New',monospace\"><span style=\"color: #008000; text-decoration-color: #008000; font-weight: bold\">[</span><span style=\"color: #008000; text-decoration-color: #008000\">COMPLETE</span><span style=\"color: #008000; text-decoration-color: #008000; font-weight: bold\">]</span><span style=\"color: #008000; text-decoration-color: #008000\"> ● </span><span style=\"color: #008000; text-decoration-color: #008000; text-decoration: underline\">https://www.amazon.com/gp/prime?ref_=footer_prime</span><span style=\"color: #008000; text-decoration-color: #008000\">                                                    |</span>\n",
              "<span style=\"color: #008000; text-decoration-color: #008000\">✓ | ⏱: </span><span style=\"color: #008000; text-decoration-color: #008000; font-weight: bold\">2.</span><span style=\"color: #008000; text-decoration-color: #008000\">46s </span>\n",
              "</pre>\n"
            ]
          },
          "metadata": {}
        },
        {
          "output_type": "stream",
          "name": "stdout",
          "text": [
            "Markdown saved to amazon_2025-06-30_16-19-59\n"
          ]
        },
        {
          "output_type": "display_data",
          "data": {
            "text/plain": [
              "\u001b[1;36m[\u001b[0m\u001b[36mINIT\u001b[0m\u001b[1;36m]\u001b[0m\u001b[36m...\u001b[0m\u001b[36m. → Crawl4AI \u001b[0m\u001b[1;36m0.6\u001b[0m\u001b[36m.\u001b[0m\u001b[1;36m3\u001b[0m\u001b[36m \u001b[0m\n"
            ],
            "text/html": [
              "<pre style=\"white-space:pre;overflow-x:auto;line-height:normal;font-family:Menlo,'DejaVu Sans Mono',consolas,'Courier New',monospace\"><span style=\"color: #008080; text-decoration-color: #008080; font-weight: bold\">[</span><span style=\"color: #008080; text-decoration-color: #008080\">INIT</span><span style=\"color: #008080; text-decoration-color: #008080; font-weight: bold\">]</span><span style=\"color: #008080; text-decoration-color: #008080\">.... → Crawl4AI </span><span style=\"color: #008080; text-decoration-color: #008080; font-weight: bold\">0.6</span><span style=\"color: #008080; text-decoration-color: #008080\">.</span><span style=\"color: #008080; text-decoration-color: #008080; font-weight: bold\">3</span><span style=\"color: #008080; text-decoration-color: #008080\"> </span>\n",
              "</pre>\n"
            ]
          },
          "metadata": {}
        },
        {
          "output_type": "display_data",
          "data": {
            "text/plain": [
              "\u001b[1;32m[\u001b[0m\u001b[32mFETCH\u001b[0m\u001b[1;32m]\u001b[0m\u001b[32m...\u001b[0m\u001b[32m ↓ \u001b[0m\u001b[4;32mhttps://www.amazon.com/hz/mycd/myx?\u001b[0m\u001b[4;32mref_\u001b[0m\u001b[4;32m=\u001b[0m\u001b[4;32mfooter_myk\u001b[0m\u001b[32m                                                   |\u001b[0m\n",
              "\u001b[32m✓\u001b[0m\u001b[32m | ⏱: \u001b[0m\u001b[1;32m2.\u001b[0m\u001b[32m65s \u001b[0m\n"
            ],
            "text/html": [
              "<pre style=\"white-space:pre;overflow-x:auto;line-height:normal;font-family:Menlo,'DejaVu Sans Mono',consolas,'Courier New',monospace\"><span style=\"color: #008000; text-decoration-color: #008000; font-weight: bold\">[</span><span style=\"color: #008000; text-decoration-color: #008000\">FETCH</span><span style=\"color: #008000; text-decoration-color: #008000; font-weight: bold\">]</span><span style=\"color: #008000; text-decoration-color: #008000\">... ↓ </span><span style=\"color: #008000; text-decoration-color: #008000; text-decoration: underline\">https://www.amazon.com/hz/mycd/myx?ref_=footer_myk</span><span style=\"color: #008000; text-decoration-color: #008000\">                                                   |</span>\n",
              "<span style=\"color: #008000; text-decoration-color: #008000\">✓ | ⏱: </span><span style=\"color: #008000; text-decoration-color: #008000; font-weight: bold\">2.</span><span style=\"color: #008000; text-decoration-color: #008000\">65s </span>\n",
              "</pre>\n"
            ]
          },
          "metadata": {}
        },
        {
          "output_type": "display_data",
          "data": {
            "text/plain": [
              "\u001b[1;32m[\u001b[0m\u001b[32mSCRAPE\u001b[0m\u001b[1;32m]\u001b[0m\u001b[32m.. ◆ \u001b[0m\u001b[4;32mhttps://www.amazon.com/hz/mycd/myx?\u001b[0m\u001b[4;32mref_\u001b[0m\u001b[4;32m=\u001b[0m\u001b[4;32mfooter_myk\u001b[0m\u001b[32m                                                   |\u001b[0m\n",
              "\u001b[32m✓\u001b[0m\u001b[32m | ⏱: \u001b[0m\u001b[1;32m0.\u001b[0m\u001b[32m09s \u001b[0m\n"
            ],
            "text/html": [
              "<pre style=\"white-space:pre;overflow-x:auto;line-height:normal;font-family:Menlo,'DejaVu Sans Mono',consolas,'Courier New',monospace\"><span style=\"color: #008000; text-decoration-color: #008000; font-weight: bold\">[</span><span style=\"color: #008000; text-decoration-color: #008000\">SCRAPE</span><span style=\"color: #008000; text-decoration-color: #008000; font-weight: bold\">]</span><span style=\"color: #008000; text-decoration-color: #008000\">.. ◆ </span><span style=\"color: #008000; text-decoration-color: #008000; text-decoration: underline\">https://www.amazon.com/hz/mycd/myx?ref_=footer_myk</span><span style=\"color: #008000; text-decoration-color: #008000\">                                                   |</span>\n",
              "<span style=\"color: #008000; text-decoration-color: #008000\">✓ | ⏱: </span><span style=\"color: #008000; text-decoration-color: #008000; font-weight: bold\">0.</span><span style=\"color: #008000; text-decoration-color: #008000\">09s </span>\n",
              "</pre>\n"
            ]
          },
          "metadata": {}
        },
        {
          "output_type": "display_data",
          "data": {
            "text/plain": [
              "\u001b[1;32m[\u001b[0m\u001b[32mCOMPLETE\u001b[0m\u001b[1;32m]\u001b[0m\u001b[32m ● \u001b[0m\u001b[4;32mhttps://www.amazon.com/hz/mycd/myx?\u001b[0m\u001b[4;32mref_\u001b[0m\u001b[4;32m=\u001b[0m\u001b[4;32mfooter_myk\u001b[0m\u001b[32m                                                   |\u001b[0m\n",
              "\u001b[32m✓\u001b[0m\u001b[32m | ⏱: \u001b[0m\u001b[1;32m2.\u001b[0m\u001b[32m76s \u001b[0m\n"
            ],
            "text/html": [
              "<pre style=\"white-space:pre;overflow-x:auto;line-height:normal;font-family:Menlo,'DejaVu Sans Mono',consolas,'Courier New',monospace\"><span style=\"color: #008000; text-decoration-color: #008000; font-weight: bold\">[</span><span style=\"color: #008000; text-decoration-color: #008000\">COMPLETE</span><span style=\"color: #008000; text-decoration-color: #008000; font-weight: bold\">]</span><span style=\"color: #008000; text-decoration-color: #008000\"> ● </span><span style=\"color: #008000; text-decoration-color: #008000; text-decoration: underline\">https://www.amazon.com/hz/mycd/myx?ref_=footer_myk</span><span style=\"color: #008000; text-decoration-color: #008000\">                                                   |</span>\n",
              "<span style=\"color: #008000; text-decoration-color: #008000\">✓ | ⏱: </span><span style=\"color: #008000; text-decoration-color: #008000; font-weight: bold\">2.</span><span style=\"color: #008000; text-decoration-color: #008000\">76s </span>\n",
              "</pre>\n"
            ]
          },
          "metadata": {}
        },
        {
          "output_type": "stream",
          "name": "stdout",
          "text": [
            "Markdown saved to amazon_2025-06-30_16-20-03\n"
          ]
        },
        {
          "output_type": "display_data",
          "data": {
            "text/plain": [
              "\u001b[1;36m[\u001b[0m\u001b[36mINIT\u001b[0m\u001b[1;36m]\u001b[0m\u001b[36m...\u001b[0m\u001b[36m. → Crawl4AI \u001b[0m\u001b[1;36m0.6\u001b[0m\u001b[36m.\u001b[0m\u001b[1;36m3\u001b[0m\u001b[36m \u001b[0m\n"
            ],
            "text/html": [
              "<pre style=\"white-space:pre;overflow-x:auto;line-height:normal;font-family:Menlo,'DejaVu Sans Mono',consolas,'Courier New',monospace\"><span style=\"color: #008080; text-decoration-color: #008080; font-weight: bold\">[</span><span style=\"color: #008080; text-decoration-color: #008080\">INIT</span><span style=\"color: #008080; text-decoration-color: #008080; font-weight: bold\">]</span><span style=\"color: #008080; text-decoration-color: #008080\">.... → Crawl4AI </span><span style=\"color: #008080; text-decoration-color: #008080; font-weight: bold\">0.6</span><span style=\"color: #008080; text-decoration-color: #008080\">.</span><span style=\"color: #008080; text-decoration-color: #008080; font-weight: bold\">3</span><span style=\"color: #008080; text-decoration-color: #008080\"> </span>\n",
              "</pre>\n"
            ]
          },
          "metadata": {}
        },
        {
          "output_type": "display_data",
          "data": {
            "text/plain": [
              "\u001b[1;32m[\u001b[0m\u001b[32mFETCH\u001b[0m\u001b[1;32m]\u001b[0m\u001b[32m...\u001b[0m\u001b[32m ↓ \u001b[0m\u001b[4;32mhttps://www.amazon.com/product-safety-alerts?\u001b[0m\u001b[4;32mref_\u001b[0m\u001b[4;32m=\u001b[0m\u001b[4;32mfooter_bsx_ypsa\u001b[0m\u001b[32m                                    |\u001b[0m\n",
              "\u001b[32m✓\u001b[0m\u001b[32m | ⏱: \u001b[0m\u001b[1;32m2.\u001b[0m\u001b[32m95s \u001b[0m\n"
            ],
            "text/html": [
              "<pre style=\"white-space:pre;overflow-x:auto;line-height:normal;font-family:Menlo,'DejaVu Sans Mono',consolas,'Courier New',monospace\"><span style=\"color: #008000; text-decoration-color: #008000; font-weight: bold\">[</span><span style=\"color: #008000; text-decoration-color: #008000\">FETCH</span><span style=\"color: #008000; text-decoration-color: #008000; font-weight: bold\">]</span><span style=\"color: #008000; text-decoration-color: #008000\">... ↓ </span><span style=\"color: #008000; text-decoration-color: #008000; text-decoration: underline\">https://www.amazon.com/product-safety-alerts?ref_=footer_bsx_ypsa</span><span style=\"color: #008000; text-decoration-color: #008000\">                                    |</span>\n",
              "<span style=\"color: #008000; text-decoration-color: #008000\">✓ | ⏱: </span><span style=\"color: #008000; text-decoration-color: #008000; font-weight: bold\">2.</span><span style=\"color: #008000; text-decoration-color: #008000\">95s </span>\n",
              "</pre>\n"
            ]
          },
          "metadata": {}
        },
        {
          "output_type": "display_data",
          "data": {
            "text/plain": [
              "\u001b[1;32m[\u001b[0m\u001b[32mSCRAPE\u001b[0m\u001b[1;32m]\u001b[0m\u001b[32m.. ◆ \u001b[0m\u001b[4;32mhttps://www.amazon.com/product-safety-alerts?\u001b[0m\u001b[4;32mref_\u001b[0m\u001b[4;32m=\u001b[0m\u001b[4;32mfooter_bsx_ypsa\u001b[0m\u001b[32m                                    |\u001b[0m\n",
              "\u001b[32m✓\u001b[0m\u001b[32m | ⏱: \u001b[0m\u001b[1;32m0.\u001b[0m\u001b[32m34s \u001b[0m\n"
            ],
            "text/html": [
              "<pre style=\"white-space:pre;overflow-x:auto;line-height:normal;font-family:Menlo,'DejaVu Sans Mono',consolas,'Courier New',monospace\"><span style=\"color: #008000; text-decoration-color: #008000; font-weight: bold\">[</span><span style=\"color: #008000; text-decoration-color: #008000\">SCRAPE</span><span style=\"color: #008000; text-decoration-color: #008000; font-weight: bold\">]</span><span style=\"color: #008000; text-decoration-color: #008000\">.. ◆ </span><span style=\"color: #008000; text-decoration-color: #008000; text-decoration: underline\">https://www.amazon.com/product-safety-alerts?ref_=footer_bsx_ypsa</span><span style=\"color: #008000; text-decoration-color: #008000\">                                    |</span>\n",
              "<span style=\"color: #008000; text-decoration-color: #008000\">✓ | ⏱: </span><span style=\"color: #008000; text-decoration-color: #008000; font-weight: bold\">0.</span><span style=\"color: #008000; text-decoration-color: #008000\">34s </span>\n",
              "</pre>\n"
            ]
          },
          "metadata": {}
        },
        {
          "output_type": "display_data",
          "data": {
            "text/plain": [
              "\u001b[1;32m[\u001b[0m\u001b[32mCOMPLETE\u001b[0m\u001b[1;32m]\u001b[0m\u001b[32m ● \u001b[0m\u001b[4;32mhttps://www.amazon.com/product-safety-alerts?\u001b[0m\u001b[4;32mref_\u001b[0m\u001b[4;32m=\u001b[0m\u001b[4;32mfooter_bsx_ypsa\u001b[0m\u001b[32m                                    |\u001b[0m\n",
              "\u001b[32m✓\u001b[0m\u001b[32m | ⏱: \u001b[0m\u001b[1;32m3.\u001b[0m\u001b[32m30s \u001b[0m\n"
            ],
            "text/html": [
              "<pre style=\"white-space:pre;overflow-x:auto;line-height:normal;font-family:Menlo,'DejaVu Sans Mono',consolas,'Courier New',monospace\"><span style=\"color: #008000; text-decoration-color: #008000; font-weight: bold\">[</span><span style=\"color: #008000; text-decoration-color: #008000\">COMPLETE</span><span style=\"color: #008000; text-decoration-color: #008000; font-weight: bold\">]</span><span style=\"color: #008000; text-decoration-color: #008000\"> ● </span><span style=\"color: #008000; text-decoration-color: #008000; text-decoration: underline\">https://www.amazon.com/product-safety-alerts?ref_=footer_bsx_ypsa</span><span style=\"color: #008000; text-decoration-color: #008000\">                                    |</span>\n",
              "<span style=\"color: #008000; text-decoration-color: #008000\">✓ | ⏱: </span><span style=\"color: #008000; text-decoration-color: #008000; font-weight: bold\">3.</span><span style=\"color: #008000; text-decoration-color: #008000\">30s </span>\n",
              "</pre>\n"
            ]
          },
          "metadata": {}
        },
        {
          "output_type": "stream",
          "name": "stdout",
          "text": [
            "Markdown saved to amazon_2025-06-30_16-20-08\n"
          ]
        },
        {
          "output_type": "display_data",
          "data": {
            "text/plain": [
              "\u001b[1;36m[\u001b[0m\u001b[36mINIT\u001b[0m\u001b[1;36m]\u001b[0m\u001b[36m...\u001b[0m\u001b[36m. → Crawl4AI \u001b[0m\u001b[1;36m0.6\u001b[0m\u001b[36m.\u001b[0m\u001b[1;36m3\u001b[0m\u001b[36m \u001b[0m\n"
            ],
            "text/html": [
              "<pre style=\"white-space:pre;overflow-x:auto;line-height:normal;font-family:Menlo,'DejaVu Sans Mono',consolas,'Courier New',monospace\"><span style=\"color: #008080; text-decoration-color: #008080; font-weight: bold\">[</span><span style=\"color: #008080; text-decoration-color: #008080\">INIT</span><span style=\"color: #008080; text-decoration-color: #008080; font-weight: bold\">]</span><span style=\"color: #008080; text-decoration-color: #008080\">.... → Crawl4AI </span><span style=\"color: #008080; text-decoration-color: #008080; font-weight: bold\">0.6</span><span style=\"color: #008080; text-decoration-color: #008080\">.</span><span style=\"color: #008080; text-decoration-color: #008080; font-weight: bold\">3</span><span style=\"color: #008080; text-decoration-color: #008080\"> </span>\n",
              "</pre>\n"
            ]
          },
          "metadata": {}
        },
        {
          "output_type": "display_data",
          "data": {
            "text/plain": [
              "\u001b[1;32m[\u001b[0m\u001b[32mFETCH\u001b[0m\u001b[1;32m]\u001b[0m\u001b[32m...\u001b[0m\u001b[32m ↓ \u001b[0m\u001b[4;32mhttps://www.amazon.com/registries?\u001b[0m\u001b[4;32mref_\u001b[0m\u001b[4;32m=\u001b[0m\u001b[4;32mnav_footer_registry_giftlist_desktop\u001b[0m\u001b[32m                          |\u001b[0m\n",
              "\u001b[32m✓\u001b[0m\u001b[32m | ⏱: \u001b[0m\u001b[1;32m1.\u001b[0m\u001b[32m98s \u001b[0m\n"
            ],
            "text/html": [
              "<pre style=\"white-space:pre;overflow-x:auto;line-height:normal;font-family:Menlo,'DejaVu Sans Mono',consolas,'Courier New',monospace\"><span style=\"color: #008000; text-decoration-color: #008000; font-weight: bold\">[</span><span style=\"color: #008000; text-decoration-color: #008000\">FETCH</span><span style=\"color: #008000; text-decoration-color: #008000; font-weight: bold\">]</span><span style=\"color: #008000; text-decoration-color: #008000\">... ↓ </span><span style=\"color: #008000; text-decoration-color: #008000; text-decoration: underline\">https://www.amazon.com/registries?ref_=nav_footer_registry_giftlist_desktop</span><span style=\"color: #008000; text-decoration-color: #008000\">                          |</span>\n",
              "<span style=\"color: #008000; text-decoration-color: #008000\">✓ | ⏱: </span><span style=\"color: #008000; text-decoration-color: #008000; font-weight: bold\">1.</span><span style=\"color: #008000; text-decoration-color: #008000\">98s </span>\n",
              "</pre>\n"
            ]
          },
          "metadata": {}
        },
        {
          "output_type": "display_data",
          "data": {
            "text/plain": [
              "\u001b[1;32m[\u001b[0m\u001b[32mSCRAPE\u001b[0m\u001b[1;32m]\u001b[0m\u001b[32m.. ◆ \u001b[0m\u001b[4;32mhttps://www.amazon.com/registries?\u001b[0m\u001b[4;32mref_\u001b[0m\u001b[4;32m=\u001b[0m\u001b[4;32mnav_footer_registry_giftlist_desktop\u001b[0m\u001b[32m                          |\u001b[0m\n",
              "\u001b[32m✓\u001b[0m\u001b[32m | ⏱: \u001b[0m\u001b[1;32m0.\u001b[0m\u001b[32m22s \u001b[0m\n"
            ],
            "text/html": [
              "<pre style=\"white-space:pre;overflow-x:auto;line-height:normal;font-family:Menlo,'DejaVu Sans Mono',consolas,'Courier New',monospace\"><span style=\"color: #008000; text-decoration-color: #008000; font-weight: bold\">[</span><span style=\"color: #008000; text-decoration-color: #008000\">SCRAPE</span><span style=\"color: #008000; text-decoration-color: #008000; font-weight: bold\">]</span><span style=\"color: #008000; text-decoration-color: #008000\">.. ◆ </span><span style=\"color: #008000; text-decoration-color: #008000; text-decoration: underline\">https://www.amazon.com/registries?ref_=nav_footer_registry_giftlist_desktop</span><span style=\"color: #008000; text-decoration-color: #008000\">                          |</span>\n",
              "<span style=\"color: #008000; text-decoration-color: #008000\">✓ | ⏱: </span><span style=\"color: #008000; text-decoration-color: #008000; font-weight: bold\">0.</span><span style=\"color: #008000; text-decoration-color: #008000\">22s </span>\n",
              "</pre>\n"
            ]
          },
          "metadata": {}
        },
        {
          "output_type": "display_data",
          "data": {
            "text/plain": [
              "\u001b[1;32m[\u001b[0m\u001b[32mCOMPLETE\u001b[0m\u001b[1;32m]\u001b[0m\u001b[32m ● \u001b[0m\u001b[4;32mhttps://www.amazon.com/registries?\u001b[0m\u001b[4;32mref_\u001b[0m\u001b[4;32m=\u001b[0m\u001b[4;32mnav_footer_registry_giftlist_desktop\u001b[0m\u001b[32m                          |\u001b[0m\n",
              "\u001b[32m✓\u001b[0m\u001b[32m | ⏱: \u001b[0m\u001b[1;32m2.\u001b[0m\u001b[32m21s \u001b[0m\n"
            ],
            "text/html": [
              "<pre style=\"white-space:pre;overflow-x:auto;line-height:normal;font-family:Menlo,'DejaVu Sans Mono',consolas,'Courier New',monospace\"><span style=\"color: #008000; text-decoration-color: #008000; font-weight: bold\">[</span><span style=\"color: #008000; text-decoration-color: #008000\">COMPLETE</span><span style=\"color: #008000; text-decoration-color: #008000; font-weight: bold\">]</span><span style=\"color: #008000; text-decoration-color: #008000\"> ● </span><span style=\"color: #008000; text-decoration-color: #008000; text-decoration: underline\">https://www.amazon.com/registries?ref_=nav_footer_registry_giftlist_desktop</span><span style=\"color: #008000; text-decoration-color: #008000\">                          |</span>\n",
              "<span style=\"color: #008000; text-decoration-color: #008000\">✓ | ⏱: </span><span style=\"color: #008000; text-decoration-color: #008000; font-weight: bold\">2.</span><span style=\"color: #008000; text-decoration-color: #008000\">21s </span>\n",
              "</pre>\n"
            ]
          },
          "metadata": {}
        },
        {
          "output_type": "stream",
          "name": "stdout",
          "text": [
            "Markdown saved to amazon_2025-06-30_16-20-11\n"
          ]
        },
        {
          "output_type": "display_data",
          "data": {
            "text/plain": [
              "\u001b[1;36m[\u001b[0m\u001b[36mINIT\u001b[0m\u001b[1;36m]\u001b[0m\u001b[36m...\u001b[0m\u001b[36m. → Crawl4AI \u001b[0m\u001b[1;36m0.6\u001b[0m\u001b[36m.\u001b[0m\u001b[1;36m3\u001b[0m\u001b[36m \u001b[0m\n"
            ],
            "text/html": [
              "<pre style=\"white-space:pre;overflow-x:auto;line-height:normal;font-family:Menlo,'DejaVu Sans Mono',consolas,'Courier New',monospace\"><span style=\"color: #008080; text-decoration-color: #008080; font-weight: bold\">[</span><span style=\"color: #008080; text-decoration-color: #008080\">INIT</span><span style=\"color: #008080; text-decoration-color: #008080; font-weight: bold\">]</span><span style=\"color: #008080; text-decoration-color: #008080\">.... → Crawl4AI </span><span style=\"color: #008080; text-decoration-color: #008080; font-weight: bold\">0.6</span><span style=\"color: #008080; text-decoration-color: #008080\">.</span><span style=\"color: #008080; text-decoration-color: #008080; font-weight: bold\">3</span><span style=\"color: #008080; text-decoration-color: #008080\"> </span>\n",
              "</pre>\n"
            ]
          },
          "metadata": {}
        },
        {
          "output_type": "display_data",
          "data": {
            "text/plain": [
              "\u001b[1;32m[\u001b[0m\u001b[32mFETCH\u001b[0m\u001b[1;32m]\u001b[0m\u001b[32m...\u001b[0m\u001b[32m ↓ \u001b[0m\u001b[4;32mhttps://www.amazon.com/alm/storefront?\u001b[0m\u001b[4;32malmBrandId\u001b[0m\u001b[4;32m=\u001b[0m\u001b[4;32mQW1hem9uIEZyZXNo\u001b[0m\u001b[4;32m&\u001b[0m\u001b[4;32mref_\u001b[0m\u001b[4;32m=\u001b[0m\u001b[4;32mfooter_aff_fresh\u001b[0m\u001b[32m              |\u001b[0m\n",
              "\u001b[32m✓\u001b[0m\u001b[32m | ⏱: \u001b[0m\u001b[1;32m2.\u001b[0m\u001b[32m59s \u001b[0m\n"
            ],
            "text/html": [
              "<pre style=\"white-space:pre;overflow-x:auto;line-height:normal;font-family:Menlo,'DejaVu Sans Mono',consolas,'Courier New',monospace\"><span style=\"color: #008000; text-decoration-color: #008000; font-weight: bold\">[</span><span style=\"color: #008000; text-decoration-color: #008000\">FETCH</span><span style=\"color: #008000; text-decoration-color: #008000; font-weight: bold\">]</span><span style=\"color: #008000; text-decoration-color: #008000\">... ↓ </span><span style=\"color: #008000; text-decoration-color: #008000; text-decoration: underline\">https://www.amazon.com/alm/storefront?almBrandId=QW1hem9uIEZyZXNo&amp;ref_=footer_aff_fresh</span><span style=\"color: #008000; text-decoration-color: #008000\">              |</span>\n",
              "<span style=\"color: #008000; text-decoration-color: #008000\">✓ | ⏱: </span><span style=\"color: #008000; text-decoration-color: #008000; font-weight: bold\">2.</span><span style=\"color: #008000; text-decoration-color: #008000\">59s </span>\n",
              "</pre>\n"
            ]
          },
          "metadata": {}
        },
        {
          "output_type": "display_data",
          "data": {
            "text/plain": [
              "\u001b[1;32m[\u001b[0m\u001b[32mSCRAPE\u001b[0m\u001b[1;32m]\u001b[0m\u001b[32m.. ◆ \u001b[0m\u001b[4;32mhttps://www.amazon.com/alm/storefront?\u001b[0m\u001b[4;32malmBrandId\u001b[0m\u001b[4;32m=\u001b[0m\u001b[4;32mQW1hem9uIEZyZXNo\u001b[0m\u001b[4;32m&\u001b[0m\u001b[4;32mref_\u001b[0m\u001b[4;32m=\u001b[0m\u001b[4;32mfooter_aff_fresh\u001b[0m\u001b[32m              |\u001b[0m\n",
              "\u001b[32m✓\u001b[0m\u001b[32m | ⏱: \u001b[0m\u001b[1;32m0.\u001b[0m\u001b[32m68s \u001b[0m\n"
            ],
            "text/html": [
              "<pre style=\"white-space:pre;overflow-x:auto;line-height:normal;font-family:Menlo,'DejaVu Sans Mono',consolas,'Courier New',monospace\"><span style=\"color: #008000; text-decoration-color: #008000; font-weight: bold\">[</span><span style=\"color: #008000; text-decoration-color: #008000\">SCRAPE</span><span style=\"color: #008000; text-decoration-color: #008000; font-weight: bold\">]</span><span style=\"color: #008000; text-decoration-color: #008000\">.. ◆ </span><span style=\"color: #008000; text-decoration-color: #008000; text-decoration: underline\">https://www.amazon.com/alm/storefront?almBrandId=QW1hem9uIEZyZXNo&amp;ref_=footer_aff_fresh</span><span style=\"color: #008000; text-decoration-color: #008000\">              |</span>\n",
              "<span style=\"color: #008000; text-decoration-color: #008000\">✓ | ⏱: </span><span style=\"color: #008000; text-decoration-color: #008000; font-weight: bold\">0.</span><span style=\"color: #008000; text-decoration-color: #008000\">68s </span>\n",
              "</pre>\n"
            ]
          },
          "metadata": {}
        },
        {
          "output_type": "display_data",
          "data": {
            "text/plain": [
              "\u001b[1;32m[\u001b[0m\u001b[32mCOMPLETE\u001b[0m\u001b[1;32m]\u001b[0m\u001b[32m ● \u001b[0m\u001b[4;32mhttps://www.amazon.com/alm/storefront?\u001b[0m\u001b[4;32malmBrandId\u001b[0m\u001b[4;32m=\u001b[0m\u001b[4;32mQW1hem9uIEZyZXNo\u001b[0m\u001b[4;32m&\u001b[0m\u001b[4;32mref_\u001b[0m\u001b[4;32m=\u001b[0m\u001b[4;32mfooter_aff_fresh\u001b[0m\u001b[32m              |\u001b[0m\n",
              "\u001b[32m✓\u001b[0m\u001b[32m | ⏱: \u001b[0m\u001b[1;32m3.\u001b[0m\u001b[32m28s \u001b[0m\n"
            ],
            "text/html": [
              "<pre style=\"white-space:pre;overflow-x:auto;line-height:normal;font-family:Menlo,'DejaVu Sans Mono',consolas,'Courier New',monospace\"><span style=\"color: #008000; text-decoration-color: #008000; font-weight: bold\">[</span><span style=\"color: #008000; text-decoration-color: #008000\">COMPLETE</span><span style=\"color: #008000; text-decoration-color: #008000; font-weight: bold\">]</span><span style=\"color: #008000; text-decoration-color: #008000\"> ● </span><span style=\"color: #008000; text-decoration-color: #008000; text-decoration: underline\">https://www.amazon.com/alm/storefront?almBrandId=QW1hem9uIEZyZXNo&amp;ref_=footer_aff_fresh</span><span style=\"color: #008000; text-decoration-color: #008000\">              |</span>\n",
              "<span style=\"color: #008000; text-decoration-color: #008000\">✓ | ⏱: </span><span style=\"color: #008000; text-decoration-color: #008000; font-weight: bold\">3.</span><span style=\"color: #008000; text-decoration-color: #008000\">28s </span>\n",
              "</pre>\n"
            ]
          },
          "metadata": {}
        },
        {
          "output_type": "stream",
          "name": "stdout",
          "text": [
            "Markdown saved to amazon_2025-06-30_16-20-16\n"
          ]
        },
        {
          "output_type": "display_data",
          "data": {
            "text/plain": [
              "\u001b[1;36m[\u001b[0m\u001b[36mINIT\u001b[0m\u001b[1;36m]\u001b[0m\u001b[36m...\u001b[0m\u001b[36m. → Crawl4AI \u001b[0m\u001b[1;36m0.6\u001b[0m\u001b[36m.\u001b[0m\u001b[1;36m3\u001b[0m\u001b[36m \u001b[0m\n"
            ],
            "text/html": [
              "<pre style=\"white-space:pre;overflow-x:auto;line-height:normal;font-family:Menlo,'DejaVu Sans Mono',consolas,'Courier New',monospace\"><span style=\"color: #008080; text-decoration-color: #008080; font-weight: bold\">[</span><span style=\"color: #008080; text-decoration-color: #008080\">INIT</span><span style=\"color: #008080; text-decoration-color: #008080; font-weight: bold\">]</span><span style=\"color: #008080; text-decoration-color: #008080\">.... → Crawl4AI </span><span style=\"color: #008080; text-decoration-color: #008080; font-weight: bold\">0.6</span><span style=\"color: #008080; text-decoration-color: #008080\">.</span><span style=\"color: #008080; text-decoration-color: #008080; font-weight: bold\">3</span><span style=\"color: #008080; text-decoration-color: #008080\"> </span>\n",
              "</pre>\n"
            ]
          },
          "metadata": {}
        },
        {
          "output_type": "display_data",
          "data": {
            "text/plain": [
              "\u001b[1;32m[\u001b[0m\u001b[32mFETCH\u001b[0m\u001b[1;32m]\u001b[0m\u001b[32m...\u001b[0m\u001b[32m ↓ \u001b[0m\u001b[4;32mhttps://www.amazon.com/gp/browse.html?\u001b[0m\u001b[4;32mnode\u001b[0m\u001b[4;32m=\u001b[0m\u001b[4;32m230659011\u001b[0m\u001b[4;32m&\u001b[0m\u001b[4;32mref_\u001b[0m\u001b[4;32m=\u001b[0m\u001b[4;32mfooter_amazonglobal\u001b[0m\u001b[32m                        |\u001b[0m\n",
              "\u001b[32m✓\u001b[0m\u001b[32m | ⏱: \u001b[0m\u001b[1;32m2.\u001b[0m\u001b[32m38s \u001b[0m\n"
            ],
            "text/html": [
              "<pre style=\"white-space:pre;overflow-x:auto;line-height:normal;font-family:Menlo,'DejaVu Sans Mono',consolas,'Courier New',monospace\"><span style=\"color: #008000; text-decoration-color: #008000; font-weight: bold\">[</span><span style=\"color: #008000; text-decoration-color: #008000\">FETCH</span><span style=\"color: #008000; text-decoration-color: #008000; font-weight: bold\">]</span><span style=\"color: #008000; text-decoration-color: #008000\">... ↓ </span><span style=\"color: #008000; text-decoration-color: #008000; text-decoration: underline\">https://www.amazon.com/gp/browse.html?node=230659011&amp;ref_=footer_amazonglobal</span><span style=\"color: #008000; text-decoration-color: #008000\">                        |</span>\n",
              "<span style=\"color: #008000; text-decoration-color: #008000\">✓ | ⏱: </span><span style=\"color: #008000; text-decoration-color: #008000; font-weight: bold\">2.</span><span style=\"color: #008000; text-decoration-color: #008000\">38s </span>\n",
              "</pre>\n"
            ]
          },
          "metadata": {}
        },
        {
          "output_type": "display_data",
          "data": {
            "text/plain": [
              "\u001b[1;32m[\u001b[0m\u001b[32mSCRAPE\u001b[0m\u001b[1;32m]\u001b[0m\u001b[32m.. ◆ \u001b[0m\u001b[4;32mhttps://www.amazon.com/gp/browse.html?\u001b[0m\u001b[4;32mnode\u001b[0m\u001b[4;32m=\u001b[0m\u001b[4;32m230659011\u001b[0m\u001b[4;32m&\u001b[0m\u001b[4;32mref_\u001b[0m\u001b[4;32m=\u001b[0m\u001b[4;32mfooter_amazonglobal\u001b[0m\u001b[32m                        |\u001b[0m\n",
              "\u001b[32m✓\u001b[0m\u001b[32m | ⏱: \u001b[0m\u001b[1;33m0.\u001b[0m\u001b[33m37\u001b[0m\u001b[32ms \u001b[0m\n"
            ],
            "text/html": [
              "<pre style=\"white-space:pre;overflow-x:auto;line-height:normal;font-family:Menlo,'DejaVu Sans Mono',consolas,'Courier New',monospace\"><span style=\"color: #008000; text-decoration-color: #008000; font-weight: bold\">[</span><span style=\"color: #008000; text-decoration-color: #008000\">SCRAPE</span><span style=\"color: #008000; text-decoration-color: #008000; font-weight: bold\">]</span><span style=\"color: #008000; text-decoration-color: #008000\">.. ◆ </span><span style=\"color: #008000; text-decoration-color: #008000; text-decoration: underline\">https://www.amazon.com/gp/browse.html?node=230659011&amp;ref_=footer_amazonglobal</span><span style=\"color: #008000; text-decoration-color: #008000\">                        |</span>\n",
              "<span style=\"color: #008000; text-decoration-color: #008000\">✓ | ⏱: </span><span style=\"color: #808000; text-decoration-color: #808000; font-weight: bold\">0.</span><span style=\"color: #808000; text-decoration-color: #808000\">37</span><span style=\"color: #008000; text-decoration-color: #008000\">s </span>\n",
              "</pre>\n"
            ]
          },
          "metadata": {}
        },
        {
          "output_type": "display_data",
          "data": {
            "text/plain": [
              "\u001b[1;32m[\u001b[0m\u001b[32mCOMPLETE\u001b[0m\u001b[1;32m]\u001b[0m\u001b[32m ● \u001b[0m\u001b[4;32mhttps://www.amazon.com/gp/browse.html?\u001b[0m\u001b[4;32mnode\u001b[0m\u001b[4;32m=\u001b[0m\u001b[4;32m230659011\u001b[0m\u001b[4;32m&\u001b[0m\u001b[4;32mref_\u001b[0m\u001b[4;32m=\u001b[0m\u001b[4;32mfooter_amazonglobal\u001b[0m\u001b[32m                        |\u001b[0m\n",
              "\u001b[32m✓\u001b[0m\u001b[32m | ⏱: \u001b[0m\u001b[1;32m2.\u001b[0m\u001b[32m76s \u001b[0m\n"
            ],
            "text/html": [
              "<pre style=\"white-space:pre;overflow-x:auto;line-height:normal;font-family:Menlo,'DejaVu Sans Mono',consolas,'Courier New',monospace\"><span style=\"color: #008000; text-decoration-color: #008000; font-weight: bold\">[</span><span style=\"color: #008000; text-decoration-color: #008000\">COMPLETE</span><span style=\"color: #008000; text-decoration-color: #008000; font-weight: bold\">]</span><span style=\"color: #008000; text-decoration-color: #008000\"> ● </span><span style=\"color: #008000; text-decoration-color: #008000; text-decoration: underline\">https://www.amazon.com/gp/browse.html?node=230659011&amp;ref_=footer_amazonglobal</span><span style=\"color: #008000; text-decoration-color: #008000\">                        |</span>\n",
              "<span style=\"color: #008000; text-decoration-color: #008000\">✓ | ⏱: </span><span style=\"color: #008000; text-decoration-color: #008000; font-weight: bold\">2.</span><span style=\"color: #008000; text-decoration-color: #008000\">76s </span>\n",
              "</pre>\n"
            ]
          },
          "metadata": {}
        },
        {
          "output_type": "stream",
          "name": "stdout",
          "text": [
            "Markdown saved to amazon_2025-06-30_16-20-19\n"
          ]
        },
        {
          "output_type": "display_data",
          "data": {
            "text/plain": [
              "\u001b[1;36m[\u001b[0m\u001b[36mINIT\u001b[0m\u001b[1;36m]\u001b[0m\u001b[36m...\u001b[0m\u001b[36m. → Crawl4AI \u001b[0m\u001b[1;36m0.6\u001b[0m\u001b[36m.\u001b[0m\u001b[1;36m3\u001b[0m\u001b[36m \u001b[0m\n"
            ],
            "text/html": [
              "<pre style=\"white-space:pre;overflow-x:auto;line-height:normal;font-family:Menlo,'DejaVu Sans Mono',consolas,'Courier New',monospace\"><span style=\"color: #008080; text-decoration-color: #008080; font-weight: bold\">[</span><span style=\"color: #008080; text-decoration-color: #008080\">INIT</span><span style=\"color: #008080; text-decoration-color: #008080; font-weight: bold\">]</span><span style=\"color: #008080; text-decoration-color: #008080\">.... → Crawl4AI </span><span style=\"color: #008080; text-decoration-color: #008080; font-weight: bold\">0.6</span><span style=\"color: #008080; text-decoration-color: #008080\">.</span><span style=\"color: #008080; text-decoration-color: #008080; font-weight: bold\">3</span><span style=\"color: #008080; text-decoration-color: #008080\"> </span>\n",
              "</pre>\n"
            ]
          },
          "metadata": {}
        },
        {
          "output_type": "display_data",
          "data": {
            "text/plain": [
              "\u001b[1;32m[\u001b[0m\u001b[32mFETCH\u001b[0m\u001b[1;32m]\u001b[0m\u001b[32m...\u001b[0m\u001b[32m ↓ \u001b[0m\u001b[4;32mhttps://www.amazon.com/services?\u001b[0m\u001b[4;32mref_\u001b[0m\u001b[4;32m=\u001b[0m\u001b[4;32mfooter_services\u001b[0m\u001b[32m                                                 |\u001b[0m\n",
              "\u001b[32m✓\u001b[0m\u001b[32m | ⏱: \u001b[0m\u001b[1;32m4.\u001b[0m\u001b[32m26s \u001b[0m\n"
            ],
            "text/html": [
              "<pre style=\"white-space:pre;overflow-x:auto;line-height:normal;font-family:Menlo,'DejaVu Sans Mono',consolas,'Courier New',monospace\"><span style=\"color: #008000; text-decoration-color: #008000; font-weight: bold\">[</span><span style=\"color: #008000; text-decoration-color: #008000\">FETCH</span><span style=\"color: #008000; text-decoration-color: #008000; font-weight: bold\">]</span><span style=\"color: #008000; text-decoration-color: #008000\">... ↓ </span><span style=\"color: #008000; text-decoration-color: #008000; text-decoration: underline\">https://www.amazon.com/services?ref_=footer_services</span><span style=\"color: #008000; text-decoration-color: #008000\">                                                 |</span>\n",
              "<span style=\"color: #008000; text-decoration-color: #008000\">✓ | ⏱: </span><span style=\"color: #008000; text-decoration-color: #008000; font-weight: bold\">4.</span><span style=\"color: #008000; text-decoration-color: #008000\">26s </span>\n",
              "</pre>\n"
            ]
          },
          "metadata": {}
        },
        {
          "output_type": "display_data",
          "data": {
            "text/plain": [
              "\u001b[1;32m[\u001b[0m\u001b[32mSCRAPE\u001b[0m\u001b[1;32m]\u001b[0m\u001b[32m.. ◆ \u001b[0m\u001b[4;32mhttps://www.amazon.com/services?\u001b[0m\u001b[4;32mref_\u001b[0m\u001b[4;32m=\u001b[0m\u001b[4;32mfooter_services\u001b[0m\u001b[32m                                                 |\u001b[0m\n",
              "\u001b[32m✓\u001b[0m\u001b[32m | ⏱: \u001b[0m\u001b[1;32m0.\u001b[0m\u001b[32m32s \u001b[0m\n"
            ],
            "text/html": [
              "<pre style=\"white-space:pre;overflow-x:auto;line-height:normal;font-family:Menlo,'DejaVu Sans Mono',consolas,'Courier New',monospace\"><span style=\"color: #008000; text-decoration-color: #008000; font-weight: bold\">[</span><span style=\"color: #008000; text-decoration-color: #008000\">SCRAPE</span><span style=\"color: #008000; text-decoration-color: #008000; font-weight: bold\">]</span><span style=\"color: #008000; text-decoration-color: #008000\">.. ◆ </span><span style=\"color: #008000; text-decoration-color: #008000; text-decoration: underline\">https://www.amazon.com/services?ref_=footer_services</span><span style=\"color: #008000; text-decoration-color: #008000\">                                                 |</span>\n",
              "<span style=\"color: #008000; text-decoration-color: #008000\">✓ | ⏱: </span><span style=\"color: #008000; text-decoration-color: #008000; font-weight: bold\">0.</span><span style=\"color: #008000; text-decoration-color: #008000\">32s </span>\n",
              "</pre>\n"
            ]
          },
          "metadata": {}
        },
        {
          "output_type": "display_data",
          "data": {
            "text/plain": [
              "\u001b[1;32m[\u001b[0m\u001b[32mCOMPLETE\u001b[0m\u001b[1;32m]\u001b[0m\u001b[32m ● \u001b[0m\u001b[4;32mhttps://www.amazon.com/services?\u001b[0m\u001b[4;32mref_\u001b[0m\u001b[4;32m=\u001b[0m\u001b[4;32mfooter_services\u001b[0m\u001b[32m                                                 |\u001b[0m\n",
              "\u001b[32m✓\u001b[0m\u001b[32m | ⏱: \u001b[0m\u001b[1;32m4.\u001b[0m\u001b[32m59s \u001b[0m\n"
            ],
            "text/html": [
              "<pre style=\"white-space:pre;overflow-x:auto;line-height:normal;font-family:Menlo,'DejaVu Sans Mono',consolas,'Courier New',monospace\"><span style=\"color: #008000; text-decoration-color: #008000; font-weight: bold\">[</span><span style=\"color: #008000; text-decoration-color: #008000\">COMPLETE</span><span style=\"color: #008000; text-decoration-color: #008000; font-weight: bold\">]</span><span style=\"color: #008000; text-decoration-color: #008000\"> ● </span><span style=\"color: #008000; text-decoration-color: #008000; text-decoration: underline\">https://www.amazon.com/services?ref_=footer_services</span><span style=\"color: #008000; text-decoration-color: #008000\">                                                 |</span>\n",
              "<span style=\"color: #008000; text-decoration-color: #008000\">✓ | ⏱: </span><span style=\"color: #008000; text-decoration-color: #008000; font-weight: bold\">4.</span><span style=\"color: #008000; text-decoration-color: #008000\">59s </span>\n",
              "</pre>\n"
            ]
          },
          "metadata": {}
        },
        {
          "output_type": "stream",
          "name": "stdout",
          "text": [
            "Markdown saved to amazon_2025-06-30_16-20-26\n"
          ]
        },
        {
          "output_type": "display_data",
          "data": {
            "text/plain": [
              "\u001b[1;36m[\u001b[0m\u001b[36mINIT\u001b[0m\u001b[1;36m]\u001b[0m\u001b[36m...\u001b[0m\u001b[36m. → Crawl4AI \u001b[0m\u001b[1;36m0.6\u001b[0m\u001b[36m.\u001b[0m\u001b[1;36m3\u001b[0m\u001b[36m \u001b[0m\n"
            ],
            "text/html": [
              "<pre style=\"white-space:pre;overflow-x:auto;line-height:normal;font-family:Menlo,'DejaVu Sans Mono',consolas,'Courier New',monospace\"><span style=\"color: #008080; text-decoration-color: #008080; font-weight: bold\">[</span><span style=\"color: #008080; text-decoration-color: #008080\">INIT</span><span style=\"color: #008080; text-decoration-color: #008080; font-weight: bold\">]</span><span style=\"color: #008080; text-decoration-color: #008080\">.... → Crawl4AI </span><span style=\"color: #008080; text-decoration-color: #008080; font-weight: bold\">0.6</span><span style=\"color: #008080; text-decoration-color: #008080\">.</span><span style=\"color: #008080; text-decoration-color: #008080; font-weight: bold\">3</span><span style=\"color: #008080; text-decoration-color: #008080\"> </span>\n",
              "</pre>\n"
            ]
          },
          "metadata": {}
        },
        {
          "output_type": "display_data",
          "data": {
            "text/plain": [
              "\u001b[1;32m[\u001b[0m\u001b[32mFETCH\u001b[0m\u001b[1;32m]\u001b[0m\u001b[32m...\u001b[0m\u001b[32m ↓ \u001b[0m\u001b[4;32mhttps://www.amazon.com/gp/browse.html?\u001b[0m\u001b[4;32mnode\u001b[0m\u001b[4;32m=\u001b[0m\u001b[4;32m13234696011\u001b[0m\u001b[4;32m&\u001b[0m\u001b[4;32mref_\u001b[0m\u001b[4;32m=\u001b[0m\u001b[4;32m_gno_p_foot\u001b[0m\u001b[32m                              |\u001b[0m\n",
              "\u001b[32m✓\u001b[0m\u001b[32m | ⏱: \u001b[0m\u001b[1;32m2.\u001b[0m\u001b[32m39s \u001b[0m\n"
            ],
            "text/html": [
              "<pre style=\"white-space:pre;overflow-x:auto;line-height:normal;font-family:Menlo,'DejaVu Sans Mono',consolas,'Courier New',monospace\"><span style=\"color: #008000; text-decoration-color: #008000; font-weight: bold\">[</span><span style=\"color: #008000; text-decoration-color: #008000\">FETCH</span><span style=\"color: #008000; text-decoration-color: #008000; font-weight: bold\">]</span><span style=\"color: #008000; text-decoration-color: #008000\">... ↓ </span><span style=\"color: #008000; text-decoration-color: #008000; text-decoration: underline\">https://www.amazon.com/gp/browse.html?node=13234696011&amp;ref_=_gno_p_foot</span><span style=\"color: #008000; text-decoration-color: #008000\">                              |</span>\n",
              "<span style=\"color: #008000; text-decoration-color: #008000\">✓ | ⏱: </span><span style=\"color: #008000; text-decoration-color: #008000; font-weight: bold\">2.</span><span style=\"color: #008000; text-decoration-color: #008000\">39s </span>\n",
              "</pre>\n"
            ]
          },
          "metadata": {}
        },
        {
          "output_type": "display_data",
          "data": {
            "text/plain": [
              "\u001b[1;32m[\u001b[0m\u001b[32mSCRAPE\u001b[0m\u001b[1;32m]\u001b[0m\u001b[32m.. ◆ \u001b[0m\u001b[4;32mhttps://www.amazon.com/gp/browse.html?\u001b[0m\u001b[4;32mnode\u001b[0m\u001b[4;32m=\u001b[0m\u001b[4;32m13234696011\u001b[0m\u001b[4;32m&\u001b[0m\u001b[4;32mref_\u001b[0m\u001b[4;32m=\u001b[0m\u001b[4;32m_gno_p_foot\u001b[0m\u001b[32m                              |\u001b[0m\n",
              "\u001b[32m✓\u001b[0m\u001b[32m | ⏱: \u001b[0m\u001b[1;32m0.\u001b[0m\u001b[32m21s \u001b[0m\n"
            ],
            "text/html": [
              "<pre style=\"white-space:pre;overflow-x:auto;line-height:normal;font-family:Menlo,'DejaVu Sans Mono',consolas,'Courier New',monospace\"><span style=\"color: #008000; text-decoration-color: #008000; font-weight: bold\">[</span><span style=\"color: #008000; text-decoration-color: #008000\">SCRAPE</span><span style=\"color: #008000; text-decoration-color: #008000; font-weight: bold\">]</span><span style=\"color: #008000; text-decoration-color: #008000\">.. ◆ </span><span style=\"color: #008000; text-decoration-color: #008000; text-decoration: underline\">https://www.amazon.com/gp/browse.html?node=13234696011&amp;ref_=_gno_p_foot</span><span style=\"color: #008000; text-decoration-color: #008000\">                              |</span>\n",
              "<span style=\"color: #008000; text-decoration-color: #008000\">✓ | ⏱: </span><span style=\"color: #008000; text-decoration-color: #008000; font-weight: bold\">0.</span><span style=\"color: #008000; text-decoration-color: #008000\">21s </span>\n",
              "</pre>\n"
            ]
          },
          "metadata": {}
        },
        {
          "output_type": "display_data",
          "data": {
            "text/plain": [
              "\u001b[1;32m[\u001b[0m\u001b[32mCOMPLETE\u001b[0m\u001b[1;32m]\u001b[0m\u001b[32m ● \u001b[0m\u001b[4;32mhttps://www.amazon.com/gp/browse.html?\u001b[0m\u001b[4;32mnode\u001b[0m\u001b[4;32m=\u001b[0m\u001b[4;32m13234696011\u001b[0m\u001b[4;32m&\u001b[0m\u001b[4;32mref_\u001b[0m\u001b[4;32m=\u001b[0m\u001b[4;32m_gno_p_foot\u001b[0m\u001b[32m                              |\u001b[0m\n",
              "\u001b[32m✓\u001b[0m\u001b[32m | ⏱: \u001b[0m\u001b[1;32m2.\u001b[0m\u001b[32m61s \u001b[0m\n"
            ],
            "text/html": [
              "<pre style=\"white-space:pre;overflow-x:auto;line-height:normal;font-family:Menlo,'DejaVu Sans Mono',consolas,'Courier New',monospace\"><span style=\"color: #008000; text-decoration-color: #008000; font-weight: bold\">[</span><span style=\"color: #008000; text-decoration-color: #008000\">COMPLETE</span><span style=\"color: #008000; text-decoration-color: #008000; font-weight: bold\">]</span><span style=\"color: #008000; text-decoration-color: #008000\"> ● </span><span style=\"color: #008000; text-decoration-color: #008000; text-decoration: underline\">https://www.amazon.com/gp/browse.html?node=13234696011&amp;ref_=_gno_p_foot</span><span style=\"color: #008000; text-decoration-color: #008000\">                              |</span>\n",
              "<span style=\"color: #008000; text-decoration-color: #008000\">✓ | ⏱: </span><span style=\"color: #008000; text-decoration-color: #008000; font-weight: bold\">2.</span><span style=\"color: #008000; text-decoration-color: #008000\">61s </span>\n",
              "</pre>\n"
            ]
          },
          "metadata": {}
        },
        {
          "output_type": "stream",
          "name": "stdout",
          "text": [
            "Markdown saved to amazon_2025-06-30_16-20-30\n"
          ]
        },
        {
          "output_type": "display_data",
          "data": {
            "text/plain": [
              "\u001b[1;36m[\u001b[0m\u001b[36mINIT\u001b[0m\u001b[1;36m]\u001b[0m\u001b[36m...\u001b[0m\u001b[36m. → Crawl4AI \u001b[0m\u001b[1;36m0.6\u001b[0m\u001b[36m.\u001b[0m\u001b[1;36m3\u001b[0m\u001b[36m \u001b[0m\n"
            ],
            "text/html": [
              "<pre style=\"white-space:pre;overflow-x:auto;line-height:normal;font-family:Menlo,'DejaVu Sans Mono',consolas,'Courier New',monospace\"><span style=\"color: #008080; text-decoration-color: #008080; font-weight: bold\">[</span><span style=\"color: #008080; text-decoration-color: #008080\">INIT</span><span style=\"color: #008080; text-decoration-color: #008080; font-weight: bold\">]</span><span style=\"color: #008080; text-decoration-color: #008080\">.... → Crawl4AI </span><span style=\"color: #008080; text-decoration-color: #008080; font-weight: bold\">0.6</span><span style=\"color: #008080; text-decoration-color: #008080\">.</span><span style=\"color: #008080; text-decoration-color: #008080; font-weight: bold\">3</span><span style=\"color: #008080; text-decoration-color: #008080\"> </span>\n",
              "</pre>\n"
            ]
          },
          "metadata": {}
        },
        {
          "output_type": "display_data",
          "data": {
            "text/plain": [
              "\u001b[1;32m[\u001b[0m\u001b[32mFETCH\u001b[0m\u001b[1;32m]\u001b[0m\u001b[32m...\u001b[0m\u001b[32m ↓ \u001b[0m\u001b[4;32mhttps://www.amazon.com/gp/browse.html?\u001b[0m\u001b[4;32mnode\u001b[0m\u001b[4;32m=\u001b[0m\u001b[4;32m10158976011\u001b[0m\u001b[4;32m&\u001b[0m\u001b[4;32mref_\u001b[0m\u001b[4;32m=\u001b[0m\u001b[4;32mfooter_wrhsdls\u001b[0m\u001b[32m                           |\u001b[0m\n",
              "\u001b[32m✓\u001b[0m\u001b[32m | ⏱: \u001b[0m\u001b[1;32m3.\u001b[0m\u001b[32m03s \u001b[0m\n"
            ],
            "text/html": [
              "<pre style=\"white-space:pre;overflow-x:auto;line-height:normal;font-family:Menlo,'DejaVu Sans Mono',consolas,'Courier New',monospace\"><span style=\"color: #008000; text-decoration-color: #008000; font-weight: bold\">[</span><span style=\"color: #008000; text-decoration-color: #008000\">FETCH</span><span style=\"color: #008000; text-decoration-color: #008000; font-weight: bold\">]</span><span style=\"color: #008000; text-decoration-color: #008000\">... ↓ </span><span style=\"color: #008000; text-decoration-color: #008000; text-decoration: underline\">https://www.amazon.com/gp/browse.html?node=10158976011&amp;ref_=footer_wrhsdls</span><span style=\"color: #008000; text-decoration-color: #008000\">                           |</span>\n",
              "<span style=\"color: #008000; text-decoration-color: #008000\">✓ | ⏱: </span><span style=\"color: #008000; text-decoration-color: #008000; font-weight: bold\">3.</span><span style=\"color: #008000; text-decoration-color: #008000\">03s </span>\n",
              "</pre>\n"
            ]
          },
          "metadata": {}
        },
        {
          "output_type": "display_data",
          "data": {
            "text/plain": [
              "\u001b[1;32m[\u001b[0m\u001b[32mSCRAPE\u001b[0m\u001b[1;32m]\u001b[0m\u001b[32m.. ◆ \u001b[0m\u001b[4;32mhttps://www.amazon.com/gp/browse.html?\u001b[0m\u001b[4;32mnode\u001b[0m\u001b[4;32m=\u001b[0m\u001b[4;32m10158976011\u001b[0m\u001b[4;32m&\u001b[0m\u001b[4;32mref_\u001b[0m\u001b[4;32m=\u001b[0m\u001b[4;32mfooter_wrhsdls\u001b[0m\u001b[32m                           |\u001b[0m\n",
              "\u001b[32m✓\u001b[0m\u001b[32m | ⏱: \u001b[0m\u001b[1;32m0.\u001b[0m\u001b[32m31s \u001b[0m\n"
            ],
            "text/html": [
              "<pre style=\"white-space:pre;overflow-x:auto;line-height:normal;font-family:Menlo,'DejaVu Sans Mono',consolas,'Courier New',monospace\"><span style=\"color: #008000; text-decoration-color: #008000; font-weight: bold\">[</span><span style=\"color: #008000; text-decoration-color: #008000\">SCRAPE</span><span style=\"color: #008000; text-decoration-color: #008000; font-weight: bold\">]</span><span style=\"color: #008000; text-decoration-color: #008000\">.. ◆ </span><span style=\"color: #008000; text-decoration-color: #008000; text-decoration: underline\">https://www.amazon.com/gp/browse.html?node=10158976011&amp;ref_=footer_wrhsdls</span><span style=\"color: #008000; text-decoration-color: #008000\">                           |</span>\n",
              "<span style=\"color: #008000; text-decoration-color: #008000\">✓ | ⏱: </span><span style=\"color: #008000; text-decoration-color: #008000; font-weight: bold\">0.</span><span style=\"color: #008000; text-decoration-color: #008000\">31s </span>\n",
              "</pre>\n"
            ]
          },
          "metadata": {}
        },
        {
          "output_type": "display_data",
          "data": {
            "text/plain": [
              "\u001b[1;32m[\u001b[0m\u001b[32mCOMPLETE\u001b[0m\u001b[1;32m]\u001b[0m\u001b[32m ● \u001b[0m\u001b[4;32mhttps://www.amazon.com/gp/browse.html?\u001b[0m\u001b[4;32mnode\u001b[0m\u001b[4;32m=\u001b[0m\u001b[4;32m10158976011\u001b[0m\u001b[4;32m&\u001b[0m\u001b[4;32mref_\u001b[0m\u001b[4;32m=\u001b[0m\u001b[4;32mfooter_wrhsdls\u001b[0m\u001b[32m                           |\u001b[0m\n",
              "\u001b[32m✓\u001b[0m\u001b[32m | ⏱: \u001b[0m\u001b[1;32m3.\u001b[0m\u001b[32m35s \u001b[0m\n"
            ],
            "text/html": [
              "<pre style=\"white-space:pre;overflow-x:auto;line-height:normal;font-family:Menlo,'DejaVu Sans Mono',consolas,'Courier New',monospace\"><span style=\"color: #008000; text-decoration-color: #008000; font-weight: bold\">[</span><span style=\"color: #008000; text-decoration-color: #008000\">COMPLETE</span><span style=\"color: #008000; text-decoration-color: #008000; font-weight: bold\">]</span><span style=\"color: #008000; text-decoration-color: #008000\"> ● </span><span style=\"color: #008000; text-decoration-color: #008000; text-decoration: underline\">https://www.amazon.com/gp/browse.html?node=10158976011&amp;ref_=footer_wrhsdls</span><span style=\"color: #008000; text-decoration-color: #008000\">                           |</span>\n",
              "<span style=\"color: #008000; text-decoration-color: #008000\">✓ | ⏱: </span><span style=\"color: #008000; text-decoration-color: #008000; font-weight: bold\">3.</span><span style=\"color: #008000; text-decoration-color: #008000\">35s </span>\n",
              "</pre>\n"
            ]
          },
          "metadata": {}
        },
        {
          "output_type": "stream",
          "name": "stdout",
          "text": [
            "Markdown saved to amazon_2025-06-30_16-20-34\n"
          ]
        },
        {
          "output_type": "display_data",
          "data": {
            "text/plain": [
              "\u001b[1;36m[\u001b[0m\u001b[36mINIT\u001b[0m\u001b[1;36m]\u001b[0m\u001b[36m...\u001b[0m\u001b[36m. → Crawl4AI \u001b[0m\u001b[1;36m0.6\u001b[0m\u001b[36m.\u001b[0m\u001b[1;36m3\u001b[0m\u001b[36m \u001b[0m\n"
            ],
            "text/html": [
              "<pre style=\"white-space:pre;overflow-x:auto;line-height:normal;font-family:Menlo,'DejaVu Sans Mono',consolas,'Courier New',monospace\"><span style=\"color: #008080; text-decoration-color: #008080; font-weight: bold\">[</span><span style=\"color: #008080; text-decoration-color: #008080\">INIT</span><span style=\"color: #008080; text-decoration-color: #008080; font-weight: bold\">]</span><span style=\"color: #008080; text-decoration-color: #008080\">.... → Crawl4AI </span><span style=\"color: #008080; text-decoration-color: #008080; font-weight: bold\">0.6</span><span style=\"color: #008080; text-decoration-color: #008080\">.</span><span style=\"color: #008080; text-decoration-color: #008080; font-weight: bold\">3</span><span style=\"color: #008080; text-decoration-color: #008080\"> </span>\n",
              "</pre>\n"
            ]
          },
          "metadata": {}
        },
        {
          "output_type": "display_data",
          "data": {
            "text/plain": [
              "\u001b[1;32m[\u001b[0m\u001b[32mFETCH\u001b[0m\u001b[1;32m]\u001b[0m\u001b[32m...\u001b[0m\u001b[32m ↓ \u001b[0m\u001b[4;32mhttps://www.amazon.com/gp/browse.html?\u001b[0m\u001b[4;32mnode\u001b[0m\u001b[4;32m=\u001b[0m\u001b[4;32m14498690011\u001b[0m\u001b[4;32m&\u001b[0m\u001b[4;32mref_\u001b[0m\u001b[4;32m=\u001b[0m\u001b[4;32mamzn_nav_ftr_swa\u001b[0m\u001b[32m                         |\u001b[0m\n",
              "\u001b[32m✓\u001b[0m\u001b[32m | ⏱: \u001b[0m\u001b[1;32m1.\u001b[0m\u001b[32m91s \u001b[0m\n"
            ],
            "text/html": [
              "<pre style=\"white-space:pre;overflow-x:auto;line-height:normal;font-family:Menlo,'DejaVu Sans Mono',consolas,'Courier New',monospace\"><span style=\"color: #008000; text-decoration-color: #008000; font-weight: bold\">[</span><span style=\"color: #008000; text-decoration-color: #008000\">FETCH</span><span style=\"color: #008000; text-decoration-color: #008000; font-weight: bold\">]</span><span style=\"color: #008000; text-decoration-color: #008000\">... ↓ </span><span style=\"color: #008000; text-decoration-color: #008000; text-decoration: underline\">https://www.amazon.com/gp/browse.html?node=14498690011&amp;ref_=amzn_nav_ftr_swa</span><span style=\"color: #008000; text-decoration-color: #008000\">                         |</span>\n",
              "<span style=\"color: #008000; text-decoration-color: #008000\">✓ | ⏱: </span><span style=\"color: #008000; text-decoration-color: #008000; font-weight: bold\">1.</span><span style=\"color: #008000; text-decoration-color: #008000\">91s </span>\n",
              "</pre>\n"
            ]
          },
          "metadata": {}
        },
        {
          "output_type": "display_data",
          "data": {
            "text/plain": [
              "\u001b[1;32m[\u001b[0m\u001b[32mSCRAPE\u001b[0m\u001b[1;32m]\u001b[0m\u001b[32m.. ◆ \u001b[0m\u001b[4;32mhttps://www.amazon.com/gp/browse.html?\u001b[0m\u001b[4;32mnode\u001b[0m\u001b[4;32m=\u001b[0m\u001b[4;32m14498690011\u001b[0m\u001b[4;32m&\u001b[0m\u001b[4;32mref_\u001b[0m\u001b[4;32m=\u001b[0m\u001b[4;32mamzn_nav_ftr_swa\u001b[0m\u001b[32m                         |\u001b[0m\n",
              "\u001b[32m✓\u001b[0m\u001b[32m | ⏱: \u001b[0m\u001b[1;32m0.\u001b[0m\u001b[32m20s \u001b[0m\n"
            ],
            "text/html": [
              "<pre style=\"white-space:pre;overflow-x:auto;line-height:normal;font-family:Menlo,'DejaVu Sans Mono',consolas,'Courier New',monospace\"><span style=\"color: #008000; text-decoration-color: #008000; font-weight: bold\">[</span><span style=\"color: #008000; text-decoration-color: #008000\">SCRAPE</span><span style=\"color: #008000; text-decoration-color: #008000; font-weight: bold\">]</span><span style=\"color: #008000; text-decoration-color: #008000\">.. ◆ </span><span style=\"color: #008000; text-decoration-color: #008000; text-decoration: underline\">https://www.amazon.com/gp/browse.html?node=14498690011&amp;ref_=amzn_nav_ftr_swa</span><span style=\"color: #008000; text-decoration-color: #008000\">                         |</span>\n",
              "<span style=\"color: #008000; text-decoration-color: #008000\">✓ | ⏱: </span><span style=\"color: #008000; text-decoration-color: #008000; font-weight: bold\">0.</span><span style=\"color: #008000; text-decoration-color: #008000\">20s </span>\n",
              "</pre>\n"
            ]
          },
          "metadata": {}
        },
        {
          "output_type": "display_data",
          "data": {
            "text/plain": [
              "\u001b[1;32m[\u001b[0m\u001b[32mCOMPLETE\u001b[0m\u001b[1;32m]\u001b[0m\u001b[32m ● \u001b[0m\u001b[4;32mhttps://www.amazon.com/gp/browse.html?\u001b[0m\u001b[4;32mnode\u001b[0m\u001b[4;32m=\u001b[0m\u001b[4;32m14498690011\u001b[0m\u001b[4;32m&\u001b[0m\u001b[4;32mref_\u001b[0m\u001b[4;32m=\u001b[0m\u001b[4;32mamzn_nav_ftr_swa\u001b[0m\u001b[32m                         |\u001b[0m\n",
              "\u001b[32m✓\u001b[0m\u001b[32m | ⏱: \u001b[0m\u001b[1;32m2.\u001b[0m\u001b[32m12s \u001b[0m\n"
            ],
            "text/html": [
              "<pre style=\"white-space:pre;overflow-x:auto;line-height:normal;font-family:Menlo,'DejaVu Sans Mono',consolas,'Courier New',monospace\"><span style=\"color: #008000; text-decoration-color: #008000; font-weight: bold\">[</span><span style=\"color: #008000; text-decoration-color: #008000\">COMPLETE</span><span style=\"color: #008000; text-decoration-color: #008000; font-weight: bold\">]</span><span style=\"color: #008000; text-decoration-color: #008000\"> ● </span><span style=\"color: #008000; text-decoration-color: #008000; text-decoration: underline\">https://www.amazon.com/gp/browse.html?node=14498690011&amp;ref_=amzn_nav_ftr_swa</span><span style=\"color: #008000; text-decoration-color: #008000\">                         |</span>\n",
              "<span style=\"color: #008000; text-decoration-color: #008000\">✓ | ⏱: </span><span style=\"color: #008000; text-decoration-color: #008000; font-weight: bold\">2.</span><span style=\"color: #008000; text-decoration-color: #008000\">12s </span>\n",
              "</pre>\n"
            ]
          },
          "metadata": {}
        },
        {
          "output_type": "stream",
          "name": "stdout",
          "text": [
            "Markdown saved to amazon_2025-06-30_16-20-37\n"
          ]
        }
      ]
    },
    {
      "cell_type": "markdown",
      "source": [
        "## Paso 4\n",
        "Se usa un modelo de lenguaje para tomar la información extraida de los markdown de las páginas de producto y extraer la información de interés:\n",
        "\n",
        "\n",
        "\n",
        "```\n",
        "\"ID\": \"identificación del producto\",\n",
        "\"title\": \"nombre del producto\",\n",
        "\"Precio\": \"precio del producto\",\n",
        "\"imagen_url\": \"url de la imagen del producto\"\n",
        "\"descripción\": \"descripción del producto\"\n",
        "\"base_domain\": \"site domain\"\n",
        "\"base_product_uls\": \"url del producto\"\n",
        "```\n",
        "\n"
      ],
      "metadata": {
        "id": "BYH8Xl9G7PnZ"
      },
      "id": "BYH8Xl9G7PnZ"
    },
    {
      "cell_type": "code",
      "source": [
        "import json\n",
        "from google import genai\n",
        "from google.genai import types\n",
        "from google.colab import userdata\n",
        "\n",
        "client = genai.Client(api_key=userdata.get(\"GOOGLE_API_KEY_1\"))\n",
        "\n",
        "model_id = \"gemini-2.0-flash\"\n",
        "\n",
        "system_prompt = \"\"\"\n",
        "Eres un desarrollador experimentado que recibe un archivo markdown con información de un e-commerce con información de productos.\n",
        "dentro de las características extraidas se encuentra la sección a la que pertenece y nombre, url de la imagen, url del producto, descripción y precio.\n",
        "\n",
        "Tu tarea es generar un JSON limpio removiendo los bloques de información que no hagan referencia a productos.\n",
        "Remueve los signos de puntuación por la letra sin tilde.\n",
        "\n",
        "Incluye contenido relacionado con productos, usualmente se encuentran por categorías. Por ejemplo:\n",
        "- Salud\n",
        "- Belleza\n",
        "- Vehículos\n",
        "- Alimentos\n",
        "- Moda\n",
        "\n",
        "Excluye contenido que tenga información relacionada con:\n",
        "- Políticas\n",
        "- Terminos y condiciones\n",
        "- Redes sociales\n",
        "\n",
        "\"\"\"\n",
        "prompt = f\"\"\"\n",
        "Ten en cuenta que no puedes agregar otras secciones diferentes a las mencionadas en la salida.\n",
        "\n",
        "Entrada:\n",
        "\"texto: {raw_output[1]}\"\n",
        "\n",
        "la salida debe ser un JSON que contenga la información de cada producto encontrado.\n",
        "No debes agregar información adicional.\n",
        "\n",
        "Salida:\n",
        "\"ID\": \"identificación del producto\",\n",
        "\"title\": \"nombre del producto\",\n",
        "\"Precio\": \"precio del producto\",\n",
        "\"imagen_url\": \"url de la imagen del producto\"\n",
        "\"descripción\": \"descripción del producto\"\n",
        "\"base_domain\": \"site domain\"\n",
        "\"base_product_uls\": \"url del producto\"\n",
        "\"\"\"\n",
        "\n",
        "response = client.models.generate_content(\n",
        "    model=model_id,\n",
        "    contents=prompt,\n",
        "    config=types.GenerateContentConfig(\n",
        "        system_instruction=system_prompt,\n",
        "        temperature=0\n",
        "    )\n",
        ")"
      ],
      "metadata": {
        "id": "jkPYpYZeJr-E",
        "collapsed": true
      },
      "id": "jkPYpYZeJr-E",
      "execution_count": 49,
      "outputs": []
    },
    {
      "cell_type": "code",
      "source": [
        "computing_cost(response,gemini_2_0_flash_input_cost,gemini_2_0_flash_output_cost)"
      ],
      "metadata": {
        "id": "oOKSfala4YMd",
        "outputId": "c7f4b772-7dec-4464-8b0d-cbaa0ffb8bb5",
        "colab": {
          "base_uri": "https://localhost:8080/"
        }
      },
      "id": "oOKSfala4YMd",
      "execution_count": 52,
      "outputs": [
        {
          "output_type": "stream",
          "name": "stdout",
          "text": [
            "El costo total de la petición fue de: 0.0385 usd \n",
            "Tokens de entrada:364387\n",
            "Tokens de salida:5085\n"
          ]
        }
      ]
    },
    {
      "cell_type": "code",
      "source": [
        "print(response.text)\n",
        "\n",
        "parsed_response = parse_to_dictionary(response.text)\n",
        "\n",
        "products_file_json = f\"{input_file.split('.')[0]}_products.json\"\n",
        "\n",
        "with open(products_file_json, \"w\") as f:\n",
        "  #f.write(response.to_json_dict)\n",
        "  json.dump(parsed_response, f, indent=4, ensure_ascii=False)\n",
        "  print(f\"{products_file_json} ha sido guardado\")"
      ],
      "metadata": {
        "colab": {
          "base_uri": "https://localhost:8080/"
        },
        "id": "aV87CYCDmqWn",
        "outputId": "8b7a5ec1-08f7-4268-d27f-9ca2ad835f85"
      },
      "id": "aV87CYCDmqWn",
      "execution_count": 53,
      "outputs": [
        {
          "output_type": "stream",
          "name": "stdout",
          "text": [
            "```json\n",
            "[\n",
            "  {\n",
            "    \"ID\": \"B0DS6BLC74\",\n",
            "    \"title\": \"Tribal Print Off Shoulder Shirred Maxi Dress Bell Sleeve Side Split Vacation Dress\",\n",
            "    \"Precio\": \"11.49\",\n",
            "    \"imagen_url\": \"https://m.media-amazon.com/images/I/61cy9l5YwXL._SL300_.jpg\",\n",
            "    \"descripcion\": \"Tribal Print Off Shoulder Shirred Maxi Dress Bell Sleeve Side Split Vacation Dress\",\n",
            "    \"seccion\": \"Moda\",\n",
            "    \"base_domain\": \"amazon.com\",\n",
            "    \"base_product_url\": \"https://www.amazon.com/Tribal-Shoulder-Shirred-Sleeve-Vacation/dp/B0DS6BLC74\"\n",
            "  },\n",
            "  {\n",
            "    \"ID\": \"B0DZ2FHBZL\",\n",
            "    \"title\": \"Cut Out Dress for Womens Drawstring Ruched Sleeveless Mini Dresses\",\n",
            "    \"Precio\": \"7.99\",\n",
            "    \"imagen_url\": \"https://m.media-amazon.com/images/I/71Yt8PxJ+-L._SL300_.jpg\",\n",
            "    \"descripcion\": \"Cut Out Dress for Womens Drawstring Ruched Sleeveless Mini Dresses\",\n",
            "    \"seccion\": \"Moda\",\n",
            "    \"base_domain\": \"amazon.com\",\n",
            "    \"base_product_url\": \"https://www.amazon.com/Womens-Drawstring-Ruched-Sleeveless-Dresses/dp/B0DZ2FHBZL\"\n",
            "  },\n",
            "  {\n",
            "    \"ID\": \"B0DYYM191V\",\n",
            "    \"title\": \"Womens Summer Cap Short Sleeve Dresses Office Crew Neck Slim Fit Tie Waist Dress Party Club Mini Short Dress\",\n",
            "    \"Precio\": \"9.99\",\n",
            "    \"imagen_url\": \"https://m.media-amazon.com/images/I/81xfNqXr1XL._SL300_.jpg\",\n",
            "    \"descripcion\": \"Womens Summer Cap Short Sleeve Dresses Office Crew Neck Slim Fit Tie Waist Dress Party Club Mini Short Dress\",\n",
            "    \"seccion\": \"Moda\",\n",
            "    \"base_domain\": \"amazon.com\",\n",
            "    \"base_product_url\": \"https://www.amazon.com/Womens-Summer-Sleeve-Dresses-Office/dp/B0DYYM191V\"\n",
            "  },\n",
            "  {\n",
            "    \"ID\": \"B0DYVFYHDC\",\n",
            "    \"title\": \"Halterneck Smocked Dress for Womens Sleeveless Tiered Slim Fit Party Cocktail Dresses\",\n",
            "    \"Precio\": \"11.50\",\n",
            "    \"imagen_url\": \"https://m.media-amazon.com/images/I/61rspnhg91L._SL300_.jpg\",\n",
            "    \"descripcion\": \"Halterneck Smocked Dress for Womens Sleeveless Tiered Slim Fit Party Cocktail Dresses\",\n",
            "    \"seccion\": \"Moda\",\n",
            "    \"base_domain\": \"amazon.com\",\n",
            "    \"base_product_url\": \"https://www.amazon.com/Halterneck-Smocked-Sleeveless-Cocktail-Dresses/dp/B0DYVFYHDC\"\n",
            "  },\n",
            "  {\n",
            "    \"ID\": \"B0DZGPDY34\",\n",
            "    \"title\": \"Summer Beach Style Sleeveless Bodycon Mini Dress – US Size 12 - Blue Spaghetti Strap Dress with Bold Red Floral Print\",\n",
            "    \"Precio\": \"9.96\",\n",
            "    \"imagen_url\": \"https://m.media-amazon.com/images/I/51bzMamvtWL._SL300_.jpg\",\n",
            "    \"descripcion\": \"Summer Beach Style Sleeveless Bodycon Mini Dress – US Size 12 - Blue Spaghetti Strap Dress with Bold Red Floral Print\",\n",
            "    \"seccion\": \"Moda\",\n",
            "    \"base_domain\": \"amazon.com\",\n",
            "    \"base_product_url\": \"https://www.amazon.com/Summer-Beach-Style-Sleeveless-Bodycon/dp/B0DZGPDY34\"\n",
            "  },\n",
            "  {\n",
            "    \"ID\": \"B0F3CSD8WP\",\n",
            "    \"title\": \"Women Summer Lace Mini Dress Sleeveless Spaghetti Strap Solid Color Ruched Mini Dress Clubwear Fall\",\n",
            "    \"Precio\": \"10.99\",\n",
            "    \"imagen_url\": \"https://m.media-amazon.com/images/I/61SnAxPyX6L._SL300_.jpg\",\n",
            "    \"descripcion\": \"Women Summer Lace Mini Dress Sleeveless Spaghetti Strap Solid Color Ruched Mini Dress Clubwear Fall\",\n",
            "    \"seccion\": \"Moda\",\n",
            "    \"base_domain\": \"amazon.com\",\n",
            "    \"base_product_url\": \"https://www.amazon.com/Summer-Sleeveless-Spaghetti-Ruched-Clubwear/dp/B0F3CSD8WP\"\n",
            "  },\n",
            "  {\n",
            "    \"ID\": \"B0F5MKK6M7\",\n",
            "    \"title\": \"Women Summer Ruffle Mini Dress Casual Sweetheart Neck Cutout Swiss Dot Short Tank Dress for Party\",\n",
            "    \"Precio\": \"10.99\",\n",
            "    \"imagen_url\": \"https://m.media-amazon.com/images/I/61Zgnr-WLpL._SL300_.jpg\",\n",
            "    \"descripcion\": \"Women Summer Ruffle Mini Dress Casual Sweetheart Neck Cutout Swiss Dot Short Tank Dress for Party\",\n",
            "    \"seccion\": \"Moda\",\n",
            "    \"base_domain\": \"amazon.com\",\n",
            "    \"base_product_url\": \"https://www.amazon.com/Summer-Ruffle-Casual-Sweetheart-Cutout/dp/B0F5MKK6M7\"\n",
            "  },\n",
            "  {\n",
            "    \"ID\": \"B0F5Y7T17L\",\n",
            "    \"title\": \"Women Spaghetti Straps Dress Y2k Tie Shoulder Sleeveless Square Neck Dots Print Short Mesh Dress Beachwear\",\n",
            "    \"Precio\": \"10.99\",\n",
            "    \"imagen_url\": \"https://m.media-amazon.com/images/I/71ANCL3UCzL._SL300_.jpg\",\n",
            "    \"descripcion\": \"Women Spaghetti Straps Dress Y2k Tie Shoulder Sleeveless Square Neck Dots Print Short Mesh Dress Beachwear\",\n",
            "    \"seccion\": \"Moda\",\n",
            "    \"base_domain\": \"amazon.com\",\n",
            "    \"base_product_url\": \"https://www.amazon.com/Spaghetti-Straps-Shoulder-Sleeveless-Beachwear/dp/B0F5Y7T17L\"\n",
            "  },\n",
            "  {\n",
            "    \"ID\": \"B0F376BN9Z\",\n",
            "    \"title\": \"Women's Strapless Bodycon Mini Dress Ruched Sleeveless Club Tube Dress\",\n",
            "    \"Precio\": \"5.40\",\n",
            "    \"imagen_url\": \"https://m.media-amazon.com/images/I/71t5sIJwKvL._SL300_.jpg\",\n",
            "    \"descripcion\": \"Women's Strapless Bodycon Mini Dress Ruched Sleeveless Club Tube Dress\",\n",
            "    \"seccion\": \"Moda\",\n",
            "    \"base_domain\": \"amazon.com\",\n",
            "    \"base_product_url\": \"https://www.amazon.com/Womens-Strapless-Bodycon-Sleeveless-Burgundy/dp/B0F376BN9Z\"\n",
            "  },\n",
            "  {\n",
            "    \"ID\": \"B0DYVB433C\",\n",
            "    \"title\": \"Sleeveless Halter Dresses for Women's Cutout Bodycon Cocktail Party Dress\",\n",
            "    \"Precio\": \"9.78\",\n",
            "    \"imagen_url\": \"https://m.media-amazon.com/images/I/71Wd4pnPzQL._SL300_.jpg\",\n",
            "    \"descripcion\": \"Sleeveless Halter Dresses for Women's Cutout Bodycon Cocktail Party Dress\",\n",
            "    \"seccion\": \"Moda\",\n",
            "    \"base_domain\": \"amazon.com\",\n",
            "    \"base_product_url\": \"https://www.amazon.com/Sleeveless-Halter-Dresses-Bodycon-Cocktail/dp/B0DYVB433C\"\n",
            "  },\n",
            "  {\n",
            "    \"ID\": \"B071D4DKTZ\",\n",
            "    \"title\": \"LiCB CR2032 3V Lithium Battery(10-Pack)\",\n",
            "    \"Precio\": \"5.99\",\n",
            "    \"imagen_url\": \"https://m.media-amazon.com/images/I/81Pd4ogDITL._SL300_.jpg\",\n",
            "    \"descripcion\": \"LiCB CR2032 3V Lithium Battery(10-Pack)\",\n",
            "    \"seccion\": \"Electronicos\",\n",
            "    \"base_domain\": \"amazon.com\",\n",
            "    \"base_product_url\": \"https://www.amazon.com/LiCB-CR2032-Lithium-Battery-10-Pack/dp/B071D4DKTZ\"\n",
            "  },\n",
            "  {\n",
            "    \"ID\": \"B0828XZZJ4\",\n",
            "    \"title\": \"Foxany Telescopic Fly Swatters, Durable Plastic Fly Swatter Heavy Duty Set, Flyswatter with Stainless Steel Handle for Indoor/Outdoor/Classroom (2 Pack)\",\n",
            "    \"Precio\": \"6.99\",\n",
            "    \"imagen_url\": \"https://m.media-amazon.com/images/I/61RdXPu9TBL._SL300_.jpg\",\n",
            "    \"descripcion\": \"Foxany Telescopic Fly Swatters, Durable Plastic Fly Swatter Heavy Duty Set, Flyswatter with Stainless Steel Handle for Indoor/Outdoor/Classroom (2 Pack)\",\n",
            "    \"seccion\": \"Hogar\",\n",
            "    \"base_domain\": \"amazon.com\",\n",
            "    \"base_product_url\": \"https://www.amazon.com/foxany-Telescopic-Flyswatter-Stainless-Classroom/dp/B0828XZZJ4\"\n",
            "  },\n",
            "  {\n",
            "    \"ID\": \"B0CJ2TMKG7\",\n",
            "    \"title\": \"200 Count Lens Wipes for Eyeglasses, Eyeglass Lens Cleaning Wipes Pre-moistened Individually Wrapped Sracth-Free Streak-Free Eye Glasses Cleaner Wipes for Sunglass, Camera Lens, Goggles\",\n",
            "    \"Precio\": \"8.98\",\n",
            "    \"imagen_url\": \"https://m.media-amazon.com/images/I/719Kn7EC6fL._SL300_.jpg\",\n",
            "    \"descripcion\": \"200 Count Lens Wipes for Eyeglasses, Eyeglass Lens Cleaning Wipes Pre-moistened Individually Wrapped Sracth-Free Streak-Free Eye Glasses Cleaner Wipes for Sunglass, Camera Lens, Goggles\",\n",
            "    \"seccion\": \"Salud\",\n",
            "    \"base_domain\": \"amazon.com\",\n",
            "    \"base_product_url\": \"https://www.amazon.com/Eyeglasses-Pre-moistened-Individually-Sracth-Free-Streak-Free/dp/B0CJ2TMKG7\"\n",
            "  },\n",
            "  {\n",
            "    \"ID\": \"B09DYKFSQ8\",\n",
            "    \"title\": \"100Pcs 260 Balloons White Long Balloons for Balloon Garland Thickening Skinny Latex Twisting Balloon for Animals Modeling Christmas Birthday Wedding Party Decorations\",\n",
            "    \"Precio\": \"5.88\",\n",
            "    \"imagen_url\": \"https://m.media-amazon.com/images/I/61+YdHklKfL._SL300_.jpg\",\n",
            "    \"descripcion\": \"100Pcs 260 Balloons White Long Balloons for Balloon Garland Thickening Skinny Latex Twisting Balloon for Animals Modeling Christmas Birthday Wedding Party Decorations\",\n",
            "    \"seccion\": \"Hogar\",\n",
            "    \"base_domain\": \"amazon.com\",\n",
            "    \"base_product_url\": \"https://www.amazon.com/Balloons-Thickening-Twisting-Christmas-Decorations/dp/B09DYKFSQ8\"\n",
            "  },\n",
            "  {\n",
            "    \"ID\": \"B088WNFBCP\",\n",
            "    \"title\": \"Toilet Seat Cover Paper Flushable (50 Pack) - XL for Adults and Kids Potty Training, 100% Biodegradable Travel Supplies Essentials for Public Restrooms, Airplane, Camping, Festivals\",\n",
            "    \"Precio\": \"9.99\",\n",
            "    \"imagen_url\": \"https://m.media-amazon.com/images/I/71h6vxEDd5L._SL300_.jpg\",\n",
            "    \"descripcion\": \"Toilet Seat Cover Paper Flushable (50 Pack) - XL for Adults and Kids Potty Training, 100% Biodegradable Travel Supplies Essentials for Public Restrooms, Airplane, Camping, Festivals\",\n",
            "    \"seccion\": \"Salud\",\n",
            "    \"base_domain\": \"amazon.com\",\n",
            "    \"base_product_url\": \"https://www.amazon.com/Toilet-Seat-Covers-Paper-Flushable/dp/B088WNFBCP\"\n",
            "  },\n",
            "  {\n",
            "    \"ID\": \"B096NXV57Z\",\n",
            "    \"title\": \"LAO XUE Basketball Net Outdoor,(7.16 oz) 12 Loops Professional Heavy Duty Basketball Net Replacement,All Weather Anti Whip, Suitable for Outdoor Standard Basketball Hoop\",\n",
            "    \"Precio\": \"9.99\",\n",
            "    \"imagen_url\": \"https://m.media-amazon.com/images/I/7192sN2VI4L._SL300_.jpg\",\n",
            "    \"descripcion\": \"LAO XUE Basketball Net Outdoor,(7.16 oz) 12 Loops Professional Heavy Duty Basketball Net Replacement,All Weather Anti Whip,Suitable for Outdoor Standard Basketball Hoop\",\n",
            "    \"seccion\": \"Deportes\",\n",
            "    \"base_domain\": \"amazon.com\",\n",
            "    \"base_product_url\": \"https://www.amazon.com/LAO-XUE-Basketball-Professional-Replacement/dp/B096NXV57Z\"\n",
            "  },\n",
            "  {\n",
            "    \"ID\": \"B0C9MZRBR7\",\n",
            "    \"title\": \"Caring Nitrile Exam Gloves, Blue, Powder-Free, Disposable Gloves for Medical Care, First Aid, Cleaning, Food Prep\",\n",
            "    \"Precio\": \"6.79\",\n",
            "    \"imagen_url\": \"https://m.media-amazon.com/images/I/51xF4mRRp+L._SL300_.jpg\",\n",
            "    \"descripcion\": \"Caring Nitrile Exam Gloves, Blue, Powder-Free, Disposable Gloves for Medical Care, First Aid, Cleaning, Food Prep\",\n",
            "    \"seccion\": \"Salud\",\n",
            "    \"base_domain\": \"amazon.com\",\n",
            "    \"base_product_url\": \"https://www.amazon.com/Caring-Nitrile-Natural-Medical-Cleaning/dp/B0C9MZRBR7\"\n",
            "  },\n",
            "  {\n",
            "    \"ID\": \"B098VYV9WP\",\n",
            "    \"title\": \"SUPRUS Electric Lighter Arc Windproof Flameless USB Rechargeable Lighter with Safety Lock for Candle BBQ Camping (Champagne Gold)\",\n",
            "    \"Precio\": \"9.99\",\n",
            "    \"imagen_url\": \"https://m.media-amazon.com/images/I/41zC+VIzwSL._SL300_.jpg\",\n",
            "    \"descripcion\": \"SUPRUS Electric Lighter Arc Windproof Flameless USB Rechargeable Lighter with Safety Lock for Candle BBQ Camping (Champagne Gold)\",\n",
            "    \"seccion\": \"Hogar\",\n",
            "    \"base_domain\": \"amazon.com\",\n",
            "    \"base_product_url\": \"https://www.amazon.com/SUPRUS-Electric-Windproof-Flameless-Rechargeable/dp/B098VYV9WP\"\n",
            "  },\n",
            "  {\n",
            "    \"ID\": \"B0C27C351V\",\n",
            "    \"title\": \"ROBBEAR Baby Teething Toys, Food Grade Silicone Teether for Babies 3 6 12 18 Months, TV Remote Shape Toddlers Chew Toys, Freezer BPA Free (Pink RC)\",\n",
            "    \"Precio\": \"5.79\",\n",
            "    \"imagen_url\": \"https://m.media-amazon.com/images/I/61xOWN3nmFL._SL300_.jpg\",\n",
            "    \"descripcion\": \"ROBBEAR Baby Teething Toys, Food Grade Silicone Teether for Babies 3 6 12 18 Months, TV Remote Shape Toddlers Chew Toys, Freezer BPA Free (Pink RC)\",\n",
            "    \"seccion\": \"Juguetes\",\n",
            "    \"base_domain\": \"amazon.com\",\n",
            "    \"base_product_url\": \"https://www.amazon.com/ROBBEAR-Teething-Silicone-Teether-Toddlers/dp/B0C27C351V\"\n",
            "  },\n",
            "  {\n",
            "    \"ID\": \"B0B3RJ9JFM\",\n",
            "    \"title\": \"Landisun Fruit Fly Traps 48PCS Fungus Gnat-Traps for Indoor-Outdoor Yellow Fruit-Fly Sticky-Trap Plants Flying Bug Insects Traps\",\n",
            "    \"Precio\": \"4.99\",\n",
            "    \"imagen_url\": \"https://m.media-amazon.com/images/I/71VC1ZHz82L._SL300_.jpg\",\n",
            "    \"descripcion\": \"Landisun Fruit Fly Traps 48PCS Fungus Gnat-Traps for Indoor-Outdoor Yellow Fruit-Fly Sticky-Trap Plants Flying Bug Insects Traps\",\n",
            "    \"seccion\": \"Hogar\",\n",
            "    \"base_domain\": \"amazon.com\",\n",
            "    \"base_product_url\": \"https://www.amazon.com/Landisun-Gnat-Traps-Indoor-Outdoor-Fruit-Fly-Trap-Insects/dp/B0B3RJ9JFM\"\n",
            "  },\n",
            "  {\n",
            "    \"ID\": \"B089K6PMTD\",\n",
            "    \"title\": \"5PCS Blackhead Remover Comedone Extractor, Curved Blackhead Tweezers Kit, Professional Stainless Pimple Acne Blemish Removal Tools Kit\",\n",
            "    \"Precio\": \"4.97\",\n",
            "    \"imagen_url\": \"https://m.media-amazon.com/images/I/71ncMgnbKaL._SL300_.jpg\",\n",
            "    \"descripcion\": \"5PCS Blackhead Remover Comedone Extractor, Curved Blackhead Tweezers Kit, Professional Stainless Pimple Acne Blemish Removal Tools Kit\",\n",
            "    \"seccion\": \"Belleza\",\n",
            "    \"base_domain\": \"amazon.com\",\n",
            "    \"base_product_url\": \"https://www.amazon.com/Blackhead-Comedone-Extractor-Professional-Stainless/dp/B089K6PMTD\"\n",
            "  },\n",
            "  {\n",
            "    \"ID\": \"B0CC93R2QZ\",\n",
            "    \"title\": \"Puroma 1 Pack Cabin Air Filter with Activated Carbon, Replacement for CP157, CF12157, Select Lexus, Mazda, Subaru and Toyota Avalon, Camry, Corolla, Highlander, Prius, RAV4, Sienna, Venza\",\n",
            "    \"Precio\": \"9.85\",\n",
            "    \"imagen_url\": \"https://m.media-amazon.com/images/I/81hfejdghFL._SL300_.jpg\",\n",
            "    \"descripcion\": \"Puroma 1 Pack Cabin Air Filter with Activated Carbon, Replacement for CP157, CF12157, Select Lexus, Mazda, Subaru and Toyota Avalon, Camry, Corolla, Highlander, Prius, RAV4, Sienna, Venza\",\n",
            "    \"seccion\": \"Vehiculos\",\n",
            "    \"base_domain\": \"amazon.com\",\n",
            "    \"base_product_url\": \"https://www.amazon.com/Puroma-Activated-Replacement-CF12157-Highlander/dp/B0CC93R2QZ\"\n",
            "  },\n",
            "  {\n",
            "    \"ID\": \"B09VX861QQ\",\n",
            "    \"title\": \"2 Pack H13 True HEPA Core Mini Replacement Filter for LEVOIT Core Mini Air Purifiers, 3-in-1 HEPA, High-Efficiency Activated Carbon\",\n",
            "    \"Precio\": \"17.99\",\n",
            "    \"imagen_url\": \"https://m.media-amazon.com/images/I/816ilJUBkfL._SL300_.jpg\",\n",
            "    \"descripcion\": \"2 Pack H13 True HEPA Core Mini Replacement Filter for LEVOIT Core Mini Air Purifiers, 3-in-1 HEPA, High-Efficiency Activated Carbon\",\n",
            "    \"seccion\": \"Hogar\",\n",
            "    \"base_domain\": \"amazon.com\",\n",
            "    \"base_product_url\": \"https://www.amazon.com/Replacement-Compatible-Purifiers-Efficiency-Fragrance/dp/B09VX861QQ\"\n",
            "  },\n",
            "  {\n",
            "    \"ID\": \"B0C58J4QND\",\n",
            "    \"title\": \"Artsunlvy White Paint Pens marking pens Permanent Markers - 2 Pack Oil Based Waterproof Markers for Tire, Rubber,Wood, Rocks, Metal, Canvas,Plastic, Dark Surface,Craft office Supplies,Medium Point\",\n",
            "    \"Precio\": \"6.99\",\n",
            "    \"imagen_url\": \"https://m.media-amazon.com/images/I/61nRB69y1dL._SL300_.jpg\",\n",
            "    \"descripcion\": \"Artsunlvy White Paint Pens marking pens Permanent Markers - 2 Pack Oil Based Waterproof Markers for Tire, Rubber,Wood, Rocks, Metal, Canvas,Plastic, Dark Surface,Craft office Supplies,Medium Point\",\n",
            "    \"seccion\": \"Hogar\",\n",
            "    \"base_domain\": \"amazon.com\",\n",
            "    \"base_product_url\": \"https://www.amazon.com/White-Paint-marking-Permanent-Markers/dp/B0C58J4QND\"\n",
            "  },\n",
            "  {\n",
            "    \"ID\": \"B06XBLH7RT\",\n",
            "    \"title\": \"WOGOD 5A Drum Sticks Maple Drumsticks (Two pair)\",\n",
            "    \"Precio\": \"6.99\",\n",
            "    \"imagen_url\": \"https://m.media-amazon.com/images/I/51AqrpNQbCS._SL300_.jpg\",\n",
            "    \"descripcion\": \"WOGOD 5A Drum Sticks Maple Drumsticks (Two pair)\",\n",
            "    \"seccion\": \"Juguetes\",\n",
            "    \"base_domain\": \"amazon.com\",\n",
            "    \"base_product_url\": \"https://www.amazon.com/WOGOD-Drum-Sticks-Maple-Drumsticks/dp/B06XBLH7RT\"\n",
            "  }\n",
            "]\n",
            "```\n",
            "amazon_2025-06-30_15-39-51_cleaned_products.json ha sido guardado\n"
          ]
        }
      ]
    }
  ],
  "metadata": {
    "colab": {
      "provenance": [],
      "include_colab_link": true
    },
    "kernelspec": {
      "display_name": "venv",
      "language": "python",
      "name": "python3"
    },
    "language_info": {
      "codemirror_mode": {
        "name": "ipython",
        "version": 3
      },
      "file_extension": ".py",
      "mimetype": "text/x-python",
      "name": "python",
      "nbconvert_exporter": "python",
      "pygments_lexer": "ipython3",
      "version": "3.10.13"
    }
  },
  "nbformat": 4,
  "nbformat_minor": 5
}