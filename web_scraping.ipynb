{
  "cells": [
    {
      "cell_type": "markdown",
      "metadata": {
        "id": "view-in-github",
        "colab_type": "text"
      },
      "source": [
        "<a href=\"https://colab.research.google.com/github/acpuche/web_scraping_genai/blob/main/web_scraping.ipynb\" target=\"_parent\"><img src=\"https://colab.research.google.com/assets/colab-badge.svg\" alt=\"Open In Colab\"/></a>"
      ]
    },
    {
      "cell_type": "markdown",
      "id": "1bebf6d5",
      "metadata": {
        "id": "1bebf6d5"
      },
      "source": [
        "# setup"
      ]
    },
    {
      "cell_type": "code",
      "source": [
        "#Requirements\n",
        "#!pip install asyncio==3.4.3\n",
        "#!pip install Crawl4AI==0.6.3\n",
        "#!pip install Unidecode==1.4.0\n",
        "\n",
        "#!pip install fastmcp==2.9.0\n",
        "\n",
        "# run playwright install\n",
        "\n",
        "!pip install -r /content/requirements.txt"
      ],
      "metadata": {
        "id": "2qlyBhHu0phW",
        "colab": {
          "base_uri": "https://localhost:8080/",
          "height": 1000
        },
        "outputId": "fef6dd9a-862a-4441-f2ee-6f3ba2eb069c",
        "collapsed": true
      },
      "id": "2qlyBhHu0phW",
      "execution_count": 1,
      "outputs": [
        {
          "output_type": "stream",
          "name": "stdout",
          "text": [
            "Collecting asyncio==3.4.3 (from -r /content/requirements.txt (line 1))\n",
            "  Downloading asyncio-3.4.3-py3-none-any.whl.metadata (1.7 kB)\n",
            "Collecting Crawl4AI==0.6.3 (from -r /content/requirements.txt (line 2))\n",
            "  Downloading crawl4ai-0.6.3-py3-none-any.whl.metadata (36 kB)\n",
            "Collecting Unidecode==1.4.0 (from -r /content/requirements.txt (line 3))\n",
            "  Downloading Unidecode-1.4.0-py3-none-any.whl.metadata (13 kB)\n",
            "Collecting aiosqlite~=0.20 (from Crawl4AI==0.6.3->-r /content/requirements.txt (line 2))\n",
            "  Downloading aiosqlite-0.21.0-py3-none-any.whl.metadata (4.3 kB)\n",
            "Requirement already satisfied: lxml~=5.3 in /usr/local/lib/python3.11/dist-packages (from Crawl4AI==0.6.3->-r /content/requirements.txt (line 2)) (5.4.0)\n",
            "Collecting litellm>=1.53.1 (from Crawl4AI==0.6.3->-r /content/requirements.txt (line 2))\n",
            "  Downloading litellm-1.73.0-py3-none-any.whl.metadata (39 kB)\n",
            "Requirement already satisfied: numpy<3,>=1.26.0 in /usr/local/lib/python3.11/dist-packages (from Crawl4AI==0.6.3->-r /content/requirements.txt (line 2)) (2.0.2)\n",
            "Collecting pillow~=10.4 (from Crawl4AI==0.6.3->-r /content/requirements.txt (line 2))\n",
            "  Downloading pillow-10.4.0-cp311-cp311-manylinux_2_28_x86_64.whl.metadata (9.2 kB)\n",
            "Collecting playwright>=1.49.0 (from Crawl4AI==0.6.3->-r /content/requirements.txt (line 2))\n",
            "  Downloading playwright-1.52.0-py3-none-manylinux1_x86_64.whl.metadata (3.5 kB)\n",
            "Collecting python-dotenv~=1.0 (from Crawl4AI==0.6.3->-r /content/requirements.txt (line 2))\n",
            "  Downloading python_dotenv-1.1.0-py3-none-any.whl.metadata (24 kB)\n",
            "Requirement already satisfied: requests~=2.26 in /usr/local/lib/python3.11/dist-packages (from Crawl4AI==0.6.3->-r /content/requirements.txt (line 2)) (2.32.3)\n",
            "Requirement already satisfied: beautifulsoup4~=4.12 in /usr/local/lib/python3.11/dist-packages (from Crawl4AI==0.6.3->-r /content/requirements.txt (line 2)) (4.13.4)\n",
            "Collecting tf-playwright-stealth>=1.1.0 (from Crawl4AI==0.6.3->-r /content/requirements.txt (line 2))\n",
            "  Downloading tf_playwright_stealth-1.2.0-py3-none-any.whl.metadata (2.5 kB)\n",
            "Requirement already satisfied: xxhash~=3.4 in /usr/local/lib/python3.11/dist-packages (from Crawl4AI==0.6.3->-r /content/requirements.txt (line 2)) (3.5.0)\n",
            "Collecting rank-bm25~=0.2 (from Crawl4AI==0.6.3->-r /content/requirements.txt (line 2))\n",
            "  Downloading rank_bm25-0.2.2-py3-none-any.whl.metadata (3.2 kB)\n",
            "Requirement already satisfied: aiofiles>=24.1.0 in /usr/local/lib/python3.11/dist-packages (from Crawl4AI==0.6.3->-r /content/requirements.txt (line 2)) (24.1.0)\n",
            "Collecting colorama~=0.4 (from Crawl4AI==0.6.3->-r /content/requirements.txt (line 2))\n",
            "  Downloading colorama-0.4.6-py2.py3-none-any.whl.metadata (17 kB)\n",
            "Collecting snowballstemmer~=2.2 (from Crawl4AI==0.6.3->-r /content/requirements.txt (line 2))\n",
            "  Downloading snowballstemmer-2.2.0-py2.py3-none-any.whl.metadata (6.5 kB)\n",
            "Requirement already satisfied: pydantic>=2.10 in /usr/local/lib/python3.11/dist-packages (from Crawl4AI==0.6.3->-r /content/requirements.txt (line 2)) (2.11.7)\n",
            "Collecting pyOpenSSL>=24.3.0 (from Crawl4AI==0.6.3->-r /content/requirements.txt (line 2))\n",
            "  Downloading pyopenssl-25.1.0-py3-none-any.whl.metadata (17 kB)\n",
            "Collecting psutil>=6.1.1 (from Crawl4AI==0.6.3->-r /content/requirements.txt (line 2))\n",
            "  Downloading psutil-7.0.0-cp36-abi3-manylinux_2_12_x86_64.manylinux2010_x86_64.manylinux_2_17_x86_64.manylinux2014_x86_64.whl.metadata (22 kB)\n",
            "Requirement already satisfied: nltk>=3.9.1 in /usr/local/lib/python3.11/dist-packages (from Crawl4AI==0.6.3->-r /content/requirements.txt (line 2)) (3.9.1)\n",
            "Requirement already satisfied: rich>=13.9.4 in /usr/local/lib/python3.11/dist-packages (from Crawl4AI==0.6.3->-r /content/requirements.txt (line 2)) (13.9.4)\n",
            "Collecting cssselect>=1.2.0 (from Crawl4AI==0.6.3->-r /content/requirements.txt (line 2))\n",
            "  Downloading cssselect-1.3.0-py3-none-any.whl.metadata (2.6 kB)\n",
            "Requirement already satisfied: httpx>=0.27.2 in /usr/local/lib/python3.11/dist-packages (from Crawl4AI==0.6.3->-r /content/requirements.txt (line 2)) (0.28.1)\n",
            "Collecting fake-useragent>=2.0.3 (from Crawl4AI==0.6.3->-r /content/requirements.txt (line 2))\n",
            "  Downloading fake_useragent-2.2.0-py3-none-any.whl.metadata (17 kB)\n",
            "Requirement already satisfied: click>=8.1.7 in /usr/local/lib/python3.11/dist-packages (from Crawl4AI==0.6.3->-r /content/requirements.txt (line 2)) (8.2.1)\n",
            "Requirement already satisfied: pyperclip>=1.8.2 in /usr/local/lib/python3.11/dist-packages (from Crawl4AI==0.6.3->-r /content/requirements.txt (line 2)) (1.9.0)\n",
            "Requirement already satisfied: chardet>=5.2.0 in /usr/local/lib/python3.11/dist-packages (from Crawl4AI==0.6.3->-r /content/requirements.txt (line 2)) (5.2.0)\n",
            "Requirement already satisfied: aiohttp>=3.11.11 in /usr/local/lib/python3.11/dist-packages (from Crawl4AI==0.6.3->-r /content/requirements.txt (line 2)) (3.11.15)\n",
            "Collecting brotli>=1.1.0 (from Crawl4AI==0.6.3->-r /content/requirements.txt (line 2))\n",
            "  Downloading Brotli-1.1.0-cp311-cp311-manylinux_2_17_x86_64.manylinux2014_x86_64.whl.metadata (5.5 kB)\n",
            "Requirement already satisfied: humanize>=4.10.0 in /usr/local/lib/python3.11/dist-packages (from Crawl4AI==0.6.3->-r /content/requirements.txt (line 2)) (4.12.3)\n",
            "Requirement already satisfied: aiohappyeyeballs>=2.3.0 in /usr/local/lib/python3.11/dist-packages (from aiohttp>=3.11.11->Crawl4AI==0.6.3->-r /content/requirements.txt (line 2)) (2.6.1)\n",
            "Requirement already satisfied: aiosignal>=1.1.2 in /usr/local/lib/python3.11/dist-packages (from aiohttp>=3.11.11->Crawl4AI==0.6.3->-r /content/requirements.txt (line 2)) (1.3.2)\n",
            "Requirement already satisfied: attrs>=17.3.0 in /usr/local/lib/python3.11/dist-packages (from aiohttp>=3.11.11->Crawl4AI==0.6.3->-r /content/requirements.txt (line 2)) (25.3.0)\n",
            "Requirement already satisfied: frozenlist>=1.1.1 in /usr/local/lib/python3.11/dist-packages (from aiohttp>=3.11.11->Crawl4AI==0.6.3->-r /content/requirements.txt (line 2)) (1.7.0)\n",
            "Requirement already satisfied: multidict<7.0,>=4.5 in /usr/local/lib/python3.11/dist-packages (from aiohttp>=3.11.11->Crawl4AI==0.6.3->-r /content/requirements.txt (line 2)) (6.4.4)\n",
            "Requirement already satisfied: propcache>=0.2.0 in /usr/local/lib/python3.11/dist-packages (from aiohttp>=3.11.11->Crawl4AI==0.6.3->-r /content/requirements.txt (line 2)) (0.3.2)\n",
            "Requirement already satisfied: yarl<2.0,>=1.17.0 in /usr/local/lib/python3.11/dist-packages (from aiohttp>=3.11.11->Crawl4AI==0.6.3->-r /content/requirements.txt (line 2)) (1.20.1)\n",
            "Requirement already satisfied: typing_extensions>=4.0 in /usr/local/lib/python3.11/dist-packages (from aiosqlite~=0.20->Crawl4AI==0.6.3->-r /content/requirements.txt (line 2)) (4.14.0)\n",
            "Requirement already satisfied: soupsieve>1.2 in /usr/local/lib/python3.11/dist-packages (from beautifulsoup4~=4.12->Crawl4AI==0.6.3->-r /content/requirements.txt (line 2)) (2.7)\n",
            "Requirement already satisfied: anyio in /usr/local/lib/python3.11/dist-packages (from httpx>=0.27.2->Crawl4AI==0.6.3->-r /content/requirements.txt (line 2)) (4.9.0)\n",
            "Requirement already satisfied: certifi in /usr/local/lib/python3.11/dist-packages (from httpx>=0.27.2->Crawl4AI==0.6.3->-r /content/requirements.txt (line 2)) (2025.6.15)\n",
            "Requirement already satisfied: httpcore==1.* in /usr/local/lib/python3.11/dist-packages (from httpx>=0.27.2->Crawl4AI==0.6.3->-r /content/requirements.txt (line 2)) (1.0.9)\n",
            "Requirement already satisfied: idna in /usr/local/lib/python3.11/dist-packages (from httpx>=0.27.2->Crawl4AI==0.6.3->-r /content/requirements.txt (line 2)) (3.10)\n",
            "Requirement already satisfied: h11>=0.16 in /usr/local/lib/python3.11/dist-packages (from httpcore==1.*->httpx>=0.27.2->Crawl4AI==0.6.3->-r /content/requirements.txt (line 2)) (0.16.0)\n",
            "Requirement already satisfied: importlib-metadata>=6.8.0 in /usr/local/lib/python3.11/dist-packages (from litellm>=1.53.1->Crawl4AI==0.6.3->-r /content/requirements.txt (line 2)) (8.7.0)\n",
            "Requirement already satisfied: jinja2<4.0.0,>=3.1.2 in /usr/local/lib/python3.11/dist-packages (from litellm>=1.53.1->Crawl4AI==0.6.3->-r /content/requirements.txt (line 2)) (3.1.6)\n",
            "Requirement already satisfied: jsonschema<5.0.0,>=4.22.0 in /usr/local/lib/python3.11/dist-packages (from litellm>=1.53.1->Crawl4AI==0.6.3->-r /content/requirements.txt (line 2)) (4.24.0)\n",
            "Requirement already satisfied: openai>=1.68.2 in /usr/local/lib/python3.11/dist-packages (from litellm>=1.53.1->Crawl4AI==0.6.3->-r /content/requirements.txt (line 2)) (1.86.0)\n",
            "Requirement already satisfied: tiktoken>=0.7.0 in /usr/local/lib/python3.11/dist-packages (from litellm>=1.53.1->Crawl4AI==0.6.3->-r /content/requirements.txt (line 2)) (0.9.0)\n",
            "Requirement already satisfied: tokenizers in /usr/local/lib/python3.11/dist-packages (from litellm>=1.53.1->Crawl4AI==0.6.3->-r /content/requirements.txt (line 2)) (0.21.1)\n",
            "Requirement already satisfied: joblib in /usr/local/lib/python3.11/dist-packages (from nltk>=3.9.1->Crawl4AI==0.6.3->-r /content/requirements.txt (line 2)) (1.5.1)\n",
            "Requirement already satisfied: regex>=2021.8.3 in /usr/local/lib/python3.11/dist-packages (from nltk>=3.9.1->Crawl4AI==0.6.3->-r /content/requirements.txt (line 2)) (2024.11.6)\n",
            "Requirement already satisfied: tqdm in /usr/local/lib/python3.11/dist-packages (from nltk>=3.9.1->Crawl4AI==0.6.3->-r /content/requirements.txt (line 2)) (4.67.1)\n",
            "Collecting pyee<14,>=13 (from playwright>=1.49.0->Crawl4AI==0.6.3->-r /content/requirements.txt (line 2))\n",
            "  Downloading pyee-13.0.0-py3-none-any.whl.metadata (2.9 kB)\n",
            "Requirement already satisfied: greenlet<4.0.0,>=3.1.1 in /usr/local/lib/python3.11/dist-packages (from playwright>=1.49.0->Crawl4AI==0.6.3->-r /content/requirements.txt (line 2)) (3.2.3)\n",
            "Requirement already satisfied: annotated-types>=0.6.0 in /usr/local/lib/python3.11/dist-packages (from pydantic>=2.10->Crawl4AI==0.6.3->-r /content/requirements.txt (line 2)) (0.7.0)\n",
            "Requirement already satisfied: pydantic-core==2.33.2 in /usr/local/lib/python3.11/dist-packages (from pydantic>=2.10->Crawl4AI==0.6.3->-r /content/requirements.txt (line 2)) (2.33.2)\n",
            "Requirement already satisfied: typing-inspection>=0.4.0 in /usr/local/lib/python3.11/dist-packages (from pydantic>=2.10->Crawl4AI==0.6.3->-r /content/requirements.txt (line 2)) (0.4.1)\n",
            "Requirement already satisfied: cryptography<46,>=41.0.5 in /usr/local/lib/python3.11/dist-packages (from pyOpenSSL>=24.3.0->Crawl4AI==0.6.3->-r /content/requirements.txt (line 2)) (43.0.3)\n",
            "Requirement already satisfied: charset-normalizer<4,>=2 in /usr/local/lib/python3.11/dist-packages (from requests~=2.26->Crawl4AI==0.6.3->-r /content/requirements.txt (line 2)) (3.4.2)\n",
            "Requirement already satisfied: urllib3<3,>=1.21.1 in /usr/local/lib/python3.11/dist-packages (from requests~=2.26->Crawl4AI==0.6.3->-r /content/requirements.txt (line 2)) (2.4.0)\n",
            "Requirement already satisfied: markdown-it-py>=2.2.0 in /usr/local/lib/python3.11/dist-packages (from rich>=13.9.4->Crawl4AI==0.6.3->-r /content/requirements.txt (line 2)) (3.0.0)\n",
            "Requirement already satisfied: pygments<3.0.0,>=2.13.0 in /usr/local/lib/python3.11/dist-packages (from rich>=13.9.4->Crawl4AI==0.6.3->-r /content/requirements.txt (line 2)) (2.19.1)\n",
            "Collecting fake-http-header<0.4.0,>=0.3.5 (from tf-playwright-stealth>=1.1.0->Crawl4AI==0.6.3->-r /content/requirements.txt (line 2))\n",
            "  Downloading fake_http_header-0.3.5-py3-none-any.whl.metadata (3.5 kB)\n",
            "Requirement already satisfied: cffi>=1.12 in /usr/local/lib/python3.11/dist-packages (from cryptography<46,>=41.0.5->pyOpenSSL>=24.3.0->Crawl4AI==0.6.3->-r /content/requirements.txt (line 2)) (1.17.1)\n",
            "Requirement already satisfied: zipp>=3.20 in /usr/local/lib/python3.11/dist-packages (from importlib-metadata>=6.8.0->litellm>=1.53.1->Crawl4AI==0.6.3->-r /content/requirements.txt (line 2)) (3.23.0)\n",
            "Requirement already satisfied: MarkupSafe>=2.0 in /usr/local/lib/python3.11/dist-packages (from jinja2<4.0.0,>=3.1.2->litellm>=1.53.1->Crawl4AI==0.6.3->-r /content/requirements.txt (line 2)) (3.0.2)\n",
            "Requirement already satisfied: jsonschema-specifications>=2023.03.6 in /usr/local/lib/python3.11/dist-packages (from jsonschema<5.0.0,>=4.22.0->litellm>=1.53.1->Crawl4AI==0.6.3->-r /content/requirements.txt (line 2)) (2025.4.1)\n",
            "Requirement already satisfied: referencing>=0.28.4 in /usr/local/lib/python3.11/dist-packages (from jsonschema<5.0.0,>=4.22.0->litellm>=1.53.1->Crawl4AI==0.6.3->-r /content/requirements.txt (line 2)) (0.36.2)\n",
            "Requirement already satisfied: rpds-py>=0.7.1 in /usr/local/lib/python3.11/dist-packages (from jsonschema<5.0.0,>=4.22.0->litellm>=1.53.1->Crawl4AI==0.6.3->-r /content/requirements.txt (line 2)) (0.25.1)\n",
            "Requirement already satisfied: mdurl~=0.1 in /usr/local/lib/python3.11/dist-packages (from markdown-it-py>=2.2.0->rich>=13.9.4->Crawl4AI==0.6.3->-r /content/requirements.txt (line 2)) (0.1.2)\n",
            "Requirement already satisfied: distro<2,>=1.7.0 in /usr/local/lib/python3.11/dist-packages (from openai>=1.68.2->litellm>=1.53.1->Crawl4AI==0.6.3->-r /content/requirements.txt (line 2)) (1.9.0)\n",
            "Requirement already satisfied: jiter<1,>=0.4.0 in /usr/local/lib/python3.11/dist-packages (from openai>=1.68.2->litellm>=1.53.1->Crawl4AI==0.6.3->-r /content/requirements.txt (line 2)) (0.10.0)\n",
            "Requirement already satisfied: sniffio in /usr/local/lib/python3.11/dist-packages (from openai>=1.68.2->litellm>=1.53.1->Crawl4AI==0.6.3->-r /content/requirements.txt (line 2)) (1.3.1)\n",
            "Requirement already satisfied: huggingface-hub<1.0,>=0.16.4 in /usr/local/lib/python3.11/dist-packages (from tokenizers->litellm>=1.53.1->Crawl4AI==0.6.3->-r /content/requirements.txt (line 2)) (0.33.0)\n",
            "Requirement already satisfied: pycparser in /usr/local/lib/python3.11/dist-packages (from cffi>=1.12->cryptography<46,>=41.0.5->pyOpenSSL>=24.3.0->Crawl4AI==0.6.3->-r /content/requirements.txt (line 2)) (2.22)\n",
            "Requirement already satisfied: filelock in /usr/local/lib/python3.11/dist-packages (from huggingface-hub<1.0,>=0.16.4->tokenizers->litellm>=1.53.1->Crawl4AI==0.6.3->-r /content/requirements.txt (line 2)) (3.18.0)\n",
            "Requirement already satisfied: fsspec>=2023.5.0 in /usr/local/lib/python3.11/dist-packages (from huggingface-hub<1.0,>=0.16.4->tokenizers->litellm>=1.53.1->Crawl4AI==0.6.3->-r /content/requirements.txt (line 2)) (2025.3.2)\n",
            "Requirement already satisfied: packaging>=20.9 in /usr/local/lib/python3.11/dist-packages (from huggingface-hub<1.0,>=0.16.4->tokenizers->litellm>=1.53.1->Crawl4AI==0.6.3->-r /content/requirements.txt (line 2)) (24.2)\n",
            "Requirement already satisfied: pyyaml>=5.1 in /usr/local/lib/python3.11/dist-packages (from huggingface-hub<1.0,>=0.16.4->tokenizers->litellm>=1.53.1->Crawl4AI==0.6.3->-r /content/requirements.txt (line 2)) (6.0.2)\n",
            "Requirement already satisfied: hf-xet<2.0.0,>=1.1.2 in /usr/local/lib/python3.11/dist-packages (from huggingface-hub<1.0,>=0.16.4->tokenizers->litellm>=1.53.1->Crawl4AI==0.6.3->-r /content/requirements.txt (line 2)) (1.1.3)\n",
            "Downloading asyncio-3.4.3-py3-none-any.whl (101 kB)\n",
            "\u001b[2K   \u001b[90m━━━━━━━━━━━━━━━━━━━━━━━━━━━━━━━━━━━━━━━━\u001b[0m \u001b[32m101.8/101.8 kB\u001b[0m \u001b[31m4.6 MB/s\u001b[0m eta \u001b[36m0:00:00\u001b[0m\n",
            "\u001b[?25hDownloading crawl4ai-0.6.3-py3-none-any.whl (292 kB)\n",
            "\u001b[2K   \u001b[90m━━━━━━━━━━━━━━━━━━━━━━━━━━━━━━━━━━━━━━━━\u001b[0m \u001b[32m292.8/292.8 kB\u001b[0m \u001b[31m12.1 MB/s\u001b[0m eta \u001b[36m0:00:00\u001b[0m\n",
            "\u001b[?25hDownloading Unidecode-1.4.0-py3-none-any.whl (235 kB)\n",
            "\u001b[2K   \u001b[90m━━━━━━━━━━━━━━━━━━━━━━━━━━━━━━━━━━━━━━━━\u001b[0m \u001b[32m235.8/235.8 kB\u001b[0m \u001b[31m23.7 MB/s\u001b[0m eta \u001b[36m0:00:00\u001b[0m\n",
            "\u001b[?25hDownloading aiosqlite-0.21.0-py3-none-any.whl (15 kB)\n",
            "Downloading Brotli-1.1.0-cp311-cp311-manylinux_2_17_x86_64.manylinux2014_x86_64.whl (2.9 MB)\n",
            "\u001b[2K   \u001b[90m━━━━━━━━━━━━━━━━━━━━━━━━━━━━━━━━━━━━━━━━\u001b[0m \u001b[32m2.9/2.9 MB\u001b[0m \u001b[31m48.5 MB/s\u001b[0m eta \u001b[36m0:00:00\u001b[0m\n",
            "\u001b[?25hDownloading colorama-0.4.6-py2.py3-none-any.whl (25 kB)\n",
            "Downloading cssselect-1.3.0-py3-none-any.whl (18 kB)\n",
            "Downloading fake_useragent-2.2.0-py3-none-any.whl (161 kB)\n",
            "\u001b[2K   \u001b[90m━━━━━━━━━━━━━━━━━━━━━━━━━━━━━━━━━━━━━━━━\u001b[0m \u001b[32m161.7/161.7 kB\u001b[0m \u001b[31m18.9 MB/s\u001b[0m eta \u001b[36m0:00:00\u001b[0m\n",
            "\u001b[?25hDownloading litellm-1.73.0-py3-none-any.whl (8.4 MB)\n",
            "\u001b[2K   \u001b[90m━━━━━━━━━━━━━━━━━━━━━━━━━━━━━━━━━━━━━━━━\u001b[0m \u001b[32m8.4/8.4 MB\u001b[0m \u001b[31m105.1 MB/s\u001b[0m eta \u001b[36m0:00:00\u001b[0m\n",
            "\u001b[?25hDownloading pillow-10.4.0-cp311-cp311-manylinux_2_28_x86_64.whl (4.5 MB)\n",
            "\u001b[2K   \u001b[90m━━━━━━━━━━━━━━━━━━━━━━━━━━━━━━━━━━━━━━━━\u001b[0m \u001b[32m4.5/4.5 MB\u001b[0m \u001b[31m104.6 MB/s\u001b[0m eta \u001b[36m0:00:00\u001b[0m\n",
            "\u001b[?25hDownloading playwright-1.52.0-py3-none-manylinux1_x86_64.whl (45.1 MB)\n",
            "\u001b[2K   \u001b[90m━━━━━━━━━━━━━━━━━━━━━━━━━━━━━━━━━━━━━━━━\u001b[0m \u001b[32m45.1/45.1 MB\u001b[0m \u001b[31m17.8 MB/s\u001b[0m eta \u001b[36m0:00:00\u001b[0m\n",
            "\u001b[?25hDownloading psutil-7.0.0-cp36-abi3-manylinux_2_12_x86_64.manylinux2010_x86_64.manylinux_2_17_x86_64.manylinux2014_x86_64.whl (277 kB)\n",
            "\u001b[2K   \u001b[90m━━━━━━━━━━━━━━━━━━━━━━━━━━━━━━━━━━━━━━━━\u001b[0m \u001b[32m278.0/278.0 kB\u001b[0m \u001b[31m28.5 MB/s\u001b[0m eta \u001b[36m0:00:00\u001b[0m\n",
            "\u001b[?25hDownloading pyopenssl-25.1.0-py3-none-any.whl (56 kB)\n",
            "\u001b[2K   \u001b[90m━━━━━━━━━━━━━━━━━━━━━━━━━━━━━━━━━━━━━━━━\u001b[0m \u001b[32m56.8/56.8 kB\u001b[0m \u001b[31m6.1 MB/s\u001b[0m eta \u001b[36m0:00:00\u001b[0m\n",
            "\u001b[?25hDownloading python_dotenv-1.1.0-py3-none-any.whl (20 kB)\n",
            "Downloading rank_bm25-0.2.2-py3-none-any.whl (8.6 kB)\n",
            "Downloading snowballstemmer-2.2.0-py2.py3-none-any.whl (93 kB)\n",
            "\u001b[2K   \u001b[90m━━━━━━━━━━━━━━━━━━━━━━━━━━━━━━━━━━━━━━━━\u001b[0m \u001b[32m93.0/93.0 kB\u001b[0m \u001b[31m10.3 MB/s\u001b[0m eta \u001b[36m0:00:00\u001b[0m\n",
            "\u001b[?25hDownloading tf_playwright_stealth-1.2.0-py3-none-any.whl (33 kB)\n",
            "Downloading fake_http_header-0.3.5-py3-none-any.whl (14 kB)\n",
            "Downloading pyee-13.0.0-py3-none-any.whl (15 kB)\n",
            "Installing collected packages: snowballstemmer, brotli, asyncio, Unidecode, rank-bm25, python-dotenv, pyee, psutil, pillow, fake-useragent, fake-http-header, cssselect, colorama, aiosqlite, playwright, tf-playwright-stealth, pyOpenSSL, litellm, Crawl4AI\n",
            "  Attempting uninstall: snowballstemmer\n",
            "    Found existing installation: snowballstemmer 3.0.1\n",
            "    Uninstalling snowballstemmer-3.0.1:\n",
            "      Successfully uninstalled snowballstemmer-3.0.1\n",
            "  Attempting uninstall: psutil\n",
            "    Found existing installation: psutil 5.9.5\n",
            "    Uninstalling psutil-5.9.5:\n",
            "      Successfully uninstalled psutil-5.9.5\n",
            "  Attempting uninstall: pillow\n",
            "    Found existing installation: pillow 11.2.1\n",
            "    Uninstalling pillow-11.2.1:\n",
            "      Successfully uninstalled pillow-11.2.1\n",
            "  Attempting uninstall: pyOpenSSL\n",
            "    Found existing installation: pyOpenSSL 24.2.1\n",
            "    Uninstalling pyOpenSSL-24.2.1:\n",
            "      Successfully uninstalled pyOpenSSL-24.2.1\n",
            "\u001b[31mERROR: pip's dependency resolver does not currently take into account all the packages that are installed. This behaviour is the source of the following dependency conflicts.\n",
            "pydrive2 1.21.3 requires pyOpenSSL<=24.2.1,>=19.1.0, but you have pyopenssl 25.1.0 which is incompatible.\u001b[0m\u001b[31m\n",
            "\u001b[0mSuccessfully installed Crawl4AI-0.6.3 Unidecode-1.4.0 aiosqlite-0.21.0 asyncio-3.4.3 brotli-1.1.0 colorama-0.4.6 cssselect-1.3.0 fake-http-header-0.3.5 fake-useragent-2.2.0 litellm-1.73.0 pillow-10.4.0 playwright-1.52.0 psutil-7.0.0 pyOpenSSL-25.1.0 pyee-13.0.0 python-dotenv-1.1.0 rank-bm25-0.2.2 snowballstemmer-2.2.0 tf-playwright-stealth-1.2.0\n"
          ]
        },
        {
          "output_type": "display_data",
          "data": {
            "application/vnd.colab-display-data+json": {
              "pip_warning": {
                "packages": [
                  "PIL",
                  "asyncio",
                  "psutil"
                ]
              },
              "id": "31ba1a85f2bd404f90a9503194bea1fc"
            }
          },
          "metadata": {}
        }
      ]
    },
    {
      "cell_type": "code",
      "source": [
        "!playwright install"
      ],
      "metadata": {
        "colab": {
          "base_uri": "https://localhost:8080/"
        },
        "collapsed": true,
        "id": "qW8kmNa2KRWg",
        "outputId": "b30affde-347e-4c0d-a769-502839edf5d1"
      },
      "id": "qW8kmNa2KRWg",
      "execution_count": 2,
      "outputs": [
        {
          "output_type": "stream",
          "name": "stdout",
          "text": [
            "Downloading Chromium 136.0.7103.25 (playwright build v1169)\u001b[2m from https://cdn.playwright.dev/dbazure/download/playwright/builds/chromium/1169/chromium-linux.zip\u001b[22m\n",
            "\u001b[1G167.7 MiB [] 0% 0.0s\u001b[0K\u001b[1G167.7 MiB [] 0% 75.1s\u001b[0K\u001b[1G167.7 MiB [] 0% 47.2s\u001b[0K\u001b[1G167.7 MiB [] 0% 28.4s\u001b[0K\u001b[1G167.7 MiB [] 0% 17.1s\u001b[0K\u001b[1G167.7 MiB [] 0% 10.7s\u001b[0K\u001b[1G167.7 MiB [] 1% 6.8s\u001b[0K\u001b[1G167.7 MiB [] 2% 6.1s\u001b[0K\u001b[1G167.7 MiB [] 2% 5.8s\u001b[0K\u001b[1G167.7 MiB [] 3% 4.5s\u001b[0K\u001b[1G167.7 MiB [] 4% 3.7s\u001b[0K\u001b[1G167.7 MiB [] 5% 3.3s\u001b[0K\u001b[1G167.7 MiB [] 6% 3.2s\u001b[0K\u001b[1G167.7 MiB [] 6% 3.1s\u001b[0K\u001b[1G167.7 MiB [] 7% 3.0s\u001b[0K\u001b[1G167.7 MiB [] 8% 2.7s\u001b[0K\u001b[1G167.7 MiB [] 9% 2.6s\u001b[0K\u001b[1G167.7 MiB [] 10% 2.5s\u001b[0K\u001b[1G167.7 MiB [] 11% 2.4s\u001b[0K\u001b[1G167.7 MiB [] 12% 2.3s\u001b[0K\u001b[1G167.7 MiB [] 13% 2.2s\u001b[0K\u001b[1G167.7 MiB [] 14% 2.1s\u001b[0K\u001b[1G167.7 MiB [] 16% 1.9s\u001b[0K\u001b[1G167.7 MiB [] 17% 1.8s\u001b[0K\u001b[1G167.7 MiB [] 19% 1.7s\u001b[0K\u001b[1G167.7 MiB [] 20% 1.7s\u001b[0K\u001b[1G167.7 MiB [] 21% 1.6s\u001b[0K\u001b[1G167.7 MiB [] 23% 1.5s\u001b[0K\u001b[1G167.7 MiB [] 24% 1.5s\u001b[0K\u001b[1G167.7 MiB [] 25% 1.4s\u001b[0K\u001b[1G167.7 MiB [] 27% 1.4s\u001b[0K\u001b[1G167.7 MiB [] 29% 1.4s\u001b[0K\u001b[1G167.7 MiB [] 30% 1.3s\u001b[0K\u001b[1G167.7 MiB [] 32% 1.2s\u001b[0K\u001b[1G167.7 MiB [] 33% 1.2s\u001b[0K\u001b[1G167.7 MiB [] 35% 1.1s\u001b[0K\u001b[1G167.7 MiB [] 37% 1.1s\u001b[0K\u001b[1G167.7 MiB [] 38% 1.0s\u001b[0K\u001b[1G167.7 MiB [] 40% 1.0s\u001b[0K\u001b[1G167.7 MiB [] 42% 0.9s\u001b[0K\u001b[1G167.7 MiB [] 43% 0.9s\u001b[0K\u001b[1G167.7 MiB [] 44% 0.9s\u001b[0K\u001b[1G167.7 MiB [] 45% 0.9s\u001b[0K\u001b[1G167.7 MiB [] 46% 0.9s\u001b[0K\u001b[1G167.7 MiB [] 47% 0.9s\u001b[0K\u001b[1G167.7 MiB [] 48% 0.9s\u001b[0K\u001b[1G167.7 MiB [] 49% 0.8s\u001b[0K\u001b[1G167.7 MiB [] 50% 0.8s\u001b[0K\u001b[1G167.7 MiB [] 51% 0.8s\u001b[0K\u001b[1G167.7 MiB [] 52% 0.8s\u001b[0K\u001b[1G167.7 MiB [] 53% 0.8s\u001b[0K\u001b[1G167.7 MiB [] 54% 0.8s\u001b[0K\u001b[1G167.7 MiB [] 55% 0.7s\u001b[0K\u001b[1G167.7 MiB [] 56% 0.7s\u001b[0K\u001b[1G167.7 MiB [] 57% 0.7s\u001b[0K\u001b[1G167.7 MiB [] 59% 0.7s\u001b[0K\u001b[1G167.7 MiB [] 60% 0.6s\u001b[0K\u001b[1G167.7 MiB [] 61% 0.6s\u001b[0K\u001b[1G167.7 MiB [] 63% 0.6s\u001b[0K\u001b[1G167.7 MiB [] 64% 0.6s\u001b[0K\u001b[1G167.7 MiB [] 66% 0.5s\u001b[0K\u001b[1G167.7 MiB [] 67% 0.5s\u001b[0K\u001b[1G167.7 MiB [] 69% 0.5s\u001b[0K\u001b[1G167.7 MiB [] 70% 0.5s\u001b[0K\u001b[1G167.7 MiB [] 72% 0.4s\u001b[0K\u001b[1G167.7 MiB [] 73% 0.4s\u001b[0K\u001b[1G167.7 MiB [] 74% 0.4s\u001b[0K\u001b[1G167.7 MiB [] 76% 0.4s\u001b[0K\u001b[1G167.7 MiB [] 77% 0.3s\u001b[0K\u001b[1G167.7 MiB [] 78% 0.3s\u001b[0K\u001b[1G167.7 MiB [] 79% 0.3s\u001b[0K\u001b[1G167.7 MiB [] 81% 0.3s\u001b[0K\u001b[1G167.7 MiB [] 82% 0.3s\u001b[0K\u001b[1G167.7 MiB [] 84% 0.2s\u001b[0K\u001b[1G167.7 MiB [] 85% 0.2s\u001b[0K\u001b[1G167.7 MiB [] 87% 0.2s\u001b[0K\u001b[1G167.7 MiB [] 89% 0.2s\u001b[0K\u001b[1G167.7 MiB [] 90% 0.1s\u001b[0K\u001b[1G167.7 MiB [] 91% 0.1s\u001b[0K\u001b[1G167.7 MiB [] 93% 0.1s\u001b[0K\u001b[1G167.7 MiB [] 95% 0.1s\u001b[0K\u001b[1G167.7 MiB [] 96% 0.0s\u001b[0K\u001b[1G167.7 MiB [] 98% 0.0s\u001b[0K\u001b[1G167.7 MiB [] 99% 0.0s\u001b[0K\u001b[1G167.7 MiB [] 100% 0.0s\u001b[0K\n",
            "Chromium 136.0.7103.25 (playwright build v1169) downloaded to /root/.cache/ms-playwright/chromium-1169\n",
            "Downloading Chromium Headless Shell 136.0.7103.25 (playwright build v1169)\u001b[2m from https://cdn.playwright.dev/dbazure/download/playwright/builds/chromium/1169/chromium-headless-shell-linux.zip\u001b[22m\n",
            "\u001b[1G101.4 MiB [] 0% 0.0s\u001b[0K\u001b[1G101.4 MiB [] 0% 33.9s\u001b[0K\u001b[1G101.4 MiB [] 0% 32.0s\u001b[0K\u001b[1G101.4 MiB [] 0% 21.6s\u001b[0K\u001b[1G101.4 MiB [] 0% 16.0s\u001b[0K\u001b[1G101.4 MiB [] 0% 10.9s\u001b[0K\u001b[1G101.4 MiB [] 1% 7.0s\u001b[0K\u001b[1G101.4 MiB [] 1% 6.8s\u001b[0K\u001b[1G101.4 MiB [] 2% 6.0s\u001b[0K\u001b[1G101.4 MiB [] 2% 5.7s\u001b[0K\u001b[1G101.4 MiB [] 3% 5.3s\u001b[0K\u001b[1G101.4 MiB [] 3% 5.2s\u001b[0K\u001b[1G101.4 MiB [] 4% 4.9s\u001b[0K\u001b[1G101.4 MiB [] 5% 4.5s\u001b[0K\u001b[1G101.4 MiB [] 5% 4.4s\u001b[0K\u001b[1G101.4 MiB [] 6% 3.9s\u001b[0K\u001b[1G101.4 MiB [] 8% 3.5s\u001b[0K\u001b[1G101.4 MiB [] 8% 3.3s\u001b[0K\u001b[1G101.4 MiB [] 9% 3.1s\u001b[0K\u001b[1G101.4 MiB [] 9% 3.3s\u001b[0K\u001b[1G101.4 MiB [] 11% 3.0s\u001b[0K\u001b[1G101.4 MiB [] 11% 3.1s\u001b[0K\u001b[1G101.4 MiB [] 12% 3.0s\u001b[0K\u001b[1G101.4 MiB [] 13% 2.8s\u001b[0K\u001b[1G101.4 MiB [] 14% 2.6s\u001b[0K\u001b[1G101.4 MiB [] 15% 2.6s\u001b[0K\u001b[1G101.4 MiB [] 16% 2.5s\u001b[0K\u001b[1G101.4 MiB [] 18% 2.3s\u001b[0K\u001b[1G101.4 MiB [] 19% 2.2s\u001b[0K\u001b[1G101.4 MiB [] 21% 2.0s\u001b[0K\u001b[1G101.4 MiB [] 22% 1.9s\u001b[0K\u001b[1G101.4 MiB [] 24% 1.8s\u001b[0K\u001b[1G101.4 MiB [] 25% 1.7s\u001b[0K\u001b[1G101.4 MiB [] 26% 1.7s\u001b[0K\u001b[1G101.4 MiB [] 28% 1.6s\u001b[0K\u001b[1G101.4 MiB [] 30% 1.5s\u001b[0K\u001b[1G101.4 MiB [] 31% 1.5s\u001b[0K\u001b[1G101.4 MiB [] 32% 1.4s\u001b[0K\u001b[1G101.4 MiB [] 33% 1.4s\u001b[0K\u001b[1G101.4 MiB [] 34% 1.3s\u001b[0K\u001b[1G101.4 MiB [] 35% 1.3s\u001b[0K\u001b[1G101.4 MiB [] 37% 1.2s\u001b[0K\u001b[1G101.4 MiB [] 38% 1.2s\u001b[0K\u001b[1G101.4 MiB [] 39% 1.2s\u001b[0K\u001b[1G101.4 MiB [] 41% 1.1s\u001b[0K\u001b[1G101.4 MiB [] 43% 1.0s\u001b[0K\u001b[1G101.4 MiB [] 44% 1.0s\u001b[0K\u001b[1G101.4 MiB [] 46% 1.0s\u001b[0K\u001b[1G101.4 MiB [] 48% 0.9s\u001b[0K\u001b[1G101.4 MiB [] 50% 0.9s\u001b[0K\u001b[1G101.4 MiB [] 52% 0.8s\u001b[0K\u001b[1G101.4 MiB [] 54% 0.8s\u001b[0K\u001b[1G101.4 MiB [] 56% 0.7s\u001b[0K\u001b[1G101.4 MiB [] 57% 0.7s\u001b[0K\u001b[1G101.4 MiB [] 59% 0.7s\u001b[0K\u001b[1G101.4 MiB [] 61% 0.6s\u001b[0K\u001b[1G101.4 MiB [] 63% 0.6s\u001b[0K\u001b[1G101.4 MiB [] 65% 0.5s\u001b[0K\u001b[1G101.4 MiB [] 67% 0.5s\u001b[0K\u001b[1G101.4 MiB [] 69% 0.5s\u001b[0K\u001b[1G101.4 MiB [] 70% 0.5s\u001b[0K\u001b[1G101.4 MiB [] 71% 0.4s\u001b[0K\u001b[1G101.4 MiB [] 72% 0.4s\u001b[0K\u001b[1G101.4 MiB [] 73% 0.4s\u001b[0K\u001b[1G101.4 MiB [] 74% 0.4s\u001b[0K\u001b[1G101.4 MiB [] 75% 0.4s\u001b[0K\u001b[1G101.4 MiB [] 76% 0.4s\u001b[0K\u001b[1G101.4 MiB [] 78% 0.3s\u001b[0K\u001b[1G101.4 MiB [] 79% 0.3s\u001b[0K\u001b[1G101.4 MiB [] 80% 0.3s\u001b[0K\u001b[1G101.4 MiB [] 82% 0.3s\u001b[0K\u001b[1G101.4 MiB [] 83% 0.3s\u001b[0K\u001b[1G101.4 MiB [] 84% 0.2s\u001b[0K\u001b[1G101.4 MiB [] 85% 0.2s\u001b[0K\u001b[1G101.4 MiB [] 86% 0.2s\u001b[0K\u001b[1G101.4 MiB [] 87% 0.2s\u001b[0K\u001b[1G101.4 MiB [] 89% 0.2s\u001b[0K\u001b[1G101.4 MiB [] 90% 0.1s\u001b[0K\u001b[1G101.4 MiB [] 91% 0.1s\u001b[0K\u001b[1G101.4 MiB [] 92% 0.1s\u001b[0K\u001b[1G101.4 MiB [] 93% 0.1s\u001b[0K\u001b[1G101.4 MiB [] 94% 0.1s\u001b[0K\u001b[1G101.4 MiB [] 95% 0.1s\u001b[0K\u001b[1G101.4 MiB [] 97% 0.0s\u001b[0K\u001b[1G101.4 MiB [] 98% 0.0s\u001b[0K\u001b[1G101.4 MiB [] 99% 0.0s\u001b[0K\u001b[1G101.4 MiB [] 100% 0.0s\u001b[0K\n",
            "Chromium Headless Shell 136.0.7103.25 (playwright build v1169) downloaded to /root/.cache/ms-playwright/chromium_headless_shell-1169\n",
            "Downloading Firefox 137.0 (playwright build v1482)\u001b[2m from https://cdn.playwright.dev/dbazure/download/playwright/builds/firefox/1482/firefox-ubuntu-22.04.zip\u001b[22m\n",
            "\u001b[1G91 MiB [] 0% 0.0s\u001b[0K\u001b[1G91 MiB [] 0% 33.0s\u001b[0K\u001b[1G91 MiB [] 0% 32.0s\u001b[0K\u001b[1G91 MiB [] 0% 21.9s\u001b[0K\u001b[1G91 MiB [] 0% 14.5s\u001b[0K\u001b[1G91 MiB [] 0% 9.8s\u001b[0K\u001b[1G91 MiB [] 1% 7.2s\u001b[0K\u001b[1G91 MiB [] 2% 5.3s\u001b[0K\u001b[1G91 MiB [] 2% 4.5s\u001b[0K\u001b[1G91 MiB [] 3% 4.4s\u001b[0K\u001b[1G91 MiB [] 3% 4.0s\u001b[0K\u001b[1G91 MiB [] 4% 4.0s\u001b[0K\u001b[1G91 MiB [] 5% 3.6s\u001b[0K\u001b[1G91 MiB [] 6% 3.5s\u001b[0K\u001b[1G91 MiB [] 7% 3.0s\u001b[0K\u001b[1G91 MiB [] 8% 2.8s\u001b[0K\u001b[1G91 MiB [] 9% 2.7s\u001b[0K\u001b[1G91 MiB [] 10% 2.6s\u001b[0K\u001b[1G91 MiB [] 11% 2.6s\u001b[0K\u001b[1G91 MiB [] 12% 2.5s\u001b[0K\u001b[1G91 MiB [] 13% 2.4s\u001b[0K\u001b[1G91 MiB [] 14% 2.3s\u001b[0K\u001b[1G91 MiB [] 15% 2.2s\u001b[0K\u001b[1G91 MiB [] 16% 2.1s\u001b[0K\u001b[1G91 MiB [] 17% 2.1s\u001b[0K\u001b[1G91 MiB [] 18% 2.0s\u001b[0K\u001b[1G91 MiB [] 18% 2.1s\u001b[0K\u001b[1G91 MiB [] 19% 2.1s\u001b[0K\u001b[1G91 MiB [] 20% 2.0s\u001b[0K\u001b[1G91 MiB [] 21% 1.9s\u001b[0K\u001b[1G91 MiB [] 23% 1.8s\u001b[0K\u001b[1G91 MiB [] 24% 1.7s\u001b[0K\u001b[1G91 MiB [] 25% 1.7s\u001b[0K\u001b[1G91 MiB [] 26% 1.7s\u001b[0K\u001b[1G91 MiB [] 27% 1.6s\u001b[0K\u001b[1G91 MiB [] 28% 1.6s\u001b[0K\u001b[1G91 MiB [] 29% 1.6s\u001b[0K\u001b[1G91 MiB [] 30% 1.5s\u001b[0K\u001b[1G91 MiB [] 31% 1.5s\u001b[0K\u001b[1G91 MiB [] 32% 1.5s\u001b[0K\u001b[1G91 MiB [] 33% 1.4s\u001b[0K\u001b[1G91 MiB [] 35% 1.3s\u001b[0K\u001b[1G91 MiB [] 36% 1.3s\u001b[0K\u001b[1G91 MiB [] 38% 1.2s\u001b[0K\u001b[1G91 MiB [] 39% 1.2s\u001b[0K\u001b[1G91 MiB [] 40% 1.1s\u001b[0K\u001b[1G91 MiB [] 42% 1.1s\u001b[0K\u001b[1G91 MiB [] 43% 1.1s\u001b[0K\u001b[1G91 MiB [] 44% 1.0s\u001b[0K\u001b[1G91 MiB [] 46% 1.0s\u001b[0K\u001b[1G91 MiB [] 47% 1.0s\u001b[0K\u001b[1G91 MiB [] 48% 0.9s\u001b[0K\u001b[1G91 MiB [] 49% 0.9s\u001b[0K\u001b[1G91 MiB [] 51% 0.9s\u001b[0K\u001b[1G91 MiB [] 53% 0.8s\u001b[0K\u001b[1G91 MiB [] 54% 0.8s\u001b[0K\u001b[1G91 MiB [] 55% 0.8s\u001b[0K\u001b[1G91 MiB [] 57% 0.8s\u001b[0K\u001b[1G91 MiB [] 58% 0.7s\u001b[0K\u001b[1G91 MiB [] 59% 0.7s\u001b[0K\u001b[1G91 MiB [] 60% 0.7s\u001b[0K\u001b[1G91 MiB [] 61% 0.7s\u001b[0K\u001b[1G91 MiB [] 62% 0.7s\u001b[0K\u001b[1G91 MiB [] 63% 0.6s\u001b[0K\u001b[1G91 MiB [] 64% 0.6s\u001b[0K\u001b[1G91 MiB [] 65% 0.6s\u001b[0K\u001b[1G91 MiB [] 66% 0.6s\u001b[0K\u001b[1G91 MiB [] 68% 0.5s\u001b[0K\u001b[1G91 MiB [] 69% 0.5s\u001b[0K\u001b[1G91 MiB [] 70% 0.5s\u001b[0K\u001b[1G91 MiB [] 71% 0.5s\u001b[0K\u001b[1G91 MiB [] 72% 0.5s\u001b[0K\u001b[1G91 MiB [] 73% 0.5s\u001b[0K\u001b[1G91 MiB [] 74% 0.4s\u001b[0K\u001b[1G91 MiB [] 75% 0.4s\u001b[0K\u001b[1G91 MiB [] 76% 0.4s\u001b[0K\u001b[1G91 MiB [] 77% 0.4s\u001b[0K\u001b[1G91 MiB [] 79% 0.4s\u001b[0K\u001b[1G91 MiB [] 80% 0.3s\u001b[0K\u001b[1G91 MiB [] 81% 0.3s\u001b[0K\u001b[1G91 MiB [] 83% 0.3s\u001b[0K\u001b[1G91 MiB [] 84% 0.3s\u001b[0K\u001b[1G91 MiB [] 85% 0.2s\u001b[0K\u001b[1G91 MiB [] 87% 0.2s\u001b[0K\u001b[1G91 MiB [] 88% 0.2s\u001b[0K\u001b[1G91 MiB [] 90% 0.2s\u001b[0K\u001b[1G91 MiB [] 91% 0.1s\u001b[0K\u001b[1G91 MiB [] 94% 0.1s\u001b[0K\u001b[1G91 MiB [] 95% 0.1s\u001b[0K\u001b[1G91 MiB [] 98% 0.0s\u001b[0K\u001b[1G91 MiB [] 99% 0.0s\u001b[0K\u001b[1G91 MiB [] 100% 0.0s\u001b[0K\n",
            "Firefox 137.0 (playwright build v1482) downloaded to /root/.cache/ms-playwright/firefox-1482\n",
            "Downloading Webkit 18.4 (playwright build v2158)\u001b[2m from https://cdn.playwright.dev/dbazure/download/playwright/builds/webkit/2158/webkit-ubuntu-22.04.zip\u001b[22m\n",
            "\u001b[1G93.8 MiB [] 0% 0.0s\u001b[0K\u001b[1G93.8 MiB [] 0% 40.0s\u001b[0K\u001b[1G93.8 MiB [] 0% 25.9s\u001b[0K\u001b[1G93.8 MiB [] 0% 16.0s\u001b[0K\u001b[1G93.8 MiB [] 0% 10.0s\u001b[0K\u001b[1G93.8 MiB [] 1% 5.8s\u001b[0K\u001b[1G93.8 MiB [] 2% 4.0s\u001b[0K\u001b[1G93.8 MiB [] 3% 3.2s\u001b[0K\u001b[1G93.8 MiB [] 4% 2.7s\u001b[0K\u001b[1G93.8 MiB [] 6% 2.2s\u001b[0K\u001b[1G93.8 MiB [] 8% 2.0s\u001b[0K\u001b[1G93.8 MiB [] 9% 1.9s\u001b[0K\u001b[1G93.8 MiB [] 10% 1.8s\u001b[0K\u001b[1G93.8 MiB [] 10% 1.9s\u001b[0K\u001b[1G93.8 MiB [] 11% 1.9s\u001b[0K\u001b[1G93.8 MiB [] 13% 1.8s\u001b[0K\u001b[1G93.8 MiB [] 14% 1.7s\u001b[0K\u001b[1G93.8 MiB [] 15% 1.7s\u001b[0K\u001b[1G93.8 MiB [] 16% 1.7s\u001b[0K\u001b[1G93.8 MiB [] 17% 1.6s\u001b[0K\u001b[1G93.8 MiB [] 18% 1.6s\u001b[0K\u001b[1G93.8 MiB [] 18% 1.7s\u001b[0K\u001b[1G93.8 MiB [] 20% 1.7s\u001b[0K\u001b[1G93.8 MiB [] 21% 1.6s\u001b[0K\u001b[1G93.8 MiB [] 22% 1.5s\u001b[0K\u001b[1G93.8 MiB [] 23% 1.5s\u001b[0K\u001b[1G93.8 MiB [] 24% 1.5s\u001b[0K\u001b[1G93.8 MiB [] 25% 1.5s\u001b[0K\u001b[1G93.8 MiB [] 26% 1.4s\u001b[0K\u001b[1G93.8 MiB [] 27% 1.4s\u001b[0K\u001b[1G93.8 MiB [] 28% 1.4s\u001b[0K\u001b[1G93.8 MiB [] 29% 1.4s\u001b[0K\u001b[1G93.8 MiB [] 30% 1.4s\u001b[0K\u001b[1G93.8 MiB [] 31% 1.3s\u001b[0K\u001b[1G93.8 MiB [] 32% 1.3s\u001b[0K\u001b[1G93.8 MiB [] 34% 1.2s\u001b[0K\u001b[1G93.8 MiB [] 36% 1.2s\u001b[0K\u001b[1G93.8 MiB [] 37% 1.1s\u001b[0K\u001b[1G93.8 MiB [] 38% 1.1s\u001b[0K\u001b[1G93.8 MiB [] 39% 1.1s\u001b[0K\u001b[1G93.8 MiB [] 40% 1.1s\u001b[0K\u001b[1G93.8 MiB [] 41% 1.1s\u001b[0K\u001b[1G93.8 MiB [] 42% 1.1s\u001b[0K\u001b[1G93.8 MiB [] 43% 1.1s\u001b[0K\u001b[1G93.8 MiB [] 44% 1.0s\u001b[0K\u001b[1G93.8 MiB [] 45% 1.0s\u001b[0K\u001b[1G93.8 MiB [] 46% 1.0s\u001b[0K\u001b[1G93.8 MiB [] 48% 0.9s\u001b[0K\u001b[1G93.8 MiB [] 49% 0.9s\u001b[0K\u001b[1G93.8 MiB [] 51% 0.9s\u001b[0K\u001b[1G93.8 MiB [] 52% 0.9s\u001b[0K\u001b[1G93.8 MiB [] 53% 0.8s\u001b[0K\u001b[1G93.8 MiB [] 54% 0.8s\u001b[0K\u001b[1G93.8 MiB [] 56% 0.8s\u001b[0K\u001b[1G93.8 MiB [] 57% 0.7s\u001b[0K\u001b[1G93.8 MiB [] 59% 0.7s\u001b[0K\u001b[1G93.8 MiB [] 60% 0.7s\u001b[0K\u001b[1G93.8 MiB [] 61% 0.7s\u001b[0K\u001b[1G93.8 MiB [] 63% 0.6s\u001b[0K\u001b[1G93.8 MiB [] 64% 0.6s\u001b[0K\u001b[1G93.8 MiB [] 66% 0.6s\u001b[0K\u001b[1G93.8 MiB [] 67% 0.6s\u001b[0K\u001b[1G93.8 MiB [] 68% 0.5s\u001b[0K\u001b[1G93.8 MiB [] 69% 0.5s\u001b[0K\u001b[1G93.8 MiB [] 70% 0.5s\u001b[0K\u001b[1G93.8 MiB [] 71% 0.5s\u001b[0K\u001b[1G93.8 MiB [] 73% 0.4s\u001b[0K\u001b[1G93.8 MiB [] 74% 0.4s\u001b[0K\u001b[1G93.8 MiB [] 75% 0.4s\u001b[0K\u001b[1G93.8 MiB [] 76% 0.4s\u001b[0K\u001b[1G93.8 MiB [] 77% 0.4s\u001b[0K\u001b[1G93.8 MiB [] 78% 0.3s\u001b[0K\u001b[1G93.8 MiB [] 80% 0.3s\u001b[0K\u001b[1G93.8 MiB [] 81% 0.3s\u001b[0K\u001b[1G93.8 MiB [] 83% 0.3s\u001b[0K\u001b[1G93.8 MiB [] 85% 0.2s\u001b[0K\u001b[1G93.8 MiB [] 86% 0.2s\u001b[0K\u001b[1G93.8 MiB [] 88% 0.2s\u001b[0K\u001b[1G93.8 MiB [] 90% 0.1s\u001b[0K\u001b[1G93.8 MiB [] 92% 0.1s\u001b[0K\u001b[1G93.8 MiB [] 94% 0.1s\u001b[0K\u001b[1G93.8 MiB [] 96% 0.1s\u001b[0K\u001b[1G93.8 MiB [] 98% 0.0s\u001b[0K\u001b[1G93.8 MiB [] 99% 0.0s\u001b[0K\u001b[1G93.8 MiB [] 100% 0.0s\u001b[0K\n",
            "Webkit 18.4 (playwright build v2158) downloaded to /root/.cache/ms-playwright/webkit-2158\n",
            "Downloading FFMPEG playwright build v1011\u001b[2m from https://cdn.playwright.dev/dbazure/download/playwright/builds/ffmpeg/1011/ffmpeg-linux.zip\u001b[22m\n",
            "\u001b[1G2.3 MiB [] 0% 0.0s\u001b[0K\u001b[1G2.3 MiB [] 1% 1.0s\u001b[0K\u001b[1G2.3 MiB [] 4% 0.7s\u001b[0K\u001b[1G2.3 MiB [] 10% 0.4s\u001b[0K\u001b[1G2.3 MiB [] 19% 0.3s\u001b[0K\u001b[1G2.3 MiB [] 38% 0.1s\u001b[0K\u001b[1G2.3 MiB [] 66% 0.0s\u001b[0K\u001b[1G2.3 MiB [] 100% 0.0s\u001b[0K\n",
            "FFMPEG playwright build v1011 downloaded to /root/.cache/ms-playwright/ffmpeg-1011\n",
            "Playwright Host validation warning: \n",
            "╔══════════════════════════════════════════════════════╗\n",
            "║ Host system is missing dependencies to run browsers. ║\n",
            "║ Missing libraries:                                   ║\n",
            "║     libwoff2dec.so.1.0.2                             ║\n",
            "║     libgstgl-1.0.so.0                                ║\n",
            "║     libgstcodecparsers-1.0.so.0                      ║\n",
            "║     libavif.so.13                                    ║\n",
            "║     libharfbuzz-icu.so.0                             ║\n",
            "║     libenchant-2.so.2                                ║\n",
            "║     libsecret-1.so.0                                 ║\n",
            "║     libhyphen.so.0                                   ║\n",
            "║     libmanette-0.2.so.0                              ║\n",
            "╚══════════════════════════════════════════════════════╝\n",
            "    at validateDependenciesLinux (/usr/local/lib/python3.11/dist-packages/playwright/driver/package/lib/server/registry/dependencies.js:269:9)\n",
            "\u001b[90m    at process.processTicksAndRejections (node:internal/process/task_queues:105:5)\u001b[39m\n",
            "    at async Registry._validateHostRequirements (/usr/local/lib/python3.11/dist-packages/playwright/driver/package/lib/server/registry/index.js:927:14)\n",
            "    at async Registry._validateHostRequirementsForExecutableIfNeeded (/usr/local/lib/python3.11/dist-packages/playwright/driver/package/lib/server/registry/index.js:1047:7)\n",
            "    at async Registry.validateHostRequirementsForExecutablesIfNeeded (/usr/local/lib/python3.11/dist-packages/playwright/driver/package/lib/server/registry/index.js:1036:7)\n",
            "    at async t.<anonymous> (/usr/local/lib/python3.11/dist-packages/playwright/driver/package/lib/cli/program.js:160:7)\n"
          ]
        }
      ]
    },
    {
      "cell_type": "code",
      "source": [
        "import re\n",
        "def parse_to_dictionary(text_to_parse):\n",
        "  \"\"\"\n",
        "  método que parsea un string a un diccionario cono diferentes estrategias\n",
        "  \"\"\"\n",
        "\n",
        "  parsing_strategies = [\n",
        "      lambda x:eval(x), # Generic eval for python dictionaries\n",
        "      lambda x: json.loads(re.search(r'```json\\n(.*?)\\n```', x, re.DOTALL).group(1)),\n",
        "      lambda x:eval(re.search(r'\\{.*\\}', x, re.DOTALL.group(0))), #Extract JSON-like content usinng eval.\n",
        "      lambda x: json.loads(re.search(r'\\{.*\\}', x, re.DOTALL.group(0))), # Extract shortest JSON-like object with eval\n",
        "      lambda x: eval(re.search((r'\\{.*\\}', x, re.DOTALL.group(0)))), #Extract shortest JSON-like object with eval\n",
        "      lambda x: json.loads(x.strip(\".\\n\")).replace(\"\\n\",\"\"), # Clean and parse JSON directly\n",
        "      lambda x: json.loads(re.search(r'```json\\s*(\\{.*?\\})\\s*``', x, re.DOTALL).group(1)), # Parse JSON in a ```json``` block\n",
        "  ]\n",
        "\n",
        "  for strategy in parsing_strategies:\n",
        "    try:\n",
        "      return strategy(text_to_parse)\n",
        "    except Exception:\n",
        "      continue\n",
        "\"\"\"\n",
        "input_file = 'mercadolibre_2025-06-23_22-19-41_cleaned.json'\n",
        "\n",
        "with open(input_file) as json_file:\n",
        "  json_contents = json_file.read()\n",
        "\n",
        "parsed_json = parse_to_dictionary(json_contents)\n",
        "\n",
        "parsed_json\n",
        "\"\"\""
      ],
      "metadata": {
        "colab": {
          "base_uri": "https://localhost:8080/",
          "height": 53
        },
        "collapsed": true,
        "id": "jnIe3z5O4ROG",
        "outputId": "d90d47c2-9473-4e19-ab15-7ef0e7d07050"
      },
      "id": "jnIe3z5O4ROG",
      "execution_count": null,
      "outputs": [
        {
          "output_type": "execute_result",
          "data": {
            "text/plain": [
              "\"\\ninput_file = 'mercadolibre_2025-06-23_22-19-41_cleaned.json'\\n\\nwith open(input_file) as json_file:\\n  json_contents = json_file.read()\\n\\nparsed_json = parse_to_dictionary(json_contents)\\n\\nparsed_json\\n\""
            ],
            "application/vnd.google.colaboratory.intrinsic+json": {
              "type": "string"
            }
          },
          "metadata": {},
          "execution_count": 207
        }
      ]
    },
    {
      "cell_type": "markdown",
      "source": [
        "## Paso 1\n",
        "Muestreo de urls internas de un sitio de e-commerce, como salida se genera un json con el nombre del comercio y la hora de generación.\n",
        "\n",
        "La busqueda está limitada por el parámetro maxlen=50 para reducir costos al momento de usar los modelos de lenguaje.\n",
        "\n",
        "\n"
      ],
      "metadata": {
        "id": "bduVY1rGm0KJ"
      },
      "id": "bduVY1rGm0KJ"
    },
    {
      "cell_type": "code",
      "source": [
        "\"https://www.amazon.com/\"\n",
        "\"https://www.mercadolibre.com.co/\"\n",
        "\"https://www.shein.com.co/\"\n",
        "\"https://www.farmatodo.com.co/\""
      ],
      "metadata": {
        "id": "70vOQBSUmEVS"
      },
      "id": "70vOQBSUmEVS",
      "execution_count": null,
      "outputs": []
    },
    {
      "cell_type": "code",
      "source": [
        "e_commerce_url=\"https://www.amazon.com/\""
      ],
      "metadata": {
        "id": "i5DlO6HC16eQ"
      },
      "id": "i5DlO6HC16eQ",
      "execution_count": 5,
      "outputs": []
    },
    {
      "cell_type": "code",
      "source": [
        "import json\n",
        "import asyncio\n",
        "import datetime\n",
        "from unidecode import unidecode\n",
        "from collections import deque\n",
        "from typing import Dict, List, Set\n",
        "from crawl4ai.models import CrawlResult\n",
        "from crawl4ai import AsyncWebCrawler\n",
        "from urllib.parse import urljoin, urlparse, urlunparse\n",
        "\n",
        "class SimpleWebsiteScraper:\n",
        "    def __init__(self, crawler: AsyncWebCrawler):\n",
        "        self.crawler = crawler\n",
        "        self.base_url = None\n",
        "\n",
        "    def is_valid_internal_link(self, link: str) -> bool:\n",
        "        if not link or link.startswith('#'):\n",
        "            return False\n",
        "\n",
        "        parsed_base = urlparse(self.base_url)\n",
        "        parsed_link = urlparse(link)\n",
        "\n",
        "        return (parsed_base.netloc == parsed_link.netloc and\n",
        "                parsed_link.path not in ['', '/'] and\n",
        "                parsed_link.path.startswith(parsed_base.path))\n",
        "\n",
        "    def normalize_url(self, url: str) -> str:\n",
        "        parsed = urlparse(url)\n",
        "        # Remove any fragments\n",
        "        parsed = parsed._replace(fragment='')\n",
        "        # Ensure the path doesn't end with a slash unless it's the root\n",
        "        if parsed.path.endswith('/') and len(parsed.path) > 1:\n",
        "            parsed = parsed._replace(path=parsed.path.rstrip('/'))\n",
        "        return urlunparse(parsed)\n",
        "\n",
        "    def join_url(self, base: str, url: str) -> str:\n",
        "        joined = urljoin(base, url)\n",
        "        parsed_base = urlparse(self.base_url)\n",
        "        parsed_joined = urlparse(joined)\n",
        "\n",
        "        # Ensure the joined URL starts with the base path\n",
        "        if not parsed_joined.path.startswith(parsed_base.path):\n",
        "            # If it doesn't, prepend the base path\n",
        "            new_path = parsed_base.path.rstrip('/') + '/' + parsed_joined.path.lstrip('/')\n",
        "            parsed_joined = parsed_joined._replace(path=new_path)\n",
        "\n",
        "        return urlunparse(parsed_joined)\n",
        "\n",
        "    async def scrape(self, start_url: str, max_depth: int) -> Dict[str, CrawlResult]:\n",
        "        self.base_url = self.normalize_url(start_url)\n",
        "        results: Dict[str, CrawlResult] = {}\n",
        "        queue: deque = deque([(self.base_url, 0)],maxlen=50)\n",
        "        visited: Set[str] = set()\n",
        "\n",
        "        while queue:\n",
        "\n",
        "          current_url, current_depth = queue.popleft()\n",
        "          result = await self.crawler.arun(current_url)\n",
        "\n",
        "          if current_url in visited or current_depth > max_depth:\n",
        "            continue\n",
        "\n",
        "          visited.add(current_url)\n",
        "          result = await self.crawler.arun(current_url)\n",
        "\n",
        "          internal_links_test = result.links.get('internal', [])\n",
        "          for link_test in internal_links_test:\n",
        "            link_test['text']=unidecode(link_test['text'])\n",
        "\n",
        "          if result.success:\n",
        "            results[current_url] = result\n",
        "\n",
        "            if current_depth < max_depth:\n",
        "              internal_links = result.links.get('internal', [])\n",
        "              for link in internal_links:\n",
        "                full_url = self.join_url(current_url, link['href'])\n",
        "                normalized_url = self.normalize_url(full_url)\n",
        "                if self.is_valid_internal_link(normalized_url) and normalized_url not in visited:\n",
        "                  queue.append((normalized_url, current_depth + 1))\n",
        "\n",
        "        return results\n",
        "\n",
        "async def main(start_url: str, depth: int):\n",
        "    all_results=[]\n",
        "\n",
        "    async with AsyncWebCrawler() as crawler:\n",
        "        scraper = SimpleWebsiteScraper(crawler)\n",
        "        results = await scraper.scrape(start_url, depth)\n",
        "\n",
        "    # Get the current date and time\n",
        "    now = datetime.datetime.now()\n",
        "\n",
        "    # Format the date and time as a string (e.g., \"2025-06-23_14-30-00\")\n",
        "    formatted_datetime = now.strftime(\"%Y-%m-%d_%H-%M-%S\")\n",
        "\n",
        "    # Para varias páginas, hay inconveniente con el append del json y posterior uso.\n",
        "    print(f\"Crawled {len(results)} pages:\")\n",
        "    for url, result in results.items():\n",
        "        print(f\"- {url}: {len(result.links.get('internal', []))} internal links, {len(result.links.get('external', []))} external links\")\n",
        "        print(f\"Session: {result.session_id}\", )\n",
        "\n",
        "        \"\"\"\n",
        "        with open(f\"{start_url.split('.')[1]}_{formatted_datetime}.json\", \"w\") as f:\n",
        "          all_results.append(result.links)\n",
        "          json.dump(all_results, f, indent=4)\n",
        "        \"\"\"\n",
        "    json_name = f\"{start_url.split('.')[1]}_{formatted_datetime}.json\"\n",
        "\n",
        "    with open(json_name, \"w\") as f:\n",
        "      json.dump(result.links, f, indent=4)\n",
        "\n",
        "    return results, json_name\n",
        "\n",
        "if __name__ == \"__main__\":\n",
        "    start_url = e_commerce_url\n",
        "    depth = 1\n",
        "    results, json_name=await(main(start_url, depth))"
      ],
      "metadata": {
        "colab": {
          "base_uri": "https://localhost:8080/",
          "height": 966
        },
        "id": "z1l5TRWuziaS",
        "outputId": "85d581ae-025d-4c4f-d483-7b15d460d25a",
        "collapsed": true
      },
      "id": "z1l5TRWuziaS",
      "execution_count": 13,
      "outputs": [
        {
          "output_type": "display_data",
          "data": {
            "text/plain": [
              "\u001b[1;36m[\u001b[0m\u001b[36mINIT\u001b[0m\u001b[1;36m]\u001b[0m\u001b[36m...\u001b[0m\u001b[36m. → Crawl4AI \u001b[0m\u001b[1;36m0.6\u001b[0m\u001b[36m.\u001b[0m\u001b[1;36m3\u001b[0m\u001b[36m \u001b[0m\n"
            ],
            "text/html": [
              "<pre style=\"white-space:pre;overflow-x:auto;line-height:normal;font-family:Menlo,'DejaVu Sans Mono',consolas,'Courier New',monospace\"><span style=\"color: #008080; text-decoration-color: #008080; font-weight: bold\">[</span><span style=\"color: #008080; text-decoration-color: #008080\">INIT</span><span style=\"color: #008080; text-decoration-color: #008080; font-weight: bold\">]</span><span style=\"color: #008080; text-decoration-color: #008080\">.... → Crawl4AI </span><span style=\"color: #008080; text-decoration-color: #008080; font-weight: bold\">0.6</span><span style=\"color: #008080; text-decoration-color: #008080\">.</span><span style=\"color: #008080; text-decoration-color: #008080; font-weight: bold\">3</span><span style=\"color: #008080; text-decoration-color: #008080\"> </span>\n",
              "</pre>\n"
            ]
          },
          "metadata": {}
        },
        {
          "output_type": "display_data",
          "data": {
            "text/plain": [
              "\u001b[1;32m[\u001b[0m\u001b[32mFETCH\u001b[0m\u001b[1;32m]\u001b[0m\u001b[32m...\u001b[0m\u001b[32m ↓ \u001b[0m\u001b[4;32mhttps://www.amazon.com/\u001b[0m\u001b[32m                                                                              |\u001b[0m\n",
              "\u001b[32m✓\u001b[0m\u001b[32m | ⏱: \u001b[0m\u001b[1;32m1.\u001b[0m\u001b[32m39s \u001b[0m\n"
            ],
            "text/html": [
              "<pre style=\"white-space:pre;overflow-x:auto;line-height:normal;font-family:Menlo,'DejaVu Sans Mono',consolas,'Courier New',monospace\"><span style=\"color: #008000; text-decoration-color: #008000; font-weight: bold\">[</span><span style=\"color: #008000; text-decoration-color: #008000\">FETCH</span><span style=\"color: #008000; text-decoration-color: #008000; font-weight: bold\">]</span><span style=\"color: #008000; text-decoration-color: #008000\">... ↓ </span><span style=\"color: #008000; text-decoration-color: #008000; text-decoration: underline\">https://www.amazon.com/</span><span style=\"color: #008000; text-decoration-color: #008000\">                                                                              |</span>\n",
              "<span style=\"color: #008000; text-decoration-color: #008000\">✓ | ⏱: </span><span style=\"color: #008000; text-decoration-color: #008000; font-weight: bold\">1.</span><span style=\"color: #008000; text-decoration-color: #008000\">39s </span>\n",
              "</pre>\n"
            ]
          },
          "metadata": {}
        },
        {
          "output_type": "display_data",
          "data": {
            "text/plain": [
              "\u001b[1;32m[\u001b[0m\u001b[32mSCRAPE\u001b[0m\u001b[1;32m]\u001b[0m\u001b[32m.. ◆ \u001b[0m\u001b[4;32mhttps://www.amazon.com/\u001b[0m\u001b[32m                                                                              |\u001b[0m\n",
              "\u001b[32m✓\u001b[0m\u001b[32m | ⏱: \u001b[0m\u001b[1;32m0.\u001b[0m\u001b[32m01s \u001b[0m\n"
            ],
            "text/html": [
              "<pre style=\"white-space:pre;overflow-x:auto;line-height:normal;font-family:Menlo,'DejaVu Sans Mono',consolas,'Courier New',monospace\"><span style=\"color: #008000; text-decoration-color: #008000; font-weight: bold\">[</span><span style=\"color: #008000; text-decoration-color: #008000\">SCRAPE</span><span style=\"color: #008000; text-decoration-color: #008000; font-weight: bold\">]</span><span style=\"color: #008000; text-decoration-color: #008000\">.. ◆ </span><span style=\"color: #008000; text-decoration-color: #008000; text-decoration: underline\">https://www.amazon.com/</span><span style=\"color: #008000; text-decoration-color: #008000\">                                                                              |</span>\n",
              "<span style=\"color: #008000; text-decoration-color: #008000\">✓ | ⏱: </span><span style=\"color: #008000; text-decoration-color: #008000; font-weight: bold\">0.</span><span style=\"color: #008000; text-decoration-color: #008000\">01s </span>\n",
              "</pre>\n"
            ]
          },
          "metadata": {}
        },
        {
          "output_type": "display_data",
          "data": {
            "text/plain": [
              "\u001b[1;32m[\u001b[0m\u001b[32mCOMPLETE\u001b[0m\u001b[1;32m]\u001b[0m\u001b[32m ● \u001b[0m\u001b[4;32mhttps://www.amazon.com/\u001b[0m\u001b[32m                                                                              |\u001b[0m\n",
              "\u001b[32m✓\u001b[0m\u001b[32m | ⏱: \u001b[0m\u001b[1;32m1.\u001b[0m\u001b[32m42s \u001b[0m\n"
            ],
            "text/html": [
              "<pre style=\"white-space:pre;overflow-x:auto;line-height:normal;font-family:Menlo,'DejaVu Sans Mono',consolas,'Courier New',monospace\"><span style=\"color: #008000; text-decoration-color: #008000; font-weight: bold\">[</span><span style=\"color: #008000; text-decoration-color: #008000\">COMPLETE</span><span style=\"color: #008000; text-decoration-color: #008000; font-weight: bold\">]</span><span style=\"color: #008000; text-decoration-color: #008000\"> ● </span><span style=\"color: #008000; text-decoration-color: #008000; text-decoration: underline\">https://www.amazon.com/</span><span style=\"color: #008000; text-decoration-color: #008000\">                                                                              |</span>\n",
              "<span style=\"color: #008000; text-decoration-color: #008000\">✓ | ⏱: </span><span style=\"color: #008000; text-decoration-color: #008000; font-weight: bold\">1.</span><span style=\"color: #008000; text-decoration-color: #008000\">42s </span>\n",
              "</pre>\n"
            ]
          },
          "metadata": {}
        },
        {
          "output_type": "display_data",
          "data": {
            "text/plain": [
              "\u001b[1;32m[\u001b[0m\u001b[32mFETCH\u001b[0m\u001b[1;32m]\u001b[0m\u001b[32m...\u001b[0m\u001b[32m ↓ \u001b[0m\u001b[4;32mhttps://www.amazon.com/\u001b[0m\u001b[32m                                                                              |\u001b[0m\n",
              "\u001b[32m✓\u001b[0m\u001b[32m | ⏱: \u001b[0m\u001b[1;32m0.\u001b[0m\u001b[32m61s \u001b[0m\n"
            ],
            "text/html": [
              "<pre style=\"white-space:pre;overflow-x:auto;line-height:normal;font-family:Menlo,'DejaVu Sans Mono',consolas,'Courier New',monospace\"><span style=\"color: #008000; text-decoration-color: #008000; font-weight: bold\">[</span><span style=\"color: #008000; text-decoration-color: #008000\">FETCH</span><span style=\"color: #008000; text-decoration-color: #008000; font-weight: bold\">]</span><span style=\"color: #008000; text-decoration-color: #008000\">... ↓ </span><span style=\"color: #008000; text-decoration-color: #008000; text-decoration: underline\">https://www.amazon.com/</span><span style=\"color: #008000; text-decoration-color: #008000\">                                                                              |</span>\n",
              "<span style=\"color: #008000; text-decoration-color: #008000\">✓ | ⏱: </span><span style=\"color: #008000; text-decoration-color: #008000; font-weight: bold\">0.</span><span style=\"color: #008000; text-decoration-color: #008000\">61s </span>\n",
              "</pre>\n"
            ]
          },
          "metadata": {}
        },
        {
          "output_type": "display_data",
          "data": {
            "text/plain": [
              "\u001b[1;32m[\u001b[0m\u001b[32mSCRAPE\u001b[0m\u001b[1;32m]\u001b[0m\u001b[32m.. ◆ \u001b[0m\u001b[4;32mhttps://www.amazon.com/\u001b[0m\u001b[32m                                                                              |\u001b[0m\n",
              "\u001b[32m✓\u001b[0m\u001b[32m | ⏱: \u001b[0m\u001b[1;32m0.\u001b[0m\u001b[32m01s \u001b[0m\n"
            ],
            "text/html": [
              "<pre style=\"white-space:pre;overflow-x:auto;line-height:normal;font-family:Menlo,'DejaVu Sans Mono',consolas,'Courier New',monospace\"><span style=\"color: #008000; text-decoration-color: #008000; font-weight: bold\">[</span><span style=\"color: #008000; text-decoration-color: #008000\">SCRAPE</span><span style=\"color: #008000; text-decoration-color: #008000; font-weight: bold\">]</span><span style=\"color: #008000; text-decoration-color: #008000\">.. ◆ </span><span style=\"color: #008000; text-decoration-color: #008000; text-decoration: underline\">https://www.amazon.com/</span><span style=\"color: #008000; text-decoration-color: #008000\">                                                                              |</span>\n",
              "<span style=\"color: #008000; text-decoration-color: #008000\">✓ | ⏱: </span><span style=\"color: #008000; text-decoration-color: #008000; font-weight: bold\">0.</span><span style=\"color: #008000; text-decoration-color: #008000\">01s </span>\n",
              "</pre>\n"
            ]
          },
          "metadata": {}
        },
        {
          "output_type": "display_data",
          "data": {
            "text/plain": [
              "\u001b[1;32m[\u001b[0m\u001b[32mCOMPLETE\u001b[0m\u001b[1;32m]\u001b[0m\u001b[32m ● \u001b[0m\u001b[4;32mhttps://www.amazon.com/\u001b[0m\u001b[32m                                                                              |\u001b[0m\n",
              "\u001b[32m✓\u001b[0m\u001b[32m | ⏱: \u001b[0m\u001b[1;32m0.\u001b[0m\u001b[32m64s \u001b[0m\n"
            ],
            "text/html": [
              "<pre style=\"white-space:pre;overflow-x:auto;line-height:normal;font-family:Menlo,'DejaVu Sans Mono',consolas,'Courier New',monospace\"><span style=\"color: #008000; text-decoration-color: #008000; font-weight: bold\">[</span><span style=\"color: #008000; text-decoration-color: #008000\">COMPLETE</span><span style=\"color: #008000; text-decoration-color: #008000; font-weight: bold\">]</span><span style=\"color: #008000; text-decoration-color: #008000\"> ● </span><span style=\"color: #008000; text-decoration-color: #008000; text-decoration: underline\">https://www.amazon.com/</span><span style=\"color: #008000; text-decoration-color: #008000\">                                                                              |</span>\n",
              "<span style=\"color: #008000; text-decoration-color: #008000\">✓ | ⏱: </span><span style=\"color: #008000; text-decoration-color: #008000; font-weight: bold\">0.</span><span style=\"color: #008000; text-decoration-color: #008000\">64s </span>\n",
              "</pre>\n"
            ]
          },
          "metadata": {}
        },
        {
          "output_type": "display_data",
          "data": {
            "text/plain": [
              "\u001b[1;32m[\u001b[0m\u001b[32mFETCH\u001b[0m\u001b[1;32m]\u001b[0m\u001b[32m...\u001b[0m\u001b[32m ↓ \u001b[0m\u001b[4;32mhttps://www.amazon.com/gp/help/customer/display.html/\u001b[0m\u001b[4;32mref\u001b[0m\u001b[4;32m=\u001b[0m\u001b[4;32mfooter_cou\u001b[0m\u001b[4;32m?\u001b[0m\u001b[4;32mie\u001b[0m\u001b[4;32m=\u001b[0m\u001b[4;32mUTF8\u001b[0m\u001b[4;32m&\u001b[0m\u001b[4;32mnodeId\u001b[0m\u001b[4;32m=\u001b[0m\u001b[4;32m508088\u001b[0m\u001b[32m            |\u001b[0m\n",
              "\u001b[32m✓\u001b[0m\u001b[32m | ⏱: \u001b[0m\u001b[1;32m1.\u001b[0m\u001b[32m81s \u001b[0m\n"
            ],
            "text/html": [
              "<pre style=\"white-space:pre;overflow-x:auto;line-height:normal;font-family:Menlo,'DejaVu Sans Mono',consolas,'Courier New',monospace\"><span style=\"color: #008000; text-decoration-color: #008000; font-weight: bold\">[</span><span style=\"color: #008000; text-decoration-color: #008000\">FETCH</span><span style=\"color: #008000; text-decoration-color: #008000; font-weight: bold\">]</span><span style=\"color: #008000; text-decoration-color: #008000\">... ↓ </span><span style=\"color: #008000; text-decoration-color: #008000; text-decoration: underline\">https://www.amazon.com/gp/help/customer/display.html/ref=footer_cou?ie=UTF8&amp;nodeId=508088</span><span style=\"color: #008000; text-decoration-color: #008000\">            |</span>\n",
              "<span style=\"color: #008000; text-decoration-color: #008000\">✓ | ⏱: </span><span style=\"color: #008000; text-decoration-color: #008000; font-weight: bold\">1.</span><span style=\"color: #008000; text-decoration-color: #008000\">81s </span>\n",
              "</pre>\n"
            ]
          },
          "metadata": {}
        },
        {
          "output_type": "display_data",
          "data": {
            "text/plain": [
              "\u001b[1;32m[\u001b[0m\u001b[32mSCRAPE\u001b[0m\u001b[1;32m]\u001b[0m\u001b[32m.. ◆ \u001b[0m\u001b[4;32mhttps://www.amazon.com/gp/help/customer/display.html/\u001b[0m\u001b[4;32mref\u001b[0m\u001b[4;32m=\u001b[0m\u001b[4;32mfooter_cou\u001b[0m\u001b[4;32m?\u001b[0m\u001b[4;32mie\u001b[0m\u001b[4;32m=\u001b[0m\u001b[4;32mUTF8\u001b[0m\u001b[4;32m&\u001b[0m\u001b[4;32mnodeId\u001b[0m\u001b[4;32m=\u001b[0m\u001b[4;32m508088\u001b[0m\u001b[32m            |\u001b[0m\n",
              "\u001b[32m✓\u001b[0m\u001b[32m | ⏱: \u001b[0m\u001b[1;32m0.\u001b[0m\u001b[32m22s \u001b[0m\n"
            ],
            "text/html": [
              "<pre style=\"white-space:pre;overflow-x:auto;line-height:normal;font-family:Menlo,'DejaVu Sans Mono',consolas,'Courier New',monospace\"><span style=\"color: #008000; text-decoration-color: #008000; font-weight: bold\">[</span><span style=\"color: #008000; text-decoration-color: #008000\">SCRAPE</span><span style=\"color: #008000; text-decoration-color: #008000; font-weight: bold\">]</span><span style=\"color: #008000; text-decoration-color: #008000\">.. ◆ </span><span style=\"color: #008000; text-decoration-color: #008000; text-decoration: underline\">https://www.amazon.com/gp/help/customer/display.html/ref=footer_cou?ie=UTF8&amp;nodeId=508088</span><span style=\"color: #008000; text-decoration-color: #008000\">            |</span>\n",
              "<span style=\"color: #008000; text-decoration-color: #008000\">✓ | ⏱: </span><span style=\"color: #008000; text-decoration-color: #008000; font-weight: bold\">0.</span><span style=\"color: #008000; text-decoration-color: #008000\">22s </span>\n",
              "</pre>\n"
            ]
          },
          "metadata": {}
        },
        {
          "output_type": "display_data",
          "data": {
            "text/plain": [
              "\u001b[1;32m[\u001b[0m\u001b[32mCOMPLETE\u001b[0m\u001b[1;32m]\u001b[0m\u001b[32m ● \u001b[0m\u001b[4;32mhttps://www.amazon.com/gp/help/customer/display.html/\u001b[0m\u001b[4;32mref\u001b[0m\u001b[4;32m=\u001b[0m\u001b[4;32mfooter_cou\u001b[0m\u001b[4;32m?\u001b[0m\u001b[4;32mie\u001b[0m\u001b[4;32m=\u001b[0m\u001b[4;32mUTF8\u001b[0m\u001b[4;32m&\u001b[0m\u001b[4;32mnodeId\u001b[0m\u001b[4;32m=\u001b[0m\u001b[4;32m508088\u001b[0m\u001b[32m            |\u001b[0m\n",
              "\u001b[32m✓\u001b[0m\u001b[32m | ⏱: \u001b[0m\u001b[1;32m2.\u001b[0m\u001b[32m04s \u001b[0m\n"
            ],
            "text/html": [
              "<pre style=\"white-space:pre;overflow-x:auto;line-height:normal;font-family:Menlo,'DejaVu Sans Mono',consolas,'Courier New',monospace\"><span style=\"color: #008000; text-decoration-color: #008000; font-weight: bold\">[</span><span style=\"color: #008000; text-decoration-color: #008000\">COMPLETE</span><span style=\"color: #008000; text-decoration-color: #008000; font-weight: bold\">]</span><span style=\"color: #008000; text-decoration-color: #008000\"> ● </span><span style=\"color: #008000; text-decoration-color: #008000; text-decoration: underline\">https://www.amazon.com/gp/help/customer/display.html/ref=footer_cou?ie=UTF8&amp;nodeId=508088</span><span style=\"color: #008000; text-decoration-color: #008000\">            |</span>\n",
              "<span style=\"color: #008000; text-decoration-color: #008000\">✓ | ⏱: </span><span style=\"color: #008000; text-decoration-color: #008000; font-weight: bold\">2.</span><span style=\"color: #008000; text-decoration-color: #008000\">04s </span>\n",
              "</pre>\n"
            ]
          },
          "metadata": {}
        },
        {
          "output_type": "display_data",
          "data": {
            "text/plain": [
              "\u001b[1;32m[\u001b[0m\u001b[32mFETCH\u001b[0m\u001b[1;32m]\u001b[0m\u001b[32m...\u001b[0m\u001b[32m ↓ \u001b[0m\u001b[4;32mhttps://www.amazon.com/gp/help/customer/display.html/\u001b[0m\u001b[4;32mref\u001b[0m\u001b[4;32m=\u001b[0m\u001b[4;32mfooter_cou\u001b[0m\u001b[4;32m?\u001b[0m\u001b[4;32mie\u001b[0m\u001b[4;32m=\u001b[0m\u001b[4;32mUTF8\u001b[0m\u001b[4;32m&\u001b[0m\u001b[4;32mnodeId\u001b[0m\u001b[4;32m=\u001b[0m\u001b[4;32m508088\u001b[0m\u001b[32m            |\u001b[0m\n",
              "\u001b[32m✓\u001b[0m\u001b[32m | ⏱: \u001b[0m\u001b[1;32m1.\u001b[0m\u001b[32m54s \u001b[0m\n"
            ],
            "text/html": [
              "<pre style=\"white-space:pre;overflow-x:auto;line-height:normal;font-family:Menlo,'DejaVu Sans Mono',consolas,'Courier New',monospace\"><span style=\"color: #008000; text-decoration-color: #008000; font-weight: bold\">[</span><span style=\"color: #008000; text-decoration-color: #008000\">FETCH</span><span style=\"color: #008000; text-decoration-color: #008000; font-weight: bold\">]</span><span style=\"color: #008000; text-decoration-color: #008000\">... ↓ </span><span style=\"color: #008000; text-decoration-color: #008000; text-decoration: underline\">https://www.amazon.com/gp/help/customer/display.html/ref=footer_cou?ie=UTF8&amp;nodeId=508088</span><span style=\"color: #008000; text-decoration-color: #008000\">            |</span>\n",
              "<span style=\"color: #008000; text-decoration-color: #008000\">✓ | ⏱: </span><span style=\"color: #008000; text-decoration-color: #008000; font-weight: bold\">1.</span><span style=\"color: #008000; text-decoration-color: #008000\">54s </span>\n",
              "</pre>\n"
            ]
          },
          "metadata": {}
        },
        {
          "output_type": "display_data",
          "data": {
            "text/plain": [
              "\u001b[1;32m[\u001b[0m\u001b[32mSCRAPE\u001b[0m\u001b[1;32m]\u001b[0m\u001b[32m.. ◆ \u001b[0m\u001b[4;32mhttps://www.amazon.com/gp/help/customer/display.html/\u001b[0m\u001b[4;32mref\u001b[0m\u001b[4;32m=\u001b[0m\u001b[4;32mfooter_cou\u001b[0m\u001b[4;32m?\u001b[0m\u001b[4;32mie\u001b[0m\u001b[4;32m=\u001b[0m\u001b[4;32mUTF8\u001b[0m\u001b[4;32m&\u001b[0m\u001b[4;32mnodeId\u001b[0m\u001b[4;32m=\u001b[0m\u001b[4;32m508088\u001b[0m\u001b[32m            |\u001b[0m\n",
              "\u001b[32m✓\u001b[0m\u001b[32m | ⏱: \u001b[0m\u001b[1;32m0.\u001b[0m\u001b[32m32s \u001b[0m\n"
            ],
            "text/html": [
              "<pre style=\"white-space:pre;overflow-x:auto;line-height:normal;font-family:Menlo,'DejaVu Sans Mono',consolas,'Courier New',monospace\"><span style=\"color: #008000; text-decoration-color: #008000; font-weight: bold\">[</span><span style=\"color: #008000; text-decoration-color: #008000\">SCRAPE</span><span style=\"color: #008000; text-decoration-color: #008000; font-weight: bold\">]</span><span style=\"color: #008000; text-decoration-color: #008000\">.. ◆ </span><span style=\"color: #008000; text-decoration-color: #008000; text-decoration: underline\">https://www.amazon.com/gp/help/customer/display.html/ref=footer_cou?ie=UTF8&amp;nodeId=508088</span><span style=\"color: #008000; text-decoration-color: #008000\">            |</span>\n",
              "<span style=\"color: #008000; text-decoration-color: #008000\">✓ | ⏱: </span><span style=\"color: #008000; text-decoration-color: #008000; font-weight: bold\">0.</span><span style=\"color: #008000; text-decoration-color: #008000\">32s </span>\n",
              "</pre>\n"
            ]
          },
          "metadata": {}
        },
        {
          "output_type": "display_data",
          "data": {
            "text/plain": [
              "\u001b[1;32m[\u001b[0m\u001b[32mCOMPLETE\u001b[0m\u001b[1;32m]\u001b[0m\u001b[32m ● \u001b[0m\u001b[4;32mhttps://www.amazon.com/gp/help/customer/display.html/\u001b[0m\u001b[4;32mref\u001b[0m\u001b[4;32m=\u001b[0m\u001b[4;32mfooter_cou\u001b[0m\u001b[4;32m?\u001b[0m\u001b[4;32mie\u001b[0m\u001b[4;32m=\u001b[0m\u001b[4;32mUTF8\u001b[0m\u001b[4;32m&\u001b[0m\u001b[4;32mnodeId\u001b[0m\u001b[4;32m=\u001b[0m\u001b[4;32m508088\u001b[0m\u001b[32m            |\u001b[0m\n",
              "\u001b[32m✓\u001b[0m\u001b[32m | ⏱: \u001b[0m\u001b[1;32m1.\u001b[0m\u001b[32m87s \u001b[0m\n"
            ],
            "text/html": [
              "<pre style=\"white-space:pre;overflow-x:auto;line-height:normal;font-family:Menlo,'DejaVu Sans Mono',consolas,'Courier New',monospace\"><span style=\"color: #008000; text-decoration-color: #008000; font-weight: bold\">[</span><span style=\"color: #008000; text-decoration-color: #008000\">COMPLETE</span><span style=\"color: #008000; text-decoration-color: #008000; font-weight: bold\">]</span><span style=\"color: #008000; text-decoration-color: #008000\"> ● </span><span style=\"color: #008000; text-decoration-color: #008000; text-decoration: underline\">https://www.amazon.com/gp/help/customer/display.html/ref=footer_cou?ie=UTF8&amp;nodeId=508088</span><span style=\"color: #008000; text-decoration-color: #008000\">            |</span>\n",
              "<span style=\"color: #008000; text-decoration-color: #008000\">✓ | ⏱: </span><span style=\"color: #008000; text-decoration-color: #008000; font-weight: bold\">1.</span><span style=\"color: #008000; text-decoration-color: #008000\">87s </span>\n",
              "</pre>\n"
            ]
          },
          "metadata": {}
        },
        {
          "output_type": "display_data",
          "data": {
            "text/plain": [
              "\u001b[1;32m[\u001b[0m\u001b[32mFETCH\u001b[0m\u001b[1;32m]\u001b[0m\u001b[32m...\u001b[0m\u001b[32m ↓ \u001b[0m\u001b[4;32mhttps://www.amazon.com/gp/help/customer/display.html/\u001b[0m\u001b[4;32mref\u001b[0m\u001b[4;32m=\u001b[0m\u001b[4;32mfooter_privacy\u001b[0m\u001b[4;32m?\u001b[0m\u001b[4;32mie\u001b[0m\u001b[4;32m=\u001b[0m\u001b[4;32mUTF8\u001b[0m\u001b[4;32m&\u001b[0m\u001b[4;32mnodeId\u001b[0m\u001b[4;32m=\u001b[0m\u001b[4;32m468496\u001b[0m\u001b[32m        |\u001b[0m\n",
              "\u001b[32m✓\u001b[0m\u001b[32m | ⏱: \u001b[0m\u001b[1;32m1.\u001b[0m\u001b[32m41s \u001b[0m\n"
            ],
            "text/html": [
              "<pre style=\"white-space:pre;overflow-x:auto;line-height:normal;font-family:Menlo,'DejaVu Sans Mono',consolas,'Courier New',monospace\"><span style=\"color: #008000; text-decoration-color: #008000; font-weight: bold\">[</span><span style=\"color: #008000; text-decoration-color: #008000\">FETCH</span><span style=\"color: #008000; text-decoration-color: #008000; font-weight: bold\">]</span><span style=\"color: #008000; text-decoration-color: #008000\">... ↓ </span><span style=\"color: #008000; text-decoration-color: #008000; text-decoration: underline\">https://www.amazon.com/gp/help/customer/display.html/ref=footer_privacy?ie=UTF8&amp;nodeId=468496</span><span style=\"color: #008000; text-decoration-color: #008000\">        |</span>\n",
              "<span style=\"color: #008000; text-decoration-color: #008000\">✓ | ⏱: </span><span style=\"color: #008000; text-decoration-color: #008000; font-weight: bold\">1.</span><span style=\"color: #008000; text-decoration-color: #008000\">41s </span>\n",
              "</pre>\n"
            ]
          },
          "metadata": {}
        },
        {
          "output_type": "display_data",
          "data": {
            "text/plain": [
              "\u001b[1;32m[\u001b[0m\u001b[32mSCRAPE\u001b[0m\u001b[1;32m]\u001b[0m\u001b[32m.. ◆ \u001b[0m\u001b[4;32mhttps://www.amazon.com/gp/help/customer/display.html/\u001b[0m\u001b[4;32mref\u001b[0m\u001b[4;32m=\u001b[0m\u001b[4;32mfooter_privacy\u001b[0m\u001b[4;32m?\u001b[0m\u001b[4;32mie\u001b[0m\u001b[4;32m=\u001b[0m\u001b[4;32mUTF8\u001b[0m\u001b[4;32m&\u001b[0m\u001b[4;32mnodeId\u001b[0m\u001b[4;32m=\u001b[0m\u001b[4;32m468496\u001b[0m\u001b[32m        |\u001b[0m\n",
              "\u001b[32m✓\u001b[0m\u001b[32m | ⏱: \u001b[0m\u001b[1;32m0.\u001b[0m\u001b[32m23s \u001b[0m\n"
            ],
            "text/html": [
              "<pre style=\"white-space:pre;overflow-x:auto;line-height:normal;font-family:Menlo,'DejaVu Sans Mono',consolas,'Courier New',monospace\"><span style=\"color: #008000; text-decoration-color: #008000; font-weight: bold\">[</span><span style=\"color: #008000; text-decoration-color: #008000\">SCRAPE</span><span style=\"color: #008000; text-decoration-color: #008000; font-weight: bold\">]</span><span style=\"color: #008000; text-decoration-color: #008000\">.. ◆ </span><span style=\"color: #008000; text-decoration-color: #008000; text-decoration: underline\">https://www.amazon.com/gp/help/customer/display.html/ref=footer_privacy?ie=UTF8&amp;nodeId=468496</span><span style=\"color: #008000; text-decoration-color: #008000\">        |</span>\n",
              "<span style=\"color: #008000; text-decoration-color: #008000\">✓ | ⏱: </span><span style=\"color: #008000; text-decoration-color: #008000; font-weight: bold\">0.</span><span style=\"color: #008000; text-decoration-color: #008000\">23s </span>\n",
              "</pre>\n"
            ]
          },
          "metadata": {}
        },
        {
          "output_type": "display_data",
          "data": {
            "text/plain": [
              "\u001b[1;32m[\u001b[0m\u001b[32mCOMPLETE\u001b[0m\u001b[1;32m]\u001b[0m\u001b[32m ● \u001b[0m\u001b[4;32mhttps://www.amazon.com/gp/help/customer/display.html/\u001b[0m\u001b[4;32mref\u001b[0m\u001b[4;32m=\u001b[0m\u001b[4;32mfooter_privacy\u001b[0m\u001b[4;32m?\u001b[0m\u001b[4;32mie\u001b[0m\u001b[4;32m=\u001b[0m\u001b[4;32mUTF8\u001b[0m\u001b[4;32m&\u001b[0m\u001b[4;32mnodeId\u001b[0m\u001b[4;32m=\u001b[0m\u001b[4;32m468496\u001b[0m\u001b[32m        |\u001b[0m\n",
              "\u001b[32m✓\u001b[0m\u001b[32m | ⏱: \u001b[0m\u001b[1;32m1.\u001b[0m\u001b[32m65s \u001b[0m\n"
            ],
            "text/html": [
              "<pre style=\"white-space:pre;overflow-x:auto;line-height:normal;font-family:Menlo,'DejaVu Sans Mono',consolas,'Courier New',monospace\"><span style=\"color: #008000; text-decoration-color: #008000; font-weight: bold\">[</span><span style=\"color: #008000; text-decoration-color: #008000\">COMPLETE</span><span style=\"color: #008000; text-decoration-color: #008000; font-weight: bold\">]</span><span style=\"color: #008000; text-decoration-color: #008000\"> ● </span><span style=\"color: #008000; text-decoration-color: #008000; text-decoration: underline\">https://www.amazon.com/gp/help/customer/display.html/ref=footer_privacy?ie=UTF8&amp;nodeId=468496</span><span style=\"color: #008000; text-decoration-color: #008000\">        |</span>\n",
              "<span style=\"color: #008000; text-decoration-color: #008000\">✓ | ⏱: </span><span style=\"color: #008000; text-decoration-color: #008000; font-weight: bold\">1.</span><span style=\"color: #008000; text-decoration-color: #008000\">65s </span>\n",
              "</pre>\n"
            ]
          },
          "metadata": {}
        },
        {
          "output_type": "display_data",
          "data": {
            "text/plain": [
              "\u001b[1;32m[\u001b[0m\u001b[32mFETCH\u001b[0m\u001b[1;32m]\u001b[0m\u001b[32m...\u001b[0m\u001b[32m ↓ \u001b[0m\u001b[4;32mhttps://www.amazon.com/gp/help/customer/display.html/\u001b[0m\u001b[4;32mref\u001b[0m\u001b[4;32m=\u001b[0m\u001b[4;32mfooter_privacy\u001b[0m\u001b[4;32m?\u001b[0m\u001b[4;32mie\u001b[0m\u001b[4;32m=\u001b[0m\u001b[4;32mUTF8\u001b[0m\u001b[4;32m&\u001b[0m\u001b[4;32mnodeId\u001b[0m\u001b[4;32m=\u001b[0m\u001b[4;32m468496\u001b[0m\u001b[32m        |\u001b[0m\n",
              "\u001b[32m✓\u001b[0m\u001b[32m | ⏱: \u001b[0m\u001b[1;32m1.\u001b[0m\u001b[32m38s \u001b[0m\n"
            ],
            "text/html": [
              "<pre style=\"white-space:pre;overflow-x:auto;line-height:normal;font-family:Menlo,'DejaVu Sans Mono',consolas,'Courier New',monospace\"><span style=\"color: #008000; text-decoration-color: #008000; font-weight: bold\">[</span><span style=\"color: #008000; text-decoration-color: #008000\">FETCH</span><span style=\"color: #008000; text-decoration-color: #008000; font-weight: bold\">]</span><span style=\"color: #008000; text-decoration-color: #008000\">... ↓ </span><span style=\"color: #008000; text-decoration-color: #008000; text-decoration: underline\">https://www.amazon.com/gp/help/customer/display.html/ref=footer_privacy?ie=UTF8&amp;nodeId=468496</span><span style=\"color: #008000; text-decoration-color: #008000\">        |</span>\n",
              "<span style=\"color: #008000; text-decoration-color: #008000\">✓ | ⏱: </span><span style=\"color: #008000; text-decoration-color: #008000; font-weight: bold\">1.</span><span style=\"color: #008000; text-decoration-color: #008000\">38s </span>\n",
              "</pre>\n"
            ]
          },
          "metadata": {}
        },
        {
          "output_type": "display_data",
          "data": {
            "text/plain": [
              "\u001b[1;32m[\u001b[0m\u001b[32mSCRAPE\u001b[0m\u001b[1;32m]\u001b[0m\u001b[32m.. ◆ \u001b[0m\u001b[4;32mhttps://www.amazon.com/gp/help/customer/display.html/\u001b[0m\u001b[4;32mref\u001b[0m\u001b[4;32m=\u001b[0m\u001b[4;32mfooter_privacy\u001b[0m\u001b[4;32m?\u001b[0m\u001b[4;32mie\u001b[0m\u001b[4;32m=\u001b[0m\u001b[4;32mUTF8\u001b[0m\u001b[4;32m&\u001b[0m\u001b[4;32mnodeId\u001b[0m\u001b[4;32m=\u001b[0m\u001b[4;32m468496\u001b[0m\u001b[32m        |\u001b[0m\n",
              "\u001b[32m✓\u001b[0m\u001b[32m | ⏱: \u001b[0m\u001b[1;32m0.\u001b[0m\u001b[32m23s \u001b[0m\n"
            ],
            "text/html": [
              "<pre style=\"white-space:pre;overflow-x:auto;line-height:normal;font-family:Menlo,'DejaVu Sans Mono',consolas,'Courier New',monospace\"><span style=\"color: #008000; text-decoration-color: #008000; font-weight: bold\">[</span><span style=\"color: #008000; text-decoration-color: #008000\">SCRAPE</span><span style=\"color: #008000; text-decoration-color: #008000; font-weight: bold\">]</span><span style=\"color: #008000; text-decoration-color: #008000\">.. ◆ </span><span style=\"color: #008000; text-decoration-color: #008000; text-decoration: underline\">https://www.amazon.com/gp/help/customer/display.html/ref=footer_privacy?ie=UTF8&amp;nodeId=468496</span><span style=\"color: #008000; text-decoration-color: #008000\">        |</span>\n",
              "<span style=\"color: #008000; text-decoration-color: #008000\">✓ | ⏱: </span><span style=\"color: #008000; text-decoration-color: #008000; font-weight: bold\">0.</span><span style=\"color: #008000; text-decoration-color: #008000\">23s </span>\n",
              "</pre>\n"
            ]
          },
          "metadata": {}
        },
        {
          "output_type": "display_data",
          "data": {
            "text/plain": [
              "\u001b[1;32m[\u001b[0m\u001b[32mCOMPLETE\u001b[0m\u001b[1;32m]\u001b[0m\u001b[32m ● \u001b[0m\u001b[4;32mhttps://www.amazon.com/gp/help/customer/display.html/\u001b[0m\u001b[4;32mref\u001b[0m\u001b[4;32m=\u001b[0m\u001b[4;32mfooter_privacy\u001b[0m\u001b[4;32m?\u001b[0m\u001b[4;32mie\u001b[0m\u001b[4;32m=\u001b[0m\u001b[4;32mUTF8\u001b[0m\u001b[4;32m&\u001b[0m\u001b[4;32mnodeId\u001b[0m\u001b[4;32m=\u001b[0m\u001b[4;32m468496\u001b[0m\u001b[32m        |\u001b[0m\n",
              "\u001b[32m✓\u001b[0m\u001b[32m | ⏱: \u001b[0m\u001b[1;32m1.\u001b[0m\u001b[32m62s \u001b[0m\n"
            ],
            "text/html": [
              "<pre style=\"white-space:pre;overflow-x:auto;line-height:normal;font-family:Menlo,'DejaVu Sans Mono',consolas,'Courier New',monospace\"><span style=\"color: #008000; text-decoration-color: #008000; font-weight: bold\">[</span><span style=\"color: #008000; text-decoration-color: #008000\">COMPLETE</span><span style=\"color: #008000; text-decoration-color: #008000; font-weight: bold\">]</span><span style=\"color: #008000; text-decoration-color: #008000\"> ● </span><span style=\"color: #008000; text-decoration-color: #008000; text-decoration: underline\">https://www.amazon.com/gp/help/customer/display.html/ref=footer_privacy?ie=UTF8&amp;nodeId=468496</span><span style=\"color: #008000; text-decoration-color: #008000\">        |</span>\n",
              "<span style=\"color: #008000; text-decoration-color: #008000\">✓ | ⏱: </span><span style=\"color: #008000; text-decoration-color: #008000; font-weight: bold\">1.</span><span style=\"color: #008000; text-decoration-color: #008000\">62s </span>\n",
              "</pre>\n"
            ]
          },
          "metadata": {}
        },
        {
          "output_type": "stream",
          "name": "stdout",
          "text": [
            "Crawled 3 pages:\n",
            "- https://www.amazon.com/: 2 internal links, 0 external links\n",
            "Session: None\n",
            "- https://www.amazon.com/gp/help/customer/display.html/ref=footer_cou?ie=UTF8&nodeId=508088: 142 internal links, 22 external links\n",
            "Session: None\n",
            "- https://www.amazon.com/gp/help/customer/display.html/ref=footer_privacy?ie=UTF8&nodeId=468496: 184 internal links, 22 external links\n",
            "Session: None\n"
          ]
        }
      ]
    },
    {
      "cell_type": "markdown",
      "source": [
        "## Paso 2\n",
        "#### Uso de LLM para filtrado de contenido, se parte de una lista de urls del sitio de e-commerce para filtrar el contenido de interés: productos."
      ],
      "metadata": {
        "id": "70MMxCnCOaAA"
      },
      "id": "70MMxCnCOaAA"
    },
    {
      "cell_type": "code",
      "source": [
        "!pip install -q -U google-genai"
      ],
      "metadata": {
        "colab": {
          "base_uri": "https://localhost:8080/"
        },
        "id": "dG5MkcbJOIid",
        "outputId": "58d21b85-5517-4ed3-c2c7-788428a786e1"
      },
      "id": "dG5MkcbJOIid",
      "execution_count": null,
      "outputs": [
        {
          "output_type": "stream",
          "name": "stdout",
          "text": [
            "\u001b[?25l   \u001b[90m━━━━━━━━━━━━━━━━━━━━━━━━━━━━━━━━━━━━━━━━\u001b[0m \u001b[32m0.0/206.4 kB\u001b[0m \u001b[31m?\u001b[0m eta \u001b[36m-:--:--\u001b[0m\r\u001b[2K   \u001b[90m━━━━━━━━━━━━━━━━━━━━━━━━━━━━━━━━━━━━━━━━\u001b[0m \u001b[32m206.4/206.4 kB\u001b[0m \u001b[31m6.4 MB/s\u001b[0m eta \u001b[36m0:00:00\u001b[0m\n",
            "\u001b[?25h"
          ]
        }
      ]
    },
    {
      "cell_type": "markdown",
      "source": [
        "#Utils"
      ],
      "metadata": {
        "id": "sibqKBJc4dBl"
      },
      "id": "sibqKBJc4dBl"
    },
    {
      "cell_type": "markdown",
      "source": [
        "#### Parseo de la respuesta del modelo para exporotar en formato json\n"
      ],
      "metadata": {
        "id": "ieC5560grAt0"
      },
      "id": "ieC5560grAt0"
    },
    {
      "cell_type": "code",
      "source": [
        "def parse_to_dictionary(text_to_parse):\n",
        "  \"\"\"\n",
        "  método que parsea un string a un diccionario cono diferentes estrategias\n",
        "  \"\"\"\n",
        "  parsing_strategies = [\n",
        "      #lambda x: eval(x), # Generic eval for python dictionaries\n",
        "      lambda x: json.loads(re.sub(r'\\\\n', '\\n', re.sub(r'\\\\\"', '\"', re.sub(r'\\\\\\\\', '\\\\',re.search(r'```json\\\\n(.*?)```', s, re.DOTALL).group(1))))),\n",
        "      lambda x: json.loads(json.loads(x.strip('\"')).replace(\"```json\\\\n\", \"\").replace(\"\\\\n```\", \"\")),\n",
        "      lambda x: json.loads(x.replace(\"\\n\", \"\").strip(\".\\n\")), # Clean and parse JSON directly\n",
        "      lambda x: json.loads(re.search(r'```json\\n(.*?)\\n```', x, re.DOTALL).group(1)),\n",
        "      lambda x: eval(re.search(r\"```json\\n(.*?)\\n```\", x, re.DOTALL).group(1)),\n",
        "      lambda x: json.loads(re.search(r\"\\{.*\\}\", x, re.DOTALL.group(0))), # Extract shortest JSON-like object with eval\n",
        "      lambda x: eval(re.search(r\"\\{.*\\}\", x, re.DOTALL).group(0)), #Extract JSON-like content usinng eval.\n",
        "      lambda x: json.loads(re.search(r\"```json\\s*(\\{.*?\\})\\s*```\", x, re.DOTALL).group(1)), # Parse JSON in a ```json``` block\n",
        "  ]\n",
        "\n",
        "  for strategy in parsing_strategies:\n",
        "    try:\n",
        "      return strategy(text_to_parse)\n",
        "    except Exception:\n",
        "            continue\n",
        "\n",
        "\"\"\"\n",
        "if isinstance(parsed_json, str): # si ninguna de las estrategias de parseo funciona\n",
        "  text = re.sub(r\"```json\", \"\", parsed_json)\n",
        "  # Elimina todas las secuencias de \\n\n",
        "  text = re.sub(r\"\\\\n\", \"\", text)\n",
        "  # Elimina todas las secuencias de \\n\n",
        "  list_from_text = re.sub(r\"\\n\", \"\", text)\n",
        "  # (Opcional) elimina múltiples espacios si los hay\n",
        "  list_from_text = [re.sub(r\"\\s{2,}\", \" \", text)]\n",
        "\"\"\"\n"
      ],
      "metadata": {
        "id": "V5eyH-nrfQyg"
      },
      "id": "V5eyH-nrfQyg",
      "execution_count": 21,
      "outputs": []
    },
    {
      "cell_type": "code",
      "source": [
        "type(parsed_json)"
      ],
      "metadata": {
        "colab": {
          "base_uri": "https://localhost:8080/"
        },
        "id": "xfgwwnjLf-fZ",
        "outputId": "cba73ab3-62bd-425c-b811-bafdf97bacb6"
      },
      "id": "xfgwwnjLf-fZ",
      "execution_count": 14,
      "outputs": [
        {
          "output_type": "execute_result",
          "data": {
            "text/plain": [
              "str"
            ]
          },
          "metadata": {},
          "execution_count": 14
        }
      ]
    },
    {
      "cell_type": "markdown",
      "source": [
        "#### Diseño y ejecución del modelo de lenguaje para filtrado de contenido textual, conservando la estructura inicial de la información."
      ],
      "metadata": {
        "id": "94YqCRA9rGfi"
      },
      "id": "94YqCRA9rGfi"
    },
    {
      "cell_type": "code",
      "source": [
        "import json\n",
        "from google import genai\n",
        "from google.genai import types\n",
        "from google.colab import userdata\n",
        "\n",
        "input_file = json_name # Del paso 1\n",
        "\n",
        "with open(input_file) as json_file:\n",
        "  json_contents = json_file.read()\n",
        "\n",
        "client = genai.Client(api_key=userdata.get(\"GOOGLE_API_KEY_1\"))\n",
        "\n",
        "model_id = \"gemini-2.0-flash\"\n",
        "\n",
        "system_prompt = \"\"\"\n",
        "Eres un desarrollador experimentado que recibe un archivo JSON con información de un e-commerce con los siguientes atributos:\n",
        "href, text, title y base_domain. Solo debes tomar la información contenida en \"internal\".\n",
        "\n",
        "Tu tarea es generar un JSON limpio removiendo los bloques de información que no hagan referencia a productos.\n",
        "Remueve los signos de puntuación por la letra sin tilde.\n",
        "\n",
        "Incluye contenido relacionado con productos, usualmente se encuentran por categorías. Por ejemplo:\n",
        "- Salud\n",
        "- Belleza\n",
        "- Vehículos\n",
        "- Alimentos\n",
        "- Moda\n",
        "\n",
        "Excluye contenido que tenga información relacionada con:\n",
        "- Políticas\n",
        "- Terminos y condiciones\n",
        "- Redes sociales\n",
        "\n",
        "\"\"\"\n",
        "prompt = f\"\"\"\n",
        "Ten en cuenta que no puedes agregar otras secciones diferentes a las mencionadas en la salida.\n",
        "\n",
        "Entrada:\n",
        "\"texto: {json_contents}\"\n",
        "\n",
        "la salida debe ser un JSON que mantenga la estructura del archivo de entrada.\n",
        "No debes agregar información adicional.\n",
        "\n",
        "Salida:\n",
        "\"href\": \"url\",\n",
        "\"text\": \"url description\",\n",
        "\"title\": \"\",\n",
        "\"base_domain\": \"site domain\"\n",
        "\"\"\"\n",
        "\n",
        "response = client.models.generate_content(\n",
        "    model=model_id,\n",
        "    contents=prompt,\n",
        "    config=types.GenerateContentConfig(\n",
        "        system_instruction=system_prompt\n",
        "    )\n",
        ")\n",
        "\n",
        "print(response.text)\n",
        "\n",
        "parsed_response = parse_to_dictionary(response.text)\n",
        "\n",
        "filtered_json_name = f\"{input_file.split('.')[0]}_cleaned.json\"\n",
        "\n",
        "with open(filtered_json_name, \"w\") as f:\n",
        "  #f.write(response.to_json_dict)\n",
        "  json.dump(parsed_response, f, indent=4, ensure_ascii=False)\n",
        "  print(f\"{filtered_json_name} ha sido guardado\")\n",
        "\n",
        "#print(f\"Se ha filtrado el contenido con éxito. El número de sitios posibles a scrapear de {input_file.split('.')[0]} :{len(parsed_response['internal'])}\")"
      ],
      "metadata": {
        "id": "TVcgob_MOhjO",
        "colab": {
          "base_uri": "https://localhost:8080/"
        },
        "collapsed": true,
        "outputId": "a86bee29-8f28-46bd-b401-ce9a4971ad4b"
      },
      "id": "TVcgob_MOhjO",
      "execution_count": 24,
      "outputs": [
        {
          "output_type": "stream",
          "name": "stdout",
          "text": [
            "```json\n",
            "{\n",
            "  \"internal\": [\n",
            "    {\n",
            "      \"href\": \"https://www.amazon.com/haul/store?ref_=nav_cs_hul_disb\",\n",
            "      \"text\": \"Amazon Haul\",\n",
            "      \"title\": \"\",\n",
            "      \"base_domain\": \"amazon.com\"\n",
            "    },\n",
            "    {\n",
            "      \"href\": \"https://health.amazon.com/prime?ref_=nav_cs_all_health_ingress_onem_h\",\n",
            "      \"text\": \"Medical Care\",\n",
            "      \"title\": \"\",\n",
            "      \"base_domain\": \"amazon.com\"\n",
            "    },\n",
            "    {\n",
            "      \"href\": \"https://www.amazon.com/luxurystores/saks?ref_=nav_cs_saks_disc\",\n",
            "      \"text\": \"Saks\",\n",
            "      \"title\": \"\",\n",
            "      \"base_domain\": \"amazon.com\"\n",
            "    },\n",
            "    {\n",
            "      \"href\": \"https://www.amazon.com/gp/bestsellers/?ref_=nav_cs_bestsellers\",\n",
            "      \"text\": \"Best Sellers\",\n",
            "      \"title\": \"\",\n",
            "      \"base_domain\": \"amazon.com\"\n",
            "    },\n",
            "    {\n",
            "      \"href\": \"https://www.amazon.com/Amazon_Basics?channel=discovbar&field-lbr_brands_browse-bin=AmazonBasics&ref_=nav_cs_amazonbasics\",\n",
            "      \"text\": \"Amazon Basics\",\n",
            "      \"title\": \"\",\n",
            "      \"base_domain\": \"amazon.com\"\n",
            "    },\n",
            "    {\n",
            "      \"href\": \"https://www.amazon.com/gp/new-releases/?ref_=nav_cs_newreleases\",\n",
            "      \"text\": \"New Releases\",\n",
            "      \"title\": \"\",\n",
            "      \"base_domain\": \"amazon.com\"\n",
            "    },\n",
            "    {\n",
            "      \"href\": \"https://www.amazon.com/gp/browse.html?node=16115931011&ref_=nav_cs_registry\",\n",
            "      \"text\": \"Registry\",\n",
            "      \"title\": \"\",\n",
            "      \"base_domain\": \"amazon.com\"\n",
            "    },\n",
            "    {\n",
            "      \"href\": \"https://www.amazon.com/fmc/learn-more?ref_=nav_cs_groceries\",\n",
            "      \"text\": \"Groceries\",\n",
            "      \"title\": \"\",\n",
            "      \"base_domain\": \"amazon.com\"\n",
            "    },\n",
            "    {\n",
            "      \"href\": \"https://www.amazon.com/deals?ref_=nav_cs_gb\",\n",
            "      \"text\": \"Today's Deals\",\n",
            "      \"title\": \"\",\n",
            "      \"base_domain\": \"amazon.com\"\n",
            "    },\n",
            "    {\n",
            "      \"href\": \"https://www.amazon.com/gift-cards/b/?ie=UTF8&node=2238192011&ref_=nav_cs_gc\",\n",
            "      \"text\": \"Gift Cards\",\n",
            "      \"title\": \"\",\n",
            "      \"base_domain\": \"amazon.com\"\n",
            "    },\n",
            "    {\n",
            "      \"href\": \"https://www.amazon.com/Smart-Home/b/?ie=UTF8&node=6563140011&ref_=nav_cs_smart_home\",\n",
            "      \"text\": \"Smart Home\",\n",
            "      \"title\": \"\",\n",
            "      \"base_domain\": \"amazon.com\"\n",
            "    },\n",
            "    {\n",
            "      \"href\": \"https://www.amazon.com/music/player?ref_=nav_cs_music\",\n",
            "      \"text\": \"Music\",\n",
            "      \"title\": \"\",\n",
            "      \"base_domain\": \"amazon.com\"\n",
            "    },\n",
            "    {\n",
            "      \"href\": \"https://www.amazon.com/books-used-books-textbooks/b/?ie=UTF8&node=283155&ref_=nav_cs_books\",\n",
            "      \"text\": \"Books\",\n",
            "      \"title\": \"\",\n",
            "      \"base_domain\": \"amazon.com\"\n",
            "    },\n",
            "    {\n",
            "      \"href\": \"https://pharmacy.amazon.com/?nodl=0&ref_=nav_cs_pharmacy\",\n",
            "      \"text\": \"Pharmacy\",\n",
            "      \"title\": \"\",\n",
            "      \"base_domain\": \"amazon.com\"\n",
            "    },\n",
            "    {\n",
            "      \"href\": \"https://www.amazon.com/luxurystores?ref_=nav_cs_luxury\",\n",
            "      \"text\": \"Luxury Stores\",\n",
            "      \"title\": \"\",\n",
            "      \"base_domain\": \"amazon.com\"\n",
            "    },\n",
            "    {\n",
            "      \"href\": \"https://www.amazon.com/home-garden-kitchen-furniture-bedding/b/?ie=UTF8&node=1055398&ref_=nav_cs_home\",\n",
            "      \"text\": \"Amazon Home\",\n",
            "      \"title\": \"\",\n",
            "      \"base_domain\": \"amazon.com\"\n",
            "    },\n",
            "    {\n",
            "      \"href\": \"https://www.amazon.com/amazon-fashion/b/?ie=UTF8&node=7141123011&ref_=nav_cs_fashion\",\n",
            "      \"text\": \"Fashion\",\n",
            "      \"title\": \"\",\n",
            "      \"base_domain\": \"amazon.com\"\n",
            "    },\n",
            "    {\n",
            "      \"href\": \"https://www.amazon.com/finds?ref_=nav_cs_foundit\",\n",
            "      \"text\": \"Shop By Interest\",\n",
            "      \"title\": \"\",\n",
            "      \"base_domain\": \"amazon.com\"\n",
            "    },\n",
            "    {\n",
            "      \"href\": \"https://www.amazon.com/toys/b/?ie=UTF8&node=165793011&ref_=nav_cs_toys\",\n",
            "      \"text\": \"Toys & Games\",\n",
            "      \"title\": \"\",\n",
            "      \"base_domain\": \"amazon.com\"\n",
            "    },\n",
            "    {\n",
            "      \"href\": \"https://www.amazon.com/Beauty-Makeup-Skin-Hair-Products/b/?ie=UTF8&node=3760911&ref_=nav_cs_beauty\",\n",
            "      \"text\": \"Beauty & Personal Care\",\n",
            "      \"title\": \"\",\n",
            "      \"base_domain\": \"amazon.com\"\n",
            "    },\n",
            "    {\n",
            "      \"href\": \"https://www.amazon.com/automotive-auto-truck-replacements-parts/b/?ie=UTF8&node=15684181&ref_=nav_cs_automotive\",\n",
            "      \"text\": \"Automotive\",\n",
            "      \"title\": \"\",\n",
            "      \"base_domain\": \"amazon.com\"\n",
            "    },\n",
            "    {\n",
            "      \"href\": \"https://www.amazon.com/Tools-and-Home-Improvement/b/?ie=UTF8&node=228013&ref_=nav_cs_hi\",\n",
            "      \"text\": \"Home Improvement\",\n",
            "      \"title\": \"\",\n",
            "      \"base_domain\": \"amazon.com\"\n",
            "    },\n",
            "    {\n",
            "      \"href\": \"https://www.amazon.com/computer-pc-hardware-accessories-add-ons/b/?ie=UTF8&node=541966&ref_=nav_cs_pc\",\n",
            "      \"text\": \"Computers\",\n",
            "      \"title\": \"\",\n",
            "      \"base_domain\": \"amazon.com\"\n",
            "    },\n",
            "    {\n",
            "      \"href\": \"https://www.amazon.com/gcx/Gifts-for-Everyone/gfhz/?ref_=nav_cs_giftfinder\",\n",
            "      \"text\": \"Gift Shop\",\n",
            "      \"title\": \"\",\n",
            "      \"base_domain\": \"amazon.com\"\n",
            "    },\n",
            "    {\n",
            "      \"href\": \"https://www.amazon.com/sports-outdoors/b/?ie=UTF8&node=3375251&ref_=nav_cs_sports\",\n",
            "      \"text\": \"Sports & Outdoors\",\n",
            "      \"title\": \"\",\n",
            "      \"base_domain\": \"amazon.com\"\n",
            "    }\n",
            "  ]\n",
            "}\n",
            "```\n",
            "amazon_2025-06-24_02-55-44_cleaned.json ha sido guardado\n"
          ]
        }
      ]
    },
    {
      "cell_type": "markdown",
      "source": [
        "## Paso 3\n",
        "Se toman las urls de producto identificadas en el paso anterior y extraen markdowns con la información de interés.\n",
        "\n",
        "Se guardan cada uno de los archivos y también se apilan en la lista *raw_output*"
      ],
      "metadata": {
        "id": "9DpH9Hyr4QBl"
      },
      "id": "9DpH9Hyr4QBl"
    },
    {
      "cell_type": "markdown",
      "source": [],
      "metadata": {
        "id": "N1nzTWVU6o5o"
      },
      "id": "N1nzTWVU6o5o"
    },
    {
      "cell_type": "code",
      "source": [
        "import re\n",
        "import datetime\n",
        "import asyncio\n",
        "from crawl4ai import AsyncWebCrawler\n",
        "\n",
        "input_file = filtered_json_name # del paso 2\n",
        "\n",
        "with open(input_file) as json_file:\n",
        "  json_contents = json_file.read()\n",
        "\n",
        "parsed_json = parse_to_dictionary(json_contents)\n",
        "\n",
        "async def main(url):\n",
        "    # Create an instance of AsyncWebCrawler\n",
        "    async with AsyncWebCrawler() as crawler:\n",
        "        # Run the crawler on a URL\n",
        "        result = await crawler.arun(url)\n",
        "\n",
        "        # Get the current date and time\n",
        "        now = datetime.datetime.now()\n",
        "\n",
        "        # Format the date and time as a string (e.g., \"2025-06-23_14-30-00\")\n",
        "        formatted_datetime = now.strftime(\"%Y-%m-%d_%H-%M-%S\")\n",
        "\n",
        "        # Save the markdown to a file\n",
        "        if result.success:\n",
        "            with open(url.split('.')[1] + '_' + formatted_datetime + '.md', \"w\", encoding=\"utf-8\") as f:\n",
        "                f.write(result.markdown.raw_markdown)\n",
        "            print(f\"Markdown saved to {url.split('.')[1]}_{formatted_datetime}\")\n",
        "        else:\n",
        "            print(f\"Failed to crawl: {result.error_message}\")\n",
        "    return result\n",
        "\n",
        "# Run the async main function\n",
        "raw_output = []\n",
        "\n",
        "for item in range(len(parsed_json['internal'])):\n",
        "  output = await(main(url=parsed_json['internal'][item-1]['href'])) #crawl4ai.models.CrawlResultContainer\n",
        "  raw_output.append(output)"
      ],
      "metadata": {
        "colab": {
          "base_uri": "https://localhost:8080/",
          "height": 1000
        },
        "id": "rjD6McnTBH_W",
        "outputId": "ff173ce5-9e92-472f-e296-ffa1b243f33c"
      },
      "id": "rjD6McnTBH_W",
      "execution_count": 25,
      "outputs": [
        {
          "output_type": "display_data",
          "data": {
            "text/plain": [
              "\u001b[1;36m[\u001b[0m\u001b[36mINIT\u001b[0m\u001b[1;36m]\u001b[0m\u001b[36m...\u001b[0m\u001b[36m. → Crawl4AI \u001b[0m\u001b[1;36m0.6\u001b[0m\u001b[36m.\u001b[0m\u001b[1;36m3\u001b[0m\u001b[36m \u001b[0m\n"
            ],
            "text/html": [
              "<pre style=\"white-space:pre;overflow-x:auto;line-height:normal;font-family:Menlo,'DejaVu Sans Mono',consolas,'Courier New',monospace\"><span style=\"color: #008080; text-decoration-color: #008080; font-weight: bold\">[</span><span style=\"color: #008080; text-decoration-color: #008080\">INIT</span><span style=\"color: #008080; text-decoration-color: #008080; font-weight: bold\">]</span><span style=\"color: #008080; text-decoration-color: #008080\">.... → Crawl4AI </span><span style=\"color: #008080; text-decoration-color: #008080; font-weight: bold\">0.6</span><span style=\"color: #008080; text-decoration-color: #008080\">.</span><span style=\"color: #008080; text-decoration-color: #008080; font-weight: bold\">3</span><span style=\"color: #008080; text-decoration-color: #008080\"> </span>\n",
              "</pre>\n"
            ]
          },
          "metadata": {}
        },
        {
          "output_type": "display_data",
          "data": {
            "text/plain": [
              "\u001b[1;32m[\u001b[0m\u001b[32mFETCH\u001b[0m\u001b[1;32m]\u001b[0m\u001b[32m...\u001b[0m\u001b[32m ↓ \u001b[0m\u001b[4;32mhttps://www.amazon.com/sports-outdoors/b/?\u001b[0m\u001b[4;32mie\u001b[0m\u001b[4;32m=\u001b[0m\u001b[4;32mUTF8\u001b[0m\u001b[4;32m&\u001b[0m\u001b[4;32mnode\u001b[0m\u001b[4;32m=\u001b[0m\u001b[4;32m3375251\u001b[0m\u001b[4;32m&\u001b[0m\u001b[4;32mref_\u001b[0m\u001b[4;32m=\u001b[0m\u001b[4;32mnav_cs_sports\u001b[0m\u001b[32m                    |\u001b[0m\n",
              "\u001b[32m✓\u001b[0m\u001b[32m | ⏱: \u001b[0m\u001b[1;32m5.\u001b[0m\u001b[32m58s \u001b[0m\n"
            ],
            "text/html": [
              "<pre style=\"white-space:pre;overflow-x:auto;line-height:normal;font-family:Menlo,'DejaVu Sans Mono',consolas,'Courier New',monospace\"><span style=\"color: #008000; text-decoration-color: #008000; font-weight: bold\">[</span><span style=\"color: #008000; text-decoration-color: #008000\">FETCH</span><span style=\"color: #008000; text-decoration-color: #008000; font-weight: bold\">]</span><span style=\"color: #008000; text-decoration-color: #008000\">... ↓ </span><span style=\"color: #008000; text-decoration-color: #008000; text-decoration: underline\">https://www.amazon.com/sports-outdoors/b/?ie=UTF8&amp;node=3375251&amp;ref_=nav_cs_sports</span><span style=\"color: #008000; text-decoration-color: #008000\">                    |</span>\n",
              "<span style=\"color: #008000; text-decoration-color: #008000\">✓ | ⏱: </span><span style=\"color: #008000; text-decoration-color: #008000; font-weight: bold\">5.</span><span style=\"color: #008000; text-decoration-color: #008000\">58s </span>\n",
              "</pre>\n"
            ]
          },
          "metadata": {}
        },
        {
          "output_type": "display_data",
          "data": {
            "text/plain": [
              "\u001b[1;32m[\u001b[0m\u001b[32mSCRAPE\u001b[0m\u001b[1;32m]\u001b[0m\u001b[32m.. ◆ \u001b[0m\u001b[4;32mhttps://www.amazon.com/sports-outdoors/b/?\u001b[0m\u001b[4;32mie\u001b[0m\u001b[4;32m=\u001b[0m\u001b[4;32mUTF8\u001b[0m\u001b[4;32m&\u001b[0m\u001b[4;32mnode\u001b[0m\u001b[4;32m=\u001b[0m\u001b[4;32m3375251\u001b[0m\u001b[4;32m&\u001b[0m\u001b[4;32mref_\u001b[0m\u001b[4;32m=\u001b[0m\u001b[4;32mnav_cs_sports\u001b[0m\u001b[32m                    |\u001b[0m\n",
              "\u001b[32m✓\u001b[0m\u001b[32m | ⏱: \u001b[0m\u001b[1;32m0.\u001b[0m\u001b[32m82s \u001b[0m\n"
            ],
            "text/html": [
              "<pre style=\"white-space:pre;overflow-x:auto;line-height:normal;font-family:Menlo,'DejaVu Sans Mono',consolas,'Courier New',monospace\"><span style=\"color: #008000; text-decoration-color: #008000; font-weight: bold\">[</span><span style=\"color: #008000; text-decoration-color: #008000\">SCRAPE</span><span style=\"color: #008000; text-decoration-color: #008000; font-weight: bold\">]</span><span style=\"color: #008000; text-decoration-color: #008000\">.. ◆ </span><span style=\"color: #008000; text-decoration-color: #008000; text-decoration: underline\">https://www.amazon.com/sports-outdoors/b/?ie=UTF8&amp;node=3375251&amp;ref_=nav_cs_sports</span><span style=\"color: #008000; text-decoration-color: #008000\">                    |</span>\n",
              "<span style=\"color: #008000; text-decoration-color: #008000\">✓ | ⏱: </span><span style=\"color: #008000; text-decoration-color: #008000; font-weight: bold\">0.</span><span style=\"color: #008000; text-decoration-color: #008000\">82s </span>\n",
              "</pre>\n"
            ]
          },
          "metadata": {}
        },
        {
          "output_type": "display_data",
          "data": {
            "text/plain": [
              "\u001b[1;32m[\u001b[0m\u001b[32mCOMPLETE\u001b[0m\u001b[1;32m]\u001b[0m\u001b[32m ● \u001b[0m\u001b[4;32mhttps://www.amazon.com/sports-outdoors/b/?\u001b[0m\u001b[4;32mie\u001b[0m\u001b[4;32m=\u001b[0m\u001b[4;32mUTF8\u001b[0m\u001b[4;32m&\u001b[0m\u001b[4;32mnode\u001b[0m\u001b[4;32m=\u001b[0m\u001b[4;32m3375251\u001b[0m\u001b[4;32m&\u001b[0m\u001b[4;32mref_\u001b[0m\u001b[4;32m=\u001b[0m\u001b[4;32mnav_cs_sports\u001b[0m\u001b[32m                    |\u001b[0m\n",
              "\u001b[32m✓\u001b[0m\u001b[32m | ⏱: \u001b[0m\u001b[1;32m6.\u001b[0m\u001b[32m41s \u001b[0m\n"
            ],
            "text/html": [
              "<pre style=\"white-space:pre;overflow-x:auto;line-height:normal;font-family:Menlo,'DejaVu Sans Mono',consolas,'Courier New',monospace\"><span style=\"color: #008000; text-decoration-color: #008000; font-weight: bold\">[</span><span style=\"color: #008000; text-decoration-color: #008000\">COMPLETE</span><span style=\"color: #008000; text-decoration-color: #008000; font-weight: bold\">]</span><span style=\"color: #008000; text-decoration-color: #008000\"> ● </span><span style=\"color: #008000; text-decoration-color: #008000; text-decoration: underline\">https://www.amazon.com/sports-outdoors/b/?ie=UTF8&amp;node=3375251&amp;ref_=nav_cs_sports</span><span style=\"color: #008000; text-decoration-color: #008000\">                    |</span>\n",
              "<span style=\"color: #008000; text-decoration-color: #008000\">✓ | ⏱: </span><span style=\"color: #008000; text-decoration-color: #008000; font-weight: bold\">6.</span><span style=\"color: #008000; text-decoration-color: #008000\">41s </span>\n",
              "</pre>\n"
            ]
          },
          "metadata": {}
        },
        {
          "output_type": "stream",
          "name": "stdout",
          "text": [
            "Markdown saved to amazon_2025-06-24_03-09-34\n"
          ]
        },
        {
          "output_type": "display_data",
          "data": {
            "text/plain": [
              "\u001b[1;36m[\u001b[0m\u001b[36mINIT\u001b[0m\u001b[1;36m]\u001b[0m\u001b[36m...\u001b[0m\u001b[36m. → Crawl4AI \u001b[0m\u001b[1;36m0.6\u001b[0m\u001b[36m.\u001b[0m\u001b[1;36m3\u001b[0m\u001b[36m \u001b[0m\n"
            ],
            "text/html": [
              "<pre style=\"white-space:pre;overflow-x:auto;line-height:normal;font-family:Menlo,'DejaVu Sans Mono',consolas,'Courier New',monospace\"><span style=\"color: #008080; text-decoration-color: #008080; font-weight: bold\">[</span><span style=\"color: #008080; text-decoration-color: #008080\">INIT</span><span style=\"color: #008080; text-decoration-color: #008080; font-weight: bold\">]</span><span style=\"color: #008080; text-decoration-color: #008080\">.... → Crawl4AI </span><span style=\"color: #008080; text-decoration-color: #008080; font-weight: bold\">0.6</span><span style=\"color: #008080; text-decoration-color: #008080\">.</span><span style=\"color: #008080; text-decoration-color: #008080; font-weight: bold\">3</span><span style=\"color: #008080; text-decoration-color: #008080\"> </span>\n",
              "</pre>\n"
            ]
          },
          "metadata": {}
        },
        {
          "output_type": "display_data",
          "data": {
            "text/plain": [
              "\u001b[1;32m[\u001b[0m\u001b[32mFETCH\u001b[0m\u001b[1;32m]\u001b[0m\u001b[32m...\u001b[0m\u001b[32m ↓ \u001b[0m\u001b[4;32mhttps://www.amazon.com/haul/store?\u001b[0m\u001b[4;32mref_\u001b[0m\u001b[4;32m=\u001b[0m\u001b[4;32mnav_cs_hul_disb\u001b[0m\u001b[32m                                               |\u001b[0m\n",
              "\u001b[32m✓\u001b[0m\u001b[32m | ⏱: \u001b[0m\u001b[1;32m4.\u001b[0m\u001b[32m50s \u001b[0m\n"
            ],
            "text/html": [
              "<pre style=\"white-space:pre;overflow-x:auto;line-height:normal;font-family:Menlo,'DejaVu Sans Mono',consolas,'Courier New',monospace\"><span style=\"color: #008000; text-decoration-color: #008000; font-weight: bold\">[</span><span style=\"color: #008000; text-decoration-color: #008000\">FETCH</span><span style=\"color: #008000; text-decoration-color: #008000; font-weight: bold\">]</span><span style=\"color: #008000; text-decoration-color: #008000\">... ↓ </span><span style=\"color: #008000; text-decoration-color: #008000; text-decoration: underline\">https://www.amazon.com/haul/store?ref_=nav_cs_hul_disb</span><span style=\"color: #008000; text-decoration-color: #008000\">                                               |</span>\n",
              "<span style=\"color: #008000; text-decoration-color: #008000\">✓ | ⏱: </span><span style=\"color: #008000; text-decoration-color: #008000; font-weight: bold\">4.</span><span style=\"color: #008000; text-decoration-color: #008000\">50s </span>\n",
              "</pre>\n"
            ]
          },
          "metadata": {}
        },
        {
          "output_type": "display_data",
          "data": {
            "text/plain": [
              "\u001b[1;32m[\u001b[0m\u001b[32mSCRAPE\u001b[0m\u001b[1;32m]\u001b[0m\u001b[32m.. ◆ \u001b[0m\u001b[4;32mhttps://www.amazon.com/haul/store?\u001b[0m\u001b[4;32mref_\u001b[0m\u001b[4;32m=\u001b[0m\u001b[4;32mnav_cs_hul_disb\u001b[0m\u001b[32m                                               |\u001b[0m\n",
              "\u001b[32m✓\u001b[0m\u001b[32m | ⏱: \u001b[0m\u001b[1;32m0.\u001b[0m\u001b[32m46s \u001b[0m\n"
            ],
            "text/html": [
              "<pre style=\"white-space:pre;overflow-x:auto;line-height:normal;font-family:Menlo,'DejaVu Sans Mono',consolas,'Courier New',monospace\"><span style=\"color: #008000; text-decoration-color: #008000; font-weight: bold\">[</span><span style=\"color: #008000; text-decoration-color: #008000\">SCRAPE</span><span style=\"color: #008000; text-decoration-color: #008000; font-weight: bold\">]</span><span style=\"color: #008000; text-decoration-color: #008000\">.. ◆ </span><span style=\"color: #008000; text-decoration-color: #008000; text-decoration: underline\">https://www.amazon.com/haul/store?ref_=nav_cs_hul_disb</span><span style=\"color: #008000; text-decoration-color: #008000\">                                               |</span>\n",
              "<span style=\"color: #008000; text-decoration-color: #008000\">✓ | ⏱: </span><span style=\"color: #008000; text-decoration-color: #008000; font-weight: bold\">0.</span><span style=\"color: #008000; text-decoration-color: #008000\">46s </span>\n",
              "</pre>\n"
            ]
          },
          "metadata": {}
        },
        {
          "output_type": "display_data",
          "data": {
            "text/plain": [
              "\u001b[1;32m[\u001b[0m\u001b[32mCOMPLETE\u001b[0m\u001b[1;32m]\u001b[0m\u001b[32m ● \u001b[0m\u001b[4;32mhttps://www.amazon.com/haul/store?\u001b[0m\u001b[4;32mref_\u001b[0m\u001b[4;32m=\u001b[0m\u001b[4;32mnav_cs_hul_disb\u001b[0m\u001b[32m                                               |\u001b[0m\n",
              "\u001b[32m✓\u001b[0m\u001b[32m | ⏱: \u001b[0m\u001b[1;32m4.\u001b[0m\u001b[32m98s \u001b[0m\n"
            ],
            "text/html": [
              "<pre style=\"white-space:pre;overflow-x:auto;line-height:normal;font-family:Menlo,'DejaVu Sans Mono',consolas,'Courier New',monospace\"><span style=\"color: #008000; text-decoration-color: #008000; font-weight: bold\">[</span><span style=\"color: #008000; text-decoration-color: #008000\">COMPLETE</span><span style=\"color: #008000; text-decoration-color: #008000; font-weight: bold\">]</span><span style=\"color: #008000; text-decoration-color: #008000\"> ● </span><span style=\"color: #008000; text-decoration-color: #008000; text-decoration: underline\">https://www.amazon.com/haul/store?ref_=nav_cs_hul_disb</span><span style=\"color: #008000; text-decoration-color: #008000\">                                               |</span>\n",
              "<span style=\"color: #008000; text-decoration-color: #008000\">✓ | ⏱: </span><span style=\"color: #008000; text-decoration-color: #008000; font-weight: bold\">4.</span><span style=\"color: #008000; text-decoration-color: #008000\">98s </span>\n",
              "</pre>\n"
            ]
          },
          "metadata": {}
        },
        {
          "output_type": "stream",
          "name": "stdout",
          "text": [
            "Markdown saved to amazon_2025-06-24_03-09-40\n"
          ]
        },
        {
          "output_type": "display_data",
          "data": {
            "text/plain": [
              "\u001b[1;36m[\u001b[0m\u001b[36mINIT\u001b[0m\u001b[1;36m]\u001b[0m\u001b[36m...\u001b[0m\u001b[36m. → Crawl4AI \u001b[0m\u001b[1;36m0.6\u001b[0m\u001b[36m.\u001b[0m\u001b[1;36m3\u001b[0m\u001b[36m \u001b[0m\n"
            ],
            "text/html": [
              "<pre style=\"white-space:pre;overflow-x:auto;line-height:normal;font-family:Menlo,'DejaVu Sans Mono',consolas,'Courier New',monospace\"><span style=\"color: #008080; text-decoration-color: #008080; font-weight: bold\">[</span><span style=\"color: #008080; text-decoration-color: #008080\">INIT</span><span style=\"color: #008080; text-decoration-color: #008080; font-weight: bold\">]</span><span style=\"color: #008080; text-decoration-color: #008080\">.... → Crawl4AI </span><span style=\"color: #008080; text-decoration-color: #008080; font-weight: bold\">0.6</span><span style=\"color: #008080; text-decoration-color: #008080\">.</span><span style=\"color: #008080; text-decoration-color: #008080; font-weight: bold\">3</span><span style=\"color: #008080; text-decoration-color: #008080\"> </span>\n",
              "</pre>\n"
            ]
          },
          "metadata": {}
        },
        {
          "output_type": "display_data",
          "data": {
            "text/plain": [
              "\u001b[1;32m[\u001b[0m\u001b[32mFETCH\u001b[0m\u001b[1;32m]\u001b[0m\u001b[32m...\u001b[0m\u001b[32m ↓ \u001b[0m\u001b[4;32mhttps://health.amazon.com/prime?\u001b[0m\u001b[4;32mref_\u001b[0m\u001b[4;32m=\u001b[0m\u001b[4;32mnav_cs_all_health_ingress_onem_h\u001b[0m\u001b[32m                                |\u001b[0m\n",
              "\u001b[32m✓\u001b[0m\u001b[32m | ⏱: \u001b[0m\u001b[1;32m3.\u001b[0m\u001b[32m40s \u001b[0m\n"
            ],
            "text/html": [
              "<pre style=\"white-space:pre;overflow-x:auto;line-height:normal;font-family:Menlo,'DejaVu Sans Mono',consolas,'Courier New',monospace\"><span style=\"color: #008000; text-decoration-color: #008000; font-weight: bold\">[</span><span style=\"color: #008000; text-decoration-color: #008000\">FETCH</span><span style=\"color: #008000; text-decoration-color: #008000; font-weight: bold\">]</span><span style=\"color: #008000; text-decoration-color: #008000\">... ↓ </span><span style=\"color: #008000; text-decoration-color: #008000; text-decoration: underline\">https://health.amazon.com/prime?ref_=nav_cs_all_health_ingress_onem_h</span><span style=\"color: #008000; text-decoration-color: #008000\">                                |</span>\n",
              "<span style=\"color: #008000; text-decoration-color: #008000\">✓ | ⏱: </span><span style=\"color: #008000; text-decoration-color: #008000; font-weight: bold\">3.</span><span style=\"color: #008000; text-decoration-color: #008000\">40s </span>\n",
              "</pre>\n"
            ]
          },
          "metadata": {}
        },
        {
          "output_type": "display_data",
          "data": {
            "text/plain": [
              "\u001b[1;32m[\u001b[0m\u001b[32mSCRAPE\u001b[0m\u001b[1;32m]\u001b[0m\u001b[32m.. ◆ \u001b[0m\u001b[4;32mhttps://health.amazon.com/prime?\u001b[0m\u001b[4;32mref_\u001b[0m\u001b[4;32m=\u001b[0m\u001b[4;32mnav_cs_all_health_ingress_onem_h\u001b[0m\u001b[32m                                |\u001b[0m\n",
              "\u001b[32m✓\u001b[0m\u001b[32m | ⏱: \u001b[0m\u001b[1;32m0.\u001b[0m\u001b[32m17s \u001b[0m\n"
            ],
            "text/html": [
              "<pre style=\"white-space:pre;overflow-x:auto;line-height:normal;font-family:Menlo,'DejaVu Sans Mono',consolas,'Courier New',monospace\"><span style=\"color: #008000; text-decoration-color: #008000; font-weight: bold\">[</span><span style=\"color: #008000; text-decoration-color: #008000\">SCRAPE</span><span style=\"color: #008000; text-decoration-color: #008000; font-weight: bold\">]</span><span style=\"color: #008000; text-decoration-color: #008000\">.. ◆ </span><span style=\"color: #008000; text-decoration-color: #008000; text-decoration: underline\">https://health.amazon.com/prime?ref_=nav_cs_all_health_ingress_onem_h</span><span style=\"color: #008000; text-decoration-color: #008000\">                                |</span>\n",
              "<span style=\"color: #008000; text-decoration-color: #008000\">✓ | ⏱: </span><span style=\"color: #008000; text-decoration-color: #008000; font-weight: bold\">0.</span><span style=\"color: #008000; text-decoration-color: #008000\">17s </span>\n",
              "</pre>\n"
            ]
          },
          "metadata": {}
        },
        {
          "output_type": "display_data",
          "data": {
            "text/plain": [
              "\u001b[1;32m[\u001b[0m\u001b[32mCOMPLETE\u001b[0m\u001b[1;32m]\u001b[0m\u001b[32m ● \u001b[0m\u001b[4;32mhttps://health.amazon.com/prime?\u001b[0m\u001b[4;32mref_\u001b[0m\u001b[4;32m=\u001b[0m\u001b[4;32mnav_cs_all_health_ingress_onem_h\u001b[0m\u001b[32m                                |\u001b[0m\n",
              "\u001b[32m✓\u001b[0m\u001b[32m | ⏱: \u001b[0m\u001b[1;32m3.\u001b[0m\u001b[32m57s \u001b[0m\n"
            ],
            "text/html": [
              "<pre style=\"white-space:pre;overflow-x:auto;line-height:normal;font-family:Menlo,'DejaVu Sans Mono',consolas,'Courier New',monospace\"><span style=\"color: #008000; text-decoration-color: #008000; font-weight: bold\">[</span><span style=\"color: #008000; text-decoration-color: #008000\">COMPLETE</span><span style=\"color: #008000; text-decoration-color: #008000; font-weight: bold\">]</span><span style=\"color: #008000; text-decoration-color: #008000\"> ● </span><span style=\"color: #008000; text-decoration-color: #008000; text-decoration: underline\">https://health.amazon.com/prime?ref_=nav_cs_all_health_ingress_onem_h</span><span style=\"color: #008000; text-decoration-color: #008000\">                                |</span>\n",
              "<span style=\"color: #008000; text-decoration-color: #008000\">✓ | ⏱: </span><span style=\"color: #008000; text-decoration-color: #008000; font-weight: bold\">3.</span><span style=\"color: #008000; text-decoration-color: #008000\">57s </span>\n",
              "</pre>\n"
            ]
          },
          "metadata": {}
        },
        {
          "output_type": "stream",
          "name": "stdout",
          "text": [
            "Markdown saved to amazon_2025-06-24_03-09-45\n"
          ]
        },
        {
          "output_type": "display_data",
          "data": {
            "text/plain": [
              "\u001b[1;36m[\u001b[0m\u001b[36mINIT\u001b[0m\u001b[1;36m]\u001b[0m\u001b[36m...\u001b[0m\u001b[36m. → Crawl4AI \u001b[0m\u001b[1;36m0.6\u001b[0m\u001b[36m.\u001b[0m\u001b[1;36m3\u001b[0m\u001b[36m \u001b[0m\n"
            ],
            "text/html": [
              "<pre style=\"white-space:pre;overflow-x:auto;line-height:normal;font-family:Menlo,'DejaVu Sans Mono',consolas,'Courier New',monospace\"><span style=\"color: #008080; text-decoration-color: #008080; font-weight: bold\">[</span><span style=\"color: #008080; text-decoration-color: #008080\">INIT</span><span style=\"color: #008080; text-decoration-color: #008080; font-weight: bold\">]</span><span style=\"color: #008080; text-decoration-color: #008080\">.... → Crawl4AI </span><span style=\"color: #008080; text-decoration-color: #008080; font-weight: bold\">0.6</span><span style=\"color: #008080; text-decoration-color: #008080\">.</span><span style=\"color: #008080; text-decoration-color: #008080; font-weight: bold\">3</span><span style=\"color: #008080; text-decoration-color: #008080\"> </span>\n",
              "</pre>\n"
            ]
          },
          "metadata": {}
        },
        {
          "output_type": "display_data",
          "data": {
            "text/plain": [
              "\u001b[1;32m[\u001b[0m\u001b[32mFETCH\u001b[0m\u001b[1;32m]\u001b[0m\u001b[32m...\u001b[0m\u001b[32m ↓ \u001b[0m\u001b[4;32mhttps://www.amazon.com/luxurystores/saks?\u001b[0m\u001b[4;32mref_\u001b[0m\u001b[4;32m=\u001b[0m\u001b[4;32mnav_cs_saks_disc\u001b[0m\u001b[32m                                       |\u001b[0m\n",
              "\u001b[32m✓\u001b[0m\u001b[32m | ⏱: \u001b[0m\u001b[1;32m4.\u001b[0m\u001b[32m15s \u001b[0m\n"
            ],
            "text/html": [
              "<pre style=\"white-space:pre;overflow-x:auto;line-height:normal;font-family:Menlo,'DejaVu Sans Mono',consolas,'Courier New',monospace\"><span style=\"color: #008000; text-decoration-color: #008000; font-weight: bold\">[</span><span style=\"color: #008000; text-decoration-color: #008000\">FETCH</span><span style=\"color: #008000; text-decoration-color: #008000; font-weight: bold\">]</span><span style=\"color: #008000; text-decoration-color: #008000\">... ↓ </span><span style=\"color: #008000; text-decoration-color: #008000; text-decoration: underline\">https://www.amazon.com/luxurystores/saks?ref_=nav_cs_saks_disc</span><span style=\"color: #008000; text-decoration-color: #008000\">                                       |</span>\n",
              "<span style=\"color: #008000; text-decoration-color: #008000\">✓ | ⏱: </span><span style=\"color: #008000; text-decoration-color: #008000; font-weight: bold\">4.</span><span style=\"color: #008000; text-decoration-color: #008000\">15s </span>\n",
              "</pre>\n"
            ]
          },
          "metadata": {}
        },
        {
          "output_type": "display_data",
          "data": {
            "text/plain": [
              "\u001b[1;32m[\u001b[0m\u001b[32mSCRAPE\u001b[0m\u001b[1;32m]\u001b[0m\u001b[32m.. ◆ \u001b[0m\u001b[4;32mhttps://www.amazon.com/luxurystores/saks?\u001b[0m\u001b[4;32mref_\u001b[0m\u001b[4;32m=\u001b[0m\u001b[4;32mnav_cs_saks_disc\u001b[0m\u001b[32m                                       |\u001b[0m\n",
              "\u001b[32m✓\u001b[0m\u001b[32m | ⏱: \u001b[0m\u001b[1;32m0.\u001b[0m\u001b[32m60s \u001b[0m\n"
            ],
            "text/html": [
              "<pre style=\"white-space:pre;overflow-x:auto;line-height:normal;font-family:Menlo,'DejaVu Sans Mono',consolas,'Courier New',monospace\"><span style=\"color: #008000; text-decoration-color: #008000; font-weight: bold\">[</span><span style=\"color: #008000; text-decoration-color: #008000\">SCRAPE</span><span style=\"color: #008000; text-decoration-color: #008000; font-weight: bold\">]</span><span style=\"color: #008000; text-decoration-color: #008000\">.. ◆ </span><span style=\"color: #008000; text-decoration-color: #008000; text-decoration: underline\">https://www.amazon.com/luxurystores/saks?ref_=nav_cs_saks_disc</span><span style=\"color: #008000; text-decoration-color: #008000\">                                       |</span>\n",
              "<span style=\"color: #008000; text-decoration-color: #008000\">✓ | ⏱: </span><span style=\"color: #008000; text-decoration-color: #008000; font-weight: bold\">0.</span><span style=\"color: #008000; text-decoration-color: #008000\">60s </span>\n",
              "</pre>\n"
            ]
          },
          "metadata": {}
        },
        {
          "output_type": "display_data",
          "data": {
            "text/plain": [
              "\u001b[1;32m[\u001b[0m\u001b[32mCOMPLETE\u001b[0m\u001b[1;32m]\u001b[0m\u001b[32m ● \u001b[0m\u001b[4;32mhttps://www.amazon.com/luxurystores/saks?\u001b[0m\u001b[4;32mref_\u001b[0m\u001b[4;32m=\u001b[0m\u001b[4;32mnav_cs_saks_disc\u001b[0m\u001b[32m                                       |\u001b[0m\n",
              "\u001b[32m✓\u001b[0m\u001b[32m | ⏱: \u001b[0m\u001b[1;32m4.\u001b[0m\u001b[32m75s \u001b[0m\n"
            ],
            "text/html": [
              "<pre style=\"white-space:pre;overflow-x:auto;line-height:normal;font-family:Menlo,'DejaVu Sans Mono',consolas,'Courier New',monospace\"><span style=\"color: #008000; text-decoration-color: #008000; font-weight: bold\">[</span><span style=\"color: #008000; text-decoration-color: #008000\">COMPLETE</span><span style=\"color: #008000; text-decoration-color: #008000; font-weight: bold\">]</span><span style=\"color: #008000; text-decoration-color: #008000\"> ● </span><span style=\"color: #008000; text-decoration-color: #008000; text-decoration: underline\">https://www.amazon.com/luxurystores/saks?ref_=nav_cs_saks_disc</span><span style=\"color: #008000; text-decoration-color: #008000\">                                       |</span>\n",
              "<span style=\"color: #008000; text-decoration-color: #008000\">✓ | ⏱: </span><span style=\"color: #008000; text-decoration-color: #008000; font-weight: bold\">4.</span><span style=\"color: #008000; text-decoration-color: #008000\">75s </span>\n",
              "</pre>\n"
            ]
          },
          "metadata": {}
        },
        {
          "output_type": "stream",
          "name": "stdout",
          "text": [
            "Markdown saved to amazon_2025-06-24_03-09-51\n"
          ]
        },
        {
          "output_type": "display_data",
          "data": {
            "text/plain": [
              "\u001b[1;36m[\u001b[0m\u001b[36mINIT\u001b[0m\u001b[1;36m]\u001b[0m\u001b[36m...\u001b[0m\u001b[36m. → Crawl4AI \u001b[0m\u001b[1;36m0.6\u001b[0m\u001b[36m.\u001b[0m\u001b[1;36m3\u001b[0m\u001b[36m \u001b[0m\n"
            ],
            "text/html": [
              "<pre style=\"white-space:pre;overflow-x:auto;line-height:normal;font-family:Menlo,'DejaVu Sans Mono',consolas,'Courier New',monospace\"><span style=\"color: #008080; text-decoration-color: #008080; font-weight: bold\">[</span><span style=\"color: #008080; text-decoration-color: #008080\">INIT</span><span style=\"color: #008080; text-decoration-color: #008080; font-weight: bold\">]</span><span style=\"color: #008080; text-decoration-color: #008080\">.... → Crawl4AI </span><span style=\"color: #008080; text-decoration-color: #008080; font-weight: bold\">0.6</span><span style=\"color: #008080; text-decoration-color: #008080\">.</span><span style=\"color: #008080; text-decoration-color: #008080; font-weight: bold\">3</span><span style=\"color: #008080; text-decoration-color: #008080\"> </span>\n",
              "</pre>\n"
            ]
          },
          "metadata": {}
        },
        {
          "output_type": "display_data",
          "data": {
            "text/plain": [
              "\u001b[1;32m[\u001b[0m\u001b[32mFETCH\u001b[0m\u001b[1;32m]\u001b[0m\u001b[32m...\u001b[0m\u001b[32m ↓ \u001b[0m\u001b[4;32mhttps://www.amazon.com/gp/bestsellers/?\u001b[0m\u001b[4;32mref_\u001b[0m\u001b[4;32m=\u001b[0m\u001b[4;32mnav_cs_bestsellers\u001b[0m\u001b[32m                                       |\u001b[0m\n",
              "\u001b[32m✓\u001b[0m\u001b[32m | ⏱: \u001b[0m\u001b[1;32m4.\u001b[0m\u001b[32m92s \u001b[0m\n"
            ],
            "text/html": [
              "<pre style=\"white-space:pre;overflow-x:auto;line-height:normal;font-family:Menlo,'DejaVu Sans Mono',consolas,'Courier New',monospace\"><span style=\"color: #008000; text-decoration-color: #008000; font-weight: bold\">[</span><span style=\"color: #008000; text-decoration-color: #008000\">FETCH</span><span style=\"color: #008000; text-decoration-color: #008000; font-weight: bold\">]</span><span style=\"color: #008000; text-decoration-color: #008000\">... ↓ </span><span style=\"color: #008000; text-decoration-color: #008000; text-decoration: underline\">https://www.amazon.com/gp/bestsellers/?ref_=nav_cs_bestsellers</span><span style=\"color: #008000; text-decoration-color: #008000\">                                       |</span>\n",
              "<span style=\"color: #008000; text-decoration-color: #008000\">✓ | ⏱: </span><span style=\"color: #008000; text-decoration-color: #008000; font-weight: bold\">4.</span><span style=\"color: #008000; text-decoration-color: #008000\">92s </span>\n",
              "</pre>\n"
            ]
          },
          "metadata": {}
        },
        {
          "output_type": "display_data",
          "data": {
            "text/plain": [
              "\u001b[1;32m[\u001b[0m\u001b[32mSCRAPE\u001b[0m\u001b[1;32m]\u001b[0m\u001b[32m.. ◆ \u001b[0m\u001b[4;32mhttps://www.amazon.com/gp/bestsellers/?\u001b[0m\u001b[4;32mref_\u001b[0m\u001b[4;32m=\u001b[0m\u001b[4;32mnav_cs_bestsellers\u001b[0m\u001b[32m                                       |\u001b[0m\n",
              "\u001b[32m✓\u001b[0m\u001b[32m | ⏱: \u001b[0m\u001b[1;32m1.\u001b[0m\u001b[32m19s \u001b[0m\n"
            ],
            "text/html": [
              "<pre style=\"white-space:pre;overflow-x:auto;line-height:normal;font-family:Menlo,'DejaVu Sans Mono',consolas,'Courier New',monospace\"><span style=\"color: #008000; text-decoration-color: #008000; font-weight: bold\">[</span><span style=\"color: #008000; text-decoration-color: #008000\">SCRAPE</span><span style=\"color: #008000; text-decoration-color: #008000; font-weight: bold\">]</span><span style=\"color: #008000; text-decoration-color: #008000\">.. ◆ </span><span style=\"color: #008000; text-decoration-color: #008000; text-decoration: underline\">https://www.amazon.com/gp/bestsellers/?ref_=nav_cs_bestsellers</span><span style=\"color: #008000; text-decoration-color: #008000\">                                       |</span>\n",
              "<span style=\"color: #008000; text-decoration-color: #008000\">✓ | ⏱: </span><span style=\"color: #008000; text-decoration-color: #008000; font-weight: bold\">1.</span><span style=\"color: #008000; text-decoration-color: #008000\">19s </span>\n",
              "</pre>\n"
            ]
          },
          "metadata": {}
        },
        {
          "output_type": "display_data",
          "data": {
            "text/plain": [
              "\u001b[1;32m[\u001b[0m\u001b[32mCOMPLETE\u001b[0m\u001b[1;32m]\u001b[0m\u001b[32m ● \u001b[0m\u001b[4;32mhttps://www.amazon.com/gp/bestsellers/?\u001b[0m\u001b[4;32mref_\u001b[0m\u001b[4;32m=\u001b[0m\u001b[4;32mnav_cs_bestsellers\u001b[0m\u001b[32m                                       |\u001b[0m\n",
              "\u001b[32m✓\u001b[0m\u001b[32m | ⏱: \u001b[0m\u001b[1;32m6.\u001b[0m\u001b[32m13s \u001b[0m\n"
            ],
            "text/html": [
              "<pre style=\"white-space:pre;overflow-x:auto;line-height:normal;font-family:Menlo,'DejaVu Sans Mono',consolas,'Courier New',monospace\"><span style=\"color: #008000; text-decoration-color: #008000; font-weight: bold\">[</span><span style=\"color: #008000; text-decoration-color: #008000\">COMPLETE</span><span style=\"color: #008000; text-decoration-color: #008000; font-weight: bold\">]</span><span style=\"color: #008000; text-decoration-color: #008000\"> ● </span><span style=\"color: #008000; text-decoration-color: #008000; text-decoration: underline\">https://www.amazon.com/gp/bestsellers/?ref_=nav_cs_bestsellers</span><span style=\"color: #008000; text-decoration-color: #008000\">                                       |</span>\n",
              "<span style=\"color: #008000; text-decoration-color: #008000\">✓ | ⏱: </span><span style=\"color: #008000; text-decoration-color: #008000; font-weight: bold\">6.</span><span style=\"color: #008000; text-decoration-color: #008000\">13s </span>\n",
              "</pre>\n"
            ]
          },
          "metadata": {}
        },
        {
          "output_type": "stream",
          "name": "stdout",
          "text": [
            "Markdown saved to amazon_2025-06-24_03-09-58\n"
          ]
        },
        {
          "output_type": "display_data",
          "data": {
            "text/plain": [
              "\u001b[1;36m[\u001b[0m\u001b[36mINIT\u001b[0m\u001b[1;36m]\u001b[0m\u001b[36m...\u001b[0m\u001b[36m. → Crawl4AI \u001b[0m\u001b[1;36m0.6\u001b[0m\u001b[36m.\u001b[0m\u001b[1;36m3\u001b[0m\u001b[36m \u001b[0m\n"
            ],
            "text/html": [
              "<pre style=\"white-space:pre;overflow-x:auto;line-height:normal;font-family:Menlo,'DejaVu Sans Mono',consolas,'Courier New',monospace\"><span style=\"color: #008080; text-decoration-color: #008080; font-weight: bold\">[</span><span style=\"color: #008080; text-decoration-color: #008080\">INIT</span><span style=\"color: #008080; text-decoration-color: #008080; font-weight: bold\">]</span><span style=\"color: #008080; text-decoration-color: #008080\">.... → Crawl4AI </span><span style=\"color: #008080; text-decoration-color: #008080; font-weight: bold\">0.6</span><span style=\"color: #008080; text-decoration-color: #008080\">.</span><span style=\"color: #008080; text-decoration-color: #008080; font-weight: bold\">3</span><span style=\"color: #008080; text-decoration-color: #008080\"> </span>\n",
              "</pre>\n"
            ]
          },
          "metadata": {}
        },
        {
          "output_type": "display_data",
          "data": {
            "text/plain": [
              "\u001b[1;32m[\u001b[0m\u001b[32mFETCH\u001b[0m\u001b[1;32m]\u001b[0m\u001b[32m...\u001b[0m\u001b[32m ↓ \u001b[0m\u001b[4;32mhttps://www.amazon.com/Amazon_Basics?\u001b[0m\u001b[4;32mchannel\u001b[0m\u001b[4;32m=\u001b[0m\u001b[4;32mdis\u001b[0m\u001b[4;32m...browse-\u001b[0m\u001b[4;32mbin\u001b[0m\u001b[4;32m=\u001b[0m\u001b[4;32mAmazonBasics\u001b[0m\u001b[4;32m&\u001b[0m\u001b[4;32mref_\u001b[0m\u001b[4;32m=\u001b[0m\u001b[4;32mnav_cs_amazonbasics\u001b[0m\u001b[32m  |\u001b[0m\n",
              "\u001b[32m✓\u001b[0m\u001b[32m | ⏱: \u001b[0m\u001b[1;32m5.\u001b[0m\u001b[32m92s \u001b[0m\n"
            ],
            "text/html": [
              "<pre style=\"white-space:pre;overflow-x:auto;line-height:normal;font-family:Menlo,'DejaVu Sans Mono',consolas,'Courier New',monospace\"><span style=\"color: #008000; text-decoration-color: #008000; font-weight: bold\">[</span><span style=\"color: #008000; text-decoration-color: #008000\">FETCH</span><span style=\"color: #008000; text-decoration-color: #008000; font-weight: bold\">]</span><span style=\"color: #008000; text-decoration-color: #008000\">... ↓ </span><span style=\"color: #008000; text-decoration-color: #008000; text-decoration: underline\">https://www.amazon.com/Amazon_Basics?channel=dis...browse-bin=AmazonBasics&amp;ref_=nav_cs_amazonbasics</span><span style=\"color: #008000; text-decoration-color: #008000\">  |</span>\n",
              "<span style=\"color: #008000; text-decoration-color: #008000\">✓ | ⏱: </span><span style=\"color: #008000; text-decoration-color: #008000; font-weight: bold\">5.</span><span style=\"color: #008000; text-decoration-color: #008000\">92s </span>\n",
              "</pre>\n"
            ]
          },
          "metadata": {}
        },
        {
          "output_type": "display_data",
          "data": {
            "text/plain": [
              "\u001b[1;32m[\u001b[0m\u001b[32mSCRAPE\u001b[0m\u001b[1;32m]\u001b[0m\u001b[32m.. ◆ \u001b[0m\u001b[4;32mhttps://www.amazon.com/Amazon_Basics?\u001b[0m\u001b[4;32mchannel\u001b[0m\u001b[4;32m=\u001b[0m\u001b[4;32mdis\u001b[0m\u001b[4;32m...browse-\u001b[0m\u001b[4;32mbin\u001b[0m\u001b[4;32m=\u001b[0m\u001b[4;32mAmazonBasics\u001b[0m\u001b[4;32m&\u001b[0m\u001b[4;32mref_\u001b[0m\u001b[4;32m=\u001b[0m\u001b[4;32mnav_cs_amazonbasics\u001b[0m\u001b[32m  |\u001b[0m\n",
              "\u001b[32m✓\u001b[0m\u001b[32m | ⏱: \u001b[0m\u001b[1;32m0.\u001b[0m\u001b[32m47s \u001b[0m\n"
            ],
            "text/html": [
              "<pre style=\"white-space:pre;overflow-x:auto;line-height:normal;font-family:Menlo,'DejaVu Sans Mono',consolas,'Courier New',monospace\"><span style=\"color: #008000; text-decoration-color: #008000; font-weight: bold\">[</span><span style=\"color: #008000; text-decoration-color: #008000\">SCRAPE</span><span style=\"color: #008000; text-decoration-color: #008000; font-weight: bold\">]</span><span style=\"color: #008000; text-decoration-color: #008000\">.. ◆ </span><span style=\"color: #008000; text-decoration-color: #008000; text-decoration: underline\">https://www.amazon.com/Amazon_Basics?channel=dis...browse-bin=AmazonBasics&amp;ref_=nav_cs_amazonbasics</span><span style=\"color: #008000; text-decoration-color: #008000\">  |</span>\n",
              "<span style=\"color: #008000; text-decoration-color: #008000\">✓ | ⏱: </span><span style=\"color: #008000; text-decoration-color: #008000; font-weight: bold\">0.</span><span style=\"color: #008000; text-decoration-color: #008000\">47s </span>\n",
              "</pre>\n"
            ]
          },
          "metadata": {}
        },
        {
          "output_type": "display_data",
          "data": {
            "text/plain": [
              "\u001b[1;32m[\u001b[0m\u001b[32mCOMPLETE\u001b[0m\u001b[1;32m]\u001b[0m\u001b[32m ● \u001b[0m\u001b[4;32mhttps://www.amazon.com/Amazon_Basics?\u001b[0m\u001b[4;32mchannel\u001b[0m\u001b[4;32m=\u001b[0m\u001b[4;32mdis\u001b[0m\u001b[4;32m...browse-\u001b[0m\u001b[4;32mbin\u001b[0m\u001b[4;32m=\u001b[0m\u001b[4;32mAmazonBasics\u001b[0m\u001b[4;32m&\u001b[0m\u001b[4;32mref_\u001b[0m\u001b[4;32m=\u001b[0m\u001b[4;32mnav_cs_amazonbasics\u001b[0m\u001b[32m  |\u001b[0m\n",
              "\u001b[32m✓\u001b[0m\u001b[32m | ⏱: \u001b[0m\u001b[1;32m6.\u001b[0m\u001b[32m40s \u001b[0m\n"
            ],
            "text/html": [
              "<pre style=\"white-space:pre;overflow-x:auto;line-height:normal;font-family:Menlo,'DejaVu Sans Mono',consolas,'Courier New',monospace\"><span style=\"color: #008000; text-decoration-color: #008000; font-weight: bold\">[</span><span style=\"color: #008000; text-decoration-color: #008000\">COMPLETE</span><span style=\"color: #008000; text-decoration-color: #008000; font-weight: bold\">]</span><span style=\"color: #008000; text-decoration-color: #008000\"> ● </span><span style=\"color: #008000; text-decoration-color: #008000; text-decoration: underline\">https://www.amazon.com/Amazon_Basics?channel=dis...browse-bin=AmazonBasics&amp;ref_=nav_cs_amazonbasics</span><span style=\"color: #008000; text-decoration-color: #008000\">  |</span>\n",
              "<span style=\"color: #008000; text-decoration-color: #008000\">✓ | ⏱: </span><span style=\"color: #008000; text-decoration-color: #008000; font-weight: bold\">6.</span><span style=\"color: #008000; text-decoration-color: #008000\">40s </span>\n",
              "</pre>\n"
            ]
          },
          "metadata": {}
        },
        {
          "output_type": "stream",
          "name": "stdout",
          "text": [
            "Markdown saved to amazon_2025-06-24_03-10-06\n"
          ]
        },
        {
          "output_type": "display_data",
          "data": {
            "text/plain": [
              "\u001b[1;36m[\u001b[0m\u001b[36mINIT\u001b[0m\u001b[1;36m]\u001b[0m\u001b[36m...\u001b[0m\u001b[36m. → Crawl4AI \u001b[0m\u001b[1;36m0.6\u001b[0m\u001b[36m.\u001b[0m\u001b[1;36m3\u001b[0m\u001b[36m \u001b[0m\n"
            ],
            "text/html": [
              "<pre style=\"white-space:pre;overflow-x:auto;line-height:normal;font-family:Menlo,'DejaVu Sans Mono',consolas,'Courier New',monospace\"><span style=\"color: #008080; text-decoration-color: #008080; font-weight: bold\">[</span><span style=\"color: #008080; text-decoration-color: #008080\">INIT</span><span style=\"color: #008080; text-decoration-color: #008080; font-weight: bold\">]</span><span style=\"color: #008080; text-decoration-color: #008080\">.... → Crawl4AI </span><span style=\"color: #008080; text-decoration-color: #008080; font-weight: bold\">0.6</span><span style=\"color: #008080; text-decoration-color: #008080\">.</span><span style=\"color: #008080; text-decoration-color: #008080; font-weight: bold\">3</span><span style=\"color: #008080; text-decoration-color: #008080\"> </span>\n",
              "</pre>\n"
            ]
          },
          "metadata": {}
        },
        {
          "output_type": "display_data",
          "data": {
            "text/plain": [
              "\u001b[1;32m[\u001b[0m\u001b[32mFETCH\u001b[0m\u001b[1;32m]\u001b[0m\u001b[32m...\u001b[0m\u001b[32m ↓ \u001b[0m\u001b[4;32mhttps://www.amazon.com/gp/new-releases/?\u001b[0m\u001b[4;32mref_\u001b[0m\u001b[4;32m=\u001b[0m\u001b[4;32mnav_cs_newreleases\u001b[0m\u001b[32m                                      |\u001b[0m\n",
              "\u001b[32m✓\u001b[0m\u001b[32m | ⏱: \u001b[0m\u001b[1;32m3.\u001b[0m\u001b[32m78s \u001b[0m\n"
            ],
            "text/html": [
              "<pre style=\"white-space:pre;overflow-x:auto;line-height:normal;font-family:Menlo,'DejaVu Sans Mono',consolas,'Courier New',monospace\"><span style=\"color: #008000; text-decoration-color: #008000; font-weight: bold\">[</span><span style=\"color: #008000; text-decoration-color: #008000\">FETCH</span><span style=\"color: #008000; text-decoration-color: #008000; font-weight: bold\">]</span><span style=\"color: #008000; text-decoration-color: #008000\">... ↓ </span><span style=\"color: #008000; text-decoration-color: #008000; text-decoration: underline\">https://www.amazon.com/gp/new-releases/?ref_=nav_cs_newreleases</span><span style=\"color: #008000; text-decoration-color: #008000\">                                      |</span>\n",
              "<span style=\"color: #008000; text-decoration-color: #008000\">✓ | ⏱: </span><span style=\"color: #008000; text-decoration-color: #008000; font-weight: bold\">3.</span><span style=\"color: #008000; text-decoration-color: #008000\">78s </span>\n",
              "</pre>\n"
            ]
          },
          "metadata": {}
        },
        {
          "output_type": "display_data",
          "data": {
            "text/plain": [
              "\u001b[1;32m[\u001b[0m\u001b[32mSCRAPE\u001b[0m\u001b[1;32m]\u001b[0m\u001b[32m.. ◆ \u001b[0m\u001b[4;32mhttps://www.amazon.com/gp/new-releases/?\u001b[0m\u001b[4;32mref_\u001b[0m\u001b[4;32m=\u001b[0m\u001b[4;32mnav_cs_newreleases\u001b[0m\u001b[32m                                      |\u001b[0m\n",
              "\u001b[32m✓\u001b[0m\u001b[32m | ⏱: \u001b[0m\u001b[1;32m0.\u001b[0m\u001b[32m68s \u001b[0m\n"
            ],
            "text/html": [
              "<pre style=\"white-space:pre;overflow-x:auto;line-height:normal;font-family:Menlo,'DejaVu Sans Mono',consolas,'Courier New',monospace\"><span style=\"color: #008000; text-decoration-color: #008000; font-weight: bold\">[</span><span style=\"color: #008000; text-decoration-color: #008000\">SCRAPE</span><span style=\"color: #008000; text-decoration-color: #008000; font-weight: bold\">]</span><span style=\"color: #008000; text-decoration-color: #008000\">.. ◆ </span><span style=\"color: #008000; text-decoration-color: #008000; text-decoration: underline\">https://www.amazon.com/gp/new-releases/?ref_=nav_cs_newreleases</span><span style=\"color: #008000; text-decoration-color: #008000\">                                      |</span>\n",
              "<span style=\"color: #008000; text-decoration-color: #008000\">✓ | ⏱: </span><span style=\"color: #008000; text-decoration-color: #008000; font-weight: bold\">0.</span><span style=\"color: #008000; text-decoration-color: #008000\">68s </span>\n",
              "</pre>\n"
            ]
          },
          "metadata": {}
        },
        {
          "output_type": "display_data",
          "data": {
            "text/plain": [
              "\u001b[1;32m[\u001b[0m\u001b[32mCOMPLETE\u001b[0m\u001b[1;32m]\u001b[0m\u001b[32m ● \u001b[0m\u001b[4;32mhttps://www.amazon.com/gp/new-releases/?\u001b[0m\u001b[4;32mref_\u001b[0m\u001b[4;32m=\u001b[0m\u001b[4;32mnav_cs_newreleases\u001b[0m\u001b[32m                                      |\u001b[0m\n",
              "\u001b[32m✓\u001b[0m\u001b[32m | ⏱: \u001b[0m\u001b[1;32m4.\u001b[0m\u001b[32m47s \u001b[0m\n"
            ],
            "text/html": [
              "<pre style=\"white-space:pre;overflow-x:auto;line-height:normal;font-family:Menlo,'DejaVu Sans Mono',consolas,'Courier New',monospace\"><span style=\"color: #008000; text-decoration-color: #008000; font-weight: bold\">[</span><span style=\"color: #008000; text-decoration-color: #008000\">COMPLETE</span><span style=\"color: #008000; text-decoration-color: #008000; font-weight: bold\">]</span><span style=\"color: #008000; text-decoration-color: #008000\"> ● </span><span style=\"color: #008000; text-decoration-color: #008000; text-decoration: underline\">https://www.amazon.com/gp/new-releases/?ref_=nav_cs_newreleases</span><span style=\"color: #008000; text-decoration-color: #008000\">                                      |</span>\n",
              "<span style=\"color: #008000; text-decoration-color: #008000\">✓ | ⏱: </span><span style=\"color: #008000; text-decoration-color: #008000; font-weight: bold\">4.</span><span style=\"color: #008000; text-decoration-color: #008000\">47s </span>\n",
              "</pre>\n"
            ]
          },
          "metadata": {}
        },
        {
          "output_type": "stream",
          "name": "stdout",
          "text": [
            "Markdown saved to amazon_2025-06-24_03-10-12\n"
          ]
        },
        {
          "output_type": "display_data",
          "data": {
            "text/plain": [
              "\u001b[1;36m[\u001b[0m\u001b[36mINIT\u001b[0m\u001b[1;36m]\u001b[0m\u001b[36m...\u001b[0m\u001b[36m. → Crawl4AI \u001b[0m\u001b[1;36m0.6\u001b[0m\u001b[36m.\u001b[0m\u001b[1;36m3\u001b[0m\u001b[36m \u001b[0m\n"
            ],
            "text/html": [
              "<pre style=\"white-space:pre;overflow-x:auto;line-height:normal;font-family:Menlo,'DejaVu Sans Mono',consolas,'Courier New',monospace\"><span style=\"color: #008080; text-decoration-color: #008080; font-weight: bold\">[</span><span style=\"color: #008080; text-decoration-color: #008080\">INIT</span><span style=\"color: #008080; text-decoration-color: #008080; font-weight: bold\">]</span><span style=\"color: #008080; text-decoration-color: #008080\">.... → Crawl4AI </span><span style=\"color: #008080; text-decoration-color: #008080; font-weight: bold\">0.6</span><span style=\"color: #008080; text-decoration-color: #008080\">.</span><span style=\"color: #008080; text-decoration-color: #008080; font-weight: bold\">3</span><span style=\"color: #008080; text-decoration-color: #008080\"> </span>\n",
              "</pre>\n"
            ]
          },
          "metadata": {}
        },
        {
          "output_type": "display_data",
          "data": {
            "text/plain": [
              "\u001b[1;32m[\u001b[0m\u001b[32mFETCH\u001b[0m\u001b[1;32m]\u001b[0m\u001b[32m...\u001b[0m\u001b[32m ↓ \u001b[0m\u001b[4;32mhttps://www.amazon.com/gp/browse.html?\u001b[0m\u001b[4;32mnode\u001b[0m\u001b[4;32m=\u001b[0m\u001b[4;32m16115931011\u001b[0m\u001b[4;32m&\u001b[0m\u001b[4;32mref_\u001b[0m\u001b[4;32m=\u001b[0m\u001b[4;32mnav_cs_registry\u001b[0m\u001b[32m                          |\u001b[0m\n",
              "\u001b[32m✓\u001b[0m\u001b[32m | ⏱: \u001b[0m\u001b[1;32m2.\u001b[0m\u001b[32m97s \u001b[0m\n"
            ],
            "text/html": [
              "<pre style=\"white-space:pre;overflow-x:auto;line-height:normal;font-family:Menlo,'DejaVu Sans Mono',consolas,'Courier New',monospace\"><span style=\"color: #008000; text-decoration-color: #008000; font-weight: bold\">[</span><span style=\"color: #008000; text-decoration-color: #008000\">FETCH</span><span style=\"color: #008000; text-decoration-color: #008000; font-weight: bold\">]</span><span style=\"color: #008000; text-decoration-color: #008000\">... ↓ </span><span style=\"color: #008000; text-decoration-color: #008000; text-decoration: underline\">https://www.amazon.com/gp/browse.html?node=16115931011&amp;ref_=nav_cs_registry</span><span style=\"color: #008000; text-decoration-color: #008000\">                          |</span>\n",
              "<span style=\"color: #008000; text-decoration-color: #008000\">✓ | ⏱: </span><span style=\"color: #008000; text-decoration-color: #008000; font-weight: bold\">2.</span><span style=\"color: #008000; text-decoration-color: #008000\">97s </span>\n",
              "</pre>\n"
            ]
          },
          "metadata": {}
        },
        {
          "output_type": "display_data",
          "data": {
            "text/plain": [
              "\u001b[1;32m[\u001b[0m\u001b[32mSCRAPE\u001b[0m\u001b[1;32m]\u001b[0m\u001b[32m.. ◆ \u001b[0m\u001b[4;32mhttps://www.amazon.com/gp/browse.html?\u001b[0m\u001b[4;32mnode\u001b[0m\u001b[4;32m=\u001b[0m\u001b[4;32m16115931011\u001b[0m\u001b[4;32m&\u001b[0m\u001b[4;32mref_\u001b[0m\u001b[4;32m=\u001b[0m\u001b[4;32mnav_cs_registry\u001b[0m\u001b[32m                          |\u001b[0m\n",
              "\u001b[32m✓\u001b[0m\u001b[32m | ⏱: \u001b[0m\u001b[1;32m0.\u001b[0m\u001b[32m67s \u001b[0m\n"
            ],
            "text/html": [
              "<pre style=\"white-space:pre;overflow-x:auto;line-height:normal;font-family:Menlo,'DejaVu Sans Mono',consolas,'Courier New',monospace\"><span style=\"color: #008000; text-decoration-color: #008000; font-weight: bold\">[</span><span style=\"color: #008000; text-decoration-color: #008000\">SCRAPE</span><span style=\"color: #008000; text-decoration-color: #008000; font-weight: bold\">]</span><span style=\"color: #008000; text-decoration-color: #008000\">.. ◆ </span><span style=\"color: #008000; text-decoration-color: #008000; text-decoration: underline\">https://www.amazon.com/gp/browse.html?node=16115931011&amp;ref_=nav_cs_registry</span><span style=\"color: #008000; text-decoration-color: #008000\">                          |</span>\n",
              "<span style=\"color: #008000; text-decoration-color: #008000\">✓ | ⏱: </span><span style=\"color: #008000; text-decoration-color: #008000; font-weight: bold\">0.</span><span style=\"color: #008000; text-decoration-color: #008000\">67s </span>\n",
              "</pre>\n"
            ]
          },
          "metadata": {}
        },
        {
          "output_type": "display_data",
          "data": {
            "text/plain": [
              "\u001b[1;32m[\u001b[0m\u001b[32mCOMPLETE\u001b[0m\u001b[1;32m]\u001b[0m\u001b[32m ● \u001b[0m\u001b[4;32mhttps://www.amazon.com/gp/browse.html?\u001b[0m\u001b[4;32mnode\u001b[0m\u001b[4;32m=\u001b[0m\u001b[4;32m16115931011\u001b[0m\u001b[4;32m&\u001b[0m\u001b[4;32mref_\u001b[0m\u001b[4;32m=\u001b[0m\u001b[4;32mnav_cs_registry\u001b[0m\u001b[32m                          |\u001b[0m\n",
              "\u001b[32m✓\u001b[0m\u001b[32m | ⏱: \u001b[0m\u001b[1;32m3.\u001b[0m\u001b[32m65s \u001b[0m\n"
            ],
            "text/html": [
              "<pre style=\"white-space:pre;overflow-x:auto;line-height:normal;font-family:Menlo,'DejaVu Sans Mono',consolas,'Courier New',monospace\"><span style=\"color: #008000; text-decoration-color: #008000; font-weight: bold\">[</span><span style=\"color: #008000; text-decoration-color: #008000\">COMPLETE</span><span style=\"color: #008000; text-decoration-color: #008000; font-weight: bold\">]</span><span style=\"color: #008000; text-decoration-color: #008000\"> ● </span><span style=\"color: #008000; text-decoration-color: #008000; text-decoration: underline\">https://www.amazon.com/gp/browse.html?node=16115931011&amp;ref_=nav_cs_registry</span><span style=\"color: #008000; text-decoration-color: #008000\">                          |</span>\n",
              "<span style=\"color: #008000; text-decoration-color: #008000\">✓ | ⏱: </span><span style=\"color: #008000; text-decoration-color: #008000; font-weight: bold\">3.</span><span style=\"color: #008000; text-decoration-color: #008000\">65s </span>\n",
              "</pre>\n"
            ]
          },
          "metadata": {}
        },
        {
          "output_type": "stream",
          "name": "stdout",
          "text": [
            "Markdown saved to amazon_2025-06-24_03-10-17\n"
          ]
        },
        {
          "output_type": "display_data",
          "data": {
            "text/plain": [
              "\u001b[1;36m[\u001b[0m\u001b[36mINIT\u001b[0m\u001b[1;36m]\u001b[0m\u001b[36m...\u001b[0m\u001b[36m. → Crawl4AI \u001b[0m\u001b[1;36m0.6\u001b[0m\u001b[36m.\u001b[0m\u001b[1;36m3\u001b[0m\u001b[36m \u001b[0m\n"
            ],
            "text/html": [
              "<pre style=\"white-space:pre;overflow-x:auto;line-height:normal;font-family:Menlo,'DejaVu Sans Mono',consolas,'Courier New',monospace\"><span style=\"color: #008080; text-decoration-color: #008080; font-weight: bold\">[</span><span style=\"color: #008080; text-decoration-color: #008080\">INIT</span><span style=\"color: #008080; text-decoration-color: #008080; font-weight: bold\">]</span><span style=\"color: #008080; text-decoration-color: #008080\">.... → Crawl4AI </span><span style=\"color: #008080; text-decoration-color: #008080; font-weight: bold\">0.6</span><span style=\"color: #008080; text-decoration-color: #008080\">.</span><span style=\"color: #008080; text-decoration-color: #008080; font-weight: bold\">3</span><span style=\"color: #008080; text-decoration-color: #008080\"> </span>\n",
              "</pre>\n"
            ]
          },
          "metadata": {}
        },
        {
          "output_type": "display_data",
          "data": {
            "text/plain": [
              "\u001b[1;32m[\u001b[0m\u001b[32mFETCH\u001b[0m\u001b[1;32m]\u001b[0m\u001b[32m...\u001b[0m\u001b[32m ↓ \u001b[0m\u001b[4;32mhttps://www.amazon.com/fmc/learn-more?\u001b[0m\u001b[4;32mref_\u001b[0m\u001b[4;32m=\u001b[0m\u001b[4;32mnav_cs_groceries\u001b[0m\u001b[32m                                          |\u001b[0m\n",
              "\u001b[32m✓\u001b[0m\u001b[32m | ⏱: \u001b[0m\u001b[1;32m2.\u001b[0m\u001b[32m61s \u001b[0m\n"
            ],
            "text/html": [
              "<pre style=\"white-space:pre;overflow-x:auto;line-height:normal;font-family:Menlo,'DejaVu Sans Mono',consolas,'Courier New',monospace\"><span style=\"color: #008000; text-decoration-color: #008000; font-weight: bold\">[</span><span style=\"color: #008000; text-decoration-color: #008000\">FETCH</span><span style=\"color: #008000; text-decoration-color: #008000; font-weight: bold\">]</span><span style=\"color: #008000; text-decoration-color: #008000\">... ↓ </span><span style=\"color: #008000; text-decoration-color: #008000; text-decoration: underline\">https://www.amazon.com/fmc/learn-more?ref_=nav_cs_groceries</span><span style=\"color: #008000; text-decoration-color: #008000\">                                          |</span>\n",
              "<span style=\"color: #008000; text-decoration-color: #008000\">✓ | ⏱: </span><span style=\"color: #008000; text-decoration-color: #008000; font-weight: bold\">2.</span><span style=\"color: #008000; text-decoration-color: #008000\">61s </span>\n",
              "</pre>\n"
            ]
          },
          "metadata": {}
        },
        {
          "output_type": "display_data",
          "data": {
            "text/plain": [
              "\u001b[1;32m[\u001b[0m\u001b[32mSCRAPE\u001b[0m\u001b[1;32m]\u001b[0m\u001b[32m.. ◆ \u001b[0m\u001b[4;32mhttps://www.amazon.com/fmc/learn-more?\u001b[0m\u001b[4;32mref_\u001b[0m\u001b[4;32m=\u001b[0m\u001b[4;32mnav_cs_groceries\u001b[0m\u001b[32m                                          |\u001b[0m\n",
              "\u001b[32m✓\u001b[0m\u001b[32m | ⏱: \u001b[0m\u001b[1;32m0.\u001b[0m\u001b[32m27s \u001b[0m\n"
            ],
            "text/html": [
              "<pre style=\"white-space:pre;overflow-x:auto;line-height:normal;font-family:Menlo,'DejaVu Sans Mono',consolas,'Courier New',monospace\"><span style=\"color: #008000; text-decoration-color: #008000; font-weight: bold\">[</span><span style=\"color: #008000; text-decoration-color: #008000\">SCRAPE</span><span style=\"color: #008000; text-decoration-color: #008000; font-weight: bold\">]</span><span style=\"color: #008000; text-decoration-color: #008000\">.. ◆ </span><span style=\"color: #008000; text-decoration-color: #008000; text-decoration: underline\">https://www.amazon.com/fmc/learn-more?ref_=nav_cs_groceries</span><span style=\"color: #008000; text-decoration-color: #008000\">                                          |</span>\n",
              "<span style=\"color: #008000; text-decoration-color: #008000\">✓ | ⏱: </span><span style=\"color: #008000; text-decoration-color: #008000; font-weight: bold\">0.</span><span style=\"color: #008000; text-decoration-color: #008000\">27s </span>\n",
              "</pre>\n"
            ]
          },
          "metadata": {}
        },
        {
          "output_type": "display_data",
          "data": {
            "text/plain": [
              "\u001b[1;32m[\u001b[0m\u001b[32mCOMPLETE\u001b[0m\u001b[1;32m]\u001b[0m\u001b[32m ● \u001b[0m\u001b[4;32mhttps://www.amazon.com/fmc/learn-more?\u001b[0m\u001b[4;32mref_\u001b[0m\u001b[4;32m=\u001b[0m\u001b[4;32mnav_cs_groceries\u001b[0m\u001b[32m                                          |\u001b[0m\n",
              "\u001b[32m✓\u001b[0m\u001b[32m | ⏱: \u001b[0m\u001b[1;32m2.\u001b[0m\u001b[32m91s \u001b[0m\n"
            ],
            "text/html": [
              "<pre style=\"white-space:pre;overflow-x:auto;line-height:normal;font-family:Menlo,'DejaVu Sans Mono',consolas,'Courier New',monospace\"><span style=\"color: #008000; text-decoration-color: #008000; font-weight: bold\">[</span><span style=\"color: #008000; text-decoration-color: #008000\">COMPLETE</span><span style=\"color: #008000; text-decoration-color: #008000; font-weight: bold\">]</span><span style=\"color: #008000; text-decoration-color: #008000\"> ● </span><span style=\"color: #008000; text-decoration-color: #008000; text-decoration: underline\">https://www.amazon.com/fmc/learn-more?ref_=nav_cs_groceries</span><span style=\"color: #008000; text-decoration-color: #008000\">                                          |</span>\n",
              "<span style=\"color: #008000; text-decoration-color: #008000\">✓ | ⏱: </span><span style=\"color: #008000; text-decoration-color: #008000; font-weight: bold\">2.</span><span style=\"color: #008000; text-decoration-color: #008000\">91s </span>\n",
              "</pre>\n"
            ]
          },
          "metadata": {}
        },
        {
          "output_type": "stream",
          "name": "stdout",
          "text": [
            "Markdown saved to amazon_2025-06-24_03-10-22\n"
          ]
        },
        {
          "output_type": "display_data",
          "data": {
            "text/plain": [
              "\u001b[1;36m[\u001b[0m\u001b[36mINIT\u001b[0m\u001b[1;36m]\u001b[0m\u001b[36m...\u001b[0m\u001b[36m. → Crawl4AI \u001b[0m\u001b[1;36m0.6\u001b[0m\u001b[36m.\u001b[0m\u001b[1;36m3\u001b[0m\u001b[36m \u001b[0m\n"
            ],
            "text/html": [
              "<pre style=\"white-space:pre;overflow-x:auto;line-height:normal;font-family:Menlo,'DejaVu Sans Mono',consolas,'Courier New',monospace\"><span style=\"color: #008080; text-decoration-color: #008080; font-weight: bold\">[</span><span style=\"color: #008080; text-decoration-color: #008080\">INIT</span><span style=\"color: #008080; text-decoration-color: #008080; font-weight: bold\">]</span><span style=\"color: #008080; text-decoration-color: #008080\">.... → Crawl4AI </span><span style=\"color: #008080; text-decoration-color: #008080; font-weight: bold\">0.6</span><span style=\"color: #008080; text-decoration-color: #008080\">.</span><span style=\"color: #008080; text-decoration-color: #008080; font-weight: bold\">3</span><span style=\"color: #008080; text-decoration-color: #008080\"> </span>\n",
              "</pre>\n"
            ]
          },
          "metadata": {}
        },
        {
          "output_type": "display_data",
          "data": {
            "text/plain": [
              "\u001b[1;32m[\u001b[0m\u001b[32mFETCH\u001b[0m\u001b[1;32m]\u001b[0m\u001b[32m...\u001b[0m\u001b[32m ↓ \u001b[0m\u001b[4;32mhttps://www.amazon.com/deals?\u001b[0m\u001b[4;32mref_\u001b[0m\u001b[4;32m=\u001b[0m\u001b[4;32mnav_cs_gb\u001b[0m\u001b[32m                                                          |\u001b[0m\n",
              "\u001b[32m✓\u001b[0m\u001b[32m | ⏱: \u001b[0m\u001b[1;32m3.\u001b[0m\u001b[32m16s \u001b[0m\n"
            ],
            "text/html": [
              "<pre style=\"white-space:pre;overflow-x:auto;line-height:normal;font-family:Menlo,'DejaVu Sans Mono',consolas,'Courier New',monospace\"><span style=\"color: #008000; text-decoration-color: #008000; font-weight: bold\">[</span><span style=\"color: #008000; text-decoration-color: #008000\">FETCH</span><span style=\"color: #008000; text-decoration-color: #008000; font-weight: bold\">]</span><span style=\"color: #008000; text-decoration-color: #008000\">... ↓ </span><span style=\"color: #008000; text-decoration-color: #008000; text-decoration: underline\">https://www.amazon.com/deals?ref_=nav_cs_gb</span><span style=\"color: #008000; text-decoration-color: #008000\">                                                          |</span>\n",
              "<span style=\"color: #008000; text-decoration-color: #008000\">✓ | ⏱: </span><span style=\"color: #008000; text-decoration-color: #008000; font-weight: bold\">3.</span><span style=\"color: #008000; text-decoration-color: #008000\">16s </span>\n",
              "</pre>\n"
            ]
          },
          "metadata": {}
        },
        {
          "output_type": "display_data",
          "data": {
            "text/plain": [
              "\u001b[1;32m[\u001b[0m\u001b[32mSCRAPE\u001b[0m\u001b[1;32m]\u001b[0m\u001b[32m.. ◆ \u001b[0m\u001b[4;32mhttps://www.amazon.com/deals?\u001b[0m\u001b[4;32mref_\u001b[0m\u001b[4;32m=\u001b[0m\u001b[4;32mnav_cs_gb\u001b[0m\u001b[32m                                                          |\u001b[0m\n",
              "\u001b[32m✓\u001b[0m\u001b[32m | ⏱: \u001b[0m\u001b[1;32m0.\u001b[0m\u001b[32m37s \u001b[0m\n"
            ],
            "text/html": [
              "<pre style=\"white-space:pre;overflow-x:auto;line-height:normal;font-family:Menlo,'DejaVu Sans Mono',consolas,'Courier New',monospace\"><span style=\"color: #008000; text-decoration-color: #008000; font-weight: bold\">[</span><span style=\"color: #008000; text-decoration-color: #008000\">SCRAPE</span><span style=\"color: #008000; text-decoration-color: #008000; font-weight: bold\">]</span><span style=\"color: #008000; text-decoration-color: #008000\">.. ◆ </span><span style=\"color: #008000; text-decoration-color: #008000; text-decoration: underline\">https://www.amazon.com/deals?ref_=nav_cs_gb</span><span style=\"color: #008000; text-decoration-color: #008000\">                                                          |</span>\n",
              "<span style=\"color: #008000; text-decoration-color: #008000\">✓ | ⏱: </span><span style=\"color: #008000; text-decoration-color: #008000; font-weight: bold\">0.</span><span style=\"color: #008000; text-decoration-color: #008000\">37s </span>\n",
              "</pre>\n"
            ]
          },
          "metadata": {}
        },
        {
          "output_type": "display_data",
          "data": {
            "text/plain": [
              "\u001b[1;32m[\u001b[0m\u001b[32mCOMPLETE\u001b[0m\u001b[1;32m]\u001b[0m\u001b[32m ● \u001b[0m\u001b[4;32mhttps://www.amazon.com/deals?\u001b[0m\u001b[4;32mref_\u001b[0m\u001b[4;32m=\u001b[0m\u001b[4;32mnav_cs_gb\u001b[0m\u001b[32m                                                          |\u001b[0m\n",
              "\u001b[32m✓\u001b[0m\u001b[32m | ⏱: \u001b[0m\u001b[1;32m3.\u001b[0m\u001b[32m54s \u001b[0m\n"
            ],
            "text/html": [
              "<pre style=\"white-space:pre;overflow-x:auto;line-height:normal;font-family:Menlo,'DejaVu Sans Mono',consolas,'Courier New',monospace\"><span style=\"color: #008000; text-decoration-color: #008000; font-weight: bold\">[</span><span style=\"color: #008000; text-decoration-color: #008000\">COMPLETE</span><span style=\"color: #008000; text-decoration-color: #008000; font-weight: bold\">]</span><span style=\"color: #008000; text-decoration-color: #008000\"> ● </span><span style=\"color: #008000; text-decoration-color: #008000; text-decoration: underline\">https://www.amazon.com/deals?ref_=nav_cs_gb</span><span style=\"color: #008000; text-decoration-color: #008000\">                                                          |</span>\n",
              "<span style=\"color: #008000; text-decoration-color: #008000\">✓ | ⏱: </span><span style=\"color: #008000; text-decoration-color: #008000; font-weight: bold\">3.</span><span style=\"color: #008000; text-decoration-color: #008000\">54s </span>\n",
              "</pre>\n"
            ]
          },
          "metadata": {}
        },
        {
          "output_type": "stream",
          "name": "stdout",
          "text": [
            "Markdown saved to amazon_2025-06-24_03-10-27\n"
          ]
        },
        {
          "output_type": "display_data",
          "data": {
            "text/plain": [
              "\u001b[1;36m[\u001b[0m\u001b[36mINIT\u001b[0m\u001b[1;36m]\u001b[0m\u001b[36m...\u001b[0m\u001b[36m. → Crawl4AI \u001b[0m\u001b[1;36m0.6\u001b[0m\u001b[36m.\u001b[0m\u001b[1;36m3\u001b[0m\u001b[36m \u001b[0m\n"
            ],
            "text/html": [
              "<pre style=\"white-space:pre;overflow-x:auto;line-height:normal;font-family:Menlo,'DejaVu Sans Mono',consolas,'Courier New',monospace\"><span style=\"color: #008080; text-decoration-color: #008080; font-weight: bold\">[</span><span style=\"color: #008080; text-decoration-color: #008080\">INIT</span><span style=\"color: #008080; text-decoration-color: #008080; font-weight: bold\">]</span><span style=\"color: #008080; text-decoration-color: #008080\">.... → Crawl4AI </span><span style=\"color: #008080; text-decoration-color: #008080; font-weight: bold\">0.6</span><span style=\"color: #008080; text-decoration-color: #008080\">.</span><span style=\"color: #008080; text-decoration-color: #008080; font-weight: bold\">3</span><span style=\"color: #008080; text-decoration-color: #008080\"> </span>\n",
              "</pre>\n"
            ]
          },
          "metadata": {}
        },
        {
          "output_type": "display_data",
          "data": {
            "text/plain": [
              "\u001b[1;32m[\u001b[0m\u001b[32mFETCH\u001b[0m\u001b[1;32m]\u001b[0m\u001b[32m...\u001b[0m\u001b[32m ↓ \u001b[0m\u001b[4;32mhttps://www.amazon.com/gift-cards/b/?\u001b[0m\u001b[4;32mie\u001b[0m\u001b[4;32m=\u001b[0m\u001b[4;32mUTF8\u001b[0m\u001b[4;32m&\u001b[0m\u001b[4;32mnode\u001b[0m\u001b[4;32m=\u001b[0m\u001b[4;32m2238192011\u001b[0m\u001b[4;32m&\u001b[0m\u001b[4;32mref_\u001b[0m\u001b[4;32m=\u001b[0m\u001b[4;32mnav_cs_gc\u001b[0m\u001b[32m                          |\u001b[0m\n",
              "\u001b[32m✓\u001b[0m\u001b[32m | ⏱: \u001b[0m\u001b[1;32m9.\u001b[0m\u001b[32m22s \u001b[0m\n"
            ],
            "text/html": [
              "<pre style=\"white-space:pre;overflow-x:auto;line-height:normal;font-family:Menlo,'DejaVu Sans Mono',consolas,'Courier New',monospace\"><span style=\"color: #008000; text-decoration-color: #008000; font-weight: bold\">[</span><span style=\"color: #008000; text-decoration-color: #008000\">FETCH</span><span style=\"color: #008000; text-decoration-color: #008000; font-weight: bold\">]</span><span style=\"color: #008000; text-decoration-color: #008000\">... ↓ </span><span style=\"color: #008000; text-decoration-color: #008000; text-decoration: underline\">https://www.amazon.com/gift-cards/b/?ie=UTF8&amp;node=2238192011&amp;ref_=nav_cs_gc</span><span style=\"color: #008000; text-decoration-color: #008000\">                          |</span>\n",
              "<span style=\"color: #008000; text-decoration-color: #008000\">✓ | ⏱: </span><span style=\"color: #008000; text-decoration-color: #008000; font-weight: bold\">9.</span><span style=\"color: #008000; text-decoration-color: #008000\">22s </span>\n",
              "</pre>\n"
            ]
          },
          "metadata": {}
        },
        {
          "output_type": "display_data",
          "data": {
            "text/plain": [
              "\u001b[1;32m[\u001b[0m\u001b[32mSCRAPE\u001b[0m\u001b[1;32m]\u001b[0m\u001b[32m.. ◆ \u001b[0m\u001b[4;32mhttps://www.amazon.com/gift-cards/b/?\u001b[0m\u001b[4;32mie\u001b[0m\u001b[4;32m=\u001b[0m\u001b[4;32mUTF8\u001b[0m\u001b[4;32m&\u001b[0m\u001b[4;32mnode\u001b[0m\u001b[4;32m=\u001b[0m\u001b[4;32m2238192011\u001b[0m\u001b[4;32m&\u001b[0m\u001b[4;32mref_\u001b[0m\u001b[4;32m=\u001b[0m\u001b[4;32mnav_cs_gc\u001b[0m\u001b[32m                          |\u001b[0m\n",
              "\u001b[32m✓\u001b[0m\u001b[32m | ⏱: \u001b[0m\u001b[1;32m1.\u001b[0m\u001b[32m17s \u001b[0m\n"
            ],
            "text/html": [
              "<pre style=\"white-space:pre;overflow-x:auto;line-height:normal;font-family:Menlo,'DejaVu Sans Mono',consolas,'Courier New',monospace\"><span style=\"color: #008000; text-decoration-color: #008000; font-weight: bold\">[</span><span style=\"color: #008000; text-decoration-color: #008000\">SCRAPE</span><span style=\"color: #008000; text-decoration-color: #008000; font-weight: bold\">]</span><span style=\"color: #008000; text-decoration-color: #008000\">.. ◆ </span><span style=\"color: #008000; text-decoration-color: #008000; text-decoration: underline\">https://www.amazon.com/gift-cards/b/?ie=UTF8&amp;node=2238192011&amp;ref_=nav_cs_gc</span><span style=\"color: #008000; text-decoration-color: #008000\">                          |</span>\n",
              "<span style=\"color: #008000; text-decoration-color: #008000\">✓ | ⏱: </span><span style=\"color: #008000; text-decoration-color: #008000; font-weight: bold\">1.</span><span style=\"color: #008000; text-decoration-color: #008000\">17s </span>\n",
              "</pre>\n"
            ]
          },
          "metadata": {}
        },
        {
          "output_type": "display_data",
          "data": {
            "text/plain": [
              "\u001b[1;32m[\u001b[0m\u001b[32mCOMPLETE\u001b[0m\u001b[1;32m]\u001b[0m\u001b[32m ● \u001b[0m\u001b[4;32mhttps://www.amazon.com/gift-cards/b/?\u001b[0m\u001b[4;32mie\u001b[0m\u001b[4;32m=\u001b[0m\u001b[4;32mUTF8\u001b[0m\u001b[4;32m&\u001b[0m\u001b[4;32mnode\u001b[0m\u001b[4;32m=\u001b[0m\u001b[4;32m2238192011\u001b[0m\u001b[4;32m&\u001b[0m\u001b[4;32mref_\u001b[0m\u001b[4;32m=\u001b[0m\u001b[4;32mnav_cs_gc\u001b[0m\u001b[32m                          |\u001b[0m\n",
              "\u001b[32m✓\u001b[0m\u001b[32m | ⏱: \u001b[0m\u001b[1;32m10.\u001b[0m\u001b[32m41s \u001b[0m\n"
            ],
            "text/html": [
              "<pre style=\"white-space:pre;overflow-x:auto;line-height:normal;font-family:Menlo,'DejaVu Sans Mono',consolas,'Courier New',monospace\"><span style=\"color: #008000; text-decoration-color: #008000; font-weight: bold\">[</span><span style=\"color: #008000; text-decoration-color: #008000\">COMPLETE</span><span style=\"color: #008000; text-decoration-color: #008000; font-weight: bold\">]</span><span style=\"color: #008000; text-decoration-color: #008000\"> ● </span><span style=\"color: #008000; text-decoration-color: #008000; text-decoration: underline\">https://www.amazon.com/gift-cards/b/?ie=UTF8&amp;node=2238192011&amp;ref_=nav_cs_gc</span><span style=\"color: #008000; text-decoration-color: #008000\">                          |</span>\n",
              "<span style=\"color: #008000; text-decoration-color: #008000\">✓ | ⏱: </span><span style=\"color: #008000; text-decoration-color: #008000; font-weight: bold\">10.</span><span style=\"color: #008000; text-decoration-color: #008000\">41s </span>\n",
              "</pre>\n"
            ]
          },
          "metadata": {}
        },
        {
          "output_type": "stream",
          "name": "stdout",
          "text": [
            "Markdown saved to amazon_2025-06-24_03-10-38\n"
          ]
        },
        {
          "output_type": "display_data",
          "data": {
            "text/plain": [
              "\u001b[1;36m[\u001b[0m\u001b[36mINIT\u001b[0m\u001b[1;36m]\u001b[0m\u001b[36m...\u001b[0m\u001b[36m. → Crawl4AI \u001b[0m\u001b[1;36m0.6\u001b[0m\u001b[36m.\u001b[0m\u001b[1;36m3\u001b[0m\u001b[36m \u001b[0m\n"
            ],
            "text/html": [
              "<pre style=\"white-space:pre;overflow-x:auto;line-height:normal;font-family:Menlo,'DejaVu Sans Mono',consolas,'Courier New',monospace\"><span style=\"color: #008080; text-decoration-color: #008080; font-weight: bold\">[</span><span style=\"color: #008080; text-decoration-color: #008080\">INIT</span><span style=\"color: #008080; text-decoration-color: #008080; font-weight: bold\">]</span><span style=\"color: #008080; text-decoration-color: #008080\">.... → Crawl4AI </span><span style=\"color: #008080; text-decoration-color: #008080; font-weight: bold\">0.6</span><span style=\"color: #008080; text-decoration-color: #008080\">.</span><span style=\"color: #008080; text-decoration-color: #008080; font-weight: bold\">3</span><span style=\"color: #008080; text-decoration-color: #008080\"> </span>\n",
              "</pre>\n"
            ]
          },
          "metadata": {}
        },
        {
          "output_type": "display_data",
          "data": {
            "text/plain": [
              "\u001b[1;32m[\u001b[0m\u001b[32mFETCH\u001b[0m\u001b[1;32m]\u001b[0m\u001b[32m...\u001b[0m\u001b[32m ↓ \u001b[0m\u001b[4;32mhttps://www.amazon.com/Smart-Home/b/?\u001b[0m\u001b[4;32mie\u001b[0m\u001b[4;32m=\u001b[0m\u001b[4;32mUTF8\u001b[0m\u001b[4;32m&\u001b[0m\u001b[4;32mnode\u001b[0m\u001b[4;32m=\u001b[0m\u001b[4;32m6563140011\u001b[0m\u001b[4;32m&\u001b[0m\u001b[4;32mref_\u001b[0m\u001b[4;32m=\u001b[0m\u001b[4;32mnav_cs_smart_home\u001b[0m\u001b[32m                  |\u001b[0m\n",
              "\u001b[32m✓\u001b[0m\u001b[32m | ⏱: \u001b[0m\u001b[1;32m4.\u001b[0m\u001b[32m49s \u001b[0m\n"
            ],
            "text/html": [
              "<pre style=\"white-space:pre;overflow-x:auto;line-height:normal;font-family:Menlo,'DejaVu Sans Mono',consolas,'Courier New',monospace\"><span style=\"color: #008000; text-decoration-color: #008000; font-weight: bold\">[</span><span style=\"color: #008000; text-decoration-color: #008000\">FETCH</span><span style=\"color: #008000; text-decoration-color: #008000; font-weight: bold\">]</span><span style=\"color: #008000; text-decoration-color: #008000\">... ↓ </span><span style=\"color: #008000; text-decoration-color: #008000; text-decoration: underline\">https://www.amazon.com/Smart-Home/b/?ie=UTF8&amp;node=6563140011&amp;ref_=nav_cs_smart_home</span><span style=\"color: #008000; text-decoration-color: #008000\">                  |</span>\n",
              "<span style=\"color: #008000; text-decoration-color: #008000\">✓ | ⏱: </span><span style=\"color: #008000; text-decoration-color: #008000; font-weight: bold\">4.</span><span style=\"color: #008000; text-decoration-color: #008000\">49s </span>\n",
              "</pre>\n"
            ]
          },
          "metadata": {}
        },
        {
          "output_type": "display_data",
          "data": {
            "text/plain": [
              "\u001b[1;32m[\u001b[0m\u001b[32mSCRAPE\u001b[0m\u001b[1;32m]\u001b[0m\u001b[32m.. ◆ \u001b[0m\u001b[4;32mhttps://www.amazon.com/Smart-Home/b/?\u001b[0m\u001b[4;32mie\u001b[0m\u001b[4;32m=\u001b[0m\u001b[4;32mUTF8\u001b[0m\u001b[4;32m&\u001b[0m\u001b[4;32mnode\u001b[0m\u001b[4;32m=\u001b[0m\u001b[4;32m6563140011\u001b[0m\u001b[4;32m&\u001b[0m\u001b[4;32mref_\u001b[0m\u001b[4;32m=\u001b[0m\u001b[4;32mnav_cs_smart_home\u001b[0m\u001b[32m                  |\u001b[0m\n",
              "\u001b[32m✓\u001b[0m\u001b[32m | ⏱: \u001b[0m\u001b[1;32m0.\u001b[0m\u001b[32m21s \u001b[0m\n"
            ],
            "text/html": [
              "<pre style=\"white-space:pre;overflow-x:auto;line-height:normal;font-family:Menlo,'DejaVu Sans Mono',consolas,'Courier New',monospace\"><span style=\"color: #008000; text-decoration-color: #008000; font-weight: bold\">[</span><span style=\"color: #008000; text-decoration-color: #008000\">SCRAPE</span><span style=\"color: #008000; text-decoration-color: #008000; font-weight: bold\">]</span><span style=\"color: #008000; text-decoration-color: #008000\">.. ◆ </span><span style=\"color: #008000; text-decoration-color: #008000; text-decoration: underline\">https://www.amazon.com/Smart-Home/b/?ie=UTF8&amp;node=6563140011&amp;ref_=nav_cs_smart_home</span><span style=\"color: #008000; text-decoration-color: #008000\">                  |</span>\n",
              "<span style=\"color: #008000; text-decoration-color: #008000\">✓ | ⏱: </span><span style=\"color: #008000; text-decoration-color: #008000; font-weight: bold\">0.</span><span style=\"color: #008000; text-decoration-color: #008000\">21s </span>\n",
              "</pre>\n"
            ]
          },
          "metadata": {}
        },
        {
          "output_type": "display_data",
          "data": {
            "text/plain": [
              "\u001b[1;32m[\u001b[0m\u001b[32mCOMPLETE\u001b[0m\u001b[1;32m]\u001b[0m\u001b[32m ● \u001b[0m\u001b[4;32mhttps://www.amazon.com/Smart-Home/b/?\u001b[0m\u001b[4;32mie\u001b[0m\u001b[4;32m=\u001b[0m\u001b[4;32mUTF8\u001b[0m\u001b[4;32m&\u001b[0m\u001b[4;32mnode\u001b[0m\u001b[4;32m=\u001b[0m\u001b[4;32m6563140011\u001b[0m\u001b[4;32m&\u001b[0m\u001b[4;32mref_\u001b[0m\u001b[4;32m=\u001b[0m\u001b[4;32mnav_cs_smart_home\u001b[0m\u001b[32m                  |\u001b[0m\n",
              "\u001b[32m✓\u001b[0m\u001b[32m | ⏱: \u001b[0m\u001b[1;32m4.\u001b[0m\u001b[32m71s \u001b[0m\n"
            ],
            "text/html": [
              "<pre style=\"white-space:pre;overflow-x:auto;line-height:normal;font-family:Menlo,'DejaVu Sans Mono',consolas,'Courier New',monospace\"><span style=\"color: #008000; text-decoration-color: #008000; font-weight: bold\">[</span><span style=\"color: #008000; text-decoration-color: #008000\">COMPLETE</span><span style=\"color: #008000; text-decoration-color: #008000; font-weight: bold\">]</span><span style=\"color: #008000; text-decoration-color: #008000\"> ● </span><span style=\"color: #008000; text-decoration-color: #008000; text-decoration: underline\">https://www.amazon.com/Smart-Home/b/?ie=UTF8&amp;node=6563140011&amp;ref_=nav_cs_smart_home</span><span style=\"color: #008000; text-decoration-color: #008000\">                  |</span>\n",
              "<span style=\"color: #008000; text-decoration-color: #008000\">✓ | ⏱: </span><span style=\"color: #008000; text-decoration-color: #008000; font-weight: bold\">4.</span><span style=\"color: #008000; text-decoration-color: #008000\">71s </span>\n",
              "</pre>\n"
            ]
          },
          "metadata": {}
        },
        {
          "output_type": "stream",
          "name": "stdout",
          "text": [
            "Markdown saved to amazon_2025-06-24_03-10-46\n"
          ]
        },
        {
          "output_type": "display_data",
          "data": {
            "text/plain": [
              "\u001b[1;36m[\u001b[0m\u001b[36mINIT\u001b[0m\u001b[1;36m]\u001b[0m\u001b[36m...\u001b[0m\u001b[36m. → Crawl4AI \u001b[0m\u001b[1;36m0.6\u001b[0m\u001b[36m.\u001b[0m\u001b[1;36m3\u001b[0m\u001b[36m \u001b[0m\n"
            ],
            "text/html": [
              "<pre style=\"white-space:pre;overflow-x:auto;line-height:normal;font-family:Menlo,'DejaVu Sans Mono',consolas,'Courier New',monospace\"><span style=\"color: #008080; text-decoration-color: #008080; font-weight: bold\">[</span><span style=\"color: #008080; text-decoration-color: #008080\">INIT</span><span style=\"color: #008080; text-decoration-color: #008080; font-weight: bold\">]</span><span style=\"color: #008080; text-decoration-color: #008080\">.... → Crawl4AI </span><span style=\"color: #008080; text-decoration-color: #008080; font-weight: bold\">0.6</span><span style=\"color: #008080; text-decoration-color: #008080\">.</span><span style=\"color: #008080; text-decoration-color: #008080; font-weight: bold\">3</span><span style=\"color: #008080; text-decoration-color: #008080\"> </span>\n",
              "</pre>\n"
            ]
          },
          "metadata": {}
        },
        {
          "output_type": "display_data",
          "data": {
            "text/plain": [
              "\u001b[1;32m[\u001b[0m\u001b[32mFETCH\u001b[0m\u001b[1;32m]\u001b[0m\u001b[32m...\u001b[0m\u001b[32m ↓ \u001b[0m\u001b[4;32mhttps://www.amazon.com/music/player?\u001b[0m\u001b[4;32mref_\u001b[0m\u001b[4;32m=\u001b[0m\u001b[4;32mnav_cs_music\u001b[0m\u001b[32m                                                |\u001b[0m\n",
              "\u001b[32m✓\u001b[0m\u001b[32m | ⏱: \u001b[0m\u001b[1;32m4.\u001b[0m\u001b[32m12s \u001b[0m\n"
            ],
            "text/html": [
              "<pre style=\"white-space:pre;overflow-x:auto;line-height:normal;font-family:Menlo,'DejaVu Sans Mono',consolas,'Courier New',monospace\"><span style=\"color: #008000; text-decoration-color: #008000; font-weight: bold\">[</span><span style=\"color: #008000; text-decoration-color: #008000\">FETCH</span><span style=\"color: #008000; text-decoration-color: #008000; font-weight: bold\">]</span><span style=\"color: #008000; text-decoration-color: #008000\">... ↓ </span><span style=\"color: #008000; text-decoration-color: #008000; text-decoration: underline\">https://www.amazon.com/music/player?ref_=nav_cs_music</span><span style=\"color: #008000; text-decoration-color: #008000\">                                                |</span>\n",
              "<span style=\"color: #008000; text-decoration-color: #008000\">✓ | ⏱: </span><span style=\"color: #008000; text-decoration-color: #008000; font-weight: bold\">4.</span><span style=\"color: #008000; text-decoration-color: #008000\">12s </span>\n",
              "</pre>\n"
            ]
          },
          "metadata": {}
        },
        {
          "output_type": "display_data",
          "data": {
            "text/plain": [
              "\u001b[1;32m[\u001b[0m\u001b[32mSCRAPE\u001b[0m\u001b[1;32m]\u001b[0m\u001b[32m.. ◆ \u001b[0m\u001b[4;32mhttps://www.amazon.com/music/player?\u001b[0m\u001b[4;32mref_\u001b[0m\u001b[4;32m=\u001b[0m\u001b[4;32mnav_cs_music\u001b[0m\u001b[32m                                                |\u001b[0m\n",
              "\u001b[32m✓\u001b[0m\u001b[32m | ⏱: \u001b[0m\u001b[1;32m0.\u001b[0m\u001b[32m42s \u001b[0m\n"
            ],
            "text/html": [
              "<pre style=\"white-space:pre;overflow-x:auto;line-height:normal;font-family:Menlo,'DejaVu Sans Mono',consolas,'Courier New',monospace\"><span style=\"color: #008000; text-decoration-color: #008000; font-weight: bold\">[</span><span style=\"color: #008000; text-decoration-color: #008000\">SCRAPE</span><span style=\"color: #008000; text-decoration-color: #008000; font-weight: bold\">]</span><span style=\"color: #008000; text-decoration-color: #008000\">.. ◆ </span><span style=\"color: #008000; text-decoration-color: #008000; text-decoration: underline\">https://www.amazon.com/music/player?ref_=nav_cs_music</span><span style=\"color: #008000; text-decoration-color: #008000\">                                                |</span>\n",
              "<span style=\"color: #008000; text-decoration-color: #008000\">✓ | ⏱: </span><span style=\"color: #008000; text-decoration-color: #008000; font-weight: bold\">0.</span><span style=\"color: #008000; text-decoration-color: #008000\">42s </span>\n",
              "</pre>\n"
            ]
          },
          "metadata": {}
        },
        {
          "output_type": "display_data",
          "data": {
            "text/plain": [
              "\u001b[1;32m[\u001b[0m\u001b[32mCOMPLETE\u001b[0m\u001b[1;32m]\u001b[0m\u001b[32m ● \u001b[0m\u001b[4;32mhttps://www.amazon.com/music/player?\u001b[0m\u001b[4;32mref_\u001b[0m\u001b[4;32m=\u001b[0m\u001b[4;32mnav_cs_music\u001b[0m\u001b[32m                                                |\u001b[0m\n",
              "\u001b[32m✓\u001b[0m\u001b[32m | ⏱: \u001b[0m\u001b[1;32m4.\u001b[0m\u001b[32m55s \u001b[0m\n"
            ],
            "text/html": [
              "<pre style=\"white-space:pre;overflow-x:auto;line-height:normal;font-family:Menlo,'DejaVu Sans Mono',consolas,'Courier New',monospace\"><span style=\"color: #008000; text-decoration-color: #008000; font-weight: bold\">[</span><span style=\"color: #008000; text-decoration-color: #008000\">COMPLETE</span><span style=\"color: #008000; text-decoration-color: #008000; font-weight: bold\">]</span><span style=\"color: #008000; text-decoration-color: #008000\"> ● </span><span style=\"color: #008000; text-decoration-color: #008000; text-decoration: underline\">https://www.amazon.com/music/player?ref_=nav_cs_music</span><span style=\"color: #008000; text-decoration-color: #008000\">                                                |</span>\n",
              "<span style=\"color: #008000; text-decoration-color: #008000\">✓ | ⏱: </span><span style=\"color: #008000; text-decoration-color: #008000; font-weight: bold\">4.</span><span style=\"color: #008000; text-decoration-color: #008000\">55s </span>\n",
              "</pre>\n"
            ]
          },
          "metadata": {}
        },
        {
          "output_type": "stream",
          "name": "stdout",
          "text": [
            "Markdown saved to amazon_2025-06-24_03-10-51\n"
          ]
        },
        {
          "output_type": "display_data",
          "data": {
            "text/plain": [
              "\u001b[1;36m[\u001b[0m\u001b[36mINIT\u001b[0m\u001b[1;36m]\u001b[0m\u001b[36m...\u001b[0m\u001b[36m. → Crawl4AI \u001b[0m\u001b[1;36m0.6\u001b[0m\u001b[36m.\u001b[0m\u001b[1;36m3\u001b[0m\u001b[36m \u001b[0m\n"
            ],
            "text/html": [
              "<pre style=\"white-space:pre;overflow-x:auto;line-height:normal;font-family:Menlo,'DejaVu Sans Mono',consolas,'Courier New',monospace\"><span style=\"color: #008080; text-decoration-color: #008080; font-weight: bold\">[</span><span style=\"color: #008080; text-decoration-color: #008080\">INIT</span><span style=\"color: #008080; text-decoration-color: #008080; font-weight: bold\">]</span><span style=\"color: #008080; text-decoration-color: #008080\">.... → Crawl4AI </span><span style=\"color: #008080; text-decoration-color: #008080; font-weight: bold\">0.6</span><span style=\"color: #008080; text-decoration-color: #008080\">.</span><span style=\"color: #008080; text-decoration-color: #008080; font-weight: bold\">3</span><span style=\"color: #008080; text-decoration-color: #008080\"> </span>\n",
              "</pre>\n"
            ]
          },
          "metadata": {}
        },
        {
          "output_type": "display_data",
          "data": {
            "text/plain": [
              "\u001b[1;32m[\u001b[0m\u001b[32mFETCH\u001b[0m\u001b[1;32m]\u001b[0m\u001b[32m...\u001b[0m\u001b[32m ↓ \u001b[0m\u001b[4;32mhttps://www.amazon.com/books-used-books-textbooks/b/?\u001b[0m\u001b[4;32mie\u001b[0m\u001b[4;32m=\u001b[0m\u001b[4;32mUTF8\u001b[0m\u001b[4;32m&\u001b[0m\u001b[4;32mnode\u001b[0m\u001b[4;32m=\u001b[0m\u001b[4;32m283155\u001b[0m\u001b[4;32m&\u001b[0m\u001b[4;32mref_\u001b[0m\u001b[4;32m=\u001b[0m\u001b[4;32mnav_cs_books\u001b[0m\u001b[32m           |\u001b[0m\n",
              "\u001b[32m✓\u001b[0m\u001b[32m | ⏱: \u001b[0m\u001b[1;32m6.\u001b[0m\u001b[32m78s \u001b[0m\n"
            ],
            "text/html": [
              "<pre style=\"white-space:pre;overflow-x:auto;line-height:normal;font-family:Menlo,'DejaVu Sans Mono',consolas,'Courier New',monospace\"><span style=\"color: #008000; text-decoration-color: #008000; font-weight: bold\">[</span><span style=\"color: #008000; text-decoration-color: #008000\">FETCH</span><span style=\"color: #008000; text-decoration-color: #008000; font-weight: bold\">]</span><span style=\"color: #008000; text-decoration-color: #008000\">... ↓ </span><span style=\"color: #008000; text-decoration-color: #008000; text-decoration: underline\">https://www.amazon.com/books-used-books-textbooks/b/?ie=UTF8&amp;node=283155&amp;ref_=nav_cs_books</span><span style=\"color: #008000; text-decoration-color: #008000\">           |</span>\n",
              "<span style=\"color: #008000; text-decoration-color: #008000\">✓ | ⏱: </span><span style=\"color: #008000; text-decoration-color: #008000; font-weight: bold\">6.</span><span style=\"color: #008000; text-decoration-color: #008000\">78s </span>\n",
              "</pre>\n"
            ]
          },
          "metadata": {}
        },
        {
          "output_type": "display_data",
          "data": {
            "text/plain": [
              "\u001b[1;32m[\u001b[0m\u001b[32mSCRAPE\u001b[0m\u001b[1;32m]\u001b[0m\u001b[32m.. ◆ \u001b[0m\u001b[4;32mhttps://www.amazon.com/books-used-books-textbooks/b/?\u001b[0m\u001b[4;32mie\u001b[0m\u001b[4;32m=\u001b[0m\u001b[4;32mUTF8\u001b[0m\u001b[4;32m&\u001b[0m\u001b[4;32mnode\u001b[0m\u001b[4;32m=\u001b[0m\u001b[4;32m283155\u001b[0m\u001b[4;32m&\u001b[0m\u001b[4;32mref_\u001b[0m\u001b[4;32m=\u001b[0m\u001b[4;32mnav_cs_books\u001b[0m\u001b[32m           |\u001b[0m\n",
              "\u001b[32m✓\u001b[0m\u001b[32m | ⏱: \u001b[0m\u001b[1;33m0.\u001b[0m\u001b[33m64\u001b[0m\u001b[32ms \u001b[0m\n"
            ],
            "text/html": [
              "<pre style=\"white-space:pre;overflow-x:auto;line-height:normal;font-family:Menlo,'DejaVu Sans Mono',consolas,'Courier New',monospace\"><span style=\"color: #008000; text-decoration-color: #008000; font-weight: bold\">[</span><span style=\"color: #008000; text-decoration-color: #008000\">SCRAPE</span><span style=\"color: #008000; text-decoration-color: #008000; font-weight: bold\">]</span><span style=\"color: #008000; text-decoration-color: #008000\">.. ◆ </span><span style=\"color: #008000; text-decoration-color: #008000; text-decoration: underline\">https://www.amazon.com/books-used-books-textbooks/b/?ie=UTF8&amp;node=283155&amp;ref_=nav_cs_books</span><span style=\"color: #008000; text-decoration-color: #008000\">           |</span>\n",
              "<span style=\"color: #008000; text-decoration-color: #008000\">✓ | ⏱: </span><span style=\"color: #808000; text-decoration-color: #808000; font-weight: bold\">0.</span><span style=\"color: #808000; text-decoration-color: #808000\">64</span><span style=\"color: #008000; text-decoration-color: #008000\">s </span>\n",
              "</pre>\n"
            ]
          },
          "metadata": {}
        },
        {
          "output_type": "display_data",
          "data": {
            "text/plain": [
              "\u001b[1;32m[\u001b[0m\u001b[32mCOMPLETE\u001b[0m\u001b[1;32m]\u001b[0m\u001b[32m ● \u001b[0m\u001b[4;32mhttps://www.amazon.com/books-used-books-textbooks/b/?\u001b[0m\u001b[4;32mie\u001b[0m\u001b[4;32m=\u001b[0m\u001b[4;32mUTF8\u001b[0m\u001b[4;32m&\u001b[0m\u001b[4;32mnode\u001b[0m\u001b[4;32m=\u001b[0m\u001b[4;32m283155\u001b[0m\u001b[4;32m&\u001b[0m\u001b[4;32mref_\u001b[0m\u001b[4;32m=\u001b[0m\u001b[4;32mnav_cs_books\u001b[0m\u001b[32m           |\u001b[0m\n",
              "\u001b[32m✓\u001b[0m\u001b[32m | ⏱: \u001b[0m\u001b[1;32m7.\u001b[0m\u001b[32m44s \u001b[0m\n"
            ],
            "text/html": [
              "<pre style=\"white-space:pre;overflow-x:auto;line-height:normal;font-family:Menlo,'DejaVu Sans Mono',consolas,'Courier New',monospace\"><span style=\"color: #008000; text-decoration-color: #008000; font-weight: bold\">[</span><span style=\"color: #008000; text-decoration-color: #008000\">COMPLETE</span><span style=\"color: #008000; text-decoration-color: #008000; font-weight: bold\">]</span><span style=\"color: #008000; text-decoration-color: #008000\"> ● </span><span style=\"color: #008000; text-decoration-color: #008000; text-decoration: underline\">https://www.amazon.com/books-used-books-textbooks/b/?ie=UTF8&amp;node=283155&amp;ref_=nav_cs_books</span><span style=\"color: #008000; text-decoration-color: #008000\">           |</span>\n",
              "<span style=\"color: #008000; text-decoration-color: #008000\">✓ | ⏱: </span><span style=\"color: #008000; text-decoration-color: #008000; font-weight: bold\">7.</span><span style=\"color: #008000; text-decoration-color: #008000\">44s </span>\n",
              "</pre>\n"
            ]
          },
          "metadata": {}
        },
        {
          "output_type": "stream",
          "name": "stdout",
          "text": [
            "Markdown saved to amazon_2025-06-24_03-11-00\n"
          ]
        },
        {
          "output_type": "display_data",
          "data": {
            "text/plain": [
              "\u001b[1;36m[\u001b[0m\u001b[36mINIT\u001b[0m\u001b[1;36m]\u001b[0m\u001b[36m...\u001b[0m\u001b[36m. → Crawl4AI \u001b[0m\u001b[1;36m0.6\u001b[0m\u001b[36m.\u001b[0m\u001b[1;36m3\u001b[0m\u001b[36m \u001b[0m\n"
            ],
            "text/html": [
              "<pre style=\"white-space:pre;overflow-x:auto;line-height:normal;font-family:Menlo,'DejaVu Sans Mono',consolas,'Courier New',monospace\"><span style=\"color: #008080; text-decoration-color: #008080; font-weight: bold\">[</span><span style=\"color: #008080; text-decoration-color: #008080\">INIT</span><span style=\"color: #008080; text-decoration-color: #008080; font-weight: bold\">]</span><span style=\"color: #008080; text-decoration-color: #008080\">.... → Crawl4AI </span><span style=\"color: #008080; text-decoration-color: #008080; font-weight: bold\">0.6</span><span style=\"color: #008080; text-decoration-color: #008080\">.</span><span style=\"color: #008080; text-decoration-color: #008080; font-weight: bold\">3</span><span style=\"color: #008080; text-decoration-color: #008080\"> </span>\n",
              "</pre>\n"
            ]
          },
          "metadata": {}
        },
        {
          "output_type": "display_data",
          "data": {
            "text/plain": [
              "\u001b[1;32m[\u001b[0m\u001b[32mFETCH\u001b[0m\u001b[1;32m]\u001b[0m\u001b[32m...\u001b[0m\u001b[32m ↓ \u001b[0m\u001b[4;32mhttps://pharmacy.amazon.com/?\u001b[0m\u001b[4;32mnodl\u001b[0m\u001b[4;32m=\u001b[0m\u001b[4;32m0\u001b[0m\u001b[4;32m&\u001b[0m\u001b[4;32mref_\u001b[0m\u001b[4;32m=\u001b[0m\u001b[4;32mnav_cs_pharmacy\u001b[0m\u001b[32m                                             |\u001b[0m\n",
              "\u001b[32m✓\u001b[0m\u001b[32m | ⏱: \u001b[0m\u001b[1;32m3.\u001b[0m\u001b[32m30s \u001b[0m\n"
            ],
            "text/html": [
              "<pre style=\"white-space:pre;overflow-x:auto;line-height:normal;font-family:Menlo,'DejaVu Sans Mono',consolas,'Courier New',monospace\"><span style=\"color: #008000; text-decoration-color: #008000; font-weight: bold\">[</span><span style=\"color: #008000; text-decoration-color: #008000\">FETCH</span><span style=\"color: #008000; text-decoration-color: #008000; font-weight: bold\">]</span><span style=\"color: #008000; text-decoration-color: #008000\">... ↓ </span><span style=\"color: #008000; text-decoration-color: #008000; text-decoration: underline\">https://pharmacy.amazon.com/?nodl=0&amp;ref_=nav_cs_pharmacy</span><span style=\"color: #008000; text-decoration-color: #008000\">                                             |</span>\n",
              "<span style=\"color: #008000; text-decoration-color: #008000\">✓ | ⏱: </span><span style=\"color: #008000; text-decoration-color: #008000; font-weight: bold\">3.</span><span style=\"color: #008000; text-decoration-color: #008000\">30s </span>\n",
              "</pre>\n"
            ]
          },
          "metadata": {}
        },
        {
          "output_type": "display_data",
          "data": {
            "text/plain": [
              "\u001b[1;32m[\u001b[0m\u001b[32mSCRAPE\u001b[0m\u001b[1;32m]\u001b[0m\u001b[32m.. ◆ \u001b[0m\u001b[4;32mhttps://pharmacy.amazon.com/?\u001b[0m\u001b[4;32mnodl\u001b[0m\u001b[4;32m=\u001b[0m\u001b[4;32m0\u001b[0m\u001b[4;32m&\u001b[0m\u001b[4;32mref_\u001b[0m\u001b[4;32m=\u001b[0m\u001b[4;32mnav_cs_pharmacy\u001b[0m\u001b[32m                                             |\u001b[0m\n",
              "\u001b[32m✓\u001b[0m\u001b[32m | ⏱: \u001b[0m\u001b[1;32m0.\u001b[0m\u001b[32m15s \u001b[0m\n"
            ],
            "text/html": [
              "<pre style=\"white-space:pre;overflow-x:auto;line-height:normal;font-family:Menlo,'DejaVu Sans Mono',consolas,'Courier New',monospace\"><span style=\"color: #008000; text-decoration-color: #008000; font-weight: bold\">[</span><span style=\"color: #008000; text-decoration-color: #008000\">SCRAPE</span><span style=\"color: #008000; text-decoration-color: #008000; font-weight: bold\">]</span><span style=\"color: #008000; text-decoration-color: #008000\">.. ◆ </span><span style=\"color: #008000; text-decoration-color: #008000; text-decoration: underline\">https://pharmacy.amazon.com/?nodl=0&amp;ref_=nav_cs_pharmacy</span><span style=\"color: #008000; text-decoration-color: #008000\">                                             |</span>\n",
              "<span style=\"color: #008000; text-decoration-color: #008000\">✓ | ⏱: </span><span style=\"color: #008000; text-decoration-color: #008000; font-weight: bold\">0.</span><span style=\"color: #008000; text-decoration-color: #008000\">15s </span>\n",
              "</pre>\n"
            ]
          },
          "metadata": {}
        },
        {
          "output_type": "display_data",
          "data": {
            "text/plain": [
              "\u001b[1;32m[\u001b[0m\u001b[32mCOMPLETE\u001b[0m\u001b[1;32m]\u001b[0m\u001b[32m ● \u001b[0m\u001b[4;32mhttps://pharmacy.amazon.com/?\u001b[0m\u001b[4;32mnodl\u001b[0m\u001b[4;32m=\u001b[0m\u001b[4;32m0\u001b[0m\u001b[4;32m&\u001b[0m\u001b[4;32mref_\u001b[0m\u001b[4;32m=\u001b[0m\u001b[4;32mnav_cs_pharmacy\u001b[0m\u001b[32m                                             |\u001b[0m\n",
              "\u001b[32m✓\u001b[0m\u001b[32m | ⏱: \u001b[0m\u001b[1;32m3.\u001b[0m\u001b[32m46s \u001b[0m\n"
            ],
            "text/html": [
              "<pre style=\"white-space:pre;overflow-x:auto;line-height:normal;font-family:Menlo,'DejaVu Sans Mono',consolas,'Courier New',monospace\"><span style=\"color: #008000; text-decoration-color: #008000; font-weight: bold\">[</span><span style=\"color: #008000; text-decoration-color: #008000\">COMPLETE</span><span style=\"color: #008000; text-decoration-color: #008000; font-weight: bold\">]</span><span style=\"color: #008000; text-decoration-color: #008000\"> ● </span><span style=\"color: #008000; text-decoration-color: #008000; text-decoration: underline\">https://pharmacy.amazon.com/?nodl=0&amp;ref_=nav_cs_pharmacy</span><span style=\"color: #008000; text-decoration-color: #008000\">                                             |</span>\n",
              "<span style=\"color: #008000; text-decoration-color: #008000\">✓ | ⏱: </span><span style=\"color: #008000; text-decoration-color: #008000; font-weight: bold\">3.</span><span style=\"color: #008000; text-decoration-color: #008000\">46s </span>\n",
              "</pre>\n"
            ]
          },
          "metadata": {}
        },
        {
          "output_type": "stream",
          "name": "stdout",
          "text": [
            "Markdown saved to amazon_2025-06-24_03-11-05\n"
          ]
        },
        {
          "output_type": "display_data",
          "data": {
            "text/plain": [
              "\u001b[1;36m[\u001b[0m\u001b[36mINIT\u001b[0m\u001b[1;36m]\u001b[0m\u001b[36m...\u001b[0m\u001b[36m. → Crawl4AI \u001b[0m\u001b[1;36m0.6\u001b[0m\u001b[36m.\u001b[0m\u001b[1;36m3\u001b[0m\u001b[36m \u001b[0m\n"
            ],
            "text/html": [
              "<pre style=\"white-space:pre;overflow-x:auto;line-height:normal;font-family:Menlo,'DejaVu Sans Mono',consolas,'Courier New',monospace\"><span style=\"color: #008080; text-decoration-color: #008080; font-weight: bold\">[</span><span style=\"color: #008080; text-decoration-color: #008080\">INIT</span><span style=\"color: #008080; text-decoration-color: #008080; font-weight: bold\">]</span><span style=\"color: #008080; text-decoration-color: #008080\">.... → Crawl4AI </span><span style=\"color: #008080; text-decoration-color: #008080; font-weight: bold\">0.6</span><span style=\"color: #008080; text-decoration-color: #008080\">.</span><span style=\"color: #008080; text-decoration-color: #008080; font-weight: bold\">3</span><span style=\"color: #008080; text-decoration-color: #008080\"> </span>\n",
              "</pre>\n"
            ]
          },
          "metadata": {}
        },
        {
          "output_type": "display_data",
          "data": {
            "text/plain": [
              "\u001b[1;32m[\u001b[0m\u001b[32mFETCH\u001b[0m\u001b[1;32m]\u001b[0m\u001b[32m...\u001b[0m\u001b[32m ↓ \u001b[0m\u001b[4;32mhttps://www.amazon.com/luxurystores?\u001b[0m\u001b[4;32mref_\u001b[0m\u001b[4;32m=\u001b[0m\u001b[4;32mnav_cs_luxury\u001b[0m\u001b[32m                                               |\u001b[0m\n",
              "\u001b[32m✓\u001b[0m\u001b[32m | ⏱: \u001b[0m\u001b[1;32m6.\u001b[0m\u001b[32m12s \u001b[0m\n"
            ],
            "text/html": [
              "<pre style=\"white-space:pre;overflow-x:auto;line-height:normal;font-family:Menlo,'DejaVu Sans Mono',consolas,'Courier New',monospace\"><span style=\"color: #008000; text-decoration-color: #008000; font-weight: bold\">[</span><span style=\"color: #008000; text-decoration-color: #008000\">FETCH</span><span style=\"color: #008000; text-decoration-color: #008000; font-weight: bold\">]</span><span style=\"color: #008000; text-decoration-color: #008000\">... ↓ </span><span style=\"color: #008000; text-decoration-color: #008000; text-decoration: underline\">https://www.amazon.com/luxurystores?ref_=nav_cs_luxury</span><span style=\"color: #008000; text-decoration-color: #008000\">                                               |</span>\n",
              "<span style=\"color: #008000; text-decoration-color: #008000\">✓ | ⏱: </span><span style=\"color: #008000; text-decoration-color: #008000; font-weight: bold\">6.</span><span style=\"color: #008000; text-decoration-color: #008000\">12s </span>\n",
              "</pre>\n"
            ]
          },
          "metadata": {}
        },
        {
          "output_type": "display_data",
          "data": {
            "text/plain": [
              "\u001b[1;32m[\u001b[0m\u001b[32mSCRAPE\u001b[0m\u001b[1;32m]\u001b[0m\u001b[32m.. ◆ \u001b[0m\u001b[4;32mhttps://www.amazon.com/luxurystores?\u001b[0m\u001b[4;32mref_\u001b[0m\u001b[4;32m=\u001b[0m\u001b[4;32mnav_cs_luxury\u001b[0m\u001b[32m                                               |\u001b[0m\n",
              "\u001b[32m✓\u001b[0m\u001b[32m | ⏱: \u001b[0m\u001b[1;32m0.\u001b[0m\u001b[32m87s \u001b[0m\n"
            ],
            "text/html": [
              "<pre style=\"white-space:pre;overflow-x:auto;line-height:normal;font-family:Menlo,'DejaVu Sans Mono',consolas,'Courier New',monospace\"><span style=\"color: #008000; text-decoration-color: #008000; font-weight: bold\">[</span><span style=\"color: #008000; text-decoration-color: #008000\">SCRAPE</span><span style=\"color: #008000; text-decoration-color: #008000; font-weight: bold\">]</span><span style=\"color: #008000; text-decoration-color: #008000\">.. ◆ </span><span style=\"color: #008000; text-decoration-color: #008000; text-decoration: underline\">https://www.amazon.com/luxurystores?ref_=nav_cs_luxury</span><span style=\"color: #008000; text-decoration-color: #008000\">                                               |</span>\n",
              "<span style=\"color: #008000; text-decoration-color: #008000\">✓ | ⏱: </span><span style=\"color: #008000; text-decoration-color: #008000; font-weight: bold\">0.</span><span style=\"color: #008000; text-decoration-color: #008000\">87s </span>\n",
              "</pre>\n"
            ]
          },
          "metadata": {}
        },
        {
          "output_type": "display_data",
          "data": {
            "text/plain": [
              "\u001b[1;32m[\u001b[0m\u001b[32mCOMPLETE\u001b[0m\u001b[1;32m]\u001b[0m\u001b[32m ● \u001b[0m\u001b[4;32mhttps://www.amazon.com/luxurystores?\u001b[0m\u001b[4;32mref_\u001b[0m\u001b[4;32m=\u001b[0m\u001b[4;32mnav_cs_luxury\u001b[0m\u001b[32m                                               |\u001b[0m\n",
              "\u001b[32m✓\u001b[0m\u001b[32m | ⏱: \u001b[0m\u001b[1;32m7.\u001b[0m\u001b[32m00s \u001b[0m\n"
            ],
            "text/html": [
              "<pre style=\"white-space:pre;overflow-x:auto;line-height:normal;font-family:Menlo,'DejaVu Sans Mono',consolas,'Courier New',monospace\"><span style=\"color: #008000; text-decoration-color: #008000; font-weight: bold\">[</span><span style=\"color: #008000; text-decoration-color: #008000\">COMPLETE</span><span style=\"color: #008000; text-decoration-color: #008000; font-weight: bold\">]</span><span style=\"color: #008000; text-decoration-color: #008000\"> ● </span><span style=\"color: #008000; text-decoration-color: #008000; text-decoration: underline\">https://www.amazon.com/luxurystores?ref_=nav_cs_luxury</span><span style=\"color: #008000; text-decoration-color: #008000\">                                               |</span>\n",
              "<span style=\"color: #008000; text-decoration-color: #008000\">✓ | ⏱: </span><span style=\"color: #008000; text-decoration-color: #008000; font-weight: bold\">7.</span><span style=\"color: #008000; text-decoration-color: #008000\">00s </span>\n",
              "</pre>\n"
            ]
          },
          "metadata": {}
        },
        {
          "output_type": "stream",
          "name": "stdout",
          "text": [
            "Markdown saved to amazon_2025-06-24_03-11-13\n"
          ]
        },
        {
          "output_type": "display_data",
          "data": {
            "text/plain": [
              "\u001b[1;36m[\u001b[0m\u001b[36mINIT\u001b[0m\u001b[1;36m]\u001b[0m\u001b[36m...\u001b[0m\u001b[36m. → Crawl4AI \u001b[0m\u001b[1;36m0.6\u001b[0m\u001b[36m.\u001b[0m\u001b[1;36m3\u001b[0m\u001b[36m \u001b[0m\n"
            ],
            "text/html": [
              "<pre style=\"white-space:pre;overflow-x:auto;line-height:normal;font-family:Menlo,'DejaVu Sans Mono',consolas,'Courier New',monospace\"><span style=\"color: #008080; text-decoration-color: #008080; font-weight: bold\">[</span><span style=\"color: #008080; text-decoration-color: #008080\">INIT</span><span style=\"color: #008080; text-decoration-color: #008080; font-weight: bold\">]</span><span style=\"color: #008080; text-decoration-color: #008080\">.... → Crawl4AI </span><span style=\"color: #008080; text-decoration-color: #008080; font-weight: bold\">0.6</span><span style=\"color: #008080; text-decoration-color: #008080\">.</span><span style=\"color: #008080; text-decoration-color: #008080; font-weight: bold\">3</span><span style=\"color: #008080; text-decoration-color: #008080\"> </span>\n",
              "</pre>\n"
            ]
          },
          "metadata": {}
        },
        {
          "output_type": "display_data",
          "data": {
            "text/plain": [
              "\u001b[1;32m[\u001b[0m\u001b[32mFETCH\u001b[0m\u001b[1;32m]\u001b[0m\u001b[32m...\u001b[0m\u001b[32m ↓ \u001b[0m\u001b[4;32mhttps://www.amazon.com/home-garden-kitchen-furni...bedding/b/?\u001b[0m\u001b[4;32mie\u001b[0m\u001b[4;32m=\u001b[0m\u001b[4;32mUTF8\u001b[0m\u001b[4;32m&\u001b[0m\u001b[4;32mnode\u001b[0m\u001b[4;32m=\u001b[0m\u001b[4;32m1055398\u001b[0m\u001b[4;32m&\u001b[0m\u001b[4;32mref_\u001b[0m\u001b[4;32m=\u001b[0m\u001b[4;32mnav_cs_home\u001b[0m\u001b[32m  |\u001b[0m\n",
              "\u001b[32m✓\u001b[0m\u001b[32m | ⏱: \u001b[0m\u001b[1;32m5.\u001b[0m\u001b[32m47s \u001b[0m\n"
            ],
            "text/html": [
              "<pre style=\"white-space:pre;overflow-x:auto;line-height:normal;font-family:Menlo,'DejaVu Sans Mono',consolas,'Courier New',monospace\"><span style=\"color: #008000; text-decoration-color: #008000; font-weight: bold\">[</span><span style=\"color: #008000; text-decoration-color: #008000\">FETCH</span><span style=\"color: #008000; text-decoration-color: #008000; font-weight: bold\">]</span><span style=\"color: #008000; text-decoration-color: #008000\">... ↓ </span><span style=\"color: #008000; text-decoration-color: #008000; text-decoration: underline\">https://www.amazon.com/home-garden-kitchen-furni...bedding/b/?ie=UTF8&amp;node=1055398&amp;ref_=nav_cs_home</span><span style=\"color: #008000; text-decoration-color: #008000\">  |</span>\n",
              "<span style=\"color: #008000; text-decoration-color: #008000\">✓ | ⏱: </span><span style=\"color: #008000; text-decoration-color: #008000; font-weight: bold\">5.</span><span style=\"color: #008000; text-decoration-color: #008000\">47s </span>\n",
              "</pre>\n"
            ]
          },
          "metadata": {}
        },
        {
          "output_type": "display_data",
          "data": {
            "text/plain": [
              "\u001b[1;32m[\u001b[0m\u001b[32mSCRAPE\u001b[0m\u001b[1;32m]\u001b[0m\u001b[32m.. ◆ \u001b[0m\u001b[4;32mhttps://www.amazon.com/home-garden-kitchen-furni...bedding/b/?\u001b[0m\u001b[4;32mie\u001b[0m\u001b[4;32m=\u001b[0m\u001b[4;32mUTF8\u001b[0m\u001b[4;32m&\u001b[0m\u001b[4;32mnode\u001b[0m\u001b[4;32m=\u001b[0m\u001b[4;32m1055398\u001b[0m\u001b[4;32m&\u001b[0m\u001b[4;32mref_\u001b[0m\u001b[4;32m=\u001b[0m\u001b[4;32mnav_cs_home\u001b[0m\u001b[32m  |\u001b[0m\n",
              "\u001b[32m✓\u001b[0m\u001b[32m | ⏱: \u001b[0m\u001b[1;32m0.\u001b[0m\u001b[32m98s \u001b[0m\n"
            ],
            "text/html": [
              "<pre style=\"white-space:pre;overflow-x:auto;line-height:normal;font-family:Menlo,'DejaVu Sans Mono',consolas,'Courier New',monospace\"><span style=\"color: #008000; text-decoration-color: #008000; font-weight: bold\">[</span><span style=\"color: #008000; text-decoration-color: #008000\">SCRAPE</span><span style=\"color: #008000; text-decoration-color: #008000; font-weight: bold\">]</span><span style=\"color: #008000; text-decoration-color: #008000\">.. ◆ </span><span style=\"color: #008000; text-decoration-color: #008000; text-decoration: underline\">https://www.amazon.com/home-garden-kitchen-furni...bedding/b/?ie=UTF8&amp;node=1055398&amp;ref_=nav_cs_home</span><span style=\"color: #008000; text-decoration-color: #008000\">  |</span>\n",
              "<span style=\"color: #008000; text-decoration-color: #008000\">✓ | ⏱: </span><span style=\"color: #008000; text-decoration-color: #008000; font-weight: bold\">0.</span><span style=\"color: #008000; text-decoration-color: #008000\">98s </span>\n",
              "</pre>\n"
            ]
          },
          "metadata": {}
        },
        {
          "output_type": "display_data",
          "data": {
            "text/plain": [
              "\u001b[1;32m[\u001b[0m\u001b[32mCOMPLETE\u001b[0m\u001b[1;32m]\u001b[0m\u001b[32m ● \u001b[0m\u001b[4;32mhttps://www.amazon.com/home-garden-kitchen-furni...bedding/b/?\u001b[0m\u001b[4;32mie\u001b[0m\u001b[4;32m=\u001b[0m\u001b[4;32mUTF8\u001b[0m\u001b[4;32m&\u001b[0m\u001b[4;32mnode\u001b[0m\u001b[4;32m=\u001b[0m\u001b[4;32m1055398\u001b[0m\u001b[4;32m&\u001b[0m\u001b[4;32mref_\u001b[0m\u001b[4;32m=\u001b[0m\u001b[4;32mnav_cs_home\u001b[0m\u001b[32m  |\u001b[0m\n",
              "\u001b[32m✓\u001b[0m\u001b[32m | ⏱: \u001b[0m\u001b[1;32m6.\u001b[0m\u001b[32m48s \u001b[0m\n"
            ],
            "text/html": [
              "<pre style=\"white-space:pre;overflow-x:auto;line-height:normal;font-family:Menlo,'DejaVu Sans Mono',consolas,'Courier New',monospace\"><span style=\"color: #008000; text-decoration-color: #008000; font-weight: bold\">[</span><span style=\"color: #008000; text-decoration-color: #008000\">COMPLETE</span><span style=\"color: #008000; text-decoration-color: #008000; font-weight: bold\">]</span><span style=\"color: #008000; text-decoration-color: #008000\"> ● </span><span style=\"color: #008000; text-decoration-color: #008000; text-decoration: underline\">https://www.amazon.com/home-garden-kitchen-furni...bedding/b/?ie=UTF8&amp;node=1055398&amp;ref_=nav_cs_home</span><span style=\"color: #008000; text-decoration-color: #008000\">  |</span>\n",
              "<span style=\"color: #008000; text-decoration-color: #008000\">✓ | ⏱: </span><span style=\"color: #008000; text-decoration-color: #008000; font-weight: bold\">6.</span><span style=\"color: #008000; text-decoration-color: #008000\">48s </span>\n",
              "</pre>\n"
            ]
          },
          "metadata": {}
        },
        {
          "output_type": "stream",
          "name": "stdout",
          "text": [
            "Markdown saved to amazon_2025-06-24_03-11-21\n"
          ]
        },
        {
          "output_type": "display_data",
          "data": {
            "text/plain": [
              "\u001b[1;36m[\u001b[0m\u001b[36mINIT\u001b[0m\u001b[1;36m]\u001b[0m\u001b[36m...\u001b[0m\u001b[36m. → Crawl4AI \u001b[0m\u001b[1;36m0.6\u001b[0m\u001b[36m.\u001b[0m\u001b[1;36m3\u001b[0m\u001b[36m \u001b[0m\n"
            ],
            "text/html": [
              "<pre style=\"white-space:pre;overflow-x:auto;line-height:normal;font-family:Menlo,'DejaVu Sans Mono',consolas,'Courier New',monospace\"><span style=\"color: #008080; text-decoration-color: #008080; font-weight: bold\">[</span><span style=\"color: #008080; text-decoration-color: #008080\">INIT</span><span style=\"color: #008080; text-decoration-color: #008080; font-weight: bold\">]</span><span style=\"color: #008080; text-decoration-color: #008080\">.... → Crawl4AI </span><span style=\"color: #008080; text-decoration-color: #008080; font-weight: bold\">0.6</span><span style=\"color: #008080; text-decoration-color: #008080\">.</span><span style=\"color: #008080; text-decoration-color: #008080; font-weight: bold\">3</span><span style=\"color: #008080; text-decoration-color: #008080\"> </span>\n",
              "</pre>\n"
            ]
          },
          "metadata": {}
        },
        {
          "output_type": "display_data",
          "data": {
            "text/plain": [
              "\u001b[1;32m[\u001b[0m\u001b[32mFETCH\u001b[0m\u001b[1;32m]\u001b[0m\u001b[32m...\u001b[0m\u001b[32m ↓ \u001b[0m\u001b[4;32mhttps://www.amazon.com/amazon-fashion/b/?\u001b[0m\u001b[4;32mie\u001b[0m\u001b[4;32m=\u001b[0m\u001b[4;32mUTF8\u001b[0m\u001b[4;32m&\u001b[0m\u001b[4;32mnode\u001b[0m\u001b[4;32m=\u001b[0m\u001b[4;32m7141123011\u001b[0m\u001b[4;32m&\u001b[0m\u001b[4;32mref_\u001b[0m\u001b[4;32m=\u001b[0m\u001b[4;32mnav_cs_fashion\u001b[0m\u001b[32m                 |\u001b[0m\n",
              "\u001b[32m✓\u001b[0m\u001b[32m | ⏱: \u001b[0m\u001b[1;32m7.\u001b[0m\u001b[32m10s \u001b[0m\n"
            ],
            "text/html": [
              "<pre style=\"white-space:pre;overflow-x:auto;line-height:normal;font-family:Menlo,'DejaVu Sans Mono',consolas,'Courier New',monospace\"><span style=\"color: #008000; text-decoration-color: #008000; font-weight: bold\">[</span><span style=\"color: #008000; text-decoration-color: #008000\">FETCH</span><span style=\"color: #008000; text-decoration-color: #008000; font-weight: bold\">]</span><span style=\"color: #008000; text-decoration-color: #008000\">... ↓ </span><span style=\"color: #008000; text-decoration-color: #008000; text-decoration: underline\">https://www.amazon.com/amazon-fashion/b/?ie=UTF8&amp;node=7141123011&amp;ref_=nav_cs_fashion</span><span style=\"color: #008000; text-decoration-color: #008000\">                 |</span>\n",
              "<span style=\"color: #008000; text-decoration-color: #008000\">✓ | ⏱: </span><span style=\"color: #008000; text-decoration-color: #008000; font-weight: bold\">7.</span><span style=\"color: #008000; text-decoration-color: #008000\">10s </span>\n",
              "</pre>\n"
            ]
          },
          "metadata": {}
        },
        {
          "output_type": "display_data",
          "data": {
            "text/plain": [
              "\u001b[1;32m[\u001b[0m\u001b[32mSCRAPE\u001b[0m\u001b[1;32m]\u001b[0m\u001b[32m.. ◆ \u001b[0m\u001b[4;32mhttps://www.amazon.com/amazon-fashion/b/?\u001b[0m\u001b[4;32mie\u001b[0m\u001b[4;32m=\u001b[0m\u001b[4;32mUTF8\u001b[0m\u001b[4;32m&\u001b[0m\u001b[4;32mnode\u001b[0m\u001b[4;32m=\u001b[0m\u001b[4;32m7141123011\u001b[0m\u001b[4;32m&\u001b[0m\u001b[4;32mref_\u001b[0m\u001b[4;32m=\u001b[0m\u001b[4;32mnav_cs_fashion\u001b[0m\u001b[32m                 |\u001b[0m\n",
              "\u001b[32m✓\u001b[0m\u001b[32m | ⏱: \u001b[0m\u001b[1;32m1.\u001b[0m\u001b[32m61s \u001b[0m\n"
            ],
            "text/html": [
              "<pre style=\"white-space:pre;overflow-x:auto;line-height:normal;font-family:Menlo,'DejaVu Sans Mono',consolas,'Courier New',monospace\"><span style=\"color: #008000; text-decoration-color: #008000; font-weight: bold\">[</span><span style=\"color: #008000; text-decoration-color: #008000\">SCRAPE</span><span style=\"color: #008000; text-decoration-color: #008000; font-weight: bold\">]</span><span style=\"color: #008000; text-decoration-color: #008000\">.. ◆ </span><span style=\"color: #008000; text-decoration-color: #008000; text-decoration: underline\">https://www.amazon.com/amazon-fashion/b/?ie=UTF8&amp;node=7141123011&amp;ref_=nav_cs_fashion</span><span style=\"color: #008000; text-decoration-color: #008000\">                 |</span>\n",
              "<span style=\"color: #008000; text-decoration-color: #008000\">✓ | ⏱: </span><span style=\"color: #008000; text-decoration-color: #008000; font-weight: bold\">1.</span><span style=\"color: #008000; text-decoration-color: #008000\">61s </span>\n",
              "</pre>\n"
            ]
          },
          "metadata": {}
        },
        {
          "output_type": "display_data",
          "data": {
            "text/plain": [
              "\u001b[1;32m[\u001b[0m\u001b[32mCOMPLETE\u001b[0m\u001b[1;32m]\u001b[0m\u001b[32m ● \u001b[0m\u001b[4;32mhttps://www.amazon.com/amazon-fashion/b/?\u001b[0m\u001b[4;32mie\u001b[0m\u001b[4;32m=\u001b[0m\u001b[4;32mUTF8\u001b[0m\u001b[4;32m&\u001b[0m\u001b[4;32mnode\u001b[0m\u001b[4;32m=\u001b[0m\u001b[4;32m7141123011\u001b[0m\u001b[4;32m&\u001b[0m\u001b[4;32mref_\u001b[0m\u001b[4;32m=\u001b[0m\u001b[4;32mnav_cs_fashion\u001b[0m\u001b[32m                 |\u001b[0m\n",
              "\u001b[32m✓\u001b[0m\u001b[32m | ⏱: \u001b[0m\u001b[1;32m8.\u001b[0m\u001b[32m74s \u001b[0m\n"
            ],
            "text/html": [
              "<pre style=\"white-space:pre;overflow-x:auto;line-height:normal;font-family:Menlo,'DejaVu Sans Mono',consolas,'Courier New',monospace\"><span style=\"color: #008000; text-decoration-color: #008000; font-weight: bold\">[</span><span style=\"color: #008000; text-decoration-color: #008000\">COMPLETE</span><span style=\"color: #008000; text-decoration-color: #008000; font-weight: bold\">]</span><span style=\"color: #008000; text-decoration-color: #008000\"> ● </span><span style=\"color: #008000; text-decoration-color: #008000; text-decoration: underline\">https://www.amazon.com/amazon-fashion/b/?ie=UTF8&amp;node=7141123011&amp;ref_=nav_cs_fashion</span><span style=\"color: #008000; text-decoration-color: #008000\">                 |</span>\n",
              "<span style=\"color: #008000; text-decoration-color: #008000\">✓ | ⏱: </span><span style=\"color: #008000; text-decoration-color: #008000; font-weight: bold\">8.</span><span style=\"color: #008000; text-decoration-color: #008000\">74s </span>\n",
              "</pre>\n"
            ]
          },
          "metadata": {}
        },
        {
          "output_type": "stream",
          "name": "stdout",
          "text": [
            "Markdown saved to amazon_2025-06-24_03-11-31\n"
          ]
        },
        {
          "output_type": "display_data",
          "data": {
            "text/plain": [
              "\u001b[1;36m[\u001b[0m\u001b[36mINIT\u001b[0m\u001b[1;36m]\u001b[0m\u001b[36m...\u001b[0m\u001b[36m. → Crawl4AI \u001b[0m\u001b[1;36m0.6\u001b[0m\u001b[36m.\u001b[0m\u001b[1;36m3\u001b[0m\u001b[36m \u001b[0m\n"
            ],
            "text/html": [
              "<pre style=\"white-space:pre;overflow-x:auto;line-height:normal;font-family:Menlo,'DejaVu Sans Mono',consolas,'Courier New',monospace\"><span style=\"color: #008080; text-decoration-color: #008080; font-weight: bold\">[</span><span style=\"color: #008080; text-decoration-color: #008080\">INIT</span><span style=\"color: #008080; text-decoration-color: #008080; font-weight: bold\">]</span><span style=\"color: #008080; text-decoration-color: #008080\">.... → Crawl4AI </span><span style=\"color: #008080; text-decoration-color: #008080; font-weight: bold\">0.6</span><span style=\"color: #008080; text-decoration-color: #008080\">.</span><span style=\"color: #008080; text-decoration-color: #008080; font-weight: bold\">3</span><span style=\"color: #008080; text-decoration-color: #008080\"> </span>\n",
              "</pre>\n"
            ]
          },
          "metadata": {}
        },
        {
          "output_type": "display_data",
          "data": {
            "text/plain": [
              "\u001b[1;32m[\u001b[0m\u001b[32mFETCH\u001b[0m\u001b[1;32m]\u001b[0m\u001b[32m...\u001b[0m\u001b[32m ↓ \u001b[0m\u001b[4;32mhttps://www.amazon.com/finds?\u001b[0m\u001b[4;32mref_\u001b[0m\u001b[4;32m=\u001b[0m\u001b[4;32mnav_cs_foundit\u001b[0m\u001b[32m                                                     |\u001b[0m\n",
              "\u001b[32m✓\u001b[0m\u001b[32m | ⏱: \u001b[0m\u001b[1;32m5.\u001b[0m\u001b[32m31s \u001b[0m\n"
            ],
            "text/html": [
              "<pre style=\"white-space:pre;overflow-x:auto;line-height:normal;font-family:Menlo,'DejaVu Sans Mono',consolas,'Courier New',monospace\"><span style=\"color: #008000; text-decoration-color: #008000; font-weight: bold\">[</span><span style=\"color: #008000; text-decoration-color: #008000\">FETCH</span><span style=\"color: #008000; text-decoration-color: #008000; font-weight: bold\">]</span><span style=\"color: #008000; text-decoration-color: #008000\">... ↓ </span><span style=\"color: #008000; text-decoration-color: #008000; text-decoration: underline\">https://www.amazon.com/finds?ref_=nav_cs_foundit</span><span style=\"color: #008000; text-decoration-color: #008000\">                                                     |</span>\n",
              "<span style=\"color: #008000; text-decoration-color: #008000\">✓ | ⏱: </span><span style=\"color: #008000; text-decoration-color: #008000; font-weight: bold\">5.</span><span style=\"color: #008000; text-decoration-color: #008000\">31s </span>\n",
              "</pre>\n"
            ]
          },
          "metadata": {}
        },
        {
          "output_type": "display_data",
          "data": {
            "text/plain": [
              "\u001b[1;32m[\u001b[0m\u001b[32mSCRAPE\u001b[0m\u001b[1;32m]\u001b[0m\u001b[32m.. ◆ \u001b[0m\u001b[4;32mhttps://www.amazon.com/finds?\u001b[0m\u001b[4;32mref_\u001b[0m\u001b[4;32m=\u001b[0m\u001b[4;32mnav_cs_foundit\u001b[0m\u001b[32m                                                     |\u001b[0m\n",
              "\u001b[32m✓\u001b[0m\u001b[32m | ⏱: \u001b[0m\u001b[1;32m0.\u001b[0m\u001b[32m17s \u001b[0m\n"
            ],
            "text/html": [
              "<pre style=\"white-space:pre;overflow-x:auto;line-height:normal;font-family:Menlo,'DejaVu Sans Mono',consolas,'Courier New',monospace\"><span style=\"color: #008000; text-decoration-color: #008000; font-weight: bold\">[</span><span style=\"color: #008000; text-decoration-color: #008000\">SCRAPE</span><span style=\"color: #008000; text-decoration-color: #008000; font-weight: bold\">]</span><span style=\"color: #008000; text-decoration-color: #008000\">.. ◆ </span><span style=\"color: #008000; text-decoration-color: #008000; text-decoration: underline\">https://www.amazon.com/finds?ref_=nav_cs_foundit</span><span style=\"color: #008000; text-decoration-color: #008000\">                                                     |</span>\n",
              "<span style=\"color: #008000; text-decoration-color: #008000\">✓ | ⏱: </span><span style=\"color: #008000; text-decoration-color: #008000; font-weight: bold\">0.</span><span style=\"color: #008000; text-decoration-color: #008000\">17s </span>\n",
              "</pre>\n"
            ]
          },
          "metadata": {}
        },
        {
          "output_type": "display_data",
          "data": {
            "text/plain": [
              "\u001b[1;32m[\u001b[0m\u001b[32mCOMPLETE\u001b[0m\u001b[1;32m]\u001b[0m\u001b[32m ● \u001b[0m\u001b[4;32mhttps://www.amazon.com/finds?\u001b[0m\u001b[4;32mref_\u001b[0m\u001b[4;32m=\u001b[0m\u001b[4;32mnav_cs_foundit\u001b[0m\u001b[32m                                                     |\u001b[0m\n",
              "\u001b[32m✓\u001b[0m\u001b[32m | ⏱: \u001b[0m\u001b[1;32m5.\u001b[0m\u001b[32m50s \u001b[0m\n"
            ],
            "text/html": [
              "<pre style=\"white-space:pre;overflow-x:auto;line-height:normal;font-family:Menlo,'DejaVu Sans Mono',consolas,'Courier New',monospace\"><span style=\"color: #008000; text-decoration-color: #008000; font-weight: bold\">[</span><span style=\"color: #008000; text-decoration-color: #008000\">COMPLETE</span><span style=\"color: #008000; text-decoration-color: #008000; font-weight: bold\">]</span><span style=\"color: #008000; text-decoration-color: #008000\"> ● </span><span style=\"color: #008000; text-decoration-color: #008000; text-decoration: underline\">https://www.amazon.com/finds?ref_=nav_cs_foundit</span><span style=\"color: #008000; text-decoration-color: #008000\">                                                     |</span>\n",
              "<span style=\"color: #008000; text-decoration-color: #008000\">✓ | ⏱: </span><span style=\"color: #008000; text-decoration-color: #008000; font-weight: bold\">5.</span><span style=\"color: #008000; text-decoration-color: #008000\">50s </span>\n",
              "</pre>\n"
            ]
          },
          "metadata": {}
        },
        {
          "output_type": "stream",
          "name": "stdout",
          "text": [
            "Markdown saved to amazon_2025-06-24_03-11-39\n"
          ]
        },
        {
          "output_type": "display_data",
          "data": {
            "text/plain": [
              "\u001b[1;36m[\u001b[0m\u001b[36mINIT\u001b[0m\u001b[1;36m]\u001b[0m\u001b[36m...\u001b[0m\u001b[36m. → Crawl4AI \u001b[0m\u001b[1;36m0.6\u001b[0m\u001b[36m.\u001b[0m\u001b[1;36m3\u001b[0m\u001b[36m \u001b[0m\n"
            ],
            "text/html": [
              "<pre style=\"white-space:pre;overflow-x:auto;line-height:normal;font-family:Menlo,'DejaVu Sans Mono',consolas,'Courier New',monospace\"><span style=\"color: #008080; text-decoration-color: #008080; font-weight: bold\">[</span><span style=\"color: #008080; text-decoration-color: #008080\">INIT</span><span style=\"color: #008080; text-decoration-color: #008080; font-weight: bold\">]</span><span style=\"color: #008080; text-decoration-color: #008080\">.... → Crawl4AI </span><span style=\"color: #008080; text-decoration-color: #008080; font-weight: bold\">0.6</span><span style=\"color: #008080; text-decoration-color: #008080\">.</span><span style=\"color: #008080; text-decoration-color: #008080; font-weight: bold\">3</span><span style=\"color: #008080; text-decoration-color: #008080\"> </span>\n",
              "</pre>\n"
            ]
          },
          "metadata": {}
        },
        {
          "output_type": "display_data",
          "data": {
            "text/plain": [
              "\u001b[1;32m[\u001b[0m\u001b[32mFETCH\u001b[0m\u001b[1;32m]\u001b[0m\u001b[32m...\u001b[0m\u001b[32m ↓ \u001b[0m\u001b[4;32mhttps://www.amazon.com/toys/b/?\u001b[0m\u001b[4;32mie\u001b[0m\u001b[4;32m=\u001b[0m\u001b[4;32mUTF8\u001b[0m\u001b[4;32m&\u001b[0m\u001b[4;32mnode\u001b[0m\u001b[4;32m=\u001b[0m\u001b[4;32m165793011\u001b[0m\u001b[4;32m&\u001b[0m\u001b[4;32mref_\u001b[0m\u001b[4;32m=\u001b[0m\u001b[4;32mnav_cs_toys\u001b[0m\u001b[32m                               |\u001b[0m\n",
              "\u001b[32m✓\u001b[0m\u001b[32m | ⏱: \u001b[0m\u001b[1;32m8.\u001b[0m\u001b[32m71s \u001b[0m\n"
            ],
            "text/html": [
              "<pre style=\"white-space:pre;overflow-x:auto;line-height:normal;font-family:Menlo,'DejaVu Sans Mono',consolas,'Courier New',monospace\"><span style=\"color: #008000; text-decoration-color: #008000; font-weight: bold\">[</span><span style=\"color: #008000; text-decoration-color: #008000\">FETCH</span><span style=\"color: #008000; text-decoration-color: #008000; font-weight: bold\">]</span><span style=\"color: #008000; text-decoration-color: #008000\">... ↓ </span><span style=\"color: #008000; text-decoration-color: #008000; text-decoration: underline\">https://www.amazon.com/toys/b/?ie=UTF8&amp;node=165793011&amp;ref_=nav_cs_toys</span><span style=\"color: #008000; text-decoration-color: #008000\">                               |</span>\n",
              "<span style=\"color: #008000; text-decoration-color: #008000\">✓ | ⏱: </span><span style=\"color: #008000; text-decoration-color: #008000; font-weight: bold\">8.</span><span style=\"color: #008000; text-decoration-color: #008000\">71s </span>\n",
              "</pre>\n"
            ]
          },
          "metadata": {}
        },
        {
          "output_type": "display_data",
          "data": {
            "text/plain": [
              "\u001b[1;32m[\u001b[0m\u001b[32mSCRAPE\u001b[0m\u001b[1;32m]\u001b[0m\u001b[32m.. ◆ \u001b[0m\u001b[4;32mhttps://www.amazon.com/toys/b/?\u001b[0m\u001b[4;32mie\u001b[0m\u001b[4;32m=\u001b[0m\u001b[4;32mUTF8\u001b[0m\u001b[4;32m&\u001b[0m\u001b[4;32mnode\u001b[0m\u001b[4;32m=\u001b[0m\u001b[4;32m165793011\u001b[0m\u001b[4;32m&\u001b[0m\u001b[4;32mref_\u001b[0m\u001b[4;32m=\u001b[0m\u001b[4;32mnav_cs_toys\u001b[0m\u001b[32m                               |\u001b[0m\n",
              "\u001b[32m✓\u001b[0m\u001b[32m | ⏱: \u001b[0m\u001b[1;32m1.\u001b[0m\u001b[32m17s \u001b[0m\n"
            ],
            "text/html": [
              "<pre style=\"white-space:pre;overflow-x:auto;line-height:normal;font-family:Menlo,'DejaVu Sans Mono',consolas,'Courier New',monospace\"><span style=\"color: #008000; text-decoration-color: #008000; font-weight: bold\">[</span><span style=\"color: #008000; text-decoration-color: #008000\">SCRAPE</span><span style=\"color: #008000; text-decoration-color: #008000; font-weight: bold\">]</span><span style=\"color: #008000; text-decoration-color: #008000\">.. ◆ </span><span style=\"color: #008000; text-decoration-color: #008000; text-decoration: underline\">https://www.amazon.com/toys/b/?ie=UTF8&amp;node=165793011&amp;ref_=nav_cs_toys</span><span style=\"color: #008000; text-decoration-color: #008000\">                               |</span>\n",
              "<span style=\"color: #008000; text-decoration-color: #008000\">✓ | ⏱: </span><span style=\"color: #008000; text-decoration-color: #008000; font-weight: bold\">1.</span><span style=\"color: #008000; text-decoration-color: #008000\">17s </span>\n",
              "</pre>\n"
            ]
          },
          "metadata": {}
        },
        {
          "output_type": "display_data",
          "data": {
            "text/plain": [
              "\u001b[1;32m[\u001b[0m\u001b[32mCOMPLETE\u001b[0m\u001b[1;32m]\u001b[0m\u001b[32m ● \u001b[0m\u001b[4;32mhttps://www.amazon.com/toys/b/?\u001b[0m\u001b[4;32mie\u001b[0m\u001b[4;32m=\u001b[0m\u001b[4;32mUTF8\u001b[0m\u001b[4;32m&\u001b[0m\u001b[4;32mnode\u001b[0m\u001b[4;32m=\u001b[0m\u001b[4;32m165793011\u001b[0m\u001b[4;32m&\u001b[0m\u001b[4;32mref_\u001b[0m\u001b[4;32m=\u001b[0m\u001b[4;32mnav_cs_toys\u001b[0m\u001b[32m                               |\u001b[0m\n",
              "\u001b[32m✓\u001b[0m\u001b[32m | ⏱: \u001b[0m\u001b[1;32m9.\u001b[0m\u001b[32m89s \u001b[0m\n"
            ],
            "text/html": [
              "<pre style=\"white-space:pre;overflow-x:auto;line-height:normal;font-family:Menlo,'DejaVu Sans Mono',consolas,'Courier New',monospace\"><span style=\"color: #008000; text-decoration-color: #008000; font-weight: bold\">[</span><span style=\"color: #008000; text-decoration-color: #008000\">COMPLETE</span><span style=\"color: #008000; text-decoration-color: #008000; font-weight: bold\">]</span><span style=\"color: #008000; text-decoration-color: #008000\"> ● </span><span style=\"color: #008000; text-decoration-color: #008000; text-decoration: underline\">https://www.amazon.com/toys/b/?ie=UTF8&amp;node=165793011&amp;ref_=nav_cs_toys</span><span style=\"color: #008000; text-decoration-color: #008000\">                               |</span>\n",
              "<span style=\"color: #008000; text-decoration-color: #008000\">✓ | ⏱: </span><span style=\"color: #008000; text-decoration-color: #008000; font-weight: bold\">9.</span><span style=\"color: #008000; text-decoration-color: #008000\">89s </span>\n",
              "</pre>\n"
            ]
          },
          "metadata": {}
        },
        {
          "output_type": "stream",
          "name": "stdout",
          "text": [
            "Markdown saved to amazon_2025-06-24_03-11-50\n"
          ]
        },
        {
          "output_type": "display_data",
          "data": {
            "text/plain": [
              "\u001b[1;36m[\u001b[0m\u001b[36mINIT\u001b[0m\u001b[1;36m]\u001b[0m\u001b[36m...\u001b[0m\u001b[36m. → Crawl4AI \u001b[0m\u001b[1;36m0.6\u001b[0m\u001b[36m.\u001b[0m\u001b[1;36m3\u001b[0m\u001b[36m \u001b[0m\n"
            ],
            "text/html": [
              "<pre style=\"white-space:pre;overflow-x:auto;line-height:normal;font-family:Menlo,'DejaVu Sans Mono',consolas,'Courier New',monospace\"><span style=\"color: #008080; text-decoration-color: #008080; font-weight: bold\">[</span><span style=\"color: #008080; text-decoration-color: #008080\">INIT</span><span style=\"color: #008080; text-decoration-color: #008080; font-weight: bold\">]</span><span style=\"color: #008080; text-decoration-color: #008080\">.... → Crawl4AI </span><span style=\"color: #008080; text-decoration-color: #008080; font-weight: bold\">0.6</span><span style=\"color: #008080; text-decoration-color: #008080\">.</span><span style=\"color: #008080; text-decoration-color: #008080; font-weight: bold\">3</span><span style=\"color: #008080; text-decoration-color: #008080\"> </span>\n",
              "</pre>\n"
            ]
          },
          "metadata": {}
        },
        {
          "output_type": "display_data",
          "data": {
            "text/plain": [
              "\u001b[1;32m[\u001b[0m\u001b[32mFETCH\u001b[0m\u001b[1;32m]\u001b[0m\u001b[32m...\u001b[0m\u001b[32m ↓ \u001b[0m\u001b[4;32mhttps://www.amazon.com/Beauty-Makeup-Skin-Hair-Products/b/?\u001b[0m\u001b[4;32mie\u001b[0m\u001b[4;32m=\u001b[0m\u001b[4;32mUTF8\u001b[0m\u001b[4;32m&\u001b[0m\u001b[4;32mnode\u001b[0m\u001b[4;32m=\u001b[0m\u001b[4;32m3760911\u001b[0m\u001b[4;32m&\u001b[0m\u001b[4;32mref_\u001b[0m\u001b[4;32m=\u001b[0m\u001b[4;32mnav_cs_beauty\u001b[0m\u001b[32m   |\u001b[0m\n",
              "\u001b[32m✓\u001b[0m\u001b[32m | ⏱: \u001b[0m\u001b[1;32m5.\u001b[0m\u001b[32m91s \u001b[0m\n"
            ],
            "text/html": [
              "<pre style=\"white-space:pre;overflow-x:auto;line-height:normal;font-family:Menlo,'DejaVu Sans Mono',consolas,'Courier New',monospace\"><span style=\"color: #008000; text-decoration-color: #008000; font-weight: bold\">[</span><span style=\"color: #008000; text-decoration-color: #008000\">FETCH</span><span style=\"color: #008000; text-decoration-color: #008000; font-weight: bold\">]</span><span style=\"color: #008000; text-decoration-color: #008000\">... ↓ </span><span style=\"color: #008000; text-decoration-color: #008000; text-decoration: underline\">https://www.amazon.com/Beauty-Makeup-Skin-Hair-Products/b/?ie=UTF8&amp;node=3760911&amp;ref_=nav_cs_beauty</span><span style=\"color: #008000; text-decoration-color: #008000\">   |</span>\n",
              "<span style=\"color: #008000; text-decoration-color: #008000\">✓ | ⏱: </span><span style=\"color: #008000; text-decoration-color: #008000; font-weight: bold\">5.</span><span style=\"color: #008000; text-decoration-color: #008000\">91s </span>\n",
              "</pre>\n"
            ]
          },
          "metadata": {}
        },
        {
          "output_type": "display_data",
          "data": {
            "text/plain": [
              "\u001b[1;32m[\u001b[0m\u001b[32mSCRAPE\u001b[0m\u001b[1;32m]\u001b[0m\u001b[32m.. ◆ \u001b[0m\u001b[4;32mhttps://www.amazon.com/Beauty-Makeup-Skin-Hair-Products/b/?\u001b[0m\u001b[4;32mie\u001b[0m\u001b[4;32m=\u001b[0m\u001b[4;32mUTF8\u001b[0m\u001b[4;32m&\u001b[0m\u001b[4;32mnode\u001b[0m\u001b[4;32m=\u001b[0m\u001b[4;32m3760911\u001b[0m\u001b[4;32m&\u001b[0m\u001b[4;32mref_\u001b[0m\u001b[4;32m=\u001b[0m\u001b[4;32mnav_cs_beauty\u001b[0m\u001b[32m   |\u001b[0m\n",
              "\u001b[32m✓\u001b[0m\u001b[32m | ⏱: \u001b[0m\u001b[1;32m0.\u001b[0m\u001b[32m92s \u001b[0m\n"
            ],
            "text/html": [
              "<pre style=\"white-space:pre;overflow-x:auto;line-height:normal;font-family:Menlo,'DejaVu Sans Mono',consolas,'Courier New',monospace\"><span style=\"color: #008000; text-decoration-color: #008000; font-weight: bold\">[</span><span style=\"color: #008000; text-decoration-color: #008000\">SCRAPE</span><span style=\"color: #008000; text-decoration-color: #008000; font-weight: bold\">]</span><span style=\"color: #008000; text-decoration-color: #008000\">.. ◆ </span><span style=\"color: #008000; text-decoration-color: #008000; text-decoration: underline\">https://www.amazon.com/Beauty-Makeup-Skin-Hair-Products/b/?ie=UTF8&amp;node=3760911&amp;ref_=nav_cs_beauty</span><span style=\"color: #008000; text-decoration-color: #008000\">   |</span>\n",
              "<span style=\"color: #008000; text-decoration-color: #008000\">✓ | ⏱: </span><span style=\"color: #008000; text-decoration-color: #008000; font-weight: bold\">0.</span><span style=\"color: #008000; text-decoration-color: #008000\">92s </span>\n",
              "</pre>\n"
            ]
          },
          "metadata": {}
        },
        {
          "output_type": "display_data",
          "data": {
            "text/plain": [
              "\u001b[1;32m[\u001b[0m\u001b[32mCOMPLETE\u001b[0m\u001b[1;32m]\u001b[0m\u001b[32m ● \u001b[0m\u001b[4;32mhttps://www.amazon.com/Beauty-Makeup-Skin-Hair-Products/b/?\u001b[0m\u001b[4;32mie\u001b[0m\u001b[4;32m=\u001b[0m\u001b[4;32mUTF8\u001b[0m\u001b[4;32m&\u001b[0m\u001b[4;32mnode\u001b[0m\u001b[4;32m=\u001b[0m\u001b[4;32m3760911\u001b[0m\u001b[4;32m&\u001b[0m\u001b[4;32mref_\u001b[0m\u001b[4;32m=\u001b[0m\u001b[4;32mnav_cs_beauty\u001b[0m\u001b[32m   |\u001b[0m\n",
              "\u001b[32m✓\u001b[0m\u001b[32m | ⏱: \u001b[0m\u001b[1;32m6.\u001b[0m\u001b[32m85s \u001b[0m\n"
            ],
            "text/html": [
              "<pre style=\"white-space:pre;overflow-x:auto;line-height:normal;font-family:Menlo,'DejaVu Sans Mono',consolas,'Courier New',monospace\"><span style=\"color: #008000; text-decoration-color: #008000; font-weight: bold\">[</span><span style=\"color: #008000; text-decoration-color: #008000\">COMPLETE</span><span style=\"color: #008000; text-decoration-color: #008000; font-weight: bold\">]</span><span style=\"color: #008000; text-decoration-color: #008000\"> ● </span><span style=\"color: #008000; text-decoration-color: #008000; text-decoration: underline\">https://www.amazon.com/Beauty-Makeup-Skin-Hair-Products/b/?ie=UTF8&amp;node=3760911&amp;ref_=nav_cs_beauty</span><span style=\"color: #008000; text-decoration-color: #008000\">   |</span>\n",
              "<span style=\"color: #008000; text-decoration-color: #008000\">✓ | ⏱: </span><span style=\"color: #008000; text-decoration-color: #008000; font-weight: bold\">6.</span><span style=\"color: #008000; text-decoration-color: #008000\">85s </span>\n",
              "</pre>\n"
            ]
          },
          "metadata": {}
        },
        {
          "output_type": "stream",
          "name": "stdout",
          "text": [
            "Markdown saved to amazon_2025-06-24_03-12-00\n"
          ]
        },
        {
          "output_type": "display_data",
          "data": {
            "text/plain": [
              "\u001b[1;36m[\u001b[0m\u001b[36mINIT\u001b[0m\u001b[1;36m]\u001b[0m\u001b[36m...\u001b[0m\u001b[36m. → Crawl4AI \u001b[0m\u001b[1;36m0.6\u001b[0m\u001b[36m.\u001b[0m\u001b[1;36m3\u001b[0m\u001b[36m \u001b[0m\n"
            ],
            "text/html": [
              "<pre style=\"white-space:pre;overflow-x:auto;line-height:normal;font-family:Menlo,'DejaVu Sans Mono',consolas,'Courier New',monospace\"><span style=\"color: #008080; text-decoration-color: #008080; font-weight: bold\">[</span><span style=\"color: #008080; text-decoration-color: #008080\">INIT</span><span style=\"color: #008080; text-decoration-color: #008080; font-weight: bold\">]</span><span style=\"color: #008080; text-decoration-color: #008080\">.... → Crawl4AI </span><span style=\"color: #008080; text-decoration-color: #008080; font-weight: bold\">0.6</span><span style=\"color: #008080; text-decoration-color: #008080\">.</span><span style=\"color: #008080; text-decoration-color: #008080; font-weight: bold\">3</span><span style=\"color: #008080; text-decoration-color: #008080\"> </span>\n",
              "</pre>\n"
            ]
          },
          "metadata": {}
        },
        {
          "output_type": "display_data",
          "data": {
            "text/plain": [
              "\u001b[1;32m[\u001b[0m\u001b[32mFETCH\u001b[0m\u001b[1;32m]\u001b[0m\u001b[32m...\u001b[0m\u001b[32m ↓ \u001b[0m\u001b[4;32mhttps://www.amazon.com/automotive-auto-truck-rep.../b/?\u001b[0m\u001b[4;32mie\u001b[0m\u001b[4;32m=\u001b[0m\u001b[4;32mUTF8\u001b[0m\u001b[4;32m&\u001b[0m\u001b[4;32mnode\u001b[0m\u001b[4;32m=\u001b[0m\u001b[4;32m15684181\u001b[0m\u001b[4;32m&\u001b[0m\u001b[4;32mref_\u001b[0m\u001b[4;32m=\u001b[0m\u001b[4;32mnav_cs_automotive\u001b[0m\u001b[32m  |\u001b[0m\n",
              "\u001b[32m✓\u001b[0m\u001b[32m | ⏱: \u001b[0m\u001b[1;32m5.\u001b[0m\u001b[32m50s \u001b[0m\n"
            ],
            "text/html": [
              "<pre style=\"white-space:pre;overflow-x:auto;line-height:normal;font-family:Menlo,'DejaVu Sans Mono',consolas,'Courier New',monospace\"><span style=\"color: #008000; text-decoration-color: #008000; font-weight: bold\">[</span><span style=\"color: #008000; text-decoration-color: #008000\">FETCH</span><span style=\"color: #008000; text-decoration-color: #008000; font-weight: bold\">]</span><span style=\"color: #008000; text-decoration-color: #008000\">... ↓ </span><span style=\"color: #008000; text-decoration-color: #008000; text-decoration: underline\">https://www.amazon.com/automotive-auto-truck-rep.../b/?ie=UTF8&amp;node=15684181&amp;ref_=nav_cs_automotive</span><span style=\"color: #008000; text-decoration-color: #008000\">  |</span>\n",
              "<span style=\"color: #008000; text-decoration-color: #008000\">✓ | ⏱: </span><span style=\"color: #008000; text-decoration-color: #008000; font-weight: bold\">5.</span><span style=\"color: #008000; text-decoration-color: #008000\">50s </span>\n",
              "</pre>\n"
            ]
          },
          "metadata": {}
        },
        {
          "output_type": "display_data",
          "data": {
            "text/plain": [
              "\u001b[1;32m[\u001b[0m\u001b[32mSCRAPE\u001b[0m\u001b[1;32m]\u001b[0m\u001b[32m.. ◆ \u001b[0m\u001b[4;32mhttps://www.amazon.com/automotive-auto-truck-rep.../b/?\u001b[0m\u001b[4;32mie\u001b[0m\u001b[4;32m=\u001b[0m\u001b[4;32mUTF8\u001b[0m\u001b[4;32m&\u001b[0m\u001b[4;32mnode\u001b[0m\u001b[4;32m=\u001b[0m\u001b[4;32m15684181\u001b[0m\u001b[4;32m&\u001b[0m\u001b[4;32mref_\u001b[0m\u001b[4;32m=\u001b[0m\u001b[4;32mnav_cs_automotive\u001b[0m\u001b[32m  |\u001b[0m\n",
              "\u001b[32m✓\u001b[0m\u001b[32m | ⏱: \u001b[0m\u001b[1;33m1.\u001b[0m\u001b[33m17\u001b[0m\u001b[32ms \u001b[0m\n"
            ],
            "text/html": [
              "<pre style=\"white-space:pre;overflow-x:auto;line-height:normal;font-family:Menlo,'DejaVu Sans Mono',consolas,'Courier New',monospace\"><span style=\"color: #008000; text-decoration-color: #008000; font-weight: bold\">[</span><span style=\"color: #008000; text-decoration-color: #008000\">SCRAPE</span><span style=\"color: #008000; text-decoration-color: #008000; font-weight: bold\">]</span><span style=\"color: #008000; text-decoration-color: #008000\">.. ◆ </span><span style=\"color: #008000; text-decoration-color: #008000; text-decoration: underline\">https://www.amazon.com/automotive-auto-truck-rep.../b/?ie=UTF8&amp;node=15684181&amp;ref_=nav_cs_automotive</span><span style=\"color: #008000; text-decoration-color: #008000\">  |</span>\n",
              "<span style=\"color: #008000; text-decoration-color: #008000\">✓ | ⏱: </span><span style=\"color: #808000; text-decoration-color: #808000; font-weight: bold\">1.</span><span style=\"color: #808000; text-decoration-color: #808000\">17</span><span style=\"color: #008000; text-decoration-color: #008000\">s </span>\n",
              "</pre>\n"
            ]
          },
          "metadata": {}
        },
        {
          "output_type": "display_data",
          "data": {
            "text/plain": [
              "\u001b[1;32m[\u001b[0m\u001b[32mCOMPLETE\u001b[0m\u001b[1;32m]\u001b[0m\u001b[32m ● \u001b[0m\u001b[4;32mhttps://www.amazon.com/automotive-auto-truck-rep.../b/?\u001b[0m\u001b[4;32mie\u001b[0m\u001b[4;32m=\u001b[0m\u001b[4;32mUTF8\u001b[0m\u001b[4;32m&\u001b[0m\u001b[4;32mnode\u001b[0m\u001b[4;32m=\u001b[0m\u001b[4;32m15684181\u001b[0m\u001b[4;32m&\u001b[0m\u001b[4;32mref_\u001b[0m\u001b[4;32m=\u001b[0m\u001b[4;32mnav_cs_automotive\u001b[0m\u001b[32m  |\u001b[0m\n",
              "\u001b[32m✓\u001b[0m\u001b[32m | ⏱: \u001b[0m\u001b[1;32m6.\u001b[0m\u001b[32m69s \u001b[0m\n"
            ],
            "text/html": [
              "<pre style=\"white-space:pre;overflow-x:auto;line-height:normal;font-family:Menlo,'DejaVu Sans Mono',consolas,'Courier New',monospace\"><span style=\"color: #008000; text-decoration-color: #008000; font-weight: bold\">[</span><span style=\"color: #008000; text-decoration-color: #008000\">COMPLETE</span><span style=\"color: #008000; text-decoration-color: #008000; font-weight: bold\">]</span><span style=\"color: #008000; text-decoration-color: #008000\"> ● </span><span style=\"color: #008000; text-decoration-color: #008000; text-decoration: underline\">https://www.amazon.com/automotive-auto-truck-rep.../b/?ie=UTF8&amp;node=15684181&amp;ref_=nav_cs_automotive</span><span style=\"color: #008000; text-decoration-color: #008000\">  |</span>\n",
              "<span style=\"color: #008000; text-decoration-color: #008000\">✓ | ⏱: </span><span style=\"color: #008000; text-decoration-color: #008000; font-weight: bold\">6.</span><span style=\"color: #008000; text-decoration-color: #008000\">69s </span>\n",
              "</pre>\n"
            ]
          },
          "metadata": {}
        },
        {
          "output_type": "stream",
          "name": "stdout",
          "text": [
            "Markdown saved to amazon_2025-06-24_03-12-07\n"
          ]
        },
        {
          "output_type": "display_data",
          "data": {
            "text/plain": [
              "\u001b[1;36m[\u001b[0m\u001b[36mINIT\u001b[0m\u001b[1;36m]\u001b[0m\u001b[36m...\u001b[0m\u001b[36m. → Crawl4AI \u001b[0m\u001b[1;36m0.6\u001b[0m\u001b[36m.\u001b[0m\u001b[1;36m3\u001b[0m\u001b[36m \u001b[0m\n"
            ],
            "text/html": [
              "<pre style=\"white-space:pre;overflow-x:auto;line-height:normal;font-family:Menlo,'DejaVu Sans Mono',consolas,'Courier New',monospace\"><span style=\"color: #008080; text-decoration-color: #008080; font-weight: bold\">[</span><span style=\"color: #008080; text-decoration-color: #008080\">INIT</span><span style=\"color: #008080; text-decoration-color: #008080; font-weight: bold\">]</span><span style=\"color: #008080; text-decoration-color: #008080\">.... → Crawl4AI </span><span style=\"color: #008080; text-decoration-color: #008080; font-weight: bold\">0.6</span><span style=\"color: #008080; text-decoration-color: #008080\">.</span><span style=\"color: #008080; text-decoration-color: #008080; font-weight: bold\">3</span><span style=\"color: #008080; text-decoration-color: #008080\"> </span>\n",
              "</pre>\n"
            ]
          },
          "metadata": {}
        },
        {
          "output_type": "display_data",
          "data": {
            "text/plain": [
              "\u001b[1;32m[\u001b[0m\u001b[32mFETCH\u001b[0m\u001b[1;32m]\u001b[0m\u001b[32m...\u001b[0m\u001b[32m ↓ \u001b[0m\u001b[4;32mhttps://www.amazon.com/Tools-and-Home-Improvement/b/?\u001b[0m\u001b[4;32mie\u001b[0m\u001b[4;32m=\u001b[0m\u001b[4;32mUTF8\u001b[0m\u001b[4;32m&\u001b[0m\u001b[4;32mnode\u001b[0m\u001b[4;32m=\u001b[0m\u001b[4;32m228013\u001b[0m\u001b[4;32m&\u001b[0m\u001b[4;32mref_\u001b[0m\u001b[4;32m=\u001b[0m\u001b[4;32mnav_cs_hi\u001b[0m\u001b[32m              |\u001b[0m\n",
              "\u001b[32m✓\u001b[0m\u001b[32m | ⏱: \u001b[0m\u001b[1;32m3.\u001b[0m\u001b[32m03s \u001b[0m\n"
            ],
            "text/html": [
              "<pre style=\"white-space:pre;overflow-x:auto;line-height:normal;font-family:Menlo,'DejaVu Sans Mono',consolas,'Courier New',monospace\"><span style=\"color: #008000; text-decoration-color: #008000; font-weight: bold\">[</span><span style=\"color: #008000; text-decoration-color: #008000\">FETCH</span><span style=\"color: #008000; text-decoration-color: #008000; font-weight: bold\">]</span><span style=\"color: #008000; text-decoration-color: #008000\">... ↓ </span><span style=\"color: #008000; text-decoration-color: #008000; text-decoration: underline\">https://www.amazon.com/Tools-and-Home-Improvement/b/?ie=UTF8&amp;node=228013&amp;ref_=nav_cs_hi</span><span style=\"color: #008000; text-decoration-color: #008000\">              |</span>\n",
              "<span style=\"color: #008000; text-decoration-color: #008000\">✓ | ⏱: </span><span style=\"color: #008000; text-decoration-color: #008000; font-weight: bold\">3.</span><span style=\"color: #008000; text-decoration-color: #008000\">03s </span>\n",
              "</pre>\n"
            ]
          },
          "metadata": {}
        },
        {
          "output_type": "display_data",
          "data": {
            "text/plain": [
              "\u001b[1;32m[\u001b[0m\u001b[32mSCRAPE\u001b[0m\u001b[1;32m]\u001b[0m\u001b[32m.. ◆ \u001b[0m\u001b[4;32mhttps://www.amazon.com/Tools-and-Home-Improvement/b/?\u001b[0m\u001b[4;32mie\u001b[0m\u001b[4;32m=\u001b[0m\u001b[4;32mUTF8\u001b[0m\u001b[4;32m&\u001b[0m\u001b[4;32mnode\u001b[0m\u001b[4;32m=\u001b[0m\u001b[4;32m228013\u001b[0m\u001b[4;32m&\u001b[0m\u001b[4;32mref_\u001b[0m\u001b[4;32m=\u001b[0m\u001b[4;32mnav_cs_hi\u001b[0m\u001b[32m              |\u001b[0m\n",
              "\u001b[32m✓\u001b[0m\u001b[32m | ⏱: \u001b[0m\u001b[1;32m0.\u001b[0m\u001b[32m52s \u001b[0m\n"
            ],
            "text/html": [
              "<pre style=\"white-space:pre;overflow-x:auto;line-height:normal;font-family:Menlo,'DejaVu Sans Mono',consolas,'Courier New',monospace\"><span style=\"color: #008000; text-decoration-color: #008000; font-weight: bold\">[</span><span style=\"color: #008000; text-decoration-color: #008000\">SCRAPE</span><span style=\"color: #008000; text-decoration-color: #008000; font-weight: bold\">]</span><span style=\"color: #008000; text-decoration-color: #008000\">.. ◆ </span><span style=\"color: #008000; text-decoration-color: #008000; text-decoration: underline\">https://www.amazon.com/Tools-and-Home-Improvement/b/?ie=UTF8&amp;node=228013&amp;ref_=nav_cs_hi</span><span style=\"color: #008000; text-decoration-color: #008000\">              |</span>\n",
              "<span style=\"color: #008000; text-decoration-color: #008000\">✓ | ⏱: </span><span style=\"color: #008000; text-decoration-color: #008000; font-weight: bold\">0.</span><span style=\"color: #008000; text-decoration-color: #008000\">52s </span>\n",
              "</pre>\n"
            ]
          },
          "metadata": {}
        },
        {
          "output_type": "display_data",
          "data": {
            "text/plain": [
              "\u001b[1;32m[\u001b[0m\u001b[32mCOMPLETE\u001b[0m\u001b[1;32m]\u001b[0m\u001b[32m ● \u001b[0m\u001b[4;32mhttps://www.amazon.com/Tools-and-Home-Improvement/b/?\u001b[0m\u001b[4;32mie\u001b[0m\u001b[4;32m=\u001b[0m\u001b[4;32mUTF8\u001b[0m\u001b[4;32m&\u001b[0m\u001b[4;32mnode\u001b[0m\u001b[4;32m=\u001b[0m\u001b[4;32m228013\u001b[0m\u001b[4;32m&\u001b[0m\u001b[4;32mref_\u001b[0m\u001b[4;32m=\u001b[0m\u001b[4;32mnav_cs_hi\u001b[0m\u001b[32m              |\u001b[0m\n",
              "\u001b[32m✓\u001b[0m\u001b[32m | ⏱: \u001b[0m\u001b[1;32m3.\u001b[0m\u001b[32m57s \u001b[0m\n"
            ],
            "text/html": [
              "<pre style=\"white-space:pre;overflow-x:auto;line-height:normal;font-family:Menlo,'DejaVu Sans Mono',consolas,'Courier New',monospace\"><span style=\"color: #008000; text-decoration-color: #008000; font-weight: bold\">[</span><span style=\"color: #008000; text-decoration-color: #008000\">COMPLETE</span><span style=\"color: #008000; text-decoration-color: #008000; font-weight: bold\">]</span><span style=\"color: #008000; text-decoration-color: #008000\"> ● </span><span style=\"color: #008000; text-decoration-color: #008000; text-decoration: underline\">https://www.amazon.com/Tools-and-Home-Improvement/b/?ie=UTF8&amp;node=228013&amp;ref_=nav_cs_hi</span><span style=\"color: #008000; text-decoration-color: #008000\">              |</span>\n",
              "<span style=\"color: #008000; text-decoration-color: #008000\">✓ | ⏱: </span><span style=\"color: #008000; text-decoration-color: #008000; font-weight: bold\">3.</span><span style=\"color: #008000; text-decoration-color: #008000\">57s </span>\n",
              "</pre>\n"
            ]
          },
          "metadata": {}
        },
        {
          "output_type": "stream",
          "name": "stdout",
          "text": [
            "Markdown saved to amazon_2025-06-24_03-12-12\n"
          ]
        },
        {
          "output_type": "display_data",
          "data": {
            "text/plain": [
              "\u001b[1;36m[\u001b[0m\u001b[36mINIT\u001b[0m\u001b[1;36m]\u001b[0m\u001b[36m...\u001b[0m\u001b[36m. → Crawl4AI \u001b[0m\u001b[1;36m0.6\u001b[0m\u001b[36m.\u001b[0m\u001b[1;36m3\u001b[0m\u001b[36m \u001b[0m\n"
            ],
            "text/html": [
              "<pre style=\"white-space:pre;overflow-x:auto;line-height:normal;font-family:Menlo,'DejaVu Sans Mono',consolas,'Courier New',monospace\"><span style=\"color: #008080; text-decoration-color: #008080; font-weight: bold\">[</span><span style=\"color: #008080; text-decoration-color: #008080\">INIT</span><span style=\"color: #008080; text-decoration-color: #008080; font-weight: bold\">]</span><span style=\"color: #008080; text-decoration-color: #008080\">.... → Crawl4AI </span><span style=\"color: #008080; text-decoration-color: #008080; font-weight: bold\">0.6</span><span style=\"color: #008080; text-decoration-color: #008080\">.</span><span style=\"color: #008080; text-decoration-color: #008080; font-weight: bold\">3</span><span style=\"color: #008080; text-decoration-color: #008080\"> </span>\n",
              "</pre>\n"
            ]
          },
          "metadata": {}
        },
        {
          "output_type": "display_data",
          "data": {
            "text/plain": [
              "\u001b[1;32m[\u001b[0m\u001b[32mFETCH\u001b[0m\u001b[1;32m]\u001b[0m\u001b[32m...\u001b[0m\u001b[32m ↓ \u001b[0m\u001b[4;32mhttps://www.amazon.com/computer-pc-hardware-acce...es-add-ons/b/?\u001b[0m\u001b[4;32mie\u001b[0m\u001b[4;32m=\u001b[0m\u001b[4;32mUTF8\u001b[0m\u001b[4;32m&\u001b[0m\u001b[4;32mnode\u001b[0m\u001b[4;32m=\u001b[0m\u001b[4;32m541966\u001b[0m\u001b[4;32m&\u001b[0m\u001b[4;32mref_\u001b[0m\u001b[4;32m=\u001b[0m\u001b[4;32mnav_cs_pc\u001b[0m\u001b[32m  |\u001b[0m\n",
              "\u001b[32m✓\u001b[0m\u001b[32m | ⏱: \u001b[0m\u001b[1;32m5.\u001b[0m\u001b[32m00s \u001b[0m\n"
            ],
            "text/html": [
              "<pre style=\"white-space:pre;overflow-x:auto;line-height:normal;font-family:Menlo,'DejaVu Sans Mono',consolas,'Courier New',monospace\"><span style=\"color: #008000; text-decoration-color: #008000; font-weight: bold\">[</span><span style=\"color: #008000; text-decoration-color: #008000\">FETCH</span><span style=\"color: #008000; text-decoration-color: #008000; font-weight: bold\">]</span><span style=\"color: #008000; text-decoration-color: #008000\">... ↓ </span><span style=\"color: #008000; text-decoration-color: #008000; text-decoration: underline\">https://www.amazon.com/computer-pc-hardware-acce...es-add-ons/b/?ie=UTF8&amp;node=541966&amp;ref_=nav_cs_pc</span><span style=\"color: #008000; text-decoration-color: #008000\">  |</span>\n",
              "<span style=\"color: #008000; text-decoration-color: #008000\">✓ | ⏱: </span><span style=\"color: #008000; text-decoration-color: #008000; font-weight: bold\">5.</span><span style=\"color: #008000; text-decoration-color: #008000\">00s </span>\n",
              "</pre>\n"
            ]
          },
          "metadata": {}
        },
        {
          "output_type": "display_data",
          "data": {
            "text/plain": [
              "\u001b[1;32m[\u001b[0m\u001b[32mSCRAPE\u001b[0m\u001b[1;32m]\u001b[0m\u001b[32m.. ◆ \u001b[0m\u001b[4;32mhttps://www.amazon.com/computer-pc-hardware-acce...es-add-ons/b/?\u001b[0m\u001b[4;32mie\u001b[0m\u001b[4;32m=\u001b[0m\u001b[4;32mUTF8\u001b[0m\u001b[4;32m&\u001b[0m\u001b[4;32mnode\u001b[0m\u001b[4;32m=\u001b[0m\u001b[4;32m541966\u001b[0m\u001b[4;32m&\u001b[0m\u001b[4;32mref_\u001b[0m\u001b[4;32m=\u001b[0m\u001b[4;32mnav_cs_pc\u001b[0m\u001b[32m  |\u001b[0m\n",
              "\u001b[32m✓\u001b[0m\u001b[32m | ⏱: \u001b[0m\u001b[1;33m0.\u001b[0m\u001b[33m63\u001b[0m\u001b[32ms \u001b[0m\n"
            ],
            "text/html": [
              "<pre style=\"white-space:pre;overflow-x:auto;line-height:normal;font-family:Menlo,'DejaVu Sans Mono',consolas,'Courier New',monospace\"><span style=\"color: #008000; text-decoration-color: #008000; font-weight: bold\">[</span><span style=\"color: #008000; text-decoration-color: #008000\">SCRAPE</span><span style=\"color: #008000; text-decoration-color: #008000; font-weight: bold\">]</span><span style=\"color: #008000; text-decoration-color: #008000\">.. ◆ </span><span style=\"color: #008000; text-decoration-color: #008000; text-decoration: underline\">https://www.amazon.com/computer-pc-hardware-acce...es-add-ons/b/?ie=UTF8&amp;node=541966&amp;ref_=nav_cs_pc</span><span style=\"color: #008000; text-decoration-color: #008000\">  |</span>\n",
              "<span style=\"color: #008000; text-decoration-color: #008000\">✓ | ⏱: </span><span style=\"color: #808000; text-decoration-color: #808000; font-weight: bold\">0.</span><span style=\"color: #808000; text-decoration-color: #808000\">63</span><span style=\"color: #008000; text-decoration-color: #008000\">s </span>\n",
              "</pre>\n"
            ]
          },
          "metadata": {}
        },
        {
          "output_type": "display_data",
          "data": {
            "text/plain": [
              "\u001b[1;32m[\u001b[0m\u001b[32mCOMPLETE\u001b[0m\u001b[1;32m]\u001b[0m\u001b[32m ● \u001b[0m\u001b[4;32mhttps://www.amazon.com/computer-pc-hardware-acce...es-add-ons/b/?\u001b[0m\u001b[4;32mie\u001b[0m\u001b[4;32m=\u001b[0m\u001b[4;32mUTF8\u001b[0m\u001b[4;32m&\u001b[0m\u001b[4;32mnode\u001b[0m\u001b[4;32m=\u001b[0m\u001b[4;32m541966\u001b[0m\u001b[4;32m&\u001b[0m\u001b[4;32mref_\u001b[0m\u001b[4;32m=\u001b[0m\u001b[4;32mnav_cs_pc\u001b[0m\u001b[32m  |\u001b[0m\n",
              "\u001b[32m✓\u001b[0m\u001b[32m | ⏱: \u001b[0m\u001b[1;32m5.\u001b[0m\u001b[32m64s \u001b[0m\n"
            ],
            "text/html": [
              "<pre style=\"white-space:pre;overflow-x:auto;line-height:normal;font-family:Menlo,'DejaVu Sans Mono',consolas,'Courier New',monospace\"><span style=\"color: #008000; text-decoration-color: #008000; font-weight: bold\">[</span><span style=\"color: #008000; text-decoration-color: #008000\">COMPLETE</span><span style=\"color: #008000; text-decoration-color: #008000; font-weight: bold\">]</span><span style=\"color: #008000; text-decoration-color: #008000\"> ● </span><span style=\"color: #008000; text-decoration-color: #008000; text-decoration: underline\">https://www.amazon.com/computer-pc-hardware-acce...es-add-ons/b/?ie=UTF8&amp;node=541966&amp;ref_=nav_cs_pc</span><span style=\"color: #008000; text-decoration-color: #008000\">  |</span>\n",
              "<span style=\"color: #008000; text-decoration-color: #008000\">✓ | ⏱: </span><span style=\"color: #008000; text-decoration-color: #008000; font-weight: bold\">5.</span><span style=\"color: #008000; text-decoration-color: #008000\">64s </span>\n",
              "</pre>\n"
            ]
          },
          "metadata": {}
        },
        {
          "output_type": "stream",
          "name": "stdout",
          "text": [
            "Markdown saved to amazon_2025-06-24_03-12-19\n"
          ]
        },
        {
          "output_type": "display_data",
          "data": {
            "text/plain": [
              "\u001b[1;36m[\u001b[0m\u001b[36mINIT\u001b[0m\u001b[1;36m]\u001b[0m\u001b[36m...\u001b[0m\u001b[36m. → Crawl4AI \u001b[0m\u001b[1;36m0.6\u001b[0m\u001b[36m.\u001b[0m\u001b[1;36m3\u001b[0m\u001b[36m \u001b[0m\n"
            ],
            "text/html": [
              "<pre style=\"white-space:pre;overflow-x:auto;line-height:normal;font-family:Menlo,'DejaVu Sans Mono',consolas,'Courier New',monospace\"><span style=\"color: #008080; text-decoration-color: #008080; font-weight: bold\">[</span><span style=\"color: #008080; text-decoration-color: #008080\">INIT</span><span style=\"color: #008080; text-decoration-color: #008080; font-weight: bold\">]</span><span style=\"color: #008080; text-decoration-color: #008080\">.... → Crawl4AI </span><span style=\"color: #008080; text-decoration-color: #008080; font-weight: bold\">0.6</span><span style=\"color: #008080; text-decoration-color: #008080\">.</span><span style=\"color: #008080; text-decoration-color: #008080; font-weight: bold\">3</span><span style=\"color: #008080; text-decoration-color: #008080\"> </span>\n",
              "</pre>\n"
            ]
          },
          "metadata": {}
        },
        {
          "output_type": "display_data",
          "data": {
            "text/plain": [
              "\u001b[1;32m[\u001b[0m\u001b[32mFETCH\u001b[0m\u001b[1;32m]\u001b[0m\u001b[32m...\u001b[0m\u001b[32m ↓ \u001b[0m\u001b[4;32mhttps://www.amazon.com/gcx/Gifts-for-Everyone/gfhz/?\u001b[0m\u001b[4;32mref_\u001b[0m\u001b[4;32m=\u001b[0m\u001b[4;32mnav_cs_giftfinder\u001b[0m\u001b[32m                           |\u001b[0m\n",
              "\u001b[32m✓\u001b[0m\u001b[32m | ⏱: \u001b[0m\u001b[1;32m4.\u001b[0m\u001b[32m38s \u001b[0m\n"
            ],
            "text/html": [
              "<pre style=\"white-space:pre;overflow-x:auto;line-height:normal;font-family:Menlo,'DejaVu Sans Mono',consolas,'Courier New',monospace\"><span style=\"color: #008000; text-decoration-color: #008000; font-weight: bold\">[</span><span style=\"color: #008000; text-decoration-color: #008000\">FETCH</span><span style=\"color: #008000; text-decoration-color: #008000; font-weight: bold\">]</span><span style=\"color: #008000; text-decoration-color: #008000\">... ↓ </span><span style=\"color: #008000; text-decoration-color: #008000; text-decoration: underline\">https://www.amazon.com/gcx/Gifts-for-Everyone/gfhz/?ref_=nav_cs_giftfinder</span><span style=\"color: #008000; text-decoration-color: #008000\">                           |</span>\n",
              "<span style=\"color: #008000; text-decoration-color: #008000\">✓ | ⏱: </span><span style=\"color: #008000; text-decoration-color: #008000; font-weight: bold\">4.</span><span style=\"color: #008000; text-decoration-color: #008000\">38s </span>\n",
              "</pre>\n"
            ]
          },
          "metadata": {}
        },
        {
          "output_type": "display_data",
          "data": {
            "text/plain": [
              "\u001b[1;32m[\u001b[0m\u001b[32mSCRAPE\u001b[0m\u001b[1;32m]\u001b[0m\u001b[32m.. ◆ \u001b[0m\u001b[4;32mhttps://www.amazon.com/gcx/Gifts-for-Everyone/gfhz/?\u001b[0m\u001b[4;32mref_\u001b[0m\u001b[4;32m=\u001b[0m\u001b[4;32mnav_cs_giftfinder\u001b[0m\u001b[32m                           |\u001b[0m\n",
              "\u001b[32m✓\u001b[0m\u001b[32m | ⏱: \u001b[0m\u001b[1;32m0.\u001b[0m\u001b[32m38s \u001b[0m\n"
            ],
            "text/html": [
              "<pre style=\"white-space:pre;overflow-x:auto;line-height:normal;font-family:Menlo,'DejaVu Sans Mono',consolas,'Courier New',monospace\"><span style=\"color: #008000; text-decoration-color: #008000; font-weight: bold\">[</span><span style=\"color: #008000; text-decoration-color: #008000\">SCRAPE</span><span style=\"color: #008000; text-decoration-color: #008000; font-weight: bold\">]</span><span style=\"color: #008000; text-decoration-color: #008000\">.. ◆ </span><span style=\"color: #008000; text-decoration-color: #008000; text-decoration: underline\">https://www.amazon.com/gcx/Gifts-for-Everyone/gfhz/?ref_=nav_cs_giftfinder</span><span style=\"color: #008000; text-decoration-color: #008000\">                           |</span>\n",
              "<span style=\"color: #008000; text-decoration-color: #008000\">✓ | ⏱: </span><span style=\"color: #008000; text-decoration-color: #008000; font-weight: bold\">0.</span><span style=\"color: #008000; text-decoration-color: #008000\">38s </span>\n",
              "</pre>\n"
            ]
          },
          "metadata": {}
        },
        {
          "output_type": "display_data",
          "data": {
            "text/plain": [
              "\u001b[1;32m[\u001b[0m\u001b[32mCOMPLETE\u001b[0m\u001b[1;32m]\u001b[0m\u001b[32m ● \u001b[0m\u001b[4;32mhttps://www.amazon.com/gcx/Gifts-for-Everyone/gfhz/?\u001b[0m\u001b[4;32mref_\u001b[0m\u001b[4;32m=\u001b[0m\u001b[4;32mnav_cs_giftfinder\u001b[0m\u001b[32m                           |\u001b[0m\n",
              "\u001b[32m✓\u001b[0m\u001b[32m | ⏱: \u001b[0m\u001b[1;32m4.\u001b[0m\u001b[32m78s \u001b[0m\n"
            ],
            "text/html": [
              "<pre style=\"white-space:pre;overflow-x:auto;line-height:normal;font-family:Menlo,'DejaVu Sans Mono',consolas,'Courier New',monospace\"><span style=\"color: #008000; text-decoration-color: #008000; font-weight: bold\">[</span><span style=\"color: #008000; text-decoration-color: #008000\">COMPLETE</span><span style=\"color: #008000; text-decoration-color: #008000; font-weight: bold\">]</span><span style=\"color: #008000; text-decoration-color: #008000\"> ● </span><span style=\"color: #008000; text-decoration-color: #008000; text-decoration: underline\">https://www.amazon.com/gcx/Gifts-for-Everyone/gfhz/?ref_=nav_cs_giftfinder</span><span style=\"color: #008000; text-decoration-color: #008000\">                           |</span>\n",
              "<span style=\"color: #008000; text-decoration-color: #008000\">✓ | ⏱: </span><span style=\"color: #008000; text-decoration-color: #008000; font-weight: bold\">4.</span><span style=\"color: #008000; text-decoration-color: #008000\">78s </span>\n",
              "</pre>\n"
            ]
          },
          "metadata": {}
        },
        {
          "output_type": "stream",
          "name": "stdout",
          "text": [
            "Markdown saved to amazon_2025-06-24_03-12-25\n"
          ]
        }
      ]
    },
    {
      "cell_type": "markdown",
      "source": [
        "## Paso 4\n",
        "Se usa un modelo de lenguaje para tomar la información extraida de los markdown de las páginas de producto y extraer la información de interés:\n",
        "\n",
        "\n",
        "\n",
        "```\n",
        "\"ID\": \"identificación del producto\",\n",
        "\"title\": \"nombre del producto\",\n",
        "\"Precio\": \"precio del producto\",\n",
        "\"imagen_url\": \"url de la imagen del producto\"\n",
        "\"descripción\": \"descripción del producto\"\n",
        "\"base_domain\": \"site domain\"\n",
        "\"base_product_uls\": \"url del producto\"\n",
        "```\n",
        "\n"
      ],
      "metadata": {
        "id": "BYH8Xl9G7PnZ"
      },
      "id": "BYH8Xl9G7PnZ"
    },
    {
      "cell_type": "code",
      "source": [
        "import json\n",
        "from google import genai\n",
        "from google.genai import types\n",
        "from google.colab import userdata\n",
        "\n",
        "client = genai.Client(api_key=userdata.get(\"GOOGLE_API_KEY_1\"))\n",
        "\n",
        "model_id = \"gemini-2.0-flash\"\n",
        "\n",
        "system_prompt = \"\"\"\n",
        "Eres un desarrollador experimentado que recibe un archivo markdown con información de un e-commerce con información de productos.\n",
        "dentro de las características extraidas se encuentra la sección a la que pertenece y nombre, url de la imagen, url del producto y precio.\n",
        "\n",
        "Tu tarea es generar un JSON limpio removiendo los bloques de información que no hagan referencia a productos.\n",
        "Remueve los signos de puntuación por la letra sin tilde.\n",
        "\n",
        "Incluye contenido relacionado con productos, usualmente se encuentran por categorías. Por ejemplo:\n",
        "- Salud\n",
        "- Belleza\n",
        "- Vehículos\n",
        "- Alimentos\n",
        "- Moda\n",
        "\n",
        "Excluye contenido que tenga información relacionada con:\n",
        "- Políticas\n",
        "- Terminos y condiciones\n",
        "- Redes sociales\n",
        "\n",
        "\"\"\"\n",
        "prompt = f\"\"\"\n",
        "Ten en cuenta que no puedes agregar otras secciones diferentes a las mencionadas en la salida.\n",
        "\n",
        "Entrada:\n",
        "\"texto: {raw_output[1]}\"\n",
        "\n",
        "la salida debe ser un JSON que contenga la información de cada producto encontrado.\n",
        "No debes agregar información adicional.\n",
        "\n",
        "Salida:\n",
        "\"ID\": \"identificación del producto\",\n",
        "\"title\": \"nombre del producto\",\n",
        "\"Precio\": \"precio del producto\",\n",
        "\"imagen_url\": \"url de la imagen del producto\"\n",
        "\"descripción\": \"descripción del producto\"\n",
        "\"base_domain\": \"site domain\"\n",
        "\"base_product_uls\": \"url del producto\"\n",
        "\"\"\"\n",
        "\n",
        "response = client.models.generate_content(\n",
        "    model=model_id,\n",
        "    contents=prompt,\n",
        "    config=types.GenerateContentConfig(\n",
        "        system_instruction=system_prompt\n",
        "    )\n",
        ")\n",
        "\n",
        "print(response.text)\n",
        "\n",
        "parsed_response = parse_to_dictionary(response.text)\n",
        "\n",
        "products_file_json = f\"{input_file.split('.')[0]}_products.json\"\n",
        "\n",
        "with open(products_file_json, \"w\") as f:\n",
        "  #f.write(response.to_json_dict)\n",
        "  json.dump(parsed_response, f, indent=4, ensure_ascii=False)\n",
        "  print(f\"{products_file_json} ha sido guardado\")\n"
      ],
      "metadata": {
        "colab": {
          "base_uri": "https://localhost:8080/"
        },
        "id": "jkPYpYZeJr-E",
        "outputId": "cc54cc27-6c9c-4ca2-bb50-f94a7339d649"
      },
      "id": "jkPYpYZeJr-E",
      "execution_count": 30,
      "outputs": [
        {
          "output_type": "stream",
          "name": "stdout",
          "text": [
            "```json\n",
            "[\n",
            "  {\n",
            "    \"ID\": \"B0C78DLVJN\",\n",
            "    \"title\": \"ARENA Icons Women's Lorella Team Shorts Training Gym Workout Bottoms MaxDry Fabric High-Rise Tight Fit Elastic Waistband\",\n",
            "    \"Precio\": \"15.43\",\n",
            "    \"imagen_url\": \"https://m.media-amazon.com/images/I/51PrvgkEZeL._SL300_.jpg\",\n",
            "    \"descripcion\": null,\n",
            "    \"categoria\": \"Moda\",\n",
            "    \"base_domain\": \"amazon.com\",\n",
            "    \"base_product_url\": \"/ARENA-Training-High-Rise-Waistband-Drawcord/dp/B0C78DLVJN/\"\n",
            "  },\n",
            "  {\n",
            "    \"ID\": \"B0C9V7DW8N\",\n",
            "    \"title\": \"adidas Men's Seasonal Essential Melange T-Shirt\",\n",
            "    \"Precio\": \"15.69\",\n",
            "    \"imagen_url\": \"https://m.media-amazon.com/images/I/81Z+OeuMhLL._SL300_.jpg\",\n",
            "    \"descripcion\": null,\n",
            "    \"categoria\": \"Moda\",\n",
            "    \"base_domain\": \"amazon.com\",\n",
            "    \"base_product_url\": \"/adidas-Seasonal-Essential-Melange-Preloved/dp/B0C9V7DW8N/\"\n",
            "  },\n",
            "  {\n",
            "    \"ID\": \"B0DPJTFTM5\",\n",
            "    \"title\": \"6 Pack Headbands For Women Fashion Wide Headband Yoga Workout Head Bands Hair Accessories Band\",\n",
            "    \"Precio\": \"3.99\",\n",
            "    \"imagen_url\": \"https://m.media-amazon.com/images/I/816UW7c1mhL._SL300_.jpg\",\n",
            "    \"descripcion\": null,\n",
            "    \"categoria\": \"Moda\",\n",
            "    \"base_domain\": \"amazon.com\",\n",
            "    \"base_product_url\": \"/Headbands-Fashion-Headband-Workout-Accessories/dp/B0DPJTFTM5/\"\n",
            "  },\n",
            "  {\n",
            "    \"ID\": \"B07TVPB1C2\",\n",
            "    \"title\": \"Champion Women's Fashion Seamless Racerback Bra\",\n",
            "    \"Precio\": \"16.42\",\n",
            "    \"imagen_url\": \"https://m.media-amazon.com/images/I/91TwUN5Z5xL._SL300_.jpg\",\n",
            "    \"descripcion\": null,\n",
            "    \"categoria\": \"Moda\",\n",
            "    \"base_domain\": \"amazon.com\",\n",
            "    \"base_product_url\": \"/C9-Champion-Fashion-Seamless-Racerback/dp/B07TVPB1C2/\"\n",
            "  },\n",
            "  {\n",
            "    \"ID\": \"B0DXLFMC1L\",\n",
            "    \"title\": \"Athletic Shorts for Women Elastic High Waisted Summer Beach Shorts Hiking Yoga Active Workout Shorts with Pockets\",\n",
            "    \"Precio\": \"9.29\",\n",
            "    \"imagen_url\": \"https://m.media-amazon.com/images/I/61DJZI4XpRL._SL300_.jpg\",\n",
            "    \"descripcion\": null,\n",
            "    \"categoria\": \"Moda\",\n",
            "    \"base_domain\": \"amazon.com\",\n",
            "    \"base_product_url\": \"/Athletic-Elastic-Waisted-Workout-Pockets/dp/B0DXLFMC1L/\"\n",
            "  },\n",
            "  {\n",
            "    \"ID\": \"B0DS835DMH\",\n",
            "    \"title\": \"3 Pack Sweat Bands Headbands for Women Workout, Soft Sweat Wicking Stretchy Headband for Sports Running Athletic Yoga, Super Absorbent Sports Headband\",\n",
            "    \"Precio\": \"3.59\",\n",
            "    \"imagen_url\": \"https://m.media-amazon.com/images/I/713oAQpZ9RL._SL300_.jpg\",\n",
            "    \"descripcion\": null,\n",
            "    \"categoria\": \"Moda\",\n",
            "    \"base_domain\": \"amazon.com\",\n",
            "    \"base_product_url\": \"/Headbands-Stretchy-Headband-Athletic-Absorbent/dp/B0DS835DMH/\"\n",
            "  },\n",
            "  {\n",
            "    \"ID\": \"B0CMRN6N65\",\n",
            "    \"title\": \"adidas Women's Own The Run Shorts\",\n",
            "    \"Precio\": \"12.68\",\n",
            "    \"imagen_url\": \"https://m.media-amazon.com/images/I/41llZcwqSQL._SL300_.jpg\",\n",
            "    \"descripcion\": null,\n",
            "    \"categoria\": \"Moda\",\n",
            "    \"base_domain\": \"amazon.com\",\n",
            "    \"base_product_url\": \"/adidas-Womens-Shorts-Semi-Spark/dp/B0CMRN6N65/\"\n",
            "  },\n",
            "  {\n",
            "    \"ID\": \"B0DXN4TS6X\",\n",
            "    \"title\": \"Weightlifting Gloves Half Finger & Back of Hand Cutout, Denser Sponge, Non-Slip Palm, and Sweat-Wiping Towel Panel, Light Blue Size M\",\n",
            "    \"Precio\": \"2.99\",\n",
            "    \"imagen_url\": \"https://m.media-amazon.com/images/I/71kATh5FB0L._SL300_.jpg\",\n",
            "    \"descripcion\": null,\n",
            "    \"categoria\": \"Deportes\",\n",
            "    \"base_domain\": \"amazon.com\",\n",
            "    \"base_product_url\": \"/Weightlifting-Gloves-Finger-Non-Slip-Sweat-Wiping/dp/B0DXN4TS6X/\"\n",
            "  },\n",
            "  {\n",
            "    \"ID\": \"B0DS2CT7B9\",\n",
            "    \"title\": \"Women's Workout Running Shorts with Deep Pockets High Waisted Tummy Control Yoga Gym Spandex Biker Short Pants\",\n",
            "    \"Precio\": \"9.99\",\n",
            "    \"imagen_url\": \"https://m.media-amazon.com/images/I/81I+9OEwrDL._SL300_.jpg\",\n",
            "    \"descripcion\": null,\n",
            "    \"categoria\": \"Moda\",\n",
            "    \"base_domain\": \"amazon.com\",\n",
            "    \"base_product_url\": \"/Workout-Running-Pockets-Waisted-Control/dp/B0DS2CT7B9/\"\n",
            "  },\n",
            "  {\n",
            "    \"ID\": \"B0F4R927K1\",\n",
            "    \"title\": \"Travel Bags, Waterproof Expandable Carry On Tote Bag with Wet Dry Inside Compartment, Shoulder Duffle Bag for Sport Gym, Overnight Bag for Women Men, Travel Essentials, Pink\",\n",
            "    \"Precio\": \"6.51\",\n",
            "    \"imagen_url\": \"https://m.media-amazon.com/images/I/51+thJIF6kL._SL300_.jpg\",\n",
            "    \"descripcion\": null,\n",
            "    \"categoria\": \"Moda\",\n",
            "    \"base_domain\": \"amazon.com\",\n",
            "    \"base_product_url\": \"/Travel-Waterproof-Expandable-Compartment-Essentials/dp/B0F4R927K1/\"\n",
            "  },\n",
            "    {\n",
            "        \"ID\": \"B0CJ2TMKG7\",\n",
            "        \"title\": \"200 Count Lens Wipes for Eyeglasses, Eyeglass Lens Cleaning Wipes Pre-moistened Individually Wrapped Sracth-Free Streak-Free Eye Glasses Cleaner Wipes for Sunglass, Camera Lens, Goggles\",\n",
            "        \"Precio\": \"9.99\",\n",
            "        \"imagen_url\": \"https://m.media-amazon.com/images/I/719Kn7EC6fL._SL300_.jpg\",\n",
            "        \"descripcion\": null,\n",
            "        \"categoria\": \"Salud\",\n",
            "        \"base_domain\": \"amazon.com\",\n",
            "        \"base_product_url\": \"/Eyeglasses-Pre-moistened-Individually-Sracth-Free-Streak-Free/dp/B0CJ2TMKG7/\"\n",
            "    },\n",
            "    {\n",
            "        \"ID\": \"B071D4DKTZ\",\n",
            "        \"title\": \"LiCB CR2032 3V Lithium Battery(10-Pack)\",\n",
            "        \"Precio\": \"5.99\",\n",
            "        \"imagen_url\": \"https://m.media-amazon.com/images/I/81Pd4ogDITL._SL300_.jpg\",\n",
            "        \"descripcion\": null,\n",
            "        \"categoria\": \"Electronicos\",\n",
            "        \"base_domain\": \"amazon.com\",\n",
            "        \"base_product_url\": \"/LiCB-CR2032-Lithium-Battery-10-Pack/dp/B071D4DKTZ/\"\n",
            "    },\n",
            "        {\n",
            "        \"ID\": \"B0B3RJ9JFM\",\n",
            "        \"title\": \"Landisun Fruit Fly Traps 48PCS Fungus Gnat-Traps for Indoor-Outdoor Yellow Fruit-Fly Sticky-Trap Plants Flying Bug Insects Traps\",\n",
            "        \"Precio\": \"4.99\",\n",
            "        \"imagen_url\": \"https://m.media-amazon.com/images/I/71VC1ZHz82L._SL300_.jpg\",\n",
            "        \"descripcion\": null,\n",
            "        \"categoria\": \"Alimentos\",\n",
            "        \"base_domain\": \"amazon.com\",\n",
            "        \"base_product_url\": \"/Landisun-Gnat-Traps-Indoor-Outdoor-Fruit-Fly-Trap-Insects/dp/B0B3RJ9JFM/\"\n",
            "    },\n",
            "    {\n",
            "        \"ID\": \"B089R694YM\",\n",
            "        \"title\": \"ARCTIC EAGLE Drain Snake Hair Drain Clog Remover - 3 Pack Shower Snake Sink Unclogger Tool with Exquisite Packaging\",\n",
            "        \"Precio\": \"5.99\",\n",
            "        \"imagen_url\": \"https://m.media-amazon.com/images/I/71ltO3n0-LL._SL300_.jpg\",\n",
            "        \"descripcion\": null,\n",
            "        \"categoria\": \"Home Improvement\",\n",
            "        \"base_domain\": \"amazon.com\",\n",
            "        \"base_product_url\": \"/Remover-Upgrated-Unbreakable-Cleaner-Cleaning/dp/B089R694YM/\"\n",
            "    },\n",
            "    {\n",
            "        \"ID\": \"B00QVNKSA2\",\n",
            "        \"title\": \"Peppermint Essential Oil 4 oz. with Huge Glass Bottle, Glass Dropper, and Sprayer. Detailed User's Guide E-Book. Skin Care, Garden Care, and Hair Care.\",\n",
            "        \"Precio\": \"9.99\",\n",
            "        \"imagen_url\": \"https://m.media-amazon.com/images/I/61NzZH3B6AL._SL300_.jpg\",\n",
            "        \"descripcion\": null,\n",
            "        \"categoria\": \"Belleza\",\n",
            "        \"base_domain\": \"amazon.com\",\n",
            "        \"base_product_url\": \"/Peppermint-Essential-Detailed-Dropper-Essentially/dp/B00QVNKSA2/\"\n",
            "    },\n",
            "    {\n",
            "        \"ID\": \"B0BFJW6X41\",\n",
            "        \"title\": \"Alcedo Sharps Container for Home Use 1 Quart (1-Pack) | Biohazard Needle and Syringe Disposal | Small Portable Container for Travel and Professional Use\",\n",
            "        \"Precio\": \"6.95\",\n",
            "        \"imagen_url\": \"https://m.media-amazon.com/images/I/61WMNeM6iOL._SL300_.jpg\",\n",
            "        \"descripcion\": null,\n",
            "        \"categoria\": \"Salud\",\n",
            "        \"base_domain\": \"amazon.com\",\n",
            "        \"base_product_url\": \"/Alcedo-Container-Biohazard-Disposal-Professional/dp/B0BFJW6X41/\"\n",
            "    },\n",
            "    {\n",
            "        \"ID\": \"B09TQS634Y\",\n",
            "        \"title\": \"Silicon Power 128GB Micro SD Card U3 SDXC Up to 100MB/s High Speed Memory Card for Cams, DJI Pocket and Drones\",\n",
            "        \"Precio\": \"8.99\",\n",
            "        \"imagen_url\": \"https://m.media-amazon.com/images/I/61frfNvqM-L._SL300_.jpg\",\n",
            "        \"descripcion\": null,\n",
            "        \"categoria\": \"Electronicos\",\n",
            "        \"base_domain\": \"amazon.com\",\n",
            "        \"base_product_url\": \"/Silicon-Power-Memory-Adapter-Drones/dp/B09TQS634Y/\"\n",
            "    },\n",
            "    {\n",
            "        \"ID\": \"B078RMCFWQ\",\n",
            "        \"title\": \"Grabber Reacher Tool, 32\\\" Grabbers for Elderly, Lightweight Extra Long Handy Trash Claw Grabber, Mobility Aid Reaching Assist Tool for Trash Pick Up, Nabber, Litter Picker, Arm Extension\",\n",
            "        \"Precio\": \"9.99\",\n",
            "        \"imagen_url\": \"https://m.media-amazon.com/images/I/61hb+1YlFpL._SL300_.jpg\",\n",
            "        \"descripcion\": null,\n",
            "        \"categoria\": \"Salud\",\n",
            "        \"base_domain\": \"amazon.com\",\n",
            "        \"base_product_url\": \"/Reacher-Foldable-Lightweight-Reaching-Extension/dp/B078RMCFWQ/\"\n",
            "    },\n",
            "    {\n",
            "        \"ID\": \"B0CCP23M6K\",\n",
            "        \"title\": \"MEICOLY Red White and Blue Body Glitter,4th of July Accessories Hair Glitter for Kids,4th of July Outfits for Women,Fourth of July Patriotic Face Glitter for President's Day Patriotic Veterans Day\",\n",
            "        \"Precio\": \"8.98\",\n",
            "        \"imagen_url\": \"https://m.media-amazon.com/images/I/71bSgIDKmnL._SL300_.jpg\",\n",
            "        \"descripcion\": null,\n",
            "        \"categoria\": \"Belleza\",\n",
            "        \"base_domain\": \"amazon.com\",\n",
            "        \"base_product_url\": \"/MEICOLY-Patriotic-Independence-Accessories-Sparkling/dp/B0CCP23M6K/\"\n",
            "    },\n",
            "     {\n",
            "        \"ID\": \"B0B9CDZ9BL\",\n",
            "        \"title\": \"maxtek Magnetic Whiteboard Markers - 12 Count Colorful Fine Tip Dry Erase Markers with Eraser for Kids, Low Odor Thin Markers for Calendar Boards\",\n",
            "        \"Precio\": \"6.99\",\n",
            "        \"imagen_url\": \"https://m.media-amazon.com/images/I/71oE85EPMaL._SL300_.jpg\",\n",
            "        \"descripcion\": null,\n",
            "        \"categoria\": \"Alimentos\",\n",
            "        \"base_domain\": \"amazon.com\",\n",
            "        \"base_product_url\": \"/maxtek-Magnetic-Whiteboard-Colorful-Classroom/dp/B0B9CDZ9BL/\"\n",
            "    }\n",
            "]\n",
            "```\n",
            "amazon_2025-06-24_02-55-44_cleaned_products.json ha sido guardado\n"
          ]
        }
      ]
    }
  ],
  "metadata": {
    "colab": {
      "provenance": [],
      "include_colab_link": true
    },
    "kernelspec": {
      "display_name": "venv",
      "language": "python",
      "name": "python3"
    },
    "language_info": {
      "codemirror_mode": {
        "name": "ipython",
        "version": 3
      },
      "file_extension": ".py",
      "mimetype": "text/x-python",
      "name": "python",
      "nbconvert_exporter": "python",
      "pygments_lexer": "ipython3",
      "version": "3.10.13"
    }
  },
  "nbformat": 4,
  "nbformat_minor": 5
}